{
  "cells": [
    {
      "cell_type": "markdown",
      "metadata": {
        "id": "view-in-github",
        "colab_type": "text"
      },
      "source": [
        "<a href=\"https://colab.research.google.com/github/ailab-nda/ML/blob/main/matrix_decomp.ipynb\" target=\"_parent\"><img src=\"https://colab.research.google.com/assets/colab-badge.svg\" alt=\"Open In Colab\"/></a>"
      ]
    },
    {
      "cell_type": "markdown",
      "metadata": {
        "id": "g9_a8xyJbLfC"
      },
      "source": [
        "# 固有値分解・特異値分解の例"
      ]
    },
    {
      "cell_type": "markdown",
      "metadata": {
        "id": "s7xPC3KkbLfE"
      },
      "source": [
        "### ライブラリのインポート"
      ]
    },
    {
      "cell_type": "code",
      "execution_count": null,
      "metadata": {
        "id": "JQMggdQCbLfF"
      },
      "outputs": [],
      "source": [
        "# linalgモジュールはLAとしてimportする\n",
        "import numpy as np\n",
        "import numpy.linalg as LA"
      ]
    },
    {
      "cell_type": "markdown",
      "metadata": {
        "id": "MVTk7UbcbLfF"
      },
      "source": [
        "### 行列の生成"
      ]
    },
    {
      "cell_type": "code",
      "execution_count": null,
      "metadata": {
        "id": "k_M0FDC3bLfF"
      },
      "outputs": [],
      "source": [
        "#2次正方行列Aを定義する\n",
        "A = np.array([[5, 2],[2, 5]])\n",
        "\n",
        "#非正方行列Aを定義する\n",
        "A = np.array([[2, 4, 1, 3], [1, 5, 3, 2], [5, 7, 0, 7]])\n",
        "print(A)"
      ]
    },
    {
      "cell_type": "markdown",
      "metadata": {
        "id": "duV9bP_WbLfG"
      },
      "source": [
        "## 1. 固有値分解"
      ]
    },
    {
      "cell_type": "code",
      "execution_count": null,
      "metadata": {
        "id": "382_QEjsbLfG"
      },
      "outputs": [],
      "source": [
        "# 2 次正方行列 Aの固有値、固有ベクトルPを計算する\n",
        "l, P = LA.eig(A)\n",
        "print(\"固有値\")\n",
        "print(l)  # 固有値\n",
        "print(\"固有ベクトル P \")\n",
        "print(P)  # 固有ベクトル(正規化済)\n",
        "\n",
        "#対角行列D、Pの逆行列P-1を定義\n",
        "D = np.array([[l[0],0],[0,l[1]]])\n",
        "Pinv = LA.inv(P)\n",
        "\n",
        "#固有値分解の確認（P＊D＊P-1） 行列Aが算出される\n",
        "print(\"固有値分解 確認 A = P x D x P-1\")\n",
        "\n",
        "print(np.dot(np.dot(P,D),Pinv))"
      ]
    },
    {
      "cell_type": "markdown",
      "metadata": {
        "id": "7o_c4RnmbLfG"
      },
      "source": [
        "## 2. 特異値分解"
      ]
    },
    {
      "cell_type": "code",
      "execution_count": null,
      "metadata": {
        "id": "E-gz0NoZbLfG"
      },
      "outputs": [],
      "source": [
        "# 2 次正方行列 U,Σ,V(転置行列)を求める\n",
        "U, S, Vt = LA.svd(A, full_matrices=False)\n",
        "print(\"左特異値ベクトルを列として並べた２次正方行列 U\")\n",
        "print(U)\n",
        "print(\"特異値以外を0で埋めた２次正方行列 Σ\")\n",
        "Sigma = np.diag(S)\n",
        "print(Sigma)\n",
        "print(\"右特異値ベクトルを列として並べた２次正方行列 V\")\n",
        "print(Vt)\n",
        "\n",
        "#特異値分解の確認（U＊Σ＊Vt） 行列Aが算出される\n",
        "print(\"特異値分解 確認 A = U x Σ x Vt\")\n",
        "print(np.dot(np.dot(U,Sigma),Vt))"
      ]
    },
    {
      "cell_type": "markdown",
      "metadata": {
        "id": "sjUFIzhEbLfH"
      },
      "source": [
        "## 3. Moore-Penrose 擬似逆行列"
      ]
    },
    {
      "cell_type": "code",
      "execution_count": null,
      "metadata": {
        "id": "VIqenS8DbLfH"
      },
      "outputs": [],
      "source": [
        "Aplus = LA.pinv(A)\n",
        "print('行列 A')\n",
        "print(A)\n",
        "print(\"擬似逆行列 A+\")\n",
        "print(Aplus)"
      ]
    },
    {
      "cell_type": "code",
      "execution_count": null,
      "metadata": {
        "id": "U05QSrM8bLfH"
      },
      "outputs": [],
      "source": [
        "np.dot(A, Aplus)"
      ]
    }
  ],
  "metadata": {
    "kernelspec": {
      "display_name": "Python 3",
      "language": "python",
      "name": "python3"
    },
    "language_info": {
      "codemirror_mode": {
        "name": "ipython",
        "version": 3
      },
      "file_extension": ".py",
      "mimetype": "text/x-python",
      "name": "python",
      "nbconvert_exporter": "python",
      "pygments_lexer": "ipython3",
      "version": "3.11.5"
    },
    "colab": {
      "provenance": [],
      "include_colab_link": true
    }
  },
  "nbformat": 4,
  "nbformat_minor": 0
}