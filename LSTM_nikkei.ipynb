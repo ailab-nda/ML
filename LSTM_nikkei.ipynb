{
  "nbformat": 4,
  "nbformat_minor": 0,
  "metadata": {
    "colab": {
      "provenance": [],
      "authorship_tag": "ABX9TyPbExrflM61AJNouEeR6SdN",
      "include_colab_link": true
    },
    "kernelspec": {
      "name": "python3",
      "display_name": "Python 3"
    },
    "language_info": {
      "name": "python"
    }
  },
  "cells": [
    {
      "cell_type": "markdown",
      "metadata": {
        "id": "view-in-github",
        "colab_type": "text"
      },
      "source": [
        "<a href=\"https://colab.research.google.com/github/ailab-nda/ML/blob/main/LSTM_nikkei.ipynb\" target=\"_parent\"><img src=\"https://colab.research.google.com/assets/colab-badge.svg\" alt=\"Open In Colab\"/></a>"
      ]
    },
    {
      "cell_type": "markdown",
      "source": [
        "# LSTM モデルを用いた時系列データの予測問題\n",
        "https://www.koi.mashykom.com/lstm.html"
      ],
      "metadata": {
        "id": "-v9qShx6I6qR"
      }
    },
    {
      "cell_type": "markdown",
      "source": [
        "株価のデータは以下のリンクよりダウンロードしておく --> **https**://finance.yahoo.com/quote/%5EN225/history?p=%5EN225"
      ],
      "metadata": {
        "id": "TVae___EJD0o"
      }
    },
    {
      "cell_type": "markdown",
      "source": [
        "データをプロットしてみる。\n",
        "（usecols=[4] ... 4列目を使用）"
      ],
      "metadata": {
        "id": "q5Ngscp7JPE3"
      }
    },
    {
      "cell_type": "code",
      "execution_count": null,
      "metadata": {
        "id": "YnIPkLd6HEF0"
      },
      "outputs": [],
      "source": [
        "import pandas\n",
        "import matplotlib.pyplot as plt\n",
        "dataframe = pandas.read_csv('N225.csv', usecols=[4], engine='python', skipfooter=1)\n",
        "dataset = dataframe.values\n",
        "dataset = dataset.astype('float32')\n",
        "plt.plot(dataset)\n",
        "plt.show()"
      ]
    },
    {
      "cell_type": "markdown",
      "source": [
        "データの数値を[0,1]の範囲に正規化する。"
      ],
      "metadata": {
        "id": "m5x0mYpjJss6"
      }
    },
    {
      "cell_type": "code",
      "source": [
        "import numpy as np\n",
        "import matplotlib.pyplot as plt\n",
        "import math\n",
        "from keras.models import Sequential\n",
        "from keras.layers import Dense, LSTM\n",
        "from sklearn.preprocessing import MinMaxScaler\n",
        "from sklearn.metrics import mean_squared_error\n",
        "\n",
        "# fix random seed for reproducibility\n",
        "np.random.seed(7)\n",
        "\n",
        "# normalize the dataset\n",
        "scaler = MinMaxScaler(feature_range=(0, 1))\n",
        "dataset = scaler.fit_transform(dataset)\n",
        "\n",
        "# split into train and test sets\n",
        "train_size = int(len(dataset) * 0.7)\n",
        "test_size = len(dataset) - train_size\n",
        "train, test = dataset[0:train_size,:], dataset[train_size:len(dataset),:]\n",
        "print(len(train), len(test))"
      ],
      "metadata": {
        "id": "ftDYYe84HPH8"
      },
      "execution_count": null,
      "outputs": []
    },
    {
      "cell_type": "markdown",
      "source": [
        "データセットの変換\n",
        "\n",
        "X が与えられた時間 (t, t-1, t-2) における株価、Y が時間 (t + 1) における株価であるようなデータセットを作成する。"
      ],
      "metadata": {
        "id": "rNCXpld2KC53"
      }
    },
    {
      "cell_type": "code",
      "source": [
        "# convert an array of values into a dataset matrix\n",
        "def create_dataset(dataset, maxlen):\n",
        "    dataX, dataY = [], []\n",
        "    for i in range(len(dataset)-maxlen-1):\n",
        "        a = dataset[i:(i+maxlen), 0]\n",
        "        dataX.append(a)\n",
        "        dataY.append(dataset[i + maxlen, 0])\n",
        "    return np.array(dataX), np.array(dataY)\n",
        "\n",
        "# reshape into X=t and Y=t+maxlen\n",
        "maxlen = 3\n",
        "trainX, trainY = create_dataset(train, maxlen)\n",
        "testX, testY = create_dataset(test, maxlen)\n",
        "\n",
        "print (trainX[:10,:])\n",
        "print (trainY[:10])\n",
        "\n",
        "# reshape input to be [samples, time steps, features]\n",
        "trainX = np.reshape(trainX, (trainX.shape[0], 1, trainX.shape[1]))\n",
        "testX = np.reshape(testX, (testX.shape[0], 1, testX.shape[1]))\n",
        "print(trainX[:10,:])"
      ],
      "metadata": {
        "id": "IdV8LnegHLpH"
      },
      "execution_count": null,
      "outputs": []
    },
    {
      "cell_type": "markdown",
      "source": [
        "LSTMモデルを作成し、学習させる。"
      ],
      "metadata": {
        "id": "gac9qHBiKRSL"
      }
    },
    {
      "cell_type": "code",
      "source": [
        "# create and fit the LSTM network\n",
        "model = Sequential()\n",
        "model.add(LSTM(4, input_shape=(1, maxlen)))\n",
        "model.add(Dense(1))\n",
        "model.compile(loss='mean_squared_error', optimizer='adam')\n",
        "model.fit(trainX, trainY, epochs=100, batch_size=1, verbose=2)"
      ],
      "metadata": {
        "id": "DMuP3MlfIdAB"
      },
      "execution_count": null,
      "outputs": []
    },
    {
      "cell_type": "markdown",
      "source": [
        "訓練および予測結果を表示する。"
      ],
      "metadata": {
        "id": "63xPdvtZKVvu"
      }
    },
    {
      "cell_type": "code",
      "source": [
        "# make predictions\n",
        "trainPredict = model.predict(trainX)\n",
        "testPredict = model.predict(testX)\n",
        "# invert predictions\n",
        "trainPredict = scaler.inverse_transform(trainPredict)\n",
        "trainY = scaler.inverse_transform([trainY])\n",
        "testPredict = scaler.inverse_transform(testPredict)\n",
        "testY = scaler.inverse_transform([testY])\n",
        "# calculate RMSE( root mean squared error)\n",
        "trainScore = math.sqrt(mean_squared_error(trainY[0], trainPredict[:,0]))\n",
        "print('Train Score: %.2f RMSE' % (trainScore))\n",
        "testScore = math.sqrt(mean_squared_error(testY[0], testPredict[:,0]))\n",
        "print('Test Score: %.2f RMSE' % (testScore))\n",
        "\n",
        "# shift train predictions for plotting\n",
        "trainPredictPlot = np.empty_like(dataset)\n",
        "trainPredictPlot[:, :] = np.nan\n",
        "trainPredictPlot[maxlen:len(trainPredict)+maxlen, :] = trainPredict\n",
        "# shift test predictions for plotting\n",
        "testPredictPlot = np.empty_like(dataset)\n",
        "testPredictPlot[:, :] = np.nan\n",
        "testPredictPlot[len(trainPredict)+(maxlen*2)+1:len(dataset)-1, :] = testPredict\n",
        "# plot baseline and predictions\n",
        "plt.plot(scaler.inverse_transform(dataset), color =\"g\", label = \"row\")\n",
        "plt.plot(trainPredictPlot,color=\"b\", label=\"trainpredict\")\n",
        "plt.plot(testPredictPlot,color=\"m\", label=\"testpredict\")\n",
        "\n",
        "plt.legend()\n",
        "plt.show()"
      ],
      "metadata": {
        "id": "3fANaA1KIou5"
      },
      "execution_count": null,
      "outputs": []
    },
    {
      "cell_type": "code",
      "source": [],
      "metadata": {
        "id": "wEB3EHDqI1CF"
      },
      "execution_count": null,
      "outputs": []
    }
  ]
}