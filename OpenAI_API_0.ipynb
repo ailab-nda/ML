{
  "nbformat": 4,
  "nbformat_minor": 0,
  "metadata": {
    "colab": {
      "provenance": [],
      "authorship_tag": "ABX9TyPv3FkV5O5VvyAGX9MBM5em",
      "include_colab_link": true
    },
    "kernelspec": {
      "name": "python3",
      "display_name": "Python 3"
    },
    "language_info": {
      "name": "python"
    }
  },
  "cells": [
    {
      "cell_type": "markdown",
      "metadata": {
        "id": "view-in-github",
        "colab_type": "text"
      },
      "source": [
        "<a href=\"https://colab.research.google.com/github/ailab-nda/ML/blob/main/OpenAI_API_0.ipynb\" target=\"_parent\"><img src=\"https://colab.research.google.com/assets/colab-badge.svg\" alt=\"Open In Colab\"/></a>"
      ]
    },
    {
      "cell_type": "markdown",
      "source": [
        "# API を利用したAIプログラミング"
      ],
      "metadata": {
        "id": "mK5SG8iJqsF9"
      }
    },
    {
      "cell_type": "markdown",
      "source": [
        "## API とは\n",
        "APIは、AIベンダーが提供する人工知能のAPI（Application Programming Interface）です。このAPIを使用することで、開発者は自然言語処理タスクや他のAI関連のタスクを実行するために、AIモデルを利用することができます。\n",
        "\n",
        "**APIの利用には料金がかかります。**料金はAPIの使用量に基づいており、APIのエンドポイントの呼び出し回数や生成されたテキストの量に応じて請求されます。詳細な料金体系については、各ベンダの公式ウェブサイトや料金ページを参照ください。"
      ],
      "metadata": {
        "id": "X3rWXE-rk7uT"
      }
    },
    {
      "cell_type": "markdown",
      "source": [
        "## OpenAI APIでできること\n",
        "\n",
        "ここでは、OpenAIが提供するAPIを用います．OpenAI APIは、言語生成（text generation）、文章の要約（text summarization）、質問応答（question answering）、文章翻訳（text translation）など、さまざまなタスクに対応しています。これにより、開発者はさまざまな自然言語処理のニーズに応じてAPIを利用することができます。"
      ],
      "metadata": {
        "id": "wPazMxvylSgX"
      }
    },
    {
      "cell_type": "markdown",
      "source": [
        "## APIを利用するメリット\n",
        "\n",
        "APIを利用することで、開発者は高度な自然言語処理タスクを実行するための大規模な学習データと強力なモデルにアクセスすることができます。また、APIの利用は簡単で柔軟であり、既存のアプリケーションやサービスに統合することも容易です。"
      ],
      "metadata": {
        "id": "zj2qdrYDlZBR"
      }
    },
    {
      "cell_type": "markdown",
      "source": [
        "## ライブラリのインストール"
      ],
      "metadata": {
        "id": "TO_jmyKqq0WE"
      }
    },
    {
      "cell_type": "code",
      "source": [
        "!pip install openai"
      ],
      "metadata": {
        "id": "YIIRXiFhq26Y"
      },
      "execution_count": null,
      "outputs": []
    },
    {
      "cell_type": "markdown",
      "source": [
        "## ライブラリのインポート"
      ],
      "metadata": {
        "id": "91-MsjfkuOyR"
      }
    },
    {
      "cell_type": "code",
      "execution_count": null,
      "metadata": {
        "id": "5MRdRD5EqiRx"
      },
      "outputs": [],
      "source": [
        "import IPython.display\n",
        "from IPython.display import Javascript\n",
        "from google.colab import output\n",
        "import openai\n",
        "from openai import OpenAI\n",
        "import os\n",
        "api_key = \"\"#@param {type:\"string\"}\n",
        "os.environ['OPENAI_API_KEY'] = api_key"
      ]
    },
    {
      "cell_type": "markdown",
      "source": [
        "## 0. 準備"
      ],
      "metadata": {
        "id": "1zPrOp_7pW6l"
      }
    },
    {
      "cell_type": "markdown",
      "source": [
        "画面の端まで行ったら改行させる設定"
      ],
      "metadata": {
        "id": "xKjE5ZKawjaw"
      }
    },
    {
      "cell_type": "code",
      "source": [
        "from IPython.display import HTML, display\n",
        "\n",
        "def set_css():\n",
        "  display(HTML('''\n",
        "  <style>\n",
        "    pre {\n",
        "        white-space: pre-wrap;\n",
        "    }\n",
        "  </style>\n",
        "  '''))\n",
        "get_ipython().events.register('pre_run_cell', set_css)"
      ],
      "metadata": {
        "id": "t0Mor7rhwiOP"
      },
      "execution_count": null,
      "outputs": []
    },
    {
      "cell_type": "markdown",
      "source": [
        "## ChatGPT との会話\n",
        "注：APIを利用する場合には，会話データは収集されません（重要）"
      ],
      "metadata": {
        "id": "tqoq6VdTuUa7"
      }
    },
    {
      "cell_type": "markdown",
      "source": [
        "（１） 一度に答える場合"
      ],
      "metadata": {
        "id": "dT_CSOAMv36J"
      }
    },
    {
      "cell_type": "code",
      "source": [
        "from openai import OpenAI\n",
        "client = OpenAI()\n",
        "\n",
        "completion = client.chat.completions.create(\n",
        "  model=\"gpt-3.5-turbo\",\n",
        "  messages=[\n",
        "    {\"role\": \"system\", \"content\": \"あなたは有能なアシスタントです．\"}, # <-- 会話相手の設定\n",
        "    {\"role\": \"user\", \"content\": \"私はこの先どのように生きていったらいいでしょうか？\"} # <-- こちらかの質問\n",
        "  ]\n",
        ")\n",
        "\n",
        "text = completion.choices[0].message.content\n",
        "print(text)"
      ],
      "metadata": {
        "id": "12exXi4Ru-NJ"
      },
      "execution_count": null,
      "outputs": []
    },
    {
      "cell_type": "markdown",
      "source": [
        "（２）　徐々に答える場合 --> stream=True, chunk の利用"
      ],
      "metadata": {
        "id": "hG7ivxBPv7UL"
      }
    },
    {
      "cell_type": "code",
      "source": [
        "from openai import OpenAI\n",
        "\n",
        "client = OpenAI()\n",
        "\n",
        "stream = client.chat.completions.create(\n",
        "    model=\"gpt-3.5-turbo\",\n",
        "    messages=[\n",
        "      {\"role\": \"system\", \"content\": \"あなたは有能なアシスタントです．\"}, # <-- 会話相手の設定\n",
        "      {\"role\": \"user\", \"content\": \"私はこの先どのように生きていったらいいでしょうか？\"} # <-- こちらかの質問\n",
        "    ],\n",
        "    stream=True,\n",
        ")\n",
        "\n",
        "for chunk in stream:\n",
        "    if chunk.choices[0].delta.content is not None:\n",
        "        print(chunk.choices[0].delta.content, end=\"\")"
      ],
      "metadata": {
        "id": "-SALRjDLuKVU"
      },
      "execution_count": null,
      "outputs": []
    },
    {
      "cell_type": "markdown",
      "source": [
        "# 課題\n",
        "会話の相手をカスタマイズせよ。\n",
        "- 特定の事柄に詳しい：アニメ、漫画、映画、音楽、...\n",
        "- 受け答えが特徴的：ツンデレ、方言、語尾、...\n",
        "\n",
        "設定箇所：{\"role\":\"system\", \"content\": \"ここの部分\"}"
      ],
      "metadata": {
        "id": "0mXWHfTvuEyp"
      }
    },
    {
      "cell_type": "code",
      "source": [],
      "metadata": {
        "id": "OFzVRJBqxIkp"
      },
      "execution_count": null,
      "outputs": []
    }
  ]
}