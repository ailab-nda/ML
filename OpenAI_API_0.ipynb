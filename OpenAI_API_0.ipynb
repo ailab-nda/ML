{
  "nbformat": 4,
  "nbformat_minor": 0,
  "metadata": {
    "colab": {
      "provenance": [],
      "authorship_tag": "ABX9TyPAfrQT2I1TUfuWfLlesBvy",
      "include_colab_link": true
    },
    "kernelspec": {
      "name": "python3",
      "display_name": "Python 3"
    },
    "language_info": {
      "name": "python"
    }
  },
  "cells": [
    {
      "cell_type": "markdown",
      "metadata": {
        "id": "view-in-github",
        "colab_type": "text"
      },
      "source": [
        "<a href=\"https://colab.research.google.com/github/ailab-nda/ML/blob/main/OpenAI_API_0.ipynb\" target=\"_parent\"><img src=\"https://colab.research.google.com/assets/colab-badge.svg\" alt=\"Open In Colab\"/></a>"
      ]
    },
    {
      "cell_type": "markdown",
      "source": [
        "# API を利用したAIプログラミング"
      ],
      "metadata": {
        "id": "mK5SG8iJqsF9"
      }
    },
    {
      "cell_type": "markdown",
      "source": [
        "## API とは\n",
        "APIは、AIベンダーが提供する人工知能のAPI（Application Programming Interface）です。このAPIを使用することで、開発者は自然言語処理タスクや他のAI関連のタスクを実行するために、AIモデルを利用することができます。\n",
        "\n",
        "**APIの利用には料金がかかります。**料金はAPIの使用量に基づいており、APIのエンドポイントの呼び出し回数や生成されたテキストの量に応じて請求されます。詳細な料金体系については、各ベンダの公式ウェブサイトや料金ページを参照ください。"
      ],
      "metadata": {
        "id": "X3rWXE-rk7uT"
      }
    },
    {
      "cell_type": "markdown",
      "source": [
        "## OpenAI APIでできること\n",
        "\n",
        "ここでは、OpenAIが提供するAPIを用います．OpenAI APIは、言語生成（text generation）、文章の要約（text summarization）、質問応答（question answering）、文章翻訳（text translation）など、さまざまなタスクに対応しています。これにより、開発者はさまざまな自然言語処理のニーズに応じてAPIを利用することができます。"
      ],
      "metadata": {
        "id": "wPazMxvylSgX"
      }
    },
    {
      "cell_type": "markdown",
      "source": [
        "## APIを利用するメリット\n",
        "\n",
        "APIを利用することで、開発者は高度な自然言語処理タスクを実行するための大規模な学習データと強力なモデルにアクセスすることができます。また、APIの利用は簡単で柔軟であり、既存のアプリケーションやサービスに統合することも容易です。"
      ],
      "metadata": {
        "id": "zj2qdrYDlZBR"
      }
    },
    {
      "cell_type": "markdown",
      "source": [
        "## ライブラリのインストール"
      ],
      "metadata": {
        "id": "TO_jmyKqq0WE"
      }
    },
    {
      "cell_type": "code",
      "source": [
        "#!apt install libasound2-dev portaudio19-dev libportaudio2 libportaudiocpp0 ffmpeg gTTs pydub\n",
        "!pip install openai"
      ],
      "metadata": {
        "id": "YIIRXiFhq26Y",
        "outputId": "0416212b-5007-48c3-e0b2-6d81de0aec88",
        "colab": {
          "base_uri": "https://localhost:8080/"
        }
      },
      "execution_count": 1,
      "outputs": [
        {
          "output_type": "stream",
          "name": "stdout",
          "text": [
            "Collecting openai\n",
            "  Downloading openai-1.25.2-py3-none-any.whl (312 kB)\n",
            "\u001b[2K     \u001b[90m━━━━━━━━━━━━━━━━━━━━━━━━━━━━━━━━━━━━━━━━\u001b[0m \u001b[32m312.9/312.9 kB\u001b[0m \u001b[31m3.1 MB/s\u001b[0m eta \u001b[36m0:00:00\u001b[0m\n",
            "\u001b[?25hRequirement already satisfied: anyio<5,>=3.5.0 in /usr/local/lib/python3.10/dist-packages (from openai) (3.7.1)\n",
            "Requirement already satisfied: distro<2,>=1.7.0 in /usr/lib/python3/dist-packages (from openai) (1.7.0)\n",
            "Collecting httpx<1,>=0.23.0 (from openai)\n",
            "  Downloading httpx-0.27.0-py3-none-any.whl (75 kB)\n",
            "\u001b[2K     \u001b[90m━━━━━━━━━━━━━━━━━━━━━━━━━━━━━━━━━━━━━━━━\u001b[0m \u001b[32m75.6/75.6 kB\u001b[0m \u001b[31m7.2 MB/s\u001b[0m eta \u001b[36m0:00:00\u001b[0m\n",
            "\u001b[?25hRequirement already satisfied: pydantic<3,>=1.9.0 in /usr/local/lib/python3.10/dist-packages (from openai) (2.7.1)\n",
            "Requirement already satisfied: sniffio in /usr/local/lib/python3.10/dist-packages (from openai) (1.3.1)\n",
            "Requirement already satisfied: tqdm>4 in /usr/local/lib/python3.10/dist-packages (from openai) (4.66.2)\n",
            "Requirement already satisfied: typing-extensions<5,>=4.7 in /usr/local/lib/python3.10/dist-packages (from openai) (4.11.0)\n",
            "Requirement already satisfied: idna>=2.8 in /usr/local/lib/python3.10/dist-packages (from anyio<5,>=3.5.0->openai) (3.7)\n",
            "Requirement already satisfied: exceptiongroup in /usr/local/lib/python3.10/dist-packages (from anyio<5,>=3.5.0->openai) (1.2.1)\n",
            "Requirement already satisfied: certifi in /usr/local/lib/python3.10/dist-packages (from httpx<1,>=0.23.0->openai) (2024.2.2)\n",
            "Collecting httpcore==1.* (from httpx<1,>=0.23.0->openai)\n",
            "  Downloading httpcore-1.0.5-py3-none-any.whl (77 kB)\n",
            "\u001b[2K     \u001b[90m━━━━━━━━━━━━━━━━━━━━━━━━━━━━━━━━━━━━━━━━\u001b[0m \u001b[32m77.9/77.9 kB\u001b[0m \u001b[31m6.6 MB/s\u001b[0m eta \u001b[36m0:00:00\u001b[0m\n",
            "\u001b[?25hCollecting h11<0.15,>=0.13 (from httpcore==1.*->httpx<1,>=0.23.0->openai)\n",
            "  Downloading h11-0.14.0-py3-none-any.whl (58 kB)\n",
            "\u001b[2K     \u001b[90m━━━━━━━━━━━━━━━━━━━━━━━━━━━━━━━━━━━━━━━━\u001b[0m \u001b[32m58.3/58.3 kB\u001b[0m \u001b[31m5.8 MB/s\u001b[0m eta \u001b[36m0:00:00\u001b[0m\n",
            "\u001b[?25hRequirement already satisfied: annotated-types>=0.4.0 in /usr/local/lib/python3.10/dist-packages (from pydantic<3,>=1.9.0->openai) (0.6.0)\n",
            "Requirement already satisfied: pydantic-core==2.18.2 in /usr/local/lib/python3.10/dist-packages (from pydantic<3,>=1.9.0->openai) (2.18.2)\n",
            "Installing collected packages: h11, httpcore, httpx, openai\n",
            "Successfully installed h11-0.14.0 httpcore-1.0.5 httpx-0.27.0 openai-1.25.2\n"
          ]
        }
      ]
    },
    {
      "cell_type": "markdown",
      "source": [
        "## ライブラリのインポート"
      ],
      "metadata": {
        "id": "91-MsjfkuOyR"
      }
    },
    {
      "cell_type": "code",
      "execution_count": 2,
      "metadata": {
        "id": "5MRdRD5EqiRx"
      },
      "outputs": [],
      "source": [
        "import IPython.display\n",
        "from IPython.display import Javascript\n",
        "from google.colab import output\n",
        "import openai\n",
        "from openai import OpenAI\n",
        "import os\n",
        "os.environ['OPENAI_API_KEY'] = \"sk-proj-qADl0KBFDBHu4wlEJxJST3BlbkFJrNbB7JqaWcfGd2v8Y6mY\" # ここに API Key を記入"
      ]
    },
    {
      "cell_type": "markdown",
      "source": [
        "## 0. 準備"
      ],
      "metadata": {
        "id": "1zPrOp_7pW6l"
      }
    },
    {
      "cell_type": "markdown",
      "source": [
        "画面の端まで行ったら改行させる設定"
      ],
      "metadata": {
        "id": "xKjE5ZKawjaw"
      }
    },
    {
      "cell_type": "code",
      "source": [
        "from IPython.display import HTML, display\n",
        "\n",
        "def set_css():\n",
        "  display(HTML('''\n",
        "  <style>\n",
        "    pre {\n",
        "        white-space: pre-wrap;\n",
        "    }\n",
        "  </style>\n",
        "  '''))\n",
        "get_ipython().events.register('pre_run_cell', set_css)"
      ],
      "metadata": {
        "id": "t0Mor7rhwiOP"
      },
      "execution_count": 3,
      "outputs": []
    },
    {
      "cell_type": "markdown",
      "source": [
        "## ChatGPT との会話\n",
        "注：APIを利用する場合には，会話データは収集されません（重要）"
      ],
      "metadata": {
        "id": "tqoq6VdTuUa7"
      }
    },
    {
      "cell_type": "markdown",
      "source": [
        "（１） 一度に答える場合"
      ],
      "metadata": {
        "id": "dT_CSOAMv36J"
      }
    },
    {
      "cell_type": "code",
      "source": [
        "from openai import OpenAI\n",
        "client = OpenAI()\n",
        "\n",
        "completion = client.chat.completions.create(\n",
        "  model=\"gpt-3.5-turbo\",\n",
        "  messages=[\n",
        "    {\"role\": \"system\", \"content\": \"あなたは有能なアシスタントです．\"}, # <-- 会話相手の設定\n",
        "    {\"role\": \"user\", \"content\": \"私はこの先どのように生きていったらいいでしょうか？\"} # <-- こちらかの質問\n",
        "  ]\n",
        ")\n",
        "\n",
        "text = completion.choices[0].message.content\n",
        "print(text)"
      ],
      "metadata": {
        "id": "12exXi4Ru-NJ",
        "outputId": "3d2415ab-c257-4a0f-b389-0894c148d599",
        "colab": {
          "base_uri": "https://localhost:8080/",
          "height": 187
        }
      },
      "execution_count": 4,
      "outputs": [
        {
          "output_type": "display_data",
          "data": {
            "text/plain": [
              "<IPython.core.display.HTML object>"
            ],
            "text/html": [
              "\n",
              "  <style>\n",
              "    pre {\n",
              "        white-space: pre-wrap;\n",
              "    }\n",
              "  </style>\n",
              "  "
            ]
          },
          "metadata": {}
        },
        {
          "output_type": "stream",
          "name": "stdout",
          "text": [
            "私はあなたの人生について具体的なアドバイスをすることはできませんが、一般的な観点からアドバイスをお伝えします。\n",
            "\n",
            "まずは自分自身について考え、自分の興味や好み、強みや弱みを理解することが大切です。自分が何をしたいのか、どんなことに興味があるのかを考え、それに向かって行動することが重要です。\n",
            "\n",
            "また、自己成長を続けることも大切です。新しいことに挑戦したり、自分のスキルや知識を向上させることで、より豊かな人生を送ることができます。\n",
            "\n",
            "人間関係も大切です。家族や友人とのつながりを大切にし、支え合いながら生活することで幸福感を得ることができます。\n",
            "\n",
            "最後に、自分の幸福の定義を見つけることが重要です。他人と比較せず、自分自身が本当に幸せだと感じる生き方を見つけることが大切です。\n"
          ]
        }
      ]
    },
    {
      "cell_type": "markdown",
      "source": [
        "（２）　徐々に答える場合 --> stream=True, chunk の利用"
      ],
      "metadata": {
        "id": "hG7ivxBPv7UL"
      }
    },
    {
      "cell_type": "code",
      "source": [
        "from openai import OpenAI\n",
        "\n",
        "client = OpenAI()\n",
        "\n",
        "stream = client.chat.completions.create(\n",
        "    model=\"gpt-3.5-turbo\",\n",
        "    messages=[\n",
        "      {\"role\": \"system\", \"content\": \"あなたは有能なアシスタントです．\"}, # <-- 会話相手の設定\n",
        "      {\"role\": \"user\", \"content\": \"私はこの先どのように生きていったらいいでしょうか？\"} # <-- こちらかの質問\n",
        "    ],\n",
        "    stream=True,\n",
        ")\n",
        "\n",
        "for chunk in stream:\n",
        "    if chunk.choices[0].delta.content is not None:\n",
        "        print(chunk.choices[0].delta.content, end=\"\")"
      ],
      "metadata": {
        "id": "-SALRjDLuKVU",
        "outputId": "3c3c70d1-0b1b-45aa-919d-23380e8ee1ce",
        "colab": {
          "base_uri": "https://localhost:8080/",
          "height": 272
        }
      },
      "execution_count": 5,
      "outputs": [
        {
          "output_type": "display_data",
          "data": {
            "text/plain": [
              "<IPython.core.display.HTML object>"
            ],
            "text/html": [
              "\n",
              "  <style>\n",
              "    pre {\n",
              "        white-space: pre-wrap;\n",
              "    }\n",
              "  </style>\n",
              "  "
            ]
          },
          "metadata": {}
        },
        {
          "output_type": "stream",
          "name": "stdout",
          "text": [
            "人生にはさまざまな挑戦や選択がありますが、いくつかのポイントを考慮すると良いかもしれません。\n",
            "\n",
            "1. 目標を設定する：まず、将来の夢や目標を設定することは重要です。これにより、自分が望む方向に進むためのステップを考えやすくなります。\n",
            "\n",
            "2. 興味や才能を活かす：自分の興味や才能に基づいた活動をすることで、やりがいを感じることができます。自分の内面に耳を傾けてみて、自分に合った道を見つけてみてください。\n",
            "\n",
            "3. ポジティブな考え方を持つ：人生には困難や挫折もありますが、その際にもポジティブな考え方を持つことが大切です。逆境を乗り越えるために、前向きな姿勢を保つことが重要です。\n",
            "\n",
            "4. 継続的な学び：常に新しいことを学び、成長し続けることも大事です。自己成長を意識して、新しいスキルや知識を身につけることで、将来に役立てることができます。\n",
            "\n",
            "これらのポイントを踏まえて、自分自身の目標や夢を追求する道を歩んでみてください。人生には様々な可能性がありますので、自らの選択と行動で良い方向に進んでいくことが大切です。"
          ]
        }
      ]
    },
    {
      "cell_type": "markdown",
      "source": [
        "# 課題\n",
        "会話の相手をカスタマイズせよ。\n",
        "- 特定の事柄に詳しい：アニメ、漫画、映画、音楽、...\n",
        "- 受け答えが特徴的：ツンデレ、方言、語尾、...\n",
        "\n",
        "設定箇所：{\"role\":\"system\", \"content\": \"ここの部分\"}"
      ],
      "metadata": {
        "id": "0mXWHfTvuEyp"
      }
    },
    {
      "cell_type": "code",
      "source": [],
      "metadata": {
        "id": "OFzVRJBqxIkp"
      },
      "execution_count": null,
      "outputs": []
    }
  ]
}