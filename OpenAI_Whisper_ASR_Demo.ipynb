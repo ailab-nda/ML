{
  "cells": [
    {
      "cell_type": "markdown",
      "metadata": {
        "id": "view-in-github",
        "colab_type": "text"
      },
      "source": [
        "<a href=\"https://colab.research.google.com/github/ailab-nda/ML/blob/main/OpenAI_Whisper_ASR_Demo.ipynb\" target=\"_parent\"><img src=\"https://colab.research.google.com/assets/colab-badge.svg\" alt=\"Open In Colab\"/></a>"
      ]
    },
    {
      "cell_type": "markdown",
      "source": [
        "# OpenAIのWhisper音声認識モデルをデモするWebアプリケーション\n",
        "\n",
        "このColabノートブックは、[OpenAIのフリーWhisper音声認識モデル](https://openai.com/blog/whisper/)に音声ファイルを録音またはアップロードするためのものです。これは[@amrrsによるオリジナルのノートブック](https://github.com/amrrs/openai-whisper-webapp)をベースに、[Pete Warden](https://twitter.com/petewarden)によるドキュメントとテストファイルを追加したものです。\n",
        "\n",
        "使用するには、Colabメニューから`Runtime->Run All`を選択してください。このノートブックをGitHubで見ている場合は、まず[このリンク](https://colab.research.google.com/github/petewarden/openai-whisper-webapp/blob/main/OpenAI_Whisper_ASR_Demo.ipynb)をたどってColabで開いてください。1分ほどすると、ページの下に`Record from microphone`リンクのボタンが表示されるはずです。これをクリックすると、マイクへのアクセス許可を求められるので、最大30秒間話してください。録音が終わったら、「録音停止」を押してください。録音ボタンの右側のボックスに、最初の30秒間のスピーチ原稿が表示されます。さらに書き起こしたい場合は、左のボックスの「クリア」をクリックし、最初からやり直してください。\n",
        "\n",
        "このページの左側にあるフォルダアイコンを使って、自分の音声サンプルをアップロードすることもできます。ファイルをドラッグしてアップロードできるファイルシステムにアクセスできます。以下のいくつかのセルで、テープ起こしの実行例を見ることができます。"
      ],
      "metadata": {
        "id": "Lbja1jB3vDOT"
      }
    },
    {
      "cell_type": "markdown",
      "source": [
        "## Whisper のインストール"
      ],
      "metadata": {
        "id": "kosakhNmxb7A"
      }
    },
    {
      "cell_type": "code",
      "execution_count": null,
      "metadata": {
        "id": "ZsJUxc0aRsAf"
      },
      "outputs": [],
      "source": [
        "!pip install git+https://github.com/openai/whisper.git -q"
      ]
    },
    {
      "cell_type": "markdown",
      "source": [
        "## モデルのロード"
      ],
      "metadata": {
        "id": "AtAvuKSJxhNw"
      }
    },
    {
      "cell_type": "code",
      "source": [
        "import whisper\n",
        "\n",
        "model = whisper.load_model(\"medium\") # tiny, base, samll, medium, large, turbo\n"
      ],
      "metadata": {
        "id": "Kr5faKybKi4p"
      },
      "execution_count": null,
      "outputs": []
    },
    {
      "cell_type": "markdown",
      "source": [
        "## GPUの確認\n",
        "\n",
        "以下のように`device(type='cuda', index=0)`が出力されるはずです。もし表示されない場合、CPUのみのColabインスタンスを使用している可能性があり、動作が遅くなります。Runtime->Change Runtime Type`で修正してください。"
      ],
      "metadata": {
        "id": "e200RNNlxn5j"
      }
    },
    {
      "cell_type": "code",
      "source": [
        "model.device"
      ],
      "metadata": {
        "id": "u_6_s2iHboR4"
      },
      "execution_count": null,
      "outputs": []
    },
    {
      "cell_type": "markdown",
      "source": [
        "## テスト用音声ファイルのダウンロード\n",
        "\n",
        "このリポジトリには、書き起こし機能を実行するためにあらかじめ録音された MP3 がいくつかあります。下に表示されているオーディオウィジェットで聴くことができます。"
      ],
      "metadata": {
        "id": "VqbPlIrVx9sK"
      }
    },
    {
      "cell_type": "code",
      "source": [
        "!git clone https://github.com/petewarden/openai-whisper-webapp"
      ],
      "metadata": {
        "id": "xOpHUlfqth1E"
      },
      "execution_count": null,
      "outputs": []
    },
    {
      "cell_type": "code",
      "source": [
        "from IPython.display import Audio\n",
        "Audio(\"/content/openai-whisper-webapp/two_cities.mp3\")"
      ],
      "metadata": {
        "id": "fhLths-Nfn5Z"
      },
      "execution_count": null,
      "outputs": []
    },
    {
      "cell_type": "code",
      "source": [
        "from IPython.display import Audio\n",
        "Audio(\"/content/openai-whisper-webapp/daisy_HAL_9000.mp3\")"
      ],
      "metadata": {
        "id": "_8vKBR6cfxm6"
      },
      "execution_count": null,
      "outputs": []
    },
    {
      "cell_type": "markdown",
      "source": [
        "## Transcribe 関数の定義\n",
        "\n",
        "音声ファイルのパスを入力として受け取り、認識されたテキストを返します。"
      ],
      "metadata": {
        "id": "QwLTZtubySoo"
      }
    },
    {
      "cell_type": "code",
      "source": [
        "def transcribe(audio):\n",
        "\n",
        "    # load audio and pad/trim it to fit 30 seconds\n",
        "    audio = whisper.load_audio(audio)\n",
        "    audio = whisper.pad_or_trim(audio)\n",
        "\n",
        "    # make log-Mel spectrogram and move to the same device as the model\n",
        "    mel = whisper.log_mel_spectrogram(audio).to(model.device)\n",
        "\n",
        "    # detect the spoken language\n",
        "    _, probs = model.detect_language(mel)\n",
        "    print(f\"Detected language: {max(probs, key=probs.get)}\")\n",
        "\n",
        "    # decode the audio\n",
        "    options = whisper.DecodingOptions()\n",
        "    result = whisper.decode(model, mel, options)\n",
        "    return result.text\n"
      ],
      "metadata": {
        "id": "JtTvvQQPcOZZ"
      },
      "execution_count": null,
      "outputs": []
    },
    {
      "cell_type": "markdown",
      "source": [
        "## 録音済みの音声でテストする\n",
        "\n",
        "ライブ音声を録音するためのUIを立ち上げる前に、ダウンロードしたMP3をいくつか使って `transcribe()` 関数を実行してみましょう。クリアな音声の例として録音した `mary.mp3` からは `Mary had a little lamb, its fleece was white as snow, and everywhere that Mary went, the lamb was sure to go.` という認識結果が出力されます。2つ目のファイルは非常に歪んだ音声で、聞き取ることがかなり難しいですが、モデルは`Daisy, Daisy, give me your answer too. I'm half crazy all for the love of you.`と正しく認識しています。\n",
        "\n",
        "注：このノートのデフォルトの長さである30秒でトランスクリプトが切れていることに気づくでしょう（設定の変更は可能）。"
      ],
      "metadata": {
        "id": "_QRwhuOXynZQ"
      }
    },
    {
      "cell_type": "code",
      "source": [
        "easy_text = transcribe(\"/content/openai-whisper-webapp/mary.mp3\")\n",
        "print(easy_text)\n",
        "\n",
        "hard_text = transcribe(\"/content/openai-whisper-webapp/daisy_HAL_9000.mp3\")\n",
        "print(hard_text)"
      ],
      "metadata": {
        "id": "bDXgLIprIsAj"
      },
      "execution_count": null,
      "outputs": []
    },
    {
      "cell_type": "markdown",
      "source": [
        "## Web UIツールキットをインストールする\n",
        "\n",
        "音声録音に必要なウィジェットを提供するためにgradioを使います。"
      ],
      "metadata": {
        "id": "9ojRF2zWzcYa"
      }
    },
    {
      "cell_type": "code",
      "source": [
        "!pip install gradio==3.50"
      ],
      "metadata": {
        "id": "fjM27tWsI4dH"
      },
      "execution_count": null,
      "outputs": []
    },
    {
      "cell_type": "code",
      "source": [
        "import gradio as gr\n",
        "import time"
      ],
      "metadata": {
        "id": "ILFOYNnTcYe8"
      },
      "execution_count": null,
      "outputs": []
    },
    {
      "cell_type": "markdown",
      "source": [
        "## ウェブインターフェース\n",
        "\n",
        "このスクリプトを実行すると、冒頭で説明したように、ライブ音声の録音と書き起こしの確認に使用できる2つのウィジェットが下に表示されるはずです。"
      ],
      "metadata": {
        "id": "2tHwfOG-zlY1"
      }
    },
    {
      "cell_type": "code",
      "source": [
        "\n",
        "gr.Interface(\n",
        "    title = 'OpenAI Whisper ASR Gradio Web UI',\n",
        "    fn=transcribe,\n",
        "    inputs=[\n",
        "        gr.inputs.Audio(source=\"microphone\", type=\"filepath\")\n",
        "    ],\n",
        "    outputs=[\n",
        "        \"textbox\"\n",
        "    ],\n",
        "    live=True).launch()"
      ],
      "metadata": {
        "id": "deSAVvfJcWBo"
      },
      "execution_count": null,
      "outputs": []
    },
    {
      "cell_type": "markdown",
      "source": [
        "## おまけ：長時間対応"
      ],
      "metadata": {
        "id": "eF-dceVvwoWE"
      }
    },
    {
      "cell_type": "code",
      "source": [
        "import whisper\n",
        "import librosa\n",
        "import numpy as np\n",
        "\n",
        "def transcribe_long_audio(audio_path, chunk_duration=60):\n",
        "  \"\"\"\n",
        "  長い音声ファイルを指定された長さのチャンクに分割して書き起こす。\n",
        "\n",
        "  Args:\n",
        "    audio_path: 音声ファイルのパス\n",
        "    chunk_duration: チャンクの長さ（秒）\n",
        "\n",
        "  Returns:\n",
        "    書き起こし結果の文字列\n",
        "  \"\"\"\n",
        "\n",
        "  #model = whisper.load_model(\"medium\")\n",
        "  audio, sr = librosa.load(audio_path, sr=whisper.audio.SAMPLE_RATE)\n",
        "\n",
        "  chunk_length = chunk_duration * whisper.audio.SAMPLE_RATE\n",
        "  num_chunks = int(np.ceil(len(audio) / chunk_length))\n",
        "\n",
        "  transcription_text = \"\"\n",
        "\n",
        "  for i in range(num_chunks):\n",
        "    start = i * chunk_length\n",
        "    end = min((i + 1) * chunk_length, len(audio))\n",
        "    chunk = audio[start:end]\n",
        "\n",
        "    # チャンクの長さが30秒未満の場合は、whisper.pad_or_trim でパディングする\n",
        "    if len(chunk) < 30 * whisper.audio.SAMPLE_RATE:\n",
        "      chunk = whisper.pad_or_trim(chunk)\n",
        "    else:\n",
        "      # 30秒より長いチャンクの場合は、さらに30秒ずつに分割する\n",
        "      sub_chunks = [chunk[j*30*whisper.audio.SAMPLE_RATE:min((j+1)*30*whisper.audio.SAMPLE_RATE, len(chunk))] for j in range(int(np.ceil(len(chunk)/(30*whisper.audio.SAMPLE_RATE))))]\n",
        "      for sub_chunk in sub_chunks:\n",
        "        sub_chunk = whisper.pad_or_trim(sub_chunk)\n",
        "        result = model.transcribe(sub_chunk)\n",
        "        transcription_text += result[\"text\"]\n",
        "      continue\n",
        "\n",
        "    result = model.transcribe(chunk)\n",
        "    transcription_text += result[\"text\"]\n",
        "\n",
        "  return transcription_text"
      ],
      "metadata": {
        "id": "YVopAmfmu1N7"
      },
      "execution_count": null,
      "outputs": []
    },
    {
      "cell_type": "code",
      "source": [
        "transcription = transcribe_long_audio(\"/content/openai-whisper-webapp/two_cities.mp3\", chunk_duration=60)\n",
        "print(transcription)"
      ],
      "metadata": {
        "id": "7o0yzETdu5Mi"
      },
      "execution_count": null,
      "outputs": []
    },
    {
      "cell_type": "markdown",
      "source": [
        "### 画面の端までいったら改行させる設定"
      ],
      "metadata": {
        "id": "z9ao6nhayhrm"
      }
    },
    {
      "cell_type": "code",
      "source": [
        "from IPython.display import HTML, display\n",
        "\n",
        "def set_css():\n",
        "  display(HTML('''\n",
        "\n",
        "  '''))\n",
        "get_ipython().events.register('pre_run_cell', set_css)"
      ],
      "metadata": {
        "id": "9c569XI9yex7"
      },
      "execution_count": null,
      "outputs": []
    },
    {
      "cell_type": "code",
      "source": [
        "transcription"
      ],
      "metadata": {
        "id": "jhcCE3fpyrer"
      },
      "execution_count": null,
      "outputs": []
    }
  ],
  "metadata": {
    "accelerator": "GPU",
    "colab": {
      "provenance": [],
      "include_colab_link": true
    },
    "gpuClass": "standard",
    "kernelspec": {
      "display_name": "Python 3 (ipykernel)",
      "language": "python",
      "name": "python3"
    },
    "language_info": {
      "codemirror_mode": {
        "name": "ipython",
        "version": 3
      },
      "file_extension": ".py",
      "mimetype": "text/x-python",
      "name": "python",
      "nbconvert_exporter": "python",
      "pygments_lexer": "ipython3",
      "version": "3.9.9"
    }
  },
  "nbformat": 4,
  "nbformat_minor": 0
}