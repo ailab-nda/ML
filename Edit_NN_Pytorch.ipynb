{
  "nbformat": 4,
  "nbformat_minor": 0,
  "metadata": {
    "colab": {
      "provenance": [],
      "gpuType": "T4",
      "include_colab_link": true
    },
    "kernelspec": {
      "name": "python3",
      "display_name": "Python 3"
    },
    "language_info": {
      "name": "python"
    },
    "accelerator": "GPU"
  },
  "cells": [
    {
      "cell_type": "markdown",
      "metadata": {
        "id": "view-in-github",
        "colab_type": "text"
      },
      "source": [
        "<a href=\"https://colab.research.google.com/github/ailab-nda/ML/blob/main/Edit_NN_Pytorch.ipynb\" target=\"_parent\"><img src=\"https://colab.research.google.com/assets/colab-badge.svg\" alt=\"Open In Colab\"/></a>"
      ]
    },
    {
      "cell_type": "markdown",
      "metadata": {
        "id": "XghmWL0Gnbyx"
      },
      "source": [
        "# PyTorchの学習済みモデルを自由自在に書き換えたい\n",
        "\n",
        "PyTorchには[PyTorch Image Models](https://github.com/rwightman/pytorch-image-models)など学習済モデルがたくさん公開されていて、これを転移学習に使うことも多いです。その際、学習済モデルを少し改造して試したい場合、どうすればいいのか。直接編集するわけではありませんが、同等の効果がある方法をご紹介します。\n",
        "\n",
        "```\n",
        "要点\n",
        "1. 挿入するにはtorch.nn.Sequentialで置き換える\n",
        "2. 削除するにはtorch.nn.Indentityで置き換える\n",
        "```\n",
        "\n",
        "\n",
        "\n"
      ]
    },
    {
      "cell_type": "markdown",
      "metadata": {
        "id": "jTXjKhyprdQ4"
      },
      "source": [
        "まずはtorch.hubからお馴染みのresnet18を取得して、その構造を表示してみましょう。"
      ]
    },
    {
      "cell_type": "code",
      "metadata": {
        "id": "_rW0oMRZuXBL"
      },
      "source": [
        "import torch\n",
        "from torchvision.models import resnet50, ResNet50_Weights\n",
        "model = resnet50(weights=ResNet50_Weights.DEFAULT)\n",
        "print(model)"
      ],
      "execution_count": null,
      "outputs": []
    },
    {
      "cell_type": "markdown",
      "metadata": {
        "id": "Jtt0dt6lrtLX"
      },
      "source": [
        "括弧で括られた部分がそのレイヤーの名前です。例えば(fc)となっている最終レイヤーにアクセスするには以下のようにします。"
      ]
    },
    {
      "cell_type": "code",
      "metadata": {
        "id": "7nfy7HAGsWAw"
      },
      "source": [
        "print(model.fc)"
      ],
      "execution_count": null,
      "outputs": []
    },
    {
      "cell_type": "markdown",
      "metadata": {
        "id": "T-W3NkM-s4Y1"
      },
      "source": [
        "ここで、出力の特徴数を変更するには以下です。"
      ]
    },
    {
      "cell_type": "code",
      "metadata": {
        "id": "SMwvu9oltBdn"
      },
      "source": [
        "model.fc.out_features = 100\n",
        "print(model.fc)"
      ],
      "execution_count": null,
      "outputs": []
    },
    {
      "cell_type": "markdown",
      "metadata": {
        "id": "1ld9VhULuzht"
      },
      "source": [
        "同様にレイヤーを置き換えるのは簡単です。"
      ]
    },
    {
      "cell_type": "code",
      "metadata": {
        "id": "PK6cxDULuunF"
      },
      "source": [
        "print('before:', model.relu)\n",
        "model.relu = torch.nn.LeakyReLU(inplace=True)\n",
        "print('after:', model.relu)"
      ],
      "execution_count": null,
      "outputs": []
    },
    {
      "cell_type": "markdown",
      "metadata": {
        "id": "rTmZKG4QvsC0"
      },
      "source": [
        "それではあるレイヤーを挿入したい場合はどうすればいいでしょうか。レイヤーを挿入するメソッドを見つけられなかったので、torch.nn.Sequentialを使って、以下のようにしました。以下はfc層の直前にDropoutを挿入する例です。"
      ]
    },
    {
      "cell_type": "code",
      "metadata": {
        "id": "-hEkh9uLu8Z9"
      },
      "source": [
        "from torch.nn import Sequential, Dropout\n",
        "model.fc = Sequential(Dropout(0.5), model.fc)\n",
        "print(model)"
      ],
      "execution_count": null,
      "outputs": []
    },
    {
      "cell_type": "markdown",
      "metadata": {
        "id": "Eij0BHxn0FSU"
      },
      "source": [
        "上手く挿入されました。\n",
        "\n",
        "それではレイヤを削除したい場合はどうすればいいでしょうか。例えば最終層のクラス分類を外して、直前のレイヤーの出力を利用したいような場合です。この場合も、レイヤーを削除するメソッドが見つけられなかったので、以下のようにnn.Identityで置き換えます。"
      ]
    },
    {
      "cell_type": "code",
      "metadata": {
        "id": "hLaPHUQB1GfZ"
      },
      "source": [
        "model.fc = torch.nn.Identity()\n",
        "print(model)"
      ],
      "execution_count": null,
      "outputs": []
    },
    {
      "cell_type": "markdown",
      "metadata": {
        "id": "PVRYL-0Z2YU2"
      },
      "source": [
        "これで一つ前の(global_pool)の出力をそのまま出力するようにできたので、クラス分類層を削除したのと同様になりました。\n",
        "\n",
        "ところで、モデルの構造をよく見ると、(0)のように示されているものがあります。これはmodel.layer1.0などではアクセスできませんので、以下のようにします。"
      ]
    },
    {
      "cell_type": "code",
      "metadata": {
        "id": "cH_h5uuev35N"
      },
      "source": [
        "model.layer1[0]"
      ],
      "execution_count": null,
      "outputs": []
    },
    {
      "cell_type": "markdown",
      "metadata": {
        "id": "uEO_A2oo4WZ0"
      },
      "source": [
        "無事にアクセスできました。これでどんな層も自由に編集できます。\n",
        "\n",
        "以上です。"
      ]
    }
  ]
}