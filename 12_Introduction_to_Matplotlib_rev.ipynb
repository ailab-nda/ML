{
  "cells": [
    {
      "cell_type": "markdown",
      "metadata": {
        "id": "view-in-github",
        "colab_type": "text"
      },
      "source": [
        "<a href=\"https://colab.research.google.com/github/ailab-nda/ML/blob/main/12_Introduction_to_Matplotlib_rev.ipynb\" target=\"_parent\"><img src=\"https://colab.research.google.com/assets/colab-badge.svg\" alt=\"Open In Colab\"/></a>"
      ]
    },
    {
      "cell_type": "markdown",
      "metadata": {
        "id": "MSKoKElq1kF4"
      },
      "source": [
        "# Matplotlib 入門\n",
        "\n",
        "グラフの描画を行う際は [Matplotlib](https://matplotlib.org/) が便利です。\n",
        "Colab では標準で Matplotlib を使ってプロットを行うと描画結果がノートブック上に表示されます。\n",
        "Matplotlib は `matplotlib.pyplot` を `plt` という別名をつけて読み込むのが一般的です。"
      ]
    },
    {
      "cell_type": "code",
      "execution_count": null,
      "metadata": {
        "id": "dehoAfTINPN-"
      },
      "outputs": [],
      "source": [
        "%matplotlib inline\n",
        "import matplotlib.pyplot as plt"
      ]
    },
    {
      "cell_type": "markdown",
      "metadata": {
        "id": "nD6RSWpgWBpz"
      },
      "source": [
        "この章で用いるデータセットは前章と同じように Colab で用意されているサンプルデータを使用します。\n",
        "Colab 以外で実行する場合は、[こちら](https://download.mlcc.google.com/mledu-datasets/california_housing_train.csv)からデータをダウンロードして、`sample_data` というディレクトリ以下に設置してください。\n",
        "\n",
        "まず、Pandas で CSV ファイルを読み込みます。"
      ]
    },
    {
      "cell_type": "code",
      "execution_count": null,
      "metadata": {
        "id": "jhsL4iKnjyGL"
      },
      "outputs": [],
      "source": [
        "import pandas as pd\n",
        "\n",
        "df = pd.read_csv('sample_data/california_housing_train.csv')\n",
        "\n",
        "df.head(5)"
      ]
    },
    {
      "cell_type": "markdown",
      "metadata": {
        "id": "encTBRXeF51v"
      },
      "source": [
        "## 散布図\n",
        "\n",
        "**散布図 (scatter)** は変数間の相関を視覚的に確認したり、データのばらつきや値の範囲を視覚的に確認するのに便利なものです。\n",
        "Matplotlib では与えられた配列から散布図を作成する `plt.scatter()` が用意されています。\n",
        "\n",
        "まずは、`median_income` 列のデータと `median_house_value` 列のデータをそれぞれ横軸、縦軸に取った散布図を描画してみましょう。"
      ]
    },
    {
      "cell_type": "code",
      "execution_count": null,
      "metadata": {
        "id": "GRhhh_G2FVGW"
      },
      "outputs": [],
      "source": [
        "plt.scatter(df['median_income'], df['median_house_value'])"
      ]
    },
    {
      "cell_type": "markdown",
      "metadata": {
        "id": "1AprSX4a3ek1"
      },
      "source": [
        "次に、`pupulation` 列の値と `median_house_value` 列の値をそれぞれ横軸と縦軸にとった散布図を描画します。"
      ]
    },
    {
      "cell_type": "code",
      "execution_count": null,
      "metadata": {
        "id": "ubHdt6jcOiKr"
      },
      "outputs": [],
      "source": [
        "plt.scatter(df['population'], df['median_house_value'])"
      ]
    },
    {
      "cell_type": "markdown",
      "metadata": {
        "id": "ojtzCV-ZFVPv"
      },
      "source": [
        "## ヒストグラム\n",
        "\n",
        "データ中にどのような値がよく登場しているかという値ごとの頻度を確認するために使われるものに**ヒストグラム (histogram)** があります。\n",
        "\n",
        "試しに、`median_house_values` 列の値のヒストグラムを描画してみましょう。"
      ]
    },
    {
      "cell_type": "code",
      "execution_count": null,
      "metadata": {
        "id": "G0icbrhoFVQ9"
      },
      "outputs": [],
      "source": [
        "plt.hist(df['median_house_value'])"
      ]
    },
    {
      "cell_type": "markdown",
      "metadata": {
        "id": "heTsrIem3ek2"
      },
      "source": [
        "上図の棒グラフ 1 つ 1 つの青い棒は、**ビン (bin)** と呼ばれ、それぞれの高さはある値の範囲に入っているサンプルの数を表します。\n",
        "ヒストグラムでは値の範囲を複数指定し、それぞれの範囲に入っているサンプルの個数を描画します。\n",
        "そのため、その値の範囲の指定を `bins` という引数を用いて行う必要があります。\n",
        "ただし、この引数はオプショナルなもので、何も与えなかった場合はビンの数が自動的に決定されます。\n",
        "この引数に整数を与えた場合は、`bins` 個のビンを値の範囲に対して等間隔に作成します。"
      ]
    },
    {
      "cell_type": "code",
      "execution_count": null,
      "metadata": {
        "id": "a9wEhPBrPnO1"
      },
      "outputs": [],
      "source": [
        "# bins 引数に値を指定することで、ビンの数を指定できます\n",
        "plt.hist(df['median_house_value'], bins=50)"
      ]
    },
    {
      "cell_type": "markdown",
      "metadata": {
        "id": "wdyahvtpP-Lq"
      },
      "source": [
        "上図から、`median_house_value` が 500,000 付近の値をとるサンプルが突出して多く存在していることが分かります。"
      ]
    },
    {
      "cell_type": "markdown",
      "metadata": {
        "id": "o9SJUhlyFVS2"
      },
      "source": [
        "## 箱ひげ図\n",
        "\n",
        "**箱ひげ図 (box plot)** は、値のばらつきをわかりやすく表現するための図です。\n",
        "`df.describe()` で確認できるような、いくつかの統計値をまとめて可視化するものです。\n",
        "箱ひげ図は、**五数要約 （five-number summary）** と呼ばれる以下の統計量をまとめて表すものです。\n",
        "\n",
        "- 最小値 (minimum)\n",
        "- 第 1 四分位点 (lower quartile)\n",
        "- 中央値 (median)\n",
        "- 第 3 四分位点 (upper quartile)\n",
        "- 最大値 (maximum)\n",
        "\n",
        "描画には、`plt.boxplot()` を用います。"
      ]
    },
    {
      "cell_type": "code",
      "execution_count": null,
      "metadata": {
        "id": "s-q3hYgXIyDu"
      },
      "outputs": [],
      "source": [
        "plt.boxplot(df['median_house_value'])"
      ]
    },
    {
      "cell_type": "code",
      "execution_count": null,
      "metadata": {
        "id": "TbxSFRjyRgmd"
      },
      "outputs": [],
      "source": [
        "# 複数指定する場合は、タプルを用います\n",
        "plt.boxplot((df['total_bedrooms'], df['population']))"
      ]
    },
    {
      "cell_type": "markdown",
      "metadata": {
        "id": "4DyNSIl_JQyQ"
      },
      "source": [
        "## 折れ線グラフ\n",
        "\n",
        "折れ線グラフは、時系列データなどを表示する際に便利なグラフです。\n",
        "`plt.plot()` を用いて描画します。\n",
        "\n",
        "`plt.plot(y)` のように引数が 1 つの場合は、`y` の要素が縦軸の値に対応し、 横軸は要素のインデックスとなります。\n",
        "\n",
        "それでは、NumPy を用いて作成したデータを、`plt.plot()` で表示してみましょう。"
      ]
    },
    {
      "cell_type": "code",
      "execution_count": null,
      "metadata": {
        "id": "5sXIXrD9k_aG"
      },
      "outputs": [],
      "source": [
        "import numpy as np\n",
        "\n",
        "# [0,10]の間を100分割して数値を返す\n",
        "x = np.linspace(0, 10, 100)\n",
        "\n",
        "# x の値にランダムノイズを加える\n",
        "y = x + np.random.randn(100)"
      ]
    },
    {
      "cell_type": "code",
      "execution_count": null,
      "metadata": {
        "id": "RDRAWxyNJQ5p"
      },
      "outputs": [],
      "source": [
        "plt.plot(y)"
      ]
    },
    {
      "cell_type": "markdown",
      "metadata": {
        "id": "9mnZNcn_TwYN"
      },
      "source": [
        "`plt.plot(x, y)` のように引数を 2 つ与える場合は、`x` が横軸、`y` が縦軸に対応します。"
      ]
    },
    {
      "cell_type": "code",
      "execution_count": null,
      "metadata": {
        "id": "xEpVGwTaT7U2"
      },
      "outputs": [],
      "source": [
        "plt.plot(x, y)"
      ]
    },
    {
      "cell_type": "markdown",
      "metadata": {
        "id": "dxa_v2Jf5a0m"
      },
      "source": [
        "## グラフの調整\n",
        "\n",
        "Matplotlib では横軸や縦軸に文字列でラベルを指定したり、グラフの大きさの調整、また直線・曲線・点の色や大きさ、文字の色や大きさの調整など、様々な見た目に関する設定を細かく指定することができます。"
      ]
    },
    {
      "cell_type": "code",
      "execution_count": null,
      "metadata": {
        "id": "9X3e206w3ek5"
      },
      "outputs": [],
      "source": [
        "plt.plot(x, y)\n",
        "plt.title(\"折れ線グラフ\")\n",
        "plt.xlabel('x軸')\n",
        "plt.ylabel('y軸')"
      ]
    },
    {
      "cell_type": "markdown",
      "metadata": {
        "id": "eHIg3rVX3ek5"
      },
      "source": [
        "## 日本語を使う\n",
        "japanize_matplotlib を使います。"
      ]
    },
    {
      "cell_type": "code",
      "execution_count": null,
      "metadata": {
        "id": "LjGYrW103ek5"
      },
      "outputs": [],
      "source": [
        "!pip install japanize_matplotlib\n",
        "import japanize_matplotlib"
      ]
    },
    {
      "cell_type": "markdown",
      "metadata": {
        "id": "m1LUdiBO3ek6"
      },
      "source": [
        "### ファイルへ保存"
      ]
    },
    {
      "cell_type": "code",
      "execution_count": null,
      "metadata": {
        "id": "hAneJHRc3ek6"
      },
      "outputs": [],
      "source": [
        "plt.plot(x,y)\n",
        "plt.title(\"折れ線グラフ\")\n",
        "plt.xlabel('x軸')\n",
        "plt.ylabel('y軸')\n",
        "plt.savefig(\"graph.png\")\n",
        "plt.show()"
      ]
    },
    {
      "cell_type": "markdown",
      "metadata": {
        "id": "zwuvaeRr3ek6"
      },
      "source": [
        "## おまけ\n",
        "保存した図は、パワポなどに貼ってプレゼンすることが多いです。どうせパワポに貼るので最初から貼っておきましょう。"
      ]
    },
    {
      "cell_type": "code",
      "execution_count": null,
      "metadata": {
        "id": "kUTnM5vM3ek7"
      },
      "outputs": [],
      "source": [
        "!pip install python-pptx\n",
        "from pptx import Presentation\n",
        "from pptx.util import Cm"
      ]
    },
    {
      "cell_type": "code",
      "execution_count": null,
      "metadata": {
        "id": "iyRHo8-O3ek7"
      },
      "outputs": [],
      "source": [
        "prs = Presentation()\n",
        "slide = prs.slides.add_slide(prs.slide_layouts[6])\n",
        "slide.shapes.add_picture('graph.png', Cm(4.5), Cm(3.5))\n",
        "prs.save('graph.ppt')"
      ]
    },
    {
      "cell_type": "markdown",
      "metadata": {
        "id": "BkUD4uvL3ek7"
      },
      "source": [
        "# 課題\n",
        "直近１年間の横須賀市の平均気温と降水量の記録(yokosuka_weather.csv)がある。平均気温のグラフ、降水量のグラフ、２つ合わせたグラフ、をそれぞれ作り、プロットした図をパワポに貼り付けたものを提出せよ。\n",
        "\n",
        "ヒント：https://datumstudio.jp/blog/matplotlib-2軸グラフの書き方/"
      ]
    },
    {
      "cell_type": "code",
      "execution_count": null,
      "metadata": {
        "id": "T5EmZkFN3ek7"
      },
      "outputs": [],
      "source": [
        "df = pd.read_csv('yokosuka_weather.csv', encoding='CP932')\n",
        "# 以下は自分で作成してください。"
      ]
    },
    {
      "cell_type": "markdown",
      "metadata": {
        "id": "Yx6XsP_QUxG-"
      },
      "source": [
        "## seaborn\n",
        "\n",
        "統計図の作成を簡単に行えるように Matplotlib をベースに作られたライブラリに [seaborn](https://seaborn.pydata.org/) というものがあります。\n",
        "\n",
        "`seaborn` パッケージは、`sns` という別名で読み込まれるのが一般的です。"
      ]
    },
    {
      "cell_type": "code",
      "execution_count": null,
      "metadata": {
        "id": "kvf1sgqw1EvS"
      },
      "outputs": [],
      "source": [
        "import seaborn as sns"
      ]
    },
    {
      "cell_type": "markdown",
      "metadata": {
        "id": "5bPq2uG-VcL0"
      },
      "source": [
        "データの分布を確認する際は、Matplotlib のヒストグラムよりも使い方がシンプルかつ見やすい図を作成することができる `sns.distplot()` がおすすめです。"
      ]
    },
    {
      "cell_type": "code",
      "execution_count": null,
      "metadata": {
        "id": "bE6suI8I1E3D"
      },
      "outputs": [],
      "source": [
        "sns.distplot(df['population'])"
      ]
    },
    {
      "cell_type": "markdown",
      "metadata": {
        "id": "-16KYq-AVm3Y"
      },
      "source": [
        "また、描画が完了するまで少し時間がかかってしまいますが、与えられたデータフレームオブジェクトの各列の全てのペアでの散布図をグリッド状に描画し、様々な変数間の相関関係を視覚的に見渡すことができる `plt.pairplot()` も便利です。"
      ]
    },
    {
      "cell_type": "code",
      "execution_count": null,
      "metadata": {
        "id": "jbzeeKS_V1fA"
      },
      "outputs": [],
      "source": [
        "sns.pairplot(df)"
      ]
    },
    {
      "cell_type": "markdown",
      "metadata": {
        "id": "FYlS6tCdV1F6"
      },
      "source": [
        "seaborn には他にも様々な種類のグラフを描画する機能があります。"
      ]
    },
    {
      "cell_type": "markdown",
      "metadata": {
        "id": "BAj329hT3ek8"
      },
      "source": []
    }
  ],
  "metadata": {
    "colab": {
      "provenance": [],
      "include_colab_link": true
    },
    "kernelspec": {
      "display_name": "Python 3",
      "language": "python",
      "name": "python3"
    },
    "language_info": {
      "codemirror_mode": {
        "name": "ipython",
        "version": 3
      },
      "file_extension": ".py",
      "mimetype": "text/x-python",
      "name": "python",
      "nbconvert_exporter": "python",
      "pygments_lexer": "ipython3",
      "version": "3.11.5"
    }
  },
  "nbformat": 4,
  "nbformat_minor": 0
}