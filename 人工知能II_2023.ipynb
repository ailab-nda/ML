{
  "nbformat": 4,
  "nbformat_minor": 0,
  "metadata": {
    "colab": {
      "provenance": [],
      "authorship_tag": "ABX9TyPT91WbLw09hkJcnYjF5Z3X",
      "include_colab_link": true
    },
    "kernelspec": {
      "name": "python3",
      "display_name": "Python 3"
    },
    "language_info": {
      "name": "python"
    },
    "accelerator": "GPU"
  },
  "cells": [
    {
      "cell_type": "markdown",
      "metadata": {
        "id": "view-in-github",
        "colab_type": "text"
      },
      "source": [
        "<a href=\"https://colab.research.google.com/github/ailab-nda/ML/blob/main/%E4%BA%BA%E5%B7%A5%E7%9F%A5%E8%83%BDII_2023.ipynb\" target=\"_parent\"><img src=\"https://colab.research.google.com/assets/colab-badge.svg\" alt=\"Open In Colab\"/></a>"
      ]
    },
    {
      "cell_type": "markdown",
      "source": [
        "注：以下を最初に実行してから試験を解いてください。"
      ],
      "metadata": {
        "id": "-nQIne0GhkL3"
      }
    },
    {
      "cell_type": "code",
      "source": [
        "!pip install openai"
      ],
      "metadata": {
        "id": "Y72SrQQniIIU"
      },
      "execution_count": null,
      "outputs": []
    },
    {
      "cell_type": "code",
      "source": [
        "from IPython.display import HTML, display\n",
        "\n",
        "def set_css():\n",
        "  display(HTML('''\n",
        "  <style>\n",
        "    pre {\n",
        "        white-space: pre-wrap;\n",
        "    }\n",
        "  </style>\n",
        "  '''))\n",
        "get_ipython().events.register('pre_run_cell', set_css)"
      ],
      "metadata": {
        "id": "iEsy83H0hjMf"
      },
      "execution_count": null,
      "outputs": []
    },
    {
      "cell_type": "markdown",
      "source": [
        "# 人工知能II試験問題\n",
        "\n",
        "以下の問題について解答し、結果を提出してください。なお、解答については文章はテキストセルに、プログラムに関してはコードセルに記入すること。また、結果の提出については、この画面の左上の「ファイル」メニュー内にある「ダウンロード」->「.ipynbをダウンロード」で自分のマシンにダウンロードできるので、それを各自の学内メールに添付してください。"
      ],
      "metadata": {
        "id": "6cmZnSwSLFS3"
      }
    },
    {
      "cell_type": "markdown",
      "source": [
        "# 1. 用語説明"
      ],
      "metadata": {
        "id": "EMP3Omloc1_s"
      }
    },
    {
      "cell_type": "markdown",
      "source": [
        " (1) ニューラルネットワークの主な構造に、FC, CNN, RNN の３つがある。それぞれについて構造の特徴と用いられる場面について記せ。"
      ],
      "metadata": {
        "id": "waEhIMDbdcqV"
      }
    },
    {
      "cell_type": "markdown",
      "source": [
        "（解答欄）\n"
      ],
      "metadata": {
        "id": "0DCRduwRdeMy"
      }
    },
    {
      "cell_type": "markdown",
      "source": [
        "(2) ニューラルネットワークへの入力を $x$ としたとき、活性化関数である Sigmoid 関数と ReLU 関数を数式で記せ。また、この２つの使い分けはどのように行えばよいかも記せ。"
      ],
      "metadata": {
        "id": "AWzVXsZjdjJK"
      }
    },
    {
      "cell_type": "markdown",
      "source": [
        "（解答欄）\n"
      ],
      "metadata": {
        "id": "Fljviq12gE1l"
      }
    },
    {
      "cell_type": "markdown",
      "source": [
        "(3) ChatGPT の「P」は Pretrained （事前学習済み）の略である。ChatGPT をはじめとする大規模言語モデルが、事前学習としてどのようなことを行なっているかを記せ。"
      ],
      "metadata": {
        "id": "bw4ZXIc4eYgv"
      }
    },
    {
      "cell_type": "markdown",
      "source": [
        "（解答欄）\n"
      ],
      "metadata": {
        "id": "AtHTmLUxgGxm"
      }
    },
    {
      "cell_type": "markdown",
      "source": [
        "# 2. 数式\n",
        "数式の書き方 --> https://qiita.com/PlanetMeron/items/63ac58898541cbe81ada"
      ],
      "metadata": {
        "id": "ODyLb4xYbntN"
      }
    },
    {
      "cell_type": "markdown",
      "source": [
        "(1) ニューラルネットを学習させる際に用いられる「誤差逆伝播法」について説明せよ。"
      ],
      "metadata": {
        "id": "YLIIJrSYnOqk"
      }
    },
    {
      "cell_type": "markdown",
      "source": [
        "【解答欄】"
      ],
      "metadata": {
        "id": "KZjkG9Kjgah7"
      }
    },
    {
      "cell_type": "markdown",
      "source": [
        "(2) 誤差逆伝播法では、微分操作が必要となる。以下のネットワークを考える。\n",
        "\n",
        "- 入力層：$x = (x_1, x_2, ..., x_i, ..., x_n)$\n",
        "- 第１層：$y = x + 2$\n",
        "- 第２層：$z = y \\odot y \\times 3$ (注：$\\odot$ はアダマール積（成分ごとの積）)\n",
        "- 出力層：$out = mean(z)$ （$z_i$の平均値）\n",
        "\n",
        "このとき、出力値に対する入力値の微分\n",
        "$\\frac{\\partial}{\\partial x_{i}}out$ を計算せよ。"
      ],
      "metadata": {
        "id": "77dp7gAXnRBb"
      }
    },
    {
      "cell_type": "markdown",
      "source": [
        "【解答欄】\n",
        "$$ \\frac{\\partial}{\\partial x_{i}}out = ここに数式を書く $$"
      ],
      "metadata": {
        "id": "OjLlN_fTqz8b"
      }
    },
    {
      "cell_type": "markdown",
      "source": [
        "(3) $x = (1, 2, 3, 4)$ となった時の、$\\frac{\\partial}{\\partial x}out$ を求めよ。\n",
        "\n",
        "\n",
        "\n"
      ],
      "metadata": {
        "id": "phtg8M7krqms"
      }
    },
    {
      "cell_type": "markdown",
      "source": [
        "【解答欄】\n",
        "$$\n",
        "(\\frac{\\partial}{\\partial x_1}out, \\frac{\\partial}{\\partial x_2}out, \\frac{\\partial}{\\partial x_3}out, \\frac{\\partial}{\\partial x_4}out) = ここに数値を書く\n",
        "$$"
      ],
      "metadata": {
        "id": "GsNAWVVjs2Qa"
      }
    },
    {
      "cell_type": "markdown",
      "source": [
        "# 2. プログラム"
      ],
      "metadata": {
        "id": "qL0toXT4gh5p"
      }
    },
    {
      "cell_type": "markdown",
      "source": [
        "【解答欄】\n",
        "ここに記述"
      ],
      "metadata": {
        "id": "OqNO6JVXhJxX"
      }
    },
    {
      "cell_type": "markdown",
      "source": [
        "(1) 2 x 2 のリスト [[1, 2], [3, 4]] からテンソルを作り、x という変数に代入せよ。\n",
        "\n",
        "（ヒント：テンソルの作成には、torch.Tensor() を用いる）"
      ],
      "metadata": {
        "id": "KGJ5jPPDjoKB"
      }
    },
    {
      "cell_type": "code",
      "source": [
        "import torch\n",
        "\n",
        "l =  # ここにリストを書く\n",
        "print(\"list: \", l)\n",
        "\n",
        "x =  # ここでテンソルに変換するコードを書く\n",
        "print(\"x: \", x)"
      ],
      "metadata": {
        "id": "ngbYUPAhkJfR"
      },
      "execution_count": null,
      "outputs": []
    },
    {
      "cell_type": "markdown",
      "source": [
        "これは先週のプログラムです。\n"
      ],
      "metadata": {
        "id": "akQe4m2rMfV6"
      }
    },
    {
      "cell_type": "code",
      "execution_count": null,
      "metadata": {
        "id": "i14tjo3KK94e"
      },
      "outputs": [],
      "source": [
        "import openai\n",
        "from openai import OpenAI\n",
        "import os\n",
        "os.environ['OPENAI_API_KEY'] = \"\" # ここに API Key を記入\n",
        "\n",
        "client = OpenAI()\n",
        "\n",
        "dialog=[\n",
        "    {\"role\": \"system\", \"content\": \"あなたは有能なアシスタントです．\"},\n",
        "    {\"role\": \"user\", \"content\": \"僕の名前は太郎です。\"}\n",
        "]\n",
        "\n",
        "completion = client.chat.completions.create(model=\"gpt-3.5-turbo\", messages=dialog)\n",
        "text = completion.choices[0].message.content\n",
        "print(text)"
      ]
    },
    {
      "cell_type": "markdown",
      "source": [
        "(1) 対話の内容が格納されている dialog はどのようなデータ構造となっているか答えよ。"
      ],
      "metadata": {
        "id": "lTNZhb36t56a"
      }
    },
    {
      "cell_type": "markdown",
      "source": [
        "（解答欄）\n"
      ],
      "metadata": {
        "id": "W48HjQtfomdH"
      }
    },
    {
      "cell_type": "markdown",
      "source": [
        "(2) キーボードから入力した文章を使って dialog を生成し、ChatGPT と会話ができるようにせよ。"
      ],
      "metadata": {
        "id": "j35Vn3iNooTg"
      }
    },
    {
      "cell_type": "code",
      "source": [
        "question = input()\n",
        "print(question)"
      ],
      "metadata": {
        "id": "37u0lkAUolHq"
      },
      "execution_count": null,
      "outputs": []
    },
    {
      "cell_type": "markdown",
      "source": [
        "(3) 以前話した内容を覚えていて、会話が続くようにせよ。"
      ],
      "metadata": {
        "id": "tK1sk5jqpDhe"
      }
    },
    {
      "cell_type": "code",
      "source": [],
      "metadata": {
        "id": "LhXJYHDGo83z"
      },
      "execution_count": null,
      "outputs": []
    },
    {
      "cell_type": "markdown",
      "source": [
        "# 4. 自由記述"
      ],
      "metadata": {
        "id": "tlJcI_mGpRmq"
      }
    },
    {
      "cell_type": "markdown",
      "source": [
        "（解答欄）\n"
      ],
      "metadata": {
        "id": "KZg-hp1LpZno"
      }
    }
  ]
}