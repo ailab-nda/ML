{
  "nbformat": 4,
  "nbformat_minor": 0,
  "metadata": {
    "colab": {
      "name": "WebScraping.ipynb",
      "provenance": [],
      "authorship_tag": "ABX9TyPIiBePq3RZHcr60RsvgU87",
      "include_colab_link": true
    },
    "kernelspec": {
      "name": "python3",
      "display_name": "Python 3"
    },
    "language_info": {
      "name": "python"
    }
  },
  "cells": [
    {
      "cell_type": "markdown",
      "metadata": {
        "id": "view-in-github",
        "colab_type": "text"
      },
      "source": [
        "<a href=\"https://colab.research.google.com/github/ailab-nda/ML/blob/main/WebScraping.ipynb\" target=\"_parent\"><img src=\"https://colab.research.google.com/assets/colab-badge.svg\" alt=\"Open In Colab\"/></a>"
      ]
    },
    {
      "cell_type": "markdown",
      "metadata": {
        "id": "j0D9z46FRruS"
      },
      "source": [
        "# Web スクレイピング\n",
        "\n",
        "出典　https://code.dividable.net/tutorials/python-scraping-blog/"
      ]
    },
    {
      "cell_type": "code",
      "metadata": {
        "id": "EQwnjsnWRuHg"
      },
      "source": [
        "import pandas as pd\n",
        "import csv\n",
        "import time\n",
        "import random\n",
        "import re\n",
        "import json\n",
        "from bs4 import BeautifulSoup\n",
        "import requests"
      ],
      "execution_count": null,
      "outputs": []
    },
    {
      "cell_type": "markdown",
      "metadata": {
        "id": "VLcUZUT1R3Zy"
      },
      "source": [
        "## WebページのHTMLを取得"
      ]
    },
    {
      "cell_type": "code",
      "metadata": {
        "id": "SwAsQnEsR1S5"
      },
      "source": [
        "response = requests.get(\"https://honnobi.com/proverb-roland\")\n",
        "html_doc = response.text\n",
        "soup = BeautifulSoup(html_doc, 'html.parser') \n",
        "#print(soup.prettify())"
      ],
      "execution_count": null,
      "outputs": []
    },
    {
      "cell_type": "markdown",
      "metadata": {
        "id": "X77loHfUR-t4"
      },
      "source": [
        "## 欲しい部分を抽出"
      ]
    },
    {
      "cell_type": "code",
      "metadata": {
        "id": "nPpbEG9kR7d7"
      },
      "source": [
        "# ここはソースを見て必要なところを決める\n",
        "tags = soup.find_all(\"strong\")\n",
        "for i in tags:\n",
        "    print(i.text)"
      ],
      "execution_count": null,
      "outputs": []
    },
    {
      "cell_type": "markdown",
      "metadata": {
        "id": "8l7xdKrYSPH5"
      },
      "source": [
        "## ファイルに保存"
      ]
    },
    {
      "cell_type": "code",
      "metadata": {
        "id": "i2dG1ktCSMhC"
      },
      "source": [
        "f = open(\"roland.txt\",\"w\")\n",
        "for i in tags:\n",
        "    f.write(i.text+\"\\n\")\n",
        "f.close()"
      ],
      "execution_count": null,
      "outputs": []
    }
  ]
}