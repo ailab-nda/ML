{
  "cells": [
    {
      "cell_type": "markdown",
      "metadata": {
        "id": "view-in-github",
        "colab_type": "text"
      },
      "source": [
        "<a href=\"https://colab.research.google.com/github/ailab-nda/ML/blob/main/AI_test.ipynb\" target=\"_parent\"><img src=\"https://colab.research.google.com/assets/colab-badge.svg\" alt=\"Open In Colab\"/></a>"
      ]
    },
    {
      "cell_type": "markdown",
      "metadata": {
        "id": "8YRoiyPbHab9"
      },
      "source": [
        "# 人工知能試験問題"
      ]
    },
    {
      "cell_type": "markdown",
      "metadata": {
        "id": "ui08Czh7HacD"
      },
      "source": [
        "解答は本ノートに直接記述の上、出来上がったファイルをダウンロードして提出すること。\n",
        "（解答欄はクリックすると書き込めます）"
      ]
    },
    {
      "cell_type": "markdown",
      "metadata": {
        "id": "v7nVHuzGHacD"
      },
      "source": [
        "## 1. Python 基礎知識"
      ]
    },
    {
      "cell_type": "markdown",
      "metadata": {
        "id": "o5KXDr3IHacE"
      },
      "source": [
        "(1) 整数のリストを引数とし、その中の奇数だけからなるリストを返す関数 select_odd を作成せよ。"
      ]
    },
    {
      "cell_type": "code",
      "execution_count": null,
      "metadata": {
        "id": "1bJtCRglHacE"
      },
      "outputs": [],
      "source": [
        "# 解答欄\n",
        "\n",
        "def select_even(x):\n",
        "    # 以下に処理を書く。\n"
      ]
    },
    {
      "cell_type": "markdown",
      "metadata": {
        "id": "gXEqamM4HacF"
      },
      "source": [
        "(2) a = [1, 4, 9, 16, 25, 36, 49, 64, 81, 100] に対し、作成した関数を適用せよ。"
      ]
    },
    {
      "cell_type": "code",
      "execution_count": null,
      "metadata": {
        "id": "nDUYzp_JHacF"
      },
      "outputs": [],
      "source": [
        "# 解答欄\n",
        "\n",
        "a = [1, 4, 9, 16, 25, 36, 49, 64, 81, 100]\n",
        "# 作成した関数にaを入力して実行させる"
      ]
    },
    {
      "cell_type": "markdown",
      "metadata": {
        "id": "ySfOJqcmHacF"
      },
      "source": [
        "(2) 着校日（2021年4月1日）から今日（2023年9月13日)まで何日経ったかを Python で計算せよ。"
      ]
    },
    {
      "cell_type": "code",
      "execution_count": null,
      "metadata": {
        "id": "qFG7H6GqHacG"
      },
      "outputs": [],
      "source": [
        "# 解答欄\n",
        "\n",
        "from datetime import date\n",
        "date1 = date(2021,4,1)\n",
        "date2 = date(2023,9,13)\n",
        "difference = # 日数の差を計算し、difference 変数に格納する。\n",
        "\n",
        "print(\"経過日数：\", difference)"
      ]
    },
    {
      "cell_type": "markdown",
      "metadata": {
        "id": "4yzuOXCAHacG"
      },
      "source": [
        "## 2. 機械学習の理論\n",
        "数式の書き方はこちら→ https://qiita.com/namoshika/items/63db972bfd1030f8264a"
      ]
    },
    {
      "cell_type": "markdown",
      "metadata": {
        "id": "OP4-_-vxHacH"
      },
      "source": [
        "(1) 特徴ベクトルを $\\vec{x}$, クラスを $w_i$ ($i = 1, \\cdots, c)$ としたとき、事後確率 $P(w_i|\\vec{x})$ を事前確率 $P(w_i)$ と尤度 $P(\\vec{x}|w_i)$ を用いて表せ。\n"
      ]
    },
    {
      "cell_type": "markdown",
      "metadata": {
        "id": "_tgzZiWVHacH"
      },
      "source": [
        "解答欄：\n"
      ]
    },
    {
      "cell_type": "markdown",
      "metadata": {
        "id": "OB3F3odfHacH"
      },
      "source": [
        "(2) 最尤推定および最大事後確率推定を (1) の式を用いて表せ。"
      ]
    },
    {
      "cell_type": "markdown",
      "metadata": {
        "id": "hTlwlvEFHacH"
      },
      "source": [
        "解答欄："
      ]
    },
    {
      "cell_type": "markdown",
      "metadata": {
        "id": "uQk2rVn4HacI"
      },
      "source": [
        "(3) コロナの感染者の割合は、0.2% である。抗原検査をすると、コロナに罹患してる者のうち、99% が陽性反応を示す。しかし、罹患していない者でも、3% は陽性反応を示してしまう。さて、Aさんが抗原検査を受けたところ陽性反応が出た。Aさんが実際にコロナに罹っている確率はいくつか？"
      ]
    },
    {
      "cell_type": "markdown",
      "metadata": {
        "id": "R_CaXp7xHacI"
      },
      "source": [
        "解答欄：\n"
      ]
    },
    {
      "cell_type": "markdown",
      "metadata": {
        "id": "HvgY5i-THacI"
      },
      "source": [
        "## 3. 機械学習実践\n",
        "\n",
        "ある遭難した船に乗っていた乗客の生死を、まとめたデータがある(titanic.csv)。\n",
        "データの各欄には以下の属性が含まれている。\n",
        "\n",
        "- Survived: 　　生存結果 (1: 生存, 2: 死亡)\n",
        "- Pclass: 　　　乗客の階級 1が一番位が高い\n",
        "- Name: 　　 　乗客の名前\n",
        "- Sex: 　　　　 性別\n",
        "- Age: 　　　　 年齢\n",
        "- SibSp: 　　 　 兄弟、配偶者の数。\n",
        "- Parch: 　　　　両親、子供の数。\n",
        "- Ticket: 　　　 チケット番号。\n",
        "- Fare: 　　　　 乗船料金。\n",
        "- Cabin: 　　　　部屋番号\n",
        "- Embarked: 　　 乗船した港（Cherbourg、Queenstown、Southamptonの３種類）"
      ]
    },
    {
      "cell_type": "markdown",
      "metadata": {
        "id": "Z1oNc08HHacK"
      },
      "source": [
        "titanic.csv をデータフレームとして読み込み、df と名付ける。"
      ]
    },
    {
      "cell_type": "code",
      "execution_count": null,
      "metadata": {
        "id": "8QuSEXQcHacK"
      },
      "outputs": [],
      "source": [
        "import pandas as pd\n",
        "url = 'https://raw.githubusercontent.com/ailab-nda/ML/main/titanic.csv'\n",
        "df = pd.read_csv(url)\n",
        "df"
      ]
    },
    {
      "cell_type": "markdown",
      "metadata": {
        "id": "DpzZF6nYHacL"
      },
      "source": [
        "このデータには欠損値があるため、欠損値を確認してみる。"
      ]
    },
    {
      "cell_type": "code",
      "execution_count": null,
      "metadata": {
        "id": "cjuQsGcpHacL"
      },
      "outputs": [],
      "source": [
        "df.isnull().sum()"
      ]
    },
    {
      "cell_type": "markdown",
      "metadata": {
        "id": "lVTc7T9NHacL"
      },
      "source": [
        "欠損値があるとアルゴリズムがうまく働かないので補完する。"
      ]
    },
    {
      "cell_type": "code",
      "execution_count": null,
      "metadata": {
        "id": "uwpEqwlsHacM"
      },
      "outputs": [],
      "source": [
        "# age と embarked の欠損値の補完\n",
        "df[\"age\"] = df[\"age\"].fillna(df[\"age\"].median())\n",
        "df[\"embarked\"] = df[\"embarked\"].fillna(\"S\")\n",
        "df[\"fare\"] = df[\"fare\"].fillna(df[\"fare\"].median())"
      ]
    },
    {
      "cell_type": "markdown",
      "metadata": {
        "id": "C6ZdxzZVHacM"
      },
      "source": [
        "(1) 欠損値の埋め方にはどのようなものがあるか、列挙して説明せよ。また、上記ではどのような手法で欠損値を埋めているか説明せよ。"
      ]
    },
    {
      "cell_type": "markdown",
      "metadata": {
        "id": "h8rC6cuuHacM"
      },
      "source": [
        "解答欄：\n"
      ]
    },
    {
      "cell_type": "markdown",
      "metadata": {
        "id": "oHnthAOZHacM"
      },
      "source": [
        "再度確認すると欠損値はなくなっている。（注：cabin は空欄が多すぎるので今回は使用しない）"
      ]
    },
    {
      "cell_type": "code",
      "execution_count": null,
      "metadata": {
        "id": "4Puhc9r3HacM"
      },
      "outputs": [],
      "source": [
        "df.isnull().sum()"
      ]
    },
    {
      "cell_type": "markdown",
      "metadata": {
        "id": "4Nc3LXcoHacN"
      },
      "source": [
        "また、文字があるとうまく動かないアルゴリズムがあるので数値に直す。"
      ]
    },
    {
      "cell_type": "code",
      "execution_count": null,
      "metadata": {
        "id": "cyxwtkMcHacN"
      },
      "outputs": [],
      "source": [
        "df[\"sex\"] = df[\"sex\"].map({\"male\":0, \"female\":1})\n",
        "df[\"embarked\"] = df[\"embarked\"].map({\"S\":0, \"C\":1, \"Q\":2})\n",
        "df[\"fare\"] = df[\"fare\"].astype(\"int64\")"
      ]
    },
    {
      "cell_type": "markdown",
      "metadata": {
        "id": "39ezBqGlHacN"
      },
      "source": [
        "データフレームがどうなったか確認する。"
      ]
    },
    {
      "cell_type": "code",
      "execution_count": null,
      "metadata": {
        "id": "MkdxCLLiHacN"
      },
      "outputs": [],
      "source": [
        "df"
      ]
    },
    {
      "cell_type": "markdown",
      "metadata": {
        "id": "w7npvzb5HacN"
      },
      "source": [
        "データを X, y に分割せよ。ただし、X = (年齢, 乗客の階級, 乗船地)、y = 生死　とする。"
      ]
    },
    {
      "cell_type": "code",
      "execution_count": null,
      "metadata": {
        "id": "Fd3ObGcpHacN"
      },
      "outputs": [],
      "source": [
        "# 解答欄\n",
        "\n",
        "X = # df から　\"age\", \"pclass\", \"embarked\" の列を抽出\n",
        "y = # df から \"survived\" の列を抽出"
      ]
    },
    {
      "cell_type": "markdown",
      "metadata": {
        "id": "naA_FR5pHacO"
      },
      "source": [
        "(2) RandomForestClassifier による分類性能を、10分割交差検証により評価せよ。学習器を clf とすること。"
      ]
    },
    {
      "cell_type": "code",
      "execution_count": null,
      "metadata": {
        "id": "IdFMeq-qHacO"
      },
      "outputs": [],
      "source": [
        "#　解答欄\n",
        "\n",
        "from sklearn.model_selection import cross_val_score\n",
        "from sklearn.ensemble import RandomForestClassifier\n",
        "\n",
        "clf = # 学習器を設定する\n",
        "\n",
        "scores = # 交差検証の実施：cross_val_score 関数\n",
        "print(\"Accuracy: %0.2f (+/- %0.2f)\" % (scores.mean(), scores.std()*2))"
      ]
    },
    {
      "cell_type": "markdown",
      "metadata": {
        "id": "YMMFdR4PHacO"
      },
      "source": [
        "(3) SVM による分類性能を、10分割交差検証により評価せよ。"
      ]
    },
    {
      "cell_type": "code",
      "execution_count": null,
      "metadata": {
        "id": "rEdALeGEHacO"
      },
      "outputs": [],
      "source": [
        "from sklearn import svm\n",
        "clf = # 学習器を SVM に設定\n",
        "scores = # 交差検証の実施：cross_val_score 関数\n",
        "print(\"Accuracy: %0.2f (+/- %0.2f)\" % (scores.mean(), scores.std()*2))"
      ]
    },
    {
      "cell_type": "markdown",
      "metadata": {
        "id": "7IKQhBGuHacO"
      },
      "source": [
        "(4) X に性別を追加したら結果（正解率）はどうなるか？"
      ]
    },
    {
      "cell_type": "code",
      "execution_count": null,
      "metadata": {
        "id": "c_v5d6hBHacO"
      },
      "outputs": [],
      "source": [
        "# 解答欄\n",
        "#入力は、年齢、階級、乗船地、性別としてください。\n",
        "X = #入力の再設定\n",
        "scores = cross_val_score(clf, X, y, cv=10)\n",
        "print(\"Accuracy: %0.2f (+/- %0.2f)\" % (scores.mean(), scores.std()*2))"
      ]
    },
    {
      "cell_type": "markdown",
      "metadata": {
        "id": "o24AZ1mtHacP"
      },
      "source": [
        "(5) Xにその他の要素を入れたら結果（正解率）はどうなるか？"
      ]
    },
    {
      "cell_type": "code",
      "execution_count": null,
      "metadata": {
        "id": "FocudzSKHacP"
      },
      "outputs": [],
      "source": [
        "# 解答欄\n",
        "#入力の再々設定\n",
        "scores = cross_val_score(clf, X, y, cv=10)\n",
        "print(\"Accuracy: %0.2f (+/- %0.2f)\" % (scores.mean(), scores.std()*2))"
      ]
    },
    {
      "cell_type": "markdown",
      "metadata": {
        "id": "wugKqzPwHacP"
      },
      "source": [
        "(6) 決定木による判断の可視化を以下に示す。生死の判断にもっとも効いている属性は何か？"
      ]
    },
    {
      "cell_type": "code",
      "execution_count": null,
      "metadata": {
        "id": "u-OcGokNHacP"
      },
      "outputs": [],
      "source": [
        "from sklearn import tree\n",
        "from IPython.display import Image\n",
        "from sklearn.tree import export_graphviz\n",
        "import pydotplus\n",
        "\n",
        "rt = tree.DecisionTreeRegressor(max_depth = 3)\n",
        "rt.fit(X, y)\n",
        "\n",
        "dot_data = export_graphviz(rt, out_file=None,\n",
        "                         feature_names=X.columns,\n",
        "                         filled=True, rounded=True,\n",
        "                         special_characters=True)\n",
        "graph = pydotplus.graph_from_dot_data(dot_data)\n",
        "Image(graph.create_png())"
      ]
    },
    {
      "cell_type": "markdown",
      "metadata": {
        "id": "oVIsTnvEHacP"
      },
      "source": [
        "解答欄："
      ]
    },
    {
      "cell_type": "markdown",
      "metadata": {
        "id": "Ocr67JLIHacP"
      },
      "source": [
        "# 4. 自由記述\n",
        "・どうしてもこの科目を取らないといけない理由 <br>\n",
        "・授業の感想・要望 <br>\n",
        "など"
      ]
    },
    {
      "cell_type": "markdown",
      "metadata": {
        "id": "x1h9ueyYHacP"
      },
      "source": [
        "解答欄："
      ]
    }
  ],
  "metadata": {
    "kernelspec": {
      "display_name": "Python 3.9.7 64-bit ('base')",
      "language": "python",
      "name": "python3"
    },
    "language_info": {
      "codemirror_mode": {
        "name": "ipython",
        "version": 3
      },
      "file_extension": ".py",
      "mimetype": "text/x-python",
      "name": "python",
      "nbconvert_exporter": "python",
      "pygments_lexer": "ipython3",
      "version": "3.9.7"
    },
    "vscode": {
      "interpreter": {
        "hash": "dcf9e2717909001467cf879b1089e6e80dddbfb5060f305c8aadf7a9adff89a8"
      }
    },
    "colab": {
      "provenance": [],
      "include_colab_link": true
    }
  },
  "nbformat": 4,
  "nbformat_minor": 0
}