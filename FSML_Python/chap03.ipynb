{
  "cells": [
    {
      "cell_type": "markdown",
      "metadata": {
        "id": "QSl50_WH-dtG"
      },
      "source": [
        "<a href=\"https://colab.research.google.com/github/MasahiroAraki/MachineLearning/blob/master/Python/chap03.ipynb\" target=\"_parent\"><img src=\"https://colab.research.google.com/assets/colab-badge.svg\" alt=\"Open In Colab\"/></a>"
      ]
    },
    {
      "cell_type": "markdown",
      "metadata": {
        "id": "FxLJXx8IbjWN"
      },
      "source": [
        "# 3. 識別 ー概念学習ー"
      ]
    },
    {
      "cell_type": "markdown",
      "metadata": {
        "id": "wy9u7hGFve5y"
      },
      "source": [
        "## カテゴリカルデータで決定木を作成"
      ]
    },
    {
      "cell_type": "markdown",
      "metadata": {
        "id": "NwNlNk7pKSMu"
      },
      "source": [
        "ライブラリの読み込み"
      ]
    },
    {
      "cell_type": "code",
      "execution_count": null,
      "metadata": {
        "id": "gnDg4bCkvbQ2"
      },
      "outputs": [],
      "source": [
        "import numpy as np\n",
        "import pandas as pd\n",
        "from matplotlib import pyplot as plt\n",
        "from sklearn.datasets import fetch_openml\n",
        "from sklearn.preprocessing import OneHotEncoder\n",
        "from sklearn.preprocessing import LabelEncoder\n",
        "from sklearn.tree import DecisionTreeClassifier, plot_tree"
      ]
    },
    {
      "cell_type": "markdown",
      "metadata": {
        "id": "VFttuoXeHxgF"
      },
      "source": [
        "Contact-lensesデータの取得"
      ]
    },
    {
      "cell_type": "code",
      "execution_count": null,
      "metadata": {
        "id": "Lv0qvDxC9cYG"
      },
      "outputs": [],
      "source": [
        "df = fetch_openml(name='contact-lenses', parser=\"auto\")\n",
        "df.data"
      ]
    },
    {
      "cell_type": "code",
      "execution_count": null,
      "metadata": {
        "id": "BAY2gG1lrq5o"
      },
      "outputs": [],
      "source": [
        "X = df.data.drop('contact-lenses', axis=1)\n",
        "y = df.data.loc[:, 'contact-lenses']"
      ]
    },
    {
      "cell_type": "markdown",
      "metadata": {
        "id": "TVB7ZxLEOn5C"
      },
      "source": [
        " Contact-lensesデータの特徴値とクラス\n",
        "\n",
        " - age (目の年齢) {'young', 'pre-presbyopic', 'presbyopic'} (若年, 老眼前期, 老眼)\n",
        " - spectacle-prescrip (眼鏡) {'myope', 'hypermetrope'} (近視, 遠視)\n",
        " - astigmatism (乱視) {'no', 'yes'} (なし, あり)\n",
        " - tear-prod-rate (涙量) {'reduced', 'normal'} (減少, 正常)\n",
        " - contact-lenses (クラス) {'soft', 'hard', 'none'} (ソフト, ハード, なし)"
      ]
    },
    {
      "cell_type": "markdown",
      "metadata": {
        "id": "KeTI-yB3IBYI"
      },
      "source": [
        "カテゴリカルデータを数値データに変換\n",
        "\n",
        "\n",
        "*   特徴ベクトルは[OneHotEncoder](https://scikit-learn.org/stable/modules/generated/sklearn.preprocessing.OneHotEncoder.html)で、各特徴の値毎のバイナリ値に変換\n",
        "*   正解は[LabelEncoder](https://scikit-learn.org/stable/modules/generated/sklearn.preprocessing.LabelEncoder.html)で整数値に変換\n",
        "\n"
      ]
    },
    {
      "cell_type": "code",
      "execution_count": null,
      "metadata": {
        "id": "wYoeR6g_-j1Z"
      },
      "outputs": [],
      "source": [
        "enc_X =  OneHotEncoder(sparse_output=False)\n",
        "X2 = enc_X.fit_transform(X)\n",
        "enc_X.get_feature_names_out()"
      ]
    },
    {
      "cell_type": "code",
      "execution_count": null,
      "metadata": {
        "id": "nGd5F-9H-j5J"
      },
      "outputs": [],
      "source": [
        "X2"
      ]
    },
    {
      "cell_type": "code",
      "execution_count": null,
      "metadata": {
        "id": "esRmdC9wB5Ct"
      },
      "outputs": [],
      "source": [
        "enc_y = LabelEncoder()\n",
        "y2 = enc_y.fit_transform(y)\n",
        "enc_y.classes_"
      ]
    },
    {
      "cell_type": "code",
      "execution_count": null,
      "metadata": {
        "id": "3UUcZddPFTKB"
      },
      "outputs": [],
      "source": [
        "y2"
      ]
    },
    {
      "cell_type": "markdown",
      "metadata": {
        "id": "DObVEJslJVTl"
      },
      "source": [
        "決定木の学習と表示\n",
        "\n",
        "\n",
        "*   ノードに書かれている分岐条件が成立するならば左、不成立ならば右の枝を選ぶ\n",
        "  * 左の枝に True, 右の枝に False のラベルが付いていると解釈すればよい\n",
        "  * たとえば `tear-prod-rate_normal <= 0.5` は `tear-prod-rate` の値が `normal` でなければ（すなわち`reduced`であれば）、左の枝を選ぶと解釈する\n",
        "* ノードのclassは最頻のクラスを表す\n",
        "* リーフのclassは分類結果を表す\n",
        "* いずれも色で（最頻の）クラス、色の濃さでその割合を表す\n",
        "\n"
      ]
    },
    {
      "cell_type": "markdown",
      "metadata": {
        "id": "Yilxc2_LT81q"
      },
      "source": [
        "木の表示は、scikit-learn ver0.21以降で導入された [sklearn.tree.plot_tree](https://scikit-learn.org/stable/modules/generated/sklearn.tree.plot_tree.html) メソッドによって、教科書p.57のコードよりもかなり簡単になっています。  "
      ]
    },
    {
      "cell_type": "code",
      "execution_count": null,
      "metadata": {
        "id": "nFO3dbVTBV1a"
      },
      "outputs": [],
      "source": [
        "clf = DecisionTreeClassifier(min_samples_leaf=3, random_state=9)\n",
        "clf.fit(X2, y2)\n",
        "plt.figure(figsize=(10,7)) #表示領域を(横, 縦)で指定\n",
        "plot_tree(clf, filled=True, fontsize=10,\n",
        "          feature_names=enc_X.get_feature_names_out(),\n",
        "          class_names=enc_y.classes_)\n",
        "plt.show()"
      ]
    },
    {
      "cell_type": "markdown",
      "metadata": {
        "id": "w_DYAfnH-dtI"
      },
      "source": [
        "## 数値データで決定木を作成\n",
        "\n",
        "第2章で用いたirisデータで決定木を作成します。"
      ]
    },
    {
      "cell_type": "code",
      "execution_count": null,
      "metadata": {
        "id": "11Wt96B3biZq"
      },
      "outputs": [],
      "source": [
        "import numpy as np\n",
        "import matplotlib.pyplot as plt\n",
        "from sklearn.datasets import load_iris\n",
        "from sklearn.tree import DecisionTreeClassifier, plot_tree\n",
        "from sklearn.model_selection import cross_val_score"
      ]
    },
    {
      "cell_type": "code",
      "execution_count": null,
      "metadata": {
        "id": "HoIlnGw2-dtJ"
      },
      "outputs": [],
      "source": [
        "iris = load_iris()\n",
        "X = iris.data\n",
        "y = iris.target"
      ]
    },
    {
      "cell_type": "markdown",
      "metadata": {
        "id": "Y58TDneZ-dtK"
      },
      "source": [
        "まず、全学習データで決定木を作成し、表示します。"
      ]
    },
    {
      "cell_type": "code",
      "execution_count": null,
      "metadata": {
        "id": "tYzi6tCA-dtK"
      },
      "outputs": [],
      "source": [
        "clf = DecisionTreeClassifier()\n",
        "clf.fit(X, y)"
      ]
    },
    {
      "cell_type": "code",
      "execution_count": null,
      "metadata": {
        "id": "ScNCoLWR-dtL"
      },
      "outputs": [],
      "source": [
        "plt.figure(figsize=(14,10))\n",
        "plot_tree(clf, filled=True, fontsize=10, feature_names=iris.feature_names, class_names=iris.target_names)\n",
        "plt.show()"
      ]
    },
    {
      "cell_type": "markdown",
      "metadata": {
        "id": "6hICL-dh-dtM"
      },
      "source": [
        "交差確認法で性能評価を行います。"
      ]
    },
    {
      "cell_type": "code",
      "execution_count": null,
      "metadata": {
        "id": "fXdQ658e-dtM"
      },
      "outputs": [],
      "source": [
        "scores = cross_val_score(clf, X, y, cv=10)\n",
        "print(f'Accuracy: {scores.mean():.2f} (+/- {scores.std()*2:.2f})')"
      ]
    },
    {
      "cell_type": "markdown",
      "metadata": {
        "id": "J3dzSQqT-dtM"
      },
      "source": [
        "# 演習問題\n",
        "\n",
        "scikit-learn付属のwineデータで決定木の作成・表示と交差確認法による評価を行ってください。可能ならば、木の深さを変えて性能の違いを調べてください。（wineデータの説明 -> https://atmarkit.itmedia.co.jp/ait/articles/2208/25/news046.html）\n"
      ]
    },
    {
      "cell_type": "markdown",
      "metadata": {
        "id": "h_dFZJ4eV_0p"
      },
      "source": [
        "## 解答欄"
      ]
    },
    {
      "cell_type": "markdown",
      "metadata": {
        "id": "B46MP8ZaV_tS"
      },
      "source": [
        "決定木の作成および表示"
      ]
    },
    {
      "cell_type": "code",
      "execution_count": null,
      "metadata": {
        "id": "o0zhzfVPVsus"
      },
      "outputs": [],
      "source": [
        "import numpy as np\n",
        "import pandas as pd\n",
        "import matplotlib.pyplot as plt\n",
        "from sklearn.datasets import load_wine\n",
        "from sklearn.tree import DecisionTreeClassifier, plot_tree\n",
        "from sklearn.model_selection import cross_val_score"
      ]
    },
    {
      "cell_type": "code",
      "execution_count": null,
      "metadata": {
        "id": "jZkh1VM7BEHs"
      },
      "outputs": [],
      "source": [
        "wine = load_wine(as_frame=True)\n",
        "X = wine.data\n",
        "y = wine.target"
      ]
    },
    {
      "cell_type": "code",
      "execution_count": null,
      "metadata": {
        "id": "eT9gRnPKBTyv"
      },
      "outputs": [],
      "source": [
        "X.describe()"
      ]
    },
    {
      "cell_type": "markdown",
      "metadata": {
        "id": "vnJFF17SBk5S"
      },
      "source": [
        "木の作成"
      ]
    },
    {
      "cell_type": "code",
      "execution_count": null,
      "metadata": {
        "id": "KXgrBugMBEMa"
      },
      "outputs": [],
      "source": [
        "# 決定木を作成し、\n",
        "# 学習を行い、\n",
        "# 結果をプロットするプログラムをここに書く"
      ]
    },
    {
      "cell_type": "markdown",
      "metadata": {
        "id": "okCIgvqsXB3J"
      },
      "source": [
        "木の深さと性能の関係"
      ]
    },
    {
      "cell_type": "code",
      "execution_count": null,
      "metadata": {
        "id": "uvaFfC4sAFrc"
      },
      "outputs": [],
      "source": [
        "clf = DecisionTreeClassifier(max_depth=2)\n",
        "scores = cross_val_score(clf, X, y, cv=10)\n",
        "print(f'Accuracy: {scores.mean():.2f} (+/- {scores.std()*2:.2f})')"
      ]
    },
    {
      "cell_type": "markdown",
      "metadata": {
        "id": "JxOBA_t9ETWu"
      },
      "source": [
        "## 3. 解答例\n",
        "\n",
        "決定木では、特徴ベクトルの個々の次元の値のみでデータの分割が行われるので、他の次元とスケールや平均が異なっていても、結果に影響を及ぼしません。また、標準化を行って値そのものを変えてしまうと、学習された決定木の解釈性が失われます。"
      ]
    },
    {
      "cell_type": "markdown",
      "metadata": {
        "id": "22FJANngIMVl"
      },
      "source": [
        "## 参考 find-S アルゴリズム"
      ]
    },
    {
      "cell_type": "code",
      "execution_count": null,
      "metadata": {
        "id": "DK7H45TaGWHl"
      },
      "outputs": [],
      "source": [
        "# generated by GPT-4\n",
        "\n",
        "import numpy as np\n",
        "import pandas as pd\n",
        "from sklearn.datasets import fetch_openml\n",
        "from sklearn.preprocessing import LabelEncoder\n",
        "\n",
        "# contact-lenses データの取得\n",
        "df = fetch_openml(name='contact-lenses', parser=\"auto\")\n",
        "X = df.data.drop('contact-lenses', axis=1)\n",
        "y = df.data.loc[:, 'contact-lenses']\n",
        "\n",
        "# データのエンコード\n",
        "# 特徴量の名前を取得してエンコーディングする\n",
        "feature_names = X.columns\n",
        "X_encoded = X.copy()\n",
        "encoders = {}\n",
        "\n",
        "for col in feature_names:\n",
        "    # 各特徴量のエンコーダーを生成\n",
        "    encoders[col] = LabelEncoder()\n",
        "    X_encoded[col] = encoders[col].fit_transform(X[col])\n",
        "\n",
        "# ターゲット変数のエンコーディング\n",
        "le = LabelEncoder()\n",
        "y_encoded = le.fit_transform(y)\n",
        "\n",
        "# noneの値をエンコードする\n",
        "target_value = le.transform(['none'])[0]\n",
        "\n",
        "# find-sアルゴリズムの実装\n",
        "def find_s(data, target, target_value):\n",
        "    # 最初の正の例を見つける\n",
        "    for i in range(len(target)):\n",
        "        if target[i] == target_value:\n",
        "            specific_hypothesis = data.iloc[i].tolist()\n",
        "            break\n",
        "\n",
        "    # 最も特定的な仮説を見つける\n",
        "    for i in range(len(target)):\n",
        "        if target[i] == target_value:\n",
        "            instance = data.iloc[i].tolist()\n",
        "            specific_hypothesis = [specific_hypothesis[j] if specific_hypothesis[j] == instance[j] else '?' for j in range(len(specific_hypothesis))]\n",
        "            print(f'{i}: {specific_hypothesis}')\n",
        "\n",
        "    return specific_hypothesis\n",
        "\n",
        "# アルゴリズムを適用\n",
        "hypothesis = find_s(X_encoded, y_encoded, target_value)\n",
        "\n",
        "# 結果の表示\n",
        "print(\"Find-Sの結果の仮説:\")\n",
        "print(hypothesis)\n",
        "\n",
        "# 各特徴量のデコーディング（結果の仮説を理解しやすい形にする）\n",
        "decoded_hypothesis = {}\n",
        "for i, feature in enumerate(feature_names):\n",
        "    if hypothesis[i] != '?':\n",
        "        decoded_hypothesis[feature] = encoders[feature].inverse_transform([hypothesis[i]])[0]\n",
        "    else:\n",
        "        decoded_hypothesis[feature] = '?'\n",
        "\n",
        "print(\"\\nデコードされた仮説:\")\n",
        "print(decoded_hypothesis)\n"
      ]
    }
  ],
  "metadata": {
    "colab": {
      "provenance": []
    },
    "kernelspec": {
      "display_name": "Python 3",
      "name": "python3"
    },
    "language_info": {
      "name": "python",
      "version": "3.11.5"
    }
  },
  "nbformat": 4,
  "nbformat_minor": 0
}