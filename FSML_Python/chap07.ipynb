{
  "nbformat": 4,
  "nbformat_minor": 0,
  "metadata": {
    "colab": {
      "provenance": [],
      "include_colab_link": true
    },
    "kernelspec": {
      "name": "python3",
      "display_name": "Python 3"
    },
    "language_info": {
      "name": "python"
    }
  },
  "cells": [
    {
      "cell_type": "markdown",
      "metadata": {
        "id": "view-in-github",
        "colab_type": "text"
      },
      "source": [
        "<a href=\"https://colab.research.google.com/github/ailab-nda/ML/blob/main/FSML_Python/chap07.ipynb\" target=\"_parent\"><img src=\"https://colab.research.google.com/assets/colab-badge.svg\" alt=\"Open In Colab\"/></a>"
      ]
    },
    {
      "cell_type": "markdown",
      "metadata": {
        "id": "MFoUdMUvfTw9"
      },
      "source": [
        "# 第7章 サポートベクトルマシン"
      ]
    },
    {
      "cell_type": "markdown",
      "metadata": {
        "id": "Ug3ps1i-iD_g"
      },
      "source": [
        "## 7.1 マージンを最大とする識別面を求める"
      ]
    },
    {
      "cell_type": "code",
      "metadata": {
        "id": "HRV7wDs9fTw-"
      },
      "source": [
        "import numpy as np\n",
        "import pandas as pd\n",
        "import matplotlib.pyplot as plt\n",
        "from mlxtend.plotting import plot_decision_regions\n",
        "from sklearn.datasets import make_classification\n",
        "from sklearn.svm import SVC"
      ],
      "execution_count": null,
      "outputs": []
    },
    {
      "cell_type": "markdown",
      "metadata": {
        "id": "VsbIu7W4fTxB"
      },
      "source": [
        "乱数を使って、データを生成\n",
        "* 2クラス\n",
        "* 特徴ベクトルは2次元（冗長な次元はなし）\n",
        "* 各クラスにつき一つの正規分布からデータを生成\n",
        "* ランダムにクラスを反転させることは行わない\n",
        "* クラスが適度に分かれているように調整"
      ]
    },
    {
      "cell_type": "code",
      "metadata": {
        "id": "oPIjslFSfTxB"
      },
      "source": [
        "X, y = make_classification(n_features=2, n_redundant=0, n_clusters_per_class=1, flip_y=0, class_sep=2.0, random_state=2)\n",
        "plt.plot(X[y==0,0], X[y==0,1],\"bs\")\n",
        "plt.plot(X[y==1,0], X[y==1,1],\"r^\")\n",
        "plt.show()"
      ],
      "execution_count": null,
      "outputs": []
    },
    {
      "cell_type": "markdown",
      "metadata": {
        "id": "E-QWxYEDkxct"
      },
      "source": [
        "線形カーネル(linear)は、この特徴空間でマージン最大化を行うものです。"
      ]
    },
    {
      "cell_type": "code",
      "metadata": {
        "id": "5JBypJenfTxG"
      },
      "source": [
        "clf = SVC(kernel='linear')\n",
        "clf.fit(X, y)"
      ],
      "execution_count": null,
      "outputs": []
    },
    {
      "cell_type": "markdown",
      "metadata": {
        "id": "GcqpYUaolBes"
      },
      "source": [
        "識別面を表示します。各クラスのサポートベクトルと識別面の距離が等しくなっているのがわかります。"
      ]
    },
    {
      "cell_type": "code",
      "metadata": {
        "id": "lUbkKWRtfTxI"
      },
      "source": [
        "plot_decision_regions(X=X, y=y, clf=clf, legend=2)\n",
        "plt.show()"
      ],
      "execution_count": null,
      "outputs": []
    },
    {
      "cell_type": "markdown",
      "metadata": {
        "id": "C97f-aZFgO4L"
      },
      "source": [
        "## 7.2 ソフトマージンによる誤識別データの吸収"
      ]
    },
    {
      "cell_type": "markdown",
      "metadata": {
        "id": "xvtv5D40kdLi"
      },
      "source": [
        "クラスの分離度(class_sep)の値を少し小さくして、やや難しいデータを作成し、同様の手順でSVMによる識別を行います。線型分離不可能なデータなので、スラック変数の重み$C$を引数で与えます。"
      ]
    },
    {
      "cell_type": "code",
      "metadata": {
        "id": "7zebeoeffTxK"
      },
      "source": [
        "X, y = make_classification(n_features=2, n_redundant=0, n_clusters_per_class=1, flip_y=0, class_sep=1.0, random_state=2)\n",
        "plt.plot(X[y==0,0], X[y==0,1],\"bs\")\n",
        "plt.plot(X[y==1,0], X[y==1,1],\"r^\")\n",
        "plt.show()"
      ],
      "execution_count": null,
      "outputs": []
    },
    {
      "cell_type": "code",
      "metadata": {
        "id": "XBxmXIOgfTxN"
      },
      "source": [
        "clf = SVC(kernel='linear', C=1)\n",
        "clf.fit(X, y)"
      ],
      "execution_count": null,
      "outputs": []
    },
    {
      "cell_type": "code",
      "metadata": {
        "id": "ziDAAEV1hnxs"
      },
      "source": [
        "plot_decision_regions(X=X, y=y, clf=clf, legend=2)\n",
        "plt.show()"
      ],
      "execution_count": null,
      "outputs": []
    },
    {
      "cell_type": "markdown",
      "metadata": {
        "id": "68Q3OdzEh_nZ"
      },
      "source": [
        "## 7.3 カーネル関数を用いたSVM\n",
        "\n",
        "非線形識別面での識別を行うので、さらにデータを複雑なものにします。"
      ]
    },
    {
      "cell_type": "code",
      "metadata": {
        "id": "s8HdUnrVla76"
      },
      "source": [
        "X, y = make_classification(n_features=2, n_redundant=0, n_clusters_per_class=1, class_sep=0.5, random_state=3)\n",
        "plt.plot(X[y==0,0], X[y==0,1],\"bs\")\n",
        "plt.plot(X[y==1,0], X[y==1,1],\"r^\")\n",
        "plt.show()"
      ],
      "execution_count": null,
      "outputs": []
    },
    {
      "cell_type": "markdown",
      "metadata": {
        "id": "7hOC3d-_ibnD"
      },
      "source": [
        "多項式カーネル"
      ]
    },
    {
      "cell_type": "code",
      "metadata": {
        "id": "RhecUvS4hnnm"
      },
      "source": [
        "clf = SVC(kernel='poly', degree=3, C=1)\n",
        "clf.fit(X, y)"
      ],
      "execution_count": null,
      "outputs": []
    },
    {
      "cell_type": "code",
      "metadata": {
        "id": "i96OVCP-hnYg"
      },
      "source": [
        "plot_decision_regions(X=X, y=y, clf=clf, legend=2)\n",
        "plt.show()"
      ],
      "execution_count": null,
      "outputs": []
    },
    {
      "cell_type": "markdown",
      "metadata": {
        "id": "nHTpnNBGjHFb"
      },
      "source": [
        "RBFカーネル"
      ]
    },
    {
      "cell_type": "code",
      "metadata": {
        "id": "bszb0QFAjEsL"
      },
      "source": [
        "clf = SVC(kernel='rbf', gamma=1, C=1)\n",
        "clf.fit(X, y)"
      ],
      "execution_count": null,
      "outputs": []
    },
    {
      "cell_type": "code",
      "metadata": {
        "id": "C2Y5gEQTjEl2"
      },
      "source": [
        "plot_decision_regions(X=X, y=y, clf=clf, legend=2)\n",
        "plt.show()"
      ],
      "execution_count": null,
      "outputs": []
    },
    {
      "cell_type": "markdown",
      "metadata": {
        "id": "_SfEDgKGjYEa"
      },
      "source": [
        "## 7.4 ハイパーパラメータのグリッドサーチ"
      ]
    },
    {
      "cell_type": "code",
      "metadata": {
        "id": "dYglD96EiD_i"
      },
      "source": [
        "from sklearn.model_selection import GridSearchCV"
      ],
      "execution_count": null,
      "outputs": []
    },
    {
      "cell_type": "markdown",
      "metadata": {
        "id": "kSUPJt4ciD_u"
      },
      "source": [
        "「スラック変数の重みC」と「多項式カーネルの次数degree」の組み合わせでGridSearchを行います。\n",
        "\n",
        "パラメータとして多項式カーネルを与えて、サポートベクトルマシン[SVC](http://scikit-learn.org/stable/modules/generated/sklearn.svm.SVC.html)のインスタンスsvcを作成します。"
      ]
    },
    {
      "cell_type": "code",
      "metadata": {
        "id": "r92WezRXiD_v"
      },
      "source": [
        "svc = SVC(kernel='poly')\n",
        "svc"
      ],
      "execution_count": null,
      "outputs": []
    },
    {
      "cell_type": "markdown",
      "metadata": {
        "id": "mPDI3ZU2iD_4"
      },
      "source": [
        "GridSearchを行います。「スラック変数の重みC」と「多項式カーネルの次数degree」の組み合わせで、リストを値とするディクショナリの配列param\\_gridを作成します。"
      ]
    },
    {
      "cell_type": "code",
      "metadata": {
        "id": "uYl9u2aOiD_5"
      },
      "source": [
        "param_grid = [\n",
        "  {'C': [0.1, 1, 10, 100, 1000], 'degree': [1,2,3]}\n",
        " ]"
      ],
      "execution_count": null,
      "outputs": []
    },
    {
      "cell_type": "markdown",
      "metadata": {
        "id": "URSRtrsRiD_9"
      },
      "source": [
        "識別器のインスタンスを第1引数、グリッドを第2引数として、[GridSearchCV](http://scikit-learn.org/stable/modules/generated/sklearn.model_selection.GridSearchCV.html)のインスタンスを作成し、fitメソッドを実行します。パラメータcvの値がNone（デフォルト）のとき、性能は5-fold CVで評価されます。許容できる実行時間を考えて、この値を調整します。"
      ]
    },
    {
      "cell_type": "code",
      "metadata": {
        "id": "Vg6gZza_iD_-"
      },
      "source": [
        "clf = GridSearchCV(svc, param_grid, cv=3)\n",
        "clf.fit(X, y)"
      ],
      "execution_count": null,
      "outputs": []
    },
    {
      "cell_type": "markdown",
      "metadata": {
        "id": "pc6aUxx_iEAE"
      },
      "source": [
        "結果はcv\\_results\\_属性の値として、辞書型で得られます。また、容易にpandasのDataFrame型に変換できます。"
      ]
    },
    {
      "cell_type": "code",
      "metadata": {
        "id": "dL-_8ikZ-hQh"
      },
      "source": [
        "df = pd.DataFrame(clf.cv_results_)\n",
        "df"
      ],
      "execution_count": null,
      "outputs": []
    },
    {
      "cell_type": "markdown",
      "metadata": {
        "id": "_qDeFiC3iEAL"
      },
      "source": [
        "すべてのパラメータの組み合わせについて、スコアを表示します。"
      ]
    },
    {
      "cell_type": "code",
      "metadata": {
        "id": "bcl_E9FOiEAM"
      },
      "source": [
        "re = clf.cv_results_\n",
        "for params, mean_score, std_score in zip(re['params'], re['mean_test_score'], re['std_test_score']):\n",
        "    print(f\"{mean_score:.3f} (+/- {std_score*2:.3f}) for {params}\")"
      ],
      "execution_count": null,
      "outputs": []
    },
    {
      "cell_type": "markdown",
      "metadata": {
        "id": "WfdcwNKriEAR"
      },
      "source": [
        "性能が最大となるパラメータとそのときのスコアを表示します。"
      ]
    },
    {
      "cell_type": "code",
      "metadata": {
        "id": "pY866InjiEAT"
      },
      "source": [
        "clf.best_params_"
      ],
      "execution_count": null,
      "outputs": []
    },
    {
      "cell_type": "code",
      "metadata": {
        "id": "9i3pFvrBiEAY"
      },
      "source": [
        "clf.best_score_"
      ],
      "execution_count": null,
      "outputs": []
    },
    {
      "cell_type": "markdown",
      "source": [
        "ガウス過程回帰の説明"
      ],
      "metadata": {
        "id": "QM9VgMkK3qp-"
      }
    },
    {
      "cell_type": "code",
      "source": [
        "import numpy as np\n",
        "import matplotlib.pyplot as plt\n",
        "from sklearn import gaussian_process\n",
        "from sklearn.gaussian_process import kernels"
      ],
      "metadata": {
        "id": "hlOQGRty3qxO"
      },
      "execution_count": null,
      "outputs": []
    },
    {
      "cell_type": "code",
      "source": [
        "X = np.array([-4, -3, -1, 0, 2])\n",
        "y = np.array([-2, 0,-1, 2, -1])\n",
        "xs = np.linspace(-5, 5, 101)\n",
        "kernel = kernels.RBF(length_scale=np.sqrt(2)) + kernels.WhiteKernel(noise_level=0.05)"
      ],
      "metadata": {
        "id": "HtCY7SFklN-F"
      },
      "execution_count": null,
      "outputs": []
    },
    {
      "cell_type": "code",
      "source": [
        "gp = gaussian_process.GaussianProcessRegressor(kernel=kernel, optimizer=None)\n",
        "gp.fit(X[:, None], y)\n",
        "mu, std = gp.predict(xs[:, None], return_std=True)"
      ],
      "metadata": {
        "id": "CcFhKCxRlODT"
      },
      "execution_count": null,
      "outputs": []
    },
    {
      "cell_type": "code",
      "source": [
        "plt.figure(figsize=(4,3))\n",
        "plt.plot(xs, mu)\n",
        "for i in [3, 2, 1]:\n",
        "  plt.fill_between(xs, mu+i*std, mu-i*std, color=str(0.5+0.1*i))\n",
        "plt.scatter(X, y)\n",
        "plt.show()"
      ],
      "metadata": {
        "id": "UXTtx3-FlOIv"
      },
      "execution_count": null,
      "outputs": []
    },
    {
      "cell_type": "markdown",
      "source": [
        "Optuna"
      ],
      "metadata": {
        "id": "w-AhN4Aw3q2u"
      }
    },
    {
      "cell_type": "code",
      "source": [
        "!pip install optuna"
      ],
      "metadata": {
        "id": "n55ju8Oi3q_P"
      },
      "execution_count": null,
      "outputs": []
    },
    {
      "cell_type": "code",
      "source": [
        "from sklearn.datasets import load_diabetes\n",
        "from sklearn.model_selection import cross_val_score\n",
        "from sklearn.svm import SVR\n",
        "import optuna"
      ],
      "metadata": {
        "id": "jjj9DYYvrYxH"
      },
      "execution_count": null,
      "outputs": []
    },
    {
      "cell_type": "code",
      "source": [
        "X, y = load_diabetes(return_X_y=True, as_frame=True)"
      ],
      "metadata": {
        "id": "SM_c99UfrYze"
      },
      "execution_count": null,
      "outputs": []
    },
    {
      "cell_type": "code",
      "source": [
        "def objective(trial):\n",
        "  gamma = trial.suggest_float('gamma', 1e-3, 1e3)\n",
        "  C = trial.suggest_float('C', 1e-3, 1e3)\n",
        "  reg = SVR(kernel='rbf', gamma=gamma, C=C)\n",
        "  score = cross_val_score(reg, X, y, cv=3, scoring=\"r2\")\n",
        "  r2_mean = score.mean()\n",
        "  return r2_mean"
      ],
      "metadata": {
        "id": "vfq76CpfrY2Y"
      },
      "execution_count": null,
      "outputs": []
    },
    {
      "cell_type": "code",
      "source": [
        "study = optuna.create_study(direction='maximize')\n",
        "study.optimize(objective, timeout=30)\n",
        "print('params:', study.best_params)"
      ],
      "metadata": {
        "id": "06Hy88BKuv6K"
      },
      "execution_count": null,
      "outputs": []
    },
    {
      "cell_type": "code",
      "source": [
        "optuna.visualization.plot_contour(study)"
      ],
      "metadata": {
        "id": "aGezFOPhIj3M"
      },
      "execution_count": null,
      "outputs": []
    },
    {
      "cell_type": "markdown",
      "metadata": {
        "id": "hJZad7Y4mHZa"
      },
      "source": [
        "## 課題\n",
        "\n",
        "scikit-learn付属の wine データに対する識別をRBFカーネルを用いて行い、識別結果を図示せよ。その際に、C = 1, 100, 10000 として結果がどう変わるかを調べよ。\n"
      ]
    },
    {
      "cell_type": "markdown",
      "metadata": {
        "id": "lUrfA9KFVqBm"
      },
      "source": [
        "### 解答例\n"
      ]
    },
    {
      "cell_type": "markdown",
      "metadata": {
        "id": "SJDrQNw9FHNe"
      },
      "source": [
        "SVMは2値分類問題に適用可能な識別器なので、多値分類に用いるときは、以下のいずれかの方法をとる必要があります。\n",
        "\n",
        "* one-versus-rest法 ('ovr')\n",
        "  * 各クラスについて、そのクラスに属するかどうかを識別するSVMを作る\n",
        "  * ２つ以上のクラスに属すると判定された場合は識別面からの距離が大きいものに分類する\n",
        "* ペアワイズ法 ('ovo')\n",
        "  * クラス対ごとに識別器を作る\n",
        "  * 判定は多数決を取る\n",
        "\n",
        "scikit-learnではSVCの引数decision_function_shapeで指定し、デフォルトは 'ovr' です"
      ]
    },
    {
      "cell_type": "code",
      "metadata": {
        "id": "UYSfmSBwVqBm"
      },
      "source": [
        "import numpy as np\n",
        "import pandas as pd\n",
        "import matplotlib.pyplot as plt\n",
        "from sklearn.decomposition import PCA\n",
        "from mlxtend.plotting import plot_decision_regions\n",
        "from sklearn.datasets import load_wine\n",
        "from sklearn.svm import SVC\n",
        "from sklearn.model_selection import GridSearchCV"
      ],
      "execution_count": null,
      "outputs": []
    },
    {
      "cell_type": "code",
      "execution_count": null,
      "metadata": {
        "id": "hpR-vCRNFHNf"
      },
      "outputs": [],
      "source": [
        "wine = load_wine()\n",
        "X = wine.data\n",
        "y = wine.target\n",
        "print(X)\n",
        "print(y)"
      ]
    },
    {
      "cell_type": "markdown",
      "source": [
        "本来 X は13次元ありますが、可視化のため２次元に圧縮します。(X --> X2)"
      ],
      "metadata": {
        "id": "W8wtNyS2MDul"
      }
    },
    {
      "cell_type": "code",
      "source": [
        "pca = PCA(n_components=2)\n",
        "X2 = pca.fit_transform(X)"
      ],
      "metadata": {
        "id": "VpbnbuYeMz5L"
      },
      "execution_count": null,
      "outputs": []
    },
    {
      "cell_type": "markdown",
      "metadata": {
        "id": "Hgdh7TvgFHNk"
      },
      "source": [
        "識別面のおおまかなイメージを確認します。"
      ]
    },
    {
      "cell_type": "code",
      "execution_count": null,
      "metadata": {
        "id": "LYJB9d6RFHNg"
      },
      "outputs": [],
      "source": [
        "plt.plot(X2[y==0,0], X2[y==0,1],\"bs\", label=wine.target_names[0])\n",
        "plt.plot(X2[y==1,0], X2[y==1,1],\"r^\", label=wine.target_names[1])\n",
        "plt.plot(X2[y==2,0], X2[y==2,1],\"go\", label=wine.target_names[2])\n",
        "plt.legend()\n",
        "plt.show()"
      ]
    },
    {
      "cell_type": "code",
      "execution_count": null,
      "metadata": {
        "id": "NpmktREgFHNk"
      },
      "outputs": [],
      "source": [
        "# ここからは自力で"
      ]
    }
  ]
}