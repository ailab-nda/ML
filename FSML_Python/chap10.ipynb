{
  "cells": [
    {
      "cell_type": "markdown",
      "metadata": {
        "id": "view-in-github",
        "colab_type": "text"
      },
      "source": [
        "<a href=\"https://colab.research.google.com/github/ailab-nda/ML/blob/main/FSML_Python/chap10.ipynb\" target=\"_parent\"><img src=\"https://colab.research.google.com/assets/colab-badge.svg\" alt=\"Open In Colab\"/></a>"
      ]
    },
    {
      "cell_type": "markdown",
      "metadata": {
        "id": "KAWGWzEYKBJ-"
      },
      "source": [
        "# 第10章 アンサンブル学習\n",
        "\n",
        "アンサンブル学習で、breast\\_cancerデータの識別を行います。breast\\_cancerデータは腫瘍の画像から取り出した半径や周囲の値の平均・標準偏差・最大値などを特徴とし、その腫瘍が悪性(malignant)か良性(benign)かという正解が付いたデータです。"
      ]
    },
    {
      "cell_type": "markdown",
      "metadata": {
        "id": "mIFg4IlfKBKA"
      },
      "source": [
        "ライブラリの読み込み"
      ]
    },
    {
      "cell_type": "code",
      "metadata": {
        "id": "qz-1FVyiKBKC"
      },
      "source": [
        "import numpy as np\n",
        "import pandas as pd\n",
        "import matplotlib.pyplot as plt\n",
        "from sklearn.manifold import TSNE\n",
        "from sklearn.datasets import load_breast_cancer\n",
        "from sklearn import ensemble\n",
        "from sklearn.model_selection import cross_val_score\n",
        "from sklearn import tree"
      ],
      "execution_count": null,
      "outputs": []
    },
    {
      "cell_type": "markdown",
      "metadata": {
        "id": "DEKNd2ldKBKL"
      },
      "source": [
        "breast_cancerデータを読み込んでX, yに格納後、概要を表示します。"
      ]
    },
    {
      "cell_type": "code",
      "metadata": {
        "id": "-dOCGj8TKBKM"
      },
      "source": [
        "bc = load_breast_cancer(as_frame=True)\n",
        "X = bc.data\n",
        "y = bc.target\n",
        "print(bc.DESCR)"
      ],
      "execution_count": null,
      "outputs": []
    },
    {
      "cell_type": "code",
      "source": [
        "X"
      ],
      "metadata": {
        "id": "4IVUNhhe7K95"
      },
      "execution_count": null,
      "outputs": []
    },
    {
      "cell_type": "code",
      "source": [
        "y"
      ],
      "metadata": {
        "id": "C6687JLs7jna"
      },
      "execution_count": null,
      "outputs": []
    },
    {
      "cell_type": "markdown",
      "metadata": {
        "id": "3Dfk_2fGKBKS"
      },
      "source": [
        "可視化によって問題の難しさの検討をつけます。一部に重なりはありますが、比較的識別しやすいデータのように見えます。"
      ]
    },
    {
      "cell_type": "code",
      "metadata": {
        "id": "dcKOVxBRKBKT"
      },
      "source": [
        "tsne = TSNE(n_components=2, perplexity=5, random_state=1)\n",
        "X2 = tsne.fit_transform(X)\n",
        "plt.plot(X2[y==0,0], X2[y==0,1], 'rx', label=bc.target_names[0])\n",
        "plt.plot(X2[y==1,0], X2[y==1,1], 'bo', label=bc.target_names[1])\n",
        "plt.legend()\n",
        "plt.show()"
      ],
      "execution_count": null,
      "outputs": []
    },
    {
      "cell_type": "markdown",
      "metadata": {
        "id": "Ae41rdXMKBKZ"
      },
      "source": [
        "## バギング\n",
        "\n",
        "base_estimator引数で識別器を指定します。指定しない場合は決定木になります。"
      ]
    },
    {
      "cell_type": "code",
      "metadata": {
        "id": "F2g6NQ1jKBKa"
      },
      "source": [
        "clf1 = ensemble.BaggingClassifier()"
      ],
      "execution_count": null,
      "outputs": []
    },
    {
      "cell_type": "markdown",
      "metadata": {
        "id": "pfVHrreBKBKf"
      },
      "source": [
        "交差確認法で評価します。"
      ]
    },
    {
      "cell_type": "code",
      "metadata": {
        "id": "l2TAzaIzKBKg"
      },
      "source": [
        "scores = cross_val_score(clf1, X, y, cv=10)\n",
        "print(f'{scores.mean() * 100:4.2f} +/- {scores.std() * 200:4.2f} %')"
      ],
      "execution_count": null,
      "outputs": []
    },
    {
      "cell_type": "markdown",
      "source": [
        "弱識別器として作成された決定木の根に近い部分を表示します。比較的似ている決定木になっていることがわかります。"
      ],
      "metadata": {
        "id": "6Ujf70EQp8xB"
      }
    },
    {
      "cell_type": "code",
      "source": [
        "clf1.fit(X, y)\n",
        "\n",
        "fig, ax = plt.subplots(len(clf1.estimators_),1, figsize=(10,30))\n",
        "\n",
        "for i, t in enumerate(clf1.estimators_):\n",
        "  tree.plot_tree(t, ax=ax[i], fontsize=10, max_depth=2)"
      ],
      "metadata": {
        "id": "LhHnFdxQp9Bo"
      },
      "execution_count": null,
      "outputs": []
    },
    {
      "cell_type": "markdown",
      "metadata": {
        "id": "e7lz2DovKBKl"
      },
      "source": [
        "## ランダムフォレスト"
      ]
    },
    {
      "cell_type": "code",
      "metadata": {
        "id": "72sj2r8BKBKn"
      },
      "source": [
        "clf2 = ensemble.RandomForestClassifier(n_estimators=10)"
      ],
      "execution_count": null,
      "outputs": []
    },
    {
      "cell_type": "markdown",
      "metadata": {
        "id": "G98ka8QkKBKs"
      },
      "source": [
        "交差確認法で評価します。"
      ]
    },
    {
      "cell_type": "code",
      "metadata": {
        "id": "zGucuQBtKBKu"
      },
      "source": [
        "scores = cross_val_score(clf2, X, y, cv=10)\n",
        "print(f'{scores.mean() * 100:4.2f} +/- {scores.std() * 200:4.2f} %')"
      ],
      "execution_count": null,
      "outputs": []
    },
    {
      "cell_type": "markdown",
      "source": [
        "弱識別器として作成された決定木の根に近い部分を表示します。バギングと比べるとある程度異なった決定木になっていることがわかります。"
      ],
      "metadata": {
        "id": "2WwYYDZkq3yu"
      }
    },
    {
      "cell_type": "code",
      "source": [
        "clf2.fit(X, y)\n",
        "\n",
        "fig, ax = plt.subplots(len(clf2.estimators_),1, figsize=(10,30))\n",
        "\n",
        "for i, t in enumerate(clf2.estimators_):\n",
        "  tree.plot_tree(t, ax=ax[i], fontsize=10, max_depth=2)"
      ],
      "metadata": {
        "id": "jltWFyAlq3-e"
      },
      "execution_count": null,
      "outputs": []
    },
    {
      "cell_type": "markdown",
      "metadata": {
        "id": "oeV-xlHSKBK0"
      },
      "source": [
        "## Adaブースト"
      ]
    },
    {
      "cell_type": "code",
      "metadata": {
        "id": "HGhuApDtKBK1"
      },
      "source": [
        "clf3 = ensemble.AdaBoostClassifier()"
      ],
      "execution_count": null,
      "outputs": []
    },
    {
      "cell_type": "markdown",
      "metadata": {
        "id": "-lZe1pwFKBK6"
      },
      "source": [
        "交差確認法で評価します。"
      ]
    },
    {
      "cell_type": "code",
      "metadata": {
        "id": "l2McBZ3UKBK8"
      },
      "source": [
        "scores = cross_val_score(clf3, X, y, cv=10)\n",
        "print(f'{scores.mean() * 100:4.2f} +/- {scores.std() * 200:4.2f} %')"
      ],
      "execution_count": null,
      "outputs": []
    },
    {
      "cell_type": "markdown",
      "source": [
        "Adaブーストの弱識別器のデフォルトは深さ1の決定木です。先頭の10個を確認すると、ほとんど異なる特徴が選ばれています。"
      ],
      "metadata": {
        "id": "SOwLEUt8s4m-"
      }
    },
    {
      "cell_type": "code",
      "source": [
        "clf3.fit(X, y)\n",
        "\n",
        "fig, ax = plt.subplots(10 ,1, figsize=(10,30))\n",
        "\n",
        "for i, t in zip(range(10), clf3.estimators_[:10]):\n",
        "  tree.plot_tree(t, ax=ax[i], fontsize=10)"
      ],
      "metadata": {
        "id": "U0THv_9er9a_"
      },
      "execution_count": null,
      "outputs": []
    },
    {
      "cell_type": "markdown",
      "metadata": {
        "id": "7xREg06RKBLA"
      },
      "source": [
        "## 勾配ブースティング"
      ]
    },
    {
      "cell_type": "code",
      "metadata": {
        "id": "SJqLtJl0KBLB"
      },
      "source": [
        "clf4 = ensemble.GradientBoostingClassifier()"
      ],
      "execution_count": null,
      "outputs": []
    },
    {
      "cell_type": "markdown",
      "metadata": {
        "id": "lty8X4sqKBLG"
      },
      "source": [
        "交差確認法で評価します。"
      ]
    },
    {
      "cell_type": "code",
      "metadata": {
        "id": "hgYzyicAKBLI"
      },
      "source": [
        "scores = cross_val_score(clf4, X, y, cv=10)\n",
        "print(f'{scores.mean() * 100:4.2f} +/- {scores.std() * 200:4.2f} %')"
      ],
      "execution_count": null,
      "outputs": []
    },
    {
      "cell_type": "markdown",
      "metadata": {
        "id": "9NUY7bdyKBLN"
      },
      "source": [
        "各特徴の重要性を確認することができます。ここでは上位10個まで表示します。"
      ]
    },
    {
      "cell_type": "code",
      "source": [
        "clf4.fit(X,y)\n",
        "importances = clf4.feature_importances_\n",
        "indices = np.argsort(importances)[::-1]\n",
        "\n",
        "plt.title(\"Feature importances\")\n",
        "plt.barh(bc.feature_names[indices[10::-1]], importances[indices[10::-1]])\n",
        "plt.show()"
      ],
      "metadata": {
        "id": "minNqHDHvoX7"
      },
      "execution_count": null,
      "outputs": []
    },
    {
      "source": [
        "## カテゴリ特徴を含む場合\n",
        "\n",
        "次にカテゴリ特徴を含んだcredit-gデータの識別を行います。credit-gデータの解説は、教科書p.263を参照してください。\n",
        "\n",
        "識別器は、カテゴリ特徴をそのまま入力できる\n",
        "[HistGradientBoostingClassifier](https://scikit-learn.org/stable/modules/generated/sklearn.ensemble.HistGradientBoostingClassifier.html)を使います。これは、二分木で分岐する値を決めるときにヒストグラムを使うことで数値もカテゴリも同様に扱うことができる方法です。"
      ],
      "cell_type": "markdown",
      "metadata": {
        "id": "Onu-MEQPy1BP"
      }
    },
    {
      "source": [
        "credit-gデータをpandasのDataFrame形式で読み込んでX, yに格納後、概要を表示します。"
      ],
      "cell_type": "markdown",
      "metadata": {
        "id": "jY9vQtVRy1BP"
      }
    },
    {
      "cell_type": "code",
      "execution_count": null,
      "metadata": {
        "id": "dKp2p1C0y1BP"
      },
      "outputs": [],
      "source": [
        "import numpy as np\n",
        "from sklearn.datasets import fetch_openml\n",
        "from sklearn import ensemble\n",
        "from sklearn.model_selection import cross_val_score\n",
        "\n",
        "ds = fetch_openml('credit-g', version = 'active', as_frame=True)\n",
        "X = ds.data\n",
        "y = ds.target\n",
        "print(ds.DESCR)"
      ]
    },
    {
      "source": [
        "Xの中身を確認します。"
      ],
      "cell_type": "markdown",
      "metadata": {
        "id": "4sfyy8jky1BP"
      }
    },
    {
      "cell_type": "code",
      "execution_count": null,
      "metadata": {
        "id": "SLzefrgny1BP"
      },
      "outputs": [],
      "source": [
        "X"
      ]
    },
    {
      "cell_type": "code",
      "source": [
        "X['housing']"
      ],
      "metadata": {
        "id": "kPOPrgmQVu_7"
      },
      "execution_count": null,
      "outputs": []
    },
    {
      "cell_type": "code",
      "source": [
        "ca = []\n",
        "for t in X.dtypes:\n",
        "  if t == 'category':\n",
        "    ca.append(True)\n",
        "  else:\n",
        "    ca.append(False)\n",
        "ca"
      ],
      "metadata": {
        "id": "7mrYh9zPV7I4"
      },
      "execution_count": null,
      "outputs": []
    },
    {
      "cell_type": "code",
      "source": [
        "ca[14]=False"
      ],
      "metadata": {
        "id": "HcMyJSXScCfv"
      },
      "execution_count": null,
      "outputs": []
    },
    {
      "cell_type": "code",
      "source": [
        "from sklearn.preprocessing import OrdinalEncoder\n",
        "from sklearn.pipeline import make_pipeline\n",
        "from sklearn.compose import make_column_selector\n",
        "from sklearn.compose import make_column_transformer\n",
        "\n",
        "ordinal_encoder = make_column_transformer(\n",
        "    (\n",
        "        OrdinalEncoder(handle_unknown=\"use_encoded_value\", unknown_value=np.nan),\n",
        "        make_column_selector(dtype_include=\"category\"),\n",
        "    ),\n",
        "    remainder=\"passthrough\",\n",
        ")\n",
        "\n",
        "clf5 = make_pipeline(\n",
        "    ordinal_encoder,\n",
        "    ensemble.HistGradientBoostingClassifier(categorical_features=ca, max_bins=255)\n",
        ")"
      ],
      "metadata": {
        "id": "CsiLhRah-7F-"
      },
      "execution_count": null,
      "outputs": []
    },
    {
      "cell_type": "code",
      "source": [
        "clf5.fit(X,y)"
      ],
      "metadata": {
        "id": "BF9wjI0UX_cj"
      },
      "execution_count": null,
      "outputs": []
    },
    {
      "cell_type": "code",
      "source": [
        "scores = cross_val_score(clf5, X, y, cv=10)\n",
        "print(f'{scores.mean() * 100:4.2f} +/- {scores.std() * 200:4.2f} %')"
      ],
      "metadata": {
        "id": "65kXXdCM-7Ts"
      },
      "execution_count": null,
      "outputs": []
    },
    {
      "cell_type": "markdown",
      "source": [
        "## 練習問題\n",
        "\n",
        "アンサンブル学習で California housing データの回帰を行い、各特徴の重要性を確認せよ。"
      ],
      "metadata": {
        "id": "Mj7b1vXJ935m"
      }
    },
    {
      "cell_type": "markdown",
      "metadata": {
        "id": "u4Vp2UEmv6BO"
      },
      "source": [
        "ライブラリの読み込み"
      ]
    },
    {
      "cell_type": "code",
      "metadata": {
        "id": "y2b3-JI4v6BO"
      },
      "source": [
        "import numpy as np\n",
        "import matplotlib.pyplot as plt\n",
        "from sklearn.datasets import fetch_california_housing\n",
        "from sklearn.preprocessing import StandardScaler\n",
        "from sklearn import ensemble\n",
        "from sklearn.model_selection import ShuffleSplit\n",
        "from sklearn.model_selection import cross_val_score"
      ],
      "execution_count": null,
      "outputs": []
    },
    {
      "cell_type": "markdown",
      "metadata": {
        "id": "9RRlyNoav6BP"
      },
      "source": [
        "California housing データを読み込んでX, yに格納後、概要を表示する。"
      ]
    },
    {
      "cell_type": "code",
      "metadata": {
        "id": "hOWZLJWgv6BP"
      },
      "source": [
        "housing = fetch_california_housing()\n",
        "X = housing.data\n",
        "y = housing.target\n",
        "print(housing.DESCR)"
      ],
      "execution_count": null,
      "outputs": []
    },
    {
      "cell_type": "markdown",
      "source": [
        "特徴のスケールがかなり異なるので、標準化しておく。"
      ],
      "metadata": {
        "id": "C1eG2PbbHDmI"
      }
    },
    {
      "cell_type": "code",
      "source": [
        "ss = StandardScaler()\n",
        "X = ss.fit_transform(X)"
      ],
      "metadata": {
        "id": "jrIiDtJjHCQA"
      },
      "execution_count": null,
      "outputs": []
    },
    {
      "cell_type": "markdown",
      "source": [
        "ここまでが前置き。こここからが課題。"
      ],
      "metadata": {
        "id": "k-ay3R9RUXtd"
      }
    },
    {
      "cell_type": "code",
      "source": [
        "# 手法を決めて"
      ],
      "metadata": {
        "id": "OVArDq6sT7mm"
      },
      "execution_count": null,
      "outputs": []
    },
    {
      "cell_type": "code",
      "metadata": {
        "id": "HODt0a-3v6BR"
      },
      "source": [
        "# 交差検証でスコアを出し"
      ],
      "execution_count": null,
      "outputs": []
    },
    {
      "cell_type": "code",
      "metadata": {
        "id": "5TlDjxA_KBLQ"
      },
      "source": [
        "# 各特徴の重要性を表示する\n"
      ],
      "execution_count": null,
      "outputs": []
    }
  ],
  "metadata": {
    "colab": {
      "provenance": [],
      "include_colab_link": true
    },
    "language_info": {
      "name": "python"
    },
    "kernelspec": {
      "name": "python3",
      "display_name": "Python 3"
    }
  },
  "nbformat": 4,
  "nbformat_minor": 0
}