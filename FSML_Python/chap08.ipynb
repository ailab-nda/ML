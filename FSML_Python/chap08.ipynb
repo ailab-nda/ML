{
  "nbformat": 4,
  "nbformat_minor": 0,
  "metadata": {
    "colab": {
      "provenance": [],
      "include_colab_link": true
    },
    "kernelspec": {
      "name": "python3",
      "display_name": "Python 3"
    },
    "language_info": {
      "name": "python"
    },
    "accelerator": "GPU",
    "gpuClass": "standard"
  },
  "cells": [
    {
      "cell_type": "markdown",
      "metadata": {
        "id": "view-in-github",
        "colab_type": "text"
      },
      "source": [
        "<a href=\"https://colab.research.google.com/github/ailab-nda/ML/blob/main/FSML_Python/chap08.ipynb\" target=\"_parent\"><img src=\"https://colab.research.google.com/assets/colab-badge.svg\" alt=\"Open In Colab\"/></a>"
      ]
    },
    {
      "cell_type": "markdown",
      "metadata": {
        "id": "VhTJVPjB_hUe"
      },
      "source": [
        "# 第8章 ニューラルネットワーク\n",
        "\n",
        "多層ニューラルネットワークでの識別をKerasでコーディングします。"
      ]
    },
    {
      "cell_type": "markdown",
      "metadata": {
        "id": "LpzpLYDY_hUg"
      },
      "source": [
        "## 準備\n",
        "\n",
        "必要なライブラリ等を読み込みます。"
      ]
    },
    {
      "cell_type": "code",
      "metadata": {
        "id": "YD7cellA4t5f"
      },
      "source": [
        "import numpy as np\n",
        "import matplotlib.pyplot as plt\n",
        "import tensorflow as tf\n",
        "from tensorflow import keras"
      ],
      "execution_count": null,
      "outputs": []
    },
    {
      "cell_type": "markdown",
      "metadata": {
        "id": "GivJJ5O-_hUn"
      },
      "source": [
        "## データの読み込み"
      ]
    },
    {
      "cell_type": "markdown",
      "metadata": {
        "id": "JB-K_6FT_hUp"
      },
      "source": [
        "MNISTデータは手描き数字画像認識のためのデータセットです。学習用60000事例、評価用10000事例で、それぞれ28x28の行列で画像が表現されています。"
      ]
    },
    {
      "cell_type": "code",
      "metadata": {
        "id": "7ldmbcEQ_hUq"
      },
      "source": [
        "(X_train, y_train), (X_test, y_test) = keras.datasets.mnist.load_data()"
      ],
      "execution_count": null,
      "outputs": []
    },
    {
      "cell_type": "code",
      "metadata": {
        "id": "2WcSE_egBOIN"
      },
      "source": [
        "X_train.shape"
      ],
      "execution_count": null,
      "outputs": []
    },
    {
      "cell_type": "markdown",
      "metadata": {
        "id": "wuR01D3N_hUy"
      },
      "source": [
        "パターン行列からデータを1つ取り出して、pyplotで表示します。"
      ]
    },
    {
      "cell_type": "code",
      "metadata": {
        "id": "xQyLXsFy_hUz"
      },
      "source": [
        "plt.gray()\n",
        "plt.imshow(X_train[130])"
      ],
      "execution_count": null,
      "outputs": []
    },
    {
      "cell_type": "code",
      "source": [
        "plt.imshow(255 - X_train[130])"
      ],
      "metadata": {
        "id": "m8IZURousCHs"
      },
      "execution_count": null,
      "outputs": []
    },
    {
      "cell_type": "markdown",
      "metadata": {
        "id": "Tmg-r96t_hU5"
      },
      "source": [
        "正解ベクトルの最初の20要素程度を表示させて、どのようにデータが並んでいるのかを確認します。"
      ]
    },
    {
      "cell_type": "code",
      "metadata": {
        "id": "TdvzBckS_hU6"
      },
      "source": [
        "y_train[0:20]"
      ],
      "execution_count": null,
      "outputs": []
    },
    {
      "cell_type": "markdown",
      "metadata": {
        "id": "ZBwulOv8CnB8"
      },
      "source": [
        "入力値のとりうる範囲を0-255から0-1に変換します。"
      ]
    },
    {
      "cell_type": "code",
      "metadata": {
        "id": "PTn3T-I7C2ew"
      },
      "source": [
        "X_train = X_train / 255.0\n",
        "X_test = X_test / 255.0"
      ],
      "execution_count": null,
      "outputs": []
    },
    {
      "cell_type": "markdown",
      "metadata": {
        "id": "VKv6F_BvC3iQ"
      },
      "source": [
        "正解をone-hotベクトルに変換します。"
      ]
    },
    {
      "cell_type": "code",
      "metadata": {
        "id": "6v4qfDVnC32w"
      },
      "source": [
        "y_train = keras.utils.to_categorical(y_train)\n",
        "y_test = keras.utils.to_categorical(y_test)"
      ],
      "execution_count": null,
      "outputs": []
    },
    {
      "cell_type": "markdown",
      "metadata": {
        "id": "L1rf8Cq-_hU_"
      },
      "source": [
        "## ニューラルネットワークの構造と学習時のハイパーパラメータの設定\n",
        "\n",
        "3層のフィードフォワード型ネットワークで学習します。\n",
        "\n",
        "*   入力層は28x28の2次元画像を784次元の1次元ベクトルに変換 (Flatten)します\n",
        "*   中間層は128個のユニットで、活性化関数はシグモイド関数です\n",
        "*   出力層のユニット数はクラス数に合わせて10個で、活性化関数はすべての出力値の合計が1になるようにしたsoftmax関数です\n",
        "\n"
      ]
    },
    {
      "cell_type": "code",
      "metadata": {
        "id": "5fu1YyCd_hVA"
      },
      "source": [
        "model = keras.Sequential([\n",
        "    keras.layers.Flatten(input_shape=(28, 28)),\n",
        "    keras.layers.Dense(128, activation='sigmoid'),\n",
        "    keras.layers.Dense(10,  activation='softmax')\n",
        "])\n",
        "model.summary()"
      ],
      "execution_count": null,
      "outputs": []
    },
    {
      "cell_type": "markdown",
      "metadata": {
        "id": "OYuCkzidENX9"
      },
      "source": [
        "損失関数と最適化器を指定します。metricsは学習時に表示される数値で、学習が進んでいることを確認できるように設定します。"
      ]
    },
    {
      "cell_type": "code",
      "metadata": {
        "id": "lGMk3iyCEeG0"
      },
      "source": [
        "model.compile(loss='categorical_crossentropy', optimizer='adam', metrics=['acc'])"
      ],
      "execution_count": null,
      "outputs": []
    },
    {
      "cell_type": "markdown",
      "metadata": {
        "id": "K7Q_qHe5Ei9e"
      },
      "source": [
        "ミニバッチのサイズと、繰り返し数を指定して学習を行います。"
      ]
    },
    {
      "cell_type": "code",
      "metadata": {
        "id": "RE6CHNuy_hVG"
      },
      "source": [
        "model.fit(X_train, y_train, batch_size=200, epochs=3)"
      ],
      "execution_count": null,
      "outputs": []
    },
    {
      "cell_type": "markdown",
      "metadata": {
        "id": "rqwOCR_RE61I"
      },
      "source": [
        "評価用データで評価します。"
      ]
    },
    {
      "cell_type": "code",
      "metadata": {
        "id": "6EtCBEOYEvpQ"
      },
      "source": [
        "score = model.evaluate(X_test, y_test)\n",
        "print(f\"Accuracy: {score[1]:.2f}\")"
      ],
      "execution_count": null,
      "outputs": []
    },
    {
      "cell_type": "markdown",
      "metadata": {
        "id": "ZTEMqMYF_hVd"
      },
      "source": [
        "## 練習問題\n",
        "\n",
        "活性化関数sigmoid、最適化器sgd（最急勾配法）で多階層ネットワークを構成し、勾配消失のために学習が進まないことを確認してください。次に、活性化関数を変更して、学習がうまくできることを確認してください。余力があれば、最適化器入れ替えの効果についても確認してください。\n"
      ]
    },
    {
      "cell_type": "markdown",
      "metadata": {
        "id": "18yYufn1XZ78"
      },
      "source": [
        "### 準備\n"
      ]
    },
    {
      "cell_type": "code",
      "metadata": {
        "id": "h5uwRSc2XZ79"
      },
      "source": [
        "import numpy as np\n",
        "import matplotlib.pyplot as plt\n",
        "import tensorflow as tf"
      ],
      "execution_count": null,
      "outputs": []
    },
    {
      "cell_type": "markdown",
      "metadata": {
        "id": "srYVV2z7XZ79"
      },
      "source": [
        "## データの読み込み"
      ]
    },
    {
      "cell_type": "code",
      "metadata": {
        "id": "jvAJhu5iXZ79"
      },
      "source": [
        "(X_train, y_train), (X_test, y_test) = tf.keras.datasets.mnist.load_data()"
      ],
      "execution_count": null,
      "outputs": []
    },
    {
      "cell_type": "markdown",
      "metadata": {
        "id": "OlMtbAOAXZ79"
      },
      "source": [
        "入力値のとりうる範囲を0-255から0-1に変換します。"
      ]
    },
    {
      "cell_type": "code",
      "metadata": {
        "id": "UcciasfAXZ79"
      },
      "source": [
        "X_train = X_train / 255.0\n",
        "X_test = X_test / 255.0"
      ],
      "execution_count": null,
      "outputs": []
    },
    {
      "cell_type": "markdown",
      "metadata": {
        "id": "V2pEw37HXZ79"
      },
      "source": [
        "正解をone-hotベクトルに変換します。"
      ]
    },
    {
      "cell_type": "code",
      "metadata": {
        "id": "r-rzGbHcXZ79"
      },
      "source": [
        "y_train = tf.keras.utils.to_categorical(y_train)\n",
        "y_test = tf.keras.utils.to_categorical(y_test)"
      ],
      "execution_count": null,
      "outputs": []
    },
    {
      "cell_type": "markdown",
      "metadata": {
        "id": "QFmGmMldXZ79"
      },
      "source": [
        "## ニューラルネットワークの構造と学習時のハイパーパラメータの設定\n",
        "\n",
        "6層のフィードフォワード型ネットワークで学習します。"
      ]
    },
    {
      "cell_type": "code",
      "metadata": {
        "id": "3m2RuTUMXZ79"
      },
      "source": [
        "af = 'sigmoid'\n",
        "model = tf.keras.Sequential([\n",
        "    tf.keras.layers.Flatten(input_shape=(28, 28)),\n",
        "    tf.keras.layers.Dense(128, activation=af),\n",
        "    tf.keras.layers.Dense(128, activation=af),\n",
        "    tf.keras.layers.Dense(128, activation=af),\n",
        "    tf.keras.layers.Dense(128, activation=af),\n",
        "    tf.keras.layers.Dense(10,  activation='softmax')\n",
        "])\n",
        "model.summary()"
      ],
      "execution_count": null,
      "outputs": []
    },
    {
      "cell_type": "markdown",
      "metadata": {
        "id": "ti8TOmqMXZ7-"
      },
      "source": [
        "損失関数と最適化器を指定します。metricsは学習時に表示される数値で、学習が進んでいることを確認できるように設定します。"
      ]
    },
    {
      "cell_type": "code",
      "metadata": {
        "id": "q4nSNFy_XZ7-"
      },
      "source": [
        "model.compile(loss='categorical_crossentropy', optimizer='sgd', metrics=['acc'])"
      ],
      "execution_count": null,
      "outputs": []
    },
    {
      "cell_type": "markdown",
      "metadata": {
        "id": "zhgrzOlkXZ7-"
      },
      "source": [
        "ミニバッチのサイズと、繰り返し数を指定して学習を行います。lossやaccがほとんど変化しないことを確認してください。"
      ]
    },
    {
      "cell_type": "code",
      "metadata": {
        "id": "rXX6rNYtXZ7-"
      },
      "source": [
        "model.fit(X_train, y_train, batch_size=200, epochs=5)"
      ],
      "execution_count": null,
      "outputs": []
    },
    {
      "cell_type": "markdown",
      "metadata": {
        "id": "xM2JNF4nXZ7_"
      },
      "source": [
        "評価用データで評価します。"
      ]
    },
    {
      "cell_type": "code",
      "metadata": {
        "id": "8_dYgHq6XZ7_"
      },
      "source": [
        "score = model.evaluate(X_test, y_test)\n",
        "print(f\"Accuracy: {score[1]:.2}\")"
      ],
      "execution_count": null,
      "outputs": []
    },
    {
      "cell_type": "markdown",
      "metadata": {
        "id": "B6D6UAO_Lnd9"
      },
      "source": [
        "10クラス問題で正解率が10%程度なので、まったく学習ができていないことがわかります。"
      ]
    },
    {
      "cell_type": "markdown",
      "metadata": {
        "id": "7ZQ0bI1uLw9D"
      },
      "source": [
        "## 問１\n",
        "活性化関数を relu に変更し、学習が進んでいる様子を確認せよ。"
      ]
    },
    {
      "cell_type": "code",
      "source": [],
      "metadata": {
        "id": "_nTgnqXRSoFn"
      },
      "execution_count": null,
      "outputs": []
    },
    {
      "cell_type": "markdown",
      "metadata": {
        "id": "ClCJLnFLMJEq"
      },
      "source": [
        "## 問２\n",
        "もとのネットワークで、最適化器を adam に変更し、学習が進む様子を確認せよ。"
      ]
    },
    {
      "cell_type": "code",
      "source": [],
      "metadata": {
        "id": "fzNKxcKTSqBw"
      },
      "execution_count": null,
      "outputs": []
    },
    {
      "cell_type": "markdown",
      "metadata": {
        "id": "xfQDxEgRM7F8"
      },
      "source": [
        "## 問３\n",
        "活性化関数と最適化器の両方を変更し、学習が進む様子を確認せよ。"
      ]
    },
    {
      "cell_type": "code",
      "source": [],
      "metadata": {
        "id": "MzeJMNUWSsCB"
      },
      "execution_count": null,
      "outputs": []
    },
    {
      "cell_type": "markdown",
      "metadata": {
        "id": "DeaqqDm-XZ8B"
      },
      "source": [
        "適切に設定を行うと、学習効率が上がることがわかります。"
      ]
    }
  ]
}