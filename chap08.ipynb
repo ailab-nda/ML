{
  "cells": [
    {
      "cell_type": "markdown",
      "metadata": {
        "id": "view-in-github",
        "colab_type": "text"
      },
      "source": [
        "<a href=\"https://colab.research.google.com/github/ailab-nda/ML/blob/main/chap08.ipynb\" target=\"_parent\"><img src=\"https://colab.research.google.com/assets/colab-badge.svg\" alt=\"Open In Colab\"/></a>"
      ]
    },
    {
      "cell_type": "markdown",
      "metadata": {
        "id": "Aga4vADWwlpU"
      },
      "source": [
        "# 例題8-3\n",
        "\n",
        "Scikit learn の 多層ニューラルネットワークで識別を行います。"
      ]
    },
    {
      "cell_type": "markdown",
      "metadata": {
        "id": "AwH9_8DawlpZ"
      },
      "source": [
        "## 準備\n",
        "\n",
        "必要なライブラリ等を読み込みます。"
      ]
    },
    {
      "cell_type": "code",
      "execution_count": null,
      "metadata": {
        "id": "9rrlIToBwlpa"
      },
      "outputs": [],
      "source": [
        "# 注：講義室、居室の場合は以下の３行が必要です。\n",
        "#import os\n",
        "#os.environ['https_proxy']='http://cmproxy.nda.ac.jp:8080'\n",
        "#!pip install scikit-learn"
      ]
    },
    {
      "cell_type": "code",
      "execution_count": null,
      "metadata": {
        "collapsed": true,
        "id": "IxjII19iwlpb"
      },
      "outputs": [],
      "source": [
        "%matplotlib inline\n",
        "import numpy as np\n",
        "import matplotlib.pyplot as plt\n",
        "from sklearn.datasets import load_digits\n",
        "from sklearn.neural_network import MLPClassifier\n",
        "from sklearn.model_selection import cross_val_score"
      ]
    },
    {
      "cell_type": "markdown",
      "metadata": {
        "id": "Xgiktn2Kwlpc"
      },
      "source": [
        "## データの読み込み"
      ]
    },
    {
      "cell_type": "markdown",
      "metadata": {
        "id": "f4iHMYtYwlpc"
      },
      "source": [
        "digitsデータを読み込み、パターン行列をXに、教師ベクトルをyに格納します。\n",
        "そして、digitsデータのデータ数や特徴の次元数・値などを表示させて確認します。"
      ]
    },
    {
      "cell_type": "code",
      "execution_count": null,
      "metadata": {
        "id": "dINWrM1Swlpc"
      },
      "outputs": [],
      "source": [
        "digits = load_digits()\n",
        "X = digits.data\n",
        "y = digits.target\n",
        "print(digits.DESCR)"
      ]
    },
    {
      "cell_type": "markdown",
      "metadata": {
        "id": "MN7D3KQ3wlpd"
      },
      "source": [
        "パターン行列からデータを1つ取り出して、pyplotで表示します。表示対象が行列である必要がある点に気をつけてください。"
      ]
    },
    {
      "cell_type": "code",
      "execution_count": null,
      "metadata": {
        "id": "mBmNfgU2wlpd"
      },
      "outputs": [],
      "source": [
        "plt.gray()\n",
        "plt.imshow(np.reshape(X[0],(8,8)))"
      ]
    },
    {
      "cell_type": "markdown",
      "metadata": {
        "id": "Pj0XPkgewlpe"
      },
      "source": [
        "教師ベクトルの最初の20要素程度を表示させて、どのようにデータが並んでいるのかを確認します。"
      ]
    },
    {
      "cell_type": "code",
      "execution_count": null,
      "metadata": {
        "id": "tUPHKZIEwlpe"
      },
      "outputs": [],
      "source": [
        "y[0:20]"
      ]
    },
    {
      "cell_type": "markdown",
      "metadata": {
        "id": "OzYvQpp6wlpe"
      },
      "source": [
        "## 3層での学習\n",
        "\n",
        "[MLPClassifier](http://scikit-learn.org/stable/modules/generated/sklearn.neural_network.MLPClassifier.html#sklearn.neural_network.MLPClassifier)を使って学習し、10-fold CVで性能を評価します。"
      ]
    },
    {
      "cell_type": "code",
      "execution_count": null,
      "metadata": {
        "id": "egbK09Nawlpf"
      },
      "outputs": [],
      "source": [
        "clf1 = MLPClassifier()\n",
        "clf1.fit(X,y)"
      ]
    },
    {
      "cell_type": "code",
      "execution_count": null,
      "metadata": {
        "id": "XwDCbynWwlpf"
      },
      "outputs": [],
      "source": [
        "scores = cross_val_score(clf1, X, y, cv=10)\n",
        "print(\"Accuracy: %0.2f (+/- %0.2f)\" % (scores.mean(), scores.std()*2))"
      ]
    },
    {
      "cell_type": "markdown",
      "metadata": {
        "id": "f7YWlMX7wlpf"
      },
      "source": [
        "## 多層での学習\n",
        "\n",
        "パラメータの調整が必要となります（下記リンク参照）。\n",
        "\n",
        "https://scikit-learn.org/stable/modules/generated/sklearn.neural_network.MLPClassifier.html\n",
        "\n",
        "https://spjai.com/neural-network-parameter/"
      ]
    },
    {
      "cell_type": "markdown",
      "metadata": {
        "id": "SV_B6acUwlpg"
      },
      "source": [
        "問１：中間層を各層30ニューロンで５層にして結果がどうなるか確認してください。ヒント：hidden_layer_sizes"
      ]
    },
    {
      "cell_type": "code",
      "execution_count": null,
      "metadata": {
        "id": "vn1dphxhwlpg"
      },
      "outputs": [],
      "source": [
        "clf2 = MLPClassifier(ここに引数を設定してください)\n",
        "clf2.fit(digits.data, digits.target)"
      ]
    },
    {
      "cell_type": "code",
      "execution_count": null,
      "metadata": {
        "id": "lWQ2xJ4jwlpg"
      },
      "outputs": [],
      "source": [
        "scores = cross_val_score(clf2, digits.data, digits.target, cv=10)\n",
        "print(\"Accuracy: %0.2f (+/- %0.2f)\" % (scores.mean(), scores.std()*2))"
      ]
    },
    {
      "cell_type": "markdown",
      "metadata": {
        "id": "5AKZ9C0Pwlpg"
      },
      "source": [
        "解答欄：中間層を5層にすると、......"
      ]
    },
    {
      "cell_type": "markdown",
      "metadata": {
        "id": "A9ZyHOHwwlph"
      },
      "source": [
        "## 活性化関数をReluに変更"
      ]
    },
    {
      "cell_type": "markdown",
      "metadata": {
        "id": "ZlpX_mKhwlph"
      },
      "source": [
        "問２　問１の状況から、活性化関数を Relu に変更して結果がどうなるか確認してください。ヒント：activation"
      ]
    },
    {
      "cell_type": "code",
      "execution_count": null,
      "metadata": {
        "id": "f6gWcs7mwlph"
      },
      "outputs": [],
      "source": [
        "clf3 = MLPClassifier(ここに引数を設定してください）\n",
        "clf3.fit(digits.data, digits.target)"
      ]
    },
    {
      "cell_type": "code",
      "execution_count": null,
      "metadata": {
        "id": "xf6DdIOFwlpi"
      },
      "outputs": [],
      "source": [
        "scores = cross_val_score(clf3, digits.data, digits.target, cv=10)\n",
        "print(\"Accuracy: %0.2f (+/- %0.2f)\" % (scores.mean(), scores.std()*2))"
      ]
    },
    {
      "cell_type": "markdown",
      "metadata": {
        "id": "i8c-U81Hwlpi"
      },
      "source": [
        "解答欄：活性化関数を Relu にすると、......."
      ]
    }
  ],
  "metadata": {
    "anaconda-cloud": {},
    "kernelspec": {
      "display_name": "Python 3",
      "language": "python",
      "name": "python3"
    },
    "language_info": {
      "codemirror_mode": {
        "name": "ipython",
        "version": 3
      },
      "file_extension": ".py",
      "mimetype": "text/x-python",
      "name": "python",
      "nbconvert_exporter": "python",
      "pygments_lexer": "ipython3",
      "version": "3.11.5"
    },
    "colab": {
      "provenance": [],
      "include_colab_link": true
    }
  },
  "nbformat": 4,
  "nbformat_minor": 0
}