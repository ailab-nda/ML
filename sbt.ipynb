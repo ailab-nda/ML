{
  "cells": [
    {
      "cell_type": "markdown",
      "metadata": {
        "id": "view-in-github",
        "colab_type": "text"
      },
      "source": [
        "<a href=\"https://colab.research.google.com/github/ailab-nda/ML/blob/main/sbt.ipynb\" target=\"_parent\"><img src=\"https://colab.research.google.com/assets/colab-badge.svg\" alt=\"Open In Colab\"/></a>"
      ]
    },
    {
      "cell_type": "markdown",
      "metadata": {
        "id": "4YDUF5MNgzBK"
      },
      "source": [
        "# Soul Bound Token (SBT) の python 実装"
      ]
    },
    {
      "cell_type": "code",
      "execution_count": null,
      "metadata": {
        "id": "TqFx6poxgzBM"
      },
      "outputs": [],
      "source": [
        "import hashlib\n",
        "import datetime\n",
        "import json\n",
        "from typing import Dict, Optional"
      ]
    },
    {
      "cell_type": "markdown",
      "metadata": {
        "id": "z9XBrAs4gzBN"
      },
      "source": [
        "## SBT の定義"
      ]
    },
    {
      "cell_type": "code",
      "execution_count": null,
      "metadata": {
        "id": "n9tAFuUngzBN"
      },
      "outputs": [],
      "source": [
        "class SoulBoundToken:\n",
        "    \"\"\"\n",
        "    Represents a simplified SoulBound Token (SBT).  This is a conceptual\n",
        "    implementation and does NOT interact with a real blockchain. It demonstrates\n",
        "    the core principles of non-transferability and basic data storage.\n",
        "\n",
        "    Attributes:\n",
        "        issuer (str):  The identifier of the entity issuing the token.\n",
        "        recipient (str): The identifier of the entity receiving the token (e.g., a wallet address).\n",
        "        data (dict):  A dictionary containing the token's data (e.g., credentials, achievements).\n",
        "        timestamp (datetime): The time the token was created.\n",
        "        token_id (str):  A unique identifier for the token (hash).\n",
        "        revoked (bool): Indicates if the token has been revoked by the issuer.\n",
        "        revocation_reason (Optional[str]):  The reason for revocation, if applicable.\n",
        "        previous_token_id (Optional[str]):  For updates/versions, links to the previous token.\n",
        "\n",
        "    \"\"\"\n",
        "    def __init__(self, issuer: str, recipient: str, data: Dict, previous_token_id: Optional[str] = None):\n",
        "        self.issuer = issuer\n",
        "        self.recipient = recipient\n",
        "        self.data = data\n",
        "        self.timestamp = datetime.datetime.utcnow()\n",
        "        self.previous_token_id = previous_token_id  # Initialize *before* using it!\n",
        "        self.token_id = self._generate_token_id()\n",
        "        self.revoked = False\n",
        "        self.revocation_reason = None\n",
        "\n",
        "\n",
        "    def _generate_token_id(self) -> str:\n",
        "        \"\"\"Generates a unique token ID using a hash.\"\"\"\n",
        "        data_string = f\"{self.issuer}{self.recipient}{self.data}{self.timestamp}{self.previous_token_id}\".encode('utf-8')\n",
        "        return hashlib.sha256(data_string).hexdigest()\n",
        "\n",
        "    def revoke(self, reason: str, revoker: str):\n",
        "        \"\"\"Revokes the token.  Only the issuer can revoke.\"\"\"\n",
        "        if revoker == self.issuer:\n",
        "            self.revoked = True\n",
        "            self.revocation_reason = reason\n",
        "        else:\n",
        "            raise ValueError(\"Only the issuer can revoke the token.\")\n",
        "\n",
        "    def update_data(self, new_data: Dict, updater:str) -> \"SoulBoundToken\":\n",
        "      \"\"\"\n",
        "      Creates a *new* SBT with updated data, linking it to the previous one.\n",
        "      This simulates an update, as the original SBT cannot be modified.\n",
        "\n",
        "      Args:\n",
        "          new_data: The updated data.\n",
        "          updater: The ID of who is performing the update (must be issuer or recipient).\n",
        "\n",
        "      Returns:\n",
        "          A new SoulBoundToken instance representing the updated version.\n",
        "\n",
        "      Raises:\n",
        "          ValueError:  If the updater is not the issuer or recipient\n",
        "      \"\"\"\n",
        "      if updater != self.issuer and updater != self.recipient:\n",
        "        raise ValueError(\"Only the issuer or recipient can update the token data.\")\n",
        "\n",
        "      return SoulBoundToken(self.issuer, self.recipient, new_data, previous_token_id=self.token_id)\n",
        "\n",
        "\n",
        "    def to_dict(self) -> Dict:\n",
        "        \"\"\"Converts the token to a dictionary for serialization.\"\"\"\n",
        "        return {\n",
        "            \"token_id\": self.token_id,\n",
        "            \"issuer\": self.issuer,\n",
        "            \"recipient\": self.recipient,\n",
        "            \"data\": self.data,\n",
        "            \"timestamp\": self.timestamp.isoformat(),\n",
        "            \"revoked\": self.revoked,\n",
        "            \"revocation_reason\": self.revocation_reason,\n",
        "            \"previous_token_id\": self.previous_token_id\n",
        "        }\n",
        "\n",
        "    def __str__(self):\n",
        "        return json.dumps(self.to_dict(), indent=4)\n",
        "\n",
        "    def is_valid(self):\n",
        "        \"\"\"Basic validity check (not a full blockchain validation).\"\"\"\n",
        "        # Check if the token ID is correct based on the current data.\n",
        "        expected_token_id = self._generate_token_id()\n",
        "        if self.token_id != expected_token_id:\n",
        "            return False\n",
        "\n",
        "        # Check if the token is revoked.\n",
        "        if self.revoked:\n",
        "            return False\n",
        "\n",
        "        # Add more checks as needed for your specific use case\n",
        "        # (e.g., data schema validation).\n",
        "        return True"
      ]
    },
    {
      "cell_type": "markdown",
      "metadata": {
        "id": "cCbfVgIugzBO"
      },
      "source": [
        "## 使用例"
      ]
    },
    {
      "cell_type": "markdown",
      "metadata": {
        "id": "ObSuOgsqgzBO"
      },
      "source": [
        "### 1. トークン発行"
      ]
    },
    {
      "cell_type": "code",
      "execution_count": null,
      "metadata": {
        "id": "pimcGU05gzBO",
        "outputId": "43890763-f737-4f51-f072-635a78613e7d"
      },
      "outputs": [
        {
          "name": "stdout",
          "output_type": "stream",
          "text": [
            "--- Issued SBT ---\n",
            "{\n",
            "    \"token_id\": \"8dd1b9701ac5952267d7ee38cdefe3c0920cc8fa6d8a38d4d80bda6f692b6b34\",\n",
            "    \"issuer\": \"University of Example\",\n",
            "    \"recipient\": \"0xabcd1234walletAddress\",\n",
            "    \"data\": {\n",
            "        \"degree\": \"Bachelor of Science\",\n",
            "        \"major\": \"Computer Science\",\n",
            "        \"graduation_date\": \"2024-05-15\"\n",
            "    },\n",
            "    \"timestamp\": \"2025-02-26T08:52:31.449564\",\n",
            "    \"revoked\": false,\n",
            "    \"revocation_reason\": null,\n",
            "    \"previous_token_id\": null\n",
            "}\n",
            "Is valid: True\n"
          ]
        },
        {
          "name": "stderr",
          "output_type": "stream",
          "text": [
            "/var/folders/f5/4kxhzrrd5_16jg94_dpsjq5m0000gn/T/ipykernel_56165/3759532336.py:22: DeprecationWarning: datetime.datetime.utcnow() is deprecated and scheduled for removal in a future version. Use timezone-aware objects to represent datetimes in UTC: datetime.datetime.now(datetime.UTC).\n",
            "  self.timestamp = datetime.datetime.utcnow()\n"
          ]
        }
      ],
      "source": [
        "issuer_id = \"University of Example\"\n",
        "recipient_id = \"0xabcd1234walletAddress\"  # Example recipient identifier\n",
        "credential_data = {\n",
        "    \"degree\": \"Bachelor of Science\",\n",
        "    \"major\": \"Computer Science\",\n",
        "    \"graduation_date\": \"2024-05-15\",\n",
        "}\n",
        "\n",
        "sbt = SoulBoundToken(issuer_id, recipient_id, credential_data)\n",
        "print(\"--- Issued SBT ---\")\n",
        "print(sbt)\n",
        "print(f\"Is valid: {sbt.is_valid()}\")"
      ]
    },
    {
      "cell_type": "markdown",
      "metadata": {
        "id": "u6VCJWVZgzBO"
      },
      "source": [
        "### 2. トークンの移動"
      ]
    },
    {
      "cell_type": "code",
      "execution_count": null,
      "metadata": {
        "id": "bB7GO9bagzBO"
      },
      "outputs": [],
      "source": [
        "# トークンは移動できない（移動させる関数を作成してはいけない）"
      ]
    },
    {
      "cell_type": "markdown",
      "metadata": {
        "id": "ppa3cQD_gzBP"
      },
      "source": [
        "### 3. トークンの廃止"
      ]
    },
    {
      "cell_type": "code",
      "execution_count": null,
      "metadata": {
        "id": "D5SRfL0CgzBP",
        "outputId": "cf0f063b-19e1-4f3d-ec3b-b9550039322e"
      },
      "outputs": [
        {
          "name": "stdout",
          "output_type": "stream",
          "text": [
            "\n",
            "Error during revocation (expected): Only the issuer can revoke the token.\n",
            "\n",
            "--- Revoked SBT ---\n",
            "{\n",
            "    \"token_id\": \"8dd1b9701ac5952267d7ee38cdefe3c0920cc8fa6d8a38d4d80bda6f692b6b34\",\n",
            "    \"issuer\": \"University of Example\",\n",
            "    \"recipient\": \"0xabcd1234walletAddress\",\n",
            "    \"data\": {\n",
            "        \"degree\": \"Bachelor of Science\",\n",
            "        \"major\": \"Computer Science\",\n",
            "        \"graduation_date\": \"2024-05-15\"\n",
            "    },\n",
            "    \"timestamp\": \"2025-02-26T08:52:31.449564\",\n",
            "    \"revoked\": true,\n",
            "    \"revocation_reason\": \"Incorrect major listed\",\n",
            "    \"previous_token_id\": null\n",
            "}\n",
            "Is valid: False\n"
          ]
        }
      ],
      "source": [
        "try:\n",
        "    sbt.revoke(\"Incorrect major listed\", \"SomeOtherEntity\")  # Should fail\n",
        "except ValueError as e:\n",
        "    print(f\"\\nError during revocation (expected): {e}\")\n",
        "\n",
        "sbt.revoke(\"Incorrect major listed\", issuer_id)\n",
        "print(\"\\n--- Revoked SBT ---\")\n",
        "print(sbt)\n",
        "print(f\"Is valid: {sbt.is_valid()}\")"
      ]
    },
    {
      "cell_type": "markdown",
      "metadata": {
        "id": "9chEvTT5gzBP"
      },
      "source": [
        "### 4. データの更新（新しくリンクされたトークンを作成）"
      ]
    },
    {
      "cell_type": "code",
      "execution_count": null,
      "metadata": {
        "id": "Z4tjwkZggzBP",
        "outputId": "f5354e12-1370-4553-d55d-7395fedbf709"
      },
      "outputs": [
        {
          "name": "stdout",
          "output_type": "stream",
          "text": [
            "\n",
            "--- Updated SBT ---\n",
            "{\n",
            "    \"token_id\": \"52a7e40beb0b17d5261d1b370d5cca376e4b524e45891e058c2df29aa54e4da8\",\n",
            "    \"issuer\": \"University of Example\",\n",
            "    \"recipient\": \"0xabcd1234walletAddress\",\n",
            "    \"data\": {\n",
            "        \"degree\": \"Bachelor of Science\",\n",
            "        \"major\": \"Computer Engineering\",\n",
            "        \"graduation_date\": \"2024-05-15\"\n",
            "    },\n",
            "    \"timestamp\": \"2025-02-26T08:53:32.404020\",\n",
            "    \"revoked\": false,\n",
            "    \"revocation_reason\": null,\n",
            "    \"previous_token_id\": \"8dd1b9701ac5952267d7ee38cdefe3c0920cc8fa6d8a38d4d80bda6f692b6b34\"\n",
            "}\n",
            "Is valid (updated): True\n",
            "Is valid (original): False\n",
            "\n",
            "--- Updated SBT by Recipient ---\n",
            "{\n",
            "    \"token_id\": \"b4fb042ccfb2a0f912df0ee232a2df6f9d28fb25a77b21f7700bc8340a6fe318\",\n",
            "    \"issuer\": \"University of Example\",\n",
            "    \"recipient\": \"0xabcd1234walletAddress\",\n",
            "    \"data\": {\n",
            "        \"degree\": \"Bachelor of Science\",\n",
            "        \"major\": \"Computer Engineering\",\n",
            "        \"graduation_date\": \"2024-05-15\",\n",
            "        \"honors\": \"Cum Laude\"\n",
            "    },\n",
            "    \"timestamp\": \"2025-02-26T08:53:32.404396\",\n",
            "    \"revoked\": false,\n",
            "    \"revocation_reason\": null,\n",
            "    \"previous_token_id\": \"52a7e40beb0b17d5261d1b370d5cca376e4b524e45891e058c2df29aa54e4da8\"\n",
            "}\n",
            "\n",
            "Error during update (expected): Only the issuer or recipient can update the token data.\n"
          ]
        },
        {
          "name": "stderr",
          "output_type": "stream",
          "text": [
            "/var/folders/f5/4kxhzrrd5_16jg94_dpsjq5m0000gn/T/ipykernel_56165/3759532336.py:22: DeprecationWarning: datetime.datetime.utcnow() is deprecated and scheduled for removal in a future version. Use timezone-aware objects to represent datetimes in UTC: datetime.datetime.now(datetime.UTC).\n",
            "  self.timestamp = datetime.datetime.utcnow()\n"
          ]
        }
      ],
      "source": [
        "updated_data = {\n",
        "    \"degree\": \"Bachelor of Science\",\n",
        "    \"major\": \"Computer Engineering\",  # Corrected major\n",
        "    \"graduation_date\": \"2024-05-15\",\n",
        "}\n",
        "\n",
        "updated_sbt = sbt.update_data(updated_data, issuer_id) # Issuer updates\n",
        "print(\"\\n--- Updated SBT ---\")\n",
        "print(updated_sbt)\n",
        "print(f\"Is valid (updated): {updated_sbt.is_valid()}\")\n",
        "print(f\"Is valid (original): {sbt.is_valid()}\") #Original is still revoked (and invalid)\n",
        "\n",
        "#Recipient Updates\n",
        "updated_data2 = {\n",
        "    \"degree\": \"Bachelor of Science\",\n",
        "    \"major\": \"Computer Engineering\",\n",
        "    \"graduation_date\": \"2024-05-15\",\n",
        "    \"honors\": \"Cum Laude\"\n",
        "}\n",
        "\n",
        "updated_sbt2 = updated_sbt.update_data(updated_data2, recipient_id) #Recipient updates\n",
        "print(\"\\n--- Updated SBT by Recipient ---\")\n",
        "print(updated_sbt2)\n",
        "\n",
        "#Try to update from someone other than issuer/recipient.\n",
        "\n",
        "try:\n",
        "    updated_sbt3 = updated_sbt2.update_data(updated_data2, \"0xSomeOtherAddress\") #Recipient updates\n",
        "except ValueError as e:\n",
        "    print(f\"\\nError during update (expected): {e}\")"
      ]
    },
    {
      "cell_type": "markdown",
      "metadata": {
        "id": "L9WbKX8YgzBQ"
      },
      "source": [
        "### 5. シリアライズ"
      ]
    },
    {
      "cell_type": "code",
      "execution_count": null,
      "metadata": {
        "id": "8otjyX8ngzBQ",
        "outputId": "808a2a7d-4bbb-474a-effd-561d16a85faf"
      },
      "outputs": [
        {
          "name": "stdout",
          "output_type": "stream",
          "text": [
            "\n",
            "--- Serialized SBT (JSON) ---\n",
            "{\"token_id\": \"8dd1b9701ac5952267d7ee38cdefe3c0920cc8fa6d8a38d4d80bda6f692b6b34\", \"issuer\": \"University of Example\", \"recipient\": \"0xabcd1234walletAddress\", \"data\": {\"degree\": \"Bachelor of Science\", \"major\": \"Computer Science\", \"graduation_date\": \"2024-05-15\"}, \"timestamp\": \"2025-02-26T08:52:31.449564\", \"revoked\": true, \"revocation_reason\": \"Incorrect major listed\", \"previous_token_id\": null}\n"
          ]
        }
      ],
      "source": [
        "sbt_json = json.dumps(sbt.to_dict())\n",
        "print(\"\\n--- Serialized SBT (JSON) ---\")\n",
        "print(sbt_json)"
      ]
    },
    {
      "cell_type": "markdown",
      "metadata": {
        "id": "RdSh0zxTgzBQ"
      },
      "source": [
        "### 6. シリアライズ解除"
      ]
    },
    {
      "cell_type": "code",
      "execution_count": null,
      "metadata": {
        "id": "5Od1jLn7gzBQ",
        "outputId": "5febe97d-c630-44ea-aa50-9118888dc76d"
      },
      "outputs": [
        {
          "name": "stdout",
          "output_type": "stream",
          "text": [
            "\n",
            "--- Deserialized SBT ---\n",
            "{\n",
            "    \"token_id\": \"8dd1b9701ac5952267d7ee38cdefe3c0920cc8fa6d8a38d4d80bda6f692b6b34\",\n",
            "    \"issuer\": \"University of Example\",\n",
            "    \"recipient\": \"0xabcd1234walletAddress\",\n",
            "    \"data\": {\n",
            "        \"degree\": \"Bachelor of Science\",\n",
            "        \"major\": \"Computer Science\",\n",
            "        \"graduation_date\": \"2024-05-15\"\n",
            "    },\n",
            "    \"timestamp\": \"2025-02-26T08:52:31.449564\",\n",
            "    \"revoked\": true,\n",
            "    \"revocation_reason\": \"Incorrect major listed\",\n",
            "    \"previous_token_id\": null\n",
            "}\n"
          ]
        },
        {
          "name": "stderr",
          "output_type": "stream",
          "text": [
            "/var/folders/f5/4kxhzrrd5_16jg94_dpsjq5m0000gn/T/ipykernel_56165/3759532336.py:22: DeprecationWarning: datetime.datetime.utcnow() is deprecated and scheduled for removal in a future version. Use timezone-aware objects to represent datetimes in UTC: datetime.datetime.now(datetime.UTC).\n",
            "  self.timestamp = datetime.datetime.utcnow()\n"
          ]
        }
      ],
      "source": [
        "loaded_sbt_data = json.loads(sbt_json)\n",
        "loaded_sbt = SoulBoundToken(\n",
        "    loaded_sbt_data[\"issuer\"],\n",
        "    loaded_sbt_data[\"recipient\"],\n",
        "    loaded_sbt_data[\"data\"],\n",
        "     #previous_token_id must be explicitly handled.\n",
        ")\n",
        "loaded_sbt.timestamp = datetime.datetime.fromisoformat(loaded_sbt_data[\"timestamp\"])\n",
        "loaded_sbt.token_id = loaded_sbt_data[\"token_id\"]\n",
        "loaded_sbt.revoked = loaded_sbt_data[\"revoked\"]\n",
        "loaded_sbt.revocation_reason = loaded_sbt_data[\"revocation_reason\"]\n",
        "\n",
        "print(\"\\n--- Deserialized SBT ---\")\n",
        "print(loaded_sbt)"
      ]
    }
  ],
  "metadata": {
    "kernelspec": {
      "display_name": "Python 3",
      "language": "python",
      "name": "python3"
    },
    "language_info": {
      "codemirror_mode": {
        "name": "ipython",
        "version": 3
      },
      "file_extension": ".py",
      "mimetype": "text/x-python",
      "name": "python",
      "nbconvert_exporter": "python",
      "pygments_lexer": "ipython3",
      "version": "3.12.4"
    },
    "colab": {
      "provenance": [],
      "include_colab_link": true
    }
  },
  "nbformat": 4,
  "nbformat_minor": 0
}