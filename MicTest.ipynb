{
  "nbformat": 4,
  "nbformat_minor": 0,
  "metadata": {
    "colab": {
      "name": "SpeechRecognition.ipynb",
      "provenance": [],
      "include_colab_link": true
    },
    "kernelspec": {
      "name": "python3",
      "display_name": "Python 3"
    },
    "language_info": {
      "name": "python"
    },
    "accelerator": "GPU"
  },
  "cells": [
    {
      "cell_type": "markdown",
      "metadata": {
        "id": "view-in-github",
        "colab_type": "text"
      },
      "source": [
        "<a href=\"https://colab.research.google.com/github/ailab-nda/ML/blob/main/MicTest.ipynb\" target=\"_parent\"><img src=\"https://colab.research.google.com/assets/colab-badge.svg\" alt=\"Open In Colab\"/></a>"
      ]
    },
    {
      "cell_type": "markdown",
      "metadata": {
        "id": "0bqKj_Hd2Jhl"
      },
      "source": [
        "# マイク入力の例（講義室用）"
      ]
    },
    {
      "cell_type": "markdown",
      "metadata": {
        "id": "vrouMUnN2RZC"
      },
      "source": [
        "## 1. 準備"
      ]
    },
    {
      "cell_type": "markdown",
      "metadata": {
        "id": "xL4d9zsg37Ko"
      },
      "source": [
        "### (1) ソフトのインストール"
      ]
    },
    {
      "cell_type": "code",
      "metadata": {
        "id": "BRy2Owb7x0-w"
      },
      "source": [
        "!apt install libasound2-dev portaudio19-dev libportaudio2 libportaudiocpp0 ffmpeg"
      ],
      "execution_count": null,
      "outputs": []
    },
    {
      "cell_type": "markdown",
      "metadata": {
        "id": "AVQxDUEgx0Fh"
      },
      "source": [
        "### (3) ブラウザからマイクを使う設定\n"
      ]
    },
    {
      "cell_type": "code",
      "source": [
        "from IPython.display import Javascript\n",
        "from google.colab import output\n",
        "from base64 import b64decode\n",
        "\n",
        "RECORD = \"\"\"\n",
        "const sleep = time => new Promise(resolve => setTimeout(resolve, time))\n",
        "const b2text = blob => new Promise(resolve => {\n",
        "  const reader = new FileReader()\n",
        "  reader.onloadend = e => resolve(e.srcElement.result)\n",
        "  reader.readAsDataURL(blob)\n",
        "})\n",
        "var record = time => new Promise(async resolve => {\n",
        "  stream = await navigator.mediaDevices.getUserMedia({ audio: true })\n",
        "  recorder = new MediaRecorder(stream)\n",
        "  chunks = []\n",
        "  recorder.ondataavailable = e => chunks.push(e.data)\n",
        "  recorder.start()\n",
        "  await sleep(time)\n",
        "  recorder.onstop = async ()=>{\n",
        "    blob = new Blob(chunks)\n",
        "    text = await b2text(blob)\n",
        "    resolve(text)\n",
        "  }\n",
        "  recorder.stop()\n",
        "})\n",
        "\"\"\"\n",
        "\n",
        "def record(sec, filename='audio.wav'):\n",
        "  display(Javascript(RECORD))\n",
        "  s = output.eval_js('record(%d)' % (sec * 1000))\n",
        "  b = b64decode(s.split(',')[1])\n",
        "  with open(filename, 'wb+') as f:\n",
        "    f.write(b)"
      ],
      "metadata": {
        "id": "6Jku-9Dvdy7l"
      },
      "execution_count": null,
      "outputs": []
    },
    {
      "cell_type": "markdown",
      "metadata": {
        "id": "alkXUfjX2iWl"
      },
      "source": [
        "## 2. 音声の取り込み"
      ]
    },
    {
      "cell_type": "code",
      "source": [
        "audiofile = \"audio.wav\"\n",
        "second = 5\n",
        "print(f\"Speak to your microphone {second} sec...\")\n",
        "record(second, audiofile)\n",
        "print(\"Done!\")"
      ],
      "metadata": {
        "id": "uGvElH7Rd_f2"
      },
      "execution_count": null,
      "outputs": []
    },
    {
      "cell_type": "code",
      "source": [
        "# 波形プロットにより録音を確認\n",
        "# UserWarning: PySoundFile failed. Trying audioread instead. が出るが、無視して問題ない\n",
        "import librosa\n",
        "import librosa.display\n",
        "speech, rate = librosa.load(audiofile, sr=16000)\n",
        "librosa.display.waveshow(speech, sr=rate)"
      ],
      "metadata": {
        "id": "CU4k5bwBeHZF"
      },
      "execution_count": null,
      "outputs": []
    },
    {
      "cell_type": "code",
      "source": [
        "import IPython.display\n",
        "IPython.display.Audio(\"audio.wav\", autoplay=True)"
      ],
      "metadata": {
        "id": "YR7lDwSQeft9"
      },
      "execution_count": null,
      "outputs": []
    }
  ]
}