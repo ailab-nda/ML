{
  "nbformat": 4,
  "nbformat_minor": 0,
  "metadata": {
    "colab": {
      "private_outputs": true,
      "provenance": [],
      "include_colab_link": true
    },
    "kernelspec": {
      "name": "python3",
      "display_name": "Python 3"
    },
    "accelerator": "GPU"
  },
  "cells": [
    {
      "cell_type": "markdown",
      "metadata": {
        "id": "view-in-github",
        "colab_type": "text"
      },
      "source": [
        "<a href=\"https://colab.research.google.com/github/ailab-nda/ML/blob/main/YOLOv5_detection.ipynb\" target=\"_parent\"><img src=\"https://colab.research.google.com/assets/colab-badge.svg\" alt=\"Open In Colab\"/></a>"
      ]
    },
    {
      "cell_type": "markdown",
      "source": [
        "# YOLOv5 による物体検出\n",
        "\n",
        "解説：https://deepsquare.jp/2020/09/yolo/"
      ],
      "metadata": {
        "id": "-Ceb_CZ6sKmr"
      }
    },
    {
      "cell_type": "markdown",
      "metadata": {
        "id": "KIhVzJgMxBGG"
      },
      "source": [
        "## 環境構築\n",
        "YOLOv5 のインストール"
      ]
    },
    {
      "cell_type": "code",
      "metadata": {
        "id": "Fs2qD93bMFkJ"
      },
      "source": [
        "!git clone https://github.com/ultralytics/yolov5\n",
        "%cd yolov5/\n",
        "!pip install -qr requirements.txt"
      ],
      "execution_count": null,
      "outputs": []
    },
    {
      "cell_type": "markdown",
      "source": [
        "## 素材の用意\n",
        "- 写真の場合：jpgファイルを用意して、左のファイルペインに置く（ドラッグ＆ドロップ）\n",
        "- 動画の場合：mp4ファイルを用意して、左のファイルペインに置くか、以下のコマンドでダウンロード"
      ],
      "metadata": {
        "id": "HDXyPt_c_ndS"
      }
    },
    {
      "cell_type": "code",
      "source": [
        "!pip install yt_dlp\n",
        "\n",
        "#@title 分割対象の動画をYoutubeから選択\n",
        "#@markdown 注: 長い場合は、download-sections で切り出す時間を指定する。\n",
        "Youtube_url = \"https://www.youtube.com/watch?v=FuRROulIDKs\"#@param {type:\"string\"}\n",
        "import yt_dlp as youtube_dl\n",
        "ydl_opts = {'format': 'best',\n",
        "            'download-sections': '*1:50-2:16'}\n",
        "\n",
        "ydl = youtube_dl.YoutubeDL(ydl_opts)\n",
        "info_dict = ydl.extract_info(Youtube_url, download=True)"
      ],
      "metadata": {
        "id": "on68OMzM_9ZL"
      },
      "execution_count": null,
      "outputs": []
    },
    {
      "cell_type": "markdown",
      "source": [
        "動画のタイトルがファイル名になるので、名前を movie.mp4 に変更しておく（下記参照）"
      ],
      "metadata": {
        "id": "x4DjHdwfLawa"
      }
    },
    {
      "cell_type": "markdown",
      "metadata": {
        "id": "F6eCo-Zq3WCX"
      },
      "source": [
        "# YOLO を実行 \n",
        "\n",
        "使い方：!python detect.py --source <写真/動画/リンク>"
      ]
    },
    {
      "cell_type": "markdown",
      "source": [
        "## 写真の場合\n",
        "JPG ファイルを用意して、左のファイルペインに置いたら、以下のコマンドを実行。"
      ],
      "metadata": {
        "id": "QN-plgi6waIw"
      }
    },
    {
      "cell_type": "code",
      "source": [
        "!python detect.py --source \"figure.jpg\""
      ],
      "metadata": {
        "id": "IEvDFmugwmpj"
      },
      "execution_count": null,
      "outputs": []
    },
    {
      "cell_type": "markdown",
      "source": [
        "結果は、上記の \"Results saved to runs/detect/exp...\" に保存されるので確認する。"
      ],
      "metadata": {
        "id": "J3ILgsRAw-Am"
      }
    },
    {
      "cell_type": "markdown",
      "source": [
        "## 動画の場合\n",
        "mp4 ファイルを用意して、左のファイルペインに置いたら、以下のコマンドを実行。"
      ],
      "metadata": {
        "id": "qJjDKcCA0TWB"
      }
    },
    {
      "cell_type": "code",
      "source": [
        "!python detect.py --source \"movie.mp4\""
      ],
      "metadata": {
        "id": "3BPSFmzP0SQ8"
      },
      "execution_count": null,
      "outputs": []
    },
    {
      "cell_type": "markdown",
      "source": [
        "## リンクの場合"
      ],
      "metadata": {
        "id": "6FmNM7AlrzVx"
      }
    },
    {
      "cell_type": "markdown",
      "source": [
        "source オプションに動画の URL を設定する。再生時間が変わるので非推奨"
      ],
      "metadata": {
        "id": "sgCUsfkPv2Th"
      }
    },
    {
      "cell_type": "code",
      "source": [
        "!python detect.py --source \"https://youtu.be/tShhVopoGKk\""
      ],
      "metadata": {
        "id": "XOnMeOgRrxu9"
      },
      "execution_count": null,
      "outputs": []
    },
    {
      "cell_type": "markdown",
      "source": [
        "## 動画の再生"
      ],
      "metadata": {
        "id": "XTh0vxuuIEaZ"
      }
    },
    {
      "cell_type": "code",
      "source": [
        "# mp4動画の再生\n",
        "from IPython.display import HTML\n",
        "from base64 import b64encode\n",
        "\n",
        "#mp4 = open('../movie.mp4', 'rb').read()\n",
        "mp4 = open('./runs/detect/exp7/movie.mp4', 'rb').read()\n",
        "data_url = 'data:video/mp4;base64,' + b64encode(mp4).decode()\n",
        "HTML(f\"\"\"\n",
        "<video width=\"100%\" height=\"100%\" controls>\n",
        "      <source src=\"{data_url}\" type=\"video/mp4\">\n",
        "</video>\"\"\")"
      ],
      "metadata": {
        "id": "ShD7tszN3ksq"
      },
      "execution_count": null,
      "outputs": []
    }
  ]
}