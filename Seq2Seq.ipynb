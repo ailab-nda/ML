{
  "cells": [
    {
      "cell_type": "markdown",
      "metadata": {
        "id": "view-in-github",
        "colab_type": "text"
      },
      "source": [
        "<a href=\"https://colab.research.google.com/github/ailab-nda/ML/blob/main/Seq2Seq.ipynb\" target=\"_parent\"><img src=\"https://colab.research.google.com/assets/colab-badge.svg\" alt=\"Open In Colab\"/></a>"
      ]
    },
    {
      "cell_type": "code",
      "source": [
        "! pip install mecab-python3 chainer"
      ],
      "metadata": {
        "id": "qvw170NVZkCD",
        "outputId": "98a41c2c-e169-4c35-8365-5fc8ae963abd",
        "colab": {
          "base_uri": "https://localhost:8080/"
        }
      },
      "execution_count": 7,
      "outputs": [
        {
          "output_type": "stream",
          "name": "stdout",
          "text": [
            "Looking in indexes: https://pypi.org/simple, https://us-python.pkg.dev/colab-wheels/public/simple/\n",
            "Requirement already satisfied: mecab-python3 in /usr/local/lib/python3.7/dist-packages (1.0.5)\n",
            "Collecting chainer\n",
            "  Downloading chainer-7.8.1.tar.gz (1.0 MB)\n",
            "\u001b[K     |████████████████████████████████| 1.0 MB 5.0 MB/s \n",
            "\u001b[?25hRequirement already satisfied: setuptools in /usr/local/lib/python3.7/dist-packages (from chainer) (57.4.0)\n",
            "Requirement already satisfied: typing_extensions in /usr/local/lib/python3.7/dist-packages (from chainer) (4.1.1)\n",
            "Requirement already satisfied: filelock in /usr/local/lib/python3.7/dist-packages (from chainer) (3.8.0)\n",
            "Requirement already satisfied: numpy>=1.9.0 in /usr/local/lib/python3.7/dist-packages (from chainer) (1.21.6)\n",
            "Requirement already satisfied: protobuf>=3.0.0 in /usr/local/lib/python3.7/dist-packages (from chainer) (3.17.3)\n",
            "Requirement already satisfied: six>=1.9.0 in /usr/local/lib/python3.7/dist-packages (from chainer) (1.15.0)\n",
            "Building wheels for collected packages: chainer\n",
            "  Building wheel for chainer (setup.py) ... \u001b[?25l\u001b[?25hdone\n",
            "  Created wheel for chainer: filename=chainer-7.8.1-py3-none-any.whl size=967740 sha256=bd23290d2c344ddf9e1f38fd127b82f993c296669ac7096ea9a9684c9384c316\n",
            "  Stored in directory: /root/.cache/pip/wheels/c8/6a/6f/fd563166cc597e5206e375ea074ea836e5db5dd58421215672\n",
            "Successfully built chainer\n",
            "Installing collected packages: chainer\n",
            "Successfully installed chainer-7.8.1\n"
          ]
        }
      ]
    },
    {
      "cell_type": "code",
      "source": [
        "!pip install 'cupy-cuda111>=7.7.0,<8.0.0'"
      ],
      "metadata": {
        "id": "rW9dt3x_ap9d"
      },
      "execution_count": null,
      "outputs": []
    },
    {
      "cell_type": "code",
      "source": [
        "import datetime\n",
        "import numpy as np\n",
        "import chainer\n",
        "import chainer.functions as F\n",
        "import chainer.links as L\n",
        "import MeCab"
      ],
      "metadata": {
        "id": "2DT6JmXfZYBr",
        "outputId": "0e6e72ae-e8a0-4483-f700-848d952f76a2",
        "colab": {
          "base_uri": "https://localhost:8080/"
        }
      },
      "execution_count": 8,
      "outputs": [
        {
          "output_type": "stream",
          "name": "stderr",
          "text": [
            "/usr/local/lib/python3.7/dist-packages/chainer/_environment_check.py:75: UserWarning: \n",
            "--------------------------------------------------------------------------------\n",
            "CuPy (cupy-cuda111) version 9.4.0 may not be compatible with this version of Chainer.\n",
            "Please consider installing the supported version by running:\n",
            "  $ pip install 'cupy-cuda111>=7.7.0,<8.0.0'\n",
            "\n",
            "See the following page for more details:\n",
            "  https://docs.cupy.dev/en/latest/install.html\n",
            "--------------------------------------------------------------------------------\n",
            "\n",
            "  requirement=requirement, help=help))\n"
          ]
        }
      ]
    },
    {
      "cell_type": "code",
      "source": [
        "# 教師データ\n",
        "data = [\n",
        "    [[\"初めまして。\"], [\"初めまして。よろしくお願いします。\"]],\n",
        "    [[\"どこから来たんですか？\"], [\"日本から来ました。\"]],\n",
        "    [[\"日本のどこに住んでるんですか？\"], [\"東京に住んでいます。\"]],\n",
        "    [[\"仕事は何してますか？\"], [\"私は会社員です。\"]],\n",
        "    [[\"お会いできて嬉しかったです。\"], [\"私もです！\"]],\n",
        "    [[\"おはよう。\"], [\"おはようございます。\"]],\n",
        "    [[\"いつも何時に起きますか？\"], [\"6時に起きます。\"]],\n",
        "    [[\"朝食は何を食べますか？\"], [\"たいていトーストと卵を食べます。\"]],\n",
        "    [[\"朝食は毎日食べますか？\"], [\"たまに朝食を抜くことがあります。\"]],\n",
        "    [[\"野菜をたくさん取っていますか？\"], [\"毎日野菜を取るようにしています。\"]],\n",
        "    [[\"週末は何をしていますか？\"], [\"友達と会っていることが多いです。\"]],\n",
        "    [[\"どこに行くのが好き？\"], [\"私たちは渋谷に行くのが好きです。\"]]\n",
        "]"
      ],
      "metadata": {
        "id": "0vwqoA9fZhjn"
      },
      "execution_count": 9,
      "outputs": []
    },
    {
      "cell_type": "code",
      "source": [
        "# GPUのセット\n",
        "\n",
        "gpu = -1\n",
        "if gpu >= 0: # numpyかcuda.cupyか\n",
        "    xp = chainer.cuda.cupy\n",
        "    chainer.cuda.get_device(gpu).use()\n",
        "else:\n",
        "    xp = np"
      ],
      "metadata": {
        "id": "fPtKhdY6Z5L6"
      },
      "execution_count": 10,
      "outputs": []
    },
    {
      "cell_type": "code",
      "source": [
        "# データ変換クラスの定義\n",
        "\n",
        "class DataConverter:\n",
        "    \n",
        "    def __init__(self, batch_col_size):\n",
        "        \"\"\"クラスの初期化\n",
        "        \n",
        "        Args:\n",
        "            batch_col_size: 学習時のミニバッチ単語数サイズ\n",
        "        \"\"\"\n",
        "        self.mecab = MeCab.Tagger() # 形態素解析器\n",
        "        self.vocab = {\"<eos>\":0, \"<unknown>\": 1} # 単語辞書\n",
        "        self.batch_col_size = batch_col_size\n",
        "        \n",
        "    def load(self, data):\n",
        "        \"\"\"学習時に、教師データを読み込んでミニバッチサイズに対応したNumpy配列に変換する\n",
        "        \n",
        "        Args:\n",
        "            data: 対話データ\n",
        "        \"\"\"\n",
        "        # 単語辞書の登録\n",
        "        self.vocab = {\"<eos>\":0, \"<unknown>\": 1} # 単語辞書を初期化\n",
        "        for d in data:\n",
        "            sentences = [d[0][0], d[1][0]] # 入力文、返答文\n",
        "            for sentence in sentences:\n",
        "                sentence_words = self.sentence2words(sentence) # 文章を単語に分解する\n",
        "                for word in sentence_words:\n",
        "                    if word not in self.vocab:\n",
        "                        self.vocab[word] = len(self.vocab)\n",
        "        # 教師データのID化と整理\n",
        "        queries, responses = [], []\n",
        "        for d in data:\n",
        "            query, response = d[0][0], d[1][0] #  エンコード文、デコード文\n",
        "            queries.append(self.sentence2ids(sentence=query, train=True, sentence_type=\"query\"))\n",
        "            responses.append(self.sentence2ids(sentence=response, train=True, sentence_type=\"response\"))\n",
        "        self.train_queries = xp.vstack(queries)\n",
        "        self.train_responses = xp.vstack(responses)\n",
        "    \n",
        "    def sentence2words(self, sentence):\n",
        "        \"\"\"文章を単語の配列にして返却する\n",
        "        \n",
        "        Args:\n",
        "            sentence: 文章文字列\n",
        "        \"\"\"\n",
        "        sentence_words = []\n",
        "        for m in self.mecab.parse(sentence).split(\"\\n\"): # 形態素解析で単語に分解する\n",
        "            w = m.split(\"\\t\")[0].lower() # 単語\n",
        "            if len(w) == 0 or w == \"eos\": # 不正文字、EOSは省略\n",
        "                continue\n",
        "            sentence_words.append(w)\n",
        "        sentence_words.append(\"<eos>\") # 最後にvocabに登録している<eos>を代入する\n",
        "        return sentence_words\n",
        "\n",
        "    def sentence2ids(self, sentence, train=True, sentence_type=\"query\"):\n",
        "        \"\"\"文章を単語IDのNumpy配列に変換して返却する\n",
        "        \n",
        "        Args:\n",
        "            sentence: 文章文字列\n",
        "            train: 学習用かどうか\n",
        "            sentence_type: 学習用でミニバッチ対応のためのサイズ補填方向をクエリー・レスポンスで変更するため\"query\"or\"response\"を指定　\n",
        "        Returns:\n",
        "            ids: 単語IDのNumpy配列\n",
        "        \"\"\"\n",
        "        ids = [] # 単語IDに変換して格納する配列\n",
        "        sentence_words = self.sentence2words(sentence) # 文章を単語に分解する\n",
        "        for word in sentence_words:\n",
        "            if word in self.vocab: # 単語辞書に存在する単語ならば、IDに変換する\n",
        "                ids.append(self.vocab[word])\n",
        "            else: # 単語辞書に存在しない単語ならば、<unknown>に変換する\n",
        "                ids.append(self.vocab[\"<unknown>\"])\n",
        "        # 学習時は、ミニバッチ対応のため、単語数サイズを調整してNumpy変換する\n",
        "        if train:\n",
        "            if sentence_type == \"query\": # クエリーの場合は前方にミニバッチ単語数サイズになるまで-1を補填する\n",
        "                while len(ids) > self.batch_col_size: # ミニバッチ単語サイズよりも大きければ、ミニバッチ単語サイズになるまで先頭から削る\n",
        "                    ids.pop(0)\n",
        "                ids = xp.array([-1]*(self.batch_col_size-len(ids))+ids, dtype=\"int32\")\n",
        "            elif sentence_type == \"response\": # レスポンスの場合は後方にミニバッチ単語数サイズになるまで-1を補填する\n",
        "                while len(ids) > self.batch_col_size: # ミニバッチ単語サイズよりも大きければ、ミニバッチ単語サイズになるまで末尾から削る\n",
        "                    ids.pop()\n",
        "                ids = xp.array(ids+[-1]*(self.batch_col_size-len(ids)), dtype=\"int32\")\n",
        "        else: # 予測時は、そのままNumpy変換する\n",
        "            ids = xp.array([ids], dtype=\"int32\")\n",
        "        return ids\n",
        "        \n",
        "    def ids2words(self, ids):\n",
        "        \"\"\"予測時に、単語IDのNumpy配列を単語に変換して返却する\n",
        "        \n",
        "        Args:\n",
        "            ids: 単語IDのNumpy配列\n",
        "        Returns:\n",
        "            words: 単語の配列\n",
        "        \"\"\"\n",
        "        words = [] # 単語を格納する配列\n",
        "        for i in ids: # 順番に単語IDを単語辞書から参照して単語に変換する\n",
        "            words.append(list(self.vocab.keys())[list(self.vocab.values()).index(i)])\n",
        "        return words"
      ],
      "metadata": {
        "id": "5nXlbCkhaH4T"
      },
      "execution_count": 11,
      "outputs": []
    },
    {
      "cell_type": "code",
      "source": [
        "# モデルクラスの定義\n",
        "\n",
        "# LSTMエンコーダークラス\n",
        "class LSTMEncoder(chainer.Chain):\n",
        "    \n",
        "    def __init__(self, vocab_size, embed_size, hidden_size):\n",
        "        \"\"\"Encoderのインスタンス化\n",
        "        \n",
        "        Args:\n",
        "            vocab_size: 使われる単語の種類数\n",
        "            embed_size: 単語をベクトル表現した際のサイズ\n",
        "            hidden_size: 隠れ層のサイズ\n",
        "        \"\"\"\n",
        "        super(LSTMEncoder, self).__init__(\n",
        "            xe = L.EmbedID(vocab_size, embed_size, ignore_label=-1),\n",
        "            eh = L.Linear(embed_size, 4 * hidden_size),\n",
        "            hh = L.Linear(hidden_size, 4 * hidden_size)\n",
        "        )\n",
        "\n",
        "    def __call__(self, x, c, h):\n",
        "        \"\"\"Encoderの計算\n",
        "        \n",
        "        Args:\n",
        "            x: one-hotな単語\n",
        "            c: 内部メモリ\n",
        "            h: 隠れ層\n",
        "        Returns:\n",
        "            次の内部メモリ、次の隠れ層\n",
        "        \"\"\"\n",
        "        e = F.tanh(self.xe(x))\n",
        "        return F.lstm(c, self.eh(e) + self.hh(h))\n",
        "\n",
        "# Attention Model + LSTMデコーダークラス\n",
        "class AttLSTMDecoder(chainer.Chain):\n",
        "    def __init__(self, vocab_size, embed_size, hidden_size):\n",
        "        \"\"\"Attention ModelのためのDecoderのインスタンス化\n",
        "        \n",
        "        Args:\n",
        "            vocab_size: 語彙数\n",
        "            embed_size: 単語ベクトルのサイズ\n",
        "            hidden_size: 隠れ層のサイズ\n",
        "        \"\"\"\n",
        "        super(AttLSTMDecoder, self).__init__(\n",
        "            ye = L.EmbedID(vocab_size, embed_size, ignore_label=-1), # 単語を単語ベクトルに変換する層\n",
        "            eh = L.Linear(embed_size, 4 * hidden_size), # 単語ベクトルを隠れ層の4倍のサイズのベクトルに変換する層\n",
        "            hh = L.Linear(hidden_size, 4 * hidden_size), # Decoderの中間ベクトルを隠れ層の4倍のサイズのベクトルに変換する層\n",
        "            fh = L.Linear(hidden_size, 4 * hidden_size), # 順向きEncoderの中間ベクトルの加重平均を隠れ層の4倍のサイズのベクトルに変換する層\n",
        "            bh = L.Linear(hidden_size, 4 * hidden_size), # 順向きEncoderの中間ベクトルの加重平均を隠れ層の4倍のサイズのベクトルに変換する層\n",
        "            he = L.Linear(hidden_size, embed_size), # 隠れ層サイズのベクトルを単語ベクトルのサイズに変換する層\n",
        "            ey = L.Linear(embed_size, vocab_size) # 単語ベクトルを語彙数サイズのベクトルに変換する層\n",
        "        )\n",
        "\n",
        "    def __call__(self, y, c, h, f, b):\n",
        "        \"\"\"Decoderの計算\n",
        "        \n",
        "        Args:\n",
        "            y: Decoderに入力する単語\n",
        "            c: 内部メモリ\n",
        "            h: Decoderの中間ベクトル\n",
        "            f: Attention Modelで計算された順向きEncoderの加重平均\n",
        "            b: Attention Modelで計算された逆向きEncoderの加重平均\n",
        "        Returns:\n",
        "            語彙数サイズのベクトル、更新された内部メモリ、更新された中間ベクトル\n",
        "        \"\"\"\n",
        "        e = F.tanh(self.ye(y)) # 単語を単語ベクトルに変換\n",
        "        c, h = F.lstm(c, self.eh(e) + self.hh(h) + self.fh(f) + self.bh(b)) # 単語ベクトル、Decoderの中間ベクトル、順向きEncoderのAttention、逆向きEncoderのAttentionを使ってLSTM\n",
        "        t = self.ey(F.tanh(self.he(h))) # LSTMから出力された中間ベクトルを語彙数サイズのベクトルに変換する\n",
        "        return t, c, h\n",
        "\n",
        "# Attentionモデルクラス\n",
        "class Attention(chainer.Chain):\n",
        "    def __init__(self, hidden_size):\n",
        "        \"\"\"Attentionのインスタンス化\n",
        "        Args:\n",
        "            hidden_size: 隠れ層のサイズ\n",
        "        \"\"\"\n",
        "        super(Attention, self).__init__(\n",
        "            fh = L.Linear(hidden_size, hidden_size), # 順向きのEncoderの中間ベクトルを隠れ層サイズのベクトルに変換する線形結合層\n",
        "            bh = L.Linear(hidden_size, hidden_size), # 逆向きのEncoderの中間ベクトルを隠れ層サイズのベクトルに変換する線形結合層\n",
        "            hh = L.Linear(hidden_size, hidden_size), # Decoderの中間ベクトルを隠れ層サイズのベクトルに変換する線形結合層\n",
        "            hw = L.Linear(hidden_size, 1), # 隠れ層サイズのベクトルをスカラーに変換するための線形結合層\n",
        "        )\n",
        "        self.hidden_size = hidden_size # 隠れ層のサイズを記憶\n",
        "\n",
        "    def __call__(self, fs, bs, h):\n",
        "        \"\"\"Attentionの計算\n",
        "        \n",
        "        Args:\n",
        "            fs: 順向きのEncoderの中間ベクトルが記録されたリスト\n",
        "            bs: 逆向きのEncoderの中間ベクトルが記録されたリスト\n",
        "            h: Decoderで出力された中間ベクトル\n",
        "        Returns:\n",
        "            順向きのEncoderの中間ベクトルの加重平均、逆向きのEncoderの中間ベクトルの加重平均\n",
        "        \"\"\"\n",
        "        batch_size = h.data.shape[0] # ミニバッチのサイズを記憶\n",
        "        ws = [] # ウェイトを記録するためのリストの初期化\n",
        "        sum_w = chainer.Variable(xp.zeros((batch_size, 1), dtype='float32')) # ウェイトの合計値を計算するための値を初期化\n",
        "        # Encoderの中間ベクトルとDecoderの中間ベクトルを使ってウェイトの計算\n",
        "        for f, b in zip(fs, bs):\n",
        "            w = F.tanh(self.fh(f)+self.bh(b)+self.hh(h)) # 順向きEncoderの中間ベクトル、逆向きEncoderの中間ベクトル、Decoderの中間ベクトルを使ってウェイトの計算\n",
        "            w = F.exp(self.hw(w)) # softmax関数を使って正規化する\n",
        "            ws.append(w) # 計算したウェイトを記録\n",
        "            sum_w += w\n",
        "        # 出力する加重平均ベクトルの初期化\n",
        "        att_f = chainer.Variable(xp.zeros((batch_size, self.hidden_size), dtype='float32'))\n",
        "        att_b = chainer.Variable(xp.zeros((batch_size, self.hidden_size), dtype='float32'))\n",
        "        for f, b, w in zip(fs, bs, ws):\n",
        "            w /= sum_w # ウェイトの和が1になるように正規化\n",
        "            # ウェイト * Encoderの中間ベクトルを出力するベクトルに足していく\n",
        "            att_f += F.reshape(F.batch_matmul(f, w), (batch_size, self.hidden_size))\n",
        "            att_b += F.reshape(F.batch_matmul(b, w), (batch_size, self.hidden_size))\n",
        "        return att_f, att_b\n",
        "\n",
        "# Attention Sequence to Sequence Modelクラス\n",
        "class AttSeq2Seq(chainer.Chain):\n",
        "    def __init__(self, vocab_size, embed_size, hidden_size, batch_col_size):\n",
        "        \"\"\"Attention + Seq2Seqのインスタンス化\n",
        "        \n",
        "        Args:\n",
        "            vocab_size: 語彙数のサイズ\n",
        "            embed_size: 単語ベクトルのサイズ\n",
        "            hidden_size: 隠れ層のサイズ\n",
        "        \"\"\"\n",
        "        super(AttSeq2Seq, self).__init__(\n",
        "            f_encoder = LSTMEncoder(vocab_size, embed_size, hidden_size), # 順向きのEncoder\n",
        "            b_encoder = LSTMEncoder(vocab_size, embed_size, hidden_size), # 逆向きのEncoder\n",
        "            attention = Attention(hidden_size), # Attention Model\n",
        "            decoder = AttLSTMDecoder(vocab_size, embed_size, hidden_size) # Decoder\n",
        "        )\n",
        "        self.vocab_size = vocab_size\n",
        "        self.embed_size = embed_size\n",
        "        self.hidden_size = hidden_size\n",
        "        self.decode_max_size = batch_col_size # デコードはEOSが出力されれば終了する、出力されない場合の最大出力語彙数\n",
        "        # 順向きのEncoderの中間ベクトル、逆向きのEncoderの中間ベクトルを保存するためのリストを初期化\n",
        "        self.fs = []\n",
        "        self.bs = []\n",
        "    \n",
        "    def encode(self, words, batch_size):\n",
        "        \"\"\"Encoderの計算\n",
        "        \n",
        "        Args:\n",
        "            words: 入力で使用する単語記録されたリスト\n",
        "            batch_size: ミニバッチのサイズ\n",
        "        \"\"\"\n",
        "        c = chainer.Variable(xp.zeros((batch_size, self.hidden_size), dtype='float32'))\n",
        "        h = chainer.Variable(xp.zeros((batch_size, self.hidden_size), dtype='float32'))\n",
        "        # 順向きのEncoderの計算\n",
        "        for w in words:\n",
        "            c, h = self.f_encoder(w, c, h)\n",
        "            self.fs.append(h) # 計算された中間ベクトルを記録\n",
        "        # 内部メモリ、中間ベクトルの初期化\n",
        "        c = chainer.Variable(xp.zeros((batch_size, self.hidden_size), dtype='float32'))\n",
        "        h = chainer.Variable(xp.zeros((batch_size, self.hidden_size), dtype='float32'))        \n",
        "        # 逆向きのEncoderの計算\n",
        "        for w in reversed(words):\n",
        "            c, h = self.b_encoder(w, c, h)\n",
        "            self.bs.insert(0, h) # 計算された中間ベクトルを記録\n",
        "        # 内部メモリ、中間ベクトルの初期化\n",
        "        self.c = chainer.Variable(xp.zeros((batch_size, self.hidden_size), dtype='float32'))\n",
        "        self.h = chainer.Variable(xp.zeros((batch_size, self.hidden_size), dtype='float32'))        \n",
        "\n",
        "    def decode(self, w):\n",
        "        \"\"\"Decoderの計算\n",
        "        \n",
        "        Args:\n",
        "            w: Decoderで入力する単語\n",
        "        Returns:\n",
        "            予測単語\n",
        "        \"\"\"\n",
        "        att_f, att_b = self.attention(self.fs, self.bs, self.h)\n",
        "        t, self.c, self.h = self.decoder(w, self.c, self.h, att_f, att_b)\n",
        "        return t\n",
        "\n",
        "    def reset(self):\n",
        "        \"\"\"インスタンス変数を初期化する\n",
        "        \"\"\"\n",
        "        # Encoderの中間ベクトルを記録するリストの初期化\n",
        "        self.fs = []\n",
        "        self.bs = []\n",
        "        # 勾配の初期化\n",
        "        self.zerograds()\n",
        "        \n",
        "    def __call__(self, enc_words, dec_words=None, train=True):\n",
        "        \"\"\"順伝播の計算を行う関数\n",
        "        \n",
        "        Args:\n",
        "            enc_words: 発話文の単語を記録したリスト\n",
        "            dec_words: 応答文の単語を記録したリスト\n",
        "            train: 学習か予測か\n",
        "        Returns:\n",
        "            計算した損失の合計 or 予測したデコード文字列\n",
        "        \"\"\"\n",
        "        enc_words = enc_words.T\n",
        "        if train:\n",
        "            dec_words = dec_words.T\n",
        "        batch_size = len(enc_words[0]) # バッチサイズを記録\n",
        "        self.reset() # model内に保存されている勾配をリセット\n",
        "        enc_words = [chainer.Variable(xp.array(row, dtype='int32')) for row in enc_words] # 発話リスト内の単語をVariable型に変更\n",
        "        self.encode(enc_words, batch_size) # エンコードの計算\n",
        "        t = chainer.Variable(xp.array([0 for _ in range(batch_size)], dtype='int32')) # <eos>をデコーダーに読み込ませる\n",
        "        loss = chainer.Variable(xp.zeros((), dtype='float32')) # 損失の初期化\n",
        "        ys = [] # デコーダーが生成する単語を記録するリスト\n",
        "        # デコーダーの計算\n",
        "        if train: # 学習の場合は損失を計算する\n",
        "            for w in dec_words:\n",
        "                y = self.decode(t) # 1単語ずつをデコードする\n",
        "                t = chainer.Variable(xp.array(w, dtype='int32')) # 正解単語をVariable型に変換\n",
        "                loss += F.softmax_cross_entropy(y, t) # 正解単語と予測単語を照らし合わせて損失を計算\n",
        "            return loss\n",
        "        else: # 予測の場合はデコード文字列を生成する\n",
        "            for i in range(self.decode_max_size):\n",
        "                y = self.decode(t)\n",
        "                y = xp.argmax(y.data) # 確率で出力されたままなので、確率が高い予測単語を取得する\n",
        "                ys.append(y)\n",
        "                t = chainer.Variable(xp.array([y], dtype='int32'))\n",
        "                if y == 0: # EOSを出力したならばデコードを終了する\n",
        "                    break\n",
        "            return ys\n"
      ],
      "metadata": {
        "id": "6s8Wmh1QaLuA"
      },
      "execution_count": 12,
      "outputs": []
    },
    {
      "cell_type": "code",
      "source": [
        "# 学習\n",
        "\n",
        "# 定数\n",
        "embed_size = 100\n",
        "hidden_size = 100\n",
        "batch_size = 6 # ミニバッチ学習のバッチサイズ数\n",
        "batch_col_size = 15\n",
        "epoch_num = 50 # エポック数\n",
        "N = len(data) # 教師データの数\n",
        "\n",
        "# 教師データの読み込み\n",
        "data_converter = DataConverter(batch_col_size=batch_col_size) # データコンバーター\n",
        "data_converter.load(data) # 教師データ読み込み\n",
        "vocab_size = len(data_converter.vocab) # 単語数\n",
        "\n",
        "# モデルの宣言\n",
        "model = AttSeq2Seq(vocab_size=vocab_size, embed_size=embed_size, hidden_size=hidden_size, batch_col_size=batch_col_size)\n",
        "opt = chainer.optimizers.Adam()\n",
        "opt.setup(model)\n",
        "opt.add_hook(chainer.optimizer.GradientClipping(5))\n",
        "\n",
        "if gpu >= 0:\n",
        "    model.to_gpu(gpu)\n",
        "\n",
        "model.reset()"
      ],
      "metadata": {
        "id": "YiMPR5-jaP6n"
      },
      "execution_count": 13,
      "outputs": []
    },
    {
      "cell_type": "code",
      "source": [
        "# 学習\n",
        "\n",
        "st = datetime.datetime.now()\n",
        "for epoch in range(epoch_num):\n",
        "    \n",
        "    # ミニバッチ学習\n",
        "    perm = np.random.permutation(N) # ランダムな整数列リストを取得\n",
        "    total_loss = 0\n",
        "    \n",
        "    for i in range(0, N, batch_size):\n",
        "        enc_words = data_converter.train_queries[perm[i:i+batch_size]]\n",
        "        dec_words = data_converter.train_responses[perm[i:i+batch_size]]\n",
        "        model.reset()\n",
        "        loss = model(enc_words=enc_words, dec_words=dec_words, train=True)\n",
        "        loss.backward()\n",
        "        loss.unchain_backward()\n",
        "        total_loss += loss.data\n",
        "        opt.update()\n",
        "        \n",
        "    if (epoch+1)%10 == 0:\n",
        "        ed = datetime.datetime.now()\n",
        "        print(\"epoch:\\t{}\\ttotal loss:\\t{}\\ttime:\\t{}\".format(epoch+1, total_loss, ed-st))\n",
        "        st = datetime.datetime.now()\n"
      ],
      "metadata": {
        "id": "tb9EKzdsaxdl",
        "outputId": "06ca71f0-46b4-4763-ab19-8575c463b416",
        "colab": {
          "base_uri": "https://localhost:8080/"
        }
      },
      "execution_count": 14,
      "outputs": [
        {
          "metadata": {
            "tags": null
          },
          "name": "stdout",
          "output_type": "stream",
          "text": [
            "epoch:\t10\ttotal loss:\t65.06806945800781\ttime:\t0:00:19.954501\n",
            "epoch:\t20\ttotal loss:\t36.39640426635742\ttime:\t0:00:19.175293\n",
            "epoch:\t30\ttotal loss:\t16.258365154266357\ttime:\t0:00:19.243604\n",
            "epoch:\t40\ttotal loss:\t6.562732458114624\ttime:\t0:00:20.088869\n",
            "epoch:\t50\ttotal loss:\t2.908713459968567\ttime:\t0:00:19.348765\n"
          ]
        }
      ]
    },
    {
      "cell_type": "code",
      "source": [
        "def predict(model, query):\n",
        "    enc_query = data_converter.sentence2ids(query, train=False)\n",
        "    dec_response = model(enc_words=enc_query, train=False)\n",
        "    response = data_converter.ids2words(dec_response)\n",
        "    print(query, \"=>\", response)"
      ],
      "metadata": {
        "id": "UyZvwpaQa1-E"
      },
      "execution_count": 15,
      "outputs": []
    },
    {
      "cell_type": "code",
      "source": [
        "predict(model, \"初めまして。\")\n",
        "predict(model, \"どこから来たんですか？\")\n",
        "predict(model, \"日本のどこに住んでるんですか？\")\n",
        "predict(model, \"仕事は何してますか？\")\n",
        "predict(model, \"お会いできて嬉しかったです。\")\n",
        "predict(model, \"おはよう。\")\n",
        "predict(model, \"いつも何時に起きますか？\")\n",
        "predict(model, \"朝食は何を食べますか？\")\n",
        "predict(model, \"朝食は毎日食べますか？\")\n",
        "predict(model, \"野菜をたくさん取っていますか？\")\n",
        "predict(model, \"週末は何をしていますか？\")\n",
        "predict(model, \"どこに行くのが好き？\")"
      ],
      "metadata": {
        "id": "pJcrPMyjbW7f",
        "outputId": "fe640d12-3daf-4f98-d633-4ab4f2d6f429",
        "colab": {
          "base_uri": "https://localhost:8080/"
        }
      },
      "execution_count": 16,
      "outputs": [
        {
          "output_type": "stream",
          "name": "stdout",
          "text": [
            "初めまして。 => ['初めまして', '。', 'よろしく', 'お', '願い', 'し', 'ます', '。', '<eos>']\n",
            "どこから来たんですか？ => ['日本', 'から', '来', 'まし', 'た', '。', '<eos>']\n",
            "日本のどこに住んでるんですか？ => ['東京', 'に', '住ん', 'で', 'い', 'ます', '。', '<eos>']\n",
            "仕事は何してますか？ => ['私', 'は', '会社', '員', 'です', '。', '<eos>']\n",
            "お会いできて嬉しかったです。 => ['私', 'も', 'です', '！', '<eos>']\n",
            "おはよう。 => ['おはよう', 'ござい', 'ます', '。', '<eos>']\n",
            "いつも何時に起きますか？ => ['6', '時', 'に', '起き', 'ます', '。', '<eos>']\n",
            "朝食は何を食べますか？ => ['たいてい', 'トースト', 'と', '卵', 'を', '食べ', 'ます', '。', '<eos>']\n",
            "朝食は毎日食べますか？ => ['たまに', '朝食', 'を', '抜く', 'こと', 'が', 'あり', 'ます', '。', '<eos>']\n",
            "野菜をたくさん取っていますか？ => ['毎日', '野菜', 'を', '取る', 'よう', 'に', 'し', 'て', 'い', 'ます', '。', '<eos>']\n",
            "週末は何をしていますか？ => ['友達', 'と', '会っ', 'て', 'いる', 'こと', 'が', '多い', 'です', '。', '<eos>']\n",
            "どこに行くのが好き？ => ['私', 'たち', 'は', '渋谷', 'に', '行く', 'の', 'が', '好き', 'です', '。', '<eos>']\n"
          ]
        }
      ]
    },
    {
      "cell_type": "code",
      "source": [
        "predict(model, \"今日は何時に起きました？\")"
      ],
      "metadata": {
        "id": "pjg_H4LebXPy",
        "outputId": "1cf1b015-468c-41f3-f1f5-a7bb5fd396b4",
        "colab": {
          "base_uri": "https://localhost:8080/"
        }
      },
      "execution_count": 24,
      "outputs": [
        {
          "output_type": "stream",
          "name": "stdout",
          "text": [
            "今日は何時に起きました？ => ['6', '時', 'に', '起き', 'ます', '。', '<eos>']\n"
          ]
        }
      ]
    },
    {
      "cell_type": "code",
      "source": [],
      "metadata": {
        "id": "efUb_Oxvbbig"
      },
      "execution_count": null,
      "outputs": []
    }
  ],
  "metadata": {
    "colab": {
      "collapsed_sections": [],
      "name": "Colaboratory へようこそ",
      "provenance": [],
      "include_colab_link": true
    },
    "kernelspec": {
      "display_name": "Python 3",
      "name": "python3"
    },
    "accelerator": "GPU",
    "gpuClass": "standard"
  },
  "nbformat": 4,
  "nbformat_minor": 0
}