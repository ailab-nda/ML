{
  "nbformat": 4,
  "nbformat_minor": 0,
  "metadata": {
    "colab": {
      "name": "Colaboratory へようこそ",
      "provenance": [],
      "collapsed_sections": [],
      "include_colab_link": true
    },
    "kernelspec": {
      "display_name": "Python 3",
      "name": "python3"
    }
  },
  "cells": [
    {
      "cell_type": "markdown",
      "metadata": {
        "id": "view-in-github",
        "colab_type": "text"
      },
      "source": [
        "<a href=\"https://colab.research.google.com/github/ailab-nda/ML/blob/main/Pairwise.ipynb\" target=\"_parent\"><img src=\"https://colab.research.google.com/assets/colab-badge.svg\" alt=\"Open In Colab\"/></a>"
      ]
    },
    {
      "cell_type": "markdown",
      "source": [
        "# 強さ判定\n",
        "\n",
        "出典：https://github.com/lucasmaystre/choix/blob/master/notebooks/intro-pairwise.ipynb\n",
        "\n",
        "今日やること：不揃いの対戦結果から、強さのランキングを計算します。--- Bradely-Terry モデル "
      ],
      "metadata": {
        "id": "Y2WdR3v4CjST"
      }
    },
    {
      "cell_type": "markdown",
      "source": [
        "## 準備"
      ],
      "metadata": {
        "id": "PqXzdqCyhU_m"
      }
    },
    {
      "cell_type": "code",
      "source": [
        "!pip install  --trusted-host pypi.org --trusted-host files.pythonhosted.org choix networkx lxml html5lib bs4"
      ],
      "metadata": {
        "id": "hs8cOFxxhXcn"
      },
      "execution_count": null,
      "outputs": []
    },
    {
      "cell_type": "markdown",
      "source": [],
      "metadata": {
        "id": "5OKiI8MNhbMt"
      }
    },
    {
      "cell_type": "markdown",
      "source": [
        "# 一対比較による強さ判定\n",
        "\n",
        "ここでは `choix` ライブラリを使います。一対一の対戦結果のデータがあるとします。"
      ],
      "metadata": {
        "id": "YZXxtqkyhbT3"
      }
    },
    {
      "cell_type": "code",
      "source": [
        "import choix\n",
        "import networkx as nx\n",
        "import numpy as np\n",
        "import matplotlib.pyplot as plt\n",
        "%matplotlib inline\n",
        "np.set_printoptions(precision=3, suppress=True)"
      ],
      "metadata": {
        "id": "6AV1JKHNhcv3"
      },
      "execution_count": null,
      "outputs": []
    },
    {
      "cell_type": "markdown",
      "source": [
        "`choix` では、$n$ 個の要素に $\\{0, \\ldots, n-1 \\}$ の番号を付けます。\n",
        "\"$i$ が $j$ に勝った\" ことを Python のタプル `(i, j)` で表します（左が勝者、右が敗者）。\n",
        "\n",
        "簡単な例で動作確認をしてみます。"
      ],
      "metadata": {
        "id": "drukPBwzhgLf"
      }
    },
    {
      "cell_type": "code",
      "source": [
        "n_items = 5\n",
        "data = [\n",
        "    (1, 0), (0, 4), (3, 1),\n",
        "    (0, 2), (2, 4), (4, 3),\n",
        "]"
      ],
      "metadata": {
        "id": "tPvGgrtMhgi_"
      },
      "execution_count": null,
      "outputs": []
    },
    {
      "cell_type": "markdown",
      "source": [
        "このデータをグラフとして可視化します。\n",
        "\n",
        "- 各要素はグラフのノードに対応します。\n",
        "- ノード $i$ からノード $j$ へのリンクは、\"$i$ が $j$ に勝った\"を示します。"
      ],
      "metadata": {
        "id": "vCsiPTyShjAF"
      }
    },
    {
      "cell_type": "code",
      "source": [
        "graph = nx.DiGraph(data)\n",
        "nx.draw(graph, with_labels=True)\n",
        "plt.show()"
      ],
      "metadata": {
        "id": "jlPaaJ0yhk1z"
      },
      "execution_count": null,
      "outputs": []
    },
    {
      "cell_type": "markdown",
      "source": [
        "このデータを、 [Bradley-Terry model](https://en.wikipedia.org/wiki/Bradley%E2%80%93Terry_model) によって解析します。\n",
        "`choix` はこのためのアルゴリズムを用意しています。以下では、 I-LSR と呼ばれる最尤推定法を用います。"
      ],
      "metadata": {
        "id": "DmfmzG0jhpfG"
      }
    },
    {
      "cell_type": "code",
      "source": [
        "params = choix.ilsr_pairwise(n_items, data)\n",
        "print(params)"
      ],
      "metadata": {
        "id": "5Z-LWbWChrSG"
      },
      "execution_count": null,
      "outputs": []
    },
    {
      "cell_type": "markdown",
      "source": [
        "パラメータ (params) は各要素の\"強さ\" (or utility) を表します。パラメータの値でソートすることで、強さのランキングを算出できます。"
      ],
      "metadata": {
        "id": "cuRwcGrVhtn9"
      }
    },
    {
      "cell_type": "code",
      "source": [
        "print(\"強さランキング:\", np.argsort( -params ))"
      ],
      "metadata": {
        "id": "b0futqlRhwfv"
      },
      "execution_count": null,
      "outputs": []
    },
    {
      "cell_type": "markdown",
      "source": [
        "## スパース性の取り扱い\n",
        "グラフが連結していないと、最尤推定法が使えません。このような状況は、全勝もしは全敗の要素がある時に生じます。以下の例では、$3$ が全勝、$1$ が全敗です。"
      ],
      "metadata": {
        "id": "3GE5-_4Ghyab"
      }
    },
    {
      "cell_type": "code",
      "source": [
        "n_items = 4\n",
        "data = [(3, 2), (2, 1), (1, 0)]\n",
        "\n",
        "graph = nx.DiGraph(data)\n",
        "nx.draw(graph, with_labels=True)"
      ],
      "metadata": {
        "id": "t2I1Ql8Yh09M"
      },
      "execution_count": null,
      "outputs": []
    },
    {
      "cell_type": "markdown",
      "source": [
        "このようなケースでは、予測に失敗します。"
      ],
      "metadata": {
        "id": "vb0FXguEh27I"
      }
    },
    {
      "cell_type": "code",
      "source": [
        "choix.ilsr_pairwise(n_items, data)"
      ],
      "metadata": {
        "id": "5NfkS6nSh4nD"
      },
      "execution_count": null,
      "outputs": []
    },
    {
      "cell_type": "markdown",
      "source": [
        "この問題は、正規化パラメータの導入により解決できます。"
      ],
      "metadata": {
        "id": "rkhLyTG-h65k"
      }
    },
    {
      "cell_type": "code",
      "source": [
        "choix.ilsr_pairwise(n_items, data, alpha=0.01)"
      ],
      "metadata": {
        "id": "rq-zAxKHiCA_"
      },
      "execution_count": null,
      "outputs": []
    },
    {
      "cell_type": "markdown",
      "source": [
        "# 課題　大相撲で今一番強いのは？\n",
        "\n",
        "先場所の結果から、Bradely-Terry モデルによって現時点での強さランキングを出してみましょう。強さが番付とどれくらい一致しているかを調べましょう。"
      ],
      "metadata": {
        "id": "3qFsnllriHjv"
      }
    },
    {
      "cell_type": "code",
      "source": [
        "import pandas as pd\n",
        "import time\n",
        "import lxml"
      ],
      "metadata": {
        "id": "qvoxcAXMjXqy"
      },
      "execution_count": null,
      "outputs": []
    },
    {
      "cell_type": "markdown",
      "source": [
        "ヤフースポーツから結果を持ってきます。表形式のデータに限っては、pandas で取得可能。<br>\n",
        "bashoId --> 年月&days=日目　で指定できます。"
      ],
      "metadata": {
        "id": "ngAETneZjZzm"
      }
    },
    {
      "cell_type": "code",
      "source": [
        "url = \"https://sports.yahoo.co.jp/sumo/torikumi/stats/?bashoId=202009&day=2\"\n",
        "d_list = pd.io.html.read_html(url, encoding=\"utf-8\")"
      ],
      "metadata": {
        "id": "DpxIMOoajbtb"
      },
      "execution_count": null,
      "outputs": []
    },
    {
      "cell_type": "markdown",
      "source": [
        "d_list[1] に幕内の結果、d_list[2] に十両の結果が入っています。"
      ],
      "metadata": {
        "id": "A6mHBJAOje3K"
      }
    },
    {
      "cell_type": "code",
      "source": [
        "d_list[1]"
      ],
      "metadata": {
        "id": "r59zPGZXjfPm"
      },
      "execution_count": null,
      "outputs": []
    },
    {
      "cell_type": "code",
      "source": [
        "d_list[2]"
      ],
      "metadata": {
        "id": "cMLi1pVbjg5m"
      },
      "execution_count": null,
      "outputs": []
    },
    {
      "cell_type": "markdown",
      "source": [
        "pd.concat で結合すると一つの表になります。"
      ],
      "metadata": {
        "id": "p5tIOPWcjkI9"
      }
    },
    {
      "cell_type": "code",
      "source": [
        "d_lists = pd.concat([d_list[1], d_list[2]])\n",
        "d_lists"
      ],
      "metadata": {
        "id": "t7alfPy4jmEP"
      },
      "execution_count": null,
      "outputs": []
    },
    {
      "cell_type": "markdown",
      "source": [
        "１場所分まとめてとってくるには for 文を回すとできます。"
      ],
      "metadata": {
        "id": "pjISBDSOjoBI"
      }
    },
    {
      "cell_type": "code",
      "source": [
        "cols = ['東', '東.1', '東.2', '決まり手', '西', '西.1', '西.2']\n",
        "df = pd.DataFrame(columns=cols)\n",
        "base_url = \"https://sports.yahoo.co.jp/sumo/torikumi/stats/?bashoId=202003\"\n",
        "for day in range(1, 16):\n",
        "    print(day, \"日目 ... 取得\")\n",
        "    url = base_url + \"&days=\" + str(day)\n",
        "    dframe_list = pd.io.html.read_html(url, encoding=\"utf-8\")\n",
        "    tdf = pd.concat([dframe_list[1], dframe_list[2]])\n",
        "    df = pd.concat([tdf, df])\n",
        "    time.sleep(2)"
      ],
      "metadata": {
        "id": "MfjllDYIjpnS"
      },
      "execution_count": null,
      "outputs": []
    },
    {
      "cell_type": "markdown",
      "source": [
        "## 課題：この場所、最強だったのは誰か？\n",
        "\n",
        "df から対戦結果をまとめて choix 関数に適用してみてください。"
      ],
      "metadata": {
        "id": "PbTxVrUvjuP2"
      }
    },
    {
      "cell_type": "code",
      "source": [],
      "metadata": {
        "id": "4tMFinapjxBs"
      },
      "execution_count": null,
      "outputs": []
    }
  ]
}