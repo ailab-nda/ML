{
  "nbformat": 4,
  "nbformat_minor": 0,
  "metadata": {
    "colab": {
      "name": "Colaboratory へようこそ",
      "provenance": [],
      "collapsed_sections": [],
      "include_colab_link": true
    },
    "kernelspec": {
      "display_name": "Python 3",
      "name": "python3"
    }
  },
  "cells": [
    {
      "cell_type": "markdown",
      "metadata": {
        "id": "view-in-github",
        "colab_type": "text"
      },
      "source": [
        "<a href=\"https://colab.research.google.com/github/ailab-nda/ML/blob/main/Pairwise.ipynb\" target=\"_parent\"><img src=\"https://colab.research.google.com/assets/colab-badge.svg\" alt=\"Open In Colab\"/></a>"
      ]
    },
    {
      "cell_type": "markdown",
      "source": [
        "# 演習III 第３回 文章から感情を分析する"
      ],
      "metadata": {
        "id": "Y2WdR3v4CjST"
      }
    },
    {
      "cell_type": "markdown",
      "source": [
        "出典：https://qiita.com/e10persona/items/7a7643b266c2bdfbf7d0"
      ],
      "metadata": {
        "id": "lG6AhLFEC8Gb"
      }
    },
    {
      "cell_type": "code",
      "source": [
        "!pip install japanize-matplotlib"
      ],
      "metadata": {
        "id": "rj_33FKsEwwX"
      },
      "execution_count": null,
      "outputs": []
    },
    {
      "cell_type": "markdown",
      "source": [
        "ライブラリのインポートを行います。"
      ],
      "metadata": {
        "id": "3YF5or_2Conw"
      }
    },
    {
      "cell_type": "code",
      "source": [
        "import urllib\n",
        "from bs4 import BeautifulSoup\n",
        "import requests\n",
        "import re\n",
        "import numpy as np\n",
        "import matplotlib.pyplot as plt\n",
        "import japanize_matplotlib"
      ],
      "metadata": {
        "id": "S9JeyIc9Cg4a"
      },
      "execution_count": null,
      "outputs": []
    },
    {
      "cell_type": "markdown",
      "source": [
        "## 感情辞書のダウンロード"
      ],
      "metadata": {
        "id": "51HhRrixDKxz"
      }
    },
    {
      "cell_type": "code",
      "source": [
        "!wget http://arakilab.media.eng.hokudai.ac.jp/~ptaszynski/ccount/click.php?id=3 -O emotions.zip\n",
        "!unzip emotions.zip"
      ],
      "metadata": {
        "id": "vntkCDEjCzfj"
      },
      "execution_count": null,
      "outputs": []
    },
    {
      "cell_type": "markdown",
      "source": [
        "## 感情辞書の読み込み"
      ],
      "metadata": {
        "id": "a1Jpu5KwCrYT"
      }
    },
    {
      "cell_type": "code",
      "source": [
        "emotions = [\"aware\", \"haji\", \"ikari\", \"iya\", \"kowa\", \"odoroki\", \"suki\", \"takaburi\", \"yasu\", \"yorokobi\"]\n",
        "emotional_words = {}\n",
        "for emotion in emotions:\n",
        "    emotional_words[emotion] = []\n",
        "    with open(\"emotions/\" + emotion + \"_uncoded.txt\", \"r\", encoding=\"utf-8\") as f:\n",
        "        for line in f:\n",
        "            line = line.replace('\\n','')\n",
        "            emotional_words[emotion].append(line)"
      ],
      "metadata": {
        "id": "vdXLOZ1uCb2U"
      },
      "execution_count": null,
      "outputs": []
    },
    {
      "cell_type": "markdown",
      "source": [
        "## 小説のスクレイピング"
      ],
      "metadata": {
        "id": "NY-CC4DJDRgr"
      }
    },
    {
      "cell_type": "code",
      "source": [
        "# 青空文庫の作品URL\n",
        "url = \"https://www.aozora.gr.jp/cards/000035/files/301_14912.html\"\n",
        "html = requests.get(url, verify=False)\n",
        "html.encoding = html.apparent_encoding\n",
        "soup = BeautifulSoup(html.text, \"html.parser\")\n",
        "\n",
        "# タイトルを取得する → <title>～本文～</title>\n",
        "title = soup.title.string\n",
        "# 本文を取得する → <div class=\"main_text\">～本文～</div>\n",
        "sentences = soup.find(\"div\",\"main_text\")\n",
        "# 文字部分のみを抽出する\n",
        "sentences = sentences.get_text().replace(\"\\r\", \"\").replace(\"\\n\", \"\").replace(\"\\u3000\", \"\")\n",
        "# 全角の括弧に囲われた文字と括弧を除去（ルビが括弧文字として存在するため）\n",
        "sentences = re.sub(\"（.*?）\", \"\", sentences) "
      ],
      "metadata": {
        "id": "OlHLIv2YDUMK"
      },
      "execution_count": null,
      "outputs": []
    },
    {
      "cell_type": "markdown",
      "source": [
        "## 文章内での感情単語の計測"
      ],
      "metadata": {
        "id": "ausvpEIoDavK"
      }
    },
    {
      "cell_type": "code",
      "source": [
        "count_emotions = [0] * len(emotional_words.keys())\n",
        "for idx, emotion in enumerate(emotional_words.keys()):\n",
        "    for word in emotional_words[emotion]:\n",
        "        count_emotions[idx] += sentences.count(word)\n",
        "\n",
        "for i in range(len(emotions)):\n",
        "    print(emotions[i], \":\", count_emotions[i])"
      ],
      "metadata": {
        "id": "o5Zl8Lh-Dc_T"
      },
      "execution_count": null,
      "outputs": []
    },
    {
      "cell_type": "markdown",
      "source": [
        "## 結果のプロット"
      ],
      "metadata": {
        "id": "iyPZTbU6Df8a"
      }
    },
    {
      "cell_type": "code",
      "source": [
        "def plot_polar(labels, values, title):\n",
        "    angles = np.linspace(0, 2 * np.pi, len(labels) + 1, endpoint=True)\n",
        "    values = np.concatenate((values, [values[0]]))  # 閉じた多角形にする\n",
        "    fig = plt.figure()\n",
        "    ax = fig.add_subplot(111, polar=True)\n",
        "    ax.plot(angles, values, 'o-')  # 外枠\n",
        "    ax.fill(angles, values, alpha=0.25)  # 塗りつぶし\n",
        "    ax.set_thetagrids(angles[:-1] * 180 / np.pi, labels, fontsize=15)  # 軸ラベル\n",
        "    ax.set_rlim(0 ,max(values))\n",
        "    ax.set_title(\"「\" + title + \"」\", fontsize=15)"
      ],
      "metadata": {
        "id": "_YN3vGqYDsM6"
      },
      "execution_count": null,
      "outputs": []
    },
    {
      "cell_type": "code",
      "source": [
        "labels = [\"哀\", \"恥\", \"怒\", \"嫌\", \"怖\", \"驚\", \"好\", \"昂\", \"安\", \"喜\"]\n",
        "plot_polar(labels, count_emotions, title)"
      ],
      "metadata": {
        "id": "NmvxuladDuk6"
      },
      "execution_count": null,
      "outputs": []
    },
    {
      "cell_type": "markdown",
      "source": [
        "## 課題\n",
        "好きな文章を使って感情分析をせよ。"
      ],
      "metadata": {
        "id": "ExT0QEY0Dxqy"
      }
    },
    {
      "cell_type": "code",
      "source": [],
      "metadata": {
        "id": "kQjBBHw6HL8p"
      },
      "execution_count": null,
      "outputs": []
    }
  ]
}