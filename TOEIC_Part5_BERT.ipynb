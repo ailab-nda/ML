{
  "nbformat": 4,
  "nbformat_minor": 0,
  "metadata": {
    "colab": {
      "name": "Transformers.ipynb のコピー",
      "provenance": [],
      "include_colab_link": true
    },
    "kernelspec": {
      "name": "python3",
      "display_name": "Python 3"
    },
    "language_info": {
      "name": "python"
    },
    "accelerator": "GPU",
    "widgets": {
      "application/vnd.jupyter.widget-state+json": {
        "d9dace3ad83e475a895517cc2f09edf6": {
          "model_module": "@jupyter-widgets/controls",
          "model_name": "HBoxModel",
          "model_module_version": "1.5.0",
          "state": {
            "_dom_classes": [],
            "_model_module": "@jupyter-widgets/controls",
            "_model_module_version": "1.5.0",
            "_model_name": "HBoxModel",
            "_view_count": null,
            "_view_module": "@jupyter-widgets/controls",
            "_view_module_version": "1.5.0",
            "_view_name": "HBoxView",
            "box_style": "",
            "children": [
              "IPY_MODEL_9df1cb2513be44a2a7d4ccfa8378fd03",
              "IPY_MODEL_f99cf22ab5a140a686c9960a5604926b",
              "IPY_MODEL_177c35af8a7c47ac8c2c365eb6946d38"
            ],
            "layout": "IPY_MODEL_40cf1949203745cea30de364af63efb6"
          }
        },
        "9df1cb2513be44a2a7d4ccfa8378fd03": {
          "model_module": "@jupyter-widgets/controls",
          "model_name": "HTMLModel",
          "model_module_version": "1.5.0",
          "state": {
            "_dom_classes": [],
            "_model_module": "@jupyter-widgets/controls",
            "_model_module_version": "1.5.0",
            "_model_name": "HTMLModel",
            "_view_count": null,
            "_view_module": "@jupyter-widgets/controls",
            "_view_module_version": "1.5.0",
            "_view_name": "HTMLView",
            "description": "",
            "description_tooltip": null,
            "layout": "IPY_MODEL_a5777c7cd7744561b6e15d4b076ac414",
            "placeholder": "​",
            "style": "IPY_MODEL_5d7585c93d764c119a7a8adcb4d18e05",
            "value": "tokenizer_config.json: 100%"
          }
        },
        "f99cf22ab5a140a686c9960a5604926b": {
          "model_module": "@jupyter-widgets/controls",
          "model_name": "FloatProgressModel",
          "model_module_version": "1.5.0",
          "state": {
            "_dom_classes": [],
            "_model_module": "@jupyter-widgets/controls",
            "_model_module_version": "1.5.0",
            "_model_name": "FloatProgressModel",
            "_view_count": null,
            "_view_module": "@jupyter-widgets/controls",
            "_view_module_version": "1.5.0",
            "_view_name": "ProgressView",
            "bar_style": "success",
            "description": "",
            "description_tooltip": null,
            "layout": "IPY_MODEL_c47c191d7cc543bf89fcda8a0bddf3dc",
            "max": 259,
            "min": 0,
            "orientation": "horizontal",
            "style": "IPY_MODEL_e48ad24e97d14a64b7eaa5471925f72b",
            "value": 259
          }
        },
        "177c35af8a7c47ac8c2c365eb6946d38": {
          "model_module": "@jupyter-widgets/controls",
          "model_name": "HTMLModel",
          "model_module_version": "1.5.0",
          "state": {
            "_dom_classes": [],
            "_model_module": "@jupyter-widgets/controls",
            "_model_module_version": "1.5.0",
            "_model_name": "HTMLModel",
            "_view_count": null,
            "_view_module": "@jupyter-widgets/controls",
            "_view_module_version": "1.5.0",
            "_view_name": "HTMLView",
            "description": "",
            "description_tooltip": null,
            "layout": "IPY_MODEL_0ea5ac7c08ff4461b7700ad56e87b7c5",
            "placeholder": "​",
            "style": "IPY_MODEL_005c9196b44e422b8a12872a7a861e1e",
            "value": " 259/259 [00:00&lt;00:00, 11.6kB/s]"
          }
        },
        "40cf1949203745cea30de364af63efb6": {
          "model_module": "@jupyter-widgets/base",
          "model_name": "LayoutModel",
          "model_module_version": "1.2.0",
          "state": {
            "_model_module": "@jupyter-widgets/base",
            "_model_module_version": "1.2.0",
            "_model_name": "LayoutModel",
            "_view_count": null,
            "_view_module": "@jupyter-widgets/base",
            "_view_module_version": "1.2.0",
            "_view_name": "LayoutView",
            "align_content": null,
            "align_items": null,
            "align_self": null,
            "border": null,
            "bottom": null,
            "display": null,
            "flex": null,
            "flex_flow": null,
            "grid_area": null,
            "grid_auto_columns": null,
            "grid_auto_flow": null,
            "grid_auto_rows": null,
            "grid_column": null,
            "grid_gap": null,
            "grid_row": null,
            "grid_template_areas": null,
            "grid_template_columns": null,
            "grid_template_rows": null,
            "height": null,
            "justify_content": null,
            "justify_items": null,
            "left": null,
            "margin": null,
            "max_height": null,
            "max_width": null,
            "min_height": null,
            "min_width": null,
            "object_fit": null,
            "object_position": null,
            "order": null,
            "overflow": null,
            "overflow_x": null,
            "overflow_y": null,
            "padding": null,
            "right": null,
            "top": null,
            "visibility": null,
            "width": null
          }
        },
        "a5777c7cd7744561b6e15d4b076ac414": {
          "model_module": "@jupyter-widgets/base",
          "model_name": "LayoutModel",
          "model_module_version": "1.2.0",
          "state": {
            "_model_module": "@jupyter-widgets/base",
            "_model_module_version": "1.2.0",
            "_model_name": "LayoutModel",
            "_view_count": null,
            "_view_module": "@jupyter-widgets/base",
            "_view_module_version": "1.2.0",
            "_view_name": "LayoutView",
            "align_content": null,
            "align_items": null,
            "align_self": null,
            "border": null,
            "bottom": null,
            "display": null,
            "flex": null,
            "flex_flow": null,
            "grid_area": null,
            "grid_auto_columns": null,
            "grid_auto_flow": null,
            "grid_auto_rows": null,
            "grid_column": null,
            "grid_gap": null,
            "grid_row": null,
            "grid_template_areas": null,
            "grid_template_columns": null,
            "grid_template_rows": null,
            "height": null,
            "justify_content": null,
            "justify_items": null,
            "left": null,
            "margin": null,
            "max_height": null,
            "max_width": null,
            "min_height": null,
            "min_width": null,
            "object_fit": null,
            "object_position": null,
            "order": null,
            "overflow": null,
            "overflow_x": null,
            "overflow_y": null,
            "padding": null,
            "right": null,
            "top": null,
            "visibility": null,
            "width": null
          }
        },
        "5d7585c93d764c119a7a8adcb4d18e05": {
          "model_module": "@jupyter-widgets/controls",
          "model_name": "DescriptionStyleModel",
          "model_module_version": "1.5.0",
          "state": {
            "_model_module": "@jupyter-widgets/controls",
            "_model_module_version": "1.5.0",
            "_model_name": "DescriptionStyleModel",
            "_view_count": null,
            "_view_module": "@jupyter-widgets/base",
            "_view_module_version": "1.2.0",
            "_view_name": "StyleView",
            "description_width": ""
          }
        },
        "c47c191d7cc543bf89fcda8a0bddf3dc": {
          "model_module": "@jupyter-widgets/base",
          "model_name": "LayoutModel",
          "model_module_version": "1.2.0",
          "state": {
            "_model_module": "@jupyter-widgets/base",
            "_model_module_version": "1.2.0",
            "_model_name": "LayoutModel",
            "_view_count": null,
            "_view_module": "@jupyter-widgets/base",
            "_view_module_version": "1.2.0",
            "_view_name": "LayoutView",
            "align_content": null,
            "align_items": null,
            "align_self": null,
            "border": null,
            "bottom": null,
            "display": null,
            "flex": null,
            "flex_flow": null,
            "grid_area": null,
            "grid_auto_columns": null,
            "grid_auto_flow": null,
            "grid_auto_rows": null,
            "grid_column": null,
            "grid_gap": null,
            "grid_row": null,
            "grid_template_areas": null,
            "grid_template_columns": null,
            "grid_template_rows": null,
            "height": null,
            "justify_content": null,
            "justify_items": null,
            "left": null,
            "margin": null,
            "max_height": null,
            "max_width": null,
            "min_height": null,
            "min_width": null,
            "object_fit": null,
            "object_position": null,
            "order": null,
            "overflow": null,
            "overflow_x": null,
            "overflow_y": null,
            "padding": null,
            "right": null,
            "top": null,
            "visibility": null,
            "width": null
          }
        },
        "e48ad24e97d14a64b7eaa5471925f72b": {
          "model_module": "@jupyter-widgets/controls",
          "model_name": "ProgressStyleModel",
          "model_module_version": "1.5.0",
          "state": {
            "_model_module": "@jupyter-widgets/controls",
            "_model_module_version": "1.5.0",
            "_model_name": "ProgressStyleModel",
            "_view_count": null,
            "_view_module": "@jupyter-widgets/base",
            "_view_module_version": "1.2.0",
            "_view_name": "StyleView",
            "bar_color": null,
            "description_width": ""
          }
        },
        "0ea5ac7c08ff4461b7700ad56e87b7c5": {
          "model_module": "@jupyter-widgets/base",
          "model_name": "LayoutModel",
          "model_module_version": "1.2.0",
          "state": {
            "_model_module": "@jupyter-widgets/base",
            "_model_module_version": "1.2.0",
            "_model_name": "LayoutModel",
            "_view_count": null,
            "_view_module": "@jupyter-widgets/base",
            "_view_module_version": "1.2.0",
            "_view_name": "LayoutView",
            "align_content": null,
            "align_items": null,
            "align_self": null,
            "border": null,
            "bottom": null,
            "display": null,
            "flex": null,
            "flex_flow": null,
            "grid_area": null,
            "grid_auto_columns": null,
            "grid_auto_flow": null,
            "grid_auto_rows": null,
            "grid_column": null,
            "grid_gap": null,
            "grid_row": null,
            "grid_template_areas": null,
            "grid_template_columns": null,
            "grid_template_rows": null,
            "height": null,
            "justify_content": null,
            "justify_items": null,
            "left": null,
            "margin": null,
            "max_height": null,
            "max_width": null,
            "min_height": null,
            "min_width": null,
            "object_fit": null,
            "object_position": null,
            "order": null,
            "overflow": null,
            "overflow_x": null,
            "overflow_y": null,
            "padding": null,
            "right": null,
            "top": null,
            "visibility": null,
            "width": null
          }
        },
        "005c9196b44e422b8a12872a7a861e1e": {
          "model_module": "@jupyter-widgets/controls",
          "model_name": "DescriptionStyleModel",
          "model_module_version": "1.5.0",
          "state": {
            "_model_module": "@jupyter-widgets/controls",
            "_model_module_version": "1.5.0",
            "_model_name": "DescriptionStyleModel",
            "_view_count": null,
            "_view_module": "@jupyter-widgets/base",
            "_view_module_version": "1.2.0",
            "_view_name": "StyleView",
            "description_width": ""
          }
        },
        "9dfbffcbb8d94e0faba3e6acda8db04f": {
          "model_module": "@jupyter-widgets/controls",
          "model_name": "HBoxModel",
          "model_module_version": "1.5.0",
          "state": {
            "_dom_classes": [],
            "_model_module": "@jupyter-widgets/controls",
            "_model_module_version": "1.5.0",
            "_model_name": "HBoxModel",
            "_view_count": null,
            "_view_module": "@jupyter-widgets/controls",
            "_view_module_version": "1.5.0",
            "_view_name": "HBoxView",
            "box_style": "",
            "children": [
              "IPY_MODEL_a7e8a2dafa814d51a9bc6c47135e904b",
              "IPY_MODEL_a79abd3bb8664925aed46fb55438f6cf",
              "IPY_MODEL_0b38a75807d14c38943d0e3a6021e4a6"
            ],
            "layout": "IPY_MODEL_1fdf3936e3d847629c57e59c83c92da6"
          }
        },
        "a7e8a2dafa814d51a9bc6c47135e904b": {
          "model_module": "@jupyter-widgets/controls",
          "model_name": "HTMLModel",
          "model_module_version": "1.5.0",
          "state": {
            "_dom_classes": [],
            "_model_module": "@jupyter-widgets/controls",
            "_model_module_version": "1.5.0",
            "_model_name": "HTMLModel",
            "_view_count": null,
            "_view_module": "@jupyter-widgets/controls",
            "_view_module_version": "1.5.0",
            "_view_name": "HTMLView",
            "description": "",
            "description_tooltip": null,
            "layout": "IPY_MODEL_98be06bc416f47b7a167dbad06af54dc",
            "placeholder": "​",
            "style": "IPY_MODEL_f89b6a7d75624a86b38d2a432a5aaf34",
            "value": "spiece.model: 100%"
          }
        },
        "a79abd3bb8664925aed46fb55438f6cf": {
          "model_module": "@jupyter-widgets/controls",
          "model_name": "FloatProgressModel",
          "model_module_version": "1.5.0",
          "state": {
            "_dom_classes": [],
            "_model_module": "@jupyter-widgets/controls",
            "_model_module_version": "1.5.0",
            "_model_name": "FloatProgressModel",
            "_view_count": null,
            "_view_module": "@jupyter-widgets/controls",
            "_view_module_version": "1.5.0",
            "_view_name": "ProgressView",
            "bar_style": "success",
            "description": "",
            "description_tooltip": null,
            "layout": "IPY_MODEL_724b73e972344624a9282379990bd8c6",
            "max": 805634,
            "min": 0,
            "orientation": "horizontal",
            "style": "IPY_MODEL_47da6640ce744219a28b6d190c5eff68",
            "value": 805634
          }
        },
        "0b38a75807d14c38943d0e3a6021e4a6": {
          "model_module": "@jupyter-widgets/controls",
          "model_name": "HTMLModel",
          "model_module_version": "1.5.0",
          "state": {
            "_dom_classes": [],
            "_model_module": "@jupyter-widgets/controls",
            "_model_module_version": "1.5.0",
            "_model_name": "HTMLModel",
            "_view_count": null,
            "_view_module": "@jupyter-widgets/controls",
            "_view_module_version": "1.5.0",
            "_view_name": "HTMLView",
            "description": "",
            "description_tooltip": null,
            "layout": "IPY_MODEL_917ead2b380040048295967f8b7e8c48",
            "placeholder": "​",
            "style": "IPY_MODEL_47e70a1a7f7541f59edbb3b2deaeab04",
            "value": " 806k/806k [00:00&lt;00:00, 8.57MB/s]"
          }
        },
        "1fdf3936e3d847629c57e59c83c92da6": {
          "model_module": "@jupyter-widgets/base",
          "model_name": "LayoutModel",
          "model_module_version": "1.2.0",
          "state": {
            "_model_module": "@jupyter-widgets/base",
            "_model_module_version": "1.2.0",
            "_model_name": "LayoutModel",
            "_view_count": null,
            "_view_module": "@jupyter-widgets/base",
            "_view_module_version": "1.2.0",
            "_view_name": "LayoutView",
            "align_content": null,
            "align_items": null,
            "align_self": null,
            "border": null,
            "bottom": null,
            "display": null,
            "flex": null,
            "flex_flow": null,
            "grid_area": null,
            "grid_auto_columns": null,
            "grid_auto_flow": null,
            "grid_auto_rows": null,
            "grid_column": null,
            "grid_gap": null,
            "grid_row": null,
            "grid_template_areas": null,
            "grid_template_columns": null,
            "grid_template_rows": null,
            "height": null,
            "justify_content": null,
            "justify_items": null,
            "left": null,
            "margin": null,
            "max_height": null,
            "max_width": null,
            "min_height": null,
            "min_width": null,
            "object_fit": null,
            "object_position": null,
            "order": null,
            "overflow": null,
            "overflow_x": null,
            "overflow_y": null,
            "padding": null,
            "right": null,
            "top": null,
            "visibility": null,
            "width": null
          }
        },
        "98be06bc416f47b7a167dbad06af54dc": {
          "model_module": "@jupyter-widgets/base",
          "model_name": "LayoutModel",
          "model_module_version": "1.2.0",
          "state": {
            "_model_module": "@jupyter-widgets/base",
            "_model_module_version": "1.2.0",
            "_model_name": "LayoutModel",
            "_view_count": null,
            "_view_module": "@jupyter-widgets/base",
            "_view_module_version": "1.2.0",
            "_view_name": "LayoutView",
            "align_content": null,
            "align_items": null,
            "align_self": null,
            "border": null,
            "bottom": null,
            "display": null,
            "flex": null,
            "flex_flow": null,
            "grid_area": null,
            "grid_auto_columns": null,
            "grid_auto_flow": null,
            "grid_auto_rows": null,
            "grid_column": null,
            "grid_gap": null,
            "grid_row": null,
            "grid_template_areas": null,
            "grid_template_columns": null,
            "grid_template_rows": null,
            "height": null,
            "justify_content": null,
            "justify_items": null,
            "left": null,
            "margin": null,
            "max_height": null,
            "max_width": null,
            "min_height": null,
            "min_width": null,
            "object_fit": null,
            "object_position": null,
            "order": null,
            "overflow": null,
            "overflow_x": null,
            "overflow_y": null,
            "padding": null,
            "right": null,
            "top": null,
            "visibility": null,
            "width": null
          }
        },
        "f89b6a7d75624a86b38d2a432a5aaf34": {
          "model_module": "@jupyter-widgets/controls",
          "model_name": "DescriptionStyleModel",
          "model_module_version": "1.5.0",
          "state": {
            "_model_module": "@jupyter-widgets/controls",
            "_model_module_version": "1.5.0",
            "_model_name": "DescriptionStyleModel",
            "_view_count": null,
            "_view_module": "@jupyter-widgets/base",
            "_view_module_version": "1.2.0",
            "_view_name": "StyleView",
            "description_width": ""
          }
        },
        "724b73e972344624a9282379990bd8c6": {
          "model_module": "@jupyter-widgets/base",
          "model_name": "LayoutModel",
          "model_module_version": "1.2.0",
          "state": {
            "_model_module": "@jupyter-widgets/base",
            "_model_module_version": "1.2.0",
            "_model_name": "LayoutModel",
            "_view_count": null,
            "_view_module": "@jupyter-widgets/base",
            "_view_module_version": "1.2.0",
            "_view_name": "LayoutView",
            "align_content": null,
            "align_items": null,
            "align_self": null,
            "border": null,
            "bottom": null,
            "display": null,
            "flex": null,
            "flex_flow": null,
            "grid_area": null,
            "grid_auto_columns": null,
            "grid_auto_flow": null,
            "grid_auto_rows": null,
            "grid_column": null,
            "grid_gap": null,
            "grid_row": null,
            "grid_template_areas": null,
            "grid_template_columns": null,
            "grid_template_rows": null,
            "height": null,
            "justify_content": null,
            "justify_items": null,
            "left": null,
            "margin": null,
            "max_height": null,
            "max_width": null,
            "min_height": null,
            "min_width": null,
            "object_fit": null,
            "object_position": null,
            "order": null,
            "overflow": null,
            "overflow_x": null,
            "overflow_y": null,
            "padding": null,
            "right": null,
            "top": null,
            "visibility": null,
            "width": null
          }
        },
        "47da6640ce744219a28b6d190c5eff68": {
          "model_module": "@jupyter-widgets/controls",
          "model_name": "ProgressStyleModel",
          "model_module_version": "1.5.0",
          "state": {
            "_model_module": "@jupyter-widgets/controls",
            "_model_module_version": "1.5.0",
            "_model_name": "ProgressStyleModel",
            "_view_count": null,
            "_view_module": "@jupyter-widgets/base",
            "_view_module_version": "1.2.0",
            "_view_name": "StyleView",
            "bar_color": null,
            "description_width": ""
          }
        },
        "917ead2b380040048295967f8b7e8c48": {
          "model_module": "@jupyter-widgets/base",
          "model_name": "LayoutModel",
          "model_module_version": "1.2.0",
          "state": {
            "_model_module": "@jupyter-widgets/base",
            "_model_module_version": "1.2.0",
            "_model_name": "LayoutModel",
            "_view_count": null,
            "_view_module": "@jupyter-widgets/base",
            "_view_module_version": "1.2.0",
            "_view_name": "LayoutView",
            "align_content": null,
            "align_items": null,
            "align_self": null,
            "border": null,
            "bottom": null,
            "display": null,
            "flex": null,
            "flex_flow": null,
            "grid_area": null,
            "grid_auto_columns": null,
            "grid_auto_flow": null,
            "grid_auto_rows": null,
            "grid_column": null,
            "grid_gap": null,
            "grid_row": null,
            "grid_template_areas": null,
            "grid_template_columns": null,
            "grid_template_rows": null,
            "height": null,
            "justify_content": null,
            "justify_items": null,
            "left": null,
            "margin": null,
            "max_height": null,
            "max_width": null,
            "min_height": null,
            "min_width": null,
            "object_fit": null,
            "object_position": null,
            "order": null,
            "overflow": null,
            "overflow_x": null,
            "overflow_y": null,
            "padding": null,
            "right": null,
            "top": null,
            "visibility": null,
            "width": null
          }
        },
        "47e70a1a7f7541f59edbb3b2deaeab04": {
          "model_module": "@jupyter-widgets/controls",
          "model_name": "DescriptionStyleModel",
          "model_module_version": "1.5.0",
          "state": {
            "_model_module": "@jupyter-widgets/controls",
            "_model_module_version": "1.5.0",
            "_model_name": "DescriptionStyleModel",
            "_view_count": null,
            "_view_module": "@jupyter-widgets/base",
            "_view_module_version": "1.2.0",
            "_view_name": "StyleView",
            "description_width": ""
          }
        },
        "1752fcfb493840ab95b64dbe1c87cd0a": {
          "model_module": "@jupyter-widgets/controls",
          "model_name": "HBoxModel",
          "model_module_version": "1.5.0",
          "state": {
            "_dom_classes": [],
            "_model_module": "@jupyter-widgets/controls",
            "_model_module_version": "1.5.0",
            "_model_name": "HBoxModel",
            "_view_count": null,
            "_view_module": "@jupyter-widgets/controls",
            "_view_module_version": "1.5.0",
            "_view_name": "HBoxView",
            "box_style": "",
            "children": [
              "IPY_MODEL_781789efc21b432a8a831e9cd1928369",
              "IPY_MODEL_a49d16e25c38436bb1f8a2f1a9357bd8",
              "IPY_MODEL_8032583813f24dbaa261da9dd675267a"
            ],
            "layout": "IPY_MODEL_5462408d7eb847ee8b507795d1e5d3de"
          }
        },
        "781789efc21b432a8a831e9cd1928369": {
          "model_module": "@jupyter-widgets/controls",
          "model_name": "HTMLModel",
          "model_module_version": "1.5.0",
          "state": {
            "_dom_classes": [],
            "_model_module": "@jupyter-widgets/controls",
            "_model_module_version": "1.5.0",
            "_model_name": "HTMLModel",
            "_view_count": null,
            "_view_module": "@jupyter-widgets/controls",
            "_view_module_version": "1.5.0",
            "_view_name": "HTMLView",
            "description": "",
            "description_tooltip": null,
            "layout": "IPY_MODEL_dc6e9d8f09b84858b0f9ab45a907998b",
            "placeholder": "​",
            "style": "IPY_MODEL_d9c6e100f08045a0bfa78f79490a1740",
            "value": "special_tokens_map.json: 100%"
          }
        },
        "a49d16e25c38436bb1f8a2f1a9357bd8": {
          "model_module": "@jupyter-widgets/controls",
          "model_name": "FloatProgressModel",
          "model_module_version": "1.5.0",
          "state": {
            "_dom_classes": [],
            "_model_module": "@jupyter-widgets/controls",
            "_model_module_version": "1.5.0",
            "_model_name": "FloatProgressModel",
            "_view_count": null,
            "_view_module": "@jupyter-widgets/controls",
            "_view_module_version": "1.5.0",
            "_view_name": "ProgressView",
            "bar_style": "success",
            "description": "",
            "description_tooltip": null,
            "layout": "IPY_MODEL_0383b723f9c94b0fb406472d29573887",
            "max": 153,
            "min": 0,
            "orientation": "horizontal",
            "style": "IPY_MODEL_2a49474b92bb49539ed86d64e227b3bd",
            "value": 153
          }
        },
        "8032583813f24dbaa261da9dd675267a": {
          "model_module": "@jupyter-widgets/controls",
          "model_name": "HTMLModel",
          "model_module_version": "1.5.0",
          "state": {
            "_dom_classes": [],
            "_model_module": "@jupyter-widgets/controls",
            "_model_module_version": "1.5.0",
            "_model_name": "HTMLModel",
            "_view_count": null,
            "_view_module": "@jupyter-widgets/controls",
            "_view_module_version": "1.5.0",
            "_view_name": "HTMLView",
            "description": "",
            "description_tooltip": null,
            "layout": "IPY_MODEL_f01f51b8944d41f48de7a7398e2b50b4",
            "placeholder": "​",
            "style": "IPY_MODEL_36cbfb5041034ec481b555a71596a6ba",
            "value": " 153/153 [00:00&lt;00:00, 9.16kB/s]"
          }
        },
        "5462408d7eb847ee8b507795d1e5d3de": {
          "model_module": "@jupyter-widgets/base",
          "model_name": "LayoutModel",
          "model_module_version": "1.2.0",
          "state": {
            "_model_module": "@jupyter-widgets/base",
            "_model_module_version": "1.2.0",
            "_model_name": "LayoutModel",
            "_view_count": null,
            "_view_module": "@jupyter-widgets/base",
            "_view_module_version": "1.2.0",
            "_view_name": "LayoutView",
            "align_content": null,
            "align_items": null,
            "align_self": null,
            "border": null,
            "bottom": null,
            "display": null,
            "flex": null,
            "flex_flow": null,
            "grid_area": null,
            "grid_auto_columns": null,
            "grid_auto_flow": null,
            "grid_auto_rows": null,
            "grid_column": null,
            "grid_gap": null,
            "grid_row": null,
            "grid_template_areas": null,
            "grid_template_columns": null,
            "grid_template_rows": null,
            "height": null,
            "justify_content": null,
            "justify_items": null,
            "left": null,
            "margin": null,
            "max_height": null,
            "max_width": null,
            "min_height": null,
            "min_width": null,
            "object_fit": null,
            "object_position": null,
            "order": null,
            "overflow": null,
            "overflow_x": null,
            "overflow_y": null,
            "padding": null,
            "right": null,
            "top": null,
            "visibility": null,
            "width": null
          }
        },
        "dc6e9d8f09b84858b0f9ab45a907998b": {
          "model_module": "@jupyter-widgets/base",
          "model_name": "LayoutModel",
          "model_module_version": "1.2.0",
          "state": {
            "_model_module": "@jupyter-widgets/base",
            "_model_module_version": "1.2.0",
            "_model_name": "LayoutModel",
            "_view_count": null,
            "_view_module": "@jupyter-widgets/base",
            "_view_module_version": "1.2.0",
            "_view_name": "LayoutView",
            "align_content": null,
            "align_items": null,
            "align_self": null,
            "border": null,
            "bottom": null,
            "display": null,
            "flex": null,
            "flex_flow": null,
            "grid_area": null,
            "grid_auto_columns": null,
            "grid_auto_flow": null,
            "grid_auto_rows": null,
            "grid_column": null,
            "grid_gap": null,
            "grid_row": null,
            "grid_template_areas": null,
            "grid_template_columns": null,
            "grid_template_rows": null,
            "height": null,
            "justify_content": null,
            "justify_items": null,
            "left": null,
            "margin": null,
            "max_height": null,
            "max_width": null,
            "min_height": null,
            "min_width": null,
            "object_fit": null,
            "object_position": null,
            "order": null,
            "overflow": null,
            "overflow_x": null,
            "overflow_y": null,
            "padding": null,
            "right": null,
            "top": null,
            "visibility": null,
            "width": null
          }
        },
        "d9c6e100f08045a0bfa78f79490a1740": {
          "model_module": "@jupyter-widgets/controls",
          "model_name": "DescriptionStyleModel",
          "model_module_version": "1.5.0",
          "state": {
            "_model_module": "@jupyter-widgets/controls",
            "_model_module_version": "1.5.0",
            "_model_name": "DescriptionStyleModel",
            "_view_count": null,
            "_view_module": "@jupyter-widgets/base",
            "_view_module_version": "1.2.0",
            "_view_name": "StyleView",
            "description_width": ""
          }
        },
        "0383b723f9c94b0fb406472d29573887": {
          "model_module": "@jupyter-widgets/base",
          "model_name": "LayoutModel",
          "model_module_version": "1.2.0",
          "state": {
            "_model_module": "@jupyter-widgets/base",
            "_model_module_version": "1.2.0",
            "_model_name": "LayoutModel",
            "_view_count": null,
            "_view_module": "@jupyter-widgets/base",
            "_view_module_version": "1.2.0",
            "_view_name": "LayoutView",
            "align_content": null,
            "align_items": null,
            "align_self": null,
            "border": null,
            "bottom": null,
            "display": null,
            "flex": null,
            "flex_flow": null,
            "grid_area": null,
            "grid_auto_columns": null,
            "grid_auto_flow": null,
            "grid_auto_rows": null,
            "grid_column": null,
            "grid_gap": null,
            "grid_row": null,
            "grid_template_areas": null,
            "grid_template_columns": null,
            "grid_template_rows": null,
            "height": null,
            "justify_content": null,
            "justify_items": null,
            "left": null,
            "margin": null,
            "max_height": null,
            "max_width": null,
            "min_height": null,
            "min_width": null,
            "object_fit": null,
            "object_position": null,
            "order": null,
            "overflow": null,
            "overflow_x": null,
            "overflow_y": null,
            "padding": null,
            "right": null,
            "top": null,
            "visibility": null,
            "width": null
          }
        },
        "2a49474b92bb49539ed86d64e227b3bd": {
          "model_module": "@jupyter-widgets/controls",
          "model_name": "ProgressStyleModel",
          "model_module_version": "1.5.0",
          "state": {
            "_model_module": "@jupyter-widgets/controls",
            "_model_module_version": "1.5.0",
            "_model_name": "ProgressStyleModel",
            "_view_count": null,
            "_view_module": "@jupyter-widgets/base",
            "_view_module_version": "1.2.0",
            "_view_name": "StyleView",
            "bar_color": null,
            "description_width": ""
          }
        },
        "f01f51b8944d41f48de7a7398e2b50b4": {
          "model_module": "@jupyter-widgets/base",
          "model_name": "LayoutModel",
          "model_module_version": "1.2.0",
          "state": {
            "_model_module": "@jupyter-widgets/base",
            "_model_module_version": "1.2.0",
            "_model_name": "LayoutModel",
            "_view_count": null,
            "_view_module": "@jupyter-widgets/base",
            "_view_module_version": "1.2.0",
            "_view_name": "LayoutView",
            "align_content": null,
            "align_items": null,
            "align_self": null,
            "border": null,
            "bottom": null,
            "display": null,
            "flex": null,
            "flex_flow": null,
            "grid_area": null,
            "grid_auto_columns": null,
            "grid_auto_flow": null,
            "grid_auto_rows": null,
            "grid_column": null,
            "grid_gap": null,
            "grid_row": null,
            "grid_template_areas": null,
            "grid_template_columns": null,
            "grid_template_rows": null,
            "height": null,
            "justify_content": null,
            "justify_items": null,
            "left": null,
            "margin": null,
            "max_height": null,
            "max_width": null,
            "min_height": null,
            "min_width": null,
            "object_fit": null,
            "object_position": null,
            "order": null,
            "overflow": null,
            "overflow_x": null,
            "overflow_y": null,
            "padding": null,
            "right": null,
            "top": null,
            "visibility": null,
            "width": null
          }
        },
        "36cbfb5041034ec481b555a71596a6ba": {
          "model_module": "@jupyter-widgets/controls",
          "model_name": "DescriptionStyleModel",
          "model_module_version": "1.5.0",
          "state": {
            "_model_module": "@jupyter-widgets/controls",
            "_model_module_version": "1.5.0",
            "_model_name": "DescriptionStyleModel",
            "_view_count": null,
            "_view_module": "@jupyter-widgets/base",
            "_view_module_version": "1.2.0",
            "_view_name": "StyleView",
            "description_width": ""
          }
        },
        "5b7ef51b18fc4f04a85a8ea98addf573": {
          "model_module": "@jupyter-widgets/controls",
          "model_name": "HBoxModel",
          "model_module_version": "1.5.0",
          "state": {
            "_dom_classes": [],
            "_model_module": "@jupyter-widgets/controls",
            "_model_module_version": "1.5.0",
            "_model_name": "HBoxModel",
            "_view_count": null,
            "_view_module": "@jupyter-widgets/controls",
            "_view_module_version": "1.5.0",
            "_view_name": "HBoxView",
            "box_style": "",
            "children": [
              "IPY_MODEL_16d803a8ee994d0d9aedcb9897f0186b",
              "IPY_MODEL_4c852310a6684aac8afb76735c0c580a",
              "IPY_MODEL_5600ebda126e4763bd0cd9443e9449b4"
            ],
            "layout": "IPY_MODEL_0a1fb8c0ce384ebba864886a8aada09d"
          }
        },
        "16d803a8ee994d0d9aedcb9897f0186b": {
          "model_module": "@jupyter-widgets/controls",
          "model_name": "HTMLModel",
          "model_module_version": "1.5.0",
          "state": {
            "_dom_classes": [],
            "_model_module": "@jupyter-widgets/controls",
            "_model_module_version": "1.5.0",
            "_model_name": "HTMLModel",
            "_view_count": null,
            "_view_module": "@jupyter-widgets/controls",
            "_view_module_version": "1.5.0",
            "_view_name": "HTMLView",
            "description": "",
            "description_tooltip": null,
            "layout": "IPY_MODEL_cdc462b6eae24b67af3f4a1970177427",
            "placeholder": "​",
            "style": "IPY_MODEL_3332427561aa44beac1d3cc8bcf15107",
            "value": "config.json: 100%"
          }
        },
        "4c852310a6684aac8afb76735c0c580a": {
          "model_module": "@jupyter-widgets/controls",
          "model_name": "FloatProgressModel",
          "model_module_version": "1.5.0",
          "state": {
            "_dom_classes": [],
            "_model_module": "@jupyter-widgets/controls",
            "_model_module_version": "1.5.0",
            "_model_name": "FloatProgressModel",
            "_view_count": null,
            "_view_module": "@jupyter-widgets/controls",
            "_view_module_version": "1.5.0",
            "_view_name": "ProgressView",
            "bar_style": "success",
            "description": "",
            "description_tooltip": null,
            "layout": "IPY_MODEL_d9638579f4dc402dbf210a57a1d6e43f",
            "max": 663,
            "min": 0,
            "orientation": "horizontal",
            "style": "IPY_MODEL_9729788866fa4c7fb1e04a8280cefac2",
            "value": 663
          }
        },
        "5600ebda126e4763bd0cd9443e9449b4": {
          "model_module": "@jupyter-widgets/controls",
          "model_name": "HTMLModel",
          "model_module_version": "1.5.0",
          "state": {
            "_dom_classes": [],
            "_model_module": "@jupyter-widgets/controls",
            "_model_module_version": "1.5.0",
            "_model_name": "HTMLModel",
            "_view_count": null,
            "_view_module": "@jupyter-widgets/controls",
            "_view_module_version": "1.5.0",
            "_view_name": "HTMLView",
            "description": "",
            "description_tooltip": null,
            "layout": "IPY_MODEL_b6c54aeda362484b82c10c248327d162",
            "placeholder": "​",
            "style": "IPY_MODEL_5c42ba725724466bb3ac31168e07f1ca",
            "value": " 663/663 [00:00&lt;00:00, 39.4kB/s]"
          }
        },
        "0a1fb8c0ce384ebba864886a8aada09d": {
          "model_module": "@jupyter-widgets/base",
          "model_name": "LayoutModel",
          "model_module_version": "1.2.0",
          "state": {
            "_model_module": "@jupyter-widgets/base",
            "_model_module_version": "1.2.0",
            "_model_name": "LayoutModel",
            "_view_count": null,
            "_view_module": "@jupyter-widgets/base",
            "_view_module_version": "1.2.0",
            "_view_name": "LayoutView",
            "align_content": null,
            "align_items": null,
            "align_self": null,
            "border": null,
            "bottom": null,
            "display": null,
            "flex": null,
            "flex_flow": null,
            "grid_area": null,
            "grid_auto_columns": null,
            "grid_auto_flow": null,
            "grid_auto_rows": null,
            "grid_column": null,
            "grid_gap": null,
            "grid_row": null,
            "grid_template_areas": null,
            "grid_template_columns": null,
            "grid_template_rows": null,
            "height": null,
            "justify_content": null,
            "justify_items": null,
            "left": null,
            "margin": null,
            "max_height": null,
            "max_width": null,
            "min_height": null,
            "min_width": null,
            "object_fit": null,
            "object_position": null,
            "order": null,
            "overflow": null,
            "overflow_x": null,
            "overflow_y": null,
            "padding": null,
            "right": null,
            "top": null,
            "visibility": null,
            "width": null
          }
        },
        "cdc462b6eae24b67af3f4a1970177427": {
          "model_module": "@jupyter-widgets/base",
          "model_name": "LayoutModel",
          "model_module_version": "1.2.0",
          "state": {
            "_model_module": "@jupyter-widgets/base",
            "_model_module_version": "1.2.0",
            "_model_name": "LayoutModel",
            "_view_count": null,
            "_view_module": "@jupyter-widgets/base",
            "_view_module_version": "1.2.0",
            "_view_name": "LayoutView",
            "align_content": null,
            "align_items": null,
            "align_self": null,
            "border": null,
            "bottom": null,
            "display": null,
            "flex": null,
            "flex_flow": null,
            "grid_area": null,
            "grid_auto_columns": null,
            "grid_auto_flow": null,
            "grid_auto_rows": null,
            "grid_column": null,
            "grid_gap": null,
            "grid_row": null,
            "grid_template_areas": null,
            "grid_template_columns": null,
            "grid_template_rows": null,
            "height": null,
            "justify_content": null,
            "justify_items": null,
            "left": null,
            "margin": null,
            "max_height": null,
            "max_width": null,
            "min_height": null,
            "min_width": null,
            "object_fit": null,
            "object_position": null,
            "order": null,
            "overflow": null,
            "overflow_x": null,
            "overflow_y": null,
            "padding": null,
            "right": null,
            "top": null,
            "visibility": null,
            "width": null
          }
        },
        "3332427561aa44beac1d3cc8bcf15107": {
          "model_module": "@jupyter-widgets/controls",
          "model_name": "DescriptionStyleModel",
          "model_module_version": "1.5.0",
          "state": {
            "_model_module": "@jupyter-widgets/controls",
            "_model_module_version": "1.5.0",
            "_model_name": "DescriptionStyleModel",
            "_view_count": null,
            "_view_module": "@jupyter-widgets/base",
            "_view_module_version": "1.2.0",
            "_view_name": "StyleView",
            "description_width": ""
          }
        },
        "d9638579f4dc402dbf210a57a1d6e43f": {
          "model_module": "@jupyter-widgets/base",
          "model_name": "LayoutModel",
          "model_module_version": "1.2.0",
          "state": {
            "_model_module": "@jupyter-widgets/base",
            "_model_module_version": "1.2.0",
            "_model_name": "LayoutModel",
            "_view_count": null,
            "_view_module": "@jupyter-widgets/base",
            "_view_module_version": "1.2.0",
            "_view_name": "LayoutView",
            "align_content": null,
            "align_items": null,
            "align_self": null,
            "border": null,
            "bottom": null,
            "display": null,
            "flex": null,
            "flex_flow": null,
            "grid_area": null,
            "grid_auto_columns": null,
            "grid_auto_flow": null,
            "grid_auto_rows": null,
            "grid_column": null,
            "grid_gap": null,
            "grid_row": null,
            "grid_template_areas": null,
            "grid_template_columns": null,
            "grid_template_rows": null,
            "height": null,
            "justify_content": null,
            "justify_items": null,
            "left": null,
            "margin": null,
            "max_height": null,
            "max_width": null,
            "min_height": null,
            "min_width": null,
            "object_fit": null,
            "object_position": null,
            "order": null,
            "overflow": null,
            "overflow_x": null,
            "overflow_y": null,
            "padding": null,
            "right": null,
            "top": null,
            "visibility": null,
            "width": null
          }
        },
        "9729788866fa4c7fb1e04a8280cefac2": {
          "model_module": "@jupyter-widgets/controls",
          "model_name": "ProgressStyleModel",
          "model_module_version": "1.5.0",
          "state": {
            "_model_module": "@jupyter-widgets/controls",
            "_model_module_version": "1.5.0",
            "_model_name": "ProgressStyleModel",
            "_view_count": null,
            "_view_module": "@jupyter-widgets/base",
            "_view_module_version": "1.2.0",
            "_view_name": "StyleView",
            "bar_color": null,
            "description_width": ""
          }
        },
        "b6c54aeda362484b82c10c248327d162": {
          "model_module": "@jupyter-widgets/base",
          "model_name": "LayoutModel",
          "model_module_version": "1.2.0",
          "state": {
            "_model_module": "@jupyter-widgets/base",
            "_model_module_version": "1.2.0",
            "_model_name": "LayoutModel",
            "_view_count": null,
            "_view_module": "@jupyter-widgets/base",
            "_view_module_version": "1.2.0",
            "_view_name": "LayoutView",
            "align_content": null,
            "align_items": null,
            "align_self": null,
            "border": null,
            "bottom": null,
            "display": null,
            "flex": null,
            "flex_flow": null,
            "grid_area": null,
            "grid_auto_columns": null,
            "grid_auto_flow": null,
            "grid_auto_rows": null,
            "grid_column": null,
            "grid_gap": null,
            "grid_row": null,
            "grid_template_areas": null,
            "grid_template_columns": null,
            "grid_template_rows": null,
            "height": null,
            "justify_content": null,
            "justify_items": null,
            "left": null,
            "margin": null,
            "max_height": null,
            "max_width": null,
            "min_height": null,
            "min_width": null,
            "object_fit": null,
            "object_position": null,
            "order": null,
            "overflow": null,
            "overflow_x": null,
            "overflow_y": null,
            "padding": null,
            "right": null,
            "top": null,
            "visibility": null,
            "width": null
          }
        },
        "5c42ba725724466bb3ac31168e07f1ca": {
          "model_module": "@jupyter-widgets/controls",
          "model_name": "DescriptionStyleModel",
          "model_module_version": "1.5.0",
          "state": {
            "_model_module": "@jupyter-widgets/controls",
            "_model_module_version": "1.5.0",
            "_model_name": "DescriptionStyleModel",
            "_view_count": null,
            "_view_module": "@jupyter-widgets/base",
            "_view_module_version": "1.2.0",
            "_view_name": "StyleView",
            "description_width": ""
          }
        },
        "467403e8b4b94c2f8cfe24ffc1bac5b5": {
          "model_module": "@jupyter-widgets/controls",
          "model_name": "HBoxModel",
          "model_module_version": "1.5.0",
          "state": {
            "_dom_classes": [],
            "_model_module": "@jupyter-widgets/controls",
            "_model_module_version": "1.5.0",
            "_model_name": "HBoxModel",
            "_view_count": null,
            "_view_module": "@jupyter-widgets/controls",
            "_view_module_version": "1.5.0",
            "_view_name": "HBoxView",
            "box_style": "",
            "children": [
              "IPY_MODEL_b5a93aa3c97145229e7ef0e9b62a88aa",
              "IPY_MODEL_59760db29db349108f45c3bf57067bc6",
              "IPY_MODEL_e3897bdbccf148d690ef63284101441b"
            ],
            "layout": "IPY_MODEL_c3a559b59adc4276bf7db7c6e53bbff4"
          }
        },
        "b5a93aa3c97145229e7ef0e9b62a88aa": {
          "model_module": "@jupyter-widgets/controls",
          "model_name": "HTMLModel",
          "model_module_version": "1.5.0",
          "state": {
            "_dom_classes": [],
            "_model_module": "@jupyter-widgets/controls",
            "_model_module_version": "1.5.0",
            "_model_name": "HTMLModel",
            "_view_count": null,
            "_view_module": "@jupyter-widgets/controls",
            "_view_module_version": "1.5.0",
            "_view_name": "HTMLView",
            "description": "",
            "description_tooltip": null,
            "layout": "IPY_MODEL_f5667d0cfb514573a1f589b17de230ce",
            "placeholder": "​",
            "style": "IPY_MODEL_152bb7f22d9d403da34f66ac54692f79",
            "value": "model.safetensors: 100%"
          }
        },
        "59760db29db349108f45c3bf57067bc6": {
          "model_module": "@jupyter-widgets/controls",
          "model_name": "FloatProgressModel",
          "model_module_version": "1.5.0",
          "state": {
            "_dom_classes": [],
            "_model_module": "@jupyter-widgets/controls",
            "_model_module_version": "1.5.0",
            "_model_name": "FloatProgressModel",
            "_view_count": null,
            "_view_module": "@jupyter-widgets/controls",
            "_view_module_version": "1.5.0",
            "_view_name": "ProgressView",
            "bar_style": "success",
            "description": "",
            "description_tooltip": null,
            "layout": "IPY_MODEL_fc5e55e45da74a0ebc4e077281655b5d",
            "max": 442638084,
            "min": 0,
            "orientation": "horizontal",
            "style": "IPY_MODEL_2e4507a3317a49488b9ddb67bc4e8ef7",
            "value": 442638084
          }
        },
        "e3897bdbccf148d690ef63284101441b": {
          "model_module": "@jupyter-widgets/controls",
          "model_name": "HTMLModel",
          "model_module_version": "1.5.0",
          "state": {
            "_dom_classes": [],
            "_model_module": "@jupyter-widgets/controls",
            "_model_module_version": "1.5.0",
            "_model_name": "HTMLModel",
            "_view_count": null,
            "_view_module": "@jupyter-widgets/controls",
            "_view_module_version": "1.5.0",
            "_view_name": "HTMLView",
            "description": "",
            "description_tooltip": null,
            "layout": "IPY_MODEL_edab5621dcf14ad488d5eefda83edffd",
            "placeholder": "​",
            "style": "IPY_MODEL_6780b259a43548d8ab88dfb013bcf6ce",
            "value": " 443M/443M [00:05&lt;00:00, 83.2MB/s]"
          }
        },
        "c3a559b59adc4276bf7db7c6e53bbff4": {
          "model_module": "@jupyter-widgets/base",
          "model_name": "LayoutModel",
          "model_module_version": "1.2.0",
          "state": {
            "_model_module": "@jupyter-widgets/base",
            "_model_module_version": "1.2.0",
            "_model_name": "LayoutModel",
            "_view_count": null,
            "_view_module": "@jupyter-widgets/base",
            "_view_module_version": "1.2.0",
            "_view_name": "LayoutView",
            "align_content": null,
            "align_items": null,
            "align_self": null,
            "border": null,
            "bottom": null,
            "display": null,
            "flex": null,
            "flex_flow": null,
            "grid_area": null,
            "grid_auto_columns": null,
            "grid_auto_flow": null,
            "grid_auto_rows": null,
            "grid_column": null,
            "grid_gap": null,
            "grid_row": null,
            "grid_template_areas": null,
            "grid_template_columns": null,
            "grid_template_rows": null,
            "height": null,
            "justify_content": null,
            "justify_items": null,
            "left": null,
            "margin": null,
            "max_height": null,
            "max_width": null,
            "min_height": null,
            "min_width": null,
            "object_fit": null,
            "object_position": null,
            "order": null,
            "overflow": null,
            "overflow_x": null,
            "overflow_y": null,
            "padding": null,
            "right": null,
            "top": null,
            "visibility": null,
            "width": null
          }
        },
        "f5667d0cfb514573a1f589b17de230ce": {
          "model_module": "@jupyter-widgets/base",
          "model_name": "LayoutModel",
          "model_module_version": "1.2.0",
          "state": {
            "_model_module": "@jupyter-widgets/base",
            "_model_module_version": "1.2.0",
            "_model_name": "LayoutModel",
            "_view_count": null,
            "_view_module": "@jupyter-widgets/base",
            "_view_module_version": "1.2.0",
            "_view_name": "LayoutView",
            "align_content": null,
            "align_items": null,
            "align_self": null,
            "border": null,
            "bottom": null,
            "display": null,
            "flex": null,
            "flex_flow": null,
            "grid_area": null,
            "grid_auto_columns": null,
            "grid_auto_flow": null,
            "grid_auto_rows": null,
            "grid_column": null,
            "grid_gap": null,
            "grid_row": null,
            "grid_template_areas": null,
            "grid_template_columns": null,
            "grid_template_rows": null,
            "height": null,
            "justify_content": null,
            "justify_items": null,
            "left": null,
            "margin": null,
            "max_height": null,
            "max_width": null,
            "min_height": null,
            "min_width": null,
            "object_fit": null,
            "object_position": null,
            "order": null,
            "overflow": null,
            "overflow_x": null,
            "overflow_y": null,
            "padding": null,
            "right": null,
            "top": null,
            "visibility": null,
            "width": null
          }
        },
        "152bb7f22d9d403da34f66ac54692f79": {
          "model_module": "@jupyter-widgets/controls",
          "model_name": "DescriptionStyleModel",
          "model_module_version": "1.5.0",
          "state": {
            "_model_module": "@jupyter-widgets/controls",
            "_model_module_version": "1.5.0",
            "_model_name": "DescriptionStyleModel",
            "_view_count": null,
            "_view_module": "@jupyter-widgets/base",
            "_view_module_version": "1.2.0",
            "_view_name": "StyleView",
            "description_width": ""
          }
        },
        "fc5e55e45da74a0ebc4e077281655b5d": {
          "model_module": "@jupyter-widgets/base",
          "model_name": "LayoutModel",
          "model_module_version": "1.2.0",
          "state": {
            "_model_module": "@jupyter-widgets/base",
            "_model_module_version": "1.2.0",
            "_model_name": "LayoutModel",
            "_view_count": null,
            "_view_module": "@jupyter-widgets/base",
            "_view_module_version": "1.2.0",
            "_view_name": "LayoutView",
            "align_content": null,
            "align_items": null,
            "align_self": null,
            "border": null,
            "bottom": null,
            "display": null,
            "flex": null,
            "flex_flow": null,
            "grid_area": null,
            "grid_auto_columns": null,
            "grid_auto_flow": null,
            "grid_auto_rows": null,
            "grid_column": null,
            "grid_gap": null,
            "grid_row": null,
            "grid_template_areas": null,
            "grid_template_columns": null,
            "grid_template_rows": null,
            "height": null,
            "justify_content": null,
            "justify_items": null,
            "left": null,
            "margin": null,
            "max_height": null,
            "max_width": null,
            "min_height": null,
            "min_width": null,
            "object_fit": null,
            "object_position": null,
            "order": null,
            "overflow": null,
            "overflow_x": null,
            "overflow_y": null,
            "padding": null,
            "right": null,
            "top": null,
            "visibility": null,
            "width": null
          }
        },
        "2e4507a3317a49488b9ddb67bc4e8ef7": {
          "model_module": "@jupyter-widgets/controls",
          "model_name": "ProgressStyleModel",
          "model_module_version": "1.5.0",
          "state": {
            "_model_module": "@jupyter-widgets/controls",
            "_model_module_version": "1.5.0",
            "_model_name": "ProgressStyleModel",
            "_view_count": null,
            "_view_module": "@jupyter-widgets/base",
            "_view_module_version": "1.2.0",
            "_view_name": "StyleView",
            "bar_color": null,
            "description_width": ""
          }
        },
        "edab5621dcf14ad488d5eefda83edffd": {
          "model_module": "@jupyter-widgets/base",
          "model_name": "LayoutModel",
          "model_module_version": "1.2.0",
          "state": {
            "_model_module": "@jupyter-widgets/base",
            "_model_module_version": "1.2.0",
            "_model_name": "LayoutModel",
            "_view_count": null,
            "_view_module": "@jupyter-widgets/base",
            "_view_module_version": "1.2.0",
            "_view_name": "LayoutView",
            "align_content": null,
            "align_items": null,
            "align_self": null,
            "border": null,
            "bottom": null,
            "display": null,
            "flex": null,
            "flex_flow": null,
            "grid_area": null,
            "grid_auto_columns": null,
            "grid_auto_flow": null,
            "grid_auto_rows": null,
            "grid_column": null,
            "grid_gap": null,
            "grid_row": null,
            "grid_template_areas": null,
            "grid_template_columns": null,
            "grid_template_rows": null,
            "height": null,
            "justify_content": null,
            "justify_items": null,
            "left": null,
            "margin": null,
            "max_height": null,
            "max_width": null,
            "min_height": null,
            "min_width": null,
            "object_fit": null,
            "object_position": null,
            "order": null,
            "overflow": null,
            "overflow_x": null,
            "overflow_y": null,
            "padding": null,
            "right": null,
            "top": null,
            "visibility": null,
            "width": null
          }
        },
        "6780b259a43548d8ab88dfb013bcf6ce": {
          "model_module": "@jupyter-widgets/controls",
          "model_name": "DescriptionStyleModel",
          "model_module_version": "1.5.0",
          "state": {
            "_model_module": "@jupyter-widgets/controls",
            "_model_module_version": "1.5.0",
            "_model_name": "DescriptionStyleModel",
            "_view_count": null,
            "_view_module": "@jupyter-widgets/base",
            "_view_module_version": "1.2.0",
            "_view_name": "StyleView",
            "description_width": ""
          }
        }
      }
    }
  },
  "cells": [
    {
      "cell_type": "markdown",
      "metadata": {
        "id": "view-in-github",
        "colab_type": "text"
      },
      "source": [
        "<a href=\"https://colab.research.google.com/github/ailab-nda/ML/blob/main/TOEIC_Part5_BERT.ipynb\" target=\"_parent\"><img src=\"https://colab.research.google.com/assets/colab-badge.svg\" alt=\"Open In Colab\"/></a>"
      ]
    },
    {
      "cell_type": "markdown",
      "metadata": {
        "id": "F1zY4P3XUM2e"
      },
      "source": [
        "# Transformer による自然言語処理"
      ]
    },
    {
      "cell_type": "markdown",
      "metadata": {
        "id": "3KW1W5AOUowz"
      },
      "source": [
        "### 準備"
      ]
    },
    {
      "cell_type": "markdown",
      "metadata": {
        "id": "wvlszIhar1Dk"
      },
      "source": [
        "関連ライブラリのインストール"
      ]
    },
    {
      "cell_type": "code",
      "metadata": {
        "id": "0h5Y7k8e3WQy",
        "outputId": "43cdc168-d08f-458b-9846-c6969ba28927",
        "colab": {
          "base_uri": "https://localhost:8080/"
        }
      },
      "source": [
        "!pip install -q transformers\n",
        "!pip install -q sentencepiece\n",
        "!pip install -q datasets"
      ],
      "execution_count": 1,
      "outputs": [
        {
          "output_type": "stream",
          "name": "stdout",
          "text": [
            "\u001b[?25l   \u001b[90m━━━━━━━━━━━━━━━━━━━━━━━━━━━━━━━━━━━━━━━━\u001b[0m \u001b[32m0.0/480.6 kB\u001b[0m \u001b[31m?\u001b[0m eta \u001b[36m-:--:--\u001b[0m\r\u001b[2K   \u001b[91m━━━━━━━━━━━━━━━━━━━━━━━━━━━━━━━━━━━━━━━\u001b[0m\u001b[90m╺\u001b[0m \u001b[32m471.0/480.6 kB\u001b[0m \u001b[31m22.4 MB/s\u001b[0m eta \u001b[36m0:00:01\u001b[0m\r\u001b[2K   \u001b[90m━━━━━━━━━━━━━━━━━━━━━━━━━━━━━━━━━━━━━━━━\u001b[0m \u001b[32m480.6/480.6 kB\u001b[0m \u001b[31m12.4 MB/s\u001b[0m eta \u001b[36m0:00:00\u001b[0m\n",
            "\u001b[?25h\u001b[?25l   \u001b[90m━━━━━━━━━━━━━━━━━━━━━━━━━━━━━━━━━━━━━━━━\u001b[0m \u001b[32m0.0/116.3 kB\u001b[0m \u001b[31m?\u001b[0m eta \u001b[36m-:--:--\u001b[0m\r\u001b[2K   \u001b[90m━━━━━━━━━━━━━━━━━━━━━━━━━━━━━━━━━━━━━━━━\u001b[0m \u001b[32m116.3/116.3 kB\u001b[0m \u001b[31m7.0 MB/s\u001b[0m eta \u001b[36m0:00:00\u001b[0m\n",
            "\u001b[2K   \u001b[90m━━━━━━━━━━━━━━━━━━━━━━━━━━━━━━━━━━━━━━━━\u001b[0m \u001b[32m179.3/179.3 kB\u001b[0m \u001b[31m12.0 MB/s\u001b[0m eta \u001b[36m0:00:00\u001b[0m\n",
            "\u001b[2K   \u001b[90m━━━━━━━━━━━━━━━━━━━━━━━━━━━━━━━━━━━━━━━━\u001b[0m \u001b[32m134.8/134.8 kB\u001b[0m \u001b[31m8.7 MB/s\u001b[0m eta \u001b[36m0:00:00\u001b[0m\n",
            "\u001b[2K   \u001b[90m━━━━━━━━━━━━━━━━━━━━━━━━━━━━━━━━━━━━━━━━\u001b[0m \u001b[32m194.1/194.1 kB\u001b[0m \u001b[31m12.6 MB/s\u001b[0m eta \u001b[36m0:00:00\u001b[0m\n",
            "\u001b[?25h\u001b[31mERROR: pip's dependency resolver does not currently take into account all the packages that are installed. This behaviour is the source of the following dependency conflicts.\n",
            "gcsfs 2024.10.0 requires fsspec==2024.10.0, but you have fsspec 2024.9.0 which is incompatible.\u001b[0m\u001b[31m\n",
            "\u001b[0m"
          ]
        }
      ]
    },
    {
      "cell_type": "markdown",
      "metadata": {
        "id": "aTr0TD-9r4OL"
      },
      "source": [
        "関連ライブラリのインポート"
      ]
    },
    {
      "cell_type": "code",
      "metadata": {
        "id": "PFLORpjArCGT"
      },
      "source": [
        "import numpy as np\n",
        "import torch\n",
        "import textwrap\n",
        "from transformers import T5Tokenizer, BertTokenizer\n",
        "from transformers import AutoModelForCausalLM, RobertaForMaskedLM\n",
        "from transformers import BertForPreTraining"
      ],
      "execution_count": 61,
      "outputs": []
    },
    {
      "cell_type": "markdown",
      "metadata": {
        "id": "1snol5wIUawe"
      },
      "source": [
        "## 1. 日本語モデルによる文章中の空欄埋め\n",
        "\n",
        "\n",
        "\n"
      ]
    },
    {
      "cell_type": "markdown",
      "metadata": {
        "id": "0ta1Zf-gUxJA"
      },
      "source": [
        "### モデルのダウンロード"
      ]
    },
    {
      "cell_type": "code",
      "metadata": {
        "id": "MDMZTkNRRvkl",
        "outputId": "93335c79-3dba-4f09-dff4-3b1821ed921a",
        "colab": {
          "base_uri": "https://localhost:8080/",
          "height": 214,
          "referenced_widgets": [
            "d9dace3ad83e475a895517cc2f09edf6",
            "9df1cb2513be44a2a7d4ccfa8378fd03",
            "f99cf22ab5a140a686c9960a5604926b",
            "177c35af8a7c47ac8c2c365eb6946d38",
            "40cf1949203745cea30de364af63efb6",
            "a5777c7cd7744561b6e15d4b076ac414",
            "5d7585c93d764c119a7a8adcb4d18e05",
            "c47c191d7cc543bf89fcda8a0bddf3dc",
            "e48ad24e97d14a64b7eaa5471925f72b",
            "0ea5ac7c08ff4461b7700ad56e87b7c5",
            "005c9196b44e422b8a12872a7a861e1e",
            "9dfbffcbb8d94e0faba3e6acda8db04f",
            "a7e8a2dafa814d51a9bc6c47135e904b",
            "a79abd3bb8664925aed46fb55438f6cf",
            "0b38a75807d14c38943d0e3a6021e4a6",
            "1fdf3936e3d847629c57e59c83c92da6",
            "98be06bc416f47b7a167dbad06af54dc",
            "f89b6a7d75624a86b38d2a432a5aaf34",
            "724b73e972344624a9282379990bd8c6",
            "47da6640ce744219a28b6d190c5eff68",
            "917ead2b380040048295967f8b7e8c48",
            "47e70a1a7f7541f59edbb3b2deaeab04",
            "1752fcfb493840ab95b64dbe1c87cd0a",
            "781789efc21b432a8a831e9cd1928369",
            "a49d16e25c38436bb1f8a2f1a9357bd8",
            "8032583813f24dbaa261da9dd675267a",
            "5462408d7eb847ee8b507795d1e5d3de",
            "dc6e9d8f09b84858b0f9ab45a907998b",
            "d9c6e100f08045a0bfa78f79490a1740",
            "0383b723f9c94b0fb406472d29573887",
            "2a49474b92bb49539ed86d64e227b3bd",
            "f01f51b8944d41f48de7a7398e2b50b4",
            "36cbfb5041034ec481b555a71596a6ba",
            "5b7ef51b18fc4f04a85a8ea98addf573",
            "16d803a8ee994d0d9aedcb9897f0186b",
            "4c852310a6684aac8afb76735c0c580a",
            "5600ebda126e4763bd0cd9443e9449b4",
            "0a1fb8c0ce384ebba864886a8aada09d",
            "cdc462b6eae24b67af3f4a1970177427",
            "3332427561aa44beac1d3cc8bcf15107",
            "d9638579f4dc402dbf210a57a1d6e43f",
            "9729788866fa4c7fb1e04a8280cefac2",
            "b6c54aeda362484b82c10c248327d162",
            "5c42ba725724466bb3ac31168e07f1ca",
            "467403e8b4b94c2f8cfe24ffc1bac5b5",
            "b5a93aa3c97145229e7ef0e9b62a88aa",
            "59760db29db349108f45c3bf57067bc6",
            "e3897bdbccf148d690ef63284101441b",
            "c3a559b59adc4276bf7db7c6e53bbff4",
            "f5667d0cfb514573a1f589b17de230ce",
            "152bb7f22d9d403da34f66ac54692f79",
            "fc5e55e45da74a0ebc4e077281655b5d",
            "2e4507a3317a49488b9ddb67bc4e8ef7",
            "edab5621dcf14ad488d5eefda83edffd",
            "6780b259a43548d8ab88dfb013bcf6ce"
          ]
        }
      },
      "source": [
        "# トーカナイザの設定\n",
        "tokenizer = T5Tokenizer.from_pretrained(\"rinna/japanese-roberta-base\")\n",
        "tokenizer.do_lower_case = True  # due to some bug of tokenizer config loading\n",
        "# モデルの設定\n",
        "model = RobertaForMaskedLM.from_pretrained(\"rinna/japanese-roberta-base\")"
      ],
      "execution_count": 3,
      "outputs": [
        {
          "output_type": "display_data",
          "data": {
            "text/plain": [
              "tokenizer_config.json:   0%|          | 0.00/259 [00:00<?, ?B/s]"
            ],
            "application/vnd.jupyter.widget-view+json": {
              "version_major": 2,
              "version_minor": 0,
              "model_id": "d9dace3ad83e475a895517cc2f09edf6"
            }
          },
          "metadata": {}
        },
        {
          "output_type": "display_data",
          "data": {
            "text/plain": [
              "spiece.model:   0%|          | 0.00/806k [00:00<?, ?B/s]"
            ],
            "application/vnd.jupyter.widget-view+json": {
              "version_major": 2,
              "version_minor": 0,
              "model_id": "9dfbffcbb8d94e0faba3e6acda8db04f"
            }
          },
          "metadata": {}
        },
        {
          "output_type": "display_data",
          "data": {
            "text/plain": [
              "special_tokens_map.json:   0%|          | 0.00/153 [00:00<?, ?B/s]"
            ],
            "application/vnd.jupyter.widget-view+json": {
              "version_major": 2,
              "version_minor": 0,
              "model_id": "1752fcfb493840ab95b64dbe1c87cd0a"
            }
          },
          "metadata": {}
        },
        {
          "output_type": "stream",
          "name": "stderr",
          "text": [
            "You are using the default legacy behaviour of the <class 'transformers.models.t5.tokenization_t5.T5Tokenizer'>. This is expected, and simply means that the `legacy` (previous) behavior will be used so nothing changes for you. If you want to use the new behaviour, set `legacy=False`. This should only be set if you understand what it means, and thoroughly read the reason why this was added as explained in https://github.com/huggingface/transformers/pull/24565\n"
          ]
        },
        {
          "output_type": "display_data",
          "data": {
            "text/plain": [
              "config.json:   0%|          | 0.00/663 [00:00<?, ?B/s]"
            ],
            "application/vnd.jupyter.widget-view+json": {
              "version_major": 2,
              "version_minor": 0,
              "model_id": "5b7ef51b18fc4f04a85a8ea98addf573"
            }
          },
          "metadata": {}
        },
        {
          "output_type": "display_data",
          "data": {
            "text/plain": [
              "model.safetensors:   0%|          | 0.00/443M [00:00<?, ?B/s]"
            ],
            "application/vnd.jupyter.widget-view+json": {
              "version_major": 2,
              "version_minor": 0,
              "model_id": "467403e8b4b94c2f8cfe24ffc1bac5b5"
            }
          },
          "metadata": {}
        }
      ]
    },
    {
      "cell_type": "markdown",
      "metadata": {
        "id": "vYo4P-RpU1g3"
      },
      "source": [
        "### 問題文の作成"
      ]
    },
    {
      "cell_type": "code",
      "metadata": {
        "id": "bG_y3KX3R9Fo",
        "outputId": "2d151dff-760f-4199-848d-497c5fafc239",
        "colab": {
          "base_uri": "https://localhost:8080/"
        }
      },
      "source": [
        "# 原文\n",
        "text = \"4年に1度オリンピックは開かれる。\"\n",
        "\n",
        "# 文頭に [CLS] を付加\n",
        "text = \"[CLS]\" + text + \"[SEP]\"\n",
        "\n",
        "# トークン化\n",
        "tokens = tokenizer.tokenize(text)\n",
        "print(tokens)\n",
        "\n",
        "# トークンにマスクをかける\n",
        "masked_idx = 5\n",
        "tokens[masked_idx] = tokenizer.mask_token\n",
        "print(tokens)"
      ],
      "execution_count": 5,
      "outputs": [
        {
          "output_type": "stream",
          "name": "stdout",
          "text": [
            "['[CLS]', '▁4', '年に', '1', '度', 'オリンピック', 'は', '開かれる', '。', '[SEP]']\n",
            "['[CLS]', '▁4', '年に', '1', '度', '[MASK]', 'は', '開かれる', '。', '[SEP]']\n"
          ]
        }
      ]
    },
    {
      "cell_type": "markdown",
      "metadata": {
        "id": "Lao7fOXYU_df"
      },
      "source": [
        "### 穴埋め問題を解く"
      ]
    },
    {
      "cell_type": "markdown",
      "metadata": {
        "id": "5XHqe2k4WPt8"
      },
      "source": [
        "補充すべき単語の推定 (id)"
      ]
    },
    {
      "cell_type": "code",
      "metadata": {
        "id": "DfCfwo7vSOmb",
        "outputId": "7f1988f9-f014-400f-e6b3-95e6967bec2a",
        "colab": {
          "base_uri": "https://localhost:8080/"
        }
      },
      "source": [
        "# トークンから単語 ID に変換\n",
        "token_ids = tokenizer.convert_tokens_to_ids(tokens)\n",
        "print(token_ids)\n",
        "\n",
        "# テンソルに変換\n",
        "token_tensor = torch.LongTensor([token_ids])"
      ],
      "execution_count": 6,
      "outputs": [
        {
          "output_type": "stream",
          "name": "stdout",
          "text": [
            "[4, 1602, 44, 24, 368, 6, 11, 21583, 8, 5]\n"
          ]
        }
      ]
    },
    {
      "cell_type": "markdown",
      "metadata": {
        "id": "8s6nSS5YWZhy"
      },
      "source": [
        "結果の表示"
      ]
    },
    {
      "cell_type": "code",
      "metadata": {
        "id": "ZBBgnyLhSgpf",
        "outputId": "06b73d69-37fa-4c4a-944f-241dd997b6bb",
        "colab": {
          "base_uri": "https://localhost:8080/"
        }
      },
      "source": [
        "# 場所の ID を与える\n",
        "position_ids = list(range(0, token_tensor.size(1)))\n",
        "position_id_tensor = torch.LongTensor([position_ids])\n",
        "\n",
        "# マスクされたトークンの予測値（トップ 10）\n",
        "with torch.no_grad():\n",
        "    outputs = model(input_ids=token_tensor, position_ids=position_id_tensor)\n",
        "    predictions = outputs[0][0, masked_idx].topk(10)\n",
        "\n",
        "for i, index_t in enumerate(predictions.indices):\n",
        "    index = index_t.item()\n",
        "    token = tokenizer.convert_ids_to_tokens([index])[0]\n",
        "    print(i, token)"
      ],
      "execution_count": 7,
      "outputs": [
        {
          "output_type": "stream",
          "name": "stdout",
          "text": [
            "0 オールスターゲーム\n",
            "1 スーパーボウル\n",
            "2 ワールドカップ\n",
            "3 アジア競技大会\n",
            "4 株主総会\n",
            "5 都市対抗野球\n",
            "6 オリンピック\n",
            "7 東京オリンピック\n",
            "8 世界選手権\n",
            "9 日本シリーズ\n"
          ]
        }
      ]
    },
    {
      "cell_type": "markdown",
      "metadata": {
        "id": "zr9EfcyC_iWM"
      },
      "source": [
        "## 2. 英語モデルによる TOEIC Part 5 の解答"
      ]
    },
    {
      "cell_type": "code",
      "metadata": {
        "id": "58-TMKep_qJs"
      },
      "source": [
        "tokenizer = BertTokenizer.from_pretrained('bert-base-uncased')\n",
        "model = BertForPreTraining.from_pretrained('bert-base-uncased')"
      ],
      "execution_count": 104,
      "outputs": []
    },
    {
      "cell_type": "markdown",
      "metadata": {
        "id": "G1eiAYAk_2pG"
      },
      "source": [
        "### 問題文の作成"
      ]
    },
    {
      "cell_type": "markdown",
      "source": [
        "問題文：text、選択肢：candidate"
      ],
      "metadata": {
        "id": "sN_PE0B6gY52"
      }
    },
    {
      "cell_type": "code",
      "metadata": {
        "id": "PSmSRnUC_yaL"
      },
      "source": [
        "text = \"Customer reviews indicate that many modern mobile devices are often unnecessarily [MASK] .\"\n",
        "candidate = [\"complication\", \"complicates\", \"complicate\", \"complicated\"]"
      ],
      "execution_count": 105,
      "outputs": []
    },
    {
      "cell_type": "markdown",
      "metadata": {
        "id": "lSTAJXehHH0f"
      },
      "source": [
        "BERTに分かるように変換 (text --> tokens)"
      ]
    },
    {
      "cell_type": "code",
      "metadata": {
        "id": "vtd6zVLVAFWO",
        "outputId": "bbee86f9-fd84-4e04-c651-4567f7ae5c1a",
        "colab": {
          "base_uri": "https://localhost:8080/"
        }
      },
      "source": [
        "tokens = tokenizer.tokenize(text)\n",
        "print(tokens)\n",
        "\n",
        "masked_index = tokens.index(\"[MASK]\")\n",
        "tokens = [\"[CLS]\"] + tokens + [\"[SEP]\"]\n",
        "\n",
        "print(tokens)\n",
        "print(masked_index)"
      ],
      "execution_count": 108,
      "outputs": [
        {
          "output_type": "stream",
          "name": "stdout",
          "text": [
            "['customer', 'reviews', 'indicate', 'that', 'many', 'modern', 'mobile', 'devices', 'are', 'often', 'un', '##ne', '##ces', '##sari', '##ly', '[MASK]', '.']\n",
            "['[CLS]', 'customer', 'reviews', 'indicate', 'that', 'many', 'modern', 'mobile', 'devices', 'are', 'often', 'un', '##ne', '##ces', '##sari', '##ly', '[MASK]', '.', '[SEP]']\n",
            "15\n"
          ]
        }
      ]
    },
    {
      "cell_type": "markdown",
      "metadata": {
        "id": "lxCqQlnVAkB1"
      },
      "source": [
        "### 解答の作成"
      ]
    },
    {
      "cell_type": "code",
      "metadata": {
        "id": "Br8Q8xIAAl9d",
        "outputId": "28a52961-79e0-47e8-e553-df5fc9585c34",
        "colab": {
          "base_uri": "https://localhost:8080/"
        }
      },
      "source": [
        "ids = tokenizer.convert_tokens_to_ids(tokens)\n",
        "ids = torch.tensor(ids).reshape(1,-1)  # バッチサイズ1の形に整形\n",
        "predictions = model(ids)[0][0]\n",
        "print(predictions)"
      ],
      "execution_count": 107,
      "outputs": [
        {
          "output_type": "stream",
          "name": "stdout",
          "text": [
            "tensor([[ -6.6169,  -6.6184,  -6.5846,  ...,  -5.8624,  -5.6686,  -3.7055],\n",
            "        [ -9.9890,  -9.9992, -10.0754,  ...,  -9.5736,  -8.6640,  -7.1757],\n",
            "        [ -1.2393,  -1.3488,  -1.7734,  ...,  -1.9904,  -3.6062,  -1.6186],\n",
            "        ...,\n",
            "        [ -0.8096,  -1.0072,  -0.7167,  ...,   0.0812,  -1.4079,   0.1565],\n",
            "        [-12.0386, -11.9543, -12.2466,  ...,  -9.7020, -10.8202,  -7.3316],\n",
            "        [ -9.9204, -10.3186, -10.5684,  ...,  -9.2968,  -9.4447,  -7.2326]],\n",
            "       grad_fn=<SelectBackward0>)\n"
          ]
        }
      ]
    },
    {
      "cell_type": "code",
      "metadata": {
        "id": "pJAOZ3FsAyuO",
        "outputId": "c481625f-a72a-4e71-f6fd-1282397f4d40",
        "colab": {
          "base_uri": "https://localhost:8080/"
        }
      },
      "source": [
        "_, predicted_indexes = torch.topk(predictions[masked_index+1], k=1000)\n",
        "predicted_tokens = tokenizer.convert_ids_to_tokens(predicted_indexes.tolist())\n",
        "# -> ['expensive', 'small', 'priced', 'used', ...\n",
        "print(predicted_tokens)"
      ],
      "execution_count": 88,
      "outputs": [
        {
          "output_type": "stream",
          "name": "stdout",
          "text": [
            "['expensive', 'small', 'priced', 'used', 'unreliable', 'cheap', 'noisy', 'mobile', 'portable', 'slow', 'costly', 'bulky', 'worn', 'outdated', 'poor', 'modified', 'large', 'upgraded', 'designed', 'damaged', 'popular', 'installed', 'available', 'inexpensive', 'robust', 'fragile', 'rugged', 'difficult', 'rare', 'useful', 'sophisticated', 'long', 'reliable', 'successful', 'new', 'produced', 'oversized', 'lightweight', 'defective', 'dull', 'problematic', 'heavy', 'limited', 'fast', 'unnecessary', 'late', 'redesigned', 'durable', 'old', 'bundled', 'updated', 'disabled', 'obsolete', 'purchased', 'competitive', 'functional', 'loaded', 'powered', 'replaced', 'short', 'packaged', 'ineffective', 'equipped', 'weak', 'modern', 'useless', 'customized', 'clumsy', 'unstable', 'sensitive', 'sized', 'responsive', 'ordered', 'low', 'complicated', 'annoying', 'recommended', 'disconnected', 'ignored', 'shipped', 'faulty', 'profitable', 'scarce', 'complex', 'dangerous', 'sold', 'busy', 'inaccurate', 'dated', 'handheld', 'made', 'hard', 'simple', 'brittle', 'vulnerable', 'flexible', 'unpopular', 'built', 'comfortable', 'affordable', 'loud', 'accessible', 'discontinued', 'accurate', 'compliant', 'automated', 'powerful', 'compatible', 'confused', 'secure', 'targeted', 'hot', 'uncomfortable', 'specialized', 'thin', 'unavailable', 'flat', 'affected', 'soft', 'modular', 'downloaded', 'early', 'manufactured', 'incompatible', 'inferior', 'deployed', 'neglected', 'high', 'confusing', 'unusual', 'flawed', 'delayed', 'removed', 'lacking', 'inadequate', 'inaccessible', 'charged', 'different', 'serviced', 'distributed', 'clean', 'abused', 'ugly', 'altered', 'predictable', 'cramped', 'selected', 'similar', 'young', 'aggressive', 'bought', 'fitted', 'electronic', 'desirable', 'curved', 'recalled', 'repetitive', 'disappointing', 'packed', 'changed', 'awkward', 'valuable', 'configured', 'constructed', 'lazy', 'present', 'boring', 'carried', 'dense', 'erratic', 'playable', 'compact', 'crude', 'efficient', 'programmed', 'padded', 'handy', 'stable', 'silent', 'idle', 'unfamiliar', 'purchases', 'cheaper', 'invasive', 'cold', 'easy', 'uncommon', 'ill', 'withdrawn', 'risky', 'unique', 'convenient', 'unsuccessful', 'versatile', 'attractive', 'gamer', 'improved', 'wireless', 'active', 'light', 'advanced', 'plagued', 'bandwidth', 'helpful', 'advertised', 'included', 'eccentric', 'sharp', 'disguised', 'niche', 'unsafe', 'smart', 'marketed', 'plain', 'imported', 'introduced', 'tested', 'stretched', 'lonely', 'strong', '##phobic', 'redundant', 'good', 'shaped', 'primitive', 'common', 'interactive', 'destructive', 'wired', 'criticized', 'unwanted', 'derivative', 'broken', 'quiet', 'utilized', 'tired', 'smaller', 'delivered', 'varied', 'important', 'unauthorized', 'placed', 'jammed', 'engineered', '##hone', 'supported', 'wasted', 'vain', 'bugs', 'unused', 'users', 'luxurious', 'tall', 'required', 'static', 'close', 'simplified', 'developed', 'launched', 'decorated', 'innovative', 'tiny', 'corrupt', 'unsuitable', 'named', 'adapted', 'released', 'tight', 'inappropriate', 'sleek', 'restricted', 'compromised', 'bright', 'current', 'volatile', 'smooth', 'friendly', 'personal', 'tuned', 'twisted', 'irritating', 'full', 'unpredictable', 'chargers', 'quick', 'bland', 'frustrating', 'generic', 'refurbished', 'unlocked', 'isolated', 'enhanced', 'wheeled', 'reduced', 'dilapidated', 'maintained', 'locked', 'harsh', 'handled', 'rejected', 'toxic', 'sweet', 'diverse', 'dark', 'broadband', 'messy', 'motorola', 'spartan', 'enabled', 'cool', 'imperfect', 'labeled', 'practical', 'effective', 'called', 'inflated', 'smartphone', 'unexpected', 'hacked', 'dry', 'motorized', 'widespread', 'chosen', 'unlikely', 'sparse', 'refined', 'timely', 'employed', 'familiar', 'delicate', 'slower', 'ubiquitous', '##kley', 'few', 'restrictive', 'stale', 'discarded', 'lucky', 'sterile', 'wrinkled', 'detailed', 'driven', 'nicknamed', 'intelligent', 'bored', 'stupid', 'free', 'extended', 'quickly', 'remote', 'commonplace', 'demanding', 'hooked', 'rated', 'fixed', 'disappointed', 'basic', 'rich', 'reluctant', 'armored', 'abandoned', 'extravagant', 'hazardous', 'wet', 'conservative', 'special', 'supplied', 'influential', 'variable', 'sturdy', 'frail', 'created', 'connected', 'absent', 'numerous', 'switched', 'cancelled', 'repaired', 'aging', 'bad', 'screwed', 'android', 'controversial', 'flop', 'tame', 'lame', 'needed', 'specific', 'empty', 'hollow', 'cramer', 'fit', 'inconsistent', 'newer', 'lost', 'downloadable', 'thirsty', 'faster', 'rushed', 'consumed', 'lax', 'worthless', 'regulated', 'cost', 'ornate', 'narrow', 'stuck', 'reused', 'stocked', 'mounted', '##charged', 'inserted', 'consumer', 'older', 'archaic', 'inactive', 'abusive', 'dim', 'incomplete', 'sexy', 'user', 'rebranded', 'complete', 'harmful', 'necessary', 'wealthy', 'massive', 'acquired', 'tapped', 'operated', 'naive', 'speedy', 'safe', 'worked', 'electronics', 'software', 'depressed', 'mechanical', 'warm', '##dget', 'polished', 'found', 'assembled', 'folded', 'dumb', 'immature', 'accessed', 'suitable', 'shiny', 'install', 'optimistic', 'stiff', 'modernized', 'beautiful', 'usable', 'activated', 'pressed', 'technical', 'adjusted', 'crowded', 'kerman', 'transparent', 'running', 'attached', 'filled', 'creative', 'commercial', 'classified', 'rigid', 'superior', 'ridden', 'moved', 'stacked', 'ready', 'cautious', 'homemade', 'rough', 'aged', 'failed', 'missed', 'upgrade', 'prevalent', 'integrated', 'stylized', 'bose', 'dedicated', 'battered', 'scratched', 'specialised', 'lengthy', 'run', 'interesting', 'floppy', 'stolen', 'careless', 'overlooked', 'unable', '##market', 'cracked', 'rusty', 'promoted', 'dusty', 'premature', 'fine', 'proprietary', 'eroded', 'intuitive', 'desired', 'upgrades', 'converted', 'valued', 'substituted', 'economical', 'avoided', 'discharged', 'disrupted', 'green', 'impacted', 'weighed', 'critical', 'modifying', 'compressed', 'expanded', 'samsung', 'parked', '##grade', 'technological', 'luxury', 'frequent', 'shipments', 'strapped', 'competing', 'strange', 'resistant', 'moody', 'functionality', 'crafted', '##icient', 'lean', 'changing', 'excessive', 'closed', 'tailored', 'experimental', 'replacing', 'simpler', 'accepted', 'requested', 'price', 'adopted', 'capable', 'complied', 'structured', 'distorted', 'impressive', 'poorly', 'embedded', 'hampered', 'shallow', 'coarse', 'displayed', 'received', 'planned', 'decommissioned', 'pleasant', 'illegal', 'biased', 'viewed', 'focused', 'canceled', 'exotic', 'weighted', 'dirty', 'elaborate', 'elegant', '##orted', 'mature', 'open', 'iphone', 'charging', 'passive', 'oriented', 'intended', 'deteriorated', 'played', 'violent', 'retired', 'precious', 'armed', 'buzzed', 'replace', 'electrical', 'laptop', 'corrupted', 'fielded', 'depleted', 'located', 'exposed', 'sited', 'maintenance', '##rous', 'manual', 'slender', 'monitored', 'noticeable', 'suspicious', 'fired', 'plastic', 'balanced', '##ggy', 'distracting', 'nice', 'hybrid', 'exported', 'inexperienced', 'contaminated', 'hairy', 'issued', 'protected', 'slim', 'big', 'pathetic', 'labelled', 'misleading', 'undeveloped', '##rdi', '##user', 'devices', 'trusted', '##verted', 'susceptible', 'quieter', 'coupled', 'logged', 'written', 'notebook', 'unmanned', 'vibrated', 'insufficient', 'unsigned', 'distinctive', 'pulled', 'power', 'moving', 'revised', 'frustrated', 'misunderstood', 'pricing', 'lethal', 'sleepy', 'virtual', 'excluded', 'hurried', 'agile', 'many', 'standardized', 'discouraged', 'working', 'service', 'dysfunction', 'billing', 'irrelevant', 'kept', 'styled', 'larger', 'often', 'fabricated', 'featured', 'original', 'cummings', 'stored', 'covered', 'installing', 'shielded', 'uneven', 'significant', 'failures', 'aimed', 'borrowed', 'tablet', 'ancient', 'abbreviated', 'mcdonnell', 'cute', '##fy', 'installation', 'brought', 'update', '##eased', 'degraded', 'energetic', 'implemented', 'delicious', 'mechanized', 'set', '##rdy', 'not', 'heavier', 'bypassed', 'spent', 'device', 'completed', 'operating', '2010s', 'huge', 'selective', 'recent', 'performed', 'precise', 'hybrids', 'brief', 'frozen', 'irregular', 'essential', 'updates', 'enchanted', 'selfish', 'increased', 'tome', 'use', 'pets', 'directional', 'tricky', 'transported', 'relaxed', 'multiplayer', 'mechanic', 'opened', 'crashed', 'cosmetic', 'transformed', '##υ', 'elderly', 'offered', 'numbered', '##loaded', 'branded', 'rebuilt', 'pregnant', 'competitors', 'potent', '##ecure', 'treated', 'detected', '##sty', 'lifespan', 'tough', 'using', 'replacement', 'hesitant', 'minimal', 'sneakers', 'unrelated', 'mundane', 'restrained', 'compared', 'omitted', 'satisfied', 'replacements', 'footprint', 'restored', 'ordinary', 'operational', 'armoured', 'predatory', 'added', 'recycled', 'digital', 'modest', 'arrogant', 'reactive', 'consumers', 'impatient', 'disliked', 'criticised', 'truncated', 'anonymous', 'fat', 'lacked', 'opaque', 'faded', 'wide', 'pretty', 'wrong', 'affluent', 'physical', 'scarred', 'false', 'crash', 'favored', 'recruited', 'reissued', 'scanned', 'buy', 'bothered', 'secured', 'secretive', 'curious', 'paid', 'impressed', 'mobility', '##ᅧ', 'independent', 'uses', 'firm', 'spaced', 'tilted', 'gross', 'metallic', 'painful', 'spoiled', 'peripheral', 'handicapped', 'superseded', 'eligible', 'mans', 'scaled', 'influenced', 'apps', 'confined', 'angled', 'hidden', '##mable', 'online', 'battery', 'enthusiast', 'futuristic', 'shy', 'retained', 'augmented', 'localized', 'upgrading', 'keyboard', 'patient', 'professional', 'processed', 'provided', 'convertible', 'signed', 'docked', 'addressed', 'conspicuous', 'finished', 'decorative', 'exclusive', 'torque', 'exploited', 'reserved', 'accessories', '##nostic', 'infected', '##powered', 'their', 'programmers', 'scrubbed', 'distracted', 'appealing', 'dynamic', 'deadly', 'organized', 'today', 'fined', 'sick', 'fragmented', 'constrained', 'shrill', 'erected', 'budget', 'challenging', '##sable', 'assigned', '##dgets', 'healthy', 'talented', 'mhz', 'optional', 'outgoing', 'dependent', 'hip', 'described', 'slippery', 'model', '##mute', 'rotated', 'shortened', 'dropped', 'dismissed', 'dimensional', 'modification', 'renamed', 'ported', 'spicy', 'involved', 'cleaner', 'obscure', 'ineligible', 'religious', 'legal', 'functioning', 'backward', 'bare', 'private', 'ipad', 'connectivity', 'blunt', 'streamlined', 'destroyed', 'loose', 'lacy', 'rolled', 'praised', 'the', 'faithful', '##band', 'trash', 'vague', 'unpleasant', 'dodged', '##tarian', 'cleaned', 'cursed', 'defined', 'impossible', 'served', 'fails', 'impoverished', 'incorrect', 'offensive', 'hummed', 'happy', 'branched', 'visible', 'preferred', 'cycling', 'uncertain', 'radioactive', 'controlled', 'disadvantaged', 'aromatic', '##tica', 'variant', '##ized', 'shelly', 'damned', 'fleeting', 'sealed', 'crooked', 'confiscated', 'overwhelmed', 'terminated', 'flex', 'housed', 'funky', 'foreign', 'nokia', 'prized', 'lighter', 'typical', 'salty', 'without', 'chip', '##placed', 'collected', 'feminine', 'stuffed', 'naughty', 'little', 'flaw', 'published', 'upscale', 'customer', 'detached', 'drawer', 'appointed', 'trivial', 'loyal', 'appropriate', 'adapt', 'dissatisfied', 'boxed', 'aware', 'junk', 'diminished', 'dell', 'limiting', 'engaging', '##ike', 'copying', 'mixed', 'retrieved', 'positioned', '##gent', 'saved', 'pointless', 'invalid', 'hardware', 'regular', 'dwarf', 'protective', 'void']\n"
          ]
        }
      ]
    },
    {
      "cell_type": "code",
      "metadata": {
        "id": "74CckPLHDmrT",
        "outputId": "f066d560-53c6-4429-9e9a-28c5cef9c959",
        "colab": {
          "base_uri": "https://localhost:8080/"
        }
      },
      "source": [
        "for i, v in enumerate(predicted_tokens):\n",
        "    if v in candidate:\n",
        "        print(i, v)\n",
        "        break"
      ],
      "execution_count": 89,
      "outputs": [
        {
          "output_type": "stream",
          "name": "stdout",
          "text": [
            "74 complicated\n"
          ]
        }
      ]
    },
    {
      "cell_type": "markdown",
      "metadata": {
        "id": "YO7K_6PyOZ6x"
      },
      "source": [
        "### 課題\n",
        "ここまでの一連の作業を関数 part5_solver(text, candidate) として実装せよ。\n",
        "\n",
        "ただし、この関数は、問題文(text)、選択肢の単語(candidate)を入力とし、解答となる単語を出力するものとする。"
      ]
    },
    {
      "cell_type": "code",
      "metadata": {
        "id": "Kny1iT_eED6I"
      },
      "source": [
        "def part5_slover(text, candidate):\n",
        "    # ここにプログラムを記述する\n",
        "    return answer"
      ],
      "execution_count": 90,
      "outputs": []
    },
    {
      "cell_type": "markdown",
      "metadata": {
        "id": "P6Hercu2WqfS"
      },
      "source": [
        "### 関数の動作確認（Part 5 練習問題で試してみる）\n",
        "公式サンプル問題 --> https://www.iibc-global.org/toeic/test/lr/about/format/sample05.html"
      ]
    },
    {
      "cell_type": "markdown",
      "source": [
        "第２問〜第５問（問題文：text2〜5、選択肢：candidate2〜5）"
      ],
      "metadata": {
        "id": "XVx135_CfxRO"
      }
    },
    {
      "cell_type": "code",
      "metadata": {
        "id": "ucJl0dG5JgG0"
      },
      "source": [
        "text2 = \"Jamal Nawzad has received top performance reviews [MASK] he joined the sales department two years ago .\"\n",
        "candidate2 = [\"despite\", \"except\", \"since\", \"during\"]\n",
        "text3 = \"Gyeon Corporation’s continuing education policy states that [MASK] learning new skills enhances creativity and focus .\"\n",
        "candidate3 = [\"regular\", \"regularity\", \"regulate\", \"regularly\"]\n",
        "text4 = \"Among [MASK] recognized at the company awards ceremony were senior business analyst Natalie Obi and sales associate Peter Comeau. .\"\n",
        "candidate4 = [\"who\", \"whose\", \"they\", \"those\"]\n",
        "text5 = \"All clothing sold in Develyn’s Boutique is made from natural materials and contains no [MASK] dyes .\"\n",
        "candidate5 = [\"immediate\", \"synthetic\", \"reasonable\", \"assumed\"]"
      ],
      "execution_count": 91,
      "outputs": []
    },
    {
      "cell_type": "markdown",
      "source": [
        "解答の作成"
      ],
      "metadata": {
        "id": "JI6h-_lyf_Pi"
      }
    },
    {
      "cell_type": "code",
      "metadata": {
        "id": "3Q_Vi027EGFL",
        "outputId": "c49e5897-bade-4394-d608-e00b4cff1d5a",
        "colab": {
          "base_uri": "https://localhost:8080/"
        }
      },
      "source": [
        "print(\"answer:\", part5_slover(text2, candidate2))\n",
        "print(\"answer:\", part5_slover(text3, candidate3))\n",
        "print(\"answer:\", part5_slover(text4, candidate4))\n",
        "print(\"answer:\", part5_slover(text5, candidate5))"
      ],
      "execution_count": 92,
      "outputs": [
        {
          "output_type": "stream",
          "name": "stdout",
          "text": [
            "answer: since\n",
            "answer: regularly\n",
            "answer: those\n",
            "answer: synthetic\n"
          ]
        }
      ]
    }
  ]
}