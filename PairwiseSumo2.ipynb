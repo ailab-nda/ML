{
  "cells": [
    {
      "cell_type": "markdown",
      "metadata": {
        "id": "view-in-github",
        "colab_type": "text"
      },
      "source": [
        "<a href=\"https://colab.research.google.com/github/ailab-nda/ML/blob/main/PairwiseSumo2.ipynb\" target=\"_parent\"><img src=\"https://colab.research.google.com/assets/colab-badge.svg\" alt=\"Open In Colab\"/></a>"
      ]
    },
    {
      "cell_type": "markdown",
      "metadata": {
        "id": "Y2WdR3v4CjST"
      },
      "source": [
        "# 強さ判定\n",
        "\n",
        "出典：https://github.com/lucasmaystre/choix/blob/master/notebooks/intro-pairwise.ipynb\n",
        "\n",
        "今日やること：不揃いの対戦結果から、強さのランキングを計算します。--- Bradely-Terry モデル "
      ]
    },
    {
      "cell_type": "markdown",
      "metadata": {
        "id": "PqXzdqCyhU_m"
      },
      "source": [
        "## 準備"
      ]
    },
    {
      "cell_type": "code",
      "execution_count": null,
      "metadata": {
        "id": "hs8cOFxxhXcn"
      },
      "outputs": [],
      "source": [
        "!pip install --trusted-host pypi.org --trusted-host files.pythonhosted.org choix networkx lxml html5lib bs4 japanize-matplotlib pydot\n",
        "#!pip install choix networkx lxml html5lib bs4 japanize-matplotlib"
      ]
    },
    {
      "cell_type": "markdown",
      "metadata": {
        "id": "YZXxtqkyhbT3"
      },
      "source": [
        "# 一対比較による強さ判定\n",
        "\n",
        "ここでは `choix` ライブラリを使います。一対一の対戦結果のデータがあるとします。"
      ]
    },
    {
      "cell_type": "code",
      "execution_count": null,
      "metadata": {
        "id": "6AV1JKHNhcv3"
      },
      "outputs": [],
      "source": [
        "import choix\n",
        "import networkx as nx\n",
        "import numpy as np\n",
        "import matplotlib.pyplot as plt\n",
        "import time\n",
        "%matplotlib inline\n",
        "np.set_printoptions(precision=3, suppress=True)"
      ]
    },
    {
      "cell_type": "markdown",
      "metadata": {
        "id": "drukPBwzhgLf"
      },
      "source": [
        "`choix` では、$n$ 個の要素に $\\{0, \\ldots, n-1 \\}$ の番号を付けます。\n",
        "\"$i$ が $j$ に勝った\" ことを Python のタプル `(i, j)` で表します（左が勝者、右が敗者）。\n",
        "\n",
        "簡単な例で動作確認をしてみます。"
      ]
    },
    {
      "cell_type": "code",
      "execution_count": null,
      "metadata": {
        "id": "tPvGgrtMhgi_"
      },
      "outputs": [],
      "source": [
        "n_items = 5\n",
        "data = [\n",
        "    (1, 0), (0, 4), (3, 1),\n",
        "    (0, 2), (2, 4), (4, 3),\n",
        "]"
      ]
    },
    {
      "cell_type": "markdown",
      "metadata": {
        "id": "vCsiPTyShjAF"
      },
      "source": [
        "このデータをグラフとして可視化します。\n",
        "\n",
        "- 各要素はグラフのノードに対応します。\n",
        "- ノード $i$ からノード $j$ へのリンクは、\"$i$ が $j$ に勝った\"を示します。"
      ]
    },
    {
      "cell_type": "code",
      "execution_count": null,
      "metadata": {
        "id": "jlPaaJ0yhk1z"
      },
      "outputs": [],
      "source": [
        "graph = nx.DiGraph(data)\n",
        "nx.draw(graph, with_labels=True)\n",
        "plt.show()"
      ]
    },
    {
      "cell_type": "markdown",
      "metadata": {
        "id": "DmfmzG0jhpfG"
      },
      "source": [
        "このデータを、 [Bradley-Terry model](https://en.wikipedia.org/wiki/Bradley%E2%80%93Terry_model) によって解析します。\n",
        "`choix` はこのためのアルゴリズムを用意しています。以下では、 I-LSR と呼ばれる最尤推定法を用います。"
      ]
    },
    {
      "cell_type": "code",
      "execution_count": null,
      "metadata": {
        "id": "5Z-LWbWChrSG"
      },
      "outputs": [],
      "source": [
        "params = choix.ilsr_pairwise(n_items, data)\n",
        "print(params)"
      ]
    },
    {
      "cell_type": "markdown",
      "metadata": {
        "id": "cuRwcGrVhtn9"
      },
      "source": [
        "パラメータ (params) は各要素の\"強さ\" (or utility) を表します。パラメータの値でソートすることで、強さのランキングを算出できます。"
      ]
    },
    {
      "cell_type": "code",
      "execution_count": null,
      "metadata": {
        "id": "b0futqlRhwfv"
      },
      "outputs": [],
      "source": [
        "print(\"強さランキング:\", np.argsort( -params ))"
      ]
    },
    {
      "cell_type": "markdown",
      "metadata": {
        "id": "3GE5-_4Ghyab"
      },
      "source": [
        "## スパース性の取り扱い\n",
        "グラフが連結していないと、最尤推定法が使えません。このような状況は、全勝もしは全敗の要素がある時に生じます。以下の例では、$3$ が全勝、$1$ が全敗です。"
      ]
    },
    {
      "cell_type": "code",
      "execution_count": null,
      "metadata": {
        "id": "t2I1Ql8Yh09M"
      },
      "outputs": [],
      "source": [
        "n_items = 4\n",
        "data = [(3, 2), (2, 1), (1, 0)]\n",
        "\n",
        "graph = nx.DiGraph(data)\n",
        "nx.draw(graph, with_labels=True)"
      ]
    },
    {
      "cell_type": "markdown",
      "metadata": {
        "id": "vb0FXguEh27I"
      },
      "source": [
        "このようなケースでは、予測に失敗します。"
      ]
    },
    {
      "cell_type": "code",
      "execution_count": null,
      "metadata": {
        "id": "5NfkS6nSh4nD"
      },
      "outputs": [],
      "source": [
        "choix.ilsr_pairwise(n_items, data)"
      ]
    },
    {
      "cell_type": "markdown",
      "metadata": {
        "id": "rkhLyTG-h65k"
      },
      "source": [
        "この問題は、正規化パラメータの導入により解決できます。"
      ]
    },
    {
      "cell_type": "code",
      "execution_count": null,
      "metadata": {
        "id": "rq-zAxKHiCA_"
      },
      "outputs": [],
      "source": [
        "choix.ilsr_pairwise(n_items, data, alpha=0.01)"
      ]
    },
    {
      "cell_type": "markdown",
      "metadata": {
        "id": "3qFsnllriHjv"
      },
      "source": [
        "# 課題　大相撲で今一番強いのは？\n",
        "\n",
        "先場所の結果から、Bradely-Terry モデルによって現時点での強さランキングを出してみましょう。強さが番付とどれくらい一致しているかを調べましょう。"
      ]
    },
    {
      "cell_type": "code",
      "execution_count": null,
      "metadata": {
        "id": "ituq2r5bmiaG"
      },
      "outputs": [],
      "source": [
        "from bs4 import BeautifulSoup\n",
        "import requests\n",
        "import itertools\n",
        "import choix\n",
        "import networkx as nx\n",
        "import numpy as np\n",
        "import matplotlib.pyplot as plt\n",
        "import time\n",
        "import japanize_matplotlib\n",
        "%matplotlib inline"
      ]
    },
    {
      "cell_type": "markdown",
      "metadata": {
        "id": "OMr872AzmiaG"
      },
      "source": [
        "例えば2022年秋場所の初日を例とすると、"
      ]
    },
    {
      "cell_type": "code",
      "execution_count": null,
      "metadata": {
        "id": "ZqDuDA68miaG"
      },
      "outputs": [],
      "source": [
        "response = requests.get(\"https://sports.yahoo.co.jp/sumo/torikumi/201009/1\", verify=False)\n",
        "html_doc = response.text\n",
        "soup = BeautifulSoup(html_doc, 'html.parser')\n",
        "print(soup.prettify())"
      ]
    },
    {
      "cell_type": "markdown",
      "metadata": {
        "id": "CcKs0zdCmiaG"
      },
      "source": [
        "これを見ると、対戦結果は tr タグの su-scoraTable__row クラスに入っています。さらにその中を見ると、名前は、p タグの su-scoreTable__nameDetail クラスに、勝敗は span タグの aria-label に入っています。"
      ]
    },
    {
      "cell_type": "markdown",
      "metadata": {
        "id": "0UzHZszRmiaG"
      },
      "source": [
        "初日から千秋楽までの分をまとめて取得します。"
      ]
    },
    {
      "cell_type": "code",
      "execution_count": null,
      "metadata": {
        "id": "SB50bNmZmiaG"
      },
      "outputs": [],
      "source": [
        "results = []\n",
        "for i in range(1,16):\n",
        "    print(str(i) + \"日目のデータ取得\")\n",
        "    response = requests.get(\"https://sports.yahoo.co.jp/sumo/torikumi/202209/\"+str(i), verify=False)\n",
        "    html_doc = response.text\n",
        "    soup = BeautifulSoup(html_doc, 'html.parser')\n",
        "    results.append(soup.find_all(\"tr\",{\"class\":\"su-scoreTable__row\"}))\n",
        "    time.sleep(1)\n",
        "results"
      ]
    },
    {
      "cell_type": "code",
      "execution_count": null,
      "metadata": {
        "id": "lWGHRElDmiaG"
      },
      "outputs": [],
      "source": [
        "data = []\n",
        "for tags in results: # １５日分繰り返す\n",
        "    for i in tags: # １日の試合数分繰り返す\n",
        "        names = i.find_all(\"p\", {\"class\":\"su-scoreTable__nameDetail\"})\n",
        "        name1 = names[0].string\n",
        "        name2 = names[1].string\n",
        "        result = i.find_all(\"span\")\n",
        "        if \"勝利\" in str(result[0]):\n",
        "            data.append([name1, name2])\n",
        "        else:\n",
        "            data.append([name2, name1])\n",
        "data"
      ]
    },
    {
      "cell_type": "code",
      "execution_count": null,
      "metadata": {
        "id": "AZt8s5YkmiaH"
      },
      "outputs": [],
      "source": [
        "import matplotlib.pyplot as plt\n",
        "graph = nx.DiGraph(data)\n",
        "pos = nx.spring_layout(graph)\n",
        "nx.draw_networkx(graph, pos, with_labels=True, node_shape=\".\", node_size=30, font_size=8, font_family='Osaka')"
      ]
    },
    {
      "cell_type": "markdown",
      "metadata": {
        "id": "0-9J4DMnmiaH"
      },
      "source": [
        "勝敗リストを平坦化し、重複を取り除くと名前のリストになります。"
      ]
    },
    {
      "cell_type": "code",
      "execution_count": null,
      "metadata": {
        "id": "Ma1tNREvmiaH"
      },
      "outputs": [],
      "source": [
        "names = list(set(itertools.chain.from_iterable(data)))\n",
        "len(names)"
      ]
    },
    {
      "cell_type": "code",
      "execution_count": null,
      "metadata": {
        "id": "rzCjKIGdmiaH"
      },
      "outputs": [],
      "source": [
        "data2 = []\n",
        "for i in data:\n",
        "    #print(names.index(i[0]), \",\", names.index(i[1]))\n",
        "    data2.append([names.index(i[0]), names.index(i[1])])"
      ]
    },
    {
      "cell_type": "code",
      "execution_count": null,
      "metadata": {
        "id": "A8rFY5Z6miaH"
      },
      "outputs": [],
      "source": [
        "params = choix.ilsr_pairwise(len(names), data2, alpha=0.1)\n",
        "params"
      ]
    },
    {
      "cell_type": "code",
      "execution_count": null,
      "metadata": {
        "id": "-4Q2C6JkmiaH"
      },
      "outputs": [],
      "source": [
        "print(\"強さランキング:\", np.argsort( -params ))"
      ]
    },
    {
      "cell_type": "code",
      "execution_count": null,
      "metadata": {
        "id": "bOGkEAdxmiaH"
      },
      "outputs": [],
      "source": [
        "ranking = np.argsort( -params )\n",
        "for i in ranking:\n",
        "    print(names[i])"
      ]
    },
    {
      "cell_type": "code",
      "execution_count": null,
      "metadata": {
        "id": "VxH9K4VRmiaI"
      },
      "outputs": [],
      "source": [
        "graph = nx.DiGraph(data)\n",
        "nx.draw(graph, with_labels=True, font_family='Osaka')"
      ]
    },
    {
      "cell_type": "markdown",
      "metadata": {
        "id": "PbTxVrUvjuP2"
      },
      "source": [
        "## 課題：最強は誰か？\n",
        "時期を決めて最強は誰かを見つけてください（例：2010年代最強、平成最強、令和最強）\n"
      ]
    },
    {
      "cell_type": "code",
      "execution_count": null,
      "metadata": {
        "id": "4tMFinapjxBs"
      },
      "outputs": [],
      "source": []
    }
  ],
  "metadata": {
    "colab": {
      "collapsed_sections": [],
      "provenance": [],
      "include_colab_link": true
    },
    "kernelspec": {
      "display_name": "Python 3.9.7 64-bit ('base')",
      "language": "python",
      "name": "python3"
    },
    "language_info": {
      "codemirror_mode": {
        "name": "ipython",
        "version": 3
      },
      "file_extension": ".py",
      "mimetype": "text/x-python",
      "name": "python",
      "nbconvert_exporter": "python",
      "pygments_lexer": "ipython3",
      "version": "3.9.7"
    },
    "vscode": {
      "interpreter": {
        "hash": "dcf9e2717909001467cf879b1089e6e80dddbfb5060f305c8aadf7a9adff89a8"
      }
    }
  },
  "nbformat": 4,
  "nbformat_minor": 0
}