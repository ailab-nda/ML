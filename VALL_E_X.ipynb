{
  "nbformat": 4,
  "nbformat_minor": 0,
  "metadata": {
    "colab": {
      "provenance": [],
      "gpuType": "T4",
      "authorship_tag": "ABX9TyOCN/KRIy2+CejAYTYnq7F6",
      "include_colab_link": true
    },
    "kernelspec": {
      "name": "python3",
      "display_name": "Python 3"
    },
    "language_info": {
      "name": "python"
    },
    "accelerator": "GPU"
  },
  "cells": [
    {
      "cell_type": "markdown",
      "metadata": {
        "id": "view-in-github",
        "colab_type": "text"
      },
      "source": [
        "<a href=\"https://colab.research.google.com/github/ailab-nda/ML/blob/main/VALL_E_X.ipynb\" target=\"_parent\"><img src=\"https://colab.research.google.com/assets/colab-badge.svg\" alt=\"Open In Colab\"/></a>"
      ]
    },
    {
      "cell_type": "markdown",
      "source": [
        "# VALL_E_X による音声合成\n",
        "\n",
        "参考：https://medium.com/axinc/vall-e-x-%E5%86%8D%E5%AD%A6%E7%BF%92%E4%B8%8D%E8%A6%81%E3%81%A7%E5%A3%B0%E8%B3%AA%E3%82%92%E5%A4%89%E6%9B%B4%E3%81%A7%E3%81%8D%E3%82%8B%E9%9F%B3%E5%A3%B0%E5%90%88%E6%88%90%E3%83%A2%E3%83%87%E3%83%AB-977efc19ac84"
      ],
      "metadata": {
        "id": "Z4Mv0KSLkdqm"
      }
    },
    {
      "cell_type": "markdown",
      "source": [
        "## 従来の音声合成\n",
        "これはこれでちゃんとしている。\n",
        "\n"
      ],
      "metadata": {
        "id": "iJzE-wl_-wOq"
      }
    },
    {
      "cell_type": "code",
      "source": [
        "!pip install gTTs pydub yt-dlp"
      ],
      "metadata": {
        "id": "a585XHLY9jwY"
      },
      "execution_count": null,
      "outputs": []
    },
    {
      "cell_type": "markdown",
      "source": [
        "### テキスト ->  音声"
      ],
      "metadata": {
        "id": "LgfQ6bRt-s2W"
      }
    },
    {
      "cell_type": "code",
      "source": [
        "from gtts import gTTS\n",
        "from IPython.display import Audio\n",
        "\n",
        "message = 'みなさん、こんにちは。私は音声合成で喋っています。'\n",
        "tts = gTTS(message, lang='ja')\n",
        "tts.save('gTTS_test.mp3')\n",
        "Audio('gTTS_test.mp3', autoplay=True)"
      ],
      "metadata": {
        "id": "QTuCfRIW96Oq"
      },
      "execution_count": null,
      "outputs": []
    },
    {
      "cell_type": "markdown",
      "source": [
        "## VALL-E-X のインストール"
      ],
      "metadata": {
        "id": "kVwr5E5_lV_G"
      }
    },
    {
      "cell_type": "code",
      "source": [
        "!git clone https://github.com/Plachtaa/VALL-E-X.git\n",
        "%cd VALL-E-X\n",
        "!pip install -r requirements.txt"
      ],
      "metadata": {
        "id": "GW-wzol66UrY"
      },
      "execution_count": null,
      "outputs": []
    },
    {
      "cell_type": "markdown",
      "source": [
        "### インポート"
      ],
      "metadata": {
        "id": "sitEFPD6lowI"
      }
    },
    {
      "cell_type": "code",
      "source": [
        "from utils.generation import SAMPLE_RATE, generate_audio, preload_models\n",
        "from scipy.io.wavfile import write as write_wav"
      ],
      "metadata": {
        "id": "Umiv13bP6nOY"
      },
      "execution_count": null,
      "outputs": []
    },
    {
      "cell_type": "markdown",
      "source": [
        "### モデルのロード"
      ],
      "metadata": {
        "id": "8nZm_Cfb-8Gm"
      }
    },
    {
      "cell_type": "code",
      "source": [
        "preload_models()"
      ],
      "metadata": {
        "id": "ocEIu4R06s7k"
      },
      "execution_count": null,
      "outputs": []
    },
    {
      "cell_type": "markdown",
      "source": [
        "### 音声合成（英語）"
      ],
      "metadata": {
        "id": "xRYhJahllxGm"
      }
    },
    {
      "cell_type": "code",
      "source": [
        "text_prompt = \"\"\"\n",
        "    This is a pen.\n",
        "\"\"\"\n",
        "audio_array = generate_audio(text_prompt)\n",
        "\n",
        "write_wav(\"/content/english.wav\", SAMPLE_RATE, audio_array)\n",
        "Audio(audio_array, rate=SAMPLE_RATE, autoplay=True)"
      ],
      "metadata": {
        "id": "wnnegz6p_GoG"
      },
      "execution_count": null,
      "outputs": []
    },
    {
      "cell_type": "markdown",
      "source": [
        "### 音声合成（日本語）"
      ],
      "metadata": {
        "id": "OIlLa7BEl6MB"
      }
    },
    {
      "cell_type": "code",
      "source": [
        "text_prompt = \"\"\"\n",
        "    ひきにくでーーす．\n",
        "\"\"\"\n",
        "audio_array = generate_audio(text_prompt)\n",
        "\n",
        "write_wav(\"/content/japanese.wav\", SAMPLE_RATE, audio_array)\n",
        "Audio(audio_array, rate=SAMPLE_RATE, autoplay=True)"
      ],
      "metadata": {
        "id": "YOuj-ke7l8af"
      },
      "execution_count": null,
      "outputs": []
    },
    {
      "cell_type": "markdown",
      "source": [
        "### 音声の選択\n",
        "https://github.com/Plachtaa/VALL-E-X/tree/master/presets"
      ],
      "metadata": {
        "id": "5GVqTBpemmqs"
      }
    },
    {
      "cell_type": "code",
      "source": [
        "text_prompt = \"\"\"\n",
        "    これは cafe モデルでの音声です。\n",
        "\"\"\"\n",
        "\n",
        "audio_array = generate_audio(text_prompt, prompt=\"cafe\")\n",
        "\n",
        "write_wav(\"/content/sample.wav\", SAMPLE_RATE, audio_array)\n",
        "Audio(audio_array, rate=SAMPLE_RATE, autoplay=True)"
      ],
      "metadata": {
        "id": "szusnWvXmv1-"
      },
      "execution_count": null,
      "outputs": []
    },
    {
      "cell_type": "markdown",
      "source": [
        "# 本番：Voice Cloning（音声複製）\n",
        "自分で用意した音声データを使って、同じ声で喋らせます。"
      ],
      "metadata": {
        "id": "3i7clHv8nD7Z"
      }
    },
    {
      "cell_type": "markdown",
      "source": [
        "### 準備：音声の調達\n",
        "youtube から持ってきます。"
      ],
      "metadata": {
        "id": "6iOE2l5SnY4l"
      }
    },
    {
      "cell_type": "code",
      "source": [
        "video_url = 'https://www.youtube.com/watch?v=50kENDkk01U' #@param {type:\"string\"}\n",
        "start_time = 14 #@param {type:\"integer\"}\n",
        "end_time = 20 #@param {type:\"integer\"}"
      ],
      "metadata": {
        "id": "0DZ0vxFYux9m"
      },
      "execution_count": null,
      "outputs": []
    },
    {
      "cell_type": "code",
      "source": [
        "from yt_dlp import YoutubeDL\n",
        "\n",
        "download_resolution = 360\n",
        "input_clip_path = '/content/input_clip.mp4'\n",
        "input_audio_path = '/content/input_clip.wav'\n",
        "\n",
        "def set_download_ranges(info_dict, self):\n",
        "    duration_opt = [{\n",
        "        'start_time': start_time,\n",
        "        'end_time': end_time\n",
        "    }]\n",
        "    return duration_opt\n",
        "\n",
        "# 動画ダウンロード --> input_clip.mp4\n",
        "ydl_opts = {'format': f'best[height<={download_resolution}]', 'overwrites': True, 'outtmpl': input_clip_path, 'download_ranges': set_download_ranges}\n",
        "with YoutubeDL(ydl_opts) as ydl:\n",
        "    ydl.download([video_url])\n",
        "\n",
        "# 音声だけ取り出し --> input_clip.mp3\n",
        "!yes|ffmpeg -i /content/input_clip.mp4 /content/input_clip.wav\n",
        "Audio('input_clip.wav', autoplay=True)"
      ],
      "metadata": {
        "id": "j3wFBxr8neiC"
      },
      "execution_count": null,
      "outputs": []
    },
    {
      "cell_type": "code",
      "source": [
        "from utils.prompt_making import make_prompt\n",
        "\n",
        "# 先ほど生成した音声を使う\n",
        "make_prompt(name=\"sample\", audio_prompt_path=\"/content/input_clip.wav\",\n",
        "                transcript=\"勝手に祭り上げ、勝手に諦め、そして勝手にコンプレックスを抱く。\")\n",
        "\n",
        "text_prompt = \"\"\"\n",
        "    こんにちは。阿部寛です。\n",
        "\"\"\"\n",
        "audio_array = generate_audio(text_prompt, prompt=\"sample\")\n",
        "\n",
        "write_wav(\"/content/sample2.wav\", SAMPLE_RATE, audio_array)\n",
        "Audio(audio_array, rate=SAMPLE_RATE, autoplay=True)"
      ],
      "metadata": {
        "id": "BLCXmf8z7Byn"
      },
      "execution_count": null,
      "outputs": []
    },
    {
      "cell_type": "markdown",
      "source": [
        "## 右クリックでダウンロードできない人用\n",
        "Google Drive に sample2.wav というファイルができるので、それをダウンロードして提出。"
      ],
      "metadata": {
        "id": "PqNvPspN4cFH"
      }
    },
    {
      "cell_type": "code",
      "execution_count": null,
      "metadata": {
        "id": "ZgpqD-656RUh"
      },
      "outputs": [],
      "source": [
        "# Googleドライブのマウント\n",
        "from google.colab import drive\n",
        "drive.mount(\"/content/drive\")\n",
        "!cp /content/sample2.wav /content/drive/MyDrive/sample2.wav"
      ]
    },
    {
      "cell_type": "code",
      "source": [],
      "metadata": {
        "id": "oLojhObL3kGW"
      },
      "execution_count": null,
      "outputs": []
    }
  ]
}