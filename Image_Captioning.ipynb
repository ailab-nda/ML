{
  "nbformat": 4,
  "nbformat_minor": 0,
  "metadata": {
    "colab": {
      "name": "Image_Captioning.ipynb",
      "provenance": [],
      "authorship_tag": "ABX9TyMjaUXHXn+oW24B5fOSIrPc",
      "include_colab_link": true
    },
    "kernelspec": {
      "name": "python3",
      "display_name": "Python 3"
    },
    "language_info": {
      "name": "python"
    },
    "accelerator": "GPU"
  },
  "cells": [
    {
      "cell_type": "markdown",
      "metadata": {
        "id": "view-in-github",
        "colab_type": "text"
      },
      "source": [
        "<a href=\"https://colab.research.google.com/github/ailab-nda/NLP/blob/main/Image_Captioning.ipynb\" target=\"_parent\"><img src=\"https://colab.research.google.com/assets/colab-badge.svg\" alt=\"Open In Colab\"/></a>"
      ]
    },
    {
      "cell_type": "markdown",
      "source": [
        "# Image Captioning"
      ],
      "metadata": {
        "id": "Mzmbv9zj5qfP"
      }
    },
    {
      "cell_type": "markdown",
      "source": [
        "## 1. Clone the repositories\n",
        "\n",
        "元ネタ：\n",
        "https://github.com/yunjey/pytorch-tutorial/tree/master/tutorials/03-advanced/image_captioning\n"
      ],
      "metadata": {
        "id": "piZsIRU-54sb"
      }
    },
    {
      "cell_type": "code",
      "execution_count": null,
      "metadata": {
        "id": "j9wpqnqZ-mOj"
      },
      "outputs": [],
      "source": [
        "!git clone https://github.com/pdollar/coco.git\n",
        "%cd coco/PythonAPI/\n",
        "!make\n",
        "!python setup.py build\n",
        "!python setup.py install\n",
        "%cd ../../\n",
        "!git clone https://github.com/yunjey/pytorch-tutorial.git\n",
        "%cd pytorch-tutorial/tutorials/03-advanced/image_captioning/"
      ]
    },
    {
      "cell_type": "markdown",
      "source": [
        "## 2. Download the dataset"
      ],
      "metadata": {
        "id": "PmtDt-sz597p"
      }
    },
    {
      "cell_type": "code",
      "source": [
        "!pip install -r requirements.txt\n",
        "!chmod +x download.sh\n",
        "!./download.sh"
      ],
      "metadata": {
        "id": "YNrIjpfF-w9g"
      },
      "execution_count": null,
      "outputs": []
    },
    {
      "cell_type": "markdown",
      "source": [
        "## 3. Preprocessing"
      ],
      "metadata": {
        "id": "fqusVhvO6D3o"
      }
    },
    {
      "cell_type": "code",
      "source": [
        "!python build_vocab.py   \n",
        "!python resize.py"
      ],
      "metadata": {
        "id": "OdmEiBVH_ANO"
      },
      "execution_count": null,
      "outputs": []
    },
    {
      "cell_type": "markdown",
      "source": [
        "## 4. Train the model"
      ],
      "metadata": {
        "id": "BHGKLq2B6IH_"
      }
    },
    {
      "cell_type": "code",
      "source": [
        "!python train.py"
      ],
      "metadata": {
        "id": "Quw2uWkZ6HV1"
      },
      "execution_count": null,
      "outputs": []
    },
    {
      "cell_type": "markdown",
      "source": [
        "## 5. Test the model"
      ],
      "metadata": {
        "id": "pT47Fc6i6Vlb"
      }
    },
    {
      "cell_type": "code",
      "source": [
        "!python sample.py --image='png/example.png'"
      ],
      "metadata": {
        "id": "MXjD96oB6US8"
      },
      "execution_count": null,
      "outputs": []
    },
    {
      "cell_type": "markdown",
      "source": [
        "# 課題\n",
        "\n",
        "左のファイルブラウザから、、pytorch-tutorial->tutorials->03-advanecd->image_captioning->png と進み、このフォルダに自分で用意したファイルを置き、キャプション付けをしてみてください。"
      ],
      "metadata": {
        "id": "ZXpybPFp_B3z"
      }
    },
    {
      "cell_type": "code",
      "source": [
        "!python sample.py --image='png/自分が置いたファイル名'"
      ],
      "metadata": {
        "id": "qhNtaZlg_Zj6"
      },
      "execution_count": null,
      "outputs": []
    }
  ]
}