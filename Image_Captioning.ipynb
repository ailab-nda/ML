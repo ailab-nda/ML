{
  "nbformat": 4,
  "nbformat_minor": 0,
  "metadata": {
    "colab": {
      "name": "Image_Captioning.ipynb",
      "provenance": [],
      "authorship_tag": "ABX9TyNmlCvAuhm6QYyoxW0dcqaW",
      "include_colab_link": true
    },
    "kernelspec": {
      "name": "python3",
      "display_name": "Python 3"
    },
    "language_info": {
      "name": "python"
    },
    "accelerator": "GPU"
  },
  "cells": [
    {
      "cell_type": "markdown",
      "metadata": {
        "id": "view-in-github",
        "colab_type": "text"
      },
      "source": [
        "<a href=\"https://colab.research.google.com/github/ailab-nda/NLP/blob/main/Image_Captioning.ipynb\" target=\"_parent\"><img src=\"https://colab.research.google.com/assets/colab-badge.svg\" alt=\"Open In Colab\"/></a>"
      ]
    },
    {
      "cell_type": "markdown",
      "source": [
        "# Image Captioning"
      ],
      "metadata": {
        "id": "Mzmbv9zj5qfP"
      }
    },
    {
      "cell_type": "markdown",
      "source": [
        "## 1. Clone the repositories"
      ],
      "metadata": {
        "id": "piZsIRU-54sb"
      }
    },
    {
      "cell_type": "code",
      "execution_count": null,
      "metadata": {
        "id": "j9wpqnqZ-mOj"
      },
      "outputs": [],
      "source": [
        "!git clone https://github.com/pdollar/coco.git\n",
        "%cd coco/PythonAPI/\n",
        "!make\n",
        "!python setup.py build\n",
        "!python setup.py install\n",
        "%cd ../../\n",
        "!git clone https://github.com/yunjey/pytorch-tutorial.git\n",
        "%cd pytorch-tutorial/tutorials/03-advanced/image_captioning/"
      ]
    },
    {
      "cell_type": "code",
      "source": [
        "!pip install -r requirements.txt"
      ],
      "metadata": {
        "id": "YNrIjpfF-w9g"
      },
      "execution_count": null,
      "outputs": []
    },
    {
      "cell_type": "markdown",
      "source": [
        "## 2.~4. 学習済みデータのアップロード\n",
        "\n",
        "本来は、以下 2. Download the dataset, 3. Preproseccing, 4. Training the model と進むのですが、データが馬鹿でかい（70GB）のと、時間がかかるので、学習が済んだデータをアップロードします。データは学内メールに添付してある\n",
        "\n",
        "*   decoder-5-3000.pkl\n",
        "*   encoder-5-3000.pkl\n",
        "\n",
        "を、左のファイルウィンドウの、pytorch-tutorial->tutorials->03-advanced->image_captioning の中に model というフォルダを作成しその中に設置、\n",
        "\n",
        "*   vocab.pkl\n",
        "\n",
        "を同じ階層に data というフォルダを作成し、その中に設置してください（ドラッグアンドドロップでできます）。"
      ],
      "metadata": {
        "id": "WfMrt5NhEaY4"
      }
    },
    {
      "cell_type": "markdown",
      "source": [
        "## 5. Test the model"
      ],
      "metadata": {
        "id": "pT47Fc6i6Vlb"
      }
    },
    {
      "cell_type": "code",
      "source": [
        "%cd pytorch-tutorial/tutorials/03-advanced/image_captioning/\n",
        "!python sample.py --image='png/example.png'"
      ],
      "metadata": {
        "id": "MXjD96oB6US8"
      },
      "execution_count": null,
      "outputs": []
    },
    {
      "cell_type": "markdown",
      "source": [
        "# 課題\n",
        "\n",
        "左のファイルブラウザから、、pytorch-tutorial->tutorials->03-advanecd->image_captioning->png と進み、このフォルダに自分で用意したファイルを置き、キャプション付けをしてみてください。"
      ],
      "metadata": {
        "id": "ZXpybPFp_B3z"
      }
    },
    {
      "cell_type": "code",
      "source": [
        "!python sample.py --image='png/自分が置いたファイル名'"
      ],
      "metadata": {
        "id": "qhNtaZlg_Zj6"
      },
      "execution_count": null,
      "outputs": []
    },
    {
      "cell_type": "markdown",
      "source": [
        "# 以下、ちゃんとやりたい人用"
      ],
      "metadata": {
        "id": "TCoHjAG3Gwgb"
      }
    },
    {
      "cell_type": "markdown",
      "source": [
        "## 2. Download the dataset"
      ],
      "metadata": {
        "id": "PmtDt-sz597p"
      }
    },
    {
      "cell_type": "code",
      "source": [
        "!chmod +x download.sh\n",
        "!./download.sh"
      ],
      "metadata": {
        "id": "UCt55yWfHLvI"
      },
      "execution_count": null,
      "outputs": []
    },
    {
      "cell_type": "markdown",
      "source": [
        "## 3. Preprocessing"
      ],
      "metadata": {
        "id": "fqusVhvO6D3o"
      }
    },
    {
      "cell_type": "code",
      "source": [
        "!python build_vocab.py   \n",
        "!python resize.py"
      ],
      "metadata": {
        "id": "OdmEiBVH_ANO"
      },
      "execution_count": null,
      "outputs": []
    },
    {
      "cell_type": "markdown",
      "source": [
        "## 4. Train the model"
      ],
      "metadata": {
        "id": "BHGKLq2B6IH_"
      }
    },
    {
      "cell_type": "code",
      "source": [
        "!python train.py"
      ],
      "metadata": {
        "id": "Quw2uWkZ6HV1"
      },
      "execution_count": null,
      "outputs": []
    }
  ]
}