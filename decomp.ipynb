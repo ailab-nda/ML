{
 "cells": [
  {
   "cell_type": "markdown",
   "metadata": {},
   "source": [
    "# 固有値分解・特異値分解の例"
   ]
  },
  {
   "cell_type": "markdown",
   "metadata": {},
   "source": [
    "### ライブラリのインポート"
   ]
  },
  {
   "cell_type": "code",
   "execution_count": null,
   "metadata": {},
   "outputs": [],
   "source": [
    "# linalgモジュールはLAとしてimportする\n",
    "import numpy as np\n",
    "import numpy.linalg as LA"
   ]
  },
  {
   "cell_type": "markdown",
   "metadata": {},
   "source": [
    "### 行列の生成"
   ]
  },
  {
   "cell_type": "code",
   "execution_count": null,
   "metadata": {},
   "outputs": [],
   "source": [
    "#2次正方行列Aを定義する\n",
    "A = np.array([[5, 2],[2, 5]])\n",
    "\n",
    "#非正方行列Aを定義する\n",
    "#A = np.array([[2, 4, 1, 3], [1, 5, 3, 2], [5, 7, 0, 7]])\n",
    "print(A)"
   ]
  },
  {
   "cell_type": "markdown",
   "metadata": {},
   "source": [
    "## 1. 固有値分解"
   ]
  },
  {
   "cell_type": "code",
   "execution_count": null,
   "metadata": {},
   "outputs": [],
   "source": [
    "# 2 次正方行列 Aの固有値、固有ベクトルPを計算する\n",
    "l, P = LA.eig(A)\n",
    "print(\"固有値\")\n",
    "print(l)  # 固有値\n",
    "print(\"固有ベクトル P \")\n",
    "print(P)  # 固有ベクトル(正規化済)\n",
    "\n",
    "#対角行列D、Pの逆行列P-1を定義\n",
    "D = np.array([[l[0],0],[0,l[1]]])\n",
    "Pinv = LA.inv(P)\n",
    "\n",
    "#固有値分解の確認（P＊D＊P-1） 行列Aが算出される\n",
    "print(\"固有値分解 確認 A = P x D x P-1\")\n",
    "\n",
    "print(np.dot(np.dot(P,D),Pinv))"
   ]
  },
  {
   "cell_type": "markdown",
   "metadata": {},
   "source": [
    "## 2. 特異値分解"
   ]
  },
  {
   "cell_type": "code",
   "execution_count": null,
   "metadata": {},
   "outputs": [],
   "source": [
    "# 2 次正方行列 U,Σ,V(転置行列)を求める\n",
    "U, S, Vt = LA.svd(A, full_matrices=False)\n",
    "print(\"左特異値ベクトルを列として並べた２次正方行列 U\")\n",
    "print(U)\n",
    "print(\"特異値以外を0で埋めた２次正方行列 Σ\")\n",
    "Sigma = np.diag(S)\n",
    "print(Sigma)\n",
    "print(\"右特異値ベクトルを列として並べた２次正方行列 V\")\n",
    "print(Vt)\n",
    "\n",
    "#特異値分解の確認（U＊Σ＊Vt） 行列Aが算出される\n",
    "print(\"特異値分解 確認 A = U x Σ x Vt\")\n",
    "print(np.dot(np.dot(U,Sigma),Vt))"
   ]
  },
  {
   "cell_type": "code",
   "execution_count": null,
   "metadata": {},
   "outputs": [],
   "source": []
  }
 ],
 "metadata": {
  "kernelspec": {
   "display_name": "Python 3",
   "language": "python",
   "name": "python3"
  },
  "language_info": {
   "codemirror_mode": {
    "name": "ipython",
    "version": 3
   },
   "file_extension": ".py",
   "mimetype": "text/x-python",
   "name": "python",
   "nbconvert_exporter": "python",
   "pygments_lexer": "ipython3",
   "version": "3.11.5"
  }
 },
 "nbformat": 4,
 "nbformat_minor": 2
}
