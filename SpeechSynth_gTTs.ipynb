{
  "nbformat": 4,
  "nbformat_minor": 0,
  "metadata": {
    "colab": {
      "provenance": [],
      "authorship_tag": "ABX9TyOa5mcMCStQwJcexTFaa9tF",
      "include_colab_link": true
    },
    "kernelspec": {
      "name": "python3",
      "display_name": "Python 3"
    },
    "language_info": {
      "name": "python"
    }
  },
  "cells": [
    {
      "cell_type": "markdown",
      "metadata": {
        "id": "view-in-github",
        "colab_type": "text"
      },
      "source": [
        "<a href=\"https://colab.research.google.com/github/ailab-nda/ML/blob/main/SpeechSynth_gTTs.ipynb\" target=\"_parent\"><img src=\"https://colab.research.google.com/assets/colab-badge.svg\" alt=\"Open In Colab\"/></a>"
      ]
    },
    {
      "cell_type": "markdown",
      "source": [
        "# 音声合成デモ"
      ],
      "metadata": {
        "id": "sGOfffAvpyuk"
      }
    },
    {
      "cell_type": "markdown",
      "source": [
        "## ライブラリのインストール"
      ],
      "metadata": {
        "id": "-YdVyp5dp5MZ"
      }
    },
    {
      "cell_type": "code",
      "source": [
        "!pip install gTTs"
      ],
      "metadata": {
        "id": "tzL2xo1apPLn"
      },
      "execution_count": null,
      "outputs": []
    },
    {
      "cell_type": "markdown",
      "source": [
        "## ライブラリのインポート"
      ],
      "metadata": {
        "id": "TjtJbEHop7E9"
      }
    },
    {
      "cell_type": "code",
      "execution_count": null,
      "metadata": {
        "id": "mN09XSVEpAky"
      },
      "outputs": [],
      "source": [
        "from gtts import gTTS\n",
        "import IPython.display"
      ]
    },
    {
      "cell_type": "markdown",
      "source": [
        "## 音声合成"
      ],
      "metadata": {
        "id": "gWRjrZqhp9r4"
      }
    },
    {
      "cell_type": "markdown",
      "source": [
        "### 合成音声の作成"
      ],
      "metadata": {
        "id": "RPy8EveOqFt8"
      }
    },
    {
      "cell_type": "code",
      "source": [
        "message = \"音声合成のテストです。よろしくお願いします。私の声が聞こえますか？\"\n",
        "tts = gTTS(message, lang='ja') \n",
        "tts.save('gTTS_test.mp3')"
      ],
      "metadata": {
        "id": "lPbwsyi9pG38"
      },
      "execution_count": null,
      "outputs": []
    },
    {
      "cell_type": "markdown",
      "source": [
        "### 再生"
      ],
      "metadata": {
        "id": "B4hsZHayqDVE"
      }
    },
    {
      "cell_type": "code",
      "source": [
        "IPython.display.Audio('gTTS_test.mp3')"
      ],
      "metadata": {
        "id": "hl_xZycKpVd9"
      },
      "execution_count": null,
      "outputs": []
    }
  ]
}