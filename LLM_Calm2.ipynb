{
  "nbformat": 4,
  "nbformat_minor": 0,
  "metadata": {
    "colab": {
      "provenance": [],
      "gpuType": "T4",
      "authorship_tag": "ABX9TyNfhbQmS5lF6w1J9PAFZ0qH",
      "include_colab_link": true
    },
    "kernelspec": {
      "name": "python3",
      "display_name": "Python 3"
    },
    "language_info": {
      "name": "python"
    },
    "accelerator": "GPU"
  },
  "cells": [
    {
      "cell_type": "markdown",
      "metadata": {
        "id": "view-in-github",
        "colab_type": "text"
      },
      "source": [
        "<a href=\"https://colab.research.google.com/github/ailab-nda/ML/blob/main/LLM_Calm2.ipynb\" target=\"_parent\"><img src=\"https://colab.research.google.com/assets/colab-badge.svg\" alt=\"Open In Colab\"/></a>"
      ]
    },
    {
      "cell_type": "markdown",
      "source": [
        "# 大規模言語モデルの実行"
      ],
      "metadata": {
        "id": "yFf2YcXWAOM8"
      }
    },
    {
      "cell_type": "code",
      "source": [
        "from IPython.display import HTML, display\n",
        "\n",
        "def set_css():\n",
        "  display(HTML('''\n",
        "  <style>\n",
        "    pre {\n",
        "        white-space: pre-wrap;\n",
        "    }\n",
        "  </style>\n",
        "  '''))\n",
        "get_ipython().events.register('pre_run_cell', set_css)\n",
        "\n",
        "set_css()"
      ],
      "metadata": {
        "id": "QiU5GIBDAIdC"
      },
      "execution_count": null,
      "outputs": []
    },
    {
      "cell_type": "markdown",
      "source": [
        "## ライブラリのインストール"
      ],
      "metadata": {
        "id": "_6CiKww7BNUY"
      }
    },
    {
      "cell_type": "code",
      "execution_count": null,
      "metadata": {
        "id": "bEwbSrhE77sz"
      },
      "outputs": [],
      "source": [
        "!pip install transformers accelerate"
      ]
    },
    {
      "cell_type": "markdown",
      "source": [
        "## 文章生成"
      ],
      "metadata": {
        "id": "g91n6TADBYja"
      }
    },
    {
      "cell_type": "markdown",
      "source": [
        "### ライブラリのインポート"
      ],
      "metadata": {
        "id": "8QEOaIsVBQLM"
      }
    },
    {
      "cell_type": "code",
      "source": [
        "import torch\n",
        "from transformers import AutoModelForCausalLM, AutoTokenizer\n",
        "\n",
        "model = AutoModelForCausalLM.from_pretrained(\"cyberagent/open-calm-7b\", device_map=\"auto\", torch_dtype=torch.float16)\n",
        "tokenizer = AutoTokenizer.from_pretrained(\"cyberagent/open-calm-7b\")"
      ],
      "metadata": {
        "id": "REBLPsJA7-UT"
      },
      "execution_count": null,
      "outputs": []
    },
    {
      "cell_type": "markdown",
      "source": [
        "### 実行"
      ],
      "metadata": {
        "id": "ig-hd36_Efn7"
      }
    },
    {
      "cell_type": "code",
      "source": [
        "inputs = tokenizer(\"AIによって私達の暮らしは、\", return_tensors=\"pt\").to(model.device)\n",
        "with torch.no_grad():\n",
        "    tokens = model.generate(\n",
        "        **inputs,\n",
        "        max_new_tokens=64,\n",
        "        do_sample=True,\n",
        "        temperature=0.7,\n",
        "        top_p=0.9,\n",
        "        repetition_penalty=1.05,\n",
        "        pad_token_id=tokenizer.pad_token_id,\n",
        "    )\n",
        "\n",
        "output = tokenizer.decode(tokens[0], skip_special_tokens=True)\n",
        "print(output)"
      ],
      "metadata": {
        "id": "zzMM8gOy8Hib"
      },
      "execution_count": null,
      "outputs": []
    },
    {
      "cell_type": "markdown",
      "source": [
        "## 質疑応答"
      ],
      "metadata": {
        "id": "jJEwv6wiBf6Q"
      }
    },
    {
      "cell_type": "markdown",
      "source": [
        "### ライブラリのインポート"
      ],
      "metadata": {
        "id": "fRIUTJK3Ehk8"
      }
    },
    {
      "cell_type": "code",
      "source": [
        "import transformers\n",
        "from transformers import AutoModelForCausalLM, AutoTokenizer, TextStreamer\n",
        "\n",
        "assert transformers.__version__ >= \"4.34.1\"\n",
        "\n",
        "model = AutoModelForCausalLM.from_pretrained(\"cyberagent/calm2-7b-chat\", device_map=\"auto\", torch_dtype=\"auto\")\n",
        "tokenizer = AutoTokenizer.from_pretrained(\"cyberagent/calm2-7b-chat\")\n",
        "streamer = TextStreamer(tokenizer, skip_prompt=True, skip_special_tokens=True)"
      ],
      "metadata": {
        "id": "dp9SH3UhESvs"
      },
      "execution_count": null,
      "outputs": []
    },
    {
      "cell_type": "markdown",
      "source": [
        "### 実行"
      ],
      "metadata": {
        "id": "3-xd1szLElmz"
      }
    },
    {
      "cell_type": "code",
      "source": [
        "prompt = \"\"\"USER: AIによって私達の暮らしはどのように変わりますか？\n",
        "ASSISTANT: \"\"\"\n",
        "\n",
        "token_ids = tokenizer.encode(prompt, return_tensors=\"pt\")\n",
        "output_ids = model.generate(\n",
        "    input_ids=token_ids.to(model.device),\n",
        "    max_new_tokens=300,\n",
        "    do_sample=True,\n",
        "    temperature=0.8,\n",
        "    streamer=streamer,\n",
        ")\n"
      ],
      "metadata": {
        "id": "fBg58zoDEWpM"
      },
      "execution_count": null,
      "outputs": []
    },
    {
      "cell_type": "code",
      "source": [],
      "metadata": {
        "id": "JzXaAzv7K1q-"
      },
      "execution_count": null,
      "outputs": []
    }
  ]
}