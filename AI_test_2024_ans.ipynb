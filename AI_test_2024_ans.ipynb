{
  "cells": [
    {
      "cell_type": "markdown",
      "metadata": {
        "id": "view-in-github",
        "colab_type": "text"
      },
      "source": [
        "<a href=\"https://colab.research.google.com/github/ailab-nda/ML/blob/main/AI_test_2024_ans.ipynb\" target=\"_parent\"><img src=\"https://colab.research.google.com/assets/colab-badge.svg\" alt=\"Open In Colab\"/></a>"
      ]
    },
    {
      "cell_type": "markdown",
      "id": "f551b57d",
      "metadata": {
        "id": "f551b57d"
      },
      "source": [
        "# 人工知能試験問題 2024"
      ]
    },
    {
      "cell_type": "markdown",
      "id": "aa6e5eeb",
      "metadata": {
        "id": "aa6e5eeb"
      },
      "source": [
        "解答は本ノートに直接記述の上、出来上がったファイルをダウンロードして提出すること。\n",
        "（解答欄はクリックすると書き込めます）"
      ]
    },
    {
      "cell_type": "markdown",
      "id": "95389136",
      "metadata": {
        "id": "95389136"
      },
      "source": [
        "### 使用するライブラリのインストール"
      ]
    },
    {
      "cell_type": "code",
      "execution_count": null,
      "id": "5a4260f6",
      "metadata": {
        "id": "5a4260f6"
      },
      "outputs": [],
      "source": [
        "import numpy as np"
      ]
    },
    {
      "cell_type": "markdown",
      "id": "b195d2a7",
      "metadata": {
        "id": "b195d2a7"
      },
      "source": [
        "## 1. Python 基礎知識"
      ]
    },
    {
      "cell_type": "markdown",
      "source": [
        "(1) Python における「タプル」、「辞書」、「集合」について、それぞれがどのようなものかを、リストとの違いを中心に説明しなさい。"
      ],
      "metadata": {
        "id": "UN4vgdvEWty1"
      },
      "id": "UN4vgdvEWty1"
    },
    {
      "cell_type": "markdown",
      "source": [
        "解答欄（ダブルクリックすると書き込めます）"
      ],
      "metadata": {
        "id": "qqP3DEaVXCUx"
      },
      "id": "qqP3DEaVXCUx"
    },
    {
      "cell_type": "markdown",
      "source": [
        "(2) ２つの文章について、共通する単語の数を、どちらかに入っている単語の数で割ることで、どの程度似ているかを計算することができる。この手続きを関数として表現せよ。ただし、単語の重複は考慮しない（何回出てきても１回とみなす）とする。"
      ],
      "metadata": {
        "id": "XZIWAK-xXHMs"
      },
      "id": "XZIWAK-xXHMs"
    },
    {
      "cell_type": "code",
      "execution_count": null,
      "id": "e3b3e4f9",
      "metadata": {
        "id": "e3b3e4f9"
      },
      "outputs": [],
      "source": [
        "# 解答欄\n",
        "def similarity(x, y):\n",
        "    # 以下に処理を書く。\n",
        "    xx = x.split()\n",
        "    yy = y.split()\n",
        "    a = set(xx)\n",
        "    b = set(yy)\n",
        "    result = len(set.intersection(a,b))/len(set.union(a,b))\n",
        "    return result\n",
        "\n",
        "print(similarity(\"This is a pen\", \"That is a girl\"))\n",
        "print(similarity(\"This is a pen\", \"How are you doing\"))\n"
      ]
    },
    {
      "cell_type": "markdown",
      "source": [
        "(3) すべての要素が 0 である 10x10 の行列を作成し、A という変数に代入せよ。"
      ],
      "metadata": {
        "id": "5tFqcMw1bWPw"
      },
      "id": "5tFqcMw1bWPw"
    },
    {
      "cell_type": "code",
      "source": [
        "# 解答欄\n",
        "A = np.zeros((10,10))\n",
        "print(A)"
      ],
      "metadata": {
        "id": "r0k1xi5Rbo9k"
      },
      "id": "r0k1xi5Rbo9k",
      "execution_count": null,
      "outputs": []
    },
    {
      "cell_type": "markdown",
      "source": [
        "(4) n x n の行列 のうちランダムに m 箇所を選び、その値を 1 に置き換える関数 replace(n, m) を作成せよ。"
      ],
      "metadata": {
        "id": "NSYNKHFObqYy"
      },
      "id": "NSYNKHFObqYy"
    },
    {
      "cell_type": "code",
      "source": [
        "# 解答欄\n",
        "def replace(n, m):\n",
        "    Z = np.zeros((n,n))\n",
        "    np.put(Z, np.random.choice(range(n*n), m, replace=False),1)\n",
        "    return Z\n",
        "\n",
        "replace(4, 1)"
      ],
      "metadata": {
        "id": "wwaFC-Dob80e"
      },
      "id": "wwaFC-Dob80e",
      "execution_count": null,
      "outputs": []
    },
    {
      "cell_type": "markdown",
      "id": "ac79a54f",
      "metadata": {
        "id": "ac79a54f"
      },
      "source": [
        "## 2. 機械学習の理論"
      ]
    },
    {
      "cell_type": "markdown",
      "id": "ac0ee8c9",
      "metadata": {
        "id": "ac0ee8c9"
      },
      "source": [
        "サポートベクターマシンに関する以下の問いに答えよ。\n",
        "\n",
        "数式の書き方はこちら→ https://qiita.com/namoshika/items/63db972bfd1030f8264a"
      ]
    },
    {
      "cell_type": "markdown",
      "source": [
        "(1) サポートベクターマシンの特徴に「マージン最大化」と「カーネル法」がある。この２つの言葉についてそれぞれ説明せよ。"
      ],
      "metadata": {
        "id": "orA-G1CRjRJA"
      },
      "id": "orA-G1CRjRJA"
    },
    {
      "cell_type": "markdown",
      "source": [
        "解答欄："
      ],
      "metadata": {
        "id": "c6WmCg_KjQvw"
      },
      "id": "c6WmCg_KjQvw"
    },
    {
      "cell_type": "markdown",
      "id": "cdf6229a",
      "metadata": {
        "id": "cdf6229a"
      },
      "source": [
        "(2) $\\boldsymbol{x}$ = ($x_1$, $x_2$, $x_3$) としたときに、\n",
        "$$\n",
        "k = (\\boldsymbol{x}, \\boldsymbol{x'}) = (\\boldsymbol{x}^T \\boldsymbol{x'} + 2)^3\n",
        "$$\n",
        "とする。このカーネルにより、問題空間は何次元に高次元化されるか？計算結果とともに答えよ。"
      ]
    },
    {
      "cell_type": "markdown",
      "id": "4090a60c",
      "metadata": {
        "id": "4090a60c"
      },
      "source": [
        "解答欄："
      ]
    },
    {
      "cell_type": "markdown",
      "id": "d61fed67",
      "metadata": {
        "id": "d61fed67"
      },
      "source": [
        "(3) $xyz = C$ （Cは定数）という条件のもとで $f(x, y, z) = x + y + z$ を最小化したい。$L(x, y, z, \\lambda) = f(x) + \\lambda (xyz - C)$ とし、$f$ の最小値を求めよ。"
      ]
    },
    {
      "cell_type": "markdown",
      "id": "f34da61a",
      "metadata": {
        "id": "f34da61a"
      },
      "source": [
        "解答欄：\n"
      ]
    },
    {
      "cell_type": "markdown",
      "id": "49c164da",
      "metadata": {
        "id": "49c164da"
      },
      "source": [
        "# 3. 機械学習実践\n",
        "### ベイジアンネットワーク（chap4.pdf 参照）"
      ]
    },
    {
      "cell_type": "code",
      "execution_count": null,
      "id": "f0c83733",
      "metadata": {
        "id": "f0c83733"
      },
      "outputs": [],
      "source": [
        "!pip install -U pgmpy"
      ]
    },
    {
      "cell_type": "markdown",
      "id": "eeeb5de5",
      "metadata": {
        "id": "eeeb5de5"
      },
      "source": [
        "ライブラリのインポート"
      ]
    },
    {
      "cell_type": "code",
      "source": [
        "from pgmpy.models import BayesianModel\n",
        "from pgmpy.models import BayesianNetwork\n",
        "from pgmpy.factors.discrete import TabularCPD\n",
        "from pgmpy.inference import VariableElimination\n",
        "from pgmpy.estimators import HillClimbSearch, BayesianEstimator"
      ],
      "metadata": {
        "id": "pYtWSx_Tb_HZ"
      },
      "id": "pYtWSx_Tb_HZ",
      "execution_count": null,
      "outputs": []
    },
    {
      "cell_type": "markdown",
      "id": "51e95a51",
      "metadata": {
        "id": "51e95a51"
      },
      "source": [
        "地頭の良さ(Intel (I))、ある科目の試験の難しさ(Diff (D))、ある科目の成績(Grade (G))、センター試験の成績(SAT (S))、および内申点 (Letter (L)) の間に以下の関係があるとする。\n",
        "\n"
      ]
    },
    {
      "cell_type": "code",
      "source": [
        "from IPython.display import Image\n",
        "Image('https://pgmpy.org/_images/detailed_notebooks_2._Bayesian_Networks_4_0.png')"
      ],
      "metadata": {
        "id": "-tc0d9wbsp7o"
      },
      "id": "-tc0d9wbsp7o",
      "execution_count": null,
      "outputs": []
    },
    {
      "cell_type": "markdown",
      "source": [
        "(1) 上の図から、P(D, I, G, L, S) を求めよ。"
      ],
      "metadata": {
        "id": "nDFVcZvDuYoH"
      },
      "id": "nDFVcZvDuYoH"
    },
    {
      "cell_type": "markdown",
      "source": [
        "解答欄：$ P(D, I, G, L, S) = $"
      ],
      "metadata": {
        "id": "ZPlF2DAZulAa"
      },
      "id": "ZPlF2DAZulAa"
    },
    {
      "cell_type": "markdown",
      "source": [
        "これらの関係をベイジアンネットワークとして入力する。"
      ],
      "metadata": {
        "id": "rrNSUa4vs3jm"
      },
      "id": "rrNSUa4vs3jm"
    },
    {
      "cell_type": "code",
      "execution_count": null,
      "id": "9c475c05",
      "metadata": {
        "id": "9c475c05"
      },
      "outputs": [],
      "source": [
        "model = BayesianModel([('D', 'G'), ('I', 'G'), ('G', 'L'), ('I', 'S')])\n",
        "\n",
        "cpd_d_sn = TabularCPD(variable='D', variable_card=2, values=[[0.6], [0.4]], state_names={'D': ['Easy', 'Hard']})\n",
        "cpd_i_sn = TabularCPD(variable='I', variable_card=2, values=[[0.7], [0.3]], state_names={'I': ['Dumb', 'Intelligent']})\n",
        "cpd_g_sn = TabularCPD(variable='G', variable_card=3,\n",
        "                      values=[[0.3, 0.05, 0.9,  0.5],\n",
        "                              [0.4, 0.25, 0.08, 0.3],\n",
        "                              [0.3, 0.7,  0.02, 0.2]],\n",
        "                      evidence=['I', 'D'],\n",
        "                      evidence_card=[2, 2],\n",
        "                      state_names={'G': ['A', 'B', 'C'],\n",
        "                                   'I': ['Dumb', 'Intelligent'],\n",
        "                                   'D': ['Easy', 'Hard']})\n",
        "\n",
        "cpd_l_sn = TabularCPD(variable='L', variable_card=2,\n",
        "                      values=[[0.1, 0.4, 0.99],\n",
        "                              [0.9, 0.6, 0.01]],\n",
        "                      evidence=['G'],\n",
        "                      evidence_card=[3],\n",
        "                      state_names={'L': ['Bad', 'Good'],\n",
        "                                   'G': ['A', 'B', 'C']})\n",
        "\n",
        "cpd_s_sn = TabularCPD(variable='S', variable_card=2,\n",
        "                      values=[[0.95, 0.2],\n",
        "                              [0.05, 0.8]],\n",
        "                      evidence=['I'],\n",
        "                      evidence_card=[2],\n",
        "                      state_names={'S': ['Bad', 'Good'],\n",
        "                                   'I': ['Dumb', 'Intelligent']})\n",
        "\n",
        "# These defined CPDs can be added to the model. Since, the model already has CPDs associated to variables, it will\n",
        "# show warning that pmgpy is now replacing those CPDs with the new ones.\n",
        "model.add_cpds(cpd_d_sn, cpd_i_sn, cpd_g_sn, cpd_l_sn, cpd_s_sn)\n",
        "model.check_model()"
      ]
    },
    {
      "cell_type": "markdown",
      "source": [
        "ある条件におけるある変数の確率は infer.query() 関数による求めることができる。"
      ],
      "metadata": {
        "id": "uuLP5Nltyfci"
      },
      "id": "uuLP5Nltyfci"
    },
    {
      "cell_type": "markdown",
      "id": "d5e528cc",
      "metadata": {
        "id": "d5e528cc"
      },
      "source": [
        "(2) 何も条件が仮定されない場合に、ある科目の成績の確率 P(G) を計算によって求めよ。"
      ]
    },
    {
      "cell_type": "code",
      "execution_count": null,
      "id": "8aefa851",
      "metadata": {
        "id": "8aefa851"
      },
      "outputs": [],
      "source": [
        "infer = VariableElimination(model)\n",
        "g_dist = infer.query(['G'])\n",
        "print(g_dist)"
      ]
    },
    {
      "cell_type": "markdown",
      "source": [
        "(3) 地頭がよく、ある科目の試験が難しかった場合の、ある科目の成績の確率 P(G| D='Easy', I='Intelligent')を計算によって求めよ。"
      ],
      "metadata": {
        "id": "lRNL2aURvjfZ"
      },
      "id": "lRNL2aURvjfZ"
    },
    {
      "cell_type": "code",
      "source": [
        "print(infer.query(['G'], evidence={'D': 'Hard', 'I': 'Intelligent'}))"
      ],
      "metadata": {
        "id": "OEeKMoGvwTvV"
      },
      "id": "OEeKMoGvwTvV",
      "execution_count": null,
      "outputs": []
    },
    {
      "cell_type": "markdown",
      "source": [
        "(4) 自分で条件を設定し、何らかの確率を計算によって求めよ。"
      ],
      "metadata": {
        "id": "-USxH5_MzcMa"
      },
      "id": "-USxH5_MzcMa"
    },
    {
      "cell_type": "code",
      "source": [
        "# ここに確率の式を書いてからプロググラムを書いてください。"
      ],
      "metadata": {
        "id": "TI-PI4XL0K7P"
      },
      "id": "TI-PI4XL0K7P",
      "execution_count": null,
      "outputs": []
    },
    {
      "cell_type": "markdown",
      "id": "2e54fb75",
      "metadata": {
        "id": "2e54fb75"
      },
      "source": [
        "## 4. 本講義に関するコメント\n",
        "感想、苦情、なぜこの科目の単位が必要なのか、等"
      ]
    },
    {
      "cell_type": "markdown",
      "id": "a59f0a38",
      "metadata": {
        "id": "a59f0a38"
      },
      "source": [
        "解答欄："
      ]
    }
  ],
  "metadata": {
    "kernelspec": {
      "display_name": "Python 3",
      "language": "python",
      "name": "python3"
    },
    "language_info": {
      "codemirror_mode": {
        "name": "ipython",
        "version": 3
      },
      "file_extension": ".py",
      "mimetype": "text/x-python",
      "name": "python",
      "nbconvert_exporter": "python",
      "pygments_lexer": "ipython3",
      "version": "3.11.5"
    },
    "colab": {
      "provenance": [],
      "include_colab_link": true
    }
  },
  "nbformat": 4,
  "nbformat_minor": 5
}