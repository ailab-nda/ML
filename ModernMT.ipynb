{
  "nbformat": 4,
  "nbformat_minor": 0,
  "metadata": {
    "accelerator": "TPU",
    "colab": {
      "name": "ModernMT.ipynb",
      "provenance": [],
      "collapsed_sections": [],
      "include_colab_link": true
    },
    "kernelspec": {
      "display_name": "Python 3",
      "name": "python3"
    },
    "language_info": {
      "name": "python"
    }
  },
  "cells": [
    {
      "cell_type": "markdown",
      "metadata": {
        "id": "view-in-github",
        "colab_type": "text"
      },
      "source": [
        "<a href=\"https://colab.research.google.com/github/ailab-nda/NLP/blob/main/ModernMT.ipynb\" target=\"_parent\"><img src=\"https://colab.research.google.com/assets/colab-badge.svg\" alt=\"Open In Colab\"/></a>"
      ]
    },
    {
      "cell_type": "markdown",
      "metadata": {
        "id": "CgogkpWJya5V"
      },
      "source": [
        "# ModernMT による翻訳"
      ]
    },
    {
      "cell_type": "markdown",
      "metadata": {
        "id": "OBMKc2GxyShx"
      },
      "source": [
        "## (1) 準備"
      ]
    },
    {
      "cell_type": "markdown",
      "metadata": {
        "id": "-hFQwhEJyWWk"
      },
      "source": [
        "- Java のインストール"
      ]
    },
    {
      "cell_type": "code",
      "metadata": {
        "id": "xX_vW-w6yAnd"
      },
      "source": [
        "!apt install -y openjdk-8-jdk python3 python3-pip\n",
        "!update-alternatives --set java /usr/lib/jvm/java-8-openjdk-amd64/jre/bin/java\n",
        "!java -version"
      ],
      "execution_count": null,
      "outputs": []
    },
    {
      "cell_type": "markdown",
      "metadata": {
        "id": "0Eig5s6FdKEb"
      },
      "source": [
        "- ModernMT のインストール"
      ]
    },
    {
      "cell_type": "code",
      "metadata": {
        "id": "Ie76lZEdI6og"
      },
      "source": [
        "!wget https://github.com/modernmt/modernmt/releases/download/v4.5.4/mmt-4.5.4-ubuntu.tar.gz\n",
        "!tar xfz mmt-4.5.4-ubuntu.tar.gz\n",
        "!cd mmt; pip3 install -r requirements.txt"
      ],
      "execution_count": null,
      "outputs": []
    },
    {
      "cell_type": "markdown",
      "metadata": {
        "id": "-k5P1mNTdRJS"
      },
      "source": [
        "- コーパスのインストール"
      ]
    },
    {
      "cell_type": "code",
      "metadata": {
        "id": "vHTAJtC1dUiY"
      },
      "source": [
        "!wget http://www.phontron.com/kftt/download/kftt-data-1.0.tar.gz\n",
        "!tar xzf kftt-data-1.0.tar.gz\n",
        "!mkdir -p mmt/examples/kftt/train\n",
        "!cp kftt-data-1.0/data/orig/kyoto-train.* mmt/examples/kftt/train"
      ],
      "execution_count": null,
      "outputs": []
    },
    {
      "cell_type": "markdown",
      "metadata": {
        "id": "VIhnN6KxqTnx"
      },
      "source": [
        "## (2) 実習"
      ]
    },
    {
      "cell_type": "markdown",
      "metadata": {
        "id": "e5DvyoVHqXRG"
      },
      "source": [
        "- 翻訳機の訓練"
      ]
    },
    {
      "cell_type": "code",
      "metadata": {
        "id": "RwT0KPmH01r9"
      },
      "source": [
        "!mmt/mmt create ja en -e mmt_ja-en mmt/examples/kftt/train --train-steps 1000"
      ],
      "execution_count": null,
      "outputs": []
    },
    {
      "cell_type": "code",
      "metadata": {
        "id": "8adEXqLE7Ldp"
      },
      "source": [
        "# さらに訓練される場合\n",
        "#!mmt/mmt create ja en -e mmt_ja-en mmt/corpus/ --train-steps 30000 --resume"
      ],
      "execution_count": null,
      "outputs": []
    },
    {
      "cell_type": "markdown",
      "metadata": {
        "id": "aeijaLoYqaAV"
      },
      "source": [
        "- 翻訳サーバの起動"
      ]
    },
    {
      "cell_type": "code",
      "metadata": {
        "id": "TlpaBXlnIJSv"
      },
      "source": [
        "!mmt/mmt start -e mmt_ja-en &"
      ],
      "execution_count": null,
      "outputs": []
    },
    {
      "cell_type": "markdown",
      "metadata": {
        "id": "u8J52VBdqgud"
      },
      "source": [
        "- 翻訳例"
      ]
    },
    {
      "cell_type": "code",
      "metadata": {
        "id": "mCkB5VG_UBzL"
      },
      "source": [
        "!mmt/mmt translate -e mmt_ja-en \"江戸時代には町人が昼間から酒を飲んでいた。\""
      ],
      "execution_count": null,
      "outputs": []
    },
    {
      "cell_type": "markdown",
      "metadata": {
        "id": "qebREJVmqk5k"
      },
      "source": [
        "- 評価"
      ]
    },
    {
      "cell_type": "code",
      "metadata": {
        "id": "bHvesYc2grnJ"
      },
      "source": [
        "!mmt/mmt evaluate -e mmt_ja-en"
      ],
      "execution_count": null,
      "outputs": []
    }
  ]
}