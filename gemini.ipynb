{
  "cells": [
    {
      "cell_type": "markdown",
      "metadata": {
        "id": "view-in-github",
        "colab_type": "text"
      },
      "source": [
        "<a href=\"https://colab.research.google.com/github/ailab-nda/ML/blob/main/gemini.ipynb\" target=\"_parent\"><img src=\"https://colab.research.google.com/assets/colab-badge.svg\" alt=\"Open In Colab\"/></a>"
      ]
    },
    {
      "cell_type": "markdown",
      "metadata": {
        "id": "Tce3stUlHN0L"
      },
      "source": [
        "# Gemini API の使い方\n",
        "\n",
        "元ネタ：https://ai.google.dev/gemini-api/docs/get-started/tutorial?hl=ja&lang=python"
      ]
    },
    {
      "cell_type": "markdown",
      "metadata": {
        "id": "FFPBKLapSCkM"
      },
      "source": [
        "## 準備"
      ]
    },
    {
      "cell_type": "markdown",
      "metadata": {
        "id": "wFNV1e3ASJha"
      },
      "source": [
        "### Python SDKのインストール\n",
        "\n",
        "[`google-generativeai`](https://pypi.org/project/google-generativeai/) パッケージをインストールする。"
      ]
    },
    {
      "cell_type": "code",
      "execution_count": null,
      "metadata": {
        "id": "9OEoeosRTv-5"
      },
      "outputs": [],
      "source": [
        "!pip install -q -U google-generativeai"
      ]
    },
    {
      "cell_type": "markdown",
      "metadata": {
        "id": "KCFF5VSTbcAR"
      },
      "source": [
        "### パッケージのインポート\n",
        "\n"
      ]
    },
    {
      "cell_type": "code",
      "execution_count": null,
      "metadata": {
        "id": "TS9l5igubpHO"
      },
      "outputs": [],
      "source": [
        "import pathlib\n",
        "import textwrap\n",
        "\n",
        "import google.generativeai as genai\n",
        "\n",
        "from IPython.display import display\n",
        "from IPython.display import Markdown\n",
        "\n",
        "\n",
        "def to_markdown(text):\n",
        "    text = text.replace(\"•\", \"  *\")\n",
        "    return Markdown(textwrap.indent(text, \"> \", predicate=lambda _: True))"
      ]
    },
    {
      "cell_type": "code",
      "execution_count": null,
      "metadata": {
        "id": "d10c38a5c91f"
      },
      "outputs": [],
      "source": [
        "# Used to securely store your API key\n",
        "from google.colab import userdata"
      ]
    },
    {
      "cell_type": "markdown",
      "metadata": {
        "id": "gHYFrFPjSGNq"
      },
      "source": [
        "### API keyのセットアップ\n",
        "\n",
        "始める前に、API Key が必要です。以下のリンクから入手すること。\n",
        "\n",
        "<a class=\"button button-primary\" href=\"https://makersuite.google.com/app/apikey\" target=\"_blank\" rel=\"noopener noreferrer\">Get an API key</a>\n"
      ]
    },
    {
      "cell_type": "markdown",
      "metadata": {
        "id": "tHhsUxDTdw0W"
      },
      "source": [
        "左のパネルの \"🔑\" をクリックし、`GEMINI_API_KEY`を作成し、入手した API Key を登録する。"
      ]
    },
    {
      "cell_type": "code",
      "execution_count": null,
      "metadata": {
        "id": "ab9ASynfcIZn"
      },
      "outputs": [],
      "source": [
        "# Or use `os.getenv('GEMINI_API_KEY')` to fetch an environment variable.\n",
        "GEMINI_API_KEY = userdata.get(\"GEMINI_API_KEY\")\n",
        "genai.configure(api_key=GEMINI_API_KEY)"
      ]
    },
    {
      "cell_type": "markdown",
      "metadata": {
        "id": "8ssbTMNVSMd-"
      },
      "source": [
        "## モデルのリスト\n",
        "\n",
        "利用可能な言語モデルの一覧が `list_models` で得られる。（2025年2月現在、Genmini-2.0 が最新）"
      ]
    },
    {
      "cell_type": "code",
      "execution_count": null,
      "metadata": {
        "id": "QvvWFy08e5c5"
      },
      "outputs": [],
      "source": [
        "for m in genai.list_models():\n",
        "    if \"generateContent\" in m.supported_generation_methods:\n",
        "        print(m.name)"
      ]
    },
    {
      "cell_type": "markdown",
      "metadata": {
        "id": "FTl5NjtrhA0J"
      },
      "source": [
        "注：APIは、１分間に15回までの利用が可能。"
      ]
    },
    {
      "cell_type": "markdown",
      "metadata": {
        "id": "LZfoK3I3hu6V"
      },
      "source": [
        "## テキストの生成\n",
        "\n",
        "モデルの選択："
      ]
    },
    {
      "cell_type": "code",
      "execution_count": null,
      "metadata": {
        "id": "2bcfnGEviwTI"
      },
      "outputs": [],
      "source": [
        "model = genai.GenerativeModel(\"gemini-2.0-flash\")"
      ]
    },
    {
      "cell_type": "markdown",
      "metadata": {
        "id": "WR_2A_sxk8sK"
      },
      "source": [
        "<a href=\"https://ai.google.dev/api/generate-content#v1beta.models.generateContent\"><code>GenerativeModel.generate_content</code></a> メソッドに指示内容を入れる。`generate_content` メソッドに入力できるものはモデルによって異なる。gemini-2.0-flash では、テキスト、画像、音楽が入力可能。"
      ]
    },
    {
      "cell_type": "code",
      "execution_count": null,
      "metadata": {
        "id": "he-OfzBbhACQ"
      },
      "outputs": [],
      "source": [
        "%%time\n",
        "response = model.generate_content(\"防衛大学校の研究科について教えてください。\")"
      ]
    },
    {
      "cell_type": "markdown",
      "metadata": {
        "id": "FbrR-n_qlpFd"
      },
      "source": [
        "結果は、`response.text` に入っている。to_markdown` function 関数で表示できる。"
      ]
    },
    {
      "cell_type": "code",
      "execution_count": null,
      "metadata": {
        "id": "G-zBkueElVEO"
      },
      "outputs": [],
      "source": [
        "to_markdown(response.text)"
      ]
    },
    {
      "cell_type": "markdown",
      "source": [
        "## 画像からのテキスト生成"
      ],
      "metadata": {
        "id": "h8-uauCyPDBQ"
      }
    },
    {
      "cell_type": "markdown",
      "source": [
        "Gemini 2.0 は、マルチモーダルによる問い合わせが可能。"
      ],
      "metadata": {
        "id": "OQ8PW97oPQCv"
      }
    },
    {
      "cell_type": "markdown",
      "source": [
        "画像を入手する。 --> image.jpg （左側のファイルアイコンを押すことで確認できる）"
      ],
      "metadata": {
        "id": "nEoNgOrNPZdU"
      }
    },
    {
      "cell_type": "code",
      "execution_count": null,
      "metadata": {
        "id": "NtNGTBFF8Pgl"
      },
      "outputs": [],
      "source": [
        "!curl -o image.jpg https://www.news-postseven.com/uploads/2020/06/11/jiji_boueidai_boushinage.jpg"
      ]
    },
    {
      "cell_type": "code",
      "execution_count": null,
      "metadata": {
        "id": "CjnS0vNTsVis"
      },
      "outputs": [],
      "source": [
        "import PIL.Image\n",
        "\n",
        "img = PIL.Image.open(\"image.jpg\")\n",
        "img"
      ]
    },
    {
      "cell_type": "markdown",
      "source": [
        "`generate_contnt` 関数にプロンプトと画像のリストを入力すると答えが帰ってくる。"
      ],
      "metadata": {
        "id": "yWv-gFc_TCk0"
      }
    },
    {
      "cell_type": "code",
      "execution_count": null,
      "metadata": {
        "id": "GwYifv298Cj3"
      },
      "outputs": [],
      "source": [
        "response = model.generate_content([\"この写真について説明してください。\", img])\n",
        "\n",
        "to_markdown(response.text)"
      ]
    },
    {
      "cell_type": "markdown",
      "metadata": {
        "id": "zsIZmCYVTDHD"
      },
      "source": [
        "## チャットによる会話\n",
        "\n",
        "`ChatSession` により会話を行う。これは、`generate_content`と違い、履歴をプロンプトに含めて入力する必要はない。\n",
        "\n",
        "チャットの初期化："
      ]
    },
    {
      "cell_type": "code",
      "execution_count": null,
      "metadata": {
        "id": "y8B9Mwo-TCr2"
      },
      "outputs": [],
      "source": [
        "chat = model.start_chat(history=[])\n",
        "chat"
      ]
    },
    {
      "cell_type": "markdown",
      "metadata": {
        "id": "5odluV7kKbgr"
      },
      "source": [
        "`ChatSession.send_message` メソッドで返事が返ってくる。history に会話の履歴が格納される。"
      ]
    },
    {
      "cell_type": "code",
      "execution_count": null,
      "metadata": {
        "id": "b72zbOEjKRxP"
      },
      "outputs": [],
      "source": [
        "response = chat.send_message(\"コンピュータとは何かを小学生にも分かるように一文で表してください。\")\n",
        "to_markdown(response.text)"
      ]
    },
    {
      "cell_type": "code",
      "execution_count": null,
      "metadata": {
        "id": "5-5HS2bTOTU9"
      },
      "outputs": [],
      "source": [
        "chat.history"
      ]
    },
    {
      "cell_type": "markdown",
      "metadata": {
        "id": "7JaiFSIvOcVb"
      },
      "source": [
        "前の答えを踏まえて会話を続けることができる。"
      ]
    },
    {
      "cell_type": "code",
      "execution_count": null,
      "metadata": {
        "id": "Vxku7mzSObfZ"
      },
      "outputs": [],
      "source": [
        "response = chat.send_message(\"了解。では、高校生向けに長文で説明してください。\")\n",
        "\n",
        "to_markdown(response.text)"
      ]
    },
    {
      "cell_type": "code",
      "execution_count": null,
      "metadata": {
        "id": "WvyTmbC2d0k3"
      },
      "outputs": [],
      "source": [
        "for message in chat.history:\n",
        "    display(to_markdown(f\"**{message.role}**: {message.parts[0].text}\"))"
      ]
    },
    {
      "cell_type": "markdown",
      "metadata": {
        "id": "MBqknExlzn0k"
      },
      "source": [
        "### generate_content を使った会話\n",
        "\n",
        "`genai.ChatSession` が自動でやっていたことを明示する必要がある。role とparts からなるリストを入力させる必要がある。--> `generate_content` はステートレス（以前の情報を覚えていない）"
      ]
    },
    {
      "cell_type": "code",
      "execution_count": null,
      "metadata": {
        "id": "LtfwMa0HzvZL"
      },
      "outputs": [],
      "source": [
        "messages = [\n",
        "    {\n",
        "        \"role\": \"user\",\n",
        "        \"parts\": [\"コンピュータとは何かを小学生にも分かるように一文で表してください。\"],\n",
        "    }\n",
        "]\n",
        "response = model.generate_content(messages)\n",
        "\n",
        "to_markdown(response.text)"
      ]
    },
    {
      "cell_type": "markdown",
      "metadata": {
        "id": "3mqqiDJvzyac"
      },
      "source": [
        "メッセージに以前の会話の内容を含める（append 関数の利用）。"
      ]
    },
    {
      "cell_type": "code",
      "execution_count": null,
      "metadata": {
        "id": "MBxsZBxcz5Ik"
      },
      "outputs": [],
      "source": [
        "messages.append({\"role\": \"model\", \"parts\": [response.text]})\n",
        "\n",
        "messages.append(\n",
        "    {\n",
        "        \"role\": \"user\",\n",
        "        \"parts\": [\n",
        "            \"了解。では、高校生向けに長文で説明してください。\",\n",
        "        ],\n",
        "    }\n",
        ")\n",
        "\n",
        "response = model.generate_content(messages)\n",
        "\n",
        "to_markdown(response.text)"
      ]
    },
    {
      "cell_type": "markdown",
      "metadata": {
        "id": "4spL8SJ10ir7"
      },
      "source": [
        "### 生成に関する設定\n",
        "\n",
        "`generation_config` で、生成に関する設定事項を指定できる。"
      ]
    },
    {
      "cell_type": "code",
      "execution_count": null,
      "metadata": {
        "id": "gE7I9Anl0ud7"
      },
      "outputs": [],
      "source": [
        "model = genai.GenerativeModel(\"gemini-2.0-flash\")\n",
        "response = model.generate_content(\n",
        "    \"防衛大学校生と一般大の学生の恋愛小説を書いてください。\",\n",
        "    generation_config=genai.types.GenerationConfig(\n",
        "        # Only one candidate for now.\n",
        "        candidate_count=1,\n",
        "        stop_sequences=[\"x\"],\n",
        "        max_output_tokens=1000,\n",
        "        temperature=1.0,\n",
        "    ),\n",
        ")"
      ]
    },
    {
      "cell_type": "code",
      "execution_count": null,
      "metadata": {
        "id": "0fbab01e8fcf"
      },
      "outputs": [],
      "source": [
        "text = response.text\n",
        "\n",
        "#if response.candidates[0].finish_reason.name == \"MAX_TOKENS\":\n",
        "#    text += \"...\"\n",
        "#\n",
        "to_markdown(text)"
      ]
    },
    {
      "cell_type": "markdown",
      "source": [
        "## 音声からのテキスト生成\n",
        "写真と同じように扱える。"
      ],
      "metadata": {
        "id": "aQ3rQ2YAYxXm"
      }
    },
    {
      "cell_type": "code",
      "source": [
        "!curl -o sample.wav https://note.com/api/v2/attachments/download/cda970a6812a6284d83ea847abf8f08d"
      ],
      "metadata": {
        "id": "VzFkd83aY5MU"
      },
      "execution_count": null,
      "outputs": []
    },
    {
      "cell_type": "code",
      "source": [
        "from IPython.display import Audio\n",
        "Audio(\"sample.wav\")"
      ],
      "metadata": {
        "id": "I5TzmO3JZ_4A"
      },
      "execution_count": null,
      "outputs": []
    },
    {
      "cell_type": "markdown",
      "source": [
        "### 音声ファイルの読み取り"
      ],
      "metadata": {
        "id": "lnMhtnFkaPZS"
      }
    },
    {
      "cell_type": "code",
      "source": [
        "audio_file = genai.upload_file(path=\"sample.wav\")"
      ],
      "metadata": {
        "id": "hAQgBCmNaLzc"
      },
      "execution_count": null,
      "outputs": []
    },
    {
      "cell_type": "markdown",
      "source": [
        "### 音声ファイルの要約"
      ],
      "metadata": {
        "id": "lNANTldlaSMj"
      }
    },
    {
      "cell_type": "code",
      "source": [
        "response = model.generate_content(\n",
        "    [\n",
        "        \"次のラジオの音声を日本語で要約してください。\",\n",
        "        audio_file\n",
        "    ]\n",
        ")\n",
        "to_markdown(response.text)"
      ],
      "metadata": {
        "id": "WorTt1dCaV0U"
      },
      "execution_count": null,
      "outputs": []
    },
    {
      "cell_type": "markdown",
      "source": [
        "### 音声ファイルから議事録"
      ],
      "metadata": {
        "id": "XQzEDdVIbaHH"
      }
    },
    {
      "cell_type": "code",
      "source": [
        "response = model.generate_content(\n",
        "    [\n",
        "        \"次の会議から議事録を作ってください。\",\n",
        "        audio_file\n",
        "    ]\n",
        ")\n",
        "to_markdown(response.text)"
      ],
      "metadata": {
        "id": "9ttgGNE7bdzb"
      },
      "execution_count": null,
      "outputs": []
    },
    {
      "cell_type": "markdown",
      "source": [
        "### 音声ファイルから文字起こし"
      ],
      "metadata": {
        "id": "uYbPvwGIbAOl"
      }
    },
    {
      "cell_type": "code",
      "source": [
        "response = model.generate_content(\n",
        "    [\n",
        "        \"次の会話を文字起こししてください。形式は、「時刻：発言者：発言内容」としてください。\",\n",
        "        audio_file\n",
        "    ]\n",
        ")\n",
        "#to_markdown(response.text)\n",
        "print(response.text)"
      ],
      "metadata": {
        "id": "Nvyh8DsFa_X2"
      },
      "execution_count": null,
      "outputs": []
    },
    {
      "cell_type": "markdown",
      "source": [
        "## 他のモデルの利用"
      ],
      "metadata": {
        "id": "dwko-rTFcjLo"
      }
    },
    {
      "cell_type": "code",
      "source": [
        "model = genai.GenerativeModel(\"gemini-2.0-flash-thinking-exp\")"
      ],
      "metadata": {
        "id": "ciP95dragfwt"
      },
      "execution_count": null,
      "outputs": []
    },
    {
      "cell_type": "markdown",
      "source": [
        "解いて欲しい問題を test.png という名前で保存し、左のパネルのファイルアイコンをクリックし、パネル内にアップロードしてください。"
      ],
      "metadata": {
        "id": "9qwjlmkjkWuO"
      }
    },
    {
      "cell_type": "code",
      "source": [
        "import PIL.Image\n",
        "img = PIL.Image.open(\"test.png\")\n",
        "img"
      ],
      "metadata": {
        "id": "I0X3AFQZci15"
      },
      "execution_count": null,
      "outputs": []
    },
    {
      "cell_type": "code",
      "source": [
        "response = model.generate_content(\n",
        "    [\n",
        "        \"この図に書かれている問題を解いてください。解答は日本語で書いてください。\",\n",
        "        img\n",
        "    ]\n",
        ")\n",
        "to_markdown(response.text)"
      ],
      "metadata": {
        "id": "xtQi6ZSadKst"
      },
      "execution_count": null,
      "outputs": []
    }
  ],
  "metadata": {
    "colab": {
      "name": "python.ipynb",
      "provenance": [],
      "include_colab_link": true
    },
    "google": {
      "image_path": "/static/site-assets/images/docs/logo-python.svg",
      "keywords": [
        "examples",
        "gemini",
        "beginner",
        "googleai",
        "quickstart",
        "python",
        "text",
        "chat",
        "vision",
        "embed"
      ]
    },
    "kernelspec": {
      "display_name": "Python 3",
      "name": "python3"
    }
  },
  "nbformat": 4,
  "nbformat_minor": 0
}