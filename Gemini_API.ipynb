{
  "nbformat": 4,
  "nbformat_minor": 0,
  "metadata": {
    "colab": {
      "provenance": [],
      "authorship_tag": "ABX9TyM7+O6AI7RDYzbFJvenRgmC",
      "include_colab_link": true
    },
    "kernelspec": {
      "name": "python3",
      "display_name": "Python 3"
    },
    "language_info": {
      "name": "python"
    }
  },
  "cells": [
    {
      "cell_type": "markdown",
      "metadata": {
        "id": "view-in-github",
        "colab_type": "text"
      },
      "source": [
        "<a href=\"https://colab.research.google.com/github/ailab-nda/ML/blob/main/Gemini_API.ipynb\" target=\"_parent\"><img src=\"https://colab.research.google.com/assets/colab-badge.svg\" alt=\"Open In Colab\"/></a>"
      ]
    },
    {
      "cell_type": "markdown",
      "source": [
        "# Gemini API デモ"
      ],
      "metadata": {
        "id": "mK5SG8iJqsF9"
      }
    },
    {
      "cell_type": "markdown",
      "source": [
        "## ライブラリのインストール"
      ],
      "metadata": {
        "id": "TO_jmyKqq0WE"
      }
    },
    {
      "cell_type": "code",
      "source": [
        "!pip install -U google-generativeai"
      ],
      "metadata": {
        "id": "YIIRXiFhq26Y"
      },
      "execution_count": null,
      "outputs": []
    },
    {
      "cell_type": "markdown",
      "source": [
        "## ライブラリのインポート"
      ],
      "metadata": {
        "id": "91-MsjfkuOyR"
      }
    },
    {
      "cell_type": "code",
      "source": [
        "import pathlib\n",
        "import textwrap\n",
        "import google.generativeai as genai\n",
        "from google.colab import userdata\n",
        "from IPython.display import display\n",
        "from IPython.display import Markdown"
      ],
      "metadata": {
        "id": "w-RwfMCAC-vr"
      },
      "execution_count": null,
      "outputs": []
    },
    {
      "cell_type": "markdown",
      "source": [
        "## 表示用関数の設定"
      ],
      "metadata": {
        "id": "Ryj6dQvBH8A5"
      }
    },
    {
      "cell_type": "code",
      "source": [
        "def to_markdown(text):\n",
        "  text = text.replace('•', '  *')\n",
        "  return Markdown(textwrap.indent(text, '> ', predicate=lambda _: True))"
      ],
      "metadata": {
        "id": "RdnHY9SUDAfp"
      },
      "execution_count": null,
      "outputs": []
    },
    {
      "cell_type": "markdown",
      "source": [
        "## API キーの設定"
      ],
      "metadata": {
        "id": "W-k7mz3xDInJ"
      }
    },
    {
      "cell_type": "code",
      "execution_count": null,
      "metadata": {
        "id": "5MRdRD5EqiRx"
      },
      "outputs": [],
      "source": [
        "mykey = \"\"#@param{type:\"string\"}\n",
        "genai.configure(api_key = mykey)"
      ]
    },
    {
      "cell_type": "markdown",
      "source": [
        "## Gemini の使用例"
      ],
      "metadata": {
        "id": "tqoq6VdTuUa7"
      }
    },
    {
      "cell_type": "markdown",
      "source": [
        "### テキスト入力"
      ],
      "metadata": {
        "id": "0mXWHfTvuEyp"
      }
    },
    {
      "cell_type": "code",
      "source": [
        "# モデルを準備\n",
        "model = genai.GenerativeModel(\"gemini-1.5-flash\")"
      ],
      "metadata": {
        "id": "w5c6RF0QEI-8"
      },
      "execution_count": null,
      "outputs": []
    },
    {
      "cell_type": "code",
      "source": [
        "text = \"\" # @param{type:\"string\"}\n",
        "response = model.generate_content(text)\n",
        "response.resolve()\n",
        "to_markdown(response.text)"
      ],
      "metadata": {
        "id": "woCzNobIENf9"
      },
      "execution_count": null,
      "outputs": []
    },
    {
      "cell_type": "markdown",
      "source": [
        "### 画像入力"
      ],
      "metadata": {
        "id": "7ACgbFIGI0xe"
      }
    },
    {
      "cell_type": "code",
      "source": [
        "import PIL.Image\n",
        "# @markdown 画像ファイル名を入力\n",
        "figfile = \"\" # @param{type:\"string\"}\n",
        "img = PIL.Image.open('/content/' + figfile)\n",
        "img"
      ],
      "metadata": {
        "id": "cUKwKJecEWi6"
      },
      "execution_count": null,
      "outputs": []
    },
    {
      "cell_type": "code",
      "source": [
        "response = model.generate_content(img)\n",
        "response.resolve()\n",
        "to_markdown(response.text)"
      ],
      "metadata": {
        "id": "KNdJnXgphB57"
      },
      "execution_count": null,
      "outputs": []
    },
    {
      "cell_type": "markdown",
      "source": [
        "日本語で聞くと日本語で返してくれます。"
      ],
      "metadata": {
        "id": "XIMHOe9Nh7iO"
      }
    },
    {
      "cell_type": "code",
      "source": [
        "response = model.generate_content([\n",
        "    \"このグラフから分かることを教えてください。\",\n",
        "    img\n",
        "], stream=True)\n",
        "response.resolve()\n",
        "to_markdown(response.text)"
      ],
      "metadata": {
        "id": "XOGRDHUQEobd"
      },
      "execution_count": null,
      "outputs": []
    }
  ]
}