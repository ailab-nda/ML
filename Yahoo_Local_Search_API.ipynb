{
  "cells": [
    {
      "cell_type": "markdown",
      "metadata": {
        "id": "view-in-github",
        "colab_type": "text"
      },
      "source": [
        "<a href=\"https://colab.research.google.com/github/ailab-nda/ML/blob/main/Yahoo_Local_Search_API.ipynb\" target=\"_parent\"><img src=\"https://colab.research.google.com/assets/colab-badge.svg\" alt=\"Open In Colab\"/></a>"
      ]
    },
    {
      "cell_type": "markdown",
      "id": "0c9f4ee2",
      "metadata": {
        "id": "0c9f4ee2"
      },
      "source": [
        "# Yahoo ローカルサーチ API を利用した緯度経度情報の取得\n",
        "探したい施設や建物の緯度・経度情報を取得します。出力されたファイルを GIS ソフトに読み込ませて使います。"
      ]
    },
    {
      "cell_type": "markdown",
      "id": "cb1ddfce",
      "metadata": {
        "id": "cb1ddfce"
      },
      "source": [
        "### 講義室で行う場合の設定\n",
        "電算機教場や研究室で行う場合には、以下の処理が必要です。"
      ]
    },
    {
      "cell_type": "code",
      "execution_count": null,
      "id": "52777bb3",
      "metadata": {
        "id": "52777bb3"
      },
      "outputs": [],
      "source": [
        "import os\n",
        "#os.environ['HTTP_PROXY']=\"http://10.0.0.1:8080\"\n",
        "#os.environ['HTTPS_PROXY']=\"http://10.0.0.1:8080\"\n",
        "#os.environ['REQUESTS_CA_BUNDLE']=\"cert_SSL-Forward-cert.crt\""
      ]
    },
    {
      "cell_type": "markdown",
      "id": "3c90dec6",
      "metadata": {
        "id": "3c90dec6"
      },
      "source": [
        "### ライブラリのインストールとインポート\n",
        "実行に必要なライブラリを導入します。"
      ]
    },
    {
      "cell_type": "code",
      "execution_count": null,
      "id": "3d65c755",
      "metadata": {
        "id": "3d65c755"
      },
      "outputs": [],
      "source": [
        "!pip install jageocoder"
      ]
    },
    {
      "cell_type": "code",
      "execution_count": null,
      "id": "c24571c7",
      "metadata": {
        "id": "c24571c7"
      },
      "outputs": [],
      "source": [
        "import requests\n",
        "import time\n",
        "import glob\n",
        "import sys\n",
        "import csv\n",
        "import os\n",
        "import jageocoder\n",
        "import json\n",
        "jageocoder.init(url='https://jageocoder.info-proto.com/jsonrpc')"
      ]
    },
    {
      "cell_type": "markdown",
      "id": "24eeee3f",
      "metadata": {
        "id": "24eeee3f"
      },
      "source": [
        "### 準備\n",
        "実行にあたって必要な関数などを定義します。API Key の入力を求められるので、Yahoo API key を入力して下さい。"
      ]
    },
    {
      "cell_type": "code",
      "execution_count": null,
      "id": "54fd24ab",
      "metadata": {
        "id": "54fd24ab"
      },
      "outputs": [],
      "source": [
        "#ベースとなるURL\n",
        "base_url = \"https://map.yahooapis.jp/search/local/V1/localSearch\"\n",
        "api_key = input(\"API Key を入力して下さい：\")\n",
        "#URLパラメータ用の辞書を用意し、後からパラメータを順次格納する。01はヒット総数の確認用、02はデータ取得用。\n",
        "params_01 = {\"appid\":api_key, \"results\":1, \"output\":\"json\"}\n",
        "params_02 = {\"appid\":api_key, \"sort\":\"kana\", \"output\":\"json\"} #繰り返し処理でID重複が生じる可能性を低減するためソート順を「かな」に設定"
      ]
    },
    {
      "cell_type": "code",
      "execution_count": null,
      "id": "c0e9fe42",
      "metadata": {
        "id": "c0e9fe42"
      },
      "outputs": [],
      "source": [
        "#ヒット件数取得用の関数\n",
        "def count_data(params_01):\n",
        "    response_01 = requests.get(base_url, params=params_01) #ヒット件数の確認用のリクエストを投げる処理\n",
        "    jsonData_01 = response_01.json()\n",
        "    #print(\"Jsondata_01:\", jsonData_01)\n",
        "    time.sleep(1.0) #リクエスト１回ごとに若干時間をあけてAPI側への負荷を軽減する\n",
        "    return jsonData_01[\"ResultInfo\"][\"Total\"]\n"
      ]
    },
    {
      "cell_type": "code",
      "execution_count": null,
      "id": "c9de4c95",
      "metadata": {
        "id": "c9de4c95"
      },
      "outputs": [],
      "source": [
        "#データ取得処理用の関数\n",
        "def fetch_data(params_02, total_num, pref_name, query_word):\n",
        "    max_return = 100 #APIの仕様では一回のリクエストにつき100件まで取得可能なので、その上限値を一回の取得数として設定\n",
        "    pages = (int(total_num) // int(max_return)) + 1 #全件を取得するために必要なリクエスト回数を算定\n",
        "\n",
        "    params_02['results'] = max_return #全件取得用のパラメータを設定\n",
        "\n",
        "    Records = [] #取得データを格納するための空リストを用意\n",
        "\n",
        "    #全件取得するためのループ処理\n",
        "    for i in range(pages):\n",
        "        i_startRecord = 1 + (i * int(max_return))\n",
        "        params_02['start'] = i_startRecord\n",
        "        response_02 = requests.get(base_url, params=params_02)\n",
        "\n",
        "        #レスポンスのステータスが200＝正常取得だった場合の処理\n",
        "        if response_02.status_code == 200:\n",
        "            try:\n",
        "                jsonData_02 = response_02.json() #レスポンスをJSONデータとして格納する\n",
        "            except ValueError:\n",
        "                print(\"エラー: レスポンスデータの解析処理に失敗しました。\")\n",
        "                sys.exit() #ここでエラーが生じた場合は処理を終了させる。ここをcontinueに変えて、この100件分だけスキップして処理続行させることも可能。\n",
        "        else:\n",
        "            print(\"エラー:\", response_02.status_code)\n",
        "            sys.exit() #レスポンスが正常に取得できなかった場合は処理を終了させる。\n",
        "\n",
        "        #JSONデータ内の各要素から必要項目を指定してリストに格納する\n",
        "        for poi in jsonData_02.get('Feature', []):\n",
        "            #print(poi)\n",
        "            #poi_id = poi.get('Id', \"\") #FeatureにId項目があればその値を、ない場合は空欄を返す\n",
        "            poi_name = poi.get('Name', \"\")\n",
        "            poi_category = poi.get('Category', [])\n",
        "            if len(poi_category) == 0:\n",
        "                poi_cat = \"\"\n",
        "            else:\n",
        "                for j in range(len(poi_category)):\n",
        "                    #print(j, poi_category[j])\n",
        "                    if j == 0:\n",
        "                        poi_cat = poi_category[j]\n",
        "            poi_property = poi.get('Property', {})\n",
        "            #print(poi_property)\n",
        "            poi_address = poi_property.get('Address', \"\")\n",
        "            poi_tel = poi_property.get('Tel1', \"\")\n",
        "            poi_station = poi_property.get('Station', [])\n",
        "            #print(len(poi_station))\n",
        "            #print(poi_station)\n",
        "            if len(poi_station) == 0:\n",
        "                poi_srail = \"\"\n",
        "                poi_sname = \"\"\n",
        "                poi_sdistance = \"\"\n",
        "            else:\n",
        "                for j in range(len(poi_station)):\n",
        "                    #print(poi_station[j])\n",
        "                    if j == 0:\n",
        "                        poi_srail = poi_station[j].get('Railway', \"\")\n",
        "                        poi_sname = poi_station[j].get('Name', \"\")\n",
        "                        poi_sdistance = poi_station[j].get('Distance', \"\")\n",
        "            coordinates = poi.get('Geometry', {}).get('Coordinates', \"\").split(\",\") #Coordinatesの座標値はカンマ区切りで緯度経度に分割する\n",
        "            poi_lat = coordinates[1] if len(coordinates) > 1 else \"\"\n",
        "            poi_lng = coordinates[0] if len(coordinates) > 0 else \"\"\n",
        "            Records.append([poi_name, poi_cat, poi_address, poi_tel, poi_lat, poi_lng, poi_srail, poi_sname, poi_sdistance])\n",
        "\n",
        "        sys.stdout.write(f\"\\r{pref_name}_{query_word}: {i+1}/{pages} is done.\") #進捗状況を表示する\n",
        "        sys.stdout.flush() #進捗状況を強制的に変更する\n",
        "        time.sleep(1.0) #リクエスト１回ごとに若干時間をあけてAPI側への負荷を軽減する\n",
        "\n",
        "    #CSVへの書き出し\n",
        "    csv_file_path = os.path.join(f\"{pref_name}_{query_word}_{total_num}.csv\")\n",
        "    with open(csv_file_path, 'w', newline='', encoding='cp932', errors='replace') as f:\n",
        "        csvwriter = csv.writer(f, delimiter=',', quotechar='\"', quoting=csv.QUOTE_NONNUMERIC) #CSVの書き出し方式を適宜指定\n",
        "        csvwriter.writerow(['名称', '業種', '住所', '電話番号', '緯度', '経度', '鉄道会社', '最寄り駅', '距離'])\n",
        "        for record in Records:\n",
        "            csvwriter.writerow(record)\n",
        "\n",
        "    print(f\"\\n取得されたデータがCSV形式で出力されました。ファイル名： {csv_file_path}\")"
      ]
    },
    {
      "cell_type": "markdown",
      "id": "066dc76e",
      "metadata": {
        "id": "066dc76e"
      },
      "source": [
        "### 実行\n",
        "p_area（検索エリア）と p_query（検索ワード） を設定し実行して下さい。検索結果は、「検索エリア_検索ワード_ヒット数.csv」というファイルに保存されます。"
      ]
    },
    {
      "cell_type": "code",
      "execution_count": null,
      "id": "bf456a97",
      "metadata": {
        "id": "bf456a97"
      },
      "outputs": [],
      "source": [
        "p_area = \"横須賀市\" #検索エリア\n",
        "p_query = \"コンビニ\" #検索ワード\n",
        "p_gc = \"\" #検索する業種コードを入力\n",
        "\n",
        "params_01['query'] = str(p_query)\n",
        "params_02['query'] = str(p_query)\n",
        "params_01['gc'] = str(p_gc)\n",
        "params_02['gc'] = str(p_gc)\n",
        "\n",
        "results = jageocoder.searchNode(p_area)\n",
        "num = len(results)\n",
        "\n",
        "if p_area == \"全国\":\n",
        "    p_ac = \"\"\n",
        "elif num == 1:\n",
        "    node = results[0].node\n",
        "    if p_area[-1] == \"県\" or p_area[-1] == \"都\" or p_area[-1] == \"府\":\n",
        "        p_ac = node.get_pref_jiscode()\n",
        "    else:\n",
        "        p_ac = node.get_city_jiscode()\n",
        "elif num >= 2:\n",
        "    print(\"同名の地名が複数あります。もう少し詳しく指定して下さい。\")\n",
        "    sys.exit(0)\n",
        "elif num == 0:\n",
        "    print(\"該当する地名はありません。\")\n",
        "    sys.exit(0)\n",
        "\n",
        "print(\"住所コード:\", p_ac)\n",
        "\n",
        "params_01['ac'] = str(p_ac)\n",
        "params_02['ac'] = str(p_ac)\n",
        "\n",
        "#ヒット件数の確認用のリクエストを投げる処理\n",
        "total_num = count_data(params_01)\n",
        "print(\"検索結果は \" + str(total_num) + \"件です。\")\n",
        "\n",
        "#ヒット件数が0件以上かつ取得条件の3100件以内だった場合は取得処理を実行、それ以外はメッセージを出して終了させる。なお、パラメータに何らかの問題があると大量のヒット件数が返されることがある。\n",
        "if total_num > 3100:\n",
        "    print(f\"データ取得上限の件数を超えています。検索条件を見直して下さい。\")\n",
        "elif total_num > 0:\n",
        "    fetch_data(params_02, total_num, p_area, p_query)\n",
        "else:\n",
        "    print(f\"該当するデータがありません。\")"
      ]
    },
    {
      "cell_type": "markdown",
      "id": "006da3af",
      "metadata": {
        "id": "006da3af"
      },
      "source": [
        "## おまけ\n",
        "ArcGIS pro にプロットする前に結果を見ることができます。"
      ]
    },
    {
      "cell_type": "code",
      "execution_count": null,
      "id": "6bd68f63",
      "metadata": {
        "id": "6bd68f63"
      },
      "outputs": [],
      "source": [
        "!pip install folium"
      ]
    },
    {
      "cell_type": "code",
      "execution_count": null,
      "id": "df1c88fc",
      "metadata": {
        "id": "df1c88fc"
      },
      "outputs": [],
      "source": [
        "import folium\n",
        "import pandas as pd\n",
        "df = pd.read_csv(f\"{p_area}_{p_query}_{total_num}.csv\", encoding=\"CP932\")\n",
        "\n",
        "# 地図生成\n",
        "folium_map = folium.Map(location=[df['緯度'].mean(), df['経度'].mean()], zoom_start=12)\n",
        "\n",
        "# マーカープロット\n",
        "for i, row in df.iterrows():\n",
        "    folium.Marker(location=[row['緯度'], row['経度']], popup=row['名称'], icon=folium.Icon(color='red')).add_to(folium_map)\n",
        "\n",
        "# 地図表示\n",
        "folium_map"
      ]
    }
  ],
  "metadata": {
    "kernelspec": {
      "display_name": "Python 3",
      "language": "python",
      "name": "python3"
    },
    "language_info": {
      "codemirror_mode": {
        "name": "ipython",
        "version": 3
      },
      "file_extension": ".py",
      "mimetype": "text/x-python",
      "name": "python",
      "nbconvert_exporter": "python",
      "pygments_lexer": "ipython3",
      "version": "3.12.4"
    },
    "colab": {
      "provenance": [],
      "include_colab_link": true
    }
  },
  "nbformat": 4,
  "nbformat_minor": 5
}