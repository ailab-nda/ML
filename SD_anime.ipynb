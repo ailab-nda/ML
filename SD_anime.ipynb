{
  "nbformat": 4,
  "nbformat_minor": 0,
  "metadata": {
    "colab": {
      "provenance": [],
      "gpuType": "T4",
      "authorship_tag": "ABX9TyPNjdRZiavmF7VFpdLRNDAn",
      "include_colab_link": true
    },
    "kernelspec": {
      "name": "python3",
      "display_name": "Python 3"
    },
    "language_info": {
      "name": "python"
    },
    "accelerator": "GPU"
  },
  "cells": [
    {
      "cell_type": "markdown",
      "metadata": {
        "id": "view-in-github",
        "colab_type": "text"
      },
      "source": [
        "<a href=\"https://colab.research.google.com/github/ailab-nda/ML/blob/main/SD_anime.ipynb\" target=\"_parent\"><img src=\"https://colab.research.google.com/assets/colab-badge.svg\" alt=\"Open In Colab\"/></a>"
      ]
    },
    {
      "cell_type": "markdown",
      "source": [
        "# 生成AIでアニメ絵"
      ],
      "metadata": {
        "id": "HVQep2M9wcE6"
      }
    },
    {
      "cell_type": "markdown",
      "source": [
        "## パッケージのインストール"
      ],
      "metadata": {
        "id": "SyQGV8MawmMr"
      }
    },
    {
      "cell_type": "code",
      "execution_count": null,
      "metadata": {
        "id": "ZwSz8mbThKCo"
      },
      "outputs": [],
      "source": [
        "!pip install --upgrade diffusers[torch] transformers"
      ]
    },
    {
      "cell_type": "code",
      "source": [
        "from diffusers import StableDiffusionPipeline, EulerDiscreteScheduler\n",
        "import torch"
      ],
      "metadata": {
        "id": "Dn28qfq_hNJF"
      },
      "execution_count": null,
      "outputs": []
    },
    {
      "cell_type": "code",
      "source": [
        "scheduler = EulerDiscreteScheduler.from_pretrained(\n",
        "    \"admruul/anything-v3.0\",\n",
        "    subfolder=\"scheduler\"\n",
        ")\n",
        "pipe = StableDiffusionPipeline.from_pretrained(\n",
        "    \"admruul/anything-v3.0\",\n",
        "    scheduler=scheduler,\n",
        "    torch_dtype=torch.float16\n",
        ").to(\"cuda\")\n",
        "pipe.enable_attention_slicing()"
      ],
      "metadata": {
        "id": "MXRkpmZRhVIh"
      },
      "execution_count": null,
      "outputs": []
    },
    {
      "cell_type": "code",
      "source": [
        "#pipe.safety_checker = None"
      ],
      "metadata": {
        "id": "eOlaY-i2kGg_"
      },
      "execution_count": null,
      "outputs": []
    },
    {
      "cell_type": "markdown",
      "source": [
        "## テキストからの画像生成"
      ],
      "metadata": {
        "id": "bl-HHU8wwqkR"
      }
    },
    {
      "cell_type": "code",
      "source": [
        "\n",
        "prompt = \"Girl in military uniform, cherry blossoms, anime illustration, detailed beautiful eyes, detailed beautiful face, detailed beautiful hair\"\n",
        "negative_prompt = \"worst quality, ugly, bad anatomy, jpeg artifacts, nsfw, text, watermark, bad hands, extra digit, fewer digits, out of focus, JPEG artifacts, low resolution, nipples, long_body, mutated hands, missing arms, extra_arms, extra_legs, bad hands, missing_limb, disconnected_limbs, extra_fingers, missing fingers, liquid fingers, ugly face, deformed eyes, cropped, text, signature, split view, grid view, two shot, poorly drawn eyes, weird face, strange face\"\n",
        "\n",
        "image = pipe(prompt, negative_prompt=negative_prompt, height=768, width=768).images[0]\n",
        "image"
      ],
      "metadata": {
        "id": "zf7iSa5EhcXO"
      },
      "execution_count": null,
      "outputs": []
    }
  ]
}