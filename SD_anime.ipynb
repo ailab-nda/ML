{
  "nbformat": 4,
  "nbformat_minor": 0,
  "metadata": {
    "colab": {
      "provenance": [],
      "gpuType": "T4",
      "include_colab_link": true
    },
    "kernelspec": {
      "name": "python3",
      "display_name": "Python 3"
    },
    "language_info": {
      "name": "python"
    },
    "accelerator": "GPU"
  },
  "cells": [
    {
      "cell_type": "markdown",
      "metadata": {
        "id": "view-in-github",
        "colab_type": "text"
      },
      "source": [
        "<a href=\"https://colab.research.google.com/github/ailab-nda/ML/blob/main/SD_anime.ipynb\" target=\"_parent\"><img src=\"https://colab.research.google.com/assets/colab-badge.svg\" alt=\"Open In Colab\"/></a>"
      ]
    },
    {
      "cell_type": "markdown",
      "source": [
        "# 文章（プロンプト）から絵を作成する"
      ],
      "metadata": {
        "id": "HVQep2M9wcE6"
      }
    },
    {
      "cell_type": "markdown",
      "source": [
        "今後の実習課題でも流れは大体同じです。\n",
        "1. ライブラリのインストール\n",
        "2. ライブラリのインストール\n",
        "3. 関数の定義\n",
        "4. 関数の実行"
      ],
      "metadata": {
        "id": "zwLFLBwldTnw"
      }
    },
    {
      "cell_type": "markdown",
      "source": [
        "### 1. 必要となるライブラリのインストール"
      ],
      "metadata": {
        "id": "SyQGV8MawmMr"
      }
    },
    {
      "cell_type": "code",
      "execution_count": null,
      "metadata": {
        "id": "ZwSz8mbThKCo"
      },
      "outputs": [],
      "source": [
        "!pip install --upgrade diffusers[torch] transformers"
      ]
    },
    {
      "cell_type": "markdown",
      "source": [
        "### 2. ライブラリのインポート"
      ],
      "metadata": {
        "id": "z4gMak4tcTVJ"
      }
    },
    {
      "cell_type": "code",
      "source": [
        "from diffusers import StableDiffusionPipeline, EulerDiscreteScheduler\n",
        "import torch"
      ],
      "metadata": {
        "id": "Dn28qfq_hNJF"
      },
      "execution_count": null,
      "outputs": []
    },
    {
      "cell_type": "markdown",
      "source": [
        "### 3. 使用する関数の定義"
      ],
      "metadata": {
        "id": "Xw2y1Xp3ceCQ"
      }
    },
    {
      "cell_type": "code",
      "source": [
        "scheduler = EulerDiscreteScheduler.from_pretrained(\n",
        "    \"stablediffusionapi/anything-v5\",\n",
        "    # \"admruul/anything-v3.0\",\n",
        "    subfolder=\"scheduler\"\n",
        ")\n",
        "pipe = StableDiffusionPipeline.from_pretrained(\n",
        "    \"stablediffusionapi/anything-v5\",\n",
        "    # \"admruul/anything-v3.0\",\n",
        "    scheduler=scheduler,\n",
        "    torch_dtype=torch.float16\n",
        ").to(\"cuda\")\n",
        "pipe.enable_attention_slicing()"
      ],
      "metadata": {
        "id": "MXRkpmZRhVIh"
      },
      "execution_count": null,
      "outputs": []
    },
    {
      "cell_type": "code",
      "source": [
        "#pipe.safety_checker = None"
      ],
      "metadata": {
        "id": "eOlaY-i2kGg_"
      },
      "execution_count": null,
      "outputs": []
    },
    {
      "cell_type": "markdown",
      "source": [
        "## 4. テキストからの画像生成"
      ],
      "metadata": {
        "id": "bl-HHU8wwqkR"
      }
    },
    {
      "cell_type": "code",
      "source": [
        "# prompt: 描いて欲しいこと\n",
        "# negative_prompt: 描いて欲しくないこと\n",
        "prompt = \"Girl in military uniform, cherry blossoms, anime illustration, detailed beautiful eyes, detailed beautiful face, detailed beautiful hair\"\n",
        "negative_prompt = \"worst quality, ugly, bad anatomy, jpeg artifacts, nsfw, text, watermark, bad hands, extra digit, fewer digits, out of focus, JPEG artifacts, low resolution, nipples, long_body, mutated hands, missing arms, extra_arms, extra_legs, bad hands, missing_limb, disconnected_limbs, extra_fingers, missing fingers, liquid fingers, ugly face, deformed eyes, cropped, text, signature, split view, grid view, two shot, poorly drawn eyes, weird face, strange face\"\n",
        "\n",
        "image = pipe(prompt, negative_prompt=negative_prompt, height=768, width=768).images[0]\n",
        "image"
      ],
      "metadata": {
        "id": "zf7iSa5EhcXO"
      },
      "execution_count": null,
      "outputs": []
    }
  ]
}