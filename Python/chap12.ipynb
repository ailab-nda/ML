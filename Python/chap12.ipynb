{
  "nbformat": 4,
  "nbformat_minor": 0,
  "metadata": {
    "colab": {
      "provenance": [],
      "include_colab_link": true
    },
    "language_info": {
      "codemirror_mode": {
        "name": "ipython",
        "version": 3
      },
      "file_extension": ".py",
      "mimetype": "text/x-python",
      "name": "python",
      "nbconvert_exporter": "python",
      "pygments_lexer": "ipython3",
      "version": "3.7.6-final"
    },
    "kernelspec": {
      "name": "python3",
      "display_name": "Python 3"
    }
  },
  "cells": [
    {
      "cell_type": "markdown",
      "metadata": {
        "id": "view-in-github",
        "colab_type": "text"
      },
      "source": [
        "<a href=\"https://colab.research.google.com/github/ailab-nda/ML/blob/main/Python/chap12.ipynb\" target=\"_parent\"><img src=\"https://colab.research.google.com/assets/colab-badge.svg\" alt=\"Open In Colab\"/></a>"
      ]
    },
    {
      "cell_type": "markdown",
      "metadata": {
        "id": "12nkNgPYm5ld"
      },
      "source": [
        "# 第12章 パターンマイニング"
      ]
    },
    {
      "cell_type": "code",
      "source": [
        "!pip list | grep mlxtend"
      ],
      "metadata": {
        "id": "K969M68GUfYJ"
      },
      "execution_count": null,
      "outputs": []
    },
    {
      "cell_type": "code",
      "source": [
        "# mlxtendを最新版 0.23.0 (2023/10/23現在) に更新\n",
        "!pip install -U mlxtend"
      ],
      "metadata": {
        "id": "IKchuEzZUUCG"
      },
      "execution_count": null,
      "outputs": []
    },
    {
      "cell_type": "markdown",
      "metadata": {
        "id": "8kC6CR80g_TS"
      },
      "source": [
        "## 頻出項目集合抽出\n",
        "\n",
        "Aprioriアルゴリズムの実装\n",
        "\n",
        "http://rasbt.github.io/mlxtend/api_subpackages/mlxtend.frequent_patterns/"
      ]
    },
    {
      "cell_type": "markdown",
      "metadata": {
        "id": "X7pYmBUGg_TW"
      },
      "source": [
        "### 例題12.1\n",
        "\n",
        "例題12.1 のデータを読み込んで、pandasのDataFrameに変換します。項目がアルファベット順にソートされていることに注意。"
      ]
    },
    {
      "cell_type": "code",
      "metadata": {
        "id": "4VmAudZVg_TT"
      },
      "source": [
        "import numpy as np\n",
        "import pandas as pd\n",
        "from mlxtend.preprocessing import TransactionEncoder\n",
        "from mlxtend.frequent_patterns import apriori, association_rules, fpgrowth"
      ],
      "execution_count": null,
      "outputs": []
    },
    {
      "cell_type": "code",
      "metadata": {
        "id": "edoNY4FJg_TW"
      },
      "source": [
        "dataset = [\n",
        "    ['Milk', 'Bread', 'Butter'],\n",
        "    ['Milk', 'Bread', 'Jam'],\n",
        "    ['Milk', 'Magazine'],\n",
        "    ['Bread', 'Butter'],\n",
        "    ['Milk', 'Bread', 'Butter', 'Jam'],\n",
        "    ['Magazine'],\n",
        "    ['Milk', 'Bread', 'Jam', 'Magazine'],\n",
        "    ['Jam']]"
      ],
      "execution_count": null,
      "outputs": []
    },
    {
      "cell_type": "code",
      "source": [
        "# 警告が出る場合は以下で抑制\n",
        "import warnings\n",
        "warnings.simplefilter('ignore')"
      ],
      "metadata": {
        "id": "oPssLsTzJph8"
      },
      "execution_count": null,
      "outputs": []
    },
    {
      "cell_type": "code",
      "source": [
        "# 疎行列形式の表現を、真偽値を値とする行列に変換\n",
        "te = TransactionEncoder()\n",
        "te_ary = te.fit_transform(dataset)\n",
        "df = pd.DataFrame(te_ary, columns=te.columns_)\n",
        "df"
      ],
      "metadata": {
        "id": "XFsJXc2SVDYt"
      },
      "execution_count": null,
      "outputs": []
    },
    {
      "cell_type": "markdown",
      "metadata": {
        "id": "uCP-hRZVg_Tb"
      },
      "source": [
        "Aprioriアルゴリズムで3事例以上出現する項目集合を抽出"
      ]
    },
    {
      "cell_type": "code",
      "metadata": {
        "id": "VQdCFXpyg_Tc"
      },
      "source": [
        "freq = apriori(df, min_support= 3/len(df), use_colnames=True)\n",
        "freq"
      ],
      "execution_count": null,
      "outputs": []
    },
    {
      "cell_type": "markdown",
      "metadata": {
        "id": "tHlSFVbag_Te"
      },
      "source": [
        "## 規則抽出\n"
      ]
    },
    {
      "cell_type": "markdown",
      "source": [
        "### 例題12.2\n",
        "\n",
        "confidenceが0.7以上の規則を抽出します。"
      ],
      "metadata": {
        "id": "ByFXCgSbWwuu"
      }
    },
    {
      "cell_type": "code",
      "metadata": {
        "id": "gSk5lM7Xg_Te"
      },
      "source": [
        "ar = association_rules(freq, metric='confidence', min_threshold=0.7)"
      ],
      "execution_count": null,
      "outputs": []
    },
    {
      "cell_type": "code",
      "source": [
        "ar[['antecedents', 'consequents', 'support', 'confidence', 'lift']]"
      ],
      "metadata": {
        "id": "p9v1Ktq2KyqM"
      },
      "execution_count": null,
      "outputs": []
    },
    {
      "cell_type": "markdown",
      "source": [
        "抽出された規則をplotlyで可視化するために、データ形式を変換します。この事例ではスコアが同じ規則が複数あって、プロットが重なってしまっていることに注意してください。"
      ],
      "metadata": {
        "id": "sDVm7lKUq2kp"
      }
    },
    {
      "cell_type": "code",
      "source": [
        "alist = []\n",
        "clist = []\n",
        "for a, c in zip(ar['antecedents'], ar['consequents']):\n",
        "  alist.append(','.join(a))\n",
        "  clist.append(','.join(c))\n",
        "ar2 = ar.drop(['antecedents','consequents'], axis=1)\n",
        "ar2['antecedents'] = alist\n",
        "ar2['consequents'] = clist\n",
        "ar2"
      ],
      "metadata": {
        "id": "FI7-tPvVrVKr"
      },
      "execution_count": null,
      "outputs": []
    },
    {
      "cell_type": "code",
      "source": [
        "import plotly.express as px\n",
        "fig = px.scatter(ar2, x = 'support', y = 'confidence', color='lift', hover_data=['antecedents','consequents'], range_x=[0.3, 0.6])\n",
        "fig.show()"
      ],
      "metadata": {
        "id": "ZFQXFwysq2xh"
      },
      "execution_count": null,
      "outputs": []
    },
    {
      "cell_type": "markdown",
      "metadata": {
        "id": "cI3nYkCAg_Th"
      },
      "source": [
        "### 例題12.3\n",
        "\n",
        "supermarket.arffでFPGrowth（Aprioriの高速化版）を試してみます。データをダウンロードし、scipyのloadarffでWekaのarff形式のデータを読み込みます。そしてpandasのDataFrameで値を文字t/?から真偽値True/Falseとし、最終列のtotalは除きます。"
      ]
    },
    {
      "cell_type": "code",
      "metadata": {
        "id": "5mc8MwVjg_Th"
      },
      "source": [
        "!wget https://raw.githubusercontent.com/fracpete/wekamooc/master/dataminingwithweka/data/supermarket.arff"
      ],
      "execution_count": null,
      "outputs": []
    },
    {
      "cell_type": "code",
      "source": [
        "from scipy.io import arff\n",
        "data, meta = arff.loadarff('supermarket.arff')\n",
        "df = pd.DataFrame(data)\n",
        "df2 = df.replace({b'?':False, b't':True})\n",
        "df2 = df2.drop('total', axis=1)\n",
        "df2"
      ],
      "metadata": {
        "id": "mIlKFI-aXMM0"
      },
      "execution_count": null,
      "outputs": []
    },
    {
      "cell_type": "markdown",
      "metadata": {
        "id": "mG2A7YkMg_To"
      },
      "source": [
        "FPGrowthで頻出項目集合を求め、association_rulesで規則を抽出します。"
      ]
    },
    {
      "cell_type": "code",
      "metadata": {
        "id": "5lhBvzj8g_To"
      },
      "source": [
        "freq2 = fpgrowth(df2, min_support=0.3, use_colnames=True)"
      ],
      "execution_count": null,
      "outputs": []
    },
    {
      "cell_type": "code",
      "metadata": {
        "id": "8jI1C55Qg_Tq"
      },
      "source": [
        "ar = association_rules(freq2, metric='lift', min_threshold=1.2)"
      ],
      "execution_count": null,
      "outputs": []
    },
    {
      "cell_type": "markdown",
      "source": [
        "plotlyで可視化するためのデータ変換"
      ],
      "metadata": {
        "id": "9Eji6Lp9eFmB"
      }
    },
    {
      "cell_type": "code",
      "source": [
        "alist = []\n",
        "clist = []\n",
        "for a, c in zip(ar['antecedents'], ar['consequents']):\n",
        "  alist.append(','.join(a))\n",
        "  clist.append(','.join(c))\n",
        "ar2 = ar.drop(['antecedents','consequents'], axis=1)\n",
        "ar2['antecedents'] = alist\n",
        "ar2['consequents'] = clist\n",
        "ar2"
      ],
      "metadata": {
        "id": "5DZvcQZFd-Op"
      },
      "execution_count": null,
      "outputs": []
    },
    {
      "cell_type": "markdown",
      "source": [
        "各規則がsupportとconfidenceの2次元空間にプロットされ、lift値は色の明るさで示されます。点にカーソルを合わせると、その点が表現している規則とそのスコアが表示されます。"
      ],
      "metadata": {
        "id": "QBdJ4F52eRrk"
      }
    },
    {
      "cell_type": "code",
      "source": [
        "import plotly.express as px\n",
        "fig = px.scatter(ar2, x = 'support', y = 'confidence', color='lift', hover_data=['antecedents','consequents'])\n",
        "fig.show()"
      ],
      "metadata": {
        "id": "T7L8nU8-dsek"
      },
      "execution_count": null,
      "outputs": []
    },
    {
      "cell_type": "markdown",
      "metadata": {
        "id": "vWz8kABpg_Tt"
      },
      "source": [
        "## 行列分解\n",
        "\n",
        "小規模な映画評価データを使って、行列分解を行います。"
      ]
    },
    {
      "cell_type": "markdown",
      "metadata": {
        "id": "FlqFuGB1g_Tt"
      },
      "source": [
        "\n",
        "\n",
        "ライブラリの読み込み"
      ]
    },
    {
      "cell_type": "code",
      "metadata": {
        "id": "tnx6JAfng_Tt"
      },
      "source": [
        "import numpy as np\n",
        "from sklearn.decomposition import NMF"
      ],
      "execution_count": null,
      "outputs": []
    },
    {
      "cell_type": "markdown",
      "metadata": {
        "id": "RtPArovig_Tv"
      },
      "source": [
        "<a href=\"http://www.quuxlabs.com/blog/2010/09/matrix-factorization-a-simple-tutorial-and-implementation-in-python/\">参考ページ</a>のデータ例を使用します。行がユーザ(5人)、列が映画(4作品)、数値が1-5の5段階評価で、0は評価なしです。"
      ]
    },
    {
      "cell_type": "code",
      "metadata": {
        "id": "ueXJrMXOg_Tw"
      },
      "source": [
        "X = np.array([\n",
        "    [5,3,0,1],\n",
        "    [4,0,0,1],\n",
        "    [1,1,0,5],\n",
        "    [1,0,0,4],\n",
        "    [0,1,5,4]\n",
        "])"
      ],
      "execution_count": null,
      "outputs": []
    },
    {
      "cell_type": "markdown",
      "metadata": {
        "id": "eQpz-z6Jg_Tx"
      },
      "source": [
        "ここでは、非負値行列分解[NMF](https://scikit-learn.org/stable/modules/generated/sklearn.decomposition.NMF.html)を使います。NMFはXを非負の行列WとHに分解します。引数n_componentsは潜在変数の次元数です。"
      ]
    },
    {
      "cell_type": "code",
      "metadata": {
        "id": "iBhVp1pfg_Ty"
      },
      "source": [
        "model = NMF(n_components = 2)\n",
        "W = model.fit_transform(X)\n",
        "H = model.components_"
      ],
      "execution_count": null,
      "outputs": []
    },
    {
      "cell_type": "markdown",
      "metadata": {
        "id": "zXlcLsM7g_T0"
      },
      "source": [
        "空所の値を予測してみます。似たようなユーザを参考に、埋められた値の妥当性を評価してみてください。"
      ]
    },
    {
      "cell_type": "code",
      "metadata": {
        "id": "yEZiezskg_T0"
      },
      "source": [
        "np.set_printoptions(suppress=True)\n",
        "np.dot(W,H)"
      ],
      "execution_count": null,
      "outputs": []
    },
    {
      "cell_type": "markdown",
      "metadata": {
        "id": "F71ujDmwg_T2"
      },
      "source": [
        "人を表す2次元ベクトルを表示します。同じような評価をする人が似たベクトルになっていることを確認してください。"
      ]
    },
    {
      "cell_type": "code",
      "metadata": {
        "id": "yGV2ccjhg_T2"
      },
      "source": [
        "W"
      ],
      "execution_count": null,
      "outputs": []
    },
    {
      "cell_type": "markdown",
      "metadata": {
        "id": "rre-5obJg_T5"
      },
      "source": [
        "映画を表す2次元ベクトルを表示します。同じような評価をされる映画がないので、それぞれ異なったベクトルになっていることを確認してください。"
      ]
    },
    {
      "cell_type": "code",
      "metadata": {
        "id": "WDOVM2cNg_T5"
      },
      "source": [
        "H.T"
      ],
      "execution_count": null,
      "outputs": []
    },
    {
      "cell_type": "markdown",
      "metadata": {
        "id": "PFHqsqlng_T7"
      },
      "source": [
        "## 練習問題\n",
        "\n",
        "a prioriアルゴリズムによる規則抽出のコード例で求めた規則よりも、Lift値の高い規則を探すにはどうすればよいか？以下のテキストセルに方針を記し、コードセルでプログラムを実行させよ。"
      ]
    },
    {
      "cell_type": "markdown",
      "source": [
        "### 解答欄（ここに方針を記述）"
      ],
      "metadata": {
        "id": "qzSpJb2NVx_K"
      }
    },
    {
      "cell_type": "code",
      "source": [
        "# ここにプログラムを記述\n"
      ],
      "metadata": {
        "id": "u3KAr_VvVyzp"
      },
      "execution_count": null,
      "outputs": []
    }
  ]
}