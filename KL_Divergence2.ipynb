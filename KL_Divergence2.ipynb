{
  "nbformat": 4,
  "nbformat_minor": 0,
  "metadata": {
    "colab": {
      "provenance": [],
      "authorship_tag": "ABX9TyMQlSaKXqiTTJI9dUc7h70X",
      "include_colab_link": true
    },
    "kernelspec": {
      "name": "python3",
      "display_name": "Python 3"
    },
    "language_info": {
      "name": "python"
    }
  },
  "cells": [
    {
      "cell_type": "markdown",
      "metadata": {
        "id": "view-in-github",
        "colab_type": "text"
      },
      "source": [
        "<a href=\"https://colab.research.google.com/github/ailab-nda/ML/blob/main/KL_Divergence2.ipynb\" target=\"_parent\"><img src=\"https://colab.research.google.com/assets/colab-badge.svg\" alt=\"Open In Colab\"/></a>"
      ]
    },
    {
      "cell_type": "code",
      "source": [
        "import numpy as np\n",
        "import matplotlib.pyplot as plt\n",
        "from scipy.stats import binom\n",
        "\n",
        "# 1. magic for inline plot\n",
        "# 2. magic to print version\n",
        "# 3. magic so that the notebook will reload external python modules\n",
        "# 4. magic to enable retina (high resolution) plots\n",
        "# https://gist.github.com/minrk/3301035\n",
        "%matplotlib inline\n",
        "#%load_ext watermark\n",
        "#%load_ext autoreload\n",
        "#%autoreload 2\n",
        "#%config InlineBackend.figure_format='retina'\n",
        "#%watermark -a 'Ethen' -d -t -v -p numpy,scipy,matplotlib"
      ],
      "metadata": {
        "id": "zNM-uPUksm-_"
      },
      "execution_count": null,
      "outputs": []
    },
    {
      "cell_type": "markdown",
      "source": [
        "# KULLBACK-LEIBLER DIVERGENCE"
      ],
      "metadata": {
        "id": "uBWiPCOSsXry"
      }
    },
    {
      "cell_type": "markdown",
      "source": [
        "n this post we're going to take a look at way of comparing two probability distributions called **Kullback-Leibler Divergence (a.k.a KL divergence)**. Very often in machine learning, we'll replace observed data or a complex distributions with a simpler, approximating distribution. KL Divergence helps us to measure just how much information we lose when we choose an approximation, thus we can even use it as our objective function to pick which approximation would work best for the problem at hand.\n",
        "Let's look at an example: (The example here is borrowed from the following link. [Blog: Kullback-Leibler Divergence Explained](https://www.countbayesie.com/blog/2017/5/9/kullback-leibler-divergence-explained)).\n",
        "Suppose we're a group of scientists visiting space and we discovered some space worms. These space worms have varying number of teeth. After a decent amount of collecting, we have come to this empirical probability distribution of the number of teeth in each worm:"
      ],
      "metadata": {
        "id": "fbp60fcBtMKD"
      }
    },
    {
      "cell_type": "code",
      "execution_count": null,
      "metadata": {
        "id": "Be0FSMYnsQu9"
      },
      "outputs": [],
      "source": [
        "# ensure the probability adds up to 1\n",
        "true_data = np.array([0.02, 0.03, 0.05, 0.14, 0.16, 0.15, 0.12, 0.08, 0.1, 0.08, 0.07])\n",
        "n = true_data.shape[0]\n",
        "index = np.arange(n)\n",
        "assert sum(true_data) == 1.0\n",
        "\n",
        "# change default style figure and font size\n",
        "plt.rcParams['figure.figsize'] = 8, 6\n",
        "plt.rcParams['font.size'] = 12\n",
        "\n",
        "plt.bar(index, true_data)\n",
        "plt.xlabel('Teeth Number')\n",
        "plt.title('Probability Distribution of Space Worm Teeth')\n",
        "plt.ylabel('Probability')\n",
        "plt.xticks(index)\n",
        "plt.show()"
      ]
    },
    {
      "cell_type": "markdown",
      "source": [
        "Now we need to send this information back to earth. But the problem is that sending information from space to earth is expensive. So we wish to represent this information with a minimum amount of information, perhaps just one or two parameters. One option to represent the distribution of teeth in worms is a uniform distribution."
      ],
      "metadata": {
        "id": "4NSBdRx-thOP"
      }
    },
    {
      "cell_type": "code",
      "source": [
        "uniform_data = np.full(n, 1.0 / n)\n",
        "\n",
        "# we can plot our approximated distribution against the original distribution\n",
        "width = 0.3\n",
        "plt.bar(index, true_data, width=width, label='True')\n",
        "plt.bar(index + width, uniform_data, width=width, label='Uniform')\n",
        "plt.xlabel('Teeth Number')\n",
        "plt.title('Probability Distribution of Space Worm Teeth')\n",
        "plt.ylabel('Probability')\n",
        "plt.xticks(index)\n",
        "plt.legend()\n",
        "plt.show()"
      ],
      "metadata": {
        "id": "mla74TnMshyh"
      },
      "execution_count": null,
      "outputs": []
    },
    {
      "cell_type": "markdown",
      "source": [
        "Another option is to use a binomial distribution."
      ],
      "metadata": {
        "id": "mOMnPO1ZtlsP"
      }
    },
    {
      "cell_type": "code",
      "source": [
        "# we estimate the parameter of the binomial distribution\n",
        "p = true_data.dot(index) / n\n",
        "print('p for binomial distribution:', p)\n",
        "binom_data = binom.pmf(index, n, p)\n",
        "binom_data"
      ],
      "metadata": {
        "id": "1nImc74Vtl_U"
      },
      "execution_count": null,
      "outputs": []
    },
    {
      "cell_type": "code",
      "source": [
        "width = 0.3\n",
        "plt.bar(index, true_data, width=width, label='True')\n",
        "plt.bar(index + width, binom_data, width=width, label='Binomial')\n",
        "plt.xlabel('Teeth Number')\n",
        "plt.title('Probability Distribution of Space Worm Teeth')\n",
        "plt.ylabel('Probability')\n",
        "plt.xticks(np.arange(n))\n",
        "plt.legend()\n",
        "plt.show()"
      ],
      "metadata": {
        "id": "uLvYpY8otnmM"
      },
      "execution_count": null,
      "outputs": []
    },
    {
      "cell_type": "markdown",
      "source": [
        "Comparing each of our models with our original data we can see that neither one is the perfect match, but the question now becomes, which one is better?"
      ],
      "metadata": {
        "id": "Fu_ccJDrtr8t"
      }
    },
    {
      "cell_type": "code",
      "source": [
        "plt.bar(index - width, true_data, width=width, label='True')\n",
        "plt.bar(index, uniform_data, width=width, label='Uniform')\n",
        "plt.bar(index + width, binom_data, width=width, label='Binomial')\n",
        "plt.xlabel('Teeth Number')\n",
        "plt.title('Probability Distribution of Space Worm Teeth Number')\n",
        "plt.ylabel('Probability')\n",
        "plt.xticks(index)\n",
        "plt.legend()\n",
        "plt.show()"
      ],
      "metadata": {
        "id": "PYHCBO2Qtp26"
      },
      "execution_count": null,
      "outputs": []
    },
    {
      "cell_type": "markdown",
      "source": [
        "Given these two distributions that we are using to approximate the original distribution, we need a quantitative way to measure which one does the job better. This is where **Kullback-Leibler (KL) Divergence** comes in.\n",
        "\n",
        "KL Divergence has its origins in information theory. The primary goal of information theory is to quantify how much information is in our data. To recap, one of the most important metric in information theory is called Entropy, which we will denote as $H$ . The entropy for a probability distribution is defined as:\n",
        "\n",
        "$$\n",
        "H = - \\sum_{i=1}^{N} p(x_{i}) \\log p(x_{i})\n",
        "$$\n",
        "\n",
        "If we use  $\\log_2$ for our calculation we can interpret entropy as, using a distribution $p$, the minimum number of bits it would take us to encode events drawn from distribution $p$ . Knowing we have a way to quantify how much information is in our data, we now extend it to quantify how much information is lost when we substitute our observed distribution for a parameterized approximation.\n",
        "\n",
        "The formula for Kullback-Leibler Divergence is a slight modification of entropy. Rather than just having our probability distribution $p$  we add in our approximating distribution $q$ , then we look at the difference of the log values for each:\n",
        "\n",
        "$$\n",
        "D_{KL}(p||q) = \\sum_{i=1}^{N}p(x_i)(\\log p(x_i) - \\log q(x_i))\n",
        "$$\n",
        "\n",
        "Essentially, what we're looking at with KL divergence is the expectation of the log difference between the probability of data in the original distribution with the approximating distribution. Because we're multiplying the difference between the two distribution with $p(x_i)$, this means that matching areas where the original distribution has a higher probability is more important than areas that has a lower probability. Again, if we think in terms of  $\\log_2$ , we can interpret this as, how many extra bits of information we need to encode events drawn from true distribution $p$, if using an optimal code from distribution $q$ rather than $p$.\n",
        "\n",
        "The more common way to see KL divergence written is as follows:\n",
        "\n",
        "$$\n",
        "D_{KL}(p||q) = \\sum_{i=1}^{N}p(x_i)\\log \\frac{p(x_i)}{q(x_i)}\n",
        "$$\n",
        "\n",
        "since  $\\log a - \\log b = \\log \\frac{a}{b}$.\n",
        "\n",
        "If two distributions, $p$ and $q$ perfectly match, $D_{KL}(p||q) = 0$, otherwise the lower the KL divergence value, the better we have matched the true distribution with our approximation.\n",
        "\n",
        "Side Note: If you're interested in having an understanding of the relationship between entropy, cross entropy and KL divergence, the following links are good places to start. Maybe they will clear up some of the hand-wavy explanation of these concepts ... [Youtube: A Short Introduction to Entropy, Cross-Entropy](https://www.youtube.com/watch?v=ErfnhcEV1O8) and KL-Divergence and [StackExchange: Why do we use Kullback-Leibler divergence rather than cross entropy in the t-SNE objective function?](https://stats.stackexchange.com/questions/265966/why-do-we-use-kullback-leibler-divergence-rather-than-cross-entropy-in-the-t-sne/265989)\n",
        "\n",
        "Given these information, we can go ahead and calculate the KL divergence for our two approximating distributions."
      ],
      "metadata": {
        "id": "cvVtsHPZtyaj"
      }
    },
    {
      "cell_type": "code",
      "source": [
        "# both function are equivalent ways of computing KL-divergence\n",
        "# one uses for loop and the other uses vectorization\n",
        "def compute_kl_divergence(p_probs, q_probs):\n",
        "    \"\"\"\"KL (p || q)\"\"\"\n",
        "    kl_div = 0.0\n",
        "    for p, q in zip(p_probs, q_probs):\n",
        "        kl_div += p * np.log(p / q)\n",
        "\n",
        "    return kl_div\n",
        "\n",
        "\n",
        "def compute_kl_divergence(p_probs, q_probs):\n",
        "    \"\"\"\"KL (p || q)\"\"\"\n",
        "    kl_div = p_probs * np.log(p_probs / q_probs)\n",
        "    return np.sum(kl_div)\n",
        "\n",
        "\n",
        "print('KL(True||Uniform): ', compute_kl_divergence(true_data, uniform_data))\n",
        "print('KL(True||Binomial): ', compute_kl_divergence(true_data, binom_data))\n",
        "print('KL(Uniform||True): ', compute_kl_divergence(uniform_data, true_data))"
      ],
      "metadata": {
        "id": "JLeUF6TftuIj"
      },
      "execution_count": null,
      "outputs": []
    }
  ]
}