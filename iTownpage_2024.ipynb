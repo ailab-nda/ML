{
  "cells": [
    {
      "cell_type": "markdown",
      "metadata": {
        "id": "view-in-github",
        "colab_type": "text"
      },
      "source": [
        "<a href=\"https://colab.research.google.com/github/ailab-nda/ML/blob/main/iTownpage_2024.ipynb\" target=\"_parent\"><img src=\"https://colab.research.google.com/assets/colab-badge.svg\" alt=\"Open In Colab\"/></a>"
      ]
    },
    {
      "cell_type": "markdown",
      "metadata": {
        "id": "Fb4ev5G2p16X"
      },
      "source": [
        "# 住所の検索と緯度経度情報の取得\n",
        "この演習では２箇所のサイトにアクセスします。\n",
        "\n",
        "- iタウンページ: 施設の住所を知る\n",
        "- 国土地理院: 住所から緯度経度への変換を行う\n",
        "\n",
        "上記のサイトには、アクセス方法に違いがあります。\n",
        "\n",
        "- iタウンページ：Web ブラウザ経由\n",
        "- 国土地理院：API 経由\n",
        "\n",
        "技術的には python によるネットワークプログラミングとデータフレームの処理をしているのですが、授業の範囲外なので省略します。"
      ]
    },
    {
      "cell_type": "markdown",
      "metadata": {
        "id": "sQYKHlbUp16Z"
      },
      "source": [
        "### (1) 必要なライブラリのインストールおよびインポート"
      ]
    },
    {
      "cell_type": "markdown",
      "metadata": {
        "id": "TcIot1_rp16Z"
      },
      "source": [
        "インストール（マシンへインストール）"
      ]
    },
    {
      "cell_type": "code",
      "execution_count": null,
      "metadata": {
        "id": "zmgd0suep16a"
      },
      "outputs": [],
      "source": [
        "import os\n",
        "#os.environ[\"https_proxy\"] = \"http://cmproxy.nda.ac.jp:8080\"\n",
        "!pip install selenium folium --trusted-host pypi.python.org --trusted-host files.pythonhosted.org --trusted-host pypi.org"
      ]
    },
    {
      "cell_type": "markdown",
      "metadata": {
        "id": "2nUxDLp7p16a"
      },
      "source": [
        "インポート（プログラムにインポート）"
      ]
    },
    {
      "cell_type": "code",
      "execution_count": null,
      "metadata": {
        "id": "tLC2zdPpp16a"
      },
      "outputs": [],
      "source": [
        "from selenium import webdriver\n",
        "from selenium.webdriver.common.by import By\n",
        "from selenium.webdriver.chrome.options import Options\n",
        "from selenium.webdriver.support.ui import WebDriverWait\n",
        "from selenium.webdriver.support import expected_conditions as EC\n",
        "\n",
        "import re\n",
        "import pandas as pd\n",
        "import urllib\n",
        "import urllib.parse\n",
        "import requests\n",
        "import json\n",
        "import time\n",
        "import folium"
      ]
    },
    {
      "cell_type": "markdown",
      "metadata": {
        "id": "IMbAVmz-p16a"
      },
      "source": [
        "### (2) iタウンページへのアクセス\n",
        "下記ボックス内の search_area, search_word に検索したい言葉と場所を設定してください。"
      ]
    },
    {
      "cell_type": "code",
      "execution_count": null,
      "metadata": {
        "id": "xrTK9rjSp16b"
      },
      "outputs": [],
      "source": [
        "search_area = '横浜' # 検索した場所\n",
        "search_word = 'ラーメン' # 検索したい言葉\n",
        "\n",
        "print('URL:', 'https://itp.ne.jp/search/?mode=list&A1=&A2=&A4=' + search_area + '&TOWN=&C1=&C2=&C3=&C4=&word=' + search_word + '&PG=1')"
      ]
    },
    {
      "cell_type": "markdown",
      "metadata": {
        "id": "LNnXsvfap16b"
      },
      "source": [
        "ブラウザを立ち上げて、ページを巡回・情報の入手を行います。"
      ]
    },
    {
      "cell_type": "code",
      "execution_count": null,
      "metadata": {
        "id": "0waalrM0p16b"
      },
      "outputs": [],
      "source": [
        "options = webdriver.ChromeOptions()\n",
        "options.add_argument('--headless')\n",
        "options.add_argument('--no-sandbox')\n",
        "options.add_argument('--disable-dev-shm-usage')\n",
        "\n",
        "driver = webdriver.Chrome(options=options)\n",
        "driver.implicitly_wait(10)\n",
        "\n",
        "url = 'https://itp.ne.jp/search/?mode=list&A1=&A2=&A4=' + search_area + '&TOWN=&C1=&C2=&C3=&C4=&word=' + search_word + '&PG=1'\n",
        "driver.get(url)\n",
        "res = driver.find_element(By.CLASS_NAME, \"condition__ttl\")\n",
        "hits = int(re.findall(r'\\d+', res.text)[0])\n",
        "print(\"「\", search_area, \"」に\", hits, \"件の「\", search_word, \"」が見つかりました\", sep=\"\")\n",
        "\n",
        "df = pd.DataFrame()\n",
        "names = []\n",
        "addresses = []\n",
        "stations = []\n",
        "\n",
        "for i in range(1, hits//20 + 2):\n",
        "    print('i =', i)\n",
        "    url = 'https://itp.ne.jp/search/?mode=list&A1=&A2=&A4=' + search_area + '&TOWN=&C1=&C2=&C3=&C4=&word=' + search_word + '&PG=' + str(i)\n",
        "    print(url)\n",
        "    driver.get(url)\n",
        "    driver.execute_script('window.scrollTo(0, document.body.scrollHeight);')\n",
        "    #for j in range(300):\n",
        "    #    driver.execute_script('window.scrollBy(0, 20);')\n",
        "    time.sleep(1)\n",
        "\n",
        "    elements1 = driver.find_elements(By.CLASS_NAME, 'result-item-head__ttl')\n",
        "    elements2 = driver.find_elements(By.CLASS_NAME, 'result-item-cts-desc__area')\n",
        "    for j in range(len(elements1)):\n",
        "        names.append(elements1[j].text)\n",
        "        tmp = elements2[j].text.split('\\n')\n",
        "        addresses.append(tmp[0])\n",
        "        if len(tmp) == 2:\n",
        "            stations.append(tmp[1])\n",
        "        else:\n",
        "            stations.append('なし')\n",
        "driver.close()\n",
        "\n",
        "df = pd.DataFrame()\n",
        "df['name'] = names\n",
        "df['address'] = addresses\n",
        "df['station'] = stations\n",
        "df"
      ]
    },
    {
      "cell_type": "markdown",
      "metadata": {
        "id": "1dGi_QoRp16b"
      },
      "source": [
        "### (3) 国土地理院 API へのアクセス\n",
        "住所を送信すると緯度経度が返ってきます。"
      ]
    },
    {
      "cell_type": "code",
      "execution_count": null,
      "metadata": {
        "id": "fdjmbqIOp16b"
      },
      "outputs": [],
      "source": [
        "# 国土地理院API\n",
        "GeospatialUrl = 'https://msearch.gsi.go.jp/address-search/AddressSearch?q='\n",
        "\n",
        "lat_list = []\n",
        "lon_list = []\n",
        "for index, row in df.iterrows():\n",
        "    print('\\r', index, '/', hits, '件取得', end='')\n",
        "    s_quote = urllib.parse.quote(row.address)\n",
        "    response = requests.get(GeospatialUrl + s_quote)\n",
        "    try:\n",
        "        lat_list.append(response.json()[0]['geometry']['coordinates'][1])\n",
        "        lon_list.append(response.json()[0]['geometry']['coordinates'][0])\n",
        "    except Exception as e:\n",
        "        print(e)\n",
        "    time.sleep(0.2)\n",
        "\n",
        "df['lat'] = lat_list\n",
        "df['lon'] = lon_list\n",
        "df"
      ]
    },
    {
      "cell_type": "markdown",
      "metadata": {
        "id": "4s6LRt9Np16c"
      },
      "source": [
        "### (4) 結果をファイルへ出力\n",
        "このファイルと同じ場所（画面左にあるフォルダの形をしたアイコンをクリックするとファイルが見えます）に「検索場所_検索語.csv」というファイルができるので、これを ArcGIS Pro で使用します。"
      ]
    },
    {
      "cell_type": "code",
      "execution_count": null,
      "metadata": {
        "id": "4hr6H7Etp16c"
      },
      "outputs": [],
      "source": [
        "df.to_csv(search_area + '_' + search_word + '.csv', index=False, encoding=\"cp932\")"
      ]
    },
    {
      "cell_type": "markdown",
      "metadata": {
        "id": "iayJXeIKp16c"
      },
      "source": [
        "### (5) おまけ\n",
        "この後の処理は ArcGIS Pro で行いますが、表示だけならここでも可能です。"
      ]
    },
    {
      "cell_type": "code",
      "execution_count": null,
      "metadata": {
        "id": "gcrrMuEQp16c"
      },
      "outputs": [],
      "source": [
        "import folium\n",
        "\n",
        "# 地図生成\n",
        "folium_map = folium.Map(location=[df['lat'].mean(), df['lon'].mean()], zoom_start=12)\n",
        "\n",
        "# マーカープロット\n",
        "for i, row in df.iterrows():\n",
        "    folium.Marker(location=[row['lat'], row['lon']], popup=row['name'], icon=folium.Icon(color='red')).add_to(folium_map)\n",
        "\n",
        "# 地図表示\n",
        "folium_map"
      ]
    }
  ],
  "metadata": {
    "kernelspec": {
      "display_name": "Python 3",
      "language": "python",
      "name": "python3"
    },
    "language_info": {
      "codemirror_mode": {
        "name": "ipython",
        "version": 3
      },
      "file_extension": ".py",
      "mimetype": "text/x-python",
      "name": "python",
      "nbconvert_exporter": "python",
      "pygments_lexer": "ipython3",
      "version": "3.12.4"
    },
    "vscode": {
      "interpreter": {
        "hash": "dcf9e2717909001467cf879b1089e6e80dddbfb5060f305c8aadf7a9adff89a8"
      }
    },
    "colab": {
      "provenance": [],
      "include_colab_link": true
    }
  },
  "nbformat": 4,
  "nbformat_minor": 0
}