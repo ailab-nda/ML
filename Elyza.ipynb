{
  "nbformat": 4,
  "nbformat_minor": 0,
  "metadata": {
    "colab": {
      "provenance": [],
      "gpuType": "T4",
      "authorship_tag": "ABX9TyP/UOjI1SkH+uVR1TWwplBG",
      "include_colab_link": true
    },
    "kernelspec": {
      "name": "python3",
      "display_name": "Python 3"
    },
    "language_info": {
      "name": "python"
    },
    "accelerator": "GPU"
  },
  "cells": [
    {
      "cell_type": "markdown",
      "metadata": {
        "id": "view-in-github",
        "colab_type": "text"
      },
      "source": [
        "<a href=\"https://colab.research.google.com/github/ailab-nda/ML/blob/main/Elyza.ipynb\" target=\"_parent\"><img src=\"https://colab.research.google.com/assets/colab-badge.svg\" alt=\"Open In Colab\"/></a>"
      ]
    },
    {
      "cell_type": "markdown",
      "source": [
        "# Google Colab で ELYZA-japanese-Llama-2-7b を試す\n",
        "https://note.com/npaka/n/nbb94b45f47a5"
      ],
      "metadata": {
        "id": "dU9f8N_e0U8J"
      }
    },
    {
      "cell_type": "markdown",
      "source": [
        "## パッケージのインストール"
      ],
      "metadata": {
        "id": "AUtvKlLD0cxJ"
      }
    },
    {
      "cell_type": "code",
      "source": [
        "!pip install transformers accelerate bitsandbytes"
      ],
      "metadata": {
        "id": "OT1UWtqs0WMj"
      },
      "execution_count": null,
      "outputs": []
    },
    {
      "cell_type": "markdown",
      "source": [
        "## トークナイザーとモデルの準備\n",
        "今回は、高速な指示モデル (elyza/ELYZA-japanese-Llama-2-7b-fast-instruct) を利用しています。"
      ],
      "metadata": {
        "id": "WlMsHi8W1Fxu"
      }
    },
    {
      "cell_type": "code",
      "source": [
        "from transformers import AutoModelForCausalLM, AutoTokenizer\n",
        "import torch\n",
        "\n",
        "# トークナイザーとモデルの準備\n",
        "tokenizer = AutoTokenizer.from_pretrained(\n",
        "    \"elyza/ELYZA-japanese-Llama-2-7b-instruct\"\n",
        ")\n",
        "model = AutoModelForCausalLM.from_pretrained(\n",
        "    \"elyza/ELYZA-japanese-Llama-2-7b-instruct\",\n",
        "    torch_dtype=torch.float16,\n",
        "    device_map=\"auto\"\n",
        ")"
      ],
      "metadata": {
        "id": "GK3ZIY4c09ey"
      },
      "execution_count": null,
      "outputs": []
    },
    {
      "cell_type": "markdown",
      "source": [
        "### 推論の実行"
      ],
      "metadata": {
        "id": "nJmiPPAY1Q57"
      }
    },
    {
      "cell_type": "code",
      "source": [
        "# プロンプトの準備\n",
        "prompt = \"\"\"<s>[INST] <<SYS>>\n",
        "あなたは誠実で優秀な日本人のアシスタントです。\n",
        "<</SYS>>\n",
        "\n",
        "まどか☆マギカでは誰が一番かわいい？ [/INST]\"\"\"\n",
        "\n",
        "# 推論の実行\n",
        "with torch.no_grad():\n",
        "    token_ids = tokenizer.encode(prompt, add_special_tokens=False, return_tensors=\"pt\")\n",
        "    output_ids = model.generate(\n",
        "        token_ids.to(model.device),\n",
        "        max_new_tokens=256,\n",
        "        pad_token_id=tokenizer.pad_token_id,\n",
        "        eos_token_id=tokenizer.eos_token_id,\n",
        "    )\n",
        "output = tokenizer.decode(output_ids.tolist()[0][token_ids.size(1) :], skip_special_tokens=True)\n",
        "print(output)"
      ],
      "metadata": {
        "id": "Zr1nEmqd1PGS"
      },
      "execution_count": null,
      "outputs": []
    },
    {
      "cell_type": "markdown",
      "source": [
        "### プロンプトの書き方\n",
        "\n",
        "プロンプトの書式は、「Llama 2」と同様です。\n",
        "\n",
        "```\n",
        " <s>[INST] <<SYS>>\n",
        " {システムメッセージ}\n",
        " <</SYS>>\n",
        "\n",
        " {ユーザーメッセージ} [/INST]\n",
        "```"
      ],
      "metadata": {
        "id": "PQ4Z_J2B5kzU"
      }
    },
    {
      "cell_type": "markdown",
      "source": [
        "## ストリーミング出力"
      ],
      "metadata": {
        "id": "qwat8qCI29Dy"
      }
    },
    {
      "cell_type": "code",
      "source": [
        "from transformers import TextIteratorStreamer\n",
        "from threading import Thread\n",
        "\n",
        "# ストリーミング出力\n",
        "with torch.no_grad():\n",
        "    streamer = TextIteratorStreamer(tokenizer)\n",
        "    token_ids = tokenizer.encode(prompt, add_special_tokens=False, return_tensors=\"pt\")\n",
        "    generation_kwargs = dict(\n",
        "        input_ids=token_ids.to(model.device),\n",
        "        max_new_tokens=256,\n",
        "        pad_token_id=tokenizer.pad_token_id,\n",
        "        eos_token_id=tokenizer.eos_token_id,\n",
        "        streamer=streamer,\n",
        "    )\n",
        "    thread = Thread(target=model.generate, kwargs=generation_kwargs)\n",
        "    thread.start()\n",
        "\n",
        "# 出力\n",
        "for new_text in streamer:\n",
        "    print(new_text.replace(\" \", \"\"), end=\"\")"
      ],
      "metadata": {
        "id": "VcchOb9g1ld9"
      },
      "execution_count": null,
      "outputs": []
    },
    {
      "cell_type": "code",
      "source": [],
      "metadata": {
        "id": "2_Ptjg2W3BOI"
      },
      "execution_count": null,
      "outputs": []
    }
  ]
}