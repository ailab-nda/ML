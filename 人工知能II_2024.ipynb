{
  "nbformat": 4,
  "nbformat_minor": 0,
  "metadata": {
    "colab": {
      "provenance": [],
      "authorship_tag": "ABX9TyPZZUKLnvHTohmVJzDv7gwi",
      "include_colab_link": true
    },
    "kernelspec": {
      "name": "python3",
      "display_name": "Python 3"
    },
    "language_info": {
      "name": "python"
    },
    "accelerator": "GPU"
  },
  "cells": [
    {
      "cell_type": "markdown",
      "metadata": {
        "id": "view-in-github",
        "colab_type": "text"
      },
      "source": [
        "<a href=\"https://colab.research.google.com/github/ailab-nda/ML/blob/main/%E4%BA%BA%E5%B7%A5%E7%9F%A5%E8%83%BDII_2024.ipynb\" target=\"_parent\"><img src=\"https://colab.research.google.com/assets/colab-badge.svg\" alt=\"Open In Colab\"/></a>"
      ]
    },
    {
      "cell_type": "markdown",
      "source": [
        "# 人工知能II試験問題\n",
        "\n",
        "以下の問題について解答し、結果を提出してください。なお、解答については文章はテキストセルに、プログラムに関してはコードセルに記入すること。また、結果の提出については、この画面の左上の「ファイル」メニュー内にある「ダウンロード」->「.ipynbをダウンロード」で自分のマシンにダウンロードできるので、それを各自の学内メールに添付してください。\n",
        "\n",
        "数式の書き方 --> https://qiita.com/PlanetMeron/items/63ac58898541cbe81ada"
      ],
      "metadata": {
        "id": "6cmZnSwSLFS3"
      }
    },
    {
      "cell_type": "markdown",
      "source": [
        "# 1. 用語説明"
      ],
      "metadata": {
        "id": "EMP3Omloc1_s"
      }
    },
    {
      "cell_type": "markdown",
      "source": [
        " (1) ニューラルネットワークにおける勾配消失問題とはどのようなものか？またそれはどのような時に生じるか？"
      ],
      "metadata": {
        "id": "waEhIMDbdcqV"
      }
    },
    {
      "cell_type": "markdown",
      "source": [
        "（解答欄）\n"
      ],
      "metadata": {
        "id": "0DCRduwRdeMy"
      }
    },
    {
      "cell_type": "markdown",
      "source": [
        "(2) 5x5 の入力データ $X$ に、1x2のカーネル $k$ を用いて畳み込み操作を行ったときの結果を記せ。ただし、\n",
        "\n",
        "$\n",
        "x = \\left[\n",
        "    \\begin{matrix}\n",
        "    1 & 1 & 0 & 1 & 0 \\\\\n",
        "    0 & 0 & 0 & 1 & 0 \\\\\n",
        "    1 & 1 & 1 & 1 & 1 \\\\\n",
        "    1 & 0 & 1 & 0 & 1 \\\\\n",
        "    0 & 0 & 0 & 1& 1\n",
        "    \\end{matrix}\n",
        "    \\right],\n",
        "$\n",
        "$\n",
        "k = \\left[\n",
        "    \\begin{matrix}\n",
        "    1 & -1\n",
        "    \\end{matrix}\n",
        "    \\right]\n",
        "$\n",
        "\n",
        "とし、ストライドは 1 とする。"
      ],
      "metadata": {
        "id": "AWzVXsZjdjJK"
      }
    },
    {
      "cell_type": "markdown",
      "source": [
        "（解答欄）\n"
      ],
      "metadata": {
        "id": "Fljviq12gE1l"
      }
    },
    {
      "cell_type": "markdown",
      "source": [
        "# 2. 数式"
      ],
      "metadata": {
        "id": "ODyLb4xYbntN"
      }
    },
    {
      "cell_type": "markdown",
      "source": [
        "(1) Transformer における Scaled Dot-Product Attention を数式で表せ。"
      ],
      "metadata": {
        "id": "YLIIJrSYnOqk"
      }
    },
    {
      "cell_type": "markdown",
      "source": [
        "【解答欄】"
      ],
      "metadata": {
        "id": "KZjkG9Kjgah7"
      }
    },
    {
      "cell_type": "markdown",
      "source": [
        "(2)"
      ],
      "metadata": {
        "id": "77dp7gAXnRBb"
      }
    },
    {
      "cell_type": "markdown",
      "source": [
        "【解答欄】\n"
      ],
      "metadata": {
        "id": "GsNAWVVjs2Qa"
      }
    },
    {
      "cell_type": "markdown",
      "source": [
        "# 3. 大規模言語モデル"
      ],
      "metadata": {
        "id": "qL0toXT4gh5p"
      }
    },
    {
      "cell_type": "markdown",
      "source": [
        "２つ以上の大規模言語モデルを使用し、使用感を比較せよ。使用する大規模言語モデルは、複数メーカのものでもいいし、同一メーカーの別モデルでも構わない。また、試す課題（執筆、要約、数学、など）についても自由とする。"
      ],
      "metadata": {
        "id": "bMY4ZhbzTMe6"
      }
    },
    {
      "cell_type": "markdown",
      "source": [
        "【解答欄】"
      ],
      "metadata": {
        "id": "OqNO6JVXhJxX"
      }
    },
    {
      "cell_type": "markdown",
      "source": [
        "# 4. 自由記述"
      ],
      "metadata": {
        "id": "tlJcI_mGpRmq"
      }
    },
    {
      "cell_type": "markdown",
      "source": [
        "（解答欄）\n"
      ],
      "metadata": {
        "id": "KZg-hp1LpZno"
      }
    }
  ]
}