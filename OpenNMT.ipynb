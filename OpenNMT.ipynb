{
  "nbformat": 4,
  "nbformat_minor": 0,
  "metadata": {
    "colab": {
      "name": "OpenNMT.ipynb",
      "provenance": [],
      "collapsed_sections": [],
      "authorship_tag": "ABX9TyMcdVEN7ETHwRDGK9Oy0TWs",
      "include_colab_link": true
    },
    "kernelspec": {
      "name": "python3",
      "display_name": "Python 3"
    },
    "language_info": {
      "name": "python"
    },
    "accelerator": "TPU"
  },
  "cells": [
    {
      "cell_type": "markdown",
      "metadata": {
        "id": "view-in-github",
        "colab_type": "text"
      },
      "source": [
        "<a href=\"https://colab.research.google.com/github/ailab-nda/NLP/blob/main/OpenNMT.ipynb\" target=\"_parent\"><img src=\"https://colab.research.google.com/assets/colab-badge.svg\" alt=\"Open In Colab\"/></a>"
      ]
    },
    {
      "cell_type": "markdown",
      "metadata": {
        "id": "vRW4Kv9qo14R"
      },
      "source": [
        ""
      ]
    },
    {
      "cell_type": "markdown",
      "metadata": {
        "id": "ZIVPCs3YOUs0"
      },
      "source": [
        "# OpenMNT-py"
      ]
    },
    {
      "cell_type": "markdown",
      "metadata": {
        "id": "_KmKfmPVMF6v"
      },
      "source": [
        "## 環境設定"
      ]
    },
    {
      "cell_type": "code",
      "metadata": {
        "id": "j5qhtzv5LoOR"
      },
      "source": [
        "%%bash\n",
        "git clone https://github.com/OpenNMT/OpenNMT-py.git\n",
        "cd OpenNMT-py\n",
        "pip install -e ."
      ],
      "execution_count": null,
      "outputs": []
    },
    {
      "cell_type": "markdown",
      "metadata": {
        "id": "W4gIztqfMxlD"
      },
      "source": [
        "### 実行"
      ]
    },
    {
      "cell_type": "markdown",
      "metadata": {
        "id": "c9aoqOVkWREs"
      },
      "source": [
        "データの準備（英語ードイツ語）"
      ]
    },
    {
      "cell_type": "code",
      "metadata": {
        "id": "pNlXxTQSSlVw"
      },
      "source": [
        "%%bash\n",
        "cd /content/OpenNMT-py/\n",
        "wget https://s3.amazonaws.com/opennmt-trainingdata/toy-ende.tar.gz\n",
        "tar xf toy-ende.tar.gz"
      ],
      "execution_count": null,
      "outputs": []
    },
    {
      "cell_type": "markdown",
      "metadata": {
        "id": "5crwZvjFWek5"
      },
      "source": [
        "設定ファイルの作成"
      ]
    },
    {
      "cell_type": "code",
      "metadata": {
        "id": "SVClutl3MWK-"
      },
      "source": [
        "%%bash\n",
        "cat << EOF > /content/OpenNMT-py/toy_en_de.yaml\n",
        "## Where the samples will be written\n",
        "save_data: /content/OpenNMT-py/toy-ende/run/example\n",
        "## Where the vocab(s) will be written\n",
        "src_vocab: /content/OpenNMT-py/toy-ende/run/example.vocab.src\n",
        "tgt_vocab: /content/OpenNMT-py/toy-ende/run/example.vocab.tgt\n",
        "# Prevent overwriting existing files in the folder\n",
        "overwrite: False\n",
        "\n",
        "# Corpus opts:\n",
        "data:\n",
        "    corpus_1:\n",
        "        path_src: /content/OpenNMT-py/toy-ende/src-train.txt\n",
        "        path_tgt: /content/OpenNMT-py/toy-ende/tgt-train.txt\n",
        "    valid:\n",
        "        path_src: /content/OpenNMT-py/toy-ende/src-val.txt\n",
        "        path_tgt: /content/OpenNMT-py/toy-ende/tgt-val.txt\n",
        "EOF"
      ],
      "execution_count": null,
      "outputs": []
    },
    {
      "cell_type": "code",
      "metadata": {
        "id": "6ON67rpwM2q7"
      },
      "source": [
        "%%bash\n",
        "cd /content/OpenNMT-py/\n",
        "onmt_build_vocab -config /content/OpenNMT-py/toy_en_de.yaml -n_sample 10000"
      ],
      "execution_count": null,
      "outputs": []
    },
    {
      "cell_type": "code",
      "metadata": {
        "id": "drZcA0JYQUN7"
      },
      "source": [
        "%%bash\n",
        "cat << EOF >> /content/OpenNMT-py/toy_en_de.yaml\n",
        "# Vocabulary files that were just created\n",
        "src_vocab: /content/OpenNMT-py/toy-ende/run/example.vocab.src\n",
        "tgt_vocab: /content/OpenNMT-py/toy-ende/run/example.vocab.tgt\n",
        "\n",
        "# Train on a single GPU\n",
        "world_size: 1\n",
        "gpu_ranks: [0]\n",
        "\n",
        "# Where to save the checkpoints\n",
        "save_model: /content/OpenNMT-py/toy-ende/run/model\n",
        "save_checkpoint_steps: 500\n",
        "train_steps: 1000\n",
        "valid_steps: 500\n",
        "EOF"
      ],
      "execution_count": null,
      "outputs": []
    },
    {
      "cell_type": "code",
      "metadata": {
        "id": "501KZlu3Teax"
      },
      "source": [
        "%%bash\n",
        "cd /content/OpenNMT-py/\n",
        "onmt_train -config /content/OpenNMT-py/toy_en_de.yaml"
      ],
      "execution_count": null,
      "outputs": []
    },
    {
      "cell_type": "code",
      "metadata": {
        "id": "Qf_hk1pR54RW"
      },
      "source": [
        "onmt_translate -model toy-ende/run/model_step_1000.pt -src toy-ende/src-test.txt -output toy-ende/pred_1000.txt -gpu 0 -verbose"
      ],
      "execution_count": null,
      "outputs": []
    },
    {
      "cell_type": "code",
      "metadata": {
        "id": "n8ZcyiMWVtoA"
      },
      "source": [
        "!ls /content/OpenNMT-py/toy-ende/run\n",
        "from google.colab import files\n",
        "path = \"/content/OpenNMT-py/toy-ende/run/\"\n",
        "\n",
        "files.download(path + \"example.vocab.src\")\n",
        "files.download(path + \"example.vocab.tgt\")\n",
        "files.download(path + \"model_step_1000.pt\")\n",
        "files.download(path + \"model_step_500.pt\")"
      ],
      "execution_count": null,
      "outputs": []
    },
    {
      "cell_type": "code",
      "metadata": {
        "id": "UU4oGj3FYv98"
      },
      "source": [
        ""
      ],
      "execution_count": null,
      "outputs": []
    }
  ]
}