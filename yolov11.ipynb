{
  "nbformat": 4,
  "nbformat_minor": 0,
  "metadata": {
    "colab": {
      "provenance": [],
      "authorship_tag": "ABX9TyPRmfXWlr2Qn6pvs/avA7q/",
      "include_colab_link": true
    },
    "kernelspec": {
      "name": "python3",
      "display_name": "Python 3"
    },
    "language_info": {
      "name": "python"
    }
  },
  "cells": [
    {
      "cell_type": "markdown",
      "metadata": {
        "id": "view-in-github",
        "colab_type": "text"
      },
      "source": [
        "<a href=\"https://colab.research.google.com/github/ailab-nda/ML/blob/main/yolov11.ipynb\" target=\"_parent\"><img src=\"https://colab.research.google.com/assets/colab-badge.svg\" alt=\"Open In Colab\"/></a>"
      ]
    },
    {
      "cell_type": "markdown",
      "source": [
        "# Yolo を用いた物体認識"
      ],
      "metadata": {
        "id": "tBxtRxn94SWR"
      }
    },
    {
      "cell_type": "markdown",
      "source": [
        "## 0. 準備"
      ],
      "metadata": {
        "id": "bMibOIEn4YAu"
      }
    },
    {
      "cell_type": "code",
      "source": [
        "%pip install ultralytics\n",
        "import ultralytics\n",
        "ultralytics.checks()"
      ],
      "metadata": {
        "id": "1ifoVLtwpKyU"
      },
      "execution_count": null,
      "outputs": []
    },
    {
      "cell_type": "code",
      "source": [
        "def display_results(results):\n",
        "    # Process results list\n",
        "    for result in results:\n",
        "        boxes = result.boxes  # Boxes object for bounding box outputs\n",
        "        masks = result.masks  # Masks object for segmentation masks outputs\n",
        "        keypoints = result.keypoints  # Keypoints object for pose outputs\n",
        "        probs = result.probs  # Probs object for classification outputs\n",
        "        obb = result.obb  # Oriented boxes object for OBB outputs\n",
        "        result.show()  # display to screen\n",
        "        result.save(filename=\"result.jpg\")  # save to disk"
      ],
      "metadata": {
        "id": "xzYw7Qhar847"
      },
      "execution_count": null,
      "outputs": []
    },
    {
      "cell_type": "markdown",
      "source": [
        "## 1. 物体検出"
      ],
      "metadata": {
        "id": "7AfvS7BXqDTh"
      }
    },
    {
      "cell_type": "code",
      "source": [
        "from ultralytics import YOLO\n",
        "\n",
        "# Load a model\n",
        "model = YOLO(\"yolo11n.pt\")  # load an official model\n",
        "#model = YOLO(\"path/to/best.pt\")  # load a custom model\n",
        "\n",
        "# Predict with the model\n",
        "results = model(\"https://ultralytics.com/images/bus.jpg\")  # predict on an image\n",
        "\n",
        "display_results(results)"
      ],
      "metadata": {
        "id": "SYNvpn6Lp3-_"
      },
      "execution_count": null,
      "outputs": []
    },
    {
      "cell_type": "markdown",
      "source": [
        "## 2. セグメンテーション"
      ],
      "metadata": {
        "id": "gn-qXN72qJ4h"
      }
    },
    {
      "cell_type": "code",
      "source": [
        "from ultralytics import YOLO\n",
        "\n",
        "# Load a model\n",
        "model = YOLO(\"yolo11n-seg.pt\")  # load an official model\n",
        "#model = YOLO(\"path/to/best.pt\")  # load a custom model\n",
        "\n",
        "# Predict with the model\n",
        "results = model(\"https://ultralytics.com/images/bus.jpg\")  # predict on an image\n",
        "\n",
        "display_results(results)"
      ],
      "metadata": {
        "id": "1dPZsUmxqIA-"
      },
      "execution_count": null,
      "outputs": []
    },
    {
      "cell_type": "markdown",
      "source": [
        "## 3. ポーズ検知"
      ],
      "metadata": {
        "id": "pIsg31mLqR0H"
      }
    },
    {
      "cell_type": "code",
      "source": [
        "from ultralytics import YOLO\n",
        "\n",
        "# Load a model\n",
        "model = YOLO(\"yolo11n-pose.pt\")  # load an official model\n",
        "#model = YOLO(\"path/to/best.pt\")  # load a custom model\n",
        "\n",
        "# Predict with the model\n",
        "results = model(\"https://ultralytics.com/images/bus.jpg\")  # predict on an image\n",
        "\n",
        "display_results(results)"
      ],
      "metadata": {
        "id": "u8DrvZi1qQ7h"
      },
      "execution_count": null,
      "outputs": []
    },
    {
      "cell_type": "markdown",
      "source": [
        "## 3. 分類"
      ],
      "metadata": {
        "id": "vtiV37bus3WH"
      }
    },
    {
      "cell_type": "code",
      "source": [
        "from ultralytics import YOLO\n",
        "\n",
        "# Load a model\n",
        "model = YOLO(\"yolo11n-cls.pt\")  # load an official model\n",
        "#model = YOLO(\"path/to/best.pt\")  # load a custom model\n",
        "\n",
        "# Predict with the model\n",
        "results = model(\"https://ultralytics.com/images/bus.jpg\")  # predict on an image\n",
        "\n",
        "display_results(results)"
      ],
      "metadata": {
        "id": "iz_7rTCrs70F"
      },
      "execution_count": null,
      "outputs": []
    },
    {
      "cell_type": "markdown",
      "source": [
        "## 4. Oriented Bounding Boxes (OBB)"
      ],
      "metadata": {
        "id": "gEFGEol6qa_F"
      }
    },
    {
      "cell_type": "code",
      "source": [
        "from ultralytics import YOLO\n",
        "\n",
        "# Load a model\n",
        "model = YOLO(\"yolo11n-obb.pt\")  # load an official model\n",
        "#model = YOLO(\"path/to/best.pt\")  # load a custom model\n",
        "\n",
        "# Predict with the model\n",
        "results = model(\"https://ultralytics.com/images/boats.jpg\")  # predict on an image\n",
        "\n",
        "display_results(results)"
      ],
      "metadata": {
        "id": "MDN8s8kjqW8z"
      },
      "execution_count": null,
      "outputs": []
    },
    {
      "cell_type": "markdown",
      "source": [
        "## 5. トラッキング"
      ],
      "metadata": {
        "id": "-YsIisGTtn7q"
      }
    },
    {
      "cell_type": "code",
      "source": [
        "from ultralytics import YOLO\n",
        "\n",
        "# Load an official or custom model\n",
        "model = YOLO(\"yolo11n.pt\")  # Load an official Detect model\n",
        "#model = YOLO(\"yolo11n-seg.pt\")  # Load an official Segment model\n",
        "#model = YOLO(\"yolo11n-pose.pt\")  # Load an official Pose model\n",
        "#model = YOLO(\"path/to/best.pt\")  # Load a custom trained model\n",
        "\n",
        "# Perform tracking with the model\n",
        "results = model.track(\"https://youtu.be/tShhVopoGKk?si=2APoBT-0gbxkNTPD\", show=True)  # Tracking with default tracker\n",
        "#results = model.track(\"https://youtu.be/LNwODJXcvt4\", show=True, tracker=\"bytetrack.yaml\")  # with ByteTrack\n",
        "\n",
        "#display_results(results)"
      ],
      "metadata": {
        "id": "wgFKhkQ2qf1_"
      },
      "execution_count": null,
      "outputs": []
    }
  ]
}