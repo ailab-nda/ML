{
  "cells": [
    {
      "cell_type": "markdown",
      "metadata": {
        "id": "view-in-github",
        "colab_type": "text"
      },
      "source": [
        "<a href=\"https://colab.research.google.com/github/ailab-nda/ML/blob/main/OpenAI_Whisper_Demo.ipynb\" target=\"_parent\"><img src=\"https://colab.research.google.com/assets/colab-badge.svg\" alt=\"Open In Colab\"/></a>"
      ]
    },
    {
      "cell_type": "markdown",
      "source": [
        "# OpenAIのWhisper音声認識モデルをデモするWebアプリケーション\n",
        "\n",
        "このColabノートブックは、[OpenAIのフリーWhisper音声認識モデル](https://openai.com/blog/whisper/)に音声ファイルを録音またはアップロードするためのものです。これは[@amrrsによるオリジナルのノートブック](https://github.com/amrrs/openai-whisper-webapp)をベースに、[Pete Warden](https://twitter.com/petewarden)によるドキュメントとテストファイルを追加したものです。\n",
        "\n",
        "使用するには、Colabメニューから`Runtime->Run All`を選択してください。このノートブックをGitHubで見ている場合は、まず[このリンク](https://colab.research.google.com/github/petewarden/openai-whisper-webapp/blob/main/OpenAI_Whisper_ASR_Demo.ipynb)をたどってColabで開いてください。1分ほどすると、ページの下に`Record from microphone`リンクのボタンが表示されるはずです。これをクリックすると、マイクへのアクセス許可を求められるので、最大30秒間話してください。録音が終わったら、「録音停止」を押してください。録音ボタンの右側のボックスに、最初の30秒間のスピーチ原稿が表示されます。さらに書き起こしたい場合は、左のボックスの「クリア」をクリックし、最初からやり直してください。\n",
        "\n",
        "このページの左側にあるフォルダアイコンを使って、自分の音声サンプルをアップロードすることもできます。ファイルをドラッグしてアップロードできるファイルシステムにアクセスできます。以下のいくつかのセルで、テープ起こしの実行例を見ることができます。"
      ],
      "metadata": {
        "id": "Lbja1jB3vDOT"
      }
    },
    {
      "cell_type": "markdown",
      "source": [
        "## Whisper のインストール"
      ],
      "metadata": {
        "id": "kosakhNmxb7A"
      }
    },
    {
      "cell_type": "code",
      "execution_count": null,
      "metadata": {
        "id": "ZsJUxc0aRsAf"
      },
      "outputs": [],
      "source": [
        "!pip install git+https://github.com/openai/whisper.git -q\n",
        "!pip install torchinfo"
      ]
    },
    {
      "cell_type": "markdown",
      "source": [
        "## モデルのロード"
      ],
      "metadata": {
        "id": "AtAvuKSJxhNw"
      }
    },
    {
      "cell_type": "code",
      "source": [
        "import whisper\n",
        "model = whisper.load_model(\"medium\") # tiny, base, samll, medium, large, turbo"
      ],
      "metadata": {
        "id": "Kr5faKybKi4p"
      },
      "execution_count": null,
      "outputs": []
    },
    {
      "cell_type": "markdown",
      "source": [
        "## モデルの中身\n",
        "torchinfo の summary 関数で中身を見られます。"
      ],
      "metadata": {
        "id": "YweBjF5vaq81"
      }
    },
    {
      "cell_type": "code",
      "source": [
        "from torchinfo import summary\n",
        "summary(model)"
      ],
      "metadata": {
        "id": "OmancwGUaQml"
      },
      "execution_count": null,
      "outputs": []
    },
    {
      "cell_type": "markdown",
      "source": [
        "## GPUの確認\n",
        "\n",
        "以下のように`device(type='cuda', index=0)`が出力されるはずです。もし表示されない場合、CPUのみのColabインスタンスを使用している可能性があり、動作が遅くなります。Runtime->Change Runtime Type`で修正してください。"
      ],
      "metadata": {
        "id": "e200RNNlxn5j"
      }
    },
    {
      "cell_type": "code",
      "source": [
        "model.device"
      ],
      "metadata": {
        "id": "u_6_s2iHboR4"
      },
      "execution_count": null,
      "outputs": []
    },
    {
      "cell_type": "markdown",
      "source": [
        "## テスト用音声ファイルのダウンロード\n",
        "\n",
        "このリポジトリには、書き起こし機能を実行するためにあらかじめ録音された MP3 がいくつかあります。下に表示されているオーディオウィジェットで聴くことができます。"
      ],
      "metadata": {
        "id": "VqbPlIrVx9sK"
      }
    },
    {
      "cell_type": "code",
      "source": [
        "!git clone https://github.com/petewarden/openai-whisper-webapp"
      ],
      "metadata": {
        "id": "xOpHUlfqth1E"
      },
      "execution_count": null,
      "outputs": []
    },
    {
      "cell_type": "code",
      "source": [
        "from IPython.display import Audio\n",
        "Audio(\"/content/openai-whisper-webapp/two_cities.mp3\")"
      ],
      "metadata": {
        "id": "fhLths-Nfn5Z"
      },
      "execution_count": null,
      "outputs": []
    },
    {
      "cell_type": "code",
      "source": [
        "from IPython.display import Audio\n",
        "Audio(\"/content/openai-whisper-webapp/daisy_HAL_9000.mp3\")"
      ],
      "metadata": {
        "id": "_8vKBR6cfxm6"
      },
      "execution_count": null,
      "outputs": []
    },
    {
      "cell_type": "markdown",
      "source": [
        "## Transcribe 関数の定義\n",
        "\n",
        "音声ファイルのパスを入力として受け取り、認識されたテキストを返します。"
      ],
      "metadata": {
        "id": "QwLTZtubySoo"
      }
    },
    {
      "cell_type": "code",
      "source": [
        "def transcribe(audio):\n",
        "\n",
        "    # load audio and pad/trim it to fit 30 seconds\n",
        "    audio = whisper.load_audio(audio)\n",
        "    audio = whisper.pad_or_trim(audio)\n",
        "\n",
        "    # make log-Mel spectrogram and move to the same device as the model\n",
        "    mel = whisper.log_mel_spectrogram(audio).to(model.device)\n",
        "\n",
        "    # detect the spoken language\n",
        "    _, probs = model.detect_language(mel)\n",
        "    print(f\"Detected language: {max(probs, key=probs.get)}\")\n",
        "\n",
        "    # decode the audio\n",
        "    options = whisper.DecodingOptions()\n",
        "    result = whisper.decode(model, mel, options)\n",
        "    return result.text\n"
      ],
      "metadata": {
        "id": "JtTvvQQPcOZZ"
      },
      "execution_count": null,
      "outputs": []
    },
    {
      "cell_type": "markdown",
      "source": [
        "## 録音済みの音声でテストする\n",
        "\n",
        "ライブ音声を録音するためのUIを立ち上げる前に、ダウンロードしたMP3をいくつか使って `transcribe()` 関数を実行してみましょう。クリアな音声の例として録音した `mary.mp3` からは `Mary had a little lamb, its fleece was white as snow, and everywhere that Mary went, the lamb was sure to go.` という認識結果が出力されます。2つ目のファイルは非常に歪んだ音声で、聞き取ることがかなり難しいですが、モデルは`Daisy, Daisy, give me your answer too. I'm half crazy all for the love of you.`と正しく認識しています。\n",
        "\n",
        "注：このノートのデフォルトの長さである30秒でトランスクリプトが切れていることに気づくでしょう（設定の変更は可能）。"
      ],
      "metadata": {
        "id": "_QRwhuOXynZQ"
      }
    },
    {
      "cell_type": "code",
      "source": [
        "easy_text = transcribe(\"/content/openai-whisper-webapp/mary.mp3\")\n",
        "print(easy_text)\n",
        "\n",
        "hard_text = transcribe(\"/content/openai-whisper-webapp/daisy_HAL_9000.mp3\")\n",
        "print(hard_text)"
      ],
      "metadata": {
        "id": "bDXgLIprIsAj"
      },
      "execution_count": null,
      "outputs": []
    },
    {
      "cell_type": "markdown",
      "source": [
        "## 長時間対応\n",
        "transcribe 関数は30秒までしか使えないので、長時間に対応した関数 transcribe_long_audio を作ります。"
      ],
      "metadata": {
        "id": "eF-dceVvwoWE"
      }
    },
    {
      "cell_type": "code",
      "source": [
        "import whisper\n",
        "import librosa\n",
        "import numpy as np\n",
        "\n",
        "def transcribe_long_audio(audio_path, chunk_duration=60):\n",
        "  \"\"\"\n",
        "  長い音声ファイルを指定された長さのチャンクに分割して書き起こす。\n",
        "\n",
        "  Args:\n",
        "    audio_path: 音声ファイルのパス\n",
        "    chunk_duration: チャンクの長さ（秒）\n",
        "\n",
        "  Returns:\n",
        "    書き起こし結果の文字列\n",
        "  \"\"\"\n",
        "\n",
        "  #model = whisper.load_model(\"medium\")\n",
        "  audio, sr = librosa.load(audio_path, sr=whisper.audio.SAMPLE_RATE)\n",
        "\n",
        "  chunk_length = chunk_duration * whisper.audio.SAMPLE_RATE\n",
        "  num_chunks = int(np.ceil(len(audio) / chunk_length))\n",
        "\n",
        "  transcription_text = \"\"\n",
        "\n",
        "  for i in range(num_chunks):\n",
        "    start = i * chunk_length\n",
        "    end = min((i + 1) * chunk_length, len(audio))\n",
        "    chunk = audio[start:end]\n",
        "\n",
        "    # チャンクの長さが30秒未満の場合は、whisper.pad_or_trim でパディングする\n",
        "    if len(chunk) < 30 * whisper.audio.SAMPLE_RATE:\n",
        "      chunk = whisper.pad_or_trim(chunk)\n",
        "    else:\n",
        "      # 30秒より長いチャンクの場合は、さらに30秒ずつに分割する\n",
        "      sub_chunks = [chunk[j*30*whisper.audio.SAMPLE_RATE:min((j+1)*30*whisper.audio.SAMPLE_RATE, len(chunk))] for j in range(int(np.ceil(len(chunk)/(30*whisper.audio.SAMPLE_RATE))))]\n",
        "      for sub_chunk in sub_chunks:\n",
        "        sub_chunk = whisper.pad_or_trim(sub_chunk)\n",
        "        result = model.transcribe(sub_chunk)\n",
        "        transcription_text += result[\"text\"]\n",
        "      continue\n",
        "\n",
        "    result = model.transcribe(chunk)\n",
        "    transcription_text += result[\"text\"]\n",
        "\n",
        "  return transcription_text"
      ],
      "metadata": {
        "id": "YVopAmfmu1N7"
      },
      "execution_count": null,
      "outputs": []
    },
    {
      "cell_type": "markdown",
      "source": [
        "### 長い音声ファイルの認識"
      ],
      "metadata": {
        "id": "EAGJFgQjbFrd"
      }
    },
    {
      "cell_type": "code",
      "source": [
        "transcription = transcribe_long_audio(\"/content/openai-whisper-webapp/two_cities.mp3\", chunk_duration=60)\n",
        "transcription"
      ],
      "metadata": {
        "id": "7o0yzETdu5Mi"
      },
      "execution_count": null,
      "outputs": []
    },
    {
      "cell_type": "markdown",
      "source": [
        "### 画面の端までいったら改行させる設定"
      ],
      "metadata": {
        "id": "z9ao6nhayhrm"
      }
    },
    {
      "cell_type": "code",
      "source": [
        "from IPython.display import HTML, display\n",
        "\n",
        "def set_css():\n",
        "  display(HTML('''\n",
        "\n",
        "  '''))\n",
        "get_ipython().events.register('pre_run_cell', set_css)"
      ],
      "metadata": {
        "id": "9c569XI9yex7"
      },
      "execution_count": null,
      "outputs": []
    },
    {
      "cell_type": "code",
      "source": [
        "transcription"
      ],
      "metadata": {
        "id": "ggdqeGzWW14d"
      },
      "execution_count": null,
      "outputs": []
    },
    {
      "cell_type": "markdown",
      "source": [
        "## 多言語対応\n",
        "Whisper は、英語以外の言語も自動的に認識します。"
      ],
      "metadata": {
        "id": "GcSUWE-vWmMB"
      }
    },
    {
      "cell_type": "markdown",
      "source": [
        "## ライブラリのインストール"
      ],
      "metadata": {
        "id": "-Ufm9iURXDRx"
      }
    },
    {
      "cell_type": "code",
      "source": [
        "!pip install yt-dlp moviepy\n",
        "!pip install gTTS"
      ],
      "metadata": {
        "id": "QduyvWmSTl_g"
      },
      "execution_count": null,
      "outputs": []
    },
    {
      "cell_type": "markdown",
      "source": [
        "## ライブラリのインポート"
      ],
      "metadata": {
        "id": "81qg0jOFXFxo"
      }
    },
    {
      "cell_type": "code",
      "source": [
        "from yt_dlp import YoutubeDL\n",
        "from moviepy.editor import VideoFileClip, AudioFileClip\n",
        "import IPython"
      ],
      "metadata": {
        "id": "jUG-R-KRTwWw"
      },
      "execution_count": null,
      "outputs": []
    },
    {
      "cell_type": "markdown",
      "source": [
        "## 音声サンプルの入手"
      ],
      "metadata": {
        "id": "ZYRADIZeXIrx"
      }
    },
    {
      "cell_type": "code",
      "source": [
        "video_url = 'https://youtu.be/G807ErB7ytY?si=KHTqIkjNVrf0Q1Ts' #@param {type:\"string\"}"
      ],
      "metadata": {
        "id": "PXTdYjk9Rt-i"
      },
      "execution_count": null,
      "outputs": []
    },
    {
      "cell_type": "markdown",
      "source": [
        "## ダウンロード"
      ],
      "metadata": {
        "id": "EIm8Ib4VXMY2"
      }
    },
    {
      "cell_type": "code",
      "source": [
        "download_resolution = 360\n",
        "input_clip_path = 'input_clip.mp4'\n",
        "input_audio_path = 'input_clip.mp3'\n",
        "\n",
        "# 動画ダウンロード --> input_clip.mp4\n",
        "ydl_opts = {'format': f'best[height<={download_resolution}]', 'overwrites': True, 'outtmpl': input_clip_path}\n",
        "with YoutubeDL(ydl_opts) as ydl:\n",
        "    ydl.download([video_url])\n",
        "\n",
        "# 音声だけ取り出し --> input_clip.mp3\n",
        "!yes|ffmpeg -i input_clip.mp4 input_clip.mp3"
      ],
      "metadata": {
        "id": "s6gy5GK8Tb7B"
      },
      "execution_count": null,
      "outputs": []
    },
    {
      "cell_type": "markdown",
      "source": [
        "## 確認（オーディオ）"
      ],
      "metadata": {
        "id": "lB9qZtqscgT4"
      }
    },
    {
      "cell_type": "code",
      "source": [
        "IPython.display.Audio('input_clip.mp3', autoplay=True)"
      ],
      "metadata": {
        "id": "Kn9Uy0WATd8Z"
      },
      "execution_count": null,
      "outputs": []
    },
    {
      "cell_type": "markdown",
      "source": [
        "## 時間調整\n",
        "長いので、冒頭2分だけを切り出す。"
      ],
      "metadata": {
        "id": "iy0Gx8ZFXUzu"
      }
    },
    {
      "cell_type": "code",
      "source": [
        "!yes|ffmpeg -i input_clip.mp3 -t 120 input_clip2.mp3"
      ],
      "metadata": {
        "id": "D-YkI0xrUvg4"
      },
      "execution_count": null,
      "outputs": []
    },
    {
      "cell_type": "markdown",
      "source": [
        "## 認識させてみる\n",
        "30秒を超えているので、long_audio 関数で行う。"
      ],
      "metadata": {
        "id": "88BEZyEdXfbC"
      }
    },
    {
      "cell_type": "code",
      "source": [
        "transcription = transcribe_long_audio(\"input_clip2.mp3\", chunk_duration=60)\n",
        "transcription"
      ],
      "metadata": {
        "id": "emgVDI50T8cp"
      },
      "execution_count": null,
      "outputs": []
    },
    {
      "cell_type": "markdown",
      "source": [
        "## おまけ\n",
        "機械に喋らせてみる。"
      ],
      "metadata": {
        "id": "P2QhQrlBYEKn"
      }
    },
    {
      "cell_type": "code",
      "source": [
        "# 音声発話のためのライブラリ\n",
        "from gtts import gTTS\n",
        "gTTS(text = transcription, lang = \"ja\", slow = False).save('output.wav')\n",
        "IPython.display.Audio('output.wav', autoplay=True)"
      ],
      "metadata": {
        "id": "8M1A4m6tYKvy"
      },
      "execution_count": null,
      "outputs": []
    }
  ],
  "metadata": {
    "accelerator": "GPU",
    "colab": {
      "provenance": [],
      "include_colab_link": true
    },
    "gpuClass": "standard",
    "kernelspec": {
      "display_name": "Python 3 (ipykernel)",
      "language": "python",
      "name": "python3"
    },
    "language_info": {
      "codemirror_mode": {
        "name": "ipython",
        "version": 3
      },
      "file_extension": ".py",
      "mimetype": "text/x-python",
      "name": "python",
      "nbconvert_exporter": "python",
      "pygments_lexer": "ipython3",
      "version": "3.9.9"
    }
  },
  "nbformat": 4,
  "nbformat_minor": 0
}