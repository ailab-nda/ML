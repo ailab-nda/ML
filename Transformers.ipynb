{
  "nbformat": 4,
  "nbformat_minor": 0,
  "metadata": {
    "colab": {
      "name": "Transformers.ipynb",
      "provenance": [],
      "collapsed_sections": [],
      "authorship_tag": "ABX9TyOLpW7Nk94jMpD77/Xrtvuy",
      "include_colab_link": true
    },
    "kernelspec": {
      "name": "python3",
      "display_name": "Python 3"
    },
    "language_info": {
      "name": "python"
    },
    "accelerator": "GPU"
  },
  "cells": [
    {
      "cell_type": "markdown",
      "metadata": {
        "id": "view-in-github",
        "colab_type": "text"
      },
      "source": [
        "<a href=\"https://colab.research.google.com/github/ailab-nda/NLP/blob/main/Transformers.ipynb\" target=\"_parent\"><img src=\"https://colab.research.google.com/assets/colab-badge.svg\" alt=\"Open In Colab\"/></a>"
      ]
    },
    {
      "cell_type": "markdown",
      "metadata": {
        "id": "F1zY4P3XUM2e"
      },
      "source": [
        "# 日本語学習済みモデルによる自然言語処理"
      ]
    },
    {
      "cell_type": "markdown",
      "metadata": {
        "id": "3KW1W5AOUowz"
      },
      "source": [
        "### 準備（関連ライブラリのインストール）"
      ]
    },
    {
      "cell_type": "code",
      "metadata": {
        "colab": {
          "base_uri": "https://localhost:8080/"
        },
        "id": "0h5Y7k8e3WQy",
        "outputId": "51087684-7bf7-46fd-fd5f-87ea7948a1f8"
      },
      "source": [
        "!pip install -q transformers\n",
        "!pip install -q sentencepiece"
      ],
      "execution_count": 7,
      "outputs": [
        {
          "output_type": "stream",
          "name": "stdout",
          "text": [
            "\u001b[K     |████████████████████████████████| 2.9 MB 15.8 MB/s \n",
            "\u001b[K     |████████████████████████████████| 895 kB 79.8 MB/s \n",
            "\u001b[K     |████████████████████████████████| 3.3 MB 67.3 MB/s \n",
            "\u001b[K     |████████████████████████████████| 596 kB 70.0 MB/s \n",
            "\u001b[K     |████████████████████████████████| 56 kB 3.7 MB/s \n",
            "\u001b[K     |████████████████████████████████| 1.2 MB 13.4 MB/s \n",
            "\u001b[?25h"
          ]
        }
      ]
    },
    {
      "cell_type": "markdown",
      "metadata": {
        "id": "1snol5wIUawe"
      },
      "source": [
        "## 1. RoBERTa による文章中の空欄埋め\n",
        "\n"
      ]
    },
    {
      "cell_type": "markdown",
      "metadata": {
        "id": "0ta1Zf-gUxJA"
      },
      "source": [
        "### モデルのダウンロード"
      ]
    },
    {
      "cell_type": "code",
      "metadata": {
        "id": "MDMZTkNRRvkl"
      },
      "source": [
        "from transformers import T5Tokenizer, RobertaForMaskedLM\n",
        "\n",
        "tokenizer = T5Tokenizer.from_pretrained(\"rinna/japanese-roberta-base\")\n",
        "tokenizer.do_lower_case = True  # due to some bug of tokenizer config loading\n",
        "\n",
        "model = RobertaForMaskedLM.from_pretrained(\"rinna/japanese-roberta-base\")"
      ],
      "execution_count": 57,
      "outputs": []
    },
    {
      "cell_type": "markdown",
      "metadata": {
        "id": "vYo4P-RpU1g3"
      },
      "source": [
        "### 問題文の作成"
      ]
    },
    {
      "cell_type": "code",
      "metadata": {
        "colab": {
          "base_uri": "https://localhost:8080/"
        },
        "id": "bG_y3KX3R9Fo",
        "outputId": "a7ec5ecc-c59a-45e6-8930-97bd444886f8"
      },
      "source": [
        "# original text\n",
        "#text = \"4年に1度オリンピックは開かれる。\"\n",
        "text = \"\"\n",
        "\n",
        "# prepend [CLS]\n",
        "text = \"[CLS]\" + text\n",
        "\n",
        "# tokenize\n",
        "tokens = tokenizer.tokenize(text)\n",
        "print(tokens)\n",
        "\n",
        "# mask a token\n",
        "masked_idx = 5\n",
        "tokens[masked_idx] = tokenizer.mask_token\n",
        "print(tokens)  # output: ['[CLS]', '▁4', '年に', '1', '度', '[MASK]', 'は', '開かれる', '。']"
      ],
      "execution_count": 60,
      "outputs": [
        {
          "output_type": "stream",
          "name": "stdout",
          "text": [
            "['[CLS]', '▁4', '年に', '1', '度', 'オリンピック', 'は', '開かれる', '。']\n",
            "['[CLS]', '▁4', '年に', '1', '度', '[MASK]', 'は', '開かれる', '。']\n"
          ]
        }
      ]
    },
    {
      "cell_type": "markdown",
      "metadata": {
        "id": "Lao7fOXYU_df"
      },
      "source": [
        "### 穴埋め問題を解く"
      ]
    },
    {
      "cell_type": "markdown",
      "metadata": {
        "id": "5XHqe2k4WPt8"
      },
      "source": [
        "補充すべき単語の推定 (id)"
      ]
    },
    {
      "cell_type": "code",
      "metadata": {
        "colab": {
          "base_uri": "https://localhost:8080/"
        },
        "id": "DfCfwo7vSOmb",
        "outputId": "fe8fc7e7-44aa-40cb-eee3-b064d42a8cfb"
      },
      "source": [
        "# convert to ids\n",
        "token_ids = tokenizer.convert_tokens_to_ids(tokens)\n",
        "print(token_ids)\n",
        "\n",
        "# convert to tensor\n",
        "import torch\n",
        "token_tensor = torch.LongTensor([token_ids])"
      ],
      "execution_count": 61,
      "outputs": [
        {
          "output_type": "stream",
          "name": "stdout",
          "text": [
            "[4, 1602, 44, 24, 368, 6, 11, 21583, 8]\n"
          ]
        }
      ]
    },
    {
      "cell_type": "markdown",
      "metadata": {
        "id": "8s6nSS5YWZhy"
      },
      "source": [
        "結果の表示"
      ]
    },
    {
      "cell_type": "code",
      "metadata": {
        "colab": {
          "base_uri": "https://localhost:8080/"
        },
        "id": "ZBBgnyLhSgpf",
        "outputId": "ef46e45b-4899-4c05-e4b1-8db825668dc7"
      },
      "source": [
        "# provide position ids explicitly\n",
        "position_ids = list(range(0, token_tensor.size(1)))\n",
        "position_id_tensor = torch.LongTensor([position_ids])\n",
        "\n",
        "# get the top 10 predictions of the masked token\n",
        "with torch.no_grad():\n",
        "    outputs = model(input_ids=token_tensor, position_ids=position_id_tensor)\n",
        "    predictions = outputs[0][0, masked_idx].topk(10)\n",
        "\n",
        "for i, index_t in enumerate(predictions.indices):\n",
        "    index = index_t.item()\n",
        "    token = tokenizer.convert_ids_to_tokens([index])[0]\n",
        "    print(i, token)"
      ],
      "execution_count": 63,
      "outputs": [
        {
          "output_type": "stream",
          "name": "stdout",
          "text": [
            "0 総会\n",
            "1 サミット\n",
            "2 ワールドカップ\n",
            "3 フェスティバル\n",
            "4 大会\n",
            "5 オリンピック\n",
            "6 全国大会\n",
            "7 党大会\n",
            "8 イベント\n",
            "9 世界選手権\n"
          ]
        }
      ]
    },
    {
      "cell_type": "markdown",
      "metadata": {
        "id": "9pla_3YxVN_g"
      },
      "source": [
        "## 2. GPT-2 による文書生成"
      ]
    },
    {
      "cell_type": "markdown",
      "metadata": {
        "id": "Sz2_A1zdkE3X"
      },
      "source": [
        "### (1) rinna/japanese-gpt2 の利用"
      ]
    },
    {
      "cell_type": "markdown",
      "metadata": {
        "id": "THovObjOV18G"
      },
      "source": [
        "### モデルのダウンロード"
      ]
    },
    {
      "cell_type": "markdown",
      "metadata": {
        "id": "EvzH8h-FV6aX"
      },
      "source": [
        "* 大きなモデル\n",
        "\n"
      ]
    },
    {
      "cell_type": "code",
      "metadata": {
        "id": "NYr-6Sk4RXBb"
      },
      "source": [
        "from transformers import T5Tokenizer, AutoModelForCausalLM\n",
        "\n",
        "tokenizer = T5Tokenizer.from_pretrained(\"rinna/japanese-gpt2-medium\")\n",
        "tokenizer.do_lower_case = True  # due to some bug of tokenizer config loading\n",
        "\n",
        "model = AutoModelForCausalLM.from_pretrained(\"rinna/japanese-gpt2-medium\")"
      ],
      "execution_count": 33,
      "outputs": []
    },
    {
      "cell_type": "markdown",
      "metadata": {
        "id": "h7Pk14PKWATH"
      },
      "source": [
        "* 小さなモデル"
      ]
    },
    {
      "cell_type": "code",
      "metadata": {
        "colab": {
          "base_uri": "https://localhost:8080/",
          "height": 317
        },
        "id": "Nro4WYl0TtXv",
        "outputId": "fb6038a7-182a-4aff-e3ea-e5cb3cd8daf8"
      },
      "source": [
        "from transformers import T5Tokenizer, GPT2LMHeadModel\n",
        "\n",
        "tokenizer = T5Tokenizer.from_pretrained(\"rinna/japanese-gpt2-small\")\n",
        "tokenizer.do_lower_case = True  # due to some bug of tokenizer config loading\n",
        "\n",
        "model = GPT2LMHeadModel.from_pretrained(\"rinna/japanese-gpt2-small\")"
      ],
      "execution_count": 8,
      "outputs": [
        {
          "output_type": "display_data",
          "data": {
            "application/vnd.jupyter.widget-view+json": {
              "model_id": "9a07519584cb47018471665afc3407f1",
              "version_minor": 0,
              "version_major": 2
            },
            "text/plain": [
              "Downloading:   0%|          | 0.00/787k [00:00<?, ?B/s]"
            ]
          },
          "metadata": {}
        },
        {
          "output_type": "display_data",
          "data": {
            "application/vnd.jupyter.widget-view+json": {
              "model_id": "2d12bf9200c9425fa0e7efc10a2ffe6b",
              "version_minor": 0,
              "version_major": 2
            },
            "text/plain": [
              "Downloading:   0%|          | 0.00/153 [00:00<?, ?B/s]"
            ]
          },
          "metadata": {}
        },
        {
          "output_type": "display_data",
          "data": {
            "application/vnd.jupyter.widget-view+json": {
              "model_id": "65c21e8982f7441db3b63108a3592873",
              "version_minor": 0,
              "version_major": 2
            },
            "text/plain": [
              "Downloading:   0%|          | 0.00/282 [00:00<?, ?B/s]"
            ]
          },
          "metadata": {}
        },
        {
          "output_type": "display_data",
          "data": {
            "application/vnd.jupyter.widget-view+json": {
              "model_id": "6d86fa99754a4374a92a43e79b83136b",
              "version_minor": 0,
              "version_major": 2
            },
            "text/plain": [
              "Downloading:   0%|          | 0.00/846 [00:00<?, ?B/s]"
            ]
          },
          "metadata": {}
        },
        {
          "output_type": "display_data",
          "data": {
            "application/vnd.jupyter.widget-view+json": {
              "model_id": "82e070754c5242bc9e9bf2be02748c60",
              "version_minor": 0,
              "version_major": 2
            },
            "text/plain": [
              "Downloading:   0%|          | 0.00/433M [00:00<?, ?B/s]"
            ]
          },
          "metadata": {}
        }
      ]
    },
    {
      "cell_type": "markdown",
      "metadata": {
        "id": "Xoa-OUqiWECt"
      },
      "source": [
        "### 文書生成の例"
      ]
    },
    {
      "cell_type": "code",
      "metadata": {
        "colab": {
          "base_uri": "https://localhost:8080/"
        },
        "id": "uuj3d3wOE_cJ",
        "outputId": "19f8755d-b299-4dc1-d0bd-55ec2210f3a4"
      },
      "source": [
        "input = tokenizer.encode(\"私は防衛大学校に入校してからというもの、\", return_tensors=\"pt\")\n",
        "output = model.generate(input, do_sample=True, max_length=100, num_return_sequences=3)\n",
        "sentences = tokenizer.batch_decode(output)\n",
        "for i in sentences:\n",
        "    print(i)"
      ],
      "execution_count": 9,
      "outputs": [
        {
          "output_type": "stream",
          "name": "stderr",
          "text": [
            "Setting `pad_token_id` to `eos_token_id`:2 for open-end generation.\n"
          ]
        },
        {
          "output_type": "stream",
          "name": "stdout",
          "text": [
            "私は防衛大学校に入校してからというもの、</s> 今までに学んできたことをきちんと伝え、そして自分が持っている能力、強みを引き出してくれるように導いてくださる先生方の姿勢にとても感謝しています。 今日学んだことで改めて自分の苦手な分野というものについて考える機会となりました。 今日教えてくださった情報交換会に参加しました。 前回に引き続き、防衛大学校 先輩 より 防衛大学校 1年生の方々の授業について頂きました。 4年生\n",
            "私は防衛大学校に入校してからというもの、</s> 社会人の私に付き合ってくれることなんてなかったし、何も言うこともできなかった・・・ それよりも、自分の心に深い傷を残してしまったことを後悔してるという現実感。 もちろん、自分にとってはそれが大きな責任であったことは確かなのです。 しかし、「これがあったからこそ、俺は本気で戦えるんだ!」という思いに 社会人としての第一歩を踏み出し、社会人としての常識を少し超えた結果が 「自分は何\n",
            "私は防衛大学校に入校してからというもの、</s> いまや防衛学校は軍事研究に欠かせない学問とされています。 そこで私は防衛大学校では本当にその意味が本当に必要なものだと思うようになりました。 いま思えば防衛学校の教官もそれを感じ取っていたのでしょうね。 いまはそういった情報がほとんど氾濫していますが、それでもやはり防衛大学校の教練は教えられるものだと思います。 私が入学して防衛大学校を卒業して10年目となるのですが、そこでは先輩から多くの事を\n"
          ]
        }
      ]
    },
    {
      "cell_type": "markdown",
      "metadata": {
        "id": "mfnrGkVoj-5j"
      },
      "source": [
        "## (2) GPT2-Japanese の利用"
      ]
    },
    {
      "cell_type": "markdown",
      "metadata": {
        "id": "e1PcyX7Qku14"
      },
      "source": [
        "### モデルのダウンロードとインストール"
      ]
    },
    {
      "cell_type": "code",
      "metadata": {
        "colab": {
          "base_uri": "https://localhost:8080/"
        },
        "id": "qvM-z3pdOZEi",
        "outputId": "78178eaa-57cf-4500-ffe0-b9799b4ab5fb"
      },
      "source": [
        "# gpt2-japaneseのインストール\n",
        "!git clone https://github.com/tanreinama/gpt2-japanese\n",
        "%cd gpt2-japanese\n",
        "#!pip uninstall tensorflow -y\n",
        "!pip install -r requirements.txt"
      ],
      "execution_count": 1,
      "outputs": [
        {
          "output_type": "stream",
          "name": "stdout",
          "text": [
            "Cloning into 'gpt2-japanese'...\n",
            "remote: Enumerating objects: 263, done.\u001b[K\n",
            "remote: Counting objects: 100% (222/222), done.\u001b[K\n",
            "remote: Compressing objects: 100% (154/154), done.\u001b[K\n",
            "remote: Total 263 (delta 121), reused 153 (delta 64), pack-reused 41\u001b[K\n",
            "Receiving objects: 100% (263/263), 1.22 MiB | 8.60 MiB/s, done.\n",
            "Resolving deltas: 100% (140/140), done.\n",
            "/content/gpt2-japanese\n",
            "Requirement already satisfied: tqdm in /usr/local/lib/python3.7/dist-packages (from -r requirements.txt (line 1)) (4.62.3)\n",
            "Requirement already satisfied: numpy in /usr/local/lib/python3.7/dist-packages (from -r requirements.txt (line 2)) (1.19.5)\n",
            "Collecting jaconv\n",
            "  Downloading jaconv-0.3.tar.gz (15 kB)\n",
            "Requirement already satisfied: tensorflow in /usr/local/lib/python3.7/dist-packages (from -r requirements.txt (line 4)) (2.6.0)\n",
            "Requirement already satisfied: h5py~=3.1.0 in /usr/local/lib/python3.7/dist-packages (from tensorflow->-r requirements.txt (line 4)) (3.1.0)\n",
            "Requirement already satisfied: protobuf>=3.9.2 in /usr/local/lib/python3.7/dist-packages (from tensorflow->-r requirements.txt (line 4)) (3.17.3)\n",
            "Requirement already satisfied: astunparse~=1.6.3 in /usr/local/lib/python3.7/dist-packages (from tensorflow->-r requirements.txt (line 4)) (1.6.3)\n",
            "Requirement already satisfied: gast==0.4.0 in /usr/local/lib/python3.7/dist-packages (from tensorflow->-r requirements.txt (line 4)) (0.4.0)\n",
            "Requirement already satisfied: keras~=2.6 in /usr/local/lib/python3.7/dist-packages (from tensorflow->-r requirements.txt (line 4)) (2.6.0)\n",
            "Requirement already satisfied: wrapt~=1.12.1 in /usr/local/lib/python3.7/dist-packages (from tensorflow->-r requirements.txt (line 4)) (1.12.1)\n",
            "Requirement already satisfied: tensorflow-estimator~=2.6 in /usr/local/lib/python3.7/dist-packages (from tensorflow->-r requirements.txt (line 4)) (2.6.0)\n",
            "Requirement already satisfied: grpcio<2.0,>=1.37.0 in /usr/local/lib/python3.7/dist-packages (from tensorflow->-r requirements.txt (line 4)) (1.41.0)\n",
            "Requirement already satisfied: absl-py~=0.10 in /usr/local/lib/python3.7/dist-packages (from tensorflow->-r requirements.txt (line 4)) (0.12.0)\n",
            "Requirement already satisfied: wheel~=0.35 in /usr/local/lib/python3.7/dist-packages (from tensorflow->-r requirements.txt (line 4)) (0.37.0)\n",
            "Requirement already satisfied: clang~=5.0 in /usr/local/lib/python3.7/dist-packages (from tensorflow->-r requirements.txt (line 4)) (5.0)\n",
            "Requirement already satisfied: keras-preprocessing~=1.1.2 in /usr/local/lib/python3.7/dist-packages (from tensorflow->-r requirements.txt (line 4)) (1.1.2)\n",
            "Requirement already satisfied: flatbuffers~=1.12.0 in /usr/local/lib/python3.7/dist-packages (from tensorflow->-r requirements.txt (line 4)) (1.12)\n",
            "Requirement already satisfied: opt-einsum~=3.3.0 in /usr/local/lib/python3.7/dist-packages (from tensorflow->-r requirements.txt (line 4)) (3.3.0)\n",
            "Requirement already satisfied: six~=1.15.0 in /usr/local/lib/python3.7/dist-packages (from tensorflow->-r requirements.txt (line 4)) (1.15.0)\n",
            "Requirement already satisfied: typing-extensions~=3.7.4 in /usr/local/lib/python3.7/dist-packages (from tensorflow->-r requirements.txt (line 4)) (3.7.4.3)\n",
            "Requirement already satisfied: termcolor~=1.1.0 in /usr/local/lib/python3.7/dist-packages (from tensorflow->-r requirements.txt (line 4)) (1.1.0)\n",
            "Requirement already satisfied: google-pasta~=0.2 in /usr/local/lib/python3.7/dist-packages (from tensorflow->-r requirements.txt (line 4)) (0.2.0)\n",
            "Requirement already satisfied: tensorboard~=2.6 in /usr/local/lib/python3.7/dist-packages (from tensorflow->-r requirements.txt (line 4)) (2.6.0)\n",
            "Requirement already satisfied: cached-property in /usr/local/lib/python3.7/dist-packages (from h5py~=3.1.0->tensorflow->-r requirements.txt (line 4)) (1.5.2)\n",
            "Requirement already satisfied: markdown>=2.6.8 in /usr/local/lib/python3.7/dist-packages (from tensorboard~=2.6->tensorflow->-r requirements.txt (line 4)) (3.3.4)\n",
            "Requirement already satisfied: werkzeug>=0.11.15 in /usr/local/lib/python3.7/dist-packages (from tensorboard~=2.6->tensorflow->-r requirements.txt (line 4)) (1.0.1)\n",
            "Requirement already satisfied: tensorboard-data-server<0.7.0,>=0.6.0 in /usr/local/lib/python3.7/dist-packages (from tensorboard~=2.6->tensorflow->-r requirements.txt (line 4)) (0.6.1)\n",
            "Requirement already satisfied: requests<3,>=2.21.0 in /usr/local/lib/python3.7/dist-packages (from tensorboard~=2.6->tensorflow->-r requirements.txt (line 4)) (2.23.0)\n",
            "Requirement already satisfied: setuptools>=41.0.0 in /usr/local/lib/python3.7/dist-packages (from tensorboard~=2.6->tensorflow->-r requirements.txt (line 4)) (57.4.0)\n",
            "Requirement already satisfied: tensorboard-plugin-wit>=1.6.0 in /usr/local/lib/python3.7/dist-packages (from tensorboard~=2.6->tensorflow->-r requirements.txt (line 4)) (1.8.0)\n",
            "Requirement already satisfied: google-auth-oauthlib<0.5,>=0.4.1 in /usr/local/lib/python3.7/dist-packages (from tensorboard~=2.6->tensorflow->-r requirements.txt (line 4)) (0.4.6)\n",
            "Requirement already satisfied: google-auth<2,>=1.6.3 in /usr/local/lib/python3.7/dist-packages (from tensorboard~=2.6->tensorflow->-r requirements.txt (line 4)) (1.35.0)\n",
            "Requirement already satisfied: rsa<5,>=3.1.4 in /usr/local/lib/python3.7/dist-packages (from google-auth<2,>=1.6.3->tensorboard~=2.6->tensorflow->-r requirements.txt (line 4)) (4.7.2)\n",
            "Requirement already satisfied: cachetools<5.0,>=2.0.0 in /usr/local/lib/python3.7/dist-packages (from google-auth<2,>=1.6.3->tensorboard~=2.6->tensorflow->-r requirements.txt (line 4)) (4.2.4)\n",
            "Requirement already satisfied: pyasn1-modules>=0.2.1 in /usr/local/lib/python3.7/dist-packages (from google-auth<2,>=1.6.3->tensorboard~=2.6->tensorflow->-r requirements.txt (line 4)) (0.2.8)\n",
            "Requirement already satisfied: requests-oauthlib>=0.7.0 in /usr/local/lib/python3.7/dist-packages (from google-auth-oauthlib<0.5,>=0.4.1->tensorboard~=2.6->tensorflow->-r requirements.txt (line 4)) (1.3.0)\n",
            "Requirement already satisfied: importlib-metadata in /usr/local/lib/python3.7/dist-packages (from markdown>=2.6.8->tensorboard~=2.6->tensorflow->-r requirements.txt (line 4)) (4.8.1)\n",
            "Requirement already satisfied: pyasn1<0.5.0,>=0.4.6 in /usr/local/lib/python3.7/dist-packages (from pyasn1-modules>=0.2.1->google-auth<2,>=1.6.3->tensorboard~=2.6->tensorflow->-r requirements.txt (line 4)) (0.4.8)\n",
            "Requirement already satisfied: idna<3,>=2.5 in /usr/local/lib/python3.7/dist-packages (from requests<3,>=2.21.0->tensorboard~=2.6->tensorflow->-r requirements.txt (line 4)) (2.10)\n",
            "Requirement already satisfied: certifi>=2017.4.17 in /usr/local/lib/python3.7/dist-packages (from requests<3,>=2.21.0->tensorboard~=2.6->tensorflow->-r requirements.txt (line 4)) (2021.5.30)\n",
            "Requirement already satisfied: urllib3!=1.25.0,!=1.25.1,<1.26,>=1.21.1 in /usr/local/lib/python3.7/dist-packages (from requests<3,>=2.21.0->tensorboard~=2.6->tensorflow->-r requirements.txt (line 4)) (1.24.3)\n",
            "Requirement already satisfied: chardet<4,>=3.0.2 in /usr/local/lib/python3.7/dist-packages (from requests<3,>=2.21.0->tensorboard~=2.6->tensorflow->-r requirements.txt (line 4)) (3.0.4)\n",
            "Requirement already satisfied: oauthlib>=3.0.0 in /usr/local/lib/python3.7/dist-packages (from requests-oauthlib>=0.7.0->google-auth-oauthlib<0.5,>=0.4.1->tensorboard~=2.6->tensorflow->-r requirements.txt (line 4)) (3.1.1)\n",
            "Requirement already satisfied: zipp>=0.5 in /usr/local/lib/python3.7/dist-packages (from importlib-metadata->markdown>=2.6.8->tensorboard~=2.6->tensorflow->-r requirements.txt (line 4)) (3.6.0)\n",
            "Building wheels for collected packages: jaconv\n",
            "  Building wheel for jaconv (setup.py) ... \u001b[?25l\u001b[?25hdone\n",
            "  Created wheel for jaconv: filename=jaconv-0.3-py3-none-any.whl size=15565 sha256=6f003ec25f1cb0135cc314036300eafdf71449c5e39e0ec271a948ada52ec6d9\n",
            "  Stored in directory: /root/.cache/pip/wheels/8f/4f/c2/a2a3b14d0e94f855f4aa8887bf0267bee9ecfb8e62a9ee2d92\n",
            "Successfully built jaconv\n",
            "Installing collected packages: jaconv\n",
            "Successfully installed jaconv-0.3\n"
          ]
        }
      ]
    },
    {
      "cell_type": "code",
      "metadata": {
        "colab": {
          "base_uri": "https://localhost:8080/"
        },
        "id": "JC2ExWNabCeH",
        "outputId": "8f9d8f9a-44d5-46b3-e505-f52b8b87060a"
      },
      "source": [
        "# smallモデルのダウンロード\n",
        "!wget https://www.nama.ne.jp/models/gpt2ja-small.tar.bz2\n",
        "!tar xvfj gpt2ja-small.tar.bz2"
      ],
      "execution_count": 2,
      "outputs": [
        {
          "output_type": "stream",
          "name": "stdout",
          "text": [
            "--2021-10-14 12:02:39--  https://www.nama.ne.jp/models/gpt2ja-small.tar.bz2\n",
            "Resolving www.nama.ne.jp (www.nama.ne.jp)... 112.78.112.176\n",
            "Connecting to www.nama.ne.jp (www.nama.ne.jp)|112.78.112.176|:443... connected.\n",
            "HTTP request sent, awaiting response... 200 OK\n",
            "Length: 386498535 (369M) [application/x-bzip2]\n",
            "Saving to: ‘gpt2ja-small.tar.bz2’\n",
            "\n",
            "gpt2ja-small.tar.bz 100%[===================>] 368.59M  2.91MB/s    in 3m 10s  \n",
            "\n",
            "2021-10-14 12:05:50 (1.94 MB/s) - ‘gpt2ja-small.tar.bz2’ saved [386498535/386498535]\n",
            "\n",
            "gpt2ja-small/\n",
            "gpt2ja-small/checkpoint\n",
            "gpt2ja-small/model-10412700.data-00000-of-00001\n",
            "gpt2ja-small/model-10412700.index\n",
            "gpt2ja-small/model-10412700.meta\n",
            "special_thanks.txt\n"
          ]
        }
      ]
    },
    {
      "cell_type": "markdown",
      "metadata": {
        "id": "qAcoVLUgk5Rt"
      },
      "source": [
        "### ランダムな文章の作成"
      ]
    },
    {
      "cell_type": "code",
      "metadata": {
        "colab": {
          "base_uri": "https://localhost:8080/"
        },
        "id": "FcDL1l6hdUNX",
        "outputId": "571c1bee-402c-4247-f654-5907ba3ea154"
      },
      "source": [
        "# smallモデルの動作確認\n",
        "!python gpt2-generate.py --model gpt2ja-small --num_generate 1"
      ],
      "execution_count": 3,
      "outputs": [
        {
          "output_type": "stream",
          "name": "stdout",
          "text": [
            "2021-10-14 12:06:39.169806: I tensorflow/stream_executor/cuda/cuda_gpu_executor.cc:937] successful NUMA node read from SysFS had negative value (-1), but there must be at least one NUMA node, so returning NUMA node zero\n",
            "2021-10-14 12:06:39.733336: I tensorflow/stream_executor/cuda/cuda_gpu_executor.cc:937] successful NUMA node read from SysFS had negative value (-1), but there must be at least one NUMA node, so returning NUMA node zero\n",
            "2021-10-14 12:06:39.734238: I tensorflow/stream_executor/cuda/cuda_gpu_executor.cc:937] successful NUMA node read from SysFS had negative value (-1), but there must be at least one NUMA node, so returning NUMA node zero\n",
            "2021-10-14 12:06:44.708548: I tensorflow/stream_executor/cuda/cuda_gpu_executor.cc:937] successful NUMA node read from SysFS had negative value (-1), but there must be at least one NUMA node, so returning NUMA node zero\n",
            "2021-10-14 12:06:44.709493: I tensorflow/stream_executor/cuda/cuda_gpu_executor.cc:937] successful NUMA node read from SysFS had negative value (-1), but there must be at least one NUMA node, so returning NUMA node zero\n",
            "2021-10-14 12:06:44.710260: I tensorflow/stream_executor/cuda/cuda_gpu_executor.cc:937] successful NUMA node read from SysFS had negative value (-1), but there must be at least one NUMA node, so returning NUMA node zero\n",
            "2021-10-14 12:06:44.711148: I tensorflow/core/common_runtime/gpu/gpu_device.cc:1510] Created device /job:localhost/replica:0/task:0/device:GPU:0 with 10819 MB memory:  -> device: 0, name: Tesla K80, pci bus id: 0000:00:04.0, compute capability: 3.7\n",
            "WARNING:tensorflow:From /content/gpt2-japanese/sampling.py:79: to_float (from tensorflow.python.ops.math_ops) is deprecated and will be removed in a future version.\n",
            "Instructions for updating:\n",
            "Use `tf.cast` instead.\n",
            "2021-10-14 12:06:48.088049: I tensorflow/stream_executor/cuda/cuda_gpu_executor.cc:937] successful NUMA node read from SysFS had negative value (-1), but there must be at least one NUMA node, so returning NUMA node zero\n",
            "2021-10-14 12:06:48.088906: I tensorflow/stream_executor/cuda/cuda_gpu_executor.cc:937] successful NUMA node read from SysFS had negative value (-1), but there must be at least one NUMA node, so returning NUMA node zero\n",
            "2021-10-14 12:06:48.089667: I tensorflow/stream_executor/cuda/cuda_gpu_executor.cc:937] successful NUMA node read from SysFS had negative value (-1), but there must be at least one NUMA node, so returning NUMA node zero\n",
            "WARNING:tensorflow:From /usr/local/lib/python3.7/dist-packages/tensorflow/python/util/dispatch.py:206: multinomial (from tensorflow.python.ops.random_ops) is deprecated and will be removed in a future version.\n",
            "Instructions for updating:\n",
            "Use `tf.random.categorical` instead.\n",
            "現在はこの先が本当の世界です。\n",
            "私の過去の姿を見ることになったのですが、見られたのでしょうか?\n",
            "\n"
          ]
        }
      ]
    },
    {
      "cell_type": "markdown",
      "metadata": {
        "id": "8Lp-WPCTk1ph"
      },
      "source": [
        "### 文章の続きを作成"
      ]
    },
    {
      "cell_type": "code",
      "metadata": {
        "colab": {
          "base_uri": "https://localhost:8080/"
        },
        "id": "IYG-XCyHebGa",
        "outputId": "2e15cf05-db09-441e-f045-cae5bcf935f8"
      },
      "source": [
        "!python gpt2-generate.py --model gpt2ja-small --num_generate 3 --context=\"佐藤　浩は、\""
      ],
      "execution_count": 14,
      "outputs": [
        {
          "output_type": "stream",
          "name": "stdout",
          "text": [
            "2021-10-14 11:37:05.936508: E tensorflow/stream_executor/cuda/cuda_driver.cc:271] failed call to cuInit: CUDA_ERROR_NO_DEVICE: no CUDA-capable device is detected\n",
            "2021-10-14 11:37:05.936567: I tensorflow/stream_executor/cuda/cuda_diagnostics.cc:156] kernel driver does not appear to be running on this host (309b29329430): /proc/driver/nvidia/version does not exist\n",
            "WARNING:tensorflow:From /content/gpt2-japanese/sampling.py:79: to_float (from tensorflow.python.ops.math_ops) is deprecated and will be removed in a future version.\n",
            "Instructions for updating:\n",
            "Use `tf.cast` instead.\n",
            "WARNING:tensorflow:From /usr/local/lib/python3.7/dist-packages/tensorflow/python/util/dispatch.py:206: multinomial (from tensorflow.python.ops.random_ops) is deprecated and will be removed in a future version.\n",
            "Instructions for updating:\n",
            "Use `tf.random.categorical` instead.\n",
            "1989年8月26日に、神奈川県立第一高校から東京大学に進学することを発表。21歳の時に、慶應義塾大学商学部に入るが、社会学部出身の鈴木啓之（元株式会社アート担当）に、同じく社会学部卒業後の1992年に第99回選抜高等学校野球大会・神奈川県大会に出場していることが知れ、大学を中退して、1992年7月に、慶應義塾大学に入学し、同大学大学院に進む。大学院修了後の1994年に、慶應義塾大学大学院において、社会学部の社会科学系学科長に就任。2005年「未来社会科学に関する調査研究の活動」で大学院修士課程を修了、社会科学系大学院に進学し、社会学研究科教授に就任した。「社会科学研究」の講義を聞いている最中、2008年9月には、慶應義塾大学の社会科学系学科長に就任している。「社会科学研究」は、早稲田大寄贈研究員である山口進二から、社会科学研究における「社会科学的に社会科学的に社会を構成する課題」について提言されたものである。\n",
            "社会科学研究においては、学部・専攻としながらも、人間社会の構造や社会構造について科学的な分析について研究している。「人間社会の構造」については、大学で研究した内容を学びながら人\n",
            "========\n",
            "この日も大きな拍手に包まれて心の中で「ありがとう、嬉しいです」と感謝を述べた。 <DATE> 21:00配信\n",
            "\n",
            "========\n",
            "「この日の夜、「Buzzy Asian」を見ることも、これまで見ることが難しい、日本の「Hot Road」の歴史を観ることもできると思った。「Lamning Mountain」が生んだ、「Record Garden」の「Empty Shop」は、これに続く2本のアートワークである。彼の名は、He Her's think way To Way! To Way Do Kojiは、この時の彼のインタビューで、「僕のインタビューを話して、本当に良かったことがたくさんあります。「Record Garden」っていうのは、24年前に発売してからいまですごくたくさんあるので、その中で、Buzzy Asianを見せてあげることって、とってもいいことだと僕は思います。この日のために「Mercaly」に「Record Garden」を書きました。僕のインタビューの中で、Buzzy Asianはその「Mercaly」の歴史について語ってもらった。それが、僕にとって「最も刺激的で最も影響的なもの」という意味を持っているのです」と言ったのです。」Hey Hey Wound (2011;2012)は、「Recor\n"
          ]
        }
      ]
    },
    {
      "cell_type": "code",
      "metadata": {
        "colab": {
          "base_uri": "https://localhost:8080/"
        },
        "id": "YaUhdN9recTk",
        "outputId": "ad02e43f-c7c5-44c4-9954-fb5c0fbba10d"
      },
      "source": [
        "# データセットの作成\n",
        "!git clone https://github.com/tanreinama/Japanese-BPEEncoder.git"
      ],
      "execution_count": 4,
      "outputs": [
        {
          "output_type": "stream",
          "name": "stdout",
          "text": [
            "Cloning into 'Japanese-BPEEncoder'...\n",
            "remote: Enumerating objects: 37, done.\u001b[K\n",
            "remote: Counting objects:   2% (1/37)\u001b[K\rremote: Counting objects:   5% (2/37)\u001b[K\rremote: Counting objects:   8% (3/37)\u001b[K\rremote: Counting objects:  10% (4/37)\u001b[K\rremote: Counting objects:  13% (5/37)\u001b[K\rremote: Counting objects:  16% (6/37)\u001b[K\rremote: Counting objects:  18% (7/37)\u001b[K\rremote: Counting objects:  21% (8/37)\u001b[K\rremote: Counting objects:  24% (9/37)\u001b[K\rremote: Counting objects:  27% (10/37)\u001b[K\rremote: Counting objects:  29% (11/37)\u001b[K\rremote: Counting objects:  32% (12/37)\u001b[K\rremote: Counting objects:  35% (13/37)\u001b[K\rremote: Counting objects:  37% (14/37)\u001b[K\rremote: Counting objects:  40% (15/37)\u001b[K\rremote: Counting objects:  43% (16/37)\u001b[K\rremote: Counting objects:  45% (17/37)\u001b[K\rremote: Counting objects:  48% (18/37)\u001b[K\rremote: Counting objects:  51% (19/37)\u001b[K\rremote: Counting objects:  54% (20/37)\u001b[K\rremote: Counting objects:  56% (21/37)\u001b[K\rremote: Counting objects:  59% (22/37)\u001b[K\rremote: Counting objects:  62% (23/37)\u001b[K\rremote: Counting objects:  64% (24/37)\u001b[K\rremote: Counting objects:  67% (25/37)\u001b[K\rremote: Counting objects:  70% (26/37)\u001b[K\rremote: Counting objects:  72% (27/37)\u001b[K\rremote: Counting objects:  75% (28/37)\u001b[K\rremote: Counting objects:  78% (29/37)\u001b[K\rremote: Counting objects:  81% (30/37)\u001b[K\rremote: Counting objects:  83% (31/37)\u001b[K\rremote: Counting objects:  86% (32/37)\u001b[K\rremote: Counting objects:  89% (33/37)\u001b[K\rremote: Counting objects:  91% (34/37)\u001b[K\rremote: Counting objects:  94% (35/37)\u001b[K\rremote: Counting objects:  97% (36/37)\u001b[K\rremote: Counting objects: 100% (37/37)\u001b[K\rremote: Counting objects: 100% (37/37), done.\u001b[K\n",
            "remote: Compressing objects: 100% (29/29), done.\u001b[K\n",
            "remote: Total 37 (delta 16), reused 22 (delta 6), pack-reused 0\u001b[K\n",
            "Unpacking objects: 100% (37/37), done.\n"
          ]
        }
      ]
    },
    {
      "cell_type": "code",
      "metadata": {
        "colab": {
          "base_uri": "https://localhost:8080/"
        },
        "id": "RuxnmlayoG-g",
        "outputId": "25712cc2-b867-4cc4-c53b-812d5c529419"
      },
      "source": [
        "!python ./Japanese-BPEEncoder/encode_bpe.py --src_dir mydata --dst_file finetune"
      ],
      "execution_count": 8,
      "outputs": [
        {
          "output_type": "stream",
          "name": "stdout",
          "text": [
            "append # akane-talk\n",
            "\r  0% 0/1 [00:00<?, ?it/s]\r100% 1/1 [00:00<00:00, 1709.87it/s]\n"
          ]
        }
      ]
    },
    {
      "cell_type": "code",
      "metadata": {
        "colab": {
          "base_uri": "https://localhost:8080/"
        },
        "id": "dAwSANKXoPtU",
        "outputId": "6b55532d-3d8e-461a-b223-da423d307892"
      },
      "source": [
        "!python run_finetune.py --base_model gpt2ja-small --dataset finetune.npz --run_name gpr2ja-finetune_run1-small"
      ],
      "execution_count": 15,
      "outputs": [
        {
          "output_type": "stream",
          "name": "stdout",
          "text": [
            "2021-10-14 12:15:15.212835: I tensorflow/stream_executor/cuda/cuda_gpu_executor.cc:937] successful NUMA node read from SysFS had negative value (-1), but there must be at least one NUMA node, so returning NUMA node zero\n",
            "2021-10-14 12:15:15.222103: I tensorflow/stream_executor/cuda/cuda_gpu_executor.cc:937] successful NUMA node read from SysFS had negative value (-1), but there must be at least one NUMA node, so returning NUMA node zero\n",
            "2021-10-14 12:15:15.223031: I tensorflow/stream_executor/cuda/cuda_gpu_executor.cc:937] successful NUMA node read from SysFS had negative value (-1), but there must be at least one NUMA node, so returning NUMA node zero\n",
            "2021-10-14 12:15:15.696457: I tensorflow/stream_executor/cuda/cuda_gpu_executor.cc:937] successful NUMA node read from SysFS had negative value (-1), but there must be at least one NUMA node, so returning NUMA node zero\n",
            "2021-10-14 12:15:15.697228: I tensorflow/stream_executor/cuda/cuda_gpu_executor.cc:937] successful NUMA node read from SysFS had negative value (-1), but there must be at least one NUMA node, so returning NUMA node zero\n",
            "2021-10-14 12:15:15.698046: I tensorflow/stream_executor/cuda/cuda_gpu_executor.cc:937] successful NUMA node read from SysFS had negative value (-1), but there must be at least one NUMA node, so returning NUMA node zero\n",
            "2021-10-14 12:15:15.698927: I tensorflow/core/common_runtime/gpu/gpu_device.cc:1510] Created device /job:localhost/replica:0/task:0/device:GPU:0 with 10819 MB memory:  -> device: 0, name: Tesla K80, pci bus id: 0000:00:04.0, compute capability: 3.7\n",
            "Loading checkpoint gpt2ja-small/model-10412700\n",
            "Loading dataset...\n",
            "Training...\n",
            "[1 | 4.09] loss=3.14 avg=3.14\n",
            "[2 | 4.84] loss=3.08 avg=3.11\n",
            "[3 | 5.58] loss=3.39 avg=3.20\n",
            "[4 | 6.32] loss=3.24 avg=3.21\n",
            "[5 | 7.06] loss=3.27 avg=3.22\n",
            "[6 | 7.81] loss=3.17 avg=3.21\n",
            "[7 | 8.55] loss=3.19 avg=3.21\n",
            "[8 | 9.29] loss=2.89 avg=3.17\n",
            "[9 | 10.04] loss=3.11 avg=3.16\n",
            "[10 | 10.79] loss=4.04 avg=3.25\n",
            "[11 | 11.53] loss=3.11 avg=3.24\n",
            "[12 | 12.28] loss=3.16 avg=3.23\n",
            "[13 | 13.02] loss=3.26 avg=3.24\n",
            "[14 | 13.77] loss=3.12 avg=3.23\n",
            "[15 | 14.51] loss=2.83 avg=3.20\n",
            "[16 | 15.26] loss=3.34 avg=3.21\n",
            "[17 | 16.00] loss=2.39 avg=3.16\n",
            "[18 | 16.75] loss=2.02 avg=3.09\n",
            "[19 | 17.49] loss=2.48 avg=3.05\n",
            "[20 | 18.24] loss=2.57 avg=3.02\n",
            "[21 | 18.99] loss=2.30 avg=2.99\n",
            "[22 | 19.74] loss=2.47 avg=2.96\n",
            "[23 | 20.48] loss=2.69 avg=2.95\n",
            "[24 | 21.23] loss=2.57 avg=2.93\n",
            "[25 | 21.98] loss=2.36 avg=2.91\n",
            "[26 | 22.73] loss=2.46 avg=2.89\n",
            "[27 | 23.47] loss=2.00 avg=2.85\n",
            "[28 | 24.22] loss=2.78 avg=2.85\n",
            "[29 | 24.97] loss=2.52 avg=2.83\n",
            "[30 | 25.72] loss=2.41 avg=2.82\n",
            "[31 | 26.47] loss=2.64 avg=2.81\n",
            "[32 | 27.22] loss=1.52 avg=2.76\n",
            "[33 | 27.97] loss=2.15 avg=2.74\n",
            "[34 | 28.72] loss=1.84 avg=2.71\n",
            "[35 | 29.47] loss=1.91 avg=2.68\n",
            "[36 | 30.22] loss=2.32 avg=2.67\n",
            "[37 | 30.97] loss=1.89 avg=2.65\n",
            "[38 | 31.72] loss=1.83 avg=2.62\n",
            "[39 | 32.47] loss=2.00 avg=2.60\n",
            "[40 | 33.22] loss=1.27 avg=2.56\n",
            "[41 | 33.97] loss=1.94 avg=2.54\n",
            "[42 | 34.72] loss=2.14 avg=2.53\n",
            "[43 | 35.47] loss=2.11 avg=2.52\n",
            "[44 | 36.22] loss=1.55 avg=2.49\n",
            "[45 | 36.97] loss=1.88 avg=2.47\n",
            "[46 | 37.72] loss=1.98 avg=2.46\n",
            "[47 | 38.48] loss=1.94 avg=2.45\n",
            "[48 | 39.23] loss=1.57 avg=2.42\n",
            "[49 | 39.99] loss=1.78 avg=2.41\n",
            "[50 | 40.74] loss=1.38 avg=2.38\n",
            "[51 | 41.49] loss=0.94 avg=2.35\n",
            "[52 | 42.24] loss=1.64 avg=2.33\n",
            "[53 | 43.00] loss=1.49 avg=2.31\n",
            "[54 | 43.75] loss=1.58 avg=2.29\n",
            "[55 | 44.50] loss=1.47 avg=2.27\n",
            "[56 | 45.26] loss=1.43 avg=2.25\n",
            "[57 | 46.01] loss=1.36 avg=2.23\n",
            "[58 | 46.76] loss=1.23 avg=2.21\n",
            "[59 | 47.52] loss=1.27 avg=2.19\n",
            "[60 | 48.27] loss=1.56 avg=2.17\n",
            "[61 | 49.03] loss=1.06 avg=2.15\n",
            "[62 | 49.79] loss=1.28 avg=2.13\n",
            "[63 | 50.54] loss=1.41 avg=2.12\n",
            "[64 | 51.30] loss=1.56 avg=2.10\n",
            "[65 | 52.06] loss=1.17 avg=2.08\n",
            "[66 | 52.81] loss=1.01 avg=2.06\n",
            "[67 | 53.57] loss=1.11 avg=2.04\n",
            "[68 | 54.33] loss=0.98 avg=2.02\n",
            "[69 | 55.09] loss=1.01 avg=2.00\n",
            "[70 | 55.85] loss=0.98 avg=1.98\n",
            "[71 | 56.60] loss=1.08 avg=1.96\n",
            "[72 | 57.37] loss=0.73 avg=1.94\n",
            "[73 | 58.13] loss=0.86 avg=1.92\n",
            "[74 | 58.88] loss=1.20 avg=1.90\n",
            "[75 | 59.64] loss=0.90 avg=1.89\n",
            "[76 | 60.41] loss=0.99 avg=1.87\n",
            "[77 | 61.16] loss=0.78 avg=1.85\n",
            "[78 | 61.92] loss=0.61 avg=1.83\n",
            "[79 | 62.68] loss=0.92 avg=1.81\n",
            "[80 | 63.44] loss=0.76 avg=1.79\n",
            "[81 | 64.19] loss=0.67 avg=1.77\n",
            "[82 | 64.95] loss=0.76 avg=1.75\n",
            "[83 | 65.72] loss=0.57 avg=1.73\n",
            "[84 | 66.48] loss=0.66 avg=1.71\n",
            "[85 | 67.24] loss=0.44 avg=1.69\n",
            "[86 | 68.00] loss=0.56 avg=1.67\n",
            "[87 | 68.76] loss=0.44 avg=1.65\n",
            "[88 | 69.52] loss=0.64 avg=1.63\n",
            "[89 | 70.29] loss=0.72 avg=1.62\n",
            "[90 | 71.06] loss=0.66 avg=1.60\n",
            "[91 | 71.82] loss=0.51 avg=1.58\n",
            "[92 | 72.58] loss=0.62 avg=1.57\n",
            "[93 | 73.34] loss=0.48 avg=1.55\n",
            "[94 | 74.11] loss=0.39 avg=1.53\n",
            "[95 | 74.88] loss=0.74 avg=1.52\n",
            "[96 | 75.64] loss=0.62 avg=1.50\n",
            "[97 | 76.41] loss=0.50 avg=1.49\n",
            "[98 | 77.17] loss=0.35 avg=1.47\n",
            "[99 | 77.93] loss=0.53 avg=1.45\n",
            "[100 | 78.70] loss=0.30 avg=1.44\n",
            "Saving checkpoint/gpr2ja-finetune_run1-small/model-101\n"
          ]
        }
      ]
    },
    {
      "cell_type": "code",
      "metadata": {
        "colab": {
          "base_uri": "https://localhost:8080/"
        },
        "id": "qL2paV3RppP2",
        "outputId": "3297ecb0-6d2e-4902-c770-c081a5399c76"
      },
      "source": [
        "!python gpt2-generate.py --model checkpoint/gpr2ja-finetune_run1-small --num_generate 1"
      ],
      "execution_count": 17,
      "outputs": [
        {
          "output_type": "stream",
          "name": "stdout",
          "text": [
            "2021-10-14 12:19:56.977368: I tensorflow/stream_executor/cuda/cuda_gpu_executor.cc:937] successful NUMA node read from SysFS had negative value (-1), but there must be at least one NUMA node, so returning NUMA node zero\n",
            "2021-10-14 12:19:56.986240: I tensorflow/stream_executor/cuda/cuda_gpu_executor.cc:937] successful NUMA node read from SysFS had negative value (-1), but there must be at least one NUMA node, so returning NUMA node zero\n",
            "2021-10-14 12:19:56.987072: I tensorflow/stream_executor/cuda/cuda_gpu_executor.cc:937] successful NUMA node read from SysFS had negative value (-1), but there must be at least one NUMA node, so returning NUMA node zero\n",
            "2021-10-14 12:19:57.458712: I tensorflow/stream_executor/cuda/cuda_gpu_executor.cc:937] successful NUMA node read from SysFS had negative value (-1), but there must be at least one NUMA node, so returning NUMA node zero\n",
            "2021-10-14 12:19:57.459713: I tensorflow/stream_executor/cuda/cuda_gpu_executor.cc:937] successful NUMA node read from SysFS had negative value (-1), but there must be at least one NUMA node, so returning NUMA node zero\n",
            "2021-10-14 12:19:57.460439: I tensorflow/stream_executor/cuda/cuda_gpu_executor.cc:937] successful NUMA node read from SysFS had negative value (-1), but there must be at least one NUMA node, so returning NUMA node zero\n",
            "2021-10-14 12:19:57.461116: I tensorflow/core/common_runtime/gpu/gpu_device.cc:1510] Created device /job:localhost/replica:0/task:0/device:GPU:0 with 10819 MB memory:  -> device: 0, name: Tesla K80, pci bus id: 0000:00:04.0, compute capability: 3.7\n",
            "WARNING:tensorflow:From /content/gpt2-japanese/sampling.py:79: to_float (from tensorflow.python.ops.math_ops) is deprecated and will be removed in a future version.\n",
            "Instructions for updating:\n",
            "Use `tf.cast` instead.\n",
            "2021-10-14 12:20:00.762823: I tensorflow/stream_executor/cuda/cuda_gpu_executor.cc:937] successful NUMA node read from SysFS had negative value (-1), but there must be at least one NUMA node, so returning NUMA node zero\n",
            "2021-10-14 12:20:00.763796: I tensorflow/stream_executor/cuda/cuda_gpu_executor.cc:937] successful NUMA node read from SysFS had negative value (-1), but there must be at least one NUMA node, so returning NUMA node zero\n",
            "2021-10-14 12:20:00.764559: I tensorflow/stream_executor/cuda/cuda_gpu_executor.cc:937] successful NUMA node read from SysFS had negative value (-1), but there must be at least one NUMA node, so returning NUMA node zero\n",
            "WARNING:tensorflow:From /usr/local/lib/python3.7/dist-packages/tensorflow/python/util/dispatch.py:206: multinomial (from tensorflow.python.ops.random_ops) is deprecated and will be removed in a future version.\n",
            "Instructions for updating:\n",
            "Use `tf.random.categorical` instead.\n",
            "誰が一番好みなのかな？ やっぱりラブやんの！ (｀□´)\n",
            "やっぱり可愛い子がいいなぁ。私も欲しいなぁ。\n",
            "ねぇ、お兄ちゃん。「いいよ」って言ったら誰が一番嬉しい？\n",
            "私ね、最近、毎朝、このおはなしを言うの。昨日は妹の名前がわからないの。昨日は新体操を見せたいの。最近、運動しなくてごめんね。今度妹の体操教室に行こうと思うんだけど、お兄ちゃん、どんな体操服を持ってきたい？\n",
            "私、妹と弟の絆を感じて震えるのよ。今日もお姉ちゃんも、このおはなしに私、胸を大きくしたい！\n",
            "きっとね、お兄ちゃん。「いいよ」って言ったら誰も見向かないよ。お兄ちゃんに言いつけちゃう。\n",
            "今日は私の誕生日だね。私も今日は妹の名前がわからないの。今日は新体操を見せたい。最近、運動しなくてごめんね。昨日は新体操を見せたいの。今日は体操服を着ていきたいな。私も今日は体操服を着よう。おはなしは妹の名前がわからないの。私も今日も、このおはなしに胸を大きくしたい！\n",
            "今日は私の誕生日だね。私は昨日、憂鬱だった映画を見つけたんだよね。今日は妹の名前がわからないの。私も今日は胸を大きくしたい。今日は妹の名前がわからないの。私もね、昨日、憂鬱だった\n"
          ]
        }
      ]
    },
    {
      "cell_type": "code",
      "metadata": {
        "colab": {
          "base_uri": "https://localhost:8080/"
        },
        "id": "3RJV18jzqyyw",
        "outputId": "ae7d973a-cc9b-4a39-8c91-8dbacc1ece8c"
      },
      "source": [
        "!pwd"
      ],
      "execution_count": 10,
      "outputs": [
        {
          "output_type": "stream",
          "name": "stdout",
          "text": [
            "/content/gpt2-japanese\n"
          ]
        }
      ]
    },
    {
      "cell_type": "code",
      "metadata": {
        "colab": {
          "base_uri": "https://localhost:8080/"
        },
        "id": "HHmfCmfKuBI4",
        "outputId": "c1f8c420-f517-4155-e869-2dd823f2079a"
      },
      "source": [
        "!ls"
      ],
      "execution_count": 14,
      "outputs": [
        {
          "output_type": "stream",
          "name": "stdout",
          "text": [
            "akane-talk\t      gpt2-score.py\t   report\t       tmp3.pkl\n",
            "checkpoint\t      gpt2-transform.py    requirements.txt    tmp4.pkl\n",
            "emoji.json\t      ja-bpe.txt\t   run_finetune.py     tmp5.pkl\n",
            "encode_bpe.py\t      Japanese-BPEEncoder  sampling.py\t       tmp6.pkl\n",
            "finetune.npz\t      LICENSE\t\t   special_thanks.txt  tmp7.pkl\n",
            "gpt2-generate.py      model.py\t\t   tmp0.pkl\n",
            "gpt2ja-small\t      __pycache__\t   tmp1.pkl\n",
            "gpt2ja-small.tar.bz2  README.md\t\t   tmp2.pkl\n"
          ]
        }
      ]
    },
    {
      "cell_type": "code",
      "metadata": {
        "id": "zW5pxegJuHYj"
      },
      "source": [
        ""
      ],
      "execution_count": null,
      "outputs": []
    }
  ]
}