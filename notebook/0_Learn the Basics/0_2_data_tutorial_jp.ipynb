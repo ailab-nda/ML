{
  "nbformat": 4,
  "nbformat_minor": 0,
  "metadata": {
    "kernelspec": {
      "display_name": "Python 3",
      "language": "python",
      "name": "python3"
    },
    "language_info": {
      "codemirror_mode": {
        "name": "ipython",
        "version": 3
      },
      "file_extension": ".py",
      "mimetype": "text/x-python",
      "name": "python",
      "nbconvert_exporter": "python",
      "pygments_lexer": "ipython3",
      "version": "3.6.12"
    },
    "colab": {
      "name": "0_2_data_tutorial_jp.ipynb",
      "provenance": [],
      "toc_visible": true,
      "include_colab_link": true
    }
  },
  "cells": [
    {
      "cell_type": "markdown",
      "metadata": {
        "id": "view-in-github",
        "colab_type": "text"
      },
      "source": [
        "<a href=\"https://colab.research.google.com/github/ailab-nda/ML/blob/main/notebook/0_Learn%20the%20Basics/0_2_data_tutorial_jp.ipynb\" target=\"_parent\"><img src=\"https://colab.research.google.com/assets/colab-badge.svg\" alt=\"Open In Colab\"/></a>"
      ]
    },
    {
      "cell_type": "markdown",
      "metadata": {
        "id": "oTii8GU3qNpO"
      },
      "source": [
        "「PyTorch入門  2. データセットとデータローダー」\n",
        "===============================================================\n",
        "【原題】DATASETS & DATALOADERS\n",
        "\n",
        "【原著】\n",
        "[Suraj Subramanian](https://github.com/suraj813)、[Seth Juarez](https://github.com/sethjuarez/) 、[Cassie Breviu](https://github.com/cassieview/) 、[Dmitry Soshnikov](https://soshnikov.com/)、[Ari Bornstein](https://github.com/aribornstein/)\n",
        "\n",
        "\n",
        "【元URL】https://pytorch.org/tutorials/beginner/basics/data_tutorial.html\n",
        "\n",
        "【翻訳】電通国際情報サービスISID AIトランスフォーメーションセンター　小川 雄太郎\n",
        "\n",
        "【日付】2021年03月20日\n",
        "\n",
        "【チュトーリアル概要】\n",
        "\n",
        "本チュートリアルでは、PyTorchでサンプルデータを扱う基本要素である、DatasetとDataLoaderについて解説を行います。\n",
        "\n",
        "---\n"
      ]
    },
    {
      "cell_type": "markdown",
      "metadata": {
        "id": "xrrYlOuMoH4p"
      },
      "source": [
        "\n",
        "Datasets & Dataloaders\n",
        "===================\n",
        "\n",
        "サンプルデータを処理するコードは複雑であり、メンテナンスも大変です。\n",
        "\n",
        "データセットに関するコードは可読性とモジュール性を考慮し、モデルの訓練コードから切り離すのが理想的です。\n",
        "\n",
        "\n"
      ]
    },
    {
      "cell_type": "markdown",
      "metadata": {
        "id": "iFT48e6ZrDPs"
      },
      "source": [
        "PyTorchにはデータセットを扱う基本要素が2つあります。\n",
        "\n",
        "``torch.utils.data.DataLoader``と、``torch.utils.data.Dataset``です。\n",
        "\n",
        "これらを活用することであらかじめ用意されたデータセットや自分で作成したデータを使用することができます。\n",
        "\n"
      ]
    },
    {
      "cell_type": "markdown",
      "metadata": {
        "id": "hZo4AoqhpKLz"
      },
      "source": [
        "``Dataset``にはサンプルとそれに対応するラベルが格納され、``DataLoader``にはイテレート処理が可能なデータが格納されます。\n",
        "\n",
        "``DataLoader``は、サンプルを簡単に利用できるように、``Dataset``をイテレート処理可能なものへとラップします。"
      ]
    },
    {
      "cell_type": "markdown",
      "metadata": {
        "id": "4SFeigADrsK0"
      },
      "source": [
        "PyTorch domain librariesでは、多くのデータセット（FashionMNISTなど）を提供しています。\n",
        "\n",
        "これらは ``torch.utils.data.Dataset`` を継承しており、各ドメインのデータに対して必要な、固有の機能を実装しています。\n",
        "\n",
        "また、皆様が実装したモデルのベンチマークにも使うことができます。\n",
        "\n",
        "さらなる詳細は以下をご覧ください。\n",
        "\n",
        "\n"
      ]
    },
    {
      "cell_type": "markdown",
      "metadata": {
        "id": "hr2mv1wWsVSr"
      },
      "source": [
        "- [Image Datasets](https://pytorch.org/docs/stable/torchvision/datasets.html)  \n",
        "\n",
        "- [Text Datasets](https://pytorch.org/text/stable/datasets.html)\n",
        "\n",
        "- [Audio Datasets](https://pytorch.org/audio/stable/datasets.html)"
      ]
    },
    {
      "cell_type": "markdown",
      "metadata": {
        "id": "QrurYlcGr6hi"
      },
      "source": [
        "---\n",
        "\n"
      ]
    },
    {
      "cell_type": "markdown",
      "metadata": {
        "id": "SKrmwAbwoH4q"
      },
      "source": [
        "Datasetの読み込み\n",
        "-------------------\n",
        "\n",
        "TorchVisionから[Fashion-MNIST](https://research.zalando.com/welcome/mission/research-projects/fashion-mnist/)をロードする例を紹介します。\n",
        "\n",
        "Fashion-MNISTは、60,000個の訓練データと10,000個のテストデータから構成された、Zalandoの記事画像のデータセットです。\n",
        "\n",
        "各サンプルは、28×28のグレースケール画像と、10クラスのうちの1つのラベルから構成されています。\n",
        "\n",
        "\n"
      ]
    },
    {
      "cell_type": "markdown",
      "metadata": {
        "id": "wj8yhfb_tJsI"
      },
      "source": [
        "[FashionMNIST Dataset](https://pytorch.org/docs/stable/torchvision/datasets.html#fashion-mnist)を読み込む際には、以下のパラメータを使用します。\n",
        "\n",
        "\n",
        "- ``root`` ：訓練/テストデータが格納されているパスを指定\n",
        "- ``train`` ：訓練データまたはテストデータセットを指定\n",
        "- ``download=True``：``root`` にデータが存在しない場合は、インターネットからデータをダウンロードを指定\n",
        "- ``transform`` と ``target_transform``：特徴量とラベルの変換を指定"
      ]
    },
    {
      "cell_type": "code",
      "metadata": {
        "id": "-C5DwpmZoH4k"
      },
      "source": [
        "%matplotlib inline"
      ],
      "execution_count": null,
      "outputs": []
    },
    {
      "cell_type": "code",
      "metadata": {
        "id": "GULvjXuioH4r"
      },
      "source": [
        "import torch\n",
        "from torch.utils.data import Dataset\n",
        "from torchvision import datasets\n",
        "from torchvision.transforms import ToTensor, Lambda\n",
        "import matplotlib.pyplot as plt\n",
        "\n",
        "\n",
        "training_data = datasets.FashionMNIST(\n",
        "    root=\"data\",\n",
        "    train=True,\n",
        "    download=True,\n",
        "    transform=ToTensor()\n",
        ")\n",
        "\n",
        "test_data = datasets.FashionMNIST(\n",
        "    root=\"data\",\n",
        "    train=False,\n",
        "    download=True,\n",
        "    transform=ToTensor()\n",
        ")"
      ],
      "execution_count": null,
      "outputs": []
    },
    {
      "cell_type": "markdown",
      "metadata": {
        "id": "BkDdIkWRr9V-"
      },
      "source": [
        "---\n",
        "\n"
      ]
    },
    {
      "cell_type": "markdown",
      "metadata": {
        "id": "jyJhWCy4oH4s"
      },
      "source": [
        "データセットの反復処理と可視化\n",
        "-----------------\n",
        "\n",
        "Datasetの特定indexを指定する際には、リスト操作と同様に、``training_data[index]``と記載します。\n",
        "\n",
        "``matplotlib``を使用し、訓練データのいくつかのサンプルを可視化しましょう。\n",
        "\n"
      ]
    },
    {
      "cell_type": "code",
      "metadata": {
        "id": "f2Xi46AToH4s"
      },
      "source": [
        "labels_map = {\n",
        "    0: \"T-Shirt\",\n",
        "    1: \"Trouser\",\n",
        "    2: \"Pullover\",\n",
        "    3: \"Dress\",\n",
        "    4: \"Coat\",\n",
        "    5: \"Sandal\",\n",
        "    6: \"Shirt\",\n",
        "    7: \"Sneaker\",\n",
        "    8: \"Bag\",\n",
        "    9: \"Ankle Boot\",\n",
        "}\n",
        "figure = plt.figure(figsize=(8, 8))\n",
        "cols, rows = 3, 3\n",
        "for i in range(1, cols * rows + 1):\n",
        "    sample_idx = torch.randint(len(training_data), size=(1,)).item()\n",
        "    img, label = training_data[sample_idx]\n",
        "    figure.add_subplot(rows, cols, i)\n",
        "    plt.title(labels_map[label])\n",
        "    plt.axis(\"off\")\n",
        "    plt.imshow(img.squeeze(), cmap=\"gray\")\n",
        "plt.show()"
      ],
      "execution_count": null,
      "outputs": []
    },
    {
      "cell_type": "markdown",
      "metadata": {
        "id": "2WRSevQroH4t"
      },
      "source": [
        "--------------\n",
        "\n",
        "\n"
      ]
    },
    {
      "cell_type": "markdown",
      "metadata": {
        "id": "6DYdw1peoH4t"
      },
      "source": [
        "カスタムデータセットの作成\n",
        "---------------------------------------------------\n",
        "\n",
        "自分でカスタムしたDatasetクラスを作る際には、 `__init__`、`__len__`、`__getitem__`の3つの関数は必ず実装する必要があります。\n",
        "\n",
        "これらの関数の実装を確認します。\n",
        "\n",
        "FashionMNISTの画像データを``img_dir``フォルダに、ラベルはCSVファイル``annotations_file``として保存します。\n",
        "\n",
        "これから、各関数がどのような操作を行っているのか詳細に確認します。\n",
        "\n"
      ]
    },
    {
      "cell_type": "code",
      "metadata": {
        "id": "o9Jw_x39oH4u"
      },
      "source": [
        "import os\n",
        "import pandas as pd\n",
        "from torchvision.io import read_image\n",
        "\n",
        "class CustomImageDataset(Dataset):\n",
        "    def __init__(self, annotations_file, img_dir, transform=None, target_transform=None):\n",
        "        self.img_labels = pd.read_csv(annotations_file)\n",
        "        self.img_dir = img_dir\n",
        "        self.transform = transform\n",
        "        self.target_transform = target_transform\n",
        "\n",
        "    def __len__(self):\n",
        "        return len(self.img_labels)\n",
        "\n",
        "    def __getitem__(self, idx):\n",
        "        img_path = os.path.join(self.img_dir, self.img_labels.iloc[idx, 0])\n",
        "        image = read_image(img_path)\n",
        "        label = self.img_labels.iloc[idx, 1]\n",
        "        if self.transform:\n",
        "            image = self.transform(image)\n",
        "        if self.target_transform:\n",
        "            label = self.target_transform(label)\n",
        "        sample = {\"image\": image, \"label\": label}\n",
        "        return sample"
      ],
      "execution_count": null,
      "outputs": []
    },
    {
      "cell_type": "markdown",
      "metadata": {
        "id": "OkUEyaTKoH4u"
      },
      "source": [
        "**__init__**\n",
        "\n",
        "\n",
        "`__init__`関数はDatasetオブジェクトがインスタンス化される際に1度だけ実行されます。\n",
        "\n",
        "画像、アノテーションファイル、そしてそれらに対する変換処理（transforms：次のセクションで解説します）の初期設定を行います。\n",
        "\n",
        "<br>\n",
        "\n",
        "ここで、labels.csvファイルは以下のような内容となっています。\n",
        "\n",
        "    tshirt1.jpg, 0\n",
        "    tshirt2.jpg, 0\n",
        "    ......\n",
        "    ankleboot999.jpg, 9\n",
        "\n"
      ]
    },
    {
      "cell_type": "code",
      "metadata": {
        "id": "7wo_ipQkoH4v"
      },
      "source": [
        "def __init__(self, annotations_file, img_dir, transform=None, target_transform=None):\n",
        "    self.img_labels = pd.read_csv(annotations_file)\n",
        "    self.img_dir = img_dir\n",
        "    self.transform = transform\n",
        "    self.target_transform = target_transform"
      ],
      "execution_count": null,
      "outputs": []
    },
    {
      "cell_type": "markdown",
      "metadata": {
        "id": "hYFvaagxoH4v"
      },
      "source": [
        "**__len__**\n",
        "\n",
        "\n",
        "`__len__`関数はデータセットのサンプル数を返す関数です。\n",
        "\n"
      ]
    },
    {
      "cell_type": "code",
      "metadata": {
        "id": "OCcr5zKVoH4v"
      },
      "source": [
        "def __len__(self):\n",
        "    return len(self.img_labels)"
      ],
      "execution_count": null,
      "outputs": []
    },
    {
      "cell_type": "markdown",
      "metadata": {
        "id": "yz_6ekutoH4v"
      },
      "source": [
        "**__getitem__**\n",
        "\n",
        "`__getitem__`関数は指定された``idx``に対応するサンプルをデータセットから読み込んで返す関数です。\n",
        "\n",
        "`index`に基づいて、画像ファイルのパスを特定し、``read_image``を使用して画像ファイルをテンソルに変換します。\n",
        "\n",
        "加えて、``self.img_labels``から対応するラベルを抜き出します。\n",
        "\n",
        "そしてtransform functionsを必要に応じて画像およびラベルに適用し、最終的にPythonの辞書型変数で画像とラベルを返します。\n",
        "\n"
      ]
    },
    {
      "cell_type": "code",
      "metadata": {
        "id": "VWAIzFaloH4w"
      },
      "source": [
        "def __getitem__(self, idx):\n",
        "    img_path = os.path.join(self.img_dir, self.img_labels.iloc[idx, 0])\n",
        "    image = read_image(img_path)\n",
        "    label = self.img_labels.iloc[idx, 1]\n",
        "    if self.transform:\n",
        "        image = self.transform(image)\n",
        "    if self.target_transform:\n",
        "        label = self.target_transform(label)\n",
        "    sample = {\"image\": image, \"label\": label}\n",
        "    return sample"
      ],
      "execution_count": null,
      "outputs": []
    },
    {
      "cell_type": "markdown",
      "metadata": {
        "id": "vchQsP0XoH4w"
      },
      "source": [
        "--------------\n",
        "\n",
        "\n"
      ]
    },
    {
      "cell_type": "markdown",
      "metadata": {
        "id": "8K9esMdhoH4x"
      },
      "source": [
        "DataLoaderの使用方法\n",
        "-------------------------------------------------\n",
        "\n",
        "``Dataset``を使用することで1つのサンプルの、データとラベルを取り出せます。\n",
        "\n",
        "ですが、モデルの訓練時にはミニバッチ（\"minibatches\"）単位でデータを扱いたく、また各epochでデータはシャッフルされて欲しいです（訓練データへの過学習を防ぐ目的です）。\n",
        "\n",
        "加えて、Pythonの ``multiprocessing``を使用し、複数データの取り出しを高速化したいところです。\n",
        "\n",
        "``DataLoader``は上記に示した複雑な処理を簡単に実行できるようにしてくれるAPIとなります。\n"
      ]
    },
    {
      "cell_type": "code",
      "metadata": {
        "id": "EMIQLpQtoH4y"
      },
      "source": [
        "from torch.utils.data import DataLoader\n",
        "\n",
        "train_dataloader = DataLoader(training_data, batch_size=64, shuffle=True)\n",
        "test_dataloader = DataLoader(test_data, batch_size=64, shuffle=True)"
      ],
      "execution_count": null,
      "outputs": []
    },
    {
      "cell_type": "markdown",
      "metadata": {
        "id": "klErSZApoH4y"
      },
      "source": [
        "DataLoaderを用いた繰り返し処理\n",
        "--------------------------\n",
        "\n",
        "データセットを ``Dataloader`` に読み込ませ、必要に応じてデータセットを反復処理することができます。\n",
        "\n",
        "以下の各反復処理では``train_features`` と ``train_labels``のミニバッチを返します（それぞれ、64個のサンプルで構成されるミニバッチです）。\n",
        "\n",
        "今回``shuffle=True``と指定しているので、データセットのデータを全て取り出したら、データの順番はシャッフルされます。\n",
        "\n",
        "<br>\n",
        "\n",
        "さらなるデータ読み込み操作の詳細については、[こちらのSamplers](https://pytorch.org/docs/stable/data.html#data-loading-order-and-sampler)をご覧ください。\n"
      ]
    },
    {
      "cell_type": "code",
      "metadata": {
        "id": "UXzRi_hMoH4y"
      },
      "source": [
        "# Display image and label.\n",
        "train_features, train_labels = next(iter(train_dataloader))\n",
        "print(f\"Feature batch shape: {train_features.size()}\")\n",
        "print(f\"Labels batch shape: {train_labels.size()}\")\n",
        "img = train_features[0].squeeze()\n",
        "label = train_labels[0]\n",
        "plt.imshow(img, cmap=\"gray\")\n",
        "plt.show()\n",
        "print(f\"Label: {label}\")"
      ],
      "execution_count": null,
      "outputs": []
    },
    {
      "cell_type": "markdown",
      "metadata": {
        "id": "Y1aEdIk5oH4z"
      },
      "source": [
        "--------------\n",
        "\n",
        "\n"
      ]
    },
    {
      "cell_type": "markdown",
      "metadata": {
        "id": "vXRAreSnoH4z"
      },
      "source": [
        "さらなる詳細\n",
        "--------------\n",
        "以下のページも参考ください。\n",
        "\n",
        "- [torch.utils.data API](https://pytorch.org/docs/stable/data.html)\n",
        "\n"
      ]
    },
    {
      "cell_type": "markdown",
      "metadata": {
        "id": "4Y8HTqFi57Ig"
      },
      "source": [
        "以上。"
      ]
    }
  ]
}