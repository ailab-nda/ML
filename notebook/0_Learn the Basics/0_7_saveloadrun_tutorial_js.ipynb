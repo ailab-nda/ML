{
  "nbformat": 4,
  "nbformat_minor": 0,
  "metadata": {
    "kernelspec": {
      "display_name": "Python 3",
      "language": "python",
      "name": "python3"
    },
    "language_info": {
      "codemirror_mode": {
        "name": "ipython",
        "version": 3
      },
      "file_extension": ".py",
      "mimetype": "text/x-python",
      "name": "python",
      "nbconvert_exporter": "python",
      "pygments_lexer": "ipython3",
      "version": "3.6.12"
    },
    "colab": {
      "name": "0_7_saveloadrun_tutorial_js.ipynb",
      "provenance": [],
      "toc_visible": true,
      "include_colab_link": true
    }
  },
  "cells": [
    {
      "cell_type": "markdown",
      "metadata": {
        "id": "view-in-github",
        "colab_type": "text"
      },
      "source": [
        "<a href=\"https://colab.research.google.com/github/ailab-nda/ML/blob/main/notebook/0_Learn%20the%20Basics/0_7_saveloadrun_tutorial_js.ipynb\" target=\"_parent\"><img src=\"https://colab.research.google.com/assets/colab-badge.svg\" alt=\"Open In Colab\"/></a>"
      ]
    },
    {
      "cell_type": "markdown",
      "metadata": {
        "id": "ksNwPtZKUWfe"
      },
      "source": [
        "「PyTorch入門  7. モデルの保存・読み込み」\n",
        "===============================================================\n",
        "【原題】SAVE AND LOAD THE MODEL\n",
        "\n",
        "【原著】\n",
        "[Suraj Subramanian](https://github.com/suraj813)、[Seth Juarez](https://github.com/sethjuarez/) 、[Cassie Breviu](https://github.com/cassieview/) 、[Dmitry Soshnikov](https://soshnikov.com/)、[Ari Bornstein](https://github.com/aribornstein/)\n",
        "\n",
        "\n",
        "【元URL】https://pytorch.org/tutorials/beginner/basics/saveloadrun_tutorial.html\n",
        "\n",
        "【翻訳】電通国際情報サービスISID AIトランスフォーメーションセンター　小川 雄太郎\n",
        "\n",
        "【日付】2021年03月20日\n",
        "\n",
        "【チュトーリアル概要】\n",
        "\n",
        "本チュートリアルでは、PyTorchでモデルを保存する方法、および保存したモデルのロードについて解説します。\n",
        "\n",
        "\n",
        "---\n",
        "\n"
      ]
    },
    {
      "cell_type": "markdown",
      "metadata": {
        "id": "0F-aBbROTpYP"
      },
      "source": [
        "\n",
        "\n",
        "モデルの保存と読み込み\n",
        "============================\n",
        "本チュートリアルでは、モデルの状態を継続させるために、モデルの保存する方法とモデルを読み込み推論を実行する方法について解説します。\n",
        "\n",
        "\n"
      ]
    },
    {
      "cell_type": "code",
      "metadata": {
        "id": "-AMWg-J6TpYJ"
      },
      "source": [
        "%matplotlib inline"
      ],
      "execution_count": null,
      "outputs": []
    },
    {
      "cell_type": "code",
      "metadata": {
        "id": "6Z0TpBaETpYQ"
      },
      "source": [
        "import torch\n",
        "import torch.onnx as onnx\n",
        "import torchvision.models as models"
      ],
      "execution_count": null,
      "outputs": []
    },
    {
      "cell_type": "markdown",
      "metadata": {
        "id": "Nqs7E6FdTpYR"
      },
      "source": [
        "モデルの重みの保存と読み込み\n",
        "--------------------------------\n",
        "PyTorchのモデルは学習したパラメータを内部に状態辞書（``state_dict``）として保持しています。\n",
        "\n",
        "これらのパラメータの値は ``torch.save`` を使用することで、永続化させることができます。\n",
        "\n"
      ]
    },
    {
      "cell_type": "code",
      "metadata": {
        "id": "RbikVScJTpYR"
      },
      "source": [
        "model = models.vgg16(pretrained=True)\n",
        "torch.save(model.state_dict(), 'model_weights.pth')"
      ],
      "execution_count": null,
      "outputs": []
    },
    {
      "cell_type": "markdown",
      "metadata": {
        "id": "BLcgs7Y_TpYR"
      },
      "source": [
        "モデルの重みを読み込むためには、予め同じモデルの形をしたインスタンスを用意します。\n",
        "\n",
        "そしてそのインスタンスに対して``load_state_dict()``メソッドを使用し、パラメータの値を読み込みます。\n"
      ]
    },
    {
      "cell_type": "code",
      "metadata": {
        "id": "UFoz7_HtTpYS"
      },
      "source": [
        "model = models.vgg16() # pretrained=Trueを引数に入れていないので、デフォルトのランダムな値になっています\n",
        "model.load_state_dict(torch.load('model_weights.pth'))\n",
        "model.eval()"
      ],
      "execution_count": null,
      "outputs": []
    },
    {
      "cell_type": "markdown",
      "metadata": {
        "id": "ALrNIfA0TpYS"
      },
      "source": [
        "【注意】\n",
        "\n",
        "ドロップアウトやバッチノーマライゼーションレイヤーをevaluationモードに切り替えるために、推論前には ``model.eval()``を実行することを忘れないようにしてください。\n",
        "\n",
        "これを忘れると、推論結果が正確ではなくなります。\n",
        "\n"
      ]
    },
    {
      "cell_type": "markdown",
      "metadata": {
        "id": "FmFs514vHQh6"
      },
      "source": [
        "---\n"
      ]
    },
    {
      "cell_type": "markdown",
      "metadata": {
        "id": "zDs-_u0WTpYS"
      },
      "source": [
        "モデルの形ごと保存・読み込む方法\n",
        "-------------------------------------\n",
        "モデルの重みをロードする場合は、先にモデルのインスタンスを用意する必要があります。\n",
        "\n",
        "モデルクラスの構造も一緒に保存したい場合もあるかと思います。\n",
        "\n",
        "その際は保存時に、``model.state_dict()``ではなく``model``を渡します。\n",
        "\n",
        "\n"
      ]
    },
    {
      "cell_type": "code",
      "metadata": {
        "id": "J0ow8EjyTpYT"
      },
      "source": [
        "torch.save(model, 'model.pth')"
      ],
      "execution_count": null,
      "outputs": []
    },
    {
      "cell_type": "markdown",
      "metadata": {
        "id": "duL9zCRHTpYT"
      },
      "source": [
        "モデルをロードするには、以下のように記載します。\n",
        "\n"
      ]
    },
    {
      "cell_type": "code",
      "metadata": {
        "id": "pd8h2uBkTpYT"
      },
      "source": [
        "model = torch.load('model.pth')"
      ],
      "execution_count": null,
      "outputs": []
    },
    {
      "cell_type": "markdown",
      "metadata": {
        "id": "hm7kFVuaTpYT"
      },
      "source": [
        "【注意】\n",
        "\n",
        "上記の方法はPythonの[`pickle`](https://docs.python.org/3/library/pickle.html)モジュールをモデルのシリアライズに使用します。\n",
        "\n",
        "そのため、モデルのロード時に実際のクラス定義が利用可能である必要があります。\n",
        "\n",
        "<br>\n",
        "\n",
        "【日本語訳注】\n",
        "\n",
        "上記の表現は理解が少し難しいのですが、言いたいことは、モデルのモジュールに独自クラスを定義して使用している場合、`torch.load`を実行する前に、その独自クラスをimportするか宣言するかして、使用可能な状態にしておく必要があります、という意味です。\n",
        "\n",
        "でないと、`load`時に不明なクラスを使用することになり読み込みエラーとなります。\n",
        "\n"
      ]
    },
    {
      "cell_type": "markdown",
      "metadata": {
        "id": "FBH1CTcMH6Rs"
      },
      "source": [
        "---"
      ]
    },
    {
      "cell_type": "markdown",
      "metadata": {
        "id": "wNset5jpTpYU"
      },
      "source": [
        "ONNX形式でのモデル出力：Exporting Model to ONNX\n",
        "-----------------------\n",
        "\n",
        "PyTorchはONNX形式でのモデル出力もサポートしています。\n",
        "\n",
        "しかしPyTorchの計算グラフは動的に生成されるため、出力処理では計算グラフを一度実行して作成してから、ONNXモデルを生成する必要があります。\n",
        "\n",
        "すなわち、実際に一度データを流してみる必要があります。\n",
        "\n",
        "そのため、テスト用の適切なテンソルサイズの入力変数を用意し、モデル出力の処理に渡す必要があります。\n",
        "\n",
        "<br>\n",
        "\n",
        "以下ではダミーのゼロテンソルを適切なサイズで作成して使用しています。\n",
        "\n"
      ]
    },
    {
      "cell_type": "code",
      "metadata": {
        "id": "7t0xRI8ATpYU"
      },
      "source": [
        "input_image = torch.zeros((1,3,224,224))\n",
        "onnx.export(model, input_image, 'model.onnx')\n",
        "\n",
        "# 日本語訳注：このセルを実行するとmodel.onnxというファイルが生成されます"
      ],
      "execution_count": null,
      "outputs": []
    },
    {
      "cell_type": "markdown",
      "metadata": {
        "id": "sMKUrDHLYg2Q"
      },
      "source": [
        "ONNXモデルを使用することで、異なるプラットフォームや異なるプログラミング言語でディープラーニングモデルの推論を実行させるなど、様々なことが可能です。\n",
        "\n",
        "さらなる詳細については、こちらの[`ONNX tutorial`](https://github.com/onnx/tutorials)をご覧ください。\n",
        "\n"
      ]
    },
    {
      "cell_type": "markdown",
      "metadata": {
        "id": "siERTwtHIZAr"
      },
      "source": [
        "---\n"
      ]
    },
    {
      "cell_type": "markdown",
      "metadata": {
        "id": "uS35SaQvZGFN"
      },
      "source": [
        "おつかれまさです！　これでPyTorch beginner tutorialは完了です。\n",
        "\n",
        "再度[目次ページ](https://colab.research.google.com/github/YutaroOgawa/pytorch_tutorials_jp/blob/main/notebook/0_Learn%20the%20Basics/0_0_intro_jp.ipynb)を見たり、次の[「8. クイックスタート」](https://colab.research.google.com/github/YutaroOgawa/pytorch_tutorials_jp/blob/main/notebook/0_Learn%20the%20Basics/0_8_quickstart_tutorial_jp.ipynb)を見て、内容を振り返ってみてください。\n",
        "\n",
        "\n",
        "本チュートリアルシリーズが、PyTorchでディープラーニングを始める際のお役に立てれば幸いです。幸運を祈ります。"
      ]
    },
    {
      "cell_type": "markdown",
      "metadata": {
        "id": "vPR5eD-DZcfY"
      },
      "source": [
        "以上。"
      ]
    }
  ]
}