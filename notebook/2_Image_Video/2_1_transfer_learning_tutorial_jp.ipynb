{
  "nbformat": 4,
  "nbformat_minor": 0,
  "metadata": {
    "kernelspec": {
      "display_name": "Python 3",
      "language": "python",
      "name": "python3"
    },
    "language_info": {
      "codemirror_mode": {
        "name": "ipython",
        "version": 3
      },
      "file_extension": ".py",
      "mimetype": "text/x-python",
      "name": "python",
      "nbconvert_exporter": "python",
      "pygments_lexer": "ipython3",
      "version": "3.6.8"
    },
    "colab": {
      "name": "2_1_transfer_learning_tutorial_jp.ipynb",
      "provenance": [],
      "toc_visible": true,
      "include_colab_link": true
    },
    "accelerator": "GPU"
  },
  "cells": [
    {
      "cell_type": "markdown",
      "metadata": {
        "id": "view-in-github",
        "colab_type": "text"
      },
      "source": [
        "<a href=\"https://colab.research.google.com/github/ailab-nda/ML/blob/main/notebook/2_Image_Video/2_1_transfer_learning_tutorial_jp.ipynb\" target=\"_parent\"><img src=\"https://colab.research.google.com/assets/colab-badge.svg\" alt=\"Open In Colab\"/></a>"
      ]
    },
    {
      "cell_type": "markdown",
      "metadata": {
        "id": "Ax5T0Hhay68L"
      },
      "source": [
        "「画像分類タスクに対する転移学習の方法」\n",
        "======\n",
        "【原題】TRANSFER LEARNING FOR COMPUTER VISION TUTORIAL\n",
        "\n",
        "【原著】[asank Chilamkurthy](https://chsasank.github.io)\n",
        "\n",
        "【元URL】https://pytorch.org/tutorials/beginner/transfer_learning_tutorial.html\n",
        "\n",
        "【翻訳】電通国際情報サービスISID AIトランスフォーメーションセンター　御手洗 拓真\n",
        "\n",
        "【日付】2020年11月16日\n",
        "\n",
        "【チュトーリアル概要】\n",
        "\n",
        "CNNを使用した画像分類モデルに対して、転移学習を実施する方法を解説します。\n",
        "\n",
        "---\n"
      ]
    },
    {
      "cell_type": "markdown",
      "metadata": {
        "id": "bMIE784AzKjU"
      },
      "source": [
        "本チュートリアルでは、画像分類用の畳み込みニューラルネットワーク（以下、ConvNetと記載）に対して、転移学習を使用して訓練する方法を学びます。\n",
        "\n",
        "転移学習自体の詳細については、[`cs231nコースのメモ`](https://cs231n.github.io/transfer-learning/)をご参照ください。\n",
        "\n",
        "（日本語訳注：スタンフォード大学が公開している画像認識をテーマとしたコースの資料）\n",
        "\n",
        "\n",
        "以下に、上記メモの内容を引用します。"
      ]
    },
    {
      "cell_type": "markdown",
      "metadata": {
        "id": "MKAvwMR-zpcd"
      },
      "source": [
        "```\n",
        "    実際には、(ランダムな初期値を使用して)畳み込みネットワーク全体をゼロから訓練するケースは非常に稀です。\n",
        "    なぜなら、ネットワークをゼロから訓練するために十分なサイズのデータセットを用意できるケースがほとんど無いからです。\n",
        "    ゼロからネットワークを訓練する代わりに、一般的には次のような対応をします。\n",
        "    まず、非常に大規模なデータセット（例えばImageNetなどは120万枚の画像を1000のカテゴリに分けて収録しています）でConvNetを事前学習します。\n",
        "    そしてこの訓練済みのConvNetを初期値、もしくは特徴量抽出器として実際のタスクで活用します。\n",
        "```"
      ]
    },
    {
      "cell_type": "markdown",
      "metadata": {
        "id": "TiuXz06ozvrk"
      },
      "source": [
        "上記の引用で紹介されていた転移学習の活用方法は、以下の2通りとなります。\n",
        "\n",
        "- **ConvNetをファインチューニングする** :  <br>\n",
        "    ランダムな値の代わりに訓練済みのパラメータを、訓練するネットワークの初期値として利用します。<br>\n",
        "    例えば、imagenet1000 dataset で訓練したネットワークをこの用途に使うことができます。<br>\n",
        "    訓練済みのパラメータを初期値として使う点以外は、通常通りにネットワークを訓練します。\n",
        "\n",
        "- **ConvNetを特徴量抽出器として使う** : <br> 最後の全結合層を除いて訓練済みネットワークの重みを固定します。<br>\n",
        "    次に最後の全結合層のみをランダムな重みを持つ新たなものに置き換えます。<br>\n",
        "    そして、この最終層だけを訓練します。"
      ]
    },
    {
      "cell_type": "code",
      "metadata": {
        "id": "VYwjh63Xy0hG"
      },
      "source": [
        "# License: BSD\n",
        "# Author: Sasank Chilamkurthy\n",
        "\n",
        "from __future__ import print_function, division\n",
        "\n",
        "import torch\n",
        "import torch.nn as nn\n",
        "import torch.optim as optim\n",
        "from torch.optim import lr_scheduler\n",
        "import numpy as np\n",
        "import torchvision\n",
        "from torchvision import datasets, models, transforms\n",
        "import matplotlib.pyplot as plt\n",
        "import time\n",
        "import os\n",
        "import copy\n",
        "\n",
        "plt.ion() # インタラクティブ・モード"
      ],
      "execution_count": null,
      "outputs": []
    },
    {
      "cell_type": "markdown",
      "metadata": {
        "id": "ikBcn8CKy0hJ"
      },
      "source": [
        "データの読み込み\n",
        "----------------\n",
        "\n",
        "データの読み込みには`torchvision`と`torch.utils.data`パッケージを使用します。\n",
        "\n",
        "<br>\n",
        "\n",
        "本チュートリアルでは、課題例として**アリ**と**ハチ**の画像を分類するモデルを訓練します。\n",
        "\n",
        "アリとハチ、それぞれについて約120枚の訓練用画像があり、各クラスの評価用画像は75枚あります。\n",
        "\n",
        "通常、このデータセットの画像枚数はゼロからConvNetを訓練してモデルの性能を汎化させるには不十分です。\n",
        "\n",
        "しかし今回は転移学習（ファインチューニング）を使用するため、この量のデータセットでも効率的にモデルを汎化させることができると考えられます。\n",
        "\n",
        "なお、このデータセットはImageNetデータセットのごく一部（サブセット）です。\n",
        "\n"
      ]
    },
    {
      "cell_type": "markdown",
      "metadata": {
        "id": "1LnADOs-_rsI"
      },
      "source": [
        "**注意**：\n",
        "\n",
        "データは[`こちら`](https://download.pytorch.org/tutorial/hymenoptera_data.zip)からダウンロードして、カレントディレクトリに解凍してください。\n",
        "\n",
        "<br>\n",
        "\n",
        "（日本語訳注：日本語版チュートリアルでは、データセットをダウンロードするコードを以下に実装しています）\n",
        "_____"
      ]
    },
    {
      "cell_type": "code",
      "metadata": {
        "id": "GtUOMpyp0eRn"
      },
      "source": [
        "%%shell\n",
        "# データをダウンロード\n",
        "wget -P ./data https://download.pytorch.org/tutorial/hymenoptera_data.zip\n",
        "# zipファイルを解凍\n",
        "unzip ./data/hymenoptera_data.zip -d ./data"
      ],
      "execution_count": null,
      "outputs": []
    },
    {
      "cell_type": "code",
      "metadata": {
        "id": "9MYfnOZ7y0hK"
      },
      "source": [
        "# 訓練データ用のデータ拡張と正規化\n",
        "# 検証データ用には正規化のみ実施\n",
        "data_transforms = {\n",
        "    'train': transforms.Compose([\n",
        "        transforms.RandomResizedCrop(224),\n",
        "        transforms.RandomHorizontalFlip(),\n",
        "        transforms.ToTensor(),\n",
        "        transforms.Normalize([0.485, 0.456, 0.406], [0.229, 0.224, 0.225])\n",
        "    ]),\n",
        "    'val': transforms.Compose([\n",
        "        transforms.Resize(256),\n",
        "        transforms.CenterCrop(224),\n",
        "        transforms.ToTensor(),\n",
        "        transforms.Normalize([0.485, 0.456, 0.406], [0.229, 0.224, 0.225])\n",
        "    ]),\n",
        "}\n",
        "\n",
        "data_dir = 'data/hymenoptera_data'\n",
        "image_datasets = {x: datasets.ImageFolder(os.path.join(data_dir, x),data_transforms[x])\n",
        "                  for x in ['train', 'val']}\n",
        "dataloaders = {x: torch.utils.data.DataLoader(image_datasets[x], batch_size=4,\n",
        "                                             shuffle=True, num_workers=4)\n",
        "              for x in ['train', 'val']}\n",
        "dataset_sizes = {x: len(image_datasets[x]) for x in ['train', 'val']}\n",
        "class_names = image_datasets['train'].classes\n",
        "\n",
        "device = torch.device(\"cuda:0\" if torch.cuda.is_available() else \"cpu\")"
      ],
      "execution_count": null,
      "outputs": []
    },
    {
      "cell_type": "markdown",
      "metadata": {
        "id": "6qlMR8fxy0hM"
      },
      "source": [
        "### 画像の可視化\n",
        "\n",
        "データ拡張（もしくはデータオーギュメンテーションと呼ぶ：Data Augmentation）を理解するために、いくつかの訓練画像を可視化してみましょう。"
      ]
    },
    {
      "cell_type": "code",
      "metadata": {
        "id": "vwDHbrhRy0hN"
      },
      "source": [
        "def imshow(inp, title=None):\n",
        "    \"\"\"Imshow for Tensor.\"\"\"\n",
        "    inp = inp.numpy().transpose((1, 2, 0))\n",
        "    mean = np.array([0.485, 0.456, 0.406])\n",
        "    std = np.array([0.229, 0.224, 0.225])\n",
        "    inp = std * inp + mean\n",
        "    inp = np.clip(inp, 0, 1)\n",
        "    plt.imshow(inp)\n",
        "    if title is not None:\n",
        "        plt.title(title)\n",
        "    plt.pause(0.001)  # プロット図が更新されるように少しだけ一時停止\n",
        "\n",
        "\n",
        "# 訓練データのバッチを取得する\n",
        "inputs, classes = next(iter(dataloaders['train']))\n",
        "\n",
        "# バッチからグリッドを作成する\n",
        "out = torchvision.utils.make_grid(inputs)\n",
        "\n",
        "imshow(out, title=[class_names[x] for x in classes])"
      ],
      "execution_count": null,
      "outputs": []
    },
    {
      "cell_type": "markdown",
      "metadata": {
        "id": "Ng3MIlapy0hP"
      },
      "source": [
        "モデルの訓練\n",
        "--------------------\n",
        "\n",
        "それではモデルの訓練用に、一般的な関数実装しましょう。\n",
        "\n",
        "以下のサンプルコードでは、次の内容を実装しています。\n",
        "\n",
        "-   学習率のスケジューリング\n",
        "-   ベストモデルの保存\n",
        "\n",
        "サンプルコードの`scheduler`という変数は、学習率をスケジュールするオブジェクト（学習率を特定のタイミングで変更する）です。\n",
        "\n",
        "`torch.optim.lr_scheduler`クラスからインスタンス化して作られています。"
      ]
    },
    {
      "cell_type": "code",
      "metadata": {
        "id": "maQOubIky0hQ"
      },
      "source": [
        "def train_model(model, criterion, optimizer, scheduler, num_epochs=25):\n",
        "    since = time.time()\n",
        "\n",
        "    best_model_wts = copy.deepcopy(model.state_dict())\n",
        "    best_acc = 0.0\n",
        "\n",
        "    for epoch in range(num_epochs):\n",
        "        print('Epoch {}/{}'.format(epoch, num_epochs - 1))\n",
        "        print('-' * 10)\n",
        "\n",
        "        # 各エポックには訓練フェーズと検証フェーズがあります\n",
        "        for phase in ['train', 'val']:\n",
        "            if phase == 'train':\n",
        "                model.train()  # モデルを訓練モードに設定します\n",
        "            else:\n",
        "                model.eval()   # モードを評価するモデルを設定します\n",
        "\n",
        "            running_loss = 0.0\n",
        "            running_corrects = 0\n",
        "\n",
        "            # データをイレテートします\n",
        "            for inputs, labels in dataloaders[phase]:\n",
        "                inputs = inputs.to(device)\n",
        "                labels = labels.to(device)\n",
        "\n",
        "                # パラメータの勾配をゼロにします\n",
        "                optimizer.zero_grad()\n",
        "\n",
        "                # 順伝播\n",
        "                # 訓練の時だけ、履歴を保持します\n",
        "                with torch.set_grad_enabled(phase == 'train'):\n",
        "                    outputs = model(inputs)\n",
        "                    _, preds = torch.max(outputs, 1)\n",
        "                    loss = criterion(outputs, labels)\n",
        "\n",
        "                    # 訓練の時だけ逆伝播＋オプティマイズを行います\n",
        "                    if phase == 'train':\n",
        "                        loss.backward()\n",
        "                        optimizer.step()\n",
        "\n",
        "                # 損失を計算します\n",
        "                running_loss += loss.item() * inputs.size(0)\n",
        "                running_corrects += torch.sum(preds == labels.data)\n",
        "            if phase == 'train':\n",
        "                scheduler.step()\n",
        "\n",
        "            epoch_loss = running_loss / dataset_sizes[phase]\n",
        "            epoch_acc = running_corrects.double() / dataset_sizes[phase]\n",
        "\n",
        "            print('{} Loss: {:.4f} Acc: {:.4f}'.format(\n",
        "                phase, epoch_loss, epoch_acc))\n",
        "\n",
        "            # モデルをディープ・コピーします\n",
        "            if phase == 'val' and epoch_acc > best_acc:\n",
        "                best_acc = epoch_acc\n",
        "                best_model_wts = copy.deepcopy(model.state_dict())\n",
        "\n",
        "        print()\n",
        "\n",
        "    time_elapsed = time.time() - since\n",
        "    print('Training complete in {:.0f}m {:.0f}s'.format(\n",
        "        time_elapsed // 60, time_elapsed % 60))\n",
        "    print('Best val Acc: {:4f}'.format(best_acc))\n",
        "\n",
        "    # ベストモデルの重みをロードします\n",
        "    model.load_state_dict(best_model_wts)\n",
        "    return model"
      ],
      "execution_count": null,
      "outputs": []
    },
    {
      "cell_type": "markdown",
      "metadata": {
        "id": "pYuWF4Vuy0hT"
      },
      "source": [
        "### モデル予測値の可視化\n",
        "\n",
        "適当な数枚の画像に対する予測結果を表示する、汎用的な関数を実装します。"
      ]
    },
    {
      "cell_type": "code",
      "metadata": {
        "id": "ESTgO9xSy0hT"
      },
      "source": [
        "def visualize_model(model, num_images=6):\n",
        "    was_training = model.training\n",
        "    model.eval()\n",
        "    images_so_far = 0\n",
        "    fig = plt.figure()\n",
        "\n",
        "    with torch.no_grad():\n",
        "        for i, (inputs, labels) in enumerate(dataloaders['val']):\n",
        "            inputs = inputs.to(device)\n",
        "            labels = labels.to(device)\n",
        "\n",
        "            outputs = model(inputs)\n",
        "            _, preds = torch.max(outputs, 1)\n",
        "\n",
        "            for j in range(inputs.size()[0]):\n",
        "                images_so_far += 1\n",
        "                ax = plt.subplot(num_images//2, 2, images_so_far)\n",
        "                ax.axis('off')\n",
        "                ax.set_title('predicted: {}'.format(class_names[preds[j]]))\n",
        "                imshow(inputs.cpu().data[j])\n",
        "\n",
        "                if images_so_far == num_images:\n",
        "                    model.train(mode=was_training)\n",
        "                    return\n",
        "        model.train(mode=was_training)"
      ],
      "execution_count": null,
      "outputs": []
    },
    {
      "cell_type": "markdown",
      "metadata": {
        "id": "Txn_AjQ_y0hW"
      },
      "source": [
        "ConvNetをファインチューニングする方法\n",
        "--------------------\n",
        "\n",
        "訓練済みモデルをロードし、最後の全結合層を新しいものに置き換えます。"
      ]
    },
    {
      "cell_type": "code",
      "metadata": {
        "id": "XKQcmN2My0hW"
      },
      "source": [
        "model_ft = models.resnet18(pretrained=True)\n",
        "num_ftrs = model_ft.fc.in_features\n",
        "# ここでは，各出力サンプルのサイズは2に設定されています\n",
        "# なお、NN.Linear(num_ftrs, len(class_names))という書き方で一般化することもできます。\n",
        "model_ft.fc = nn.Linear(num_ftrs, 2)\n",
        "\n",
        "model_ft = model_ft.to(device)\n",
        "\n",
        "criterion = nn.CrossEntropyLoss()\n",
        "\n",
        "# ネットワークのすべてのパラメータが最適化対象です\n",
        "optimizer_ft = optim.SGD(model_ft.parameters(), lr=0.001, momentum=0.9)\n",
        "\n",
        "# 7エポックごとに学習率を1/10ずつ減衰させます\n",
        "exp_lr_scheduler = lr_scheduler.StepLR(optimizer_ft, step_size=7, gamma=0.1)"
      ],
      "execution_count": null,
      "outputs": []
    },
    {
      "cell_type": "markdown",
      "metadata": {
        "id": "GyQQsnrTy0ha"
      },
      "source": [
        "### 訓練と評価\n",
        "\n",
        "訓練と評価にかかる時間はCPU環境とGPU環境では大きく異なります。\n",
        "\n",
        "（日本語訳注：本ノートブックはGoogle ColaboratoryのGPU設定で保存しています）"
      ]
    },
    {
      "cell_type": "code",
      "metadata": {
        "id": "GD8pRINdy0hb"
      },
      "source": [
        "%%time\n",
        "model_ft = train_model(model_ft, criterion, optimizer_ft, exp_lr_scheduler,\n",
        "                       num_epochs=25)"
      ],
      "execution_count": null,
      "outputs": []
    },
    {
      "cell_type": "code",
      "metadata": {
        "id": "SuPP36P8y0he"
      },
      "source": [
        "visualize_model(model_ft)"
      ],
      "execution_count": null,
      "outputs": []
    },
    {
      "cell_type": "markdown",
      "metadata": {
        "id": "iPA3VjPty0hg"
      },
      "source": [
        "## Conv Netを特徴抽出器として使う方法\n",
        "\n",
        "今回のケースでは、最後の全結合層を除くすべてのネットワークのパラメータを固定します。\n",
        "\n",
        "パラメータを固定するためには、`requires_grad = False `を設定する必要があります。\n",
        "\n",
        "これによって、`backward()`で勾配が計算されないようになります。\n",
        "\n",
        "<br>\n",
        "\n",
        "勾配計算の詳細は[こちら](https://pytorch.org/docs/notes/autograd.html#excluding-subgraphs-from-backward)のドキュメントをご覧ください"
      ]
    },
    {
      "cell_type": "code",
      "metadata": {
        "id": "zvdPZKLiy0hg"
      },
      "source": [
        "model_conv = torchvision.models.resnet18(pretrained=True)\n",
        "for param in model_conv.parameters():\n",
        "    param.requires_grad = False\n",
        "\n",
        "# 新しく構築されたモジュールのパラメータは、デフォルトでは requires_grad=True になっています。\n",
        "num_ftrs = model_conv.fc.in_features\n",
        "model_conv.fc = nn.Linear(num_ftrs, 2)\n",
        "\n",
        "model_conv = model_conv.to(device)\n",
        "\n",
        "criterion = nn.CrossEntropyLoss()\n",
        "\n",
        " # ファインチューニングとは違い、最終層のパラメータのみが最適化されていることを確認してください\n",
        "optimizer_conv = optim.SGD(model_conv.fc.parameters(), lr=0.001, momentum=0.9)\n",
        "\n",
        "# 7エポックごとに学習率を0.1倍ずつ減衰させる\n",
        "exp_lr_scheduler = lr_scheduler.StepLR(optimizer_conv, step_size=7, gamma=0.1)"
      ],
      "execution_count": null,
      "outputs": []
    },
    {
      "cell_type": "markdown",
      "metadata": {
        "id": "OtA67Kl6y0hj"
      },
      "source": [
        "### 訓練と評価\n",
        "\n",
        "ファインチューニングの場合に比べると、訓練と評価にかかる時間はCPUを使う場合でも約半分になります。\n",
        "\n",
        "ほとんどのネットワークで勾配を計算する必要がないために、このような訓練時間の短縮を見込むことができます。\n",
        "\n",
        "ただし、順伝播の計算が不要になるわけではありません。\n",
        "\n",
        "<br>\n",
        "\n",
        "（日本語訳注：上記説明では、勾配をrequires_grad = Falseにすると記載・説明されていますが、明示的にその操作をせず、代わりに、SGDでの訓練対象をmodel_conv.fc.parameters()として、最終層のみが訓練対象になるように設定されています。）\n"
      ]
    },
    {
      "cell_type": "code",
      "metadata": {
        "id": "qKc1KEsoy0hj"
      },
      "source": [
        "%%time\n",
        "model_conv = train_model(model_conv, criterion, optimizer_conv,\n",
        "                         exp_lr_scheduler, num_epochs=25)"
      ],
      "execution_count": null,
      "outputs": []
    },
    {
      "cell_type": "code",
      "metadata": {
        "id": "JMSITYcfy0hl"
      },
      "source": [
        "visualize_model(model_conv)\n",
        "\n",
        "plt.ioff()\n",
        "plt.show()"
      ],
      "execution_count": null,
      "outputs": []
    },
    {
      "cell_type": "markdown",
      "metadata": {
        "id": "QAwS93oay0ho"
      },
      "source": [
        "さらなる学習のために\n",
        "------------\n",
        "\n",
        "転移学習の応用についてさらに学びたい方は、[画像認識のための量子を用いた転移学習チュートリアル（Quantized Transfer Learning for Computer Vision Tutorial）](https://pytorch.org/tutorials/intermediate/quantized_transfer_learning_tutorial.html)もチェックしてみてください。"
      ]
    },
    {
      "cell_type": "markdown",
      "source": [
        "## 問題\n",
        "ニューラルネットの訓練にかかる時間をCPU環境とGPU環境で比較せよ。"
      ],
      "metadata": {
        "id": "SdAnNiswzdUn"
      }
    },
    {
      "cell_type": "markdown",
      "source": [
        "解答欄："
      ],
      "metadata": {
        "id": "ebDhJ9zn035U"
      }
    }
  ]
}