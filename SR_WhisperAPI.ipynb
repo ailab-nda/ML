{
  "nbformat": 4,
  "nbformat_minor": 0,
  "metadata": {
    "colab": {
      "provenance": [],
      "include_colab_link": true
    },
    "kernelspec": {
      "name": "python3",
      "display_name": "Python 3"
    },
    "language_info": {
      "name": "python"
    }
  },
  "cells": [
    {
      "cell_type": "markdown",
      "metadata": {
        "id": "view-in-github",
        "colab_type": "text"
      },
      "source": [
        "<a href=\"https://colab.research.google.com/github/ailab-nda/ML/blob/main/SR_WhisperAPI.ipynb\" target=\"_parent\"><img src=\"https://colab.research.google.com/assets/colab-badge.svg\" alt=\"Open In Colab\"/></a>"
      ]
    },
    {
      "cell_type": "markdown",
      "source": [
        "# 音声認識デモ"
      ],
      "metadata": {
        "id": "lxkxljDyoHJ8"
      }
    },
    {
      "cell_type": "markdown",
      "source": [
        "## ライブラリのインストール"
      ],
      "metadata": {
        "id": "-kSsUbTDoKVi"
      }
    },
    {
      "cell_type": "code",
      "source": [
        "!pip install openai pydub"
      ],
      "metadata": {
        "id": "3_p5VYqFnaAH"
      },
      "execution_count": null,
      "outputs": []
    },
    {
      "cell_type": "markdown",
      "source": [
        "## ライブラリのインポート"
      ],
      "metadata": {
        "id": "Y_bkma0OoNyq"
      }
    },
    {
      "cell_type": "code",
      "source": [
        "from IPython.display import Javascript\n",
        "from google.colab import output\n",
        "from base64 import b64decode\n",
        "import openai\n",
        "from pydub import AudioSegment\n",
        "openai.api_key = \"\"#@param{type:\"string\"}"
      ],
      "metadata": {
        "id": "vTqnzIe1ngIQ"
      },
      "execution_count": null,
      "outputs": []
    },
    {
      "cell_type": "markdown",
      "source": [
        "### 準備"
      ],
      "metadata": {
        "id": "g-p_nVnSoTVZ"
      }
    },
    {
      "cell_type": "code",
      "source": [
        "RECORD = \"\"\"\n",
        "  const sleep = time => new Promise(resolve => setTimeout(resolve, time))\n",
        "  const b2text = blob => new Promise(resolve => {\n",
        "    const reader = new FileReader()\n",
        "    reader.onloadend = e => resolve(e.srcElement.result)\n",
        "    reader.readAsDataURL(blob)\n",
        "  })\n",
        "  var record = time => new Promise(async resolve => {\n",
        "    stream = await navigator.mediaDevices.getUserMedia({ audio: true })\n",
        "    recorder = new MediaRecorder(stream)\n",
        "    chunks = []\n",
        "    recorder.ondataavailable = e => chunks.push(e.data)\n",
        "    recorder.start()\n",
        "    await sleep(time)\n",
        "    recorder.onstop = async ()=>{\n",
        "      blob = new Blob(chunks)\n",
        "      text = await b2text(blob)\n",
        "      resolve(text)\n",
        "    }\n",
        "    recorder.stop()\n",
        "  })\n",
        "\"\"\""
      ],
      "metadata": {
        "id": "xeMYdLWFntzE"
      },
      "execution_count": null,
      "outputs": []
    },
    {
      "cell_type": "markdown",
      "source": [
        "### 音声認識用関数"
      ],
      "metadata": {
        "id": "uOYw4DJtoVVw"
      }
    },
    {
      "cell_type": "code",
      "source": [
        "def speech_to_text(model='whisper-1', language='ja', second=5):\n",
        "  filename='tmp.wav'\n",
        "  display(Javascript(RECORD))\n",
        "  s = output.eval_js('record(%d)' % (second * 1000))\n",
        "  b = b64decode(s.split(',')[1])\n",
        "\n",
        "  with open(filename, 'wb+') as fw:\n",
        "    fw.write(b)\n",
        "\n",
        "  # 以下3行は講義室用に必要\n",
        "  sound = AudioSegment.from_file(\"tmp.wav\")\n",
        "  sound.export(\"tmp.mp3\", format=\"mp3\")\n",
        "  filename = 'tmp.mp3'\n",
        "\n",
        "  with open(filename, \"rb\") as fr:\n",
        "    transcription = openai.Audio.transcribe(\n",
        "        model=model,\n",
        "        file=fr,\n",
        "        language=language\n",
        "    )\n",
        "    return transcription['text']"
      ],
      "metadata": {
        "id": "VSayXVJJnw6Q"
      },
      "execution_count": null,
      "outputs": []
    },
    {
      "cell_type": "markdown",
      "source": [
        "## 認識させてみましょう\n",
        "実行したらマイクに向かって喋ってください。"
      ],
      "metadata": {
        "id": "1wCkJ-8SoZI-"
      }
    },
    {
      "cell_type": "code",
      "source": [
        "print(\"認識スタート（５秒）\")\n",
        "text = speech_to_text()\n",
        "print(\"認識結果：\", text)\n",
        "print(\"認識終了\")"
      ],
      "metadata": {
        "id": "ce2ATOlinz5p"
      },
      "execution_count": null,
      "outputs": []
    }
  ]
}