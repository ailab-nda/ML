{
  "nbformat": 4,
  "nbformat_minor": 0,
  "metadata": {
    "colab": {
      "name": "Colaboratory へようこそ",
      "provenance": [],
      "collapsed_sections": [],
      "include_colab_link": true
    },
    "kernelspec": {
      "display_name": "Python 3",
      "name": "python3"
    }
  },
  "cells": [
    {
      "cell_type": "markdown",
      "metadata": {
        "id": "view-in-github",
        "colab_type": "text"
      },
      "source": [
        "<a href=\"https://colab.research.google.com/github/ailab-nda/NLP/blob/main/aozora_scraper.ipynb\" target=\"_parent\"><img src=\"https://colab.research.google.com/assets/colab-badge.svg\" alt=\"Open In Colab\"/></a>"
      ]
    },
    {
      "cell_type": "markdown",
      "metadata": {
        "id": "ULOmj9683gRN"
      },
      "source": [
        "# 青空文庫のテキスト入手"
      ]
    },
    {
      "cell_type": "code",
      "metadata": {
        "id": "33aFrAmZ3j4q"
      },
      "source": [
        "import re\n",
        "import zipfile\n",
        "import urllib.request\n",
        "import os.path,glob\n",
        "import shutil"
      ],
      "execution_count": 1,
      "outputs": []
    },
    {
      "cell_type": "code",
      "metadata": {
        "id": "cBhZkif93oUT"
      },
      "source": [
        "#ダウンロードしたいURLを入力する\n",
        "url = 'https://www.aozora.gr.jp/cards/000035/files/301_ruby_5915.zip'"
      ],
      "execution_count": 2,
      "outputs": []
    },
    {
      "cell_type": "markdown",
      "metadata": {
        "id": "BMI1AsVS85G8"
      },
      "source": [
        "注：url は https://www.aozora.gr.jp から選んだ本の「ファイルのダウンロード」のリンクを指定する。"
      ]
    },
    {
      "cell_type": "code",
      "metadata": {
        "id": "P9pC97pT3rMx",
        "outputId": "0febee95-beac-4b79-820b-2856f001f422",
        "colab": {
          "base_uri": "https://localhost:8080/"
        }
      },
      "source": [
        "# データファイルをダウンロードする\n",
        "zip_file = re.split(r'/', url)[-1]\n",
        "\n",
        "if not os.path.exists(zip_file):\n",
        "    print('Download URL')\n",
        "    print('URL:',url)\n",
        "    urllib.request.urlretrieve(url, zip_file)\n",
        "else:\n",
        "    print('Download File exists')"
      ],
      "execution_count": 3,
      "outputs": [
        {
          "output_type": "stream",
          "name": "stdout",
          "text": [
            "Download URL\n",
            "URL: https://www.aozora.gr.jp/cards/000035/files/301_ruby_5915.zip\n"
          ]
        }
      ]
    },
    {
      "cell_type": "code",
      "metadata": {
        "id": "3Iho_O-P5CXf"
      },
      "source": [
        "# フォルダの生成\n",
        "dir, ext = os.path.splitext(zip_file)\n",
        "if not os.path.exists(dir):\n",
        "    os.makedirs(dir)"
      ],
      "execution_count": 4,
      "outputs": []
    },
    {
      "cell_type": "code",
      "metadata": {
        "id": "i14doKY44NMW"
      },
      "source": [
        "# zipファイルの展開\n",
        "zip_obj = zipfile.ZipFile(zip_file, 'r')\n",
        "zip_obj.extractall(dir)\n",
        "zip_obj.close()"
      ],
      "execution_count": 5,
      "outputs": []
    },
    {
      "cell_type": "code",
      "metadata": {
        "id": "iHbqma6Z4V7k",
        "colab": {
          "base_uri": "https://localhost:8080/",
          "height": 37
        },
        "outputId": "c912de7f-9872-4cc6-e820-9f4ee1f51ec0"
      },
      "source": [
        "# テキストファイルの抽出\n",
        "path = os.path.join(dir,'*.txt')\n",
        "download_text = glob.glob(path)[0]\n",
        "shutil.copy(download_text, download_text+\".org\")"
      ],
      "execution_count": 6,
      "outputs": [
        {
          "output_type": "execute_result",
          "data": {
            "application/vnd.google.colaboratory.intrinsic+json": {
              "type": "string"
            },
            "text/plain": [
              "'301_ruby_5915/ningen_shikkaku.txt.org'"
            ]
          },
          "metadata": {},
          "execution_count": 6
        }
      ]
    },
    {
      "cell_type": "code",
      "metadata": {
        "id": "FvO2G8Up5NCO"
      },
      "source": [
        "binarydata = open(download_text, 'rb').read()\n",
        "text = binarydata.decode('shift_jis')\n",
        "# ルビ、注釈などの除去\n",
        "text = re.split(r'\\-{5,}', text)[2]\n",
        "text = re.split(r'底本：', text)[0]\n",
        "text = re.sub(r'《.+?》', '', text)\n",
        "text = re.sub(r'［＃.+?］', '', text)\n",
        "text = text.strip()"
      ],
      "execution_count": 7,
      "outputs": []
    },
    {
      "cell_type": "code",
      "metadata": {
        "id": "toXPjM4P5SWW"
      },
      "source": [
        "# ファイルに保存\n",
        "f = open(download_text, 'w')\n",
        "f.write(text)\n",
        "f.close()"
      ],
      "execution_count": 8,
      "outputs": []
    },
    {
      "cell_type": "code",
      "metadata": {
        "id": "hvylhaAQ5OYO"
      },
      "source": [
        "# 内容確認\n",
        "print(text)"
      ],
      "execution_count": null,
      "outputs": []
    }
  ]
}