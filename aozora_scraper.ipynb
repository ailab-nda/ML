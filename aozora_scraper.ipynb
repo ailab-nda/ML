{
  "nbformat": 4,
  "nbformat_minor": 0,
  "metadata": {
    "colab": {
      "name": "Colaboratory へようこそ",
      "provenance": [],
      "collapsed_sections": [],
      "include_colab_link": true
    },
    "kernelspec": {
      "display_name": "Python 3",
      "name": "python3"
    }
  },
  "cells": [
    {
      "cell_type": "markdown",
      "metadata": {
        "id": "view-in-github",
        "colab_type": "text"
      },
      "source": [
        "<a href=\"https://colab.research.google.com/github/ailab-nda/NLP/blob/main/aozora_scraper.ipynb\" target=\"_parent\"><img src=\"https://colab.research.google.com/assets/colab-badge.svg\" alt=\"Open In Colab\"/></a>"
      ]
    },
    {
      "cell_type": "markdown",
      "metadata": {
        "id": "ULOmj9683gRN"
      },
      "source": [
        "# 青空文庫のテキスト入手"
      ]
    },
    {
      "cell_type": "code",
      "metadata": {
        "id": "33aFrAmZ3j4q"
      },
      "source": [
        "import re\n",
        "import zipfile\n",
        "import urllib.request\n",
        "import os.path,glob\n",
        "import shutil"
      ],
      "execution_count": 1,
      "outputs": []
    },
    {
      "cell_type": "code",
      "metadata": {
        "id": "cBhZkif93oUT"
      },
      "source": [
        "#ダウンロードしたいURLを入力する\n",
        "url = 'https://www.aozora.gr.jp/cards/001562/files/52410_ruby_51060.zip'"
      ],
      "execution_count": 2,
      "outputs": []
    },
    {
      "cell_type": "markdown",
      "metadata": {
        "id": "BMI1AsVS85G8"
      },
      "source": [
        "注：url は https://www.aozora.gr.jp から選んだ本の「ファイルのダウンロード」のリンクを指定する。"
      ]
    },
    {
      "cell_type": "code",
      "metadata": {
        "id": "P9pC97pT3rMx"
      },
      "source": [
        "# データファイルをダウンロードする\n",
        "zip_file = re.split(r'/', url)[-1]\n",
        "\n",
        "if not os.path.exists(zip_file):\n",
        "    print('Download URL')\n",
        "    print('URL:',url)\n",
        "    urllib.request.urlretrieve(url, zip_file)\n",
        "else:\n",
        "    print('Download File exists')"
      ],
      "execution_count": null,
      "outputs": []
    },
    {
      "cell_type": "code",
      "metadata": {
        "id": "3Iho_O-P5CXf"
      },
      "source": [
        "# フォルダの生成\n",
        "dir, ext = os.path.splitext(zip_file)\n",
        "if not os.path.exists(dir):\n",
        "    os.makedirs(dir)"
      ],
      "execution_count": 10,
      "outputs": []
    },
    {
      "cell_type": "code",
      "metadata": {
        "id": "i14doKY44NMW"
      },
      "source": [
        "# zipファイルの展開\n",
        "zip_obj = zipfile.ZipFile(zip_file, 'r')\n",
        "zip_obj.extractall(dir)\n",
        "zip_obj.close()"
      ],
      "execution_count": 5,
      "outputs": []
    },
    {
      "cell_type": "code",
      "metadata": {
        "id": "iHbqma6Z4V7k",
        "outputId": "7cc41d1a-81ae-4e0f-8d58-5c7d337c6070",
        "colab": {
          "base_uri": "https://localhost:8080/",
          "height": 37
        }
      },
      "source": [
        "# テキストファイルの抽出\n",
        "path = os.path.join(dir,'*.txt')\n",
        "download_text = glob.glob(path)[0]\n",
        "shutil.copy(download_text, download_text+\".org\")"
      ],
      "execution_count": 6,
      "outputs": [
        {
          "output_type": "execute_result",
          "data": {
            "application/vnd.google.colaboratory.intrinsic+json": {
              "type": "string"
            },
            "text/plain": [
              "'43495_ruby_16688/jiamarino_waka_haiku.txt.org'"
            ]
          },
          "metadata": {},
          "execution_count": 6
        }
      ]
    },
    {
      "cell_type": "code",
      "metadata": {
        "id": "FvO2G8Up5NCO"
      },
      "source": [
        "binarydata = open(download_text, 'rb').read()\n",
        "text = binarydata.decode('shift_jis')\n",
        "# ルビ、注釈などの除去\n",
        "text = re.split(r'\\-{5,}', text)[2]\n",
        "text = re.split(r'底本：', text)[0]\n",
        "text = re.sub(r'《.+?》', '', text)\n",
        "text = re.sub(r'［＃.+?］', '', text)\n",
        "text = text.strip()"
      ],
      "execution_count": 7,
      "outputs": []
    },
    {
      "cell_type": "code",
      "metadata": {
        "id": "toXPjM4P5SWW"
      },
      "source": [
        "# ファイルに保存\n",
        "f = open(download_text, 'w')\n",
        "f.write(text)\n",
        "f.close()"
      ],
      "execution_count": 8,
      "outputs": []
    },
    {
      "cell_type": "code",
      "metadata": {
        "id": "hvylhaAQ5OYO"
      },
      "source": [
        "# 内容確認\n",
        "print(text)"
      ],
      "execution_count": null,
      "outputs": []
    }
  ]
}