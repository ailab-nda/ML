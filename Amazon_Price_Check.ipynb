{
 "cells": [
  {
   "cell_type": "markdown",
   "metadata": {
    "id": "damO63uJSQgZ"
   },
   "source": [
    "# Web スクレイピング （Amazon版）\n",
    "【おことわり】プログラムでアクセスすると回線を切られるので、Selenium により Web ブラウザを遠隔操作することでアクセス、情報の入手を行います。"
   ]
  },
  {
   "cell_type": "markdown",
   "metadata": {
    "id": "vkmwMaCLSgNk"
   },
   "source": [
    "\n",
    "\n",
    "*   Selenium 入門 --> https://www.selenium.dev/ja/documentation/webdriver/getting_started/\n",
    "\n"
   ]
  },
  {
   "cell_type": "markdown",
   "metadata": {
    "id": "TD2ceb6XvPdO"
   },
   "source": [
    "# 1. Selenium による Web スクレイピング"
   ]
  },
  {
   "cell_type": "markdown",
   "metadata": {
    "id": "EHg7wtNij2hc"
   },
   "source": [
    "### ライブラリのインストール"
   ]
  },
  {
   "cell_type": "code",
   "execution_count": 11,
   "metadata": {},
   "outputs": [],
   "source": [
    "import os\n",
    "os.environ['https_proxy'] = 'http://cmproxy.nda.ac.jp:8080'\n",
    "!pip install selenium --trusted-host pypi.python.org --trusted-host files.pythonhosted.org --trusted-host pypi.org"
   ]
  },
  {
   "cell_type": "markdown",
   "metadata": {},
   "source": [
    "### ライブラリのインポート"
   ]
  },
  {
   "cell_type": "code",
   "execution_count": 42,
   "metadata": {
    "id": "8dis0Wod4T3X"
   },
   "outputs": [],
   "source": [
    "from selenium import webdriver\n",
    "from selenium.webdriver.common.by import By\n",
    "from selenium.webdriver.chrome.options import Options\n",
    "from selenium.webdriver.support.ui import WebDriverWait\n",
    "from selenium.webdriver.support import expected_conditions as EC\n",
    "from selenium.webdriver.common.keys import Keys\n",
    "\n",
    "import re\n",
    "import pandas as pd\n",
    "from datetime import datetime, timedelta\n",
    "import urllib.parse\n",
    "\n",
    "#from bs4 import BeautifulSoup\n",
    "import time"
   ]
  },
  {
   "cell_type": "markdown",
   "metadata": {
    "id": "jipwJYgGkCG9"
   },
   "source": [
    "### Chrome Driver の設定"
   ]
  },
  {
   "cell_type": "code",
   "execution_count": 104,
   "metadata": {
    "id": "IKY2p5xY5b4-"
   },
   "outputs": [],
   "source": [
    "# ブラウザをheadlessモード実行\n",
    "options = webdriver.ChromeOptions()\n",
    "#ヘッドレスモード（バックグラウンドで起動）で実行したい場合は設定\n",
    "#options.add_argument('--headless')\n",
    "#サンドボックスモードの解除。これも必須。\n",
    "options.add_argument('--no-sandbox')\n",
    "#これも設定した方がよい。\n",
    "options.add_argument('--disable-dev-shm-usage')"
   ]
  },
  {
   "cell_type": "markdown",
   "metadata": {
    "id": "3XdCxSlEkGiP"
   },
   "source": [
    "### Web ページの取得"
   ]
  },
  {
   "cell_type": "code",
   "execution_count": 105,
   "metadata": {},
   "outputs": [
    {
     "name": "stdout",
     "output_type": "stream",
     "text": [
      "74 個の価格を取得\n"
     ]
    }
   ],
   "source": [
    "url = 'https://www.amazon.co.jp'\n",
    "query = 'パソコン'\n",
    "#インスタンス化\n",
    "driver = webdriver.Chrome(options=options)\n",
    "#指定したドライバーが見つかるまで待機\n",
    "driver.implicitly_wait(10)\n",
    "# ページの取得\n",
    "driver.get(url)\n",
    "\n",
    "# 要素が表示されるまで待機\n",
    "WebDriverWait(driver, 30).until(EC.presence_of_element_located((By.XPATH, '//*[@id=\"navBackToTop\"]/div/span')))\n",
    "time.sleep(3)\n",
    "\n",
    "element = driver.find_element(By.XPATH, '//*[@id=\"twotabsearchtextbox\"]')\n",
    "element.send_keys(\"\")\n",
    "for i in query:\n",
    "    element.send_keys(i)\n",
    "    time.sleep(1)\n",
    "element.send_keys(Keys.ENTER)\n",
    "\n",
    "win_height = driver.execute_script(\"return window.innerHeight\")\n",
    "\n",
    "#スクロール開始位置の初期値（ページの先頭からスクロールを開始する）\n",
    "last_top = 1\n",
    "\n",
    "#スクロール前のページの高さを取得\n",
    "last_height = driver.execute_script(\"return document.body.scrollHeight\")\n",
    "\n",
    "#スクロール開始位置を設定\n",
    "top = last_top\n",
    "\n",
    "#ページ最下部まで、徐々にスクロールしていく\n",
    "while top < last_height:\n",
    "    top += int(win_height * 0.1)\n",
    "    driver.execute_script(\"window.scrollTo(0, %d)\" % top)\n",
    "    time.sleep(0.1)\n",
    "\n",
    "prices = driver.find_elements(By.CLASS_NAME,\"a-price-whole\")\n",
    "print(len(prices), '個の価格を取得')"
   ]
  },
  {
   "cell_type": "markdown",
   "metadata": {
    "id": "Ltyow8aakMCy"
   },
   "source": [
    "### 価格情報の入手"
   ]
  },
  {
   "cell_type": "code",
   "execution_count": 103,
   "metadata": {},
   "outputs": [
    {
     "name": "stdout",
     "output_type": "stream",
     "text": [
      " , 0\n",
      " , 0\n",
      " , 0\n",
      "12,800 , 6\n",
      "31,499 , 6\n",
      "29,999 , 6\n",
      "157,000 , 7\n",
      "12,800 , 6\n",
      "10,880 , 6\n",
      "16,800 , 6\n",
      "164,220 , 7\n",
      "94,800 , 6\n",
      "211,000 , 7\n",
      " , 0\n",
      " , 0\n",
      "21,000 , 6\n",
      "17,800 , 6\n",
      "9,999 , 5\n",
      "23,800 , 6\n",
      "33,800 , 6\n",
      "21,930 , 6\n",
      "28,800 , 6\n",
      "25,000 , 6\n",
      "9,700 , 5\n",
      "31,800 , 6\n",
      "79,800 , 6\n",
      "20,120 , 6\n",
      "26,800 , 6\n",
      "25,800 , 6\n",
      "24,500 , 6\n",
      "25,800 , 6\n",
      "10,800 , 6\n",
      "12,226 , 6\n",
      "28,866 , 6\n",
      "21,800 , 6\n",
      "14,800 , 6\n",
      "39,800 , 6\n",
      "23,800 , 6\n",
      "100,082 , 7\n",
      "34,999 , 6\n",
      "13,400 , 6\n",
      "33,999 , 6\n",
      "19,800 , 6\n",
      "49,999 , 6\n",
      "22,800 , 6\n",
      "130,901 , 7\n",
      "12,800 , 6\n",
      "41,800 , 6\n",
      "19,800 , 6\n",
      "42,800 , 6\n",
      "35,800 , 6\n",
      "31,840 , 6\n",
      "35,917 , 6\n",
      "31,280 , 6\n",
      "31,000 , 6\n",
      "23,800 , 6\n",
      "24,800 , 6\n",
      "33,800 , 6\n",
      "123,310 , 7\n",
      "39,700 , 6\n",
      "21,800 , 6\n",
      "63,980 , 6\n",
      "25,330 , 6\n",
      "19,500 , 6\n",
      "19,990 , 6\n",
      "27,500 , 6\n",
      "44,800 , 6\n",
      "24,508 , 6\n",
      "31,840 , 6\n",
      "25,330 , 6\n",
      "54,998 , 6\n",
      "95,000 , 6\n",
      " , 0\n",
      " , 0\n",
      "平均価格： 40437.94029850746 円 ( 2709342 円/ 67 個)\n"
     ]
    }
   ],
   "source": [
    "sum = 0\n",
    "count = 0\n",
    "for i in prices:\n",
    "    print(i.text, ',', len(i.text))\n",
    "    if len(i.text) > 0:\n",
    "        sum += int(i.text.replace(',', ''))\n",
    "        count += 1\n",
    "\n",
    "print(\"平均価格：\", sum / count, '円 (', sum, '円/', count, '個)')"
   ]
  },
  {
   "cell_type": "markdown",
   "metadata": {},
   "source": [
    "### ブラウザを閉じる"
   ]
  },
  {
   "cell_type": "code",
   "execution_count": null,
   "metadata": {},
   "outputs": [],
   "source": [
    "driver.quit()"
   ]
  }
 ],
 "metadata": {
  "colab": {
   "provenance": []
  },
  "kernelspec": {
   "display_name": "Python 3",
   "language": "python",
   "name": "python3"
  },
  "language_info": {
   "codemirror_mode": {
    "name": "ipython",
    "version": 3
   },
   "file_extension": ".py",
   "mimetype": "text/x-python",
   "name": "python",
   "nbconvert_exporter": "python",
   "pygments_lexer": "ipython3",
   "version": "3.9.11"
  }
 },
 "nbformat": 4,
 "nbformat_minor": 1
}
