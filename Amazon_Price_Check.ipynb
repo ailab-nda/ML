{
  "cells": [
    {
      "cell_type": "markdown",
      "metadata": {
        "id": "view-in-github",
        "colab_type": "text"
      },
      "source": [
        "<a href=\"https://colab.research.google.com/github/ailab-nda/ML/blob/main/Amazon_Price_Check.ipynb\" target=\"_parent\"><img src=\"https://colab.research.google.com/assets/colab-badge.svg\" alt=\"Open In Colab\"/></a>"
      ]
    },
    {
      "cell_type": "markdown",
      "metadata": {
        "id": "damO63uJSQgZ"
      },
      "source": [
        "# Web スクレイピング （Amazon版）\n",
        "【おことわり】プログラムでアクセスすると回線を切られるので、Selenium により Web ブラウザを遠隔操作することでアクセス、情報の入手を行います。"
      ]
    },
    {
      "cell_type": "markdown",
      "metadata": {
        "id": "vkmwMaCLSgNk"
      },
      "source": [
        "\n",
        "\n",
        "*   Selenium 入門 --> https://www.selenium.dev/ja/documentation/webdriver/getting_started/\n",
        "\n"
      ]
    },
    {
      "cell_type": "markdown",
      "metadata": {
        "id": "TD2ceb6XvPdO"
      },
      "source": [
        "# 1. Selenium による Web スクレイピング"
      ]
    },
    {
      "cell_type": "markdown",
      "metadata": {
        "id": "EHg7wtNij2hc"
      },
      "source": [
        "### ライブラリのインストール"
      ]
    },
    {
      "cell_type": "code",
      "execution_count": null,
      "metadata": {
        "id": "fJSwogn0DUWS"
      },
      "outputs": [],
      "source": [
        "import os\n",
        "os.environ['https_proxy'] = 'http://cmproxy.nda.ac.jp:8080'\n",
        "!pip install selenium --trusted-host pypi.python.org --trusted-host files.pythonhosted.org --trusted-host pypi.org"
      ]
    },
    {
      "cell_type": "markdown",
      "metadata": {
        "id": "DDxrYf9LDUWT"
      },
      "source": [
        "### ライブラリのインポート"
      ]
    },
    {
      "cell_type": "code",
      "execution_count": null,
      "metadata": {
        "id": "8dis0Wod4T3X"
      },
      "outputs": [],
      "source": [
        "from selenium import webdriver\n",
        "from selenium.webdriver.common.by import By\n",
        "from selenium.webdriver.chrome.options import Options\n",
        "from selenium.webdriver.support.ui import WebDriverWait\n",
        "from selenium.webdriver.support import expected_conditions as EC\n",
        "from selenium.webdriver.common.keys import Keys\n",
        "\n",
        "import re\n",
        "import pandas as pd\n",
        "from datetime import datetime, timedelta\n",
        "import urllib.parse\n",
        "\n",
        "#from bs4 import BeautifulSoup\n",
        "import time"
      ]
    },
    {
      "cell_type": "markdown",
      "metadata": {
        "id": "jipwJYgGkCG9"
      },
      "source": [
        "### Chrome Driver の設定"
      ]
    },
    {
      "cell_type": "code",
      "execution_count": null,
      "metadata": {
        "id": "IKY2p5xY5b4-"
      },
      "outputs": [],
      "source": [
        "# ブラウザをheadlessモード実行\n",
        "options = webdriver.ChromeOptions()\n",
        "#ヘッドレスモード（バックグラウンドで起動）で実行したい場合は設定\n",
        "#options.add_argument('--headless')\n",
        "#サンドボックスモードの解除。これも必須。\n",
        "options.add_argument('--no-sandbox')\n",
        "#これも設定した方がよい。\n",
        "options.add_argument('--disable-dev-shm-usage')"
      ]
    },
    {
      "cell_type": "markdown",
      "metadata": {
        "id": "3XdCxSlEkGiP"
      },
      "source": [
        "### Web ページの取得"
      ]
    },
    {
      "cell_type": "code",
      "execution_count": null,
      "metadata": {
        "id": "XjetiY_cDUWV"
      },
      "outputs": [],
      "source": [
        "url = 'https://www.amazon.co.jp'\n",
        "query = 'パソコン'\n",
        "#インスタンス化\n",
        "driver = webdriver.Chrome(options=options)\n",
        "#指定したドライバーが見つかるまで待機\n",
        "driver.implicitly_wait(10)\n",
        "# ページの取得\n",
        "driver.get(url)\n",
        "\n",
        "# 要素が表示されるまで待機\n",
        "WebDriverWait(driver, 30).until(EC.presence_of_element_located((By.XPATH, '//*[@id=\"navBackToTop\"]/div/span')))\n",
        "time.sleep(3)\n",
        "\n",
        "element = driver.find_element(By.XPATH, '//*[@id=\"twotabsearchtextbox\"]')\n",
        "element.send_keys(\"\")\n",
        "for i in query:\n",
        "    element.send_keys(i)\n",
        "    time.sleep(1)\n",
        "element.send_keys(Keys.ENTER)\n",
        "\n",
        "win_height = driver.execute_script(\"return window.innerHeight\")\n",
        "\n",
        "#スクロール開始位置の初期値（ページの先頭からスクロールを開始する）\n",
        "last_top = 1\n",
        "\n",
        "#スクロール前のページの高さを取得\n",
        "last_height = driver.execute_script(\"return document.body.scrollHeight\")\n",
        "\n",
        "#スクロール開始位置を設定\n",
        "top = last_top\n",
        "\n",
        "#ページ最下部まで、徐々にスクロールしていく\n",
        "while top < last_height:\n",
        "    top += int(win_height * 0.1)\n",
        "    driver.execute_script(\"window.scrollTo(0, %d)\" % top)\n",
        "    time.sleep(0.1)\n",
        "\n",
        "prices = driver.find_elements(By.CLASS_NAME,\"a-price-whole\")\n",
        "print(len(prices), '個の価格を取得')"
      ]
    },
    {
      "cell_type": "markdown",
      "metadata": {
        "id": "Ltyow8aakMCy"
      },
      "source": [
        "### 価格情報の入手"
      ]
    },
    {
      "cell_type": "code",
      "execution_count": null,
      "metadata": {
        "id": "ZQei1I1PDUWX"
      },
      "outputs": [],
      "source": [
        "sum = 0\n",
        "count = 0\n",
        "for i in prices:\n",
        "    print(i.text, ',', len(i.text))\n",
        "    if len(i.text) > 0:\n",
        "        sum += int(i.text.replace(',', ''))\n",
        "        count += 1\n",
        "\n",
        "print(\"平均価格：\", sum / count, '円 (', sum, '円/', count, '個)')"
      ]
    },
    {
      "cell_type": "markdown",
      "metadata": {
        "id": "a-gz0msxDUWX"
      },
      "source": [
        "### ブラウザを閉じる"
      ]
    },
    {
      "cell_type": "code",
      "execution_count": null,
      "metadata": {
        "id": "hgR1vLvcDUWX"
      },
      "outputs": [],
      "source": [
        "driver.quit()"
      ]
    }
  ],
  "metadata": {
    "colab": {
      "provenance": [],
      "include_colab_link": true
    },
    "kernelspec": {
      "display_name": "Python 3",
      "language": "python",
      "name": "python3"
    },
    "language_info": {
      "codemirror_mode": {
        "name": "ipython",
        "version": 3
      },
      "file_extension": ".py",
      "mimetype": "text/x-python",
      "name": "python",
      "nbconvert_exporter": "python",
      "pygments_lexer": "ipython3",
      "version": "3.9.11"
    }
  },
  "nbformat": 4,
  "nbformat_minor": 0
}