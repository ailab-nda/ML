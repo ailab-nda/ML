{
  "nbformat": 4,
  "nbformat_minor": 0,
  "metadata": {
    "colab": {
      "provenance": [],
      "gpuType": "T4",
      "authorship_tag": "ABX9TyMyc7rBg21lSiyjYeYkW7MU",
      "include_colab_link": true
    },
    "kernelspec": {
      "name": "python3",
      "display_name": "Python 3"
    },
    "language_info": {
      "name": "python"
    },
    "accelerator": "GPU"
  },
  "cells": [
    {
      "cell_type": "markdown",
      "metadata": {
        "id": "view-in-github",
        "colab_type": "text"
      },
      "source": [
        "<a href=\"https://colab.research.google.com/github/ailab-nda/ML/blob/main/Transformer_tuning.ipynb\" target=\"_parent\"><img src=\"https://colab.research.google.com/assets/colab-badge.svg\" alt=\"Open In Colab\"/></a>"
      ]
    },
    {
      "cell_type": "markdown",
      "source": [
        "# Transformer のファインチューニング\n",
        "\n",
        "元ネタ：https://qiita.com/tinymouse/items/2ab7c077c9ab56e8c13a"
      ],
      "metadata": {
        "id": "DUksKfZ8S0Fo"
      }
    },
    {
      "cell_type": "markdown",
      "source": [
        "### 必要なライブラリのインストール"
      ],
      "metadata": {
        "id": "T5M9ebDYSv-D"
      }
    },
    {
      "cell_type": "code",
      "execution_count": null,
      "metadata": {
        "id": "a7lYi3u8Spjf"
      },
      "outputs": [],
      "source": [
        "!pip install transformers accelerate sentencepiece datasets"
      ]
    },
    {
      "cell_type": "markdown",
      "source": [
        "### 言語モデルの準備"
      ],
      "metadata": {
        "id": "JeI9MrAYS89H"
      }
    },
    {
      "cell_type": "code",
      "source": [
        "import transformers\n",
        "import torch\n",
        "\n",
        "# モデルとトークナイザの準備\n",
        "model = transformers.AutoModelForCausalLM.from_pretrained(\n",
        "    \"cyberagent/open-calm-large\",\n",
        "    torch_dtype=torch.bfloat16\n",
        ")\n",
        "tokenizer = transformers.AutoTokenizer.from_pretrained(\n",
        "    \"cyberagent/open-calm-large\"\n",
        ")"
      ],
      "metadata": {
        "id": "MWupnXbFS6RS"
      },
      "execution_count": null,
      "outputs": []
    },
    {
      "cell_type": "markdown",
      "source": [
        "### チューニング前のモデルによる生成"
      ],
      "metadata": {
        "id": "W0Drom59TFtg"
      }
    },
    {
      "cell_type": "code",
      "source": [
        "prompt = \"休日の朝は\"\n",
        "\n",
        "input = tokenizer(\n",
        "    prompt,\n",
        "    return_tensors=\"pt\"\n",
        ")\n",
        "\n",
        "outputs = model.generate(\n",
        "    **input,\n",
        "    max_length=64,\n",
        "    do_sample=True,\n",
        "    num_return_sequences=5\n",
        ")\n",
        "\n",
        "for i in range(len(outputs)):\n",
        "    print(\"%d:\" % (i+1))\n",
        "    output = tokenizer.decode(outputs[i], skip_special_tokens=True)\n",
        "    print(output)"
      ],
      "metadata": {
        "id": "FuJdQg9aTAk1"
      },
      "execution_count": null,
      "outputs": []
    },
    {
      "cell_type": "markdown",
      "source": [
        "### 学習データの用意\n",
        "参考：HuggingFace Datasets の使い方｜npaka"
      ],
      "metadata": {
        "id": "M7AebEqCTLqs"
      }
    },
    {
      "cell_type": "code",
      "source": [
        "import datasets\n",
        "\n",
        "# データセットを用意\n",
        "datadic = datasets.load_dataset(\"federerjiang/dialect.osaka\")\n",
        "dataset = datadic['train']\n",
        "\n",
        "if len(dataset) > 1000: dataset = dataset.take(1000)  # データ量を減らす"
      ],
      "metadata": {
        "id": "Bf-iFFPvTVjK"
      },
      "execution_count": null,
      "outputs": []
    },
    {
      "cell_type": "markdown",
      "source": [
        "### データセットの確認"
      ],
      "metadata": {
        "id": "-zzybj1uTZNN"
      }
    },
    {
      "cell_type": "code",
      "source": [
        "# データセットを確認\n",
        "print(dataset)\n",
        "\n",
        "# pandas 形式に変換\n",
        "dataset.set_format(type=\"pandas\")\n",
        "print(dataset[:])"
      ],
      "metadata": {
        "id": "EIjp82GvTag5"
      },
      "execution_count": null,
      "outputs": []
    },
    {
      "cell_type": "markdown",
      "source": [
        "## チューニングの実行"
      ],
      "metadata": {
        "id": "ZNJSClEkTfOe"
      }
    },
    {
      "cell_type": "code",
      "source": [
        "dataset['sentence'].to_list()"
      ],
      "metadata": {
        "id": "jYb9yL0phs3g"
      },
      "execution_count": null,
      "outputs": []
    },
    {
      "cell_type": "code",
      "source": [
        "tokenized_dataset = dataset.map(\n",
        "    lambda example:\n",
        "        tokenizer(example['sentence'].to_list(), truncation=True), batched=True\n",
        ")"
      ],
      "metadata": {
        "id": "7bhylXPmgdrd"
      },
      "execution_count": null,
      "outputs": []
    },
    {
      "cell_type": "code",
      "source": [
        "import wandb\n",
        "wandb.init(mode=\"disabled\")\n",
        "\n",
        "# トレーナーの準備\n",
        "trainer = transformers.Trainer(\n",
        "    model=model,\n",
        "    data_collator=transformers.DataCollatorForLanguageModeling(\n",
        "        tokenizer,\n",
        "        mlm=False\n",
        "    ),\n",
        "    args=transformers.TrainingArguments(\n",
        "        output_dir=\"./output\",\n",
        "        num_train_epochs=5,\n",
        "        per_device_eval_batch_size=1,\n",
        "    ),\n",
        "    train_dataset=tokenized_dataset\n",
        ")\n",
        "\n",
        "# トレーニングする\n",
        "trainer.train()\n",
        "\n",
        "#　保存する\n",
        "trainer.save_model(\"./trained_model\")"
      ],
      "metadata": {
        "id": "s6ypCHKVULJH"
      },
      "execution_count": null,
      "outputs": []
    },
    {
      "cell_type": "markdown",
      "source": [
        "### チューニングしたモデルによる生成"
      ],
      "metadata": {
        "id": "3LVEbIdSTvBQ"
      }
    },
    {
      "cell_type": "code",
      "source": [
        "# モデルとトークナイザの準備\n",
        "model = transformers.AutoModelForCausalLM.from_pretrained(\n",
        "    \"./trained_model\"\n",
        ")\n",
        "tokenizer = transformers.AutoTokenizer.from_pretrained(\n",
        "    \"cyberagent/open-calm-large\"\n",
        ")\n",
        "\n",
        "prompt = \"休日の朝は\"\n",
        "\n",
        "input = tokenizer(\n",
        "    prompt,\n",
        "    return_tensors=\"pt\"\n",
        ")\n",
        "\n",
        "outputs = model.generate(\n",
        "    **input,\n",
        "    max_length=64,\n",
        "    do_sample=True,\n",
        "    num_return_sequences=5\n",
        ")\n",
        "\n",
        "for i in range(len(outputs)):\n",
        "    print(\"%d:\" % (i+1))\n",
        "    output = tokenizer.decode(outputs[i], skip_special_tokens=True)\n",
        "    print(output)"
      ],
      "metadata": {
        "id": "Mdky_B9rTuQn"
      },
      "execution_count": null,
      "outputs": []
    }
  ]
}