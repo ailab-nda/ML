{
  "nbformat": 4,
  "nbformat_minor": 0,
  "metadata": {
    "colab": {
      "provenance": [],
      "authorship_tag": "ABX9TyOSMu+7FYWlJeB9VcTYRFBT",
      "include_colab_link": true
    },
    "kernelspec": {
      "name": "python3",
      "display_name": "Python 3"
    },
    "language_info": {
      "name": "python"
    }
  },
  "cells": [
    {
      "cell_type": "markdown",
      "metadata": {
        "id": "view-in-github",
        "colab_type": "text"
      },
      "source": [
        "<a href=\"https://colab.research.google.com/github/ailab-nda/ML/blob/main/Yahoo_Realtime.ipynb\" target=\"_parent\"><img src=\"https://colab.research.google.com/assets/colab-badge.svg\" alt=\"Open In Colab\"/></a>"
      ]
    },
    {
      "cell_type": "markdown",
      "source": [
        "# Web スクレイピング と感情分析\n",
        "\n",
        "【おことわり】Tweet を大量に取得し、分析することでネットの意見を分析する、という課題をやっていましたが、Twitter の方針変更でできなくなりました。なので、Yahoo リアルタイム検索から Tweet を取得する様に変更しました。"
      ],
      "metadata": {
        "id": "damO63uJSQgZ"
      }
    },
    {
      "cell_type": "markdown",
      "source": [
        "\n",
        "\n",
        "*   Web スクレイピング: Selenium --> https://ai-inter1.com/python-selenium/\n",
        "*   感情分析： Transformer --> https://tt-tsukumochi.com/archives/4105\n",
        "\n"
      ],
      "metadata": {
        "id": "vkmwMaCLSgNk"
      }
    },
    {
      "cell_type": "markdown",
      "source": [
        "# 1. Selenium による Web スクレイピング"
      ],
      "metadata": {
        "id": "TD2ceb6XvPdO"
      }
    },
    {
      "cell_type": "markdown",
      "source": [
        "### Google Chrome, Chrom Driver, Selenium のインストール"
      ],
      "metadata": {
        "id": "gpEL9z3BjqDX"
      }
    },
    {
      "cell_type": "code",
      "execution_count": null,
      "metadata": {
        "id": "CE2d1O3Y4Pgs"
      },
      "outputs": [],
      "source": [
        "%%shell\n",
        "# 更新を実行\n",
        "sudo apt -y update\n",
        "\n",
        "# ダウンロードのために必要なパッケージをインストール\n",
        "sudo apt install -y wget curl unzip libvulkan1 libu2f-udev\n",
        "\n",
        "# Chromeのインストール\n",
        "wget https://dl.google.com/linux/direct/google-chrome-stable_current_amd64.deb\n",
        "dpkg -i google-chrome-stable_current_amd64.deb\n",
        "\n",
        "# Chrome Driverのインストール\n",
        "CHROME_DRIVER_VERSION=`curl -sS chromedriver.storage.googleapis.com/LATEST_RELEASE`\n",
        "wget -N https://edgedl.me.gvt1.com/edgedl/chrome/chrome-for-testing/118.0.5993.70/linux64/chromedriver-linux64.zip\n",
        "unzip chromedriver-linux64.zip\n",
        "chmod +x /content/chromedriver-linux64/chromedriver\n",
        "mv /content/chromedriver-linux64/chromedriver /usr/local/bin/chromedriver\n",
        "\n",
        "pip install selenium"
      ]
    },
    {
      "cell_type": "markdown",
      "source": [
        "### ライブラリのインポート"
      ],
      "metadata": {
        "id": "EHg7wtNij2hc"
      }
    },
    {
      "cell_type": "code",
      "source": [
        "from selenium import webdriver\n",
        "from selenium.webdriver.common.by import By\n",
        "from selenium.webdriver.chrome.options import Options\n",
        "from selenium.webdriver.support.ui import WebDriverWait\n",
        "from selenium.webdriver.support import expected_conditions as EC\n",
        "\n",
        "import re\n",
        "import pandas as pd\n",
        "from datetime import datetime, timedelta\n",
        "import urllib.parse\n",
        "\n",
        "from bs4 import BeautifulSoup\n",
        "import time"
      ],
      "metadata": {
        "id": "8dis0Wod4T3X"
      },
      "execution_count": null,
      "outputs": []
    },
    {
      "cell_type": "markdown",
      "source": [
        "### 検索語（クエリ）を設定"
      ],
      "metadata": {
        "id": "99PYGa14j7Xn"
      }
    },
    {
      "cell_type": "code",
      "source": [
        "query = \"防衛大学校\"\n",
        "query = urllib.parse.quote(query)\n",
        "url = f\"https://search.yahoo.co.jp/realtime/search?p={query}&gm=w\"\n",
        "url"
      ],
      "metadata": {
        "id": "csxhGZQS4dGj"
      },
      "execution_count": null,
      "outputs": []
    },
    {
      "cell_type": "markdown",
      "source": [
        "### Chrome Driver の設定"
      ],
      "metadata": {
        "id": "jipwJYgGkCG9"
      }
    },
    {
      "cell_type": "code",
      "source": [
        "# ブラウザをheadlessモード実行\n",
        "options = webdriver.ChromeOptions()\n",
        "#ヘッドレスモード（バックグラウンドで起動）で実行。コラボの場合、必須。\n",
        "options.add_argument('--headless')\n",
        "#サンドボックスモードの解除。これも必須。\n",
        "options.add_argument('--no-sandbox')\n",
        "#これも設定した方がよい。\n",
        "options.add_argument('--disable-dev-shm-usage')"
      ],
      "metadata": {
        "id": "IKY2p5xY5b4-"
      },
      "execution_count": null,
      "outputs": []
    },
    {
      "cell_type": "markdown",
      "source": [
        "### Web ページの取得"
      ],
      "metadata": {
        "id": "3XdCxSlEkGiP"
      }
    },
    {
      "cell_type": "code",
      "source": [
        "#インスタンス化\n",
        "driver = webdriver.Chrome(options=options)\n",
        "#指定したドライバーが見つかるまで待機\n",
        "driver.implicitly_wait(10)\n",
        "# ページの取得\n",
        "driver.get(url)\n",
        "\n",
        "# 要素が表示されるまで待機\n",
        "WebDriverWait(driver, 30).until(EC.presence_of_element_located((By.XPATH, \"//*[@id='graph']/div/div[3]/div[2]/p/span[1]\")))\n",
        "WebDriverWait(driver, 30).until(EC.presence_of_element_located((By.CSS_SELECTOR, \".recharts-curve.recharts-area-curve\")))"
      ],
      "metadata": {
        "id": "RZhrTOYl4v-N"
      },
      "execution_count": null,
      "outputs": []
    },
    {
      "cell_type": "markdown",
      "source": [
        "### Tweet 数の確認"
      ],
      "metadata": {
        "id": "Ltyow8aakMCy"
      }
    },
    {
      "cell_type": "code",
      "source": [
        "tweets = driver.find_elements(By.CLASS_NAME, \"Tweet_body__XtDoj\")\n",
        "print(len(tweets), '個の Tweet を取得')"
      ],
      "metadata": {
        "id": "K3i77ntSsamg"
      },
      "execution_count": null,
      "outputs": []
    },
    {
      "cell_type": "markdown",
      "source": [
        "### 「もっと見る」をクリック＋スクロール"
      ],
      "metadata": {
        "id": "8JaWlf4asjak"
      }
    },
    {
      "cell_type": "code",
      "source": [
        "for i in range(2):\n",
        "    print(i, '回目の更新')\n",
        "    # 「もっと見る」ボタンを押す\n",
        "    driver.find_element(by=By.CLASS_NAME, value=\"More_text__1eDS4\").click()\n",
        "\n",
        "    #ブラウザのウインドウ高を取得する\n",
        "    win_height = driver.execute_script(\"return window.innerHeight\")\n",
        "\n",
        "    #スクロール開始位置の初期値（ページの先頭からスクロールを開始する）\n",
        "    last_top = 1\n",
        "\n",
        "    #ページの最下部までスクロールする無限ループ\n",
        "    while True:\n",
        "        #スクロール前のページの高さを取得\n",
        "        last_height = driver.execute_script(\"return document.body.scrollHeight\")\n",
        "\n",
        "        #スクロール開始位置を設定\n",
        "        top = last_top\n",
        "\n",
        "        #ページ最下部まで、徐々にスクロールしていく\n",
        "        while top < last_height:\n",
        "            top += int(win_height * 0.8)\n",
        "            driver.execute_script(\"window.scrollTo(0, %d)\" % top)\n",
        "            time.sleep(0.5)\n",
        "\n",
        "        #１秒待って、スクロール後のページの高さを取得する\n",
        "        time.sleep(1)\n",
        "        new_last_height = driver.execute_script(\"return document.body.scrollHeight\")\n",
        "\n",
        "        #スクロール前後でページの高さに変化がなくなったら無限スクロール終了とみなしてループを抜ける\n",
        "        if last_height == new_last_height:\n",
        "            break\n",
        "\n",
        "        #次のループのスクロール開始位置を設定\n",
        "        last_top = last_height"
      ],
      "metadata": {
        "id": "B0g4ZGEKr1_F"
      },
      "execution_count": null,
      "outputs": []
    },
    {
      "cell_type": "markdown",
      "source": [
        "### Tweet 数の確認"
      ],
      "metadata": {
        "id": "syJanZ5Lk97L"
      }
    },
    {
      "cell_type": "code",
      "source": [
        "tweets = driver.find_elements(By.CLASS_NAME, \"Tweet_body__XtDoj\")\n",
        "print(len(tweets), '個の Tweet を取得')"
      ],
      "metadata": {
        "id": "SEwdUPQrtkdn"
      },
      "execution_count": null,
      "outputs": []
    },
    {
      "cell_type": "code",
      "source": [
        "tweets[0].text"
      ],
      "metadata": {
        "id": "ag5R3NK6umo8"
      },
      "execution_count": null,
      "outputs": []
    },
    {
      "cell_type": "markdown",
      "source": [
        "# 2. 感情分析"
      ],
      "metadata": {
        "id": "-fim5v8mvaq5"
      }
    },
    {
      "cell_type": "markdown",
      "source": [
        "## WordCloud"
      ],
      "metadata": {
        "id": "u3rg4DVYtxhP"
      }
    },
    {
      "cell_type": "markdown",
      "source": [
        "### Mecab + Wordcloud のインストール"
      ],
      "metadata": {
        "id": "BrM-Q7YFoVfg"
      }
    },
    {
      "cell_type": "code",
      "source": [
        "!apt install mecab libmecab-dev mecab-ipadic-utf8\n",
        "!ln -s /etc/mecabrc /usr/local/etc/mecabrc\n",
        "!apt-get -y install fonts-ipafont-gothic\n",
        "!pip install mecab-python3 wordcloud japanize-matplotlib"
      ],
      "metadata": {
        "id": "Ev6xIZHwwQTN"
      },
      "execution_count": null,
      "outputs": []
    },
    {
      "cell_type": "code",
      "source": [
        "import MeCab\n",
        "import csv\n",
        "import json\n",
        "from wordcloud import WordCloud\n",
        "import matplotlib.pyplot as plt\n",
        "import japanize_matplotlib\n",
        "import warnings\n",
        "import numpy as np\n",
        "import pandas as pd\n",
        "import collections"
      ],
      "metadata": {
        "id": "mJDCaPefwL6v"
      },
      "execution_count": null,
      "outputs": []
    },
    {
      "cell_type": "markdown",
      "source": [
        "### Mecab の使い方"
      ],
      "metadata": {
        "id": "zZxGHGD3oaoE"
      }
    },
    {
      "cell_type": "code",
      "source": [
        "mecab = MeCab.Tagger()\n",
        "malist = mecab.parse(\"すもももももももものうち\")\n",
        "print(malist)"
      ],
      "metadata": {
        "id": "gpY1b7NauIu8"
      },
      "execution_count": null,
      "outputs": []
    },
    {
      "cell_type": "markdown",
      "source": [
        "### 各 Tweet を単語に分割"
      ],
      "metadata": {
        "id": "WFo-V7_zofVc"
      }
    },
    {
      "cell_type": "code",
      "source": [
        "mecab = MeCab.Tagger()\n",
        "sentences = []\n",
        "for tweet in tweets:\n",
        "    words = \"\"\n",
        "    node = mecab.parseToNode(tweet.text)\n",
        "    while node:\n",
        "        word = node.surface\n",
        "        word_type = node.feature.split(\",\")[0]\n",
        "\n",
        "        # \"名詞\", \"動詞\", \"形容詞\", \"副詞\"の中で選択したものを抽出\n",
        "        if word_type in [\"名詞\"]:#, \"動詞\", \"形容詞\"]:\n",
        "            words += ' ' + word\n",
        "        node = node.next\n",
        "    sentences.append(words)"
      ],
      "metadata": {
        "id": "TtGERebMv5tZ"
      },
      "execution_count": null,
      "outputs": []
    },
    {
      "cell_type": "code",
      "source": [
        "df = pd.DataFrame(sentences, columns=['text'])\n",
        "df"
      ],
      "metadata": {
        "id": "zziTErQUrwCw"
      },
      "execution_count": null,
      "outputs": []
    },
    {
      "cell_type": "markdown",
      "source": [
        "### Wordcloud の作成"
      ],
      "metadata": {
        "id": "6PX2qv3VokW5"
      }
    },
    {
      "cell_type": "code",
      "source": [
        "#wordcloudで出力するフォントを指定\n",
        "font_path = '/usr/share/fonts/opentype/ipafont-gothic/ipagp.ttf'\n",
        "txt = \" \".join(sentences)\n",
        "\n",
        "# ストップワードの設定(意味のない単語が含まれないように設定)\n",
        "stop_words = ['https', 't', 'co', 'RT', 'pic', 'com', 'twitter', 'jp']\n",
        "\n",
        "#解析した単語、ストップワードを設定、背景の色は白\n",
        "wordcloud = WordCloud(font_path=font_path, background_color=\"white\", stopwords=set(stop_words), width=800, height=600).generate(txt)\n",
        "\n",
        "fig = plt.figure(figsize=(30, 10))\n",
        "plt.imshow(wordcloud)\n",
        "plt.axis(\"off\")\n",
        "plt.show()"
      ],
      "metadata": {
        "id": "WiE2Qu0kxMJM"
      },
      "execution_count": null,
      "outputs": []
    },
    {
      "cell_type": "markdown",
      "source": [
        "## ネガポジ分析"
      ],
      "metadata": {
        "id": "tTzy4xbLy2JQ"
      }
    },
    {
      "cell_type": "markdown",
      "source": [
        "### Transformer のインストール"
      ],
      "metadata": {
        "id": "G9n4z4Fmopf3"
      }
    },
    {
      "cell_type": "code",
      "source": [
        "!pip install transformers"
      ],
      "metadata": {
        "id": "gTb3rNDey4tk"
      },
      "execution_count": null,
      "outputs": []
    },
    {
      "cell_type": "markdown",
      "source": [
        "### 感情分析関数（classifier）"
      ],
      "metadata": {
        "id": "lKue85RIowpw"
      }
    },
    {
      "cell_type": "code",
      "source": [
        "from transformers import pipeline\n",
        "\n",
        "# パイプラインの準備\n",
        "classifier = pipeline(\n",
        "    model=\"lxyuan/distilbert-base-multilingual-cased-sentiments-student\",\n",
        "    return_all_scores=True\n",
        ")"
      ],
      "metadata": {
        "id": "X3Owk3WJy8-v"
      },
      "execution_count": null,
      "outputs": []
    },
    {
      "cell_type": "markdown",
      "source": [
        "### 感情分析の使い方"
      ],
      "metadata": {
        "id": "hXV2Ns9kosSZ"
      }
    },
    {
      "cell_type": "code",
      "source": [
        "print(classifier(\"勇者ヒンメルならそうしました\"))\n",
        "print(classifier(\"ザクとは違うのだよ、ザクとは！\"))\n",
        "print(classifier(\"見ろ、人がゴミのようだ！！\"))\n",
        "print(classifier(\"おまえの物は俺の物、俺の物も俺の物\"))"
      ],
      "metadata": {
        "id": "oG4yb5oSz0bM"
      },
      "execution_count": null,
      "outputs": []
    },
    {
      "cell_type": "markdown",
      "source": [
        "### 集計"
      ],
      "metadata": {
        "id": "pkrivNM7pP6f"
      }
    },
    {
      "cell_type": "code",
      "source": [
        "sentiments = []\n",
        "for tweet in tweets:\n",
        "    print(tweet.text)\n",
        "    senti = classifier(tweet.text)\n",
        "    print(senti)\n",
        "    sentiments.append([senti[0][0]['score'], senti[0][1]['score'], senti[0][2]['score']])\n",
        "print(sentiments)\n",
        "print(np.mean(np.array(sentiments)))"
      ],
      "metadata": {
        "id": "j7XnVU35zxVO"
      },
      "execution_count": null,
      "outputs": []
    },
    {
      "cell_type": "code",
      "source": [
        "df = pd.DataFrame(data = np.array(sentiments), columns=['positive', 'negative', 'neutral'])\n",
        "df"
      ],
      "metadata": {
        "id": "iYo_SjuaVt4q"
      },
      "execution_count": null,
      "outputs": []
    },
    {
      "cell_type": "code",
      "source": [
        "df.sum().values"
      ],
      "metadata": {
        "id": "b-j2GRh3XEUZ"
      },
      "execution_count": null,
      "outputs": []
    },
    {
      "cell_type": "markdown",
      "source": [
        "### グラフ化"
      ],
      "metadata": {
        "id": "YW4qX07Ppa33"
      }
    },
    {
      "cell_type": "code",
      "source": [
        "plt.figure(figsize=(8, 8))\n",
        "plt.rcParams[\"font.size\"] = 18\n",
        "plt.pie(df.sum().values, labels=df.columns, counterclock=False, autopct='%0.1f%%', startangle=90)"
      ],
      "metadata": {
        "id": "fdGjxZ--3tRn"
      },
      "execution_count": null,
      "outputs": []
    },
    {
      "cell_type": "markdown",
      "source": [
        "## おまけ"
      ],
      "metadata": {
        "id": "vLN102eppAvT"
      }
    },
    {
      "cell_type": "code",
      "source": [
        "# ツイート数の取得\n",
        "tweet_count = driver.find_element(by=By.XPATH, value=\"//*[@id='graph']/div/div[3]/div[2]/p/span[1]\").text\n",
        "tweet_count = int(tweet_count.replace(\",\", \"\"))\n",
        "\n",
        "#ツイート推移の取得\n",
        "time_text = driver.find_element(by=By.CSS_SELECTOR, value=\".recharts-curve.recharts-area-curve\")\n",
        "d_element = time_text.get_attribute(\"d\")\n",
        "modified_string = re.sub(r\"[a-zA-Z]\", \",\", d_element)[1:]\n",
        "values = modified_string.split(\",\")[1::6][1:-1]\n",
        "values = [160 - float(x) for x in values]\n",
        "max_value = max(values)\n",
        "\n",
        "#ツイート推移のデータを計算\n",
        "values = [round((x / max_value) * tweet_count) for x in values]"
      ],
      "metadata": {
        "id": "ecurXPd042cq"
      },
      "execution_count": null,
      "outputs": []
    },
    {
      "cell_type": "code",
      "source": [
        "#時間インデックスの取得\n",
        "now = datetime.now()\n",
        "start_time = now - timedelta(days = 7, hours=-2, minutes=now.minute, seconds=now.second, microseconds=now.microsecond)\n",
        "hourly_list = [start_time + timedelta(hours=i) for i in range(24*7-1)]"
      ],
      "metadata": {
        "id": "noC5qmdd479F"
      },
      "execution_count": null,
      "outputs": []
    },
    {
      "cell_type": "code",
      "source": [
        "#結果の表示\n",
        "s = pd.Series(values, index=hourly_list)\n",
        "s.plot()\n",
        "\n",
        "#WebDriverを終了\n",
        "#driver.quit()"
      ],
      "metadata": {
        "id": "XZ1pIuyYNLyZ"
      },
      "execution_count": null,
      "outputs": []
    },
    {
      "cell_type": "code",
      "source": [],
      "metadata": {
        "id": "xN3yNvNR4h5c"
      },
      "execution_count": null,
      "outputs": []
    }
  ]
}