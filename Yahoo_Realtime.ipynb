{
  "nbformat": 4,
  "nbformat_minor": 0,
  "metadata": {
    "colab": {
      "provenance": [],
      "authorship_tag": "ABX9TyNjmFb8pXhvi9qrP0wKFyFQ",
      "include_colab_link": true
    },
    "kernelspec": {
      "name": "python3",
      "display_name": "Python 3"
    },
    "language_info": {
      "name": "python"
    }
  },
  "cells": [
    {
      "cell_type": "markdown",
      "metadata": {
        "id": "view-in-github",
        "colab_type": "text"
      },
      "source": [
        "<a href=\"https://colab.research.google.com/github/ailab-nda/ML/blob/main/Yahoo_Realtime.ipynb\" target=\"_parent\"><img src=\"https://colab.research.google.com/assets/colab-badge.svg\" alt=\"Open In Colab\"/></a>"
      ]
    },
    {
      "cell_type": "code",
      "execution_count": null,
      "metadata": {
        "colab": {
          "base_uri": "https://localhost:8080/"
        },
        "id": "CE2d1O3Y4Pgs",
        "outputId": "dab56767-486f-431b-efd3-d8da246cd697"
      },
      "outputs": [
        {
          "output_type": "stream",
          "name": "stdout",
          "text": [
            "\u001b[33m\r0% [Working]\u001b[0m\r            \rHit:1 http://archive.ubuntu.com/ubuntu jammy InRelease\n",
            "\u001b[33m\r0% [Waiting for headers] [Connected to cloud.r-project.org (108.157.162.103)] [\u001b[0m\r                                                                               \rGet:2 http://archive.ubuntu.com/ubuntu jammy-updates InRelease [119 kB]\n",
            "\r                                                                               \rGet:3 http://security.ubuntu.com/ubuntu jammy-security InRelease [110 kB]\n",
            "\u001b[33m\r0% [2 InRelease 15.6 kB/119 kB 13%] [3 InRelease 25.8 kB/110 kB 23%] [Waiting f\u001b[0m\r                                                                               \rGet:4 https://cloud.r-project.org/bin/linux/ubuntu jammy-cran40/ InRelease [3,626 B]\n",
            "Get:5 https://developer.download.nvidia.com/compute/cuda/repos/ubuntu2204/x86_64  InRelease [1,581 B]\n",
            "Get:6 http://archive.ubuntu.com/ubuntu jammy-backports InRelease [109 kB]\n",
            "Hit:7 https://ppa.launchpadcontent.net/c2d4u.team/c2d4u4.0+/ubuntu jammy InRelease\n",
            "Get:8 https://developer.download.nvidia.com/compute/cuda/repos/ubuntu2204/x86_64  Packages [498 kB]\n",
            "Hit:9 https://ppa.launchpadcontent.net/deadsnakes/ppa/ubuntu jammy InRelease\n",
            "Get:10 http://security.ubuntu.com/ubuntu jammy-security/main amd64 Packages [1,014 kB]\n",
            "Get:11 http://security.ubuntu.com/ubuntu jammy-security/universe amd64 Packages [998 kB]\n",
            "Get:12 http://archive.ubuntu.com/ubuntu jammy-updates/main amd64 Packages [1,283 kB]\n",
            "Hit:13 https://ppa.launchpadcontent.net/graphics-drivers/ppa/ubuntu jammy InRelease\n",
            "Get:14 http://archive.ubuntu.com/ubuntu jammy-updates/universe amd64 Packages [1,260 kB]\n",
            "Hit:15 https://ppa.launchpadcontent.net/ubuntugis/ppa/ubuntu jammy InRelease\n",
            "Get:16 http://archive.ubuntu.com/ubuntu jammy-backports/main amd64 Packages [78.4 kB]\n",
            "Get:17 http://archive.ubuntu.com/ubuntu jammy-backports/universe amd64 Packages [32.7 kB]\n",
            "Fetched 5,508 kB in 2s (2,207 kB/s)\n",
            "Reading package lists... Done\n",
            "Building dependency tree... Done\n",
            "Reading state information... Done\n",
            "19 packages can be upgraded. Run 'apt list --upgradable' to see them.\n",
            "Reading package lists... Done\n",
            "Building dependency tree... Done\n",
            "Reading state information... Done\n",
            "wget is already the newest version (1.21.2-2ubuntu1).\n",
            "curl is already the newest version (7.81.0-1ubuntu1.13).\n",
            "unzip is already the newest version (6.0-26ubuntu3.1).\n",
            "The following additional packages will be installed:\n",
            "  mesa-vulkan-drivers\n",
            "The following NEW packages will be installed:\n",
            "  libvulkan1 mesa-vulkan-drivers\n",
            "0 upgraded, 2 newly installed, 0 to remove and 19 not upgraded.\n",
            "Need to get 9,650 kB of archives.\n",
            "After this operation, 46.2 MB of additional disk space will be used.\n",
            "Get:1 http://archive.ubuntu.com/ubuntu jammy/main amd64 libvulkan1 amd64 1.3.204.1-2 [128 kB]\n",
            "Get:2 http://archive.ubuntu.com/ubuntu jammy-updates/main amd64 mesa-vulkan-drivers amd64 23.0.4-0ubuntu1~22.04.1 [9,521 kB]\n",
            "Fetched 9,650 kB in 0s (23.7 MB/s)\n",
            "debconf: unable to initialize frontend: Dialog\n",
            "debconf: (No usable dialog-like program is installed, so the dialog based frontend cannot be used. at /usr/share/perl5/Debconf/FrontEnd/Dialog.pm line 78, <> line 2.)\n",
            "debconf: falling back to frontend: Readline\n",
            "debconf: unable to initialize frontend: Readline\n",
            "debconf: (This frontend requires a controlling tty.)\n",
            "debconf: falling back to frontend: Teletype\n",
            "dpkg-preconfigure: unable to re-open stdin: \n",
            "Selecting previously unselected package libvulkan1:amd64.\n",
            "(Reading database ... 120895 files and directories currently installed.)\n",
            "Preparing to unpack .../libvulkan1_1.3.204.1-2_amd64.deb ...\n",
            "Unpacking libvulkan1:amd64 (1.3.204.1-2) ...\n",
            "Selecting previously unselected package mesa-vulkan-drivers:amd64.\n",
            "Preparing to unpack .../mesa-vulkan-drivers_23.0.4-0ubuntu1~22.04.1_amd64.deb ...\n",
            "Unpacking mesa-vulkan-drivers:amd64 (23.0.4-0ubuntu1~22.04.1) ...\n",
            "Setting up libvulkan1:amd64 (1.3.204.1-2) ...\n",
            "Setting up mesa-vulkan-drivers:amd64 (23.0.4-0ubuntu1~22.04.1) ...\n",
            "Processing triggers for libc-bin (2.35-0ubuntu3.1) ...\n",
            "/sbin/ldconfig.real: /usr/local/lib/libtbbbind.so.3 is not a symbolic link\n",
            "\n",
            "/sbin/ldconfig.real: /usr/local/lib/libtbbbind_2_0.so.3 is not a symbolic link\n",
            "\n",
            "/sbin/ldconfig.real: /usr/local/lib/libtbb.so.12 is not a symbolic link\n",
            "\n",
            "/sbin/ldconfig.real: /usr/local/lib/libtbbmalloc.so.2 is not a symbolic link\n",
            "\n",
            "/sbin/ldconfig.real: /usr/local/lib/libtbbmalloc_proxy.so.2 is not a symbolic link\n",
            "\n",
            "/sbin/ldconfig.real: /usr/local/lib/libtbbbind_2_5.so.3 is not a symbolic link\n",
            "\n",
            "--2023-09-22 04:35:32--  http://archive.ubuntu.com/ubuntu/pool/main/libu/libu2f-host/libu2f-udev_1.1.4-1_all.deb\n",
            "Resolving archive.ubuntu.com (archive.ubuntu.com)... 91.189.91.81, 91.189.91.82, 185.125.190.39, ...\n",
            "Connecting to archive.ubuntu.com (archive.ubuntu.com)|91.189.91.81|:80... connected.\n",
            "HTTP request sent, awaiting response... 200 OK\n",
            "Length: 3708 (3.6K) [application/vnd.debian.binary-package]\n",
            "Saving to: ‘libu2f-udev_1.1.4-1_all.deb’\n",
            "\n",
            "libu2f-udev_1.1.4-1 100%[===================>]   3.62K  --.-KB/s    in 0s      \n",
            "\n",
            "2023-09-22 04:35:32 (348 MB/s) - ‘libu2f-udev_1.1.4-1_all.deb’ saved [3708/3708]\n",
            "\n",
            "Selecting previously unselected package libu2f-udev.\n",
            "(Reading database ... 120931 files and directories currently installed.)\n",
            "Preparing to unpack libu2f-udev_1.1.4-1_all.deb ...\n",
            "Unpacking libu2f-udev (1.1.4-1) ...\n",
            "Setting up libu2f-udev (1.1.4-1) ...\n",
            "--2023-09-22 04:35:32--  https://dl.google.com/linux/direct/google-chrome-stable_current_amd64.deb\n",
            "Resolving dl.google.com (dl.google.com)... 142.251.107.190, 142.251.107.136, 142.251.107.91, ...\n",
            "Connecting to dl.google.com (dl.google.com)|142.251.107.190|:443... connected.\n",
            "HTTP request sent, awaiting response... 200 OK\n",
            "Length: 103481376 (99M) [application/x-debian-package]\n",
            "Saving to: ‘google-chrome-stable_current_amd64.deb’\n",
            "\n",
            "google-chrome-stabl 100%[===================>]  98.69M   103MB/s    in 1.0s    \n",
            "\n",
            "2023-09-22 04:35:33 (103 MB/s) - ‘google-chrome-stable_current_amd64.deb’ saved [103481376/103481376]\n",
            "\n",
            "Selecting previously unselected package google-chrome-stable.\n",
            "(Reading database ... 120935 files and directories currently installed.)\n",
            "Preparing to unpack google-chrome-stable_current_amd64.deb ...\n",
            "Unpacking google-chrome-stable (117.0.5938.92-1) ...\n",
            "Setting up google-chrome-stable (117.0.5938.92-1) ...\n",
            "update-alternatives: using /usr/bin/google-chrome-stable to provide /usr/bin/x-www-browser (x-www-browser) in auto mode\n",
            "update-alternatives: using /usr/bin/google-chrome-stable to provide /usr/bin/gnome-www-browser (gnome-www-browser) in auto mode\n",
            "update-alternatives: using /usr/bin/google-chrome-stable to provide /usr/bin/google-chrome (google-chrome) in auto mode\n",
            "Processing triggers for man-db (2.10.2-1) ...\n",
            "--2023-09-22 04:35:46--  https://edgedl.me.gvt1.com/edgedl/chrome/chrome-for-testing/117.0.5938.92/linux64/chromedriver-linux64.zip\n",
            "Resolving edgedl.me.gvt1.com (edgedl.me.gvt1.com)... 34.104.35.123, 2600:1900:4110:86f::\n",
            "Connecting to edgedl.me.gvt1.com (edgedl.me.gvt1.com)|34.104.35.123|:443... connected.\n",
            "HTTP request sent, awaiting response... 200 OK\n",
            "Length: 7508702 (7.2M) [application/octet-stream]\n",
            "Saving to: ‘chromedriver-linux64.zip’\n",
            "\n",
            "chromedriver-linux6 100%[===================>]   7.16M  --.-KB/s    in 0.1s    \n",
            "\n",
            "2023-09-22 04:35:46 (73.5 MB/s) - ‘chromedriver-linux64.zip’ saved [7508702/7508702]\n",
            "\n",
            "Archive:  chromedriver-linux64.zip\n",
            "  inflating: chromedriver-linux64/LICENSE.chromedriver  \n",
            "  inflating: chromedriver-linux64/chromedriver  \n"
          ]
        },
        {
          "output_type": "execute_result",
          "data": {
            "text/plain": []
          },
          "metadata": {},
          "execution_count": 1
        }
      ],
      "source": [
        "%%shell\n",
        "\n",
        "# 更新を実行\n",
        "sudo apt -y update\n",
        "\n",
        "# ダウンロードのために必要なパッケージをインストール\n",
        "sudo apt install -y wget curl unzip libvulkan1\n",
        "# 以下はChromeの依存パッケージ\n",
        "wget http://archive.ubuntu.com/ubuntu/pool/main/libu/libu2f-host/libu2f-udev_1.1.4-1_all.deb\n",
        "dpkg -i libu2f-udev_1.1.4-1_all.deb\n",
        "\n",
        "# Chromeのインストール\n",
        "wget https://dl.google.com/linux/direct/google-chrome-stable_current_amd64.deb\n",
        "dpkg -i google-chrome-stable_current_amd64.deb\n",
        "\n",
        "# Chrome Driverのインストール\n",
        "CHROME_DRIVER_VERSION=`curl -sS chromedriver.storage.googleapis.com/LATEST_RELEASE`\n",
        "#wget -N https://chromedriver.storage.googleapis.com/$CHROME_DRIVER_VERSION/chromedriver_linux64.zip -P /tmp/\n",
        "wget -N https://edgedl.me.gvt1.com/edgedl/chrome/chrome-for-testing/117.0.5938.92/linux64/chromedriver-linux64.zip\n",
        "unzip chromedriver-linux64.zip\n",
        "chmod +x /content/chromedriver-linux64/chromedriver\n",
        "mv /content/chromedriver-linux64/chromedriver /usr/local/bin/chromedriver"
      ]
    },
    {
      "cell_type": "code",
      "source": [
        "!google-chrome --version\n",
        "!chromedriver --version"
      ],
      "metadata": {
        "colab": {
          "base_uri": "https://localhost:8080/"
        },
        "id": "VEcDIquJ6ky0",
        "outputId": "0a857488-dbd4-44c2-bca2-aecc0cf9972b"
      },
      "execution_count": null,
      "outputs": [
        {
          "output_type": "stream",
          "name": "stdout",
          "text": [
            "Google Chrome 117.0.5938.92 \n",
            "ChromeDriver 117.0.5938.92 (67649b10b92bb182fba357831ef7dd6a1baa5648-refs/branch-heads/5938_62@{#14})\n"
          ]
        }
      ]
    },
    {
      "cell_type": "code",
      "source": [
        "!pip install selenium"
      ],
      "metadata": {
        "colab": {
          "base_uri": "https://localhost:8080/"
        },
        "id": "tGbn1-s-6nuC",
        "outputId": "a8e78539-4a03-46f8-8deb-be22956d74de"
      },
      "execution_count": null,
      "outputs": [
        {
          "output_type": "stream",
          "name": "stdout",
          "text": [
            "Collecting selenium\n",
            "  Downloading selenium-4.12.0-py3-none-any.whl (9.4 MB)\n",
            "\u001b[2K     \u001b[90m━━━━━━━━━━━━━━━━━━━━━━━━━━━━━━━━━━━━━━━━\u001b[0m \u001b[32m9.4/9.4 MB\u001b[0m \u001b[31m51.2 MB/s\u001b[0m eta \u001b[36m0:00:00\u001b[0m\n",
            "\u001b[?25hRequirement already satisfied: urllib3[socks]<3,>=1.26 in /usr/local/lib/python3.10/dist-packages (from selenium) (2.0.4)\n",
            "Collecting trio~=0.17 (from selenium)\n",
            "  Downloading trio-0.22.2-py3-none-any.whl (400 kB)\n",
            "\u001b[2K     \u001b[90m━━━━━━━━━━━━━━━━━━━━━━━━━━━━━━━━━━━━━━\u001b[0m \u001b[32m400.2/400.2 kB\u001b[0m \u001b[31m32.4 MB/s\u001b[0m eta \u001b[36m0:00:00\u001b[0m\n",
            "\u001b[?25hCollecting trio-websocket~=0.9 (from selenium)\n",
            "  Downloading trio_websocket-0.10.4-py3-none-any.whl (17 kB)\n",
            "Requirement already satisfied: certifi>=2021.10.8 in /usr/local/lib/python3.10/dist-packages (from selenium) (2023.7.22)\n",
            "Requirement already satisfied: attrs>=20.1.0 in /usr/local/lib/python3.10/dist-packages (from trio~=0.17->selenium) (23.1.0)\n",
            "Requirement already satisfied: sortedcontainers in /usr/local/lib/python3.10/dist-packages (from trio~=0.17->selenium) (2.4.0)\n",
            "Requirement already satisfied: idna in /usr/local/lib/python3.10/dist-packages (from trio~=0.17->selenium) (3.4)\n",
            "Collecting outcome (from trio~=0.17->selenium)\n",
            "  Downloading outcome-1.2.0-py2.py3-none-any.whl (9.7 kB)\n",
            "Requirement already satisfied: sniffio in /usr/local/lib/python3.10/dist-packages (from trio~=0.17->selenium) (1.3.0)\n",
            "Requirement already satisfied: exceptiongroup>=1.0.0rc9 in /usr/local/lib/python3.10/dist-packages (from trio~=0.17->selenium) (1.1.3)\n",
            "Collecting wsproto>=0.14 (from trio-websocket~=0.9->selenium)\n",
            "  Downloading wsproto-1.2.0-py3-none-any.whl (24 kB)\n",
            "Requirement already satisfied: pysocks!=1.5.7,<2.0,>=1.5.6 in /usr/local/lib/python3.10/dist-packages (from urllib3[socks]<3,>=1.26->selenium) (1.7.1)\n",
            "Collecting h11<1,>=0.9.0 (from wsproto>=0.14->trio-websocket~=0.9->selenium)\n",
            "  Downloading h11-0.14.0-py3-none-any.whl (58 kB)\n",
            "\u001b[2K     \u001b[90m━━━━━━━━━━━━━━━━━━━━━━━━━━━━━━━━━━━━━━━━\u001b[0m \u001b[32m58.3/58.3 kB\u001b[0m \u001b[31m6.0 MB/s\u001b[0m eta \u001b[36m0:00:00\u001b[0m\n",
            "\u001b[?25hInstalling collected packages: outcome, h11, wsproto, trio, trio-websocket, selenium\n",
            "Successfully installed h11-0.14.0 outcome-1.2.0 selenium-4.12.0 trio-0.22.2 trio-websocket-0.10.4 wsproto-1.2.0\n"
          ]
        }
      ]
    },
    {
      "cell_type": "code",
      "source": [
        "#ライブラリ等のインポート\n",
        "from selenium import webdriver\n",
        "from selenium.webdriver.common.by import By\n",
        "from selenium.webdriver.chrome.options import Options\n",
        "from selenium.webdriver.support.ui import WebDriverWait\n",
        "from selenium.webdriver.support import expected_conditions as EC\n",
        "\n",
        "import re\n",
        "import pandas as pd\n",
        "from datetime import datetime, timedelta\n",
        "import urllib.parse\n",
        "\n",
        "from bs4 import BeautifulSoup\n",
        "import time"
      ],
      "metadata": {
        "id": "8dis0Wod4T3X"
      },
      "execution_count": null,
      "outputs": []
    },
    {
      "cell_type": "code",
      "source": [
        "# クエリを設定\n",
        "query = \"防衛大学校\"\n",
        "query = urllib.parse.quote(query)\n",
        "url = f\"https://search.yahoo.co.jp/realtime/search?p={query}&gm=w\"\n",
        "url"
      ],
      "metadata": {
        "colab": {
          "base_uri": "https://localhost:8080/",
          "height": 35
        },
        "id": "csxhGZQS4dGj",
        "outputId": "cb5cba4e-d947-491a-c114-63da7b3d152a"
      },
      "execution_count": null,
      "outputs": [
        {
          "output_type": "execute_result",
          "data": {
            "text/plain": [
              "'https://search.yahoo.co.jp/realtime/search?p=%E9%98%B2%E8%A1%9B%E5%A4%A7%E5%AD%A6%E6%A0%A1&gm=w'"
            ],
            "application/vnd.google.colaboratory.intrinsic+json": {
              "type": "string"
            }
          },
          "metadata": {},
          "execution_count": 16
        }
      ]
    },
    {
      "cell_type": "code",
      "source": [
        "# ブラウザをheadlessモード実行\n",
        "options = webdriver.ChromeOptions()\n",
        "#ヘッドレスモード（バックグラウンドで起動）で実行。コラボの場合、必須。\n",
        "options.add_argument('--headless')\n",
        "#サンドボックスモードの解除。これも必須。\n",
        "options.add_argument('--no-sandbox')\n",
        "#これも設定した方がよい。\n",
        "options.add_argument('--disable-dev-shm-usage')"
      ],
      "metadata": {
        "id": "IKY2p5xY5b4-"
      },
      "execution_count": null,
      "outputs": []
    },
    {
      "cell_type": "code",
      "source": [
        "#インスタンス化\n",
        "driver = webdriver.Chrome(options=options)\n",
        "#指定したドライバーが見つかるまで待機\n",
        "driver.implicitly_wait(10)\n",
        "# ページの取得\n",
        "driver.get(url)\n",
        "\n",
        "# 要素が表示されるまで待機\n",
        "WebDriverWait(driver, 30).until(EC.presence_of_element_located((By.XPATH, \"//*[@id='graph']/div/div[3]/div[2]/p/span[1]\")))\n",
        "WebDriverWait(driver, 30).until(EC.presence_of_element_located((By.CSS_SELECTOR, \".recharts-curve.recharts-area-curve\")))"
      ],
      "metadata": {
        "colab": {
          "base_uri": "https://localhost:8080/"
        },
        "id": "RZhrTOYl4v-N",
        "outputId": "5686b9dc-9d6d-42f3-a823-6ca4ee3a5db8"
      },
      "execution_count": null,
      "outputs": [
        {
          "output_type": "execute_result",
          "data": {
            "text/plain": [
              "<selenium.webdriver.remote.webelement.WebElement (session=\"83bbd4d8d10ffa231da95a6dafc76cce\", element=\"7F7DF5B3E788AE4D5F24D20A763534DD_element_53\")>"
            ]
          },
          "metadata": {},
          "execution_count": 28
        }
      ]
    },
    {
      "cell_type": "code",
      "source": [
        "# ツイート数の取得\n",
        "tweet_count = driver.find_element(by=By.XPATH, value=\"//*[@id='graph']/div/div[3]/div[2]/p/span[1]\").text\n",
        "tweet_count = int(tweet_count.replace(\",\", \"\"))\n",
        "\n",
        "#ツイート推移の取得\n",
        "time_text = driver.find_element(by=By.CSS_SELECTOR, value=\".recharts-curve.recharts-area-curve\")\n",
        "d_element = time_text.get_attribute(\"d\")\n",
        "modified_string = re.sub(r\"[a-zA-Z]\", \",\", d_element)[1:]\n",
        "values = modified_string.split(\",\")[1::6][1:-1]\n",
        "values = [160 - float(x) for x in values]\n",
        "max_value = max(values)\n",
        "\n",
        "#ツイート推移のデータを計算\n",
        "values = [round((x / max_value) * tweet_count) for x in values]"
      ],
      "metadata": {
        "id": "ecurXPd042cq"
      },
      "execution_count": null,
      "outputs": []
    },
    {
      "cell_type": "code",
      "source": [
        "#時間インデックスの取得\n",
        "now = datetime.now()\n",
        "start_time = now - timedelta(days = 7, hours=-2, minutes=now.minute, seconds=now.second, microseconds=now.microsecond)\n",
        "hourly_list = [start_time + timedelta(hours=i) for i in range(24*7-1)]"
      ],
      "metadata": {
        "id": "noC5qmdd479F"
      },
      "execution_count": null,
      "outputs": []
    },
    {
      "cell_type": "code",
      "source": [
        "#結果の表示\n",
        "s = pd.Series(values, index=hourly_list)\n",
        "s.plot()\n",
        "\n",
        "#WebDriverを終了\n",
        "driver.quit()"
      ],
      "metadata": {
        "colab": {
          "base_uri": "https://localhost:8080/",
          "height": 460
        },
        "id": "XZ1pIuyYNLyZ",
        "outputId": "1eb6ae03-b360-4bd2-8e47-3c0a97152477"
      },
      "execution_count": null,
      "outputs": [
        {
          "output_type": "display_data",
          "data": {
            "text/plain": [
              "<Figure size 640x480 with 1 Axes>"
            ],
            "image/png": "[encoded data removed]"
          },
          "metadata": {}
        }
      ]
    },
    {
      "cell_type": "code",
      "source": [
        "tweets = driver.find_elements(By.CLASS_NAME, \"Tweet_body__XtDoj\")\n",
        "print(len(tweets))"
      ],
      "metadata": {
        "colab": {
          "base_uri": "https://localhost:8080/"
        },
        "id": "o73Uql0INS7U",
        "outputId": "813c291c-649a-4a8b-abb5-4fa69f76df79"
      },
      "execution_count": null,
      "outputs": [
        {
          "output_type": "stream",
          "name": "stdout",
          "text": [
            "40\n"
          ]
        }
      ]
    },
    {
      "cell_type": "code",
      "source": [
        "for i in tweets:\n",
        "    print(i.text)"
      ],
      "metadata": {
        "colab": {
          "base_uri": "https://localhost:8080/"
        },
        "id": "XitszhZnO3UH",
        "outputId": "b07d0ad6-d772-403e-a289-7a591696ce62"
      },
      "execution_count": null,
      "outputs": [
        {
          "output_type": "stream",
          "name": "stdout",
          "text": [
            "クラウス、士官学校をがっつり良好な成績で卒業した上で知略を武器にすることを選んでる印象があるし、現代で置き換えるならそれこそ防衛大学校とかあのあたりのエリート養成コースのガチ訓練をこなしてきた上で参謀コースという超絶恐ろしいエリートコースなんだよなあ……\n",
            "返信先:@onoda_kimi\n",
            "お疲れ様でした。 ありがとうございました。 昨年、防衛大学校で見た小野田さんはとてもかっこよかったです。 これからも応援させていただきます。\n",
            "愛国コンテンツは根性でなく、なろう感が重要。爆死の『テッパチ！』にならって防衛大学校を舞台にするなら、 主人公はタダで学ぶため入った苦学生でふだんはボンクラだが、実は戦略／戦術の天才。開校以来の超秀才や愛国陶酔秀才を戦略演習で一蹴し、右翼教官の査問を反権力弁舌でやりこめる、とか。\n",
            "◆陸上自衛隊 89式小銃 二脚 バイポッド 官給品 中古 防衛庁 防衛省 防衛大学校 海上自衛隊 航空自衛隊 64式◆ page.auctions.yahoo.co.jp/jp/auction/f11…\n",
            "鶴見大学グラウンド 〈第1試合〉10時00分～ ※鶴見大学ー防衛大学校\n",
            "#ワイドスクランブル　#ANNニュース 1 ゼレンスキー大統領。ウクライナが善でロシアは悪、この図式は欧米諸国では常識になりつつある。だが事実を追う学者、たとえば外務省局長や防衛大学校教授を歴任した孫崎享氏は、複雑な政治と外交の具体的趨勢を追い続けている。 pic.twitter.com/2gMTHNnHXD\n",
            "＼CFIECウェビナー🖥️無料／ 🔽詳細・申込 peatix.com/event/3700835 『インドが見つめる転換期の世界 日本の対インド戦略に見落としはないのか？』 ＜登壇者＞ 伊藤 融 防衛大学校教授 @itoToru1969 佐藤 隆広 神戸大学教授 椎野 幸平 拓殖大学准教授 奈良部 健 朝日新聞記者 @narabe_takeshi\n",
            "返信先:@kaburaya20131他1人\n",
            "吉田茂の防衛大学校第一期学生への言葉が今更ながら胸に沁みますね。「君達が日陰者である時のほうが、国民や日本は幸せなのだ。どうか、耐えてもらいたい」\n",
            "返信先:@TetraChannel\n",
            "あおざくら防衛大学校物語 九条の大罪 葬送のフリーレン ウメハラ ファイティングゲーマー 一旦4つ\n",
            "返信先:@Bd02423373他1人\n",
            "高校も大学も無料になる家庭は、それ以外の出費でカツカツなので贅沢できないです。しかし貴女のお子様が本当に学費にお困りなら、入試で特待生になれば私立中学高校は無料で通えますし、気象大学校、防衛大学校、海上保安大学校などに進学すれば、大学の学費もかかりませんよ。\n",
            "『経団連タイムス』(9/21発行) 国際秩序の危機と米国内政・外交の動向～2024年大統領選挙に向けて －21世紀政策研究所 解説シリーズ／バイデン政権「前半戦」の分析と今後の展望＜1＞ ／21世紀政策研究所研究主幹（防衛大学校長） 久保文明 keidanren.or.jp/journal/times/…\n",
            "防衛大学校應援團。 女子リーダーが気合充分でカッコ良い。 youtu.be/TyAuDuW2HiA?si…\n",
            "先生に防衛大学校試しに受ければって言われたけど、どうなんでしょう…\n",
            "元外交官。 在イスラエル日本大使館公使、在タイ日本大使館特命全権公使、特命全権大使キューバ国駐箚、駐ウクライナ兼モルドバ大使、防衛大学校教授を歴任などをされた作家の馬渕睦夫さんは2023年はトランプ復権、プーチンの奮闘、日本人の覚醒…\n",
            "【R5.9.17 秋季リーグvs東京工芸大学】 vs東京工芸大学　 ＠防衛大学校花立グラウンド 防衛大｜０１２ ０１１ １００｜6 工芸大｜０００ ００１ ０００｜ 1 防》小野、伊賀ー高見 芸》武田、髙橋（朋）－吉澤、竹村 二:高見(防)、齋藤（防）、新川（防）、村田（防）、小松田（芸）、飯島（芸） pic.twitter.com/5prBbEBSA6\n",
            "【R5.9.16 秋リーグvs東京工芸大学】 vs東京工芸大学 ＠防衛大学校花立グラウンド 工芸大｜１１２ ２１２ ０００｜9 防衛大｜４０１ ０００ ０２０｜ 7 防》伊賀、小池、小野ー高見 芸》髙橋（朋）、木原、武田－吉澤 二:齋藤（防）、小松田（芸）、杉野（芸）×2、荻久保（芸） 本:高見（防） pic.twitter.com/W9rfFUJiEG\n",
            "防衛大学校・防衛医科大学校医学科・看護学科の学生を募集。荒川区・台東区・文京区からのご応募は自衛隊東京地方協力本部 @tokyo_pco 台東出張所まで。東京都隊友会荒川支部 #防衛大学校 #防衛医科大学校 #自衛隊東京地方協力本部 #台東出張所 #自衛官募集 #公益社団法人隊友会 #東京都隊友会荒川支部 pic.twitter.com/nfjfayS670\n",
            "サンデー35号『あおざくらー防衛大学校物語ー』 土方がふつーの学生をしているのが新鮮。 「よくあんなウソみたいな点呼が通ったな」……山並が利かせた機転がポイント高かったのでは。機転を利かせるの大事。\n",
            "返信先:@Srlxr2HbmcCOtu7他1人\n",
            "防衛大学校の校長を務められた五百籏頭真さんですね。 今回、確認して\"旗\"の字に\"たけかんむり\"のつくことを初めて知りました。\n",
            "返信先:@99MXOBGYmQsh5q0他1人\n",
            "「いおきべ」という苗字の方では、防衛大学校長も務められた、五百籏頭真さんが比較的知られたところかと思いますが、こちらは\"旗\"の字に\"たけかんむり\"がつくのですね。\n",
            "【元海上自衛隊幹部が解説】防衛大学校の長期勤務学生 youtu.be/DVVn-Jwh3S8?si… @YouTubeより\n",
            "防衛大学校のスキー訓練ってそんなに楽しいのか…？ 普段の生活がキツすぎるためか。 #あおざくら\n",
            "返信先:@G9JNBOH0momKXN7\n",
            "③読売新聞政治部. (2015). 『安全保障関連法: 変わる安保体制』. 信山社. ④森本 敏. (2016).『図説・ゼロからわかる日本の安全保障』. 実務教育. ⑤防衛大学校安全保障学研究会, 武田康裕, 神谷万丈. (2018). 『安全保障学入門』. 亜紀書房.\n",
            "返信先:@OjefChJLrbqC7cu\n",
            "日本と同じでしょう。 防衛大学校では、新入隊員を、上級生がシパくそうです。 ロクでもない連中が将佐官になってきているということです。\n",
            "#元海上自衛隊幹部が解説 防衛大学校の長期勤務学生 youtu.be/DVVn-Jwh3S8?si… #オオカミ少佐\n",
            "@TRPG_TL 防衛大学校からの自衛隊病院勤務にしようかと思ってまして なので元自衛官絡みの人\n",
            "神奈川県本部の会員の皆様には、県版も折り込まれております 【本号２頁建て】 ▷最高裁要請毎月奮闘記８月号　横須賀支部　１面 ▷倉敷民商弾圧事件・神奈川の会　総会開催　２面 ▷防衛大学校いじめ事件　証人尋問終わり、12月に最終弁論　２面 pic.twitter.com/hxWTHERwaC\n",
            "本日９月２０日（水）２１時からプレミア公開ッ！ 防衛大学校の長期勤務学生について解説！ 【元海上自衛隊幹部が解説】防衛大学校の長期勤務学生 youtu.be/DVVn-Jwh3S8?si…\n",
            "異例の告発から2か月…渦中の防衛大学校・等松春夫教授が「決意の声明文」を公開。「防大の未来を見据え、互いに忌憚のない意見を出し合うために…」(集英社オンライン) #Yahooニュース news.yahoo.co.jp/articles/3be68…\n",
            "【防衛大現役教授が実名告発】自殺未遂、脱走、不審火、新入生をカモにした賭博事件…改革急務の危機に瀕する防衛大学校の歪んだ教育(集英社オンライン) #Yahooニュース news.yahoo.co.jp/articles/fdb52…\n",
            "祭の日、防衛大学校受験やん。 受かっても行かないけども\n",
            "防衛大学校に留学生がいるの草\n",
            "マーク・ミリー 国際基督教大学教養学部アーツ・サイエンス学科政治学メジャー卒業→早稲田大学大学院アジア太平洋研究科国際関係学専攻修士課程修了→防衛大学校総合安全保障研究科総合安全保障専攻国際安全保障コース修士課程修了 pic.twitter.com/h9MgqqpvTo\n",
            "【過去実績紹介】 in横須賀⛴ 防衛大学校にてリング設営をしました！ ご依頼ありがとうございました😊✨ ----- お仕事のご依頼はDM、 もしくはこちらのアドレスまで！ info.goodjob.japan@gmail.com #ボクシングリング #リング設営 #カメハウス製作所 #アルミトラス #グッドジョブ #GOODJOB pic.twitter.com/Zhyech6iEX\n",
            "あの最終回の提供クレジットの映像に別班のメンバーに混じって小日向さん出ていたけど、まだ何かあるとしか思えないんだよな。防衛大学校にいた経歴が引っかかるもの。#VIVANT mantan-web.jp/article/202309…\n",
            "先週のマンホールカレンダーは、神奈川県横須賀市。防衛大学校の校章がモチーフ。 inouedoro.blog9.fc2.com/blog-entry-351…\n",
            "現役高校生の時、防衛大学校しか受けなかったくらい肉体派だったんで\n",
            "【Game Result】 ⚪︎筑波大学 10-7 防衛大学校⚫︎ 応援いただきありがとうございました！ 次戦も勝利することができるよう、 精進してまいります。 ▼次戦 🗓️9月30日(土) 🕛12:00 Kick Off 🆚学習院大学 🏟️筑波大学セキショウフィールド pic.twitter.com/LnTgBLwzAJ\n",
            "10月 上旬 神戸に行く予定を立てたが 布引の滝 神戸市立中央図書館（蔵書があるのが 他は防衛大学校、立命館 くらい） という感じで こういうタイミングでしか チェックできない ことが できてきた。\n",
            "【服装自由】じゃない同窓会なんてあるの？防衛大学校とかか？！\n"
          ]
        }
      ]
    },
    {
      "cell_type": "code",
      "source": [],
      "metadata": {
        "id": "kus_a-BFO4Lq"
      },
      "execution_count": null,
      "outputs": []
    }
  ]
}