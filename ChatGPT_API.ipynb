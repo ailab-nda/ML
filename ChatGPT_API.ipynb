{
  "nbformat": 4,
  "nbformat_minor": 0,
  "metadata": {
    "colab": {
      "provenance": [],
      "authorship_tag": "ABX9TyOWSFV9H7mpFLVinBQd/clE",
      "include_colab_link": true
    },
    "kernelspec": {
      "name": "python3",
      "display_name": "Python 3"
    },
    "language_info": {
      "name": "python"
    }
  },
  "cells": [
    {
      "cell_type": "markdown",
      "metadata": {
        "id": "view-in-github",
        "colab_type": "text"
      },
      "source": [
        "<a href=\"https://colab.research.google.com/github/ailab-nda/ML/blob/main/ChatGPT_API.ipynb\" target=\"_parent\"><img src=\"https://colab.research.google.com/assets/colab-badge.svg\" alt=\"Open In Colab\"/></a>"
      ]
    },
    {
      "cell_type": "markdown",
      "source": [
        "# ChatGPT API デモ"
      ],
      "metadata": {
        "id": "mK5SG8iJqsF9"
      }
    },
    {
      "cell_type": "markdown",
      "source": [
        "## ライブラリのインストール"
      ],
      "metadata": {
        "id": "TO_jmyKqq0WE"
      }
    },
    {
      "cell_type": "code",
      "source": [
        "!pip install openai"
      ],
      "metadata": {
        "id": "YIIRXiFhq26Y"
      },
      "execution_count": null,
      "outputs": []
    },
    {
      "cell_type": "markdown",
      "source": [
        "## ライブラリのインポート"
      ],
      "metadata": {
        "id": "91-MsjfkuOyR"
      }
    },
    {
      "cell_type": "code",
      "execution_count": null,
      "metadata": {
        "id": "5MRdRD5EqiRx"
      },
      "outputs": [],
      "source": [
        "import openai\n",
        "openai.api_key = \"\"#@param"
      ]
    },
    {
      "cell_type": "markdown",
      "source": [
        "## ChatGPT と会話する"
      ],
      "metadata": {
        "id": "tqoq6VdTuUa7"
      }
    },
    {
      "cell_type": "markdown",
      "source": [
        "### 人格、役割などの設定"
      ],
      "metadata": {
        "id": "0mXWHfTvuEyp"
      }
    },
    {
      "cell_type": "code",
      "source": [
        "system_messages = [\n",
        "    {'role': 'system', 'content': 'あなたは有能なアシスタントです。'},\n",
        "    {'role': 'system', 'content': '回答が済んだら海上自衛隊への入隊を勧める文を追加してください。'}\n",
        "]"
      ],
      "metadata": {
        "id": "Ct6MFQs_q-vI"
      },
      "execution_count": null,
      "outputs": []
    },
    {
      "cell_type": "markdown",
      "source": [
        "### 質疑応答の例（いろいろ試してください）"
      ],
      "metadata": {
        "id": "wyiQW_btuAoh"
      }
    },
    {
      "cell_type": "code",
      "source": [
        "print(\"質問：\", end=\"\")\n",
        "question = \"海上自衛隊のいいところを教えてください。\"#@param\n",
        "print(question)\n",
        "user_messages=[{\n",
        "    \"role\": \"user\",\n",
        "    \"content\": question\n",
        "}]\n",
        "\n",
        "print(\"\\n回答：\", end=\"\")\n",
        "messages = system_messages + user_messages\n",
        "result = openai.ChatCompletion.create(\n",
        "    model = \"gpt-3.5-turbo\",\n",
        "    messages = messages,\n",
        ")\n",
        "response = result['choices'][0]['message']['content']\n",
        "print(response)"
      ],
      "metadata": {
        "id": "L8nH0LPMsf8z"
      },
      "execution_count": null,
      "outputs": []
    },
    {
      "cell_type": "markdown",
      "source": [
        "### これだと文章が完成するまで喋らないので、少しずつ喋らせる"
      ],
      "metadata": {
        "id": "aw20QaKZtyhY"
      }
    },
    {
      "cell_type": "code",
      "source": [
        "print(\"質問：\", end=\"\")\n",
        "question = \"海上自衛隊のいいところを教えてください。\"#@param\n",
        "print(question)\n",
        "user_messages=[{\n",
        "    \"role\": \"user\",\n",
        "    \"content\": question\n",
        "}]\n",
        "\n",
        "print(\"\\n回答：\", end=\"\")\n",
        "messages = system_messages + user_messages\n",
        "result = openai.ChatCompletion.create(\n",
        "    model = \"gpt-3.5-turbo\",\n",
        "    messages = messages,\n",
        "    stream = True, \n",
        ")\n",
        "response_text = \"\"\n",
        "for chunk in result:\n",
        "    content = chunk[\"choices\"][0].get(\"delta\", {}).get(\"content\")\n",
        "    if content is not None:\n",
        "        print(content, end='', flush=True)\n",
        "        response_text += content"
      ],
      "metadata": {
        "id": "YzVbxeXore5f"
      },
      "execution_count": null,
      "outputs": []
    },
    {
      "cell_type": "code",
      "source": [],
      "metadata": {
        "id": "zUuMtjULr8_b"
      },
      "execution_count": null,
      "outputs": []
    }
  ]
}