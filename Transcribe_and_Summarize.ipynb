{
  "nbformat": 4,
  "nbformat_minor": 0,
  "metadata": {
    "colab": {
      "provenance": [],
      "include_colab_link": true
    },
    "kernelspec": {
      "name": "python3",
      "display_name": "Python 3"
    },
    "language_info": {
      "name": "python"
    }
  },
  "cells": [
    {
      "cell_type": "markdown",
      "metadata": {
        "id": "view-in-github",
        "colab_type": "text"
      },
      "source": [
        "<a href=\"https://colab.research.google.com/github/ailab-nda/ML/blob/main/Transcribe_and_Summarize.ipynb\" target=\"_parent\"><img src=\"https://colab.research.google.com/assets/colab-badge.svg\" alt=\"Open In Colab\"/></a>"
      ]
    },
    {
      "cell_type": "markdown",
      "source": [],
      "metadata": {
        "id": "6LiBb5oxoGw3"
      }
    },
    {
      "cell_type": "code",
      "execution_count": null,
      "metadata": {
        "id": "prGtMCN0n-TX"
      },
      "outputs": [],
      "source": [
        "# OpenAI APIキーの設定\n",
        "openai_key = \"\" #@param {type:\"string\"}"
      ]
    },
    {
      "cell_type": "code",
      "source": [
        "# 議事録音声ファイルのアップロード\n",
        "from google.colab import files\n",
        "uploaded = files.upload()\n",
        "meeting_file_name = list(uploaded.keys())[0]\n",
        "meeting_file_path = \"/content/\" + meeting_file_name"
      ],
      "metadata": {
        "id": "mrmvl2BKoRCh"
      },
      "execution_count": null,
      "outputs": []
    },
    {
      "cell_type": "code",
      "source": [
        "!pip install openai"
      ],
      "metadata": {
        "id": "AjHi8EW5oJt9"
      },
      "execution_count": null,
      "outputs": []
    },
    {
      "cell_type": "code",
      "source": [
        "# 環境変数に設定\n",
        "import os\n",
        "os.environ['OPENAI_API_KEY'] = openai_key"
      ],
      "metadata": {
        "id": "xMoLGHxvoLoC"
      },
      "execution_count": null,
      "outputs": []
    },
    {
      "cell_type": "code",
      "source": [
        "meeting_file_path1 = \"/content/Ota_Ueda_Ijuin.mp3\"\n",
        "meeting_file_path2 = \"/content/Ota_Ueda_Osawa.mp3\"\n",
        "meeting_file_path3 = \"/content/Ota_Ueda_Osawa2.mp3\""
      ],
      "metadata": {
        "id": "2Ug5PiFI7_z4"
      },
      "execution_count": null,
      "outputs": []
    },
    {
      "cell_type": "code",
      "source": [
        "import openai\n",
        "audio_file1 = open(meeting_file_path, \"rb\")\n",
        "transcript1 = openai.Audio.transcribe(\"whisper-1\", audio_file1)"
      ],
      "metadata": {
        "id": "ZqOrBI5PoMFC"
      },
      "execution_count": null,
      "outputs": []
    },
    {
      "cell_type": "code",
      "source": [
        "import openai\n",
        "audio_file2 = open(meeting_file_path2, \"rb\")\n",
        "transcript2 = openai.Audio.transcribe(\"whisper-1\", audio_file2)"
      ],
      "metadata": {
        "id": "k_XD2FUmDjPq"
      },
      "execution_count": null,
      "outputs": []
    },
    {
      "cell_type": "code",
      "source": [
        "import openai\n",
        "audio_file3 = open(meeting_file_path3, \"rb\")\n",
        "transcript3 = openai.Audio.transcribe(\"whisper-1\", audio_file3)"
      ],
      "metadata": {
        "id": "Iv4aUN0mBGC_"
      },
      "execution_count": null,
      "outputs": []
    },
    {
      "cell_type": "code",
      "source": [
        "transcript1.text"
      ],
      "metadata": {
        "id": "oFwN7Oulyxka"
      },
      "execution_count": null,
      "outputs": []
    },
    {
      "cell_type": "code",
      "source": [
        "transcript2.text"
      ],
      "metadata": {
        "id": "gAzBi4ZPBXlT"
      },
      "execution_count": null,
      "outputs": []
    },
    {
      "cell_type": "code",
      "source": [
        "transcript3.text"
      ],
      "metadata": {
        "id": "qgIIVMlbEKBF"
      },
      "execution_count": null,
      "outputs": []
    },
    {
      "cell_type": "code",
      "source": [
        "import openai\n",
        "\n",
        "system_template = \"\"\"会話の書き起こしが渡されます。\n",
        "\n",
        "この会話のサマリーをMarkdown形式で作成してください。サマリーは、以下のような形式で書いてください。\n",
        "\n",
        "- 会話の目的\n",
        "- 会話の内容\n",
        "- 会話の結論\n",
        "\"\"\"\n",
        "\n",
        "completion = openai.ChatCompletion.create(model=\"gpt-3.5-turbo\", messages=[{\"role\": \"system\", \"content\": system_template}, {\"role\": \"user\", \"content\": transcript.text}])\n",
        "response_text = completion.choices[0].message.content"
      ],
      "metadata": {
        "id": "2CAffnJ3y4BA"
      },
      "execution_count": null,
      "outputs": []
    },
    {
      "cell_type": "code",
      "source": [
        "from IPython.display import display, Markdown, Latex\n",
        "\n",
        "display(Markdown(response_text))"
      ],
      "metadata": {
        "id": "UZZ8cFb8zMuA"
      },
      "execution_count": null,
      "outputs": []
    },
    {
      "cell_type": "code",
      "source": [
        "import openai\n",
        "\n",
        "system_template = \"\"\"相談の書き起こしが渡されます。\n",
        "\n",
        "この相談のサマリーをMarkdown形式で作成してください。サマリーは、以下のような形式で書いてください。\n",
        "\n",
        "- 相談の目的\n",
        "- 相談の内容\n",
        "- 相談への回答\n",
        "\"\"\"\n",
        "\n",
        "completion = openai.ChatCompletion.create(model=\"gpt-3.5-turbo\", messages=[{\"role\": \"system\", \"content\": system_template}, {\"role\": \"user\", \"content\": transcript2.text}])\n",
        "response_text = completion.choices[0].message.content"
      ],
      "metadata": {
        "id": "JqOc_Cko_18C"
      },
      "execution_count": null,
      "outputs": []
    },
    {
      "cell_type": "code",
      "source": [
        "from IPython.display import display, Markdown, Latex\n",
        "\n",
        "display(Markdown(response_text))"
      ],
      "metadata": {
        "id": "yuC0lwBtCOd3"
      },
      "execution_count": null,
      "outputs": []
    },
    {
      "cell_type": "code",
      "source": [
        "import openai\n",
        "\n",
        "system_template = \"\"\"クレームの書き起こしが渡されます。\n",
        "\n",
        "このクレームのサマリーをMarkdown形式で作成してください。サマリーは、以下のような形式で書いてください。\n",
        "\n",
        "- 誰が誰にクレームを入れているか\n",
        "- クレームの内容\n",
        "- クレームに対する対処\n",
        "\"\"\"\n",
        "\n",
        "completion = openai.ChatCompletion.create(model=\"gpt-3.5-turbo\", messages=[{\"role\": \"system\", \"content\": system_template}, {\"role\": \"user\", \"content\": transcript3.text}])\n",
        "response_text = completion.choices[0].message.content"
      ],
      "metadata": {
        "id": "pouP5xTKCanO"
      },
      "execution_count": null,
      "outputs": []
    },
    {
      "cell_type": "code",
      "source": [
        "from IPython.display import display, Markdown, Latex\n",
        "\n",
        "display(Markdown(response_text))"
      ],
      "metadata": {
        "id": "xJd7i-OYETXg"
      },
      "execution_count": null,
      "outputs": []
    }
  ]
}