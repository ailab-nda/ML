{
  "nbformat": 4,
  "nbformat_minor": 0,
  "metadata": {
    "colab": {
      "provenance": [],
      "authorship_tag": "ABX9TyOeh/RaqVXiSTnyvDz3UZaB",
      "include_colab_link": true
    },
    "kernelspec": {
      "name": "python3",
      "display_name": "Python 3"
    },
    "language_info": {
      "name": "python"
    },
    "accelerator": "GPU",
    "gpuClass": "standard"
  },
  "cells": [
    {
      "cell_type": "markdown",
      "metadata": {
        "id": "view-in-github",
        "colab_type": "text"
      },
      "source": [
        "<a href=\"https://colab.research.google.com/github/ailab-nda/ML/blob/main/yolov7.ipynb\" target=\"_parent\"><img src=\"https://colab.research.google.com/assets/colab-badge.svg\" alt=\"Open In Colab\"/></a>"
      ]
    },
    {
      "cell_type": "markdown",
      "source": [
        "# 物体認識 --- Yolo v7 の実行"
      ],
      "metadata": {
        "id": "ycth5sE_rlGn"
      }
    },
    {
      "cell_type": "markdown",
      "source": [
        "## 1. プログラムの入手 (githubより）。"
      ],
      "metadata": {
        "id": "OiUV_KKOunUh"
      }
    },
    {
      "cell_type": "code",
      "execution_count": null,
      "metadata": {
        "id": "tLOrZ8q2qfr7"
      },
      "outputs": [],
      "source": [
        "!git clone https://github.com/WongKinYiu/yolov7"
      ]
    },
    {
      "cell_type": "markdown",
      "source": [
        "## 2. 必要なライブラリのインストール"
      ],
      "metadata": {
        "id": "7GFCsxEEuv6D"
      }
    },
    {
      "cell_type": "code",
      "source": [
        "%cd yolov7\n",
        "!pip install -r requirements.txt"
      ],
      "metadata": {
        "id": "eKn4rnTKql_C"
      },
      "execution_count": null,
      "outputs": []
    },
    {
      "cell_type": "markdown",
      "source": [
        "## 3. 学習済みデータのダウンロード"
      ],
      "metadata": {
        "id": "5ho4YHDUu-j8"
      }
    },
    {
      "cell_type": "code",
      "source": [
        "!wget https://github.com/WongKinYiu/yolov7/releases/download/v0.1/yolov7-e6e.pt"
      ],
      "metadata": {
        "id": "p5eq66Fiqw8y"
      },
      "execution_count": null,
      "outputs": []
    },
    {
      "cell_type": "markdown",
      "source": [
        "## 4. 物体認識\n",
        "手順：<br>\n",
        "(1) 左のファイルパネルの yolov7/inference/images に認識させたいファイルを置く置く <br>\n",
        "(2) detect.py を実行実行 <br>\n",
        "(3) 認識結果が yolov7/runs/exp* 保存されているので確認する\n"
      ],
      "metadata": {
        "id": "0qsGb96MvCqN"
      }
    },
    {
      "cell_type": "markdown",
      "source": [
        "### (1) 写真からの識別\n",
        "\n",
        "- source で認識させたいファイルが入ったフォルダやファイルそのものを指定する"
      ],
      "metadata": {
        "id": "b0qEyHNovE61"
      }
    },
    {
      "cell_type": "code",
      "source": [
        "!python detect.py --source inference/images/ --weights yolov7-e6e.pt --conf 0.25 --img-size 1280 --device 0"
      ],
      "metadata": {
        "id": "bY97S59Xq5F_"
      },
      "execution_count": null,
      "outputs": []
    },
    {
      "cell_type": "markdown",
      "source": [
        "### (2) 動画からの識別"
      ],
      "metadata": {
        "id": "atHJ9hsCvLLk"
      }
    },
    {
      "cell_type": "markdown",
      "source": [
        "- source で動画ファイル自体のパスを指定する"
      ],
      "metadata": {
        "id": "PnZk3E5Qxa_f"
      }
    },
    {
      "cell_type": "code",
      "source": [
        "!python detect.py --source inference/images/test.mp4 --weights yolov7-e6e.pt --conf 0.25 --img-size 1280 --device 0"
      ],
      "metadata": {
        "id": "bWGNYf0gq9v2"
      },
      "execution_count": null,
      "outputs": []
    }
  ]
}