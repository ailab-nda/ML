{
  "nbformat": 4,
  "nbformat_minor": 0,
  "metadata": {
    "colab": {
      "name": "情報認識論2021.ipynb",
      "provenance": [],
      "authorship_tag": "ABX9TyMyLRlH61BGcFc8rsj/6xlI",
      "include_colab_link": true
    },
    "kernelspec": {
      "name": "python3",
      "display_name": "Python 3"
    },
    "language_info": {
      "name": "python"
    },
    "accelerator": "GPU"
  },
  "cells": [
    {
      "cell_type": "markdown",
      "metadata": {
        "id": "view-in-github",
        "colab_type": "text"
      },
      "source": [
        "<a href=\"https://colab.research.google.com/github/ailab-nda/NLP/blob/main/%E6%83%85%E5%A0%B1%E8%AA%8D%E8%AD%98%E8%AB%962021_%E8%A7%A3%E7%AD%94%E3%81%82%E3%82%8A.ipynb\" target=\"_parent\"><img src=\"https://colab.research.google.com/assets/colab-badge.svg\" alt=\"Open In Colab\"/></a>"
      ]
    },
    {
      "cell_type": "markdown",
      "source": [
        "# 情報認識論試験問題\n",
        "\n",
        "以下の問題について解答し、結果を提出してください。なお、解答については文章はテキストセルに、プログラムに関してはコードセルに記入すること。また、結果の提出については、この画面の左上の「ファイル」メニュー内にある「ダウンロード」->「.ipynbをダウンロード」で自分のマシンにダウンロードできるので、それを各自の学内メールに添付してください。"
      ],
      "metadata": {
        "id": "6cmZnSwSLFS3"
      }
    },
    {
      "cell_type": "markdown",
      "source": [
        "#1. ニューラルネット"
      ],
      "metadata": {
        "id": "ODyLb4xYbntN"
      }
    },
    {
      "cell_type": "markdown",
      "source": [
        "(1) ニューラルネットを学習させる際に用いられる「誤差逆伝播法」について説明せよ。"
      ],
      "metadata": {
        "id": "YLIIJrSYnOqk"
      }
    },
    {
      "cell_type": "markdown",
      "source": [
        "【解答欄】"
      ],
      "metadata": {
        "id": "KZjkG9Kjgah7"
      }
    },
    {
      "cell_type": "markdown",
      "source": [
        "(2) 誤差逆伝播法では、微分操作が必要となる。以下のネットワークを考える。\n",
        "\n",
        "- 入力層：$x = (x_1, x_2, ..., x_i, ..., x_n)$\n",
        "- 第１層：$y = x + 2$\n",
        "- 第２層：$z = y \\odot y \\times 3$ (注：$\\odot$ はアダマール積（成分ごとの積）)\n",
        "- 出力層：$out = mean(z)$ （$z_i$の平均値）\n",
        "\n",
        "このとき、出力値に対する入力値の微分\n",
        "$\\frac{\\partial}{\\partial x_{i}}out$ を計算せよ。"
      ],
      "metadata": {
        "id": "77dp7gAXnRBb"
      }
    },
    {
      "cell_type": "markdown",
      "source": [
        "【解答欄】\n",
        "$$ \\frac{\\partial}{\\partial x_{i}}out = \\frac{3}{2}(x_i + 2) $$"
      ],
      "metadata": {
        "id": "OjLlN_fTqz8b"
      }
    },
    {
      "cell_type": "markdown",
      "source": [
        "(3) $x = (1, 2, 3, 4)$ となった時の、$\\frac{\\partial}{\\partial x}out$ を求めよ。\n",
        "\n",
        "\n",
        "\n"
      ],
      "metadata": {
        "id": "phtg8M7krqms"
      }
    },
    {
      "cell_type": "markdown",
      "source": [
        "【解答欄】\n",
        "$$\n",
        "(\\frac{\\partial}{\\partial x_1}out, \\frac{\\partial}{\\partial x_2}out, \\frac{\\partial}{\\partial x_3}out, \\frac{\\partial}{\\partial x_4}out) = (9/2, 12/2, 15/2, 18/2) = (4.5, 6, 7.5, 9)\n",
        "$$"
      ],
      "metadata": {
        "id": "GsNAWVVjs2Qa"
      }
    },
    {
      "cell_type": "markdown",
      "source": [
        "# 2. Pytorch"
      ],
      "metadata": {
        "id": "qL0toXT4gh5p"
      }
    },
    {
      "cell_type": "markdown",
      "source": [
        "(1) 本講義では、ニューラルネットの実装に Pytorch を用いたが、そこで用いられる基本的なデータ構造に「テンソル」がある。テンソルとはどのようなもので、ニューラルネットにおいてはどのように使われるかを説明せよ。"
      ],
      "metadata": {
        "id": "sO9UUc6-jlIN"
      }
    },
    {
      "cell_type": "markdown",
      "source": [
        "【解答欄】"
      ],
      "metadata": {
        "id": "OqNO6JVXhJxX"
      }
    },
    {
      "cell_type": "markdown",
      "source": [
        "(2) 2 x 2 のリスト [[1, 2], [3, 4]] からテンソルを作り、x という変数に代入せよ。\n",
        "\n",
        "（ヒント：テンソルの作成には、torch.Tensor() を用いる）"
      ],
      "metadata": {
        "id": "KGJ5jPPDjoKB"
      }
    },
    {
      "cell_type": "code",
      "source": [
        "import torch\n",
        "\n",
        "l = [[1, 2], [3, 4]]         # ここにリストを書く\n",
        "print(\"list: \", l)\n",
        "\n",
        "x = torch.Tensor(l)         # ここでテンソルに変換\n",
        "print(\"x: \", x)"
      ],
      "metadata": {
        "colab": {
          "base_uri": "https://localhost:8080/"
        },
        "id": "ngbYUPAhkJfR",
        "outputId": "c6aaa57f-bb75-4c05-88b0-eec51584c2d4"
      },
      "execution_count": null,
      "outputs": [
        {
          "output_type": "stream",
          "name": "stdout",
          "text": [
            "list:  [[1, 2], [3, 4]]\n",
            "x:  tensor([[1., 2.],\n",
            "        [3., 4.]])\n"
          ]
        }
      ]
    },
    {
      "cell_type": "markdown",
      "source": [
        "Pytorch には微分を自動で行なってくれるため、上記の誤差逆伝播法が簡単に実行できる。そのためには、テンソルの requires_grad 属性を True にしておく必要がある。\n"
      ],
      "metadata": {
        "id": "akQe4m2rMfV6"
      }
    },
    {
      "cell_type": "code",
      "execution_count": null,
      "metadata": {
        "id": "i14tjo3KK94e"
      },
      "outputs": [],
      "source": [
        "x.requires_grad = True # これはそのまま実行してください。"
      ]
    },
    {
      "cell_type": "markdown",
      "source": [
        "(3) 問１でのネットワークをテンソル x を用いて構築せよ。"
      ],
      "metadata": {
        "id": "lTNZhb36t56a"
      }
    },
    {
      "cell_type": "code",
      "source": [
        "y = x + 2# ここを自分で埋める\n",
        "z = y * y * 3# ここも自分で埋める埋める\n",
        "out = z.mean() # ここも自分で埋める"
      ],
      "metadata": {
        "id": "GjqF9v1dQyKk"
      },
      "execution_count": null,
      "outputs": []
    },
    {
      "cell_type": "markdown",
      "source": [
        "(4) backword()関数を用いて、out に対する x の微分値を求めよ。"
      ],
      "metadata": {
        "id": "e2-lznBqutNZ"
      }
    },
    {
      "cell_type": "code",
      "source": [
        "out.backward() # これで逆伝播を行う\n",
        "x.grad # x の grad 属性に微分値が格納される"
      ],
      "metadata": {
        "colab": {
          "base_uri": "https://localhost:8080/"
        },
        "id": "TnJlrRglQ6qj",
        "outputId": "70d74e7b-9a92-479f-cfec-47e1d3a01afd"
      },
      "execution_count": null,
      "outputs": [
        {
          "output_type": "execute_result",
          "data": {
            "text/plain": [
              "tensor([[4.5000, 6.0000],\n",
              "        [7.5000, 9.0000]])"
            ]
          },
          "metadata": {},
          "execution_count": 5
        }
      ]
    },
    {
      "cell_type": "markdown",
      "source": [
        "# 3. Pytorch を用いた実例\n",
        "\n",
        "### ブランド（Brand）, 型（Style）, 生産国（Country）から美味しさ（Stars）を予測する。\n",
        "\n",
        "前置きが長いです。問題は一番下にあります。"
      ],
      "metadata": {
        "id": "WD5ozuKQwTbg"
      }
    },
    {
      "cell_type": "code",
      "source": [
        "# ライブラリのインポート\n",
        "import numpy as np\n",
        "import pandas as pd \n",
        "import matplotlib.pyplot as plt\n",
        "import seaborn as sns \n",
        " \n",
        "# PyTorchのインポート\n",
        "import torch \n",
        "import torch.nn as nn\n",
        " \n",
        "# 評価指標（Scikit-learn）\n",
        "from sklearn.metrics import mean_squared_error"
      ],
      "metadata": {
        "id": "HPa0DaEnQ71K"
      },
      "execution_count": null,
      "outputs": []
    },
    {
      "cell_type": "markdown",
      "source": [
        "データの取得（ラーメンデータベース）"
      ],
      "metadata": {
        "id": "Z0PAMqwhyPo1"
      }
    },
    {
      "cell_type": "code",
      "source": [
        "!curl https://raw.githubusercontent.com/ailab-nda/NLP/main/ramen-ratings.csv > ramen-ratings.csv"
      ],
      "metadata": {
        "colab": {
          "base_uri": "https://localhost:8080/"
        },
        "id": "ZMXT_xbsx6Ea",
        "outputId": "4de8a0c4-cf23-46a3-895c-fed303932a03"
      },
      "execution_count": null,
      "outputs": [
        {
          "output_type": "stream",
          "name": "stdout",
          "text": [
            "  % Total    % Received % Xferd  Average Speed   Time    Time     Time  Current\n",
            "                                 Dload  Upload   Total   Spent    Left  Speed\n",
            "\r  0     0    0     0    0     0      0      0 --:--:-- --:--:-- --:--:--     0\r100  154k  100  154k    0     0   844k      0 --:--:-- --:--:-- --:--:--  844k\n"
          ]
        }
      ]
    },
    {
      "cell_type": "markdown",
      "source": [
        "ダウンロードしたデータの読み込み"
      ],
      "metadata": {
        "id": "_2cTxvXLysFE"
      }
    },
    {
      "cell_type": "code",
      "source": [
        "ramen = pd.read_csv('ramen-ratings.csv')"
      ],
      "metadata": {
        "id": "aTNjjDLgRySG"
      },
      "execution_count": null,
      "outputs": []
    },
    {
      "cell_type": "markdown",
      "source": [
        "###データの確認\n",
        "（最初の5行を表示）"
      ],
      "metadata": {
        "id": "kG3qOIKKyzic"
      }
    },
    {
      "cell_type": "code",
      "source": [
        "ramen.head()"
      ],
      "metadata": {
        "colab": {
          "base_uri": "https://localhost:8080/",
          "height": 316
        },
        "id": "8tpWlNAnyUfr",
        "outputId": "17318d2f-259d-4b2a-81ba-a5cd78fb3fbe"
      },
      "execution_count": null,
      "outputs": [
        {
          "output_type": "execute_result",
          "data": {
            "text/html": [
              "\n",
              "  <div id=\"df-063d7370-641c-4dfe-bf7a-03ca66fe60de\">\n",
              "    <div class=\"colab-df-container\">\n",
              "      <div>\n",
              "<style scoped>\n",
              "    .dataframe tbody tr th:only-of-type {\n",
              "        vertical-align: middle;\n",
              "    }\n",
              "\n",
              "    .dataframe tbody tr th {\n",
              "        vertical-align: top;\n",
              "    }\n",
              "\n",
              "    .dataframe thead th {\n",
              "        text-align: right;\n",
              "    }\n",
              "</style>\n",
              "<table border=\"1\" class=\"dataframe\">\n",
              "  <thead>\n",
              "    <tr style=\"text-align: right;\">\n",
              "      <th></th>\n",
              "      <th>Review #</th>\n",
              "      <th>Brand</th>\n",
              "      <th>Variety</th>\n",
              "      <th>Style</th>\n",
              "      <th>Country</th>\n",
              "      <th>Stars</th>\n",
              "      <th>Top Ten</th>\n",
              "    </tr>\n",
              "  </thead>\n",
              "  <tbody>\n",
              "    <tr>\n",
              "      <th>0</th>\n",
              "      <td>2580</td>\n",
              "      <td>New Touch</td>\n",
              "      <td>T's Restaurant Tantanmen</td>\n",
              "      <td>Cup</td>\n",
              "      <td>Japan</td>\n",
              "      <td>3.75</td>\n",
              "      <td>NaN</td>\n",
              "    </tr>\n",
              "    <tr>\n",
              "      <th>1</th>\n",
              "      <td>2579</td>\n",
              "      <td>Just Way</td>\n",
              "      <td>Noodles Spicy Hot Sesame Spicy Hot Sesame Guan...</td>\n",
              "      <td>Pack</td>\n",
              "      <td>Taiwan</td>\n",
              "      <td>1</td>\n",
              "      <td>NaN</td>\n",
              "    </tr>\n",
              "    <tr>\n",
              "      <th>2</th>\n",
              "      <td>2578</td>\n",
              "      <td>Nissin</td>\n",
              "      <td>Cup Noodles Chicken Vegetable</td>\n",
              "      <td>Cup</td>\n",
              "      <td>USA</td>\n",
              "      <td>2.25</td>\n",
              "      <td>NaN</td>\n",
              "    </tr>\n",
              "    <tr>\n",
              "      <th>3</th>\n",
              "      <td>2577</td>\n",
              "      <td>Wei Lih</td>\n",
              "      <td>GGE Ramen Snack Tomato Flavor</td>\n",
              "      <td>Pack</td>\n",
              "      <td>Taiwan</td>\n",
              "      <td>2.75</td>\n",
              "      <td>NaN</td>\n",
              "    </tr>\n",
              "    <tr>\n",
              "      <th>4</th>\n",
              "      <td>2576</td>\n",
              "      <td>Ching's Secret</td>\n",
              "      <td>Singapore Curry</td>\n",
              "      <td>Pack</td>\n",
              "      <td>India</td>\n",
              "      <td>3.75</td>\n",
              "      <td>NaN</td>\n",
              "    </tr>\n",
              "  </tbody>\n",
              "</table>\n",
              "</div>\n",
              "      <button class=\"colab-df-convert\" onclick=\"convertToInteractive('df-063d7370-641c-4dfe-bf7a-03ca66fe60de')\"\n",
              "              title=\"Convert this dataframe to an interactive table.\"\n",
              "              style=\"display:none;\">\n",
              "        \n",
              "  <svg xmlns=\"http://www.w3.org/2000/svg\" height=\"24px\"viewBox=\"0 0 24 24\"\n",
              "       width=\"24px\">\n",
              "    <path d=\"M0 0h24v24H0V0z\" fill=\"none\"/>\n",
              "    <path d=\"M18.56 5.44l.94 2.06.94-2.06 2.06-.94-2.06-.94-.94-2.06-.94 2.06-2.06.94zm-11 1L8.5 8.5l.94-2.06 2.06-.94-2.06-.94L8.5 2.5l-.94 2.06-2.06.94zm10 10l.94 2.06.94-2.06 2.06-.94-2.06-.94-.94-2.06-.94 2.06-2.06.94z\"/><path d=\"M17.41 7.96l-1.37-1.37c-.4-.4-.92-.59-1.43-.59-.52 0-1.04.2-1.43.59L10.3 9.45l-7.72 7.72c-.78.78-.78 2.05 0 2.83L4 21.41c.39.39.9.59 1.41.59.51 0 1.02-.2 1.41-.59l7.78-7.78 2.81-2.81c.8-.78.8-2.07 0-2.86zM5.41 20L4 18.59l7.72-7.72 1.47 1.35L5.41 20z\"/>\n",
              "  </svg>\n",
              "      </button>\n",
              "      \n",
              "  <style>\n",
              "    .colab-df-container {\n",
              "      display:flex;\n",
              "      flex-wrap:wrap;\n",
              "      gap: 12px;\n",
              "    }\n",
              "\n",
              "    .colab-df-convert {\n",
              "      background-color: #E8F0FE;\n",
              "      border: none;\n",
              "      border-radius: 50%;\n",
              "      cursor: pointer;\n",
              "      display: none;\n",
              "      fill: #1967D2;\n",
              "      height: 32px;\n",
              "      padding: 0 0 0 0;\n",
              "      width: 32px;\n",
              "    }\n",
              "\n",
              "    .colab-df-convert:hover {\n",
              "      background-color: #E2EBFA;\n",
              "      box-shadow: 0px 1px 2px rgba(60, 64, 67, 0.3), 0px 1px 3px 1px rgba(60, 64, 67, 0.15);\n",
              "      fill: #174EA6;\n",
              "    }\n",
              "\n",
              "    [theme=dark] .colab-df-convert {\n",
              "      background-color: #3B4455;\n",
              "      fill: #D2E3FC;\n",
              "    }\n",
              "\n",
              "    [theme=dark] .colab-df-convert:hover {\n",
              "      background-color: #434B5C;\n",
              "      box-shadow: 0px 1px 3px 1px rgba(0, 0, 0, 0.15);\n",
              "      filter: drop-shadow(0px 1px 2px rgba(0, 0, 0, 0.3));\n",
              "      fill: #FFFFFF;\n",
              "    }\n",
              "  </style>\n",
              "\n",
              "      <script>\n",
              "        const buttonEl =\n",
              "          document.querySelector('#df-063d7370-641c-4dfe-bf7a-03ca66fe60de button.colab-df-convert');\n",
              "        buttonEl.style.display =\n",
              "          google.colab.kernel.accessAllowed ? 'block' : 'none';\n",
              "\n",
              "        async function convertToInteractive(key) {\n",
              "          const element = document.querySelector('#df-063d7370-641c-4dfe-bf7a-03ca66fe60de');\n",
              "          const dataTable =\n",
              "            await google.colab.kernel.invokeFunction('convertToInteractive',\n",
              "                                                     [key], {});\n",
              "          if (!dataTable) return;\n",
              "\n",
              "          const docLinkHtml = 'Like what you see? Visit the ' +\n",
              "            '<a target=\"_blank\" href=https://colab.research.google.com/notebooks/data_table.ipynb>data table notebook</a>'\n",
              "            + ' to learn more about interactive tables.';\n",
              "          element.innerHTML = '';\n",
              "          dataTable['output_type'] = 'display_data';\n",
              "          await google.colab.output.renderOutput(dataTable, element);\n",
              "          const docLink = document.createElement('div');\n",
              "          docLink.innerHTML = docLinkHtml;\n",
              "          element.appendChild(docLink);\n",
              "        }\n",
              "      </script>\n",
              "    </div>\n",
              "  </div>\n",
              "  "
            ],
            "text/plain": [
              "   Review #           Brand  ... Stars Top Ten\n",
              "0      2580       New Touch  ...  3.75     NaN\n",
              "1      2579        Just Way  ...     1     NaN\n",
              "2      2578          Nissin  ...  2.25     NaN\n",
              "3      2577         Wei Lih  ...  2.75     NaN\n",
              "4      2576  Ching's Secret  ...  3.75     NaN\n",
              "\n",
              "[5 rows x 7 columns]"
            ]
          },
          "metadata": {},
          "execution_count": 10
        }
      ]
    },
    {
      "cell_type": "markdown",
      "source": [
        "データのサイズ確認"
      ],
      "metadata": {
        "id": "UKmy25Sqy57g"
      }
    },
    {
      "cell_type": "code",
      "source": [
        "ramen.shape"
      ],
      "metadata": {
        "colab": {
          "base_uri": "https://localhost:8080/"
        },
        "id": "B4KWnlCVyYuz",
        "outputId": "9bce08a9-a1fc-4c26-90bc-21030888a1bd"
      },
      "execution_count": null,
      "outputs": [
        {
          "output_type": "execute_result",
          "data": {
            "text/plain": [
              "(2580, 7)"
            ]
          },
          "metadata": {},
          "execution_count": 11
        }
      ]
    },
    {
      "cell_type": "markdown",
      "source": [
        "ラーメンの国別登録数の確認"
      ],
      "metadata": {
        "id": "P8q7tYg9y8U3"
      }
    },
    {
      "cell_type": "code",
      "source": [
        "ramen['Country'].value_counts()[0:10]"
      ],
      "metadata": {
        "colab": {
          "base_uri": "https://localhost:8080/"
        },
        "id": "5RVnm9bCydQz",
        "outputId": "88e08a0d-b6d6-4f3b-944a-c584eb0d11c7"
      },
      "execution_count": null,
      "outputs": [
        {
          "output_type": "execute_result",
          "data": {
            "text/plain": [
              "Japan          352\n",
              "USA            323\n",
              "South Korea    309\n",
              "Taiwan         224\n",
              "Thailand       191\n",
              "China          169\n",
              "Malaysia       156\n",
              "Hong Kong      137\n",
              "Indonesia      126\n",
              "Singapore      109\n",
              "Name: Country, dtype: int64"
            ]
          },
          "metadata": {},
          "execution_count": 14
        }
      ]
    },
    {
      "cell_type": "markdown",
      "source": [
        "未評価（Unrated）のラーメンを除外"
      ],
      "metadata": {
        "id": "l53BO5tdzE-p"
      }
    },
    {
      "cell_type": "code",
      "source": [
        "mask = ramen.index[ramen['Stars'] == 'Unrated']\n",
        "ramen = ramen.drop(index = mask)\n",
        "ramen = ramen.reset_index(drop=True)\n",
        "ramen.shape"
      ],
      "metadata": {
        "colab": {
          "base_uri": "https://localhost:8080/"
        },
        "id": "fBSz-_0iyhp8",
        "outputId": "3c177459-c415-4c79-b94b-a3885ef9caf9"
      },
      "execution_count": null,
      "outputs": [
        {
          "output_type": "execute_result",
          "data": {
            "text/plain": [
              "(2577, 7)"
            ]
          },
          "metadata": {},
          "execution_count": 15
        }
      ]
    },
    {
      "cell_type": "markdown",
      "source": [
        "データの変換"
      ],
      "metadata": {
        "id": "UdaOYRMjzR-8"
      }
    },
    {
      "cell_type": "code",
      "source": [
        "# Starsのデータ型を確認\n",
        "print(ramen['Stars'].dtype)\n",
        " \n",
        "# float型へ変換\n",
        "ramen['Stars'] = ramen['Stars'].astype(float)\n",
        " \n",
        "# 改めてデータ型を確認\n",
        "print(ramen['Stars'].dtype)"
      ],
      "metadata": {
        "colab": {
          "base_uri": "https://localhost:8080/"
        },
        "id": "PExsHni3zJPU",
        "outputId": "39bc50f3-a6bf-46c5-c513-d96560e015be"
      },
      "execution_count": null,
      "outputs": [
        {
          "output_type": "stream",
          "name": "stdout",
          "text": [
            "object\n",
            "float64\n"
          ]
        }
      ]
    },
    {
      "cell_type": "markdown",
      "source": [
        "不要な列の削除"
      ],
      "metadata": {
        "id": "XTBPJNwhzeue"
      }
    },
    {
      "cell_type": "code",
      "source": [
        "ramen = ramen.drop(columns=['Review #', 'Top Ten', 'Variety'])\n",
        "ramen.head()"
      ],
      "metadata": {
        "colab": {
          "base_uri": "https://localhost:8080/",
          "height": 204
        },
        "id": "XiyD7I1Szbcy",
        "outputId": "567fc411-d1aa-4fce-fe11-ceeeec5cd7cc"
      },
      "execution_count": null,
      "outputs": [
        {
          "output_type": "execute_result",
          "data": {
            "text/html": [
              "\n",
              "  <div id=\"df-c15e34e9-b314-457a-8f0e-46388ac691ba\">\n",
              "    <div class=\"colab-df-container\">\n",
              "      <div>\n",
              "<style scoped>\n",
              "    .dataframe tbody tr th:only-of-type {\n",
              "        vertical-align: middle;\n",
              "    }\n",
              "\n",
              "    .dataframe tbody tr th {\n",
              "        vertical-align: top;\n",
              "    }\n",
              "\n",
              "    .dataframe thead th {\n",
              "        text-align: right;\n",
              "    }\n",
              "</style>\n",
              "<table border=\"1\" class=\"dataframe\">\n",
              "  <thead>\n",
              "    <tr style=\"text-align: right;\">\n",
              "      <th></th>\n",
              "      <th>Brand</th>\n",
              "      <th>Style</th>\n",
              "      <th>Country</th>\n",
              "      <th>Stars</th>\n",
              "    </tr>\n",
              "  </thead>\n",
              "  <tbody>\n",
              "    <tr>\n",
              "      <th>0</th>\n",
              "      <td>New Touch</td>\n",
              "      <td>Cup</td>\n",
              "      <td>Japan</td>\n",
              "      <td>3.75</td>\n",
              "    </tr>\n",
              "    <tr>\n",
              "      <th>1</th>\n",
              "      <td>Just Way</td>\n",
              "      <td>Pack</td>\n",
              "      <td>Taiwan</td>\n",
              "      <td>1.00</td>\n",
              "    </tr>\n",
              "    <tr>\n",
              "      <th>2</th>\n",
              "      <td>Nissin</td>\n",
              "      <td>Cup</td>\n",
              "      <td>USA</td>\n",
              "      <td>2.25</td>\n",
              "    </tr>\n",
              "    <tr>\n",
              "      <th>3</th>\n",
              "      <td>Wei Lih</td>\n",
              "      <td>Pack</td>\n",
              "      <td>Taiwan</td>\n",
              "      <td>2.75</td>\n",
              "    </tr>\n",
              "    <tr>\n",
              "      <th>4</th>\n",
              "      <td>Ching's Secret</td>\n",
              "      <td>Pack</td>\n",
              "      <td>India</td>\n",
              "      <td>3.75</td>\n",
              "    </tr>\n",
              "  </tbody>\n",
              "</table>\n",
              "</div>\n",
              "      <button class=\"colab-df-convert\" onclick=\"convertToInteractive('df-c15e34e9-b314-457a-8f0e-46388ac691ba')\"\n",
              "              title=\"Convert this dataframe to an interactive table.\"\n",
              "              style=\"display:none;\">\n",
              "        \n",
              "  <svg xmlns=\"http://www.w3.org/2000/svg\" height=\"24px\"viewBox=\"0 0 24 24\"\n",
              "       width=\"24px\">\n",
              "    <path d=\"M0 0h24v24H0V0z\" fill=\"none\"/>\n",
              "    <path d=\"M18.56 5.44l.94 2.06.94-2.06 2.06-.94-2.06-.94-.94-2.06-.94 2.06-2.06.94zm-11 1L8.5 8.5l.94-2.06 2.06-.94-2.06-.94L8.5 2.5l-.94 2.06-2.06.94zm10 10l.94 2.06.94-2.06 2.06-.94-2.06-.94-.94-2.06-.94 2.06-2.06.94z\"/><path d=\"M17.41 7.96l-1.37-1.37c-.4-.4-.92-.59-1.43-.59-.52 0-1.04.2-1.43.59L10.3 9.45l-7.72 7.72c-.78.78-.78 2.05 0 2.83L4 21.41c.39.39.9.59 1.41.59.51 0 1.02-.2 1.41-.59l7.78-7.78 2.81-2.81c.8-.78.8-2.07 0-2.86zM5.41 20L4 18.59l7.72-7.72 1.47 1.35L5.41 20z\"/>\n",
              "  </svg>\n",
              "      </button>\n",
              "      \n",
              "  <style>\n",
              "    .colab-df-container {\n",
              "      display:flex;\n",
              "      flex-wrap:wrap;\n",
              "      gap: 12px;\n",
              "    }\n",
              "\n",
              "    .colab-df-convert {\n",
              "      background-color: #E8F0FE;\n",
              "      border: none;\n",
              "      border-radius: 50%;\n",
              "      cursor: pointer;\n",
              "      display: none;\n",
              "      fill: #1967D2;\n",
              "      height: 32px;\n",
              "      padding: 0 0 0 0;\n",
              "      width: 32px;\n",
              "    }\n",
              "\n",
              "    .colab-df-convert:hover {\n",
              "      background-color: #E2EBFA;\n",
              "      box-shadow: 0px 1px 2px rgba(60, 64, 67, 0.3), 0px 1px 3px 1px rgba(60, 64, 67, 0.15);\n",
              "      fill: #174EA6;\n",
              "    }\n",
              "\n",
              "    [theme=dark] .colab-df-convert {\n",
              "      background-color: #3B4455;\n",
              "      fill: #D2E3FC;\n",
              "    }\n",
              "\n",
              "    [theme=dark] .colab-df-convert:hover {\n",
              "      background-color: #434B5C;\n",
              "      box-shadow: 0px 1px 3px 1px rgba(0, 0, 0, 0.15);\n",
              "      filter: drop-shadow(0px 1px 2px rgba(0, 0, 0, 0.3));\n",
              "      fill: #FFFFFF;\n",
              "    }\n",
              "  </style>\n",
              "\n",
              "      <script>\n",
              "        const buttonEl =\n",
              "          document.querySelector('#df-c15e34e9-b314-457a-8f0e-46388ac691ba button.colab-df-convert');\n",
              "        buttonEl.style.display =\n",
              "          google.colab.kernel.accessAllowed ? 'block' : 'none';\n",
              "\n",
              "        async function convertToInteractive(key) {\n",
              "          const element = document.querySelector('#df-c15e34e9-b314-457a-8f0e-46388ac691ba');\n",
              "          const dataTable =\n",
              "            await google.colab.kernel.invokeFunction('convertToInteractive',\n",
              "                                                     [key], {});\n",
              "          if (!dataTable) return;\n",
              "\n",
              "          const docLinkHtml = 'Like what you see? Visit the ' +\n",
              "            '<a target=\"_blank\" href=https://colab.research.google.com/notebooks/data_table.ipynb>data table notebook</a>'\n",
              "            + ' to learn more about interactive tables.';\n",
              "          element.innerHTML = '';\n",
              "          dataTable['output_type'] = 'display_data';\n",
              "          await google.colab.output.renderOutput(dataTable, element);\n",
              "          const docLink = document.createElement('div');\n",
              "          docLink.innerHTML = docLinkHtml;\n",
              "          element.appendChild(docLink);\n",
              "        }\n",
              "      </script>\n",
              "    </div>\n",
              "  </div>\n",
              "  "
            ],
            "text/plain": [
              "            Brand Style Country  Stars\n",
              "0       New Touch   Cup   Japan   3.75\n",
              "1        Just Way  Pack  Taiwan   1.00\n",
              "2          Nissin   Cup     USA   2.25\n",
              "3         Wei Lih  Pack  Taiwan   2.75\n",
              "4  Ching's Secret  Pack   India   3.75"
            ]
          },
          "metadata": {},
          "execution_count": 17
        }
      ]
    },
    {
      "cell_type": "markdown",
      "source": [
        "特徴量のダミー変数化"
      ],
      "metadata": {
        "id": "mwqaVJwwzrvs"
      }
    },
    {
      "cell_type": "code",
      "source": [
        "Country = pd.get_dummies(ramen['Country'], prefix='Country', drop_first=True)\n",
        "Brand = pd.get_dummies(ramen['Brand'], prefix='Brand',drop_first=True)\n",
        "Style = pd.get_dummies(ramen['Style'], prefix='Style',drop_first=True)\n",
        " \n",
        "# ダミー変数化した特徴量を結合\n",
        "ramendf = pd.concat([Country, Brand,Style], axis=1)\n",
        " \n",
        "# 確認\n",
        "ramendf.head()\n"
      ],
      "metadata": {
        "colab": {
          "base_uri": "https://localhost:8080/",
          "height": 314
        },
        "id": "smomAjFdzoC0",
        "outputId": "ee52ce9f-d946-492a-d6fa-19f83bbb5bc6"
      },
      "execution_count": null,
      "outputs": [
        {
          "output_type": "execute_result",
          "data": {
            "text/html": [
              "\n",
              "  <div id=\"df-6782f393-5f0b-4b13-a0d6-8a78054f29c9\">\n",
              "    <div class=\"colab-df-container\">\n",
              "      <div>\n",
              "<style scoped>\n",
              "    .dataframe tbody tr th:only-of-type {\n",
              "        vertical-align: middle;\n",
              "    }\n",
              "\n",
              "    .dataframe tbody tr th {\n",
              "        vertical-align: top;\n",
              "    }\n",
              "\n",
              "    .dataframe thead th {\n",
              "        text-align: right;\n",
              "    }\n",
              "</style>\n",
              "<table border=\"1\" class=\"dataframe\">\n",
              "  <thead>\n",
              "    <tr style=\"text-align: right;\">\n",
              "      <th></th>\n",
              "      <th>Country_Bangladesh</th>\n",
              "      <th>Country_Brazil</th>\n",
              "      <th>Country_Cambodia</th>\n",
              "      <th>Country_Canada</th>\n",
              "      <th>Country_China</th>\n",
              "      <th>Country_Colombia</th>\n",
              "      <th>Country_Dubai</th>\n",
              "      <th>Country_Estonia</th>\n",
              "      <th>Country_Fiji</th>\n",
              "      <th>Country_Finland</th>\n",
              "      <th>Country_Germany</th>\n",
              "      <th>Country_Ghana</th>\n",
              "      <th>Country_Holland</th>\n",
              "      <th>Country_Hong Kong</th>\n",
              "      <th>Country_Hungary</th>\n",
              "      <th>Country_India</th>\n",
              "      <th>Country_Indonesia</th>\n",
              "      <th>Country_Japan</th>\n",
              "      <th>Country_Malaysia</th>\n",
              "      <th>Country_Mexico</th>\n",
              "      <th>Country_Myanmar</th>\n",
              "      <th>Country_Nepal</th>\n",
              "      <th>Country_Netherlands</th>\n",
              "      <th>Country_Nigeria</th>\n",
              "      <th>Country_Pakistan</th>\n",
              "      <th>Country_Philippines</th>\n",
              "      <th>Country_Poland</th>\n",
              "      <th>Country_Sarawak</th>\n",
              "      <th>Country_Singapore</th>\n",
              "      <th>Country_South Korea</th>\n",
              "      <th>Country_Sweden</th>\n",
              "      <th>Country_Taiwan</th>\n",
              "      <th>Country_Thailand</th>\n",
              "      <th>Country_UK</th>\n",
              "      <th>Country_USA</th>\n",
              "      <th>Country_United States</th>\n",
              "      <th>Country_Vietnam</th>\n",
              "      <th>Brand_7 Select</th>\n",
              "      <th>Brand_7 Select/Nissin</th>\n",
              "      <th>Brand_A-One</th>\n",
              "      <th>...</th>\n",
              "      <th>Brand_Unif Tung-I</th>\n",
              "      <th>Brand_Unif-100</th>\n",
              "      <th>Brand_United</th>\n",
              "      <th>Brand_Unox</th>\n",
              "      <th>Brand_Unzen</th>\n",
              "      <th>Brand_Urban Noodle</th>\n",
              "      <th>Brand_Ve Wong</th>\n",
              "      <th>Brand_Vedan</th>\n",
              "      <th>Brand_Vifon</th>\n",
              "      <th>Brand_Vina Acecook</th>\n",
              "      <th>Brand_Vit's</th>\n",
              "      <th>Brand_Wai Wai</th>\n",
              "      <th>Brand_Wang</th>\n",
              "      <th>Brand_Weh Lih</th>\n",
              "      <th>Brand_Wei Chuan</th>\n",
              "      <th>Brand_Wei Lih</th>\n",
              "      <th>Brand_Wei Wei</th>\n",
              "      <th>Brand_Westbrae</th>\n",
              "      <th>Brand_Western Family</th>\n",
              "      <th>Brand_World O' Noodle</th>\n",
              "      <th>Brand_Wu Mu</th>\n",
              "      <th>Brand_Wu-Mu</th>\n",
              "      <th>Brand_Wugudaochang</th>\n",
              "      <th>Brand_Xiao Ban Mian</th>\n",
              "      <th>Brand_Xiuhe</th>\n",
              "      <th>Brand_Yamachan</th>\n",
              "      <th>Brand_Yamadai</th>\n",
              "      <th>Brand_Yamamori</th>\n",
              "      <th>Brand_Yamamoto</th>\n",
              "      <th>Brand_Yum Yum</th>\n",
              "      <th>Brand_Yum-Mie</th>\n",
              "      <th>Brand_Zow Zow</th>\n",
              "      <th>Brand_iMee</th>\n",
              "      <th>Brand_iNoodle</th>\n",
              "      <th>Style_Bowl</th>\n",
              "      <th>Style_Box</th>\n",
              "      <th>Style_Can</th>\n",
              "      <th>Style_Cup</th>\n",
              "      <th>Style_Pack</th>\n",
              "      <th>Style_Tray</th>\n",
              "    </tr>\n",
              "  </thead>\n",
              "  <tbody>\n",
              "    <tr>\n",
              "      <th>0</th>\n",
              "      <td>0</td>\n",
              "      <td>0</td>\n",
              "      <td>0</td>\n",
              "      <td>0</td>\n",
              "      <td>0</td>\n",
              "      <td>0</td>\n",
              "      <td>0</td>\n",
              "      <td>0</td>\n",
              "      <td>0</td>\n",
              "      <td>0</td>\n",
              "      <td>0</td>\n",
              "      <td>0</td>\n",
              "      <td>0</td>\n",
              "      <td>0</td>\n",
              "      <td>0</td>\n",
              "      <td>0</td>\n",
              "      <td>0</td>\n",
              "      <td>1</td>\n",
              "      <td>0</td>\n",
              "      <td>0</td>\n",
              "      <td>0</td>\n",
              "      <td>0</td>\n",
              "      <td>0</td>\n",
              "      <td>0</td>\n",
              "      <td>0</td>\n",
              "      <td>0</td>\n",
              "      <td>0</td>\n",
              "      <td>0</td>\n",
              "      <td>0</td>\n",
              "      <td>0</td>\n",
              "      <td>0</td>\n",
              "      <td>0</td>\n",
              "      <td>0</td>\n",
              "      <td>0</td>\n",
              "      <td>0</td>\n",
              "      <td>0</td>\n",
              "      <td>0</td>\n",
              "      <td>0</td>\n",
              "      <td>0</td>\n",
              "      <td>0</td>\n",
              "      <td>...</td>\n",
              "      <td>0</td>\n",
              "      <td>0</td>\n",
              "      <td>0</td>\n",
              "      <td>0</td>\n",
              "      <td>0</td>\n",
              "      <td>0</td>\n",
              "      <td>0</td>\n",
              "      <td>0</td>\n",
              "      <td>0</td>\n",
              "      <td>0</td>\n",
              "      <td>0</td>\n",
              "      <td>0</td>\n",
              "      <td>0</td>\n",
              "      <td>0</td>\n",
              "      <td>0</td>\n",
              "      <td>0</td>\n",
              "      <td>0</td>\n",
              "      <td>0</td>\n",
              "      <td>0</td>\n",
              "      <td>0</td>\n",
              "      <td>0</td>\n",
              "      <td>0</td>\n",
              "      <td>0</td>\n",
              "      <td>0</td>\n",
              "      <td>0</td>\n",
              "      <td>0</td>\n",
              "      <td>0</td>\n",
              "      <td>0</td>\n",
              "      <td>0</td>\n",
              "      <td>0</td>\n",
              "      <td>0</td>\n",
              "      <td>0</td>\n",
              "      <td>0</td>\n",
              "      <td>0</td>\n",
              "      <td>0</td>\n",
              "      <td>0</td>\n",
              "      <td>0</td>\n",
              "      <td>1</td>\n",
              "      <td>0</td>\n",
              "      <td>0</td>\n",
              "    </tr>\n",
              "    <tr>\n",
              "      <th>1</th>\n",
              "      <td>0</td>\n",
              "      <td>0</td>\n",
              "      <td>0</td>\n",
              "      <td>0</td>\n",
              "      <td>0</td>\n",
              "      <td>0</td>\n",
              "      <td>0</td>\n",
              "      <td>0</td>\n",
              "      <td>0</td>\n",
              "      <td>0</td>\n",
              "      <td>0</td>\n",
              "      <td>0</td>\n",
              "      <td>0</td>\n",
              "      <td>0</td>\n",
              "      <td>0</td>\n",
              "      <td>0</td>\n",
              "      <td>0</td>\n",
              "      <td>0</td>\n",
              "      <td>0</td>\n",
              "      <td>0</td>\n",
              "      <td>0</td>\n",
              "      <td>0</td>\n",
              "      <td>0</td>\n",
              "      <td>0</td>\n",
              "      <td>0</td>\n",
              "      <td>0</td>\n",
              "      <td>0</td>\n",
              "      <td>0</td>\n",
              "      <td>0</td>\n",
              "      <td>0</td>\n",
              "      <td>0</td>\n",
              "      <td>1</td>\n",
              "      <td>0</td>\n",
              "      <td>0</td>\n",
              "      <td>0</td>\n",
              "      <td>0</td>\n",
              "      <td>0</td>\n",
              "      <td>0</td>\n",
              "      <td>0</td>\n",
              "      <td>0</td>\n",
              "      <td>...</td>\n",
              "      <td>0</td>\n",
              "      <td>0</td>\n",
              "      <td>0</td>\n",
              "      <td>0</td>\n",
              "      <td>0</td>\n",
              "      <td>0</td>\n",
              "      <td>0</td>\n",
              "      <td>0</td>\n",
              "      <td>0</td>\n",
              "      <td>0</td>\n",
              "      <td>0</td>\n",
              "      <td>0</td>\n",
              "      <td>0</td>\n",
              "      <td>0</td>\n",
              "      <td>0</td>\n",
              "      <td>0</td>\n",
              "      <td>0</td>\n",
              "      <td>0</td>\n",
              "      <td>0</td>\n",
              "      <td>0</td>\n",
              "      <td>0</td>\n",
              "      <td>0</td>\n",
              "      <td>0</td>\n",
              "      <td>0</td>\n",
              "      <td>0</td>\n",
              "      <td>0</td>\n",
              "      <td>0</td>\n",
              "      <td>0</td>\n",
              "      <td>0</td>\n",
              "      <td>0</td>\n",
              "      <td>0</td>\n",
              "      <td>0</td>\n",
              "      <td>0</td>\n",
              "      <td>0</td>\n",
              "      <td>0</td>\n",
              "      <td>0</td>\n",
              "      <td>0</td>\n",
              "      <td>0</td>\n",
              "      <td>1</td>\n",
              "      <td>0</td>\n",
              "    </tr>\n",
              "    <tr>\n",
              "      <th>2</th>\n",
              "      <td>0</td>\n",
              "      <td>0</td>\n",
              "      <td>0</td>\n",
              "      <td>0</td>\n",
              "      <td>0</td>\n",
              "      <td>0</td>\n",
              "      <td>0</td>\n",
              "      <td>0</td>\n",
              "      <td>0</td>\n",
              "      <td>0</td>\n",
              "      <td>0</td>\n",
              "      <td>0</td>\n",
              "      <td>0</td>\n",
              "      <td>0</td>\n",
              "      <td>0</td>\n",
              "      <td>0</td>\n",
              "      <td>0</td>\n",
              "      <td>0</td>\n",
              "      <td>0</td>\n",
              "      <td>0</td>\n",
              "      <td>0</td>\n",
              "      <td>0</td>\n",
              "      <td>0</td>\n",
              "      <td>0</td>\n",
              "      <td>0</td>\n",
              "      <td>0</td>\n",
              "      <td>0</td>\n",
              "      <td>0</td>\n",
              "      <td>0</td>\n",
              "      <td>0</td>\n",
              "      <td>0</td>\n",
              "      <td>0</td>\n",
              "      <td>0</td>\n",
              "      <td>0</td>\n",
              "      <td>1</td>\n",
              "      <td>0</td>\n",
              "      <td>0</td>\n",
              "      <td>0</td>\n",
              "      <td>0</td>\n",
              "      <td>0</td>\n",
              "      <td>...</td>\n",
              "      <td>0</td>\n",
              "      <td>0</td>\n",
              "      <td>0</td>\n",
              "      <td>0</td>\n",
              "      <td>0</td>\n",
              "      <td>0</td>\n",
              "      <td>0</td>\n",
              "      <td>0</td>\n",
              "      <td>0</td>\n",
              "      <td>0</td>\n",
              "      <td>0</td>\n",
              "      <td>0</td>\n",
              "      <td>0</td>\n",
              "      <td>0</td>\n",
              "      <td>0</td>\n",
              "      <td>0</td>\n",
              "      <td>0</td>\n",
              "      <td>0</td>\n",
              "      <td>0</td>\n",
              "      <td>0</td>\n",
              "      <td>0</td>\n",
              "      <td>0</td>\n",
              "      <td>0</td>\n",
              "      <td>0</td>\n",
              "      <td>0</td>\n",
              "      <td>0</td>\n",
              "      <td>0</td>\n",
              "      <td>0</td>\n",
              "      <td>0</td>\n",
              "      <td>0</td>\n",
              "      <td>0</td>\n",
              "      <td>0</td>\n",
              "      <td>0</td>\n",
              "      <td>0</td>\n",
              "      <td>0</td>\n",
              "      <td>0</td>\n",
              "      <td>0</td>\n",
              "      <td>1</td>\n",
              "      <td>0</td>\n",
              "      <td>0</td>\n",
              "    </tr>\n",
              "    <tr>\n",
              "      <th>3</th>\n",
              "      <td>0</td>\n",
              "      <td>0</td>\n",
              "      <td>0</td>\n",
              "      <td>0</td>\n",
              "      <td>0</td>\n",
              "      <td>0</td>\n",
              "      <td>0</td>\n",
              "      <td>0</td>\n",
              "      <td>0</td>\n",
              "      <td>0</td>\n",
              "      <td>0</td>\n",
              "      <td>0</td>\n",
              "      <td>0</td>\n",
              "      <td>0</td>\n",
              "      <td>0</td>\n",
              "      <td>0</td>\n",
              "      <td>0</td>\n",
              "      <td>0</td>\n",
              "      <td>0</td>\n",
              "      <td>0</td>\n",
              "      <td>0</td>\n",
              "      <td>0</td>\n",
              "      <td>0</td>\n",
              "      <td>0</td>\n",
              "      <td>0</td>\n",
              "      <td>0</td>\n",
              "      <td>0</td>\n",
              "      <td>0</td>\n",
              "      <td>0</td>\n",
              "      <td>0</td>\n",
              "      <td>0</td>\n",
              "      <td>1</td>\n",
              "      <td>0</td>\n",
              "      <td>0</td>\n",
              "      <td>0</td>\n",
              "      <td>0</td>\n",
              "      <td>0</td>\n",
              "      <td>0</td>\n",
              "      <td>0</td>\n",
              "      <td>0</td>\n",
              "      <td>...</td>\n",
              "      <td>0</td>\n",
              "      <td>0</td>\n",
              "      <td>0</td>\n",
              "      <td>0</td>\n",
              "      <td>0</td>\n",
              "      <td>0</td>\n",
              "      <td>0</td>\n",
              "      <td>0</td>\n",
              "      <td>0</td>\n",
              "      <td>0</td>\n",
              "      <td>0</td>\n",
              "      <td>0</td>\n",
              "      <td>0</td>\n",
              "      <td>0</td>\n",
              "      <td>0</td>\n",
              "      <td>1</td>\n",
              "      <td>0</td>\n",
              "      <td>0</td>\n",
              "      <td>0</td>\n",
              "      <td>0</td>\n",
              "      <td>0</td>\n",
              "      <td>0</td>\n",
              "      <td>0</td>\n",
              "      <td>0</td>\n",
              "      <td>0</td>\n",
              "      <td>0</td>\n",
              "      <td>0</td>\n",
              "      <td>0</td>\n",
              "      <td>0</td>\n",
              "      <td>0</td>\n",
              "      <td>0</td>\n",
              "      <td>0</td>\n",
              "      <td>0</td>\n",
              "      <td>0</td>\n",
              "      <td>0</td>\n",
              "      <td>0</td>\n",
              "      <td>0</td>\n",
              "      <td>0</td>\n",
              "      <td>1</td>\n",
              "      <td>0</td>\n",
              "    </tr>\n",
              "    <tr>\n",
              "      <th>4</th>\n",
              "      <td>0</td>\n",
              "      <td>0</td>\n",
              "      <td>0</td>\n",
              "      <td>0</td>\n",
              "      <td>0</td>\n",
              "      <td>0</td>\n",
              "      <td>0</td>\n",
              "      <td>0</td>\n",
              "      <td>0</td>\n",
              "      <td>0</td>\n",
              "      <td>0</td>\n",
              "      <td>0</td>\n",
              "      <td>0</td>\n",
              "      <td>0</td>\n",
              "      <td>0</td>\n",
              "      <td>1</td>\n",
              "      <td>0</td>\n",
              "      <td>0</td>\n",
              "      <td>0</td>\n",
              "      <td>0</td>\n",
              "      <td>0</td>\n",
              "      <td>0</td>\n",
              "      <td>0</td>\n",
              "      <td>0</td>\n",
              "      <td>0</td>\n",
              "      <td>0</td>\n",
              "      <td>0</td>\n",
              "      <td>0</td>\n",
              "      <td>0</td>\n",
              "      <td>0</td>\n",
              "      <td>0</td>\n",
              "      <td>0</td>\n",
              "      <td>0</td>\n",
              "      <td>0</td>\n",
              "      <td>0</td>\n",
              "      <td>0</td>\n",
              "      <td>0</td>\n",
              "      <td>0</td>\n",
              "      <td>0</td>\n",
              "      <td>0</td>\n",
              "      <td>...</td>\n",
              "      <td>0</td>\n",
              "      <td>0</td>\n",
              "      <td>0</td>\n",
              "      <td>0</td>\n",
              "      <td>0</td>\n",
              "      <td>0</td>\n",
              "      <td>0</td>\n",
              "      <td>0</td>\n",
              "      <td>0</td>\n",
              "      <td>0</td>\n",
              "      <td>0</td>\n",
              "      <td>0</td>\n",
              "      <td>0</td>\n",
              "      <td>0</td>\n",
              "      <td>0</td>\n",
              "      <td>0</td>\n",
              "      <td>0</td>\n",
              "      <td>0</td>\n",
              "      <td>0</td>\n",
              "      <td>0</td>\n",
              "      <td>0</td>\n",
              "      <td>0</td>\n",
              "      <td>0</td>\n",
              "      <td>0</td>\n",
              "      <td>0</td>\n",
              "      <td>0</td>\n",
              "      <td>0</td>\n",
              "      <td>0</td>\n",
              "      <td>0</td>\n",
              "      <td>0</td>\n",
              "      <td>0</td>\n",
              "      <td>0</td>\n",
              "      <td>0</td>\n",
              "      <td>0</td>\n",
              "      <td>0</td>\n",
              "      <td>0</td>\n",
              "      <td>0</td>\n",
              "      <td>0</td>\n",
              "      <td>1</td>\n",
              "      <td>0</td>\n",
              "    </tr>\n",
              "  </tbody>\n",
              "</table>\n",
              "<p>5 rows × 397 columns</p>\n",
              "</div>\n",
              "      <button class=\"colab-df-convert\" onclick=\"convertToInteractive('df-6782f393-5f0b-4b13-a0d6-8a78054f29c9')\"\n",
              "              title=\"Convert this dataframe to an interactive table.\"\n",
              "              style=\"display:none;\">\n",
              "        \n",
              "  <svg xmlns=\"http://www.w3.org/2000/svg\" height=\"24px\"viewBox=\"0 0 24 24\"\n",
              "       width=\"24px\">\n",
              "    <path d=\"M0 0h24v24H0V0z\" fill=\"none\"/>\n",
              "    <path d=\"M18.56 5.44l.94 2.06.94-2.06 2.06-.94-2.06-.94-.94-2.06-.94 2.06-2.06.94zm-11 1L8.5 8.5l.94-2.06 2.06-.94-2.06-.94L8.5 2.5l-.94 2.06-2.06.94zm10 10l.94 2.06.94-2.06 2.06-.94-2.06-.94-.94-2.06-.94 2.06-2.06.94z\"/><path d=\"M17.41 7.96l-1.37-1.37c-.4-.4-.92-.59-1.43-.59-.52 0-1.04.2-1.43.59L10.3 9.45l-7.72 7.72c-.78.78-.78 2.05 0 2.83L4 21.41c.39.39.9.59 1.41.59.51 0 1.02-.2 1.41-.59l7.78-7.78 2.81-2.81c.8-.78.8-2.07 0-2.86zM5.41 20L4 18.59l7.72-7.72 1.47 1.35L5.41 20z\"/>\n",
              "  </svg>\n",
              "      </button>\n",
              "      \n",
              "  <style>\n",
              "    .colab-df-container {\n",
              "      display:flex;\n",
              "      flex-wrap:wrap;\n",
              "      gap: 12px;\n",
              "    }\n",
              "\n",
              "    .colab-df-convert {\n",
              "      background-color: #E8F0FE;\n",
              "      border: none;\n",
              "      border-radius: 50%;\n",
              "      cursor: pointer;\n",
              "      display: none;\n",
              "      fill: #1967D2;\n",
              "      height: 32px;\n",
              "      padding: 0 0 0 0;\n",
              "      width: 32px;\n",
              "    }\n",
              "\n",
              "    .colab-df-convert:hover {\n",
              "      background-color: #E2EBFA;\n",
              "      box-shadow: 0px 1px 2px rgba(60, 64, 67, 0.3), 0px 1px 3px 1px rgba(60, 64, 67, 0.15);\n",
              "      fill: #174EA6;\n",
              "    }\n",
              "\n",
              "    [theme=dark] .colab-df-convert {\n",
              "      background-color: #3B4455;\n",
              "      fill: #D2E3FC;\n",
              "    }\n",
              "\n",
              "    [theme=dark] .colab-df-convert:hover {\n",
              "      background-color: #434B5C;\n",
              "      box-shadow: 0px 1px 3px 1px rgba(0, 0, 0, 0.15);\n",
              "      filter: drop-shadow(0px 1px 2px rgba(0, 0, 0, 0.3));\n",
              "      fill: #FFFFFF;\n",
              "    }\n",
              "  </style>\n",
              "\n",
              "      <script>\n",
              "        const buttonEl =\n",
              "          document.querySelector('#df-6782f393-5f0b-4b13-a0d6-8a78054f29c9 button.colab-df-convert');\n",
              "        buttonEl.style.display =\n",
              "          google.colab.kernel.accessAllowed ? 'block' : 'none';\n",
              "\n",
              "        async function convertToInteractive(key) {\n",
              "          const element = document.querySelector('#df-6782f393-5f0b-4b13-a0d6-8a78054f29c9');\n",
              "          const dataTable =\n",
              "            await google.colab.kernel.invokeFunction('convertToInteractive',\n",
              "                                                     [key], {});\n",
              "          if (!dataTable) return;\n",
              "\n",
              "          const docLinkHtml = 'Like what you see? Visit the ' +\n",
              "            '<a target=\"_blank\" href=https://colab.research.google.com/notebooks/data_table.ipynb>data table notebook</a>'\n",
              "            + ' to learn more about interactive tables.';\n",
              "          element.innerHTML = '';\n",
              "          dataTable['output_type'] = 'display_data';\n",
              "          await google.colab.output.renderOutput(dataTable, element);\n",
              "          const docLink = document.createElement('div');\n",
              "          docLink.innerHTML = docLinkHtml;\n",
              "          element.appendChild(docLink);\n",
              "        }\n",
              "      </script>\n",
              "    </div>\n",
              "  </div>\n",
              "  "
            ],
            "text/plain": [
              "   Country_Bangladesh  Country_Brazil  ...  Style_Pack  Style_Tray\n",
              "0                   0               0  ...           0           0\n",
              "1                   0               0  ...           1           0\n",
              "2                   0               0  ...           0           0\n",
              "3                   0               0  ...           1           0\n",
              "4                   0               0  ...           1           0\n",
              "\n",
              "[5 rows x 397 columns]"
            ]
          },
          "metadata": {},
          "execution_count": 18
        }
      ]
    },
    {
      "cell_type": "markdown",
      "source": [
        "データを特徴量とターゲットへ分割"
      ],
      "metadata": {
        "id": "7joKHk2uzw0l"
      }
    },
    {
      "cell_type": "code",
      "source": [
        "X = np.array(ramendf, dtype=np.float32) \n",
        "y = np.array(ramen[['Stars']], dtype=np.float32)"
      ],
      "metadata": {
        "id": "8V73ul3GzxyA"
      },
      "execution_count": null,
      "outputs": []
    },
    {
      "cell_type": "code",
      "source": [
        ""
      ],
      "metadata": {
        "id": "tzjR2ZfmzzeS"
      },
      "execution_count": null,
      "outputs": []
    },
    {
      "cell_type": "markdown",
      "source": [
        "## モデルの作成"
      ],
      "metadata": {
        "id": "9720We27z8b-"
      }
    },
    {
      "cell_type": "code",
      "source": [
        "# モデル\n",
        "model = nn.Linear(397, 1)\n",
        "\n",
        "# 損失関数\n",
        "loss = nn.MSELoss()\n",
        " \n",
        "# 最適化関数\n",
        "optimizer = torch.optim.SGD(model.parameters(), lr=0.6)"
      ],
      "metadata": {
        "id": "DIoww3zQz-eK"
      },
      "execution_count": null,
      "outputs": []
    },
    {
      "cell_type": "markdown",
      "source": [
        "モデルの学習"
      ],
      "metadata": {
        "id": "QW3f3fzG0I9c"
      }
    },
    {
      "cell_type": "code",
      "source": [
        "for epoch in range(1000):\n",
        "    # ステージ1 Numpy配列からテンソルへ変換\n",
        "    inputs = torch.from_numpy(X)\n",
        "    targets = torch.from_numpy(y)\n",
        "\n",
        "    # ステージ2 推測値を出力して誤差（コスト）を算出\n",
        "    outputs = model(inputs)\n",
        "    cost = loss(outputs, targets)\n",
        "    # ステージ3 誤差逆伝播（バックプロパゲーション）\n",
        "    optimizer.zero_grad()\n",
        "    cost.backward()\n",
        "    optimizer.step()\n",
        "    # ステージ4 50回毎にコストを表示\n",
        "    if (epoch+1) % 100 == 0:\n",
        "        print('Epoch [{}/{}], Loss: {:.4f}'.format(epoch+1, 1000, cost.item()))"
      ],
      "metadata": {
        "colab": {
          "base_uri": "https://localhost:8080/"
        },
        "id": "xJXvf7_i0KnL",
        "outputId": "773e7cee-6d5e-4f4f-e5d0-d559fd088e2b"
      },
      "execution_count": null,
      "outputs": [
        {
          "output_type": "stream",
          "name": "stdout",
          "text": [
            "Epoch [100/1000], Loss: 0.7753\n",
            "Epoch [200/1000], Loss: 0.7268\n",
            "Epoch [300/1000], Loss: 0.6980\n",
            "Epoch [400/1000], Loss: 0.6781\n",
            "Epoch [500/1000], Loss: 0.6634\n",
            "Epoch [600/1000], Loss: 0.6519\n",
            "Epoch [700/1000], Loss: 0.6426\n",
            "Epoch [800/1000], Loss: 0.6349\n",
            "Epoch [900/1000], Loss: 0.6284\n",
            "Epoch [1000/1000], Loss: 0.6228\n"
          ]
        }
      ]
    },
    {
      "cell_type": "markdown",
      "source": [
        "予測値の出力"
      ],
      "metadata": {
        "id": "7NKcDfts0dKM"
      }
    },
    {
      "cell_type": "code",
      "source": [
        "y_pred = model(torch.from_numpy(X)).data.numpy()\n",
        "\n",
        "#最初の５つを確認\n",
        "print(y_pred[0:5])\n",
        "print(y[0:5])"
      ],
      "metadata": {
        "colab": {
          "base_uri": "https://localhost:8080/"
        },
        "id": "9yapkGXo0WE3",
        "outputId": "920a08d2-4dc6-4239-8ccb-2c98cc7cfef1"
      },
      "execution_count": null,
      "outputs": [
        {
          "output_type": "stream",
          "name": "stdout",
          "text": [
            "[[4.111941 ]\n",
            " [2.9364026]\n",
            " [3.4577096]\n",
            " [3.4201987]\n",
            " [3.6928964]]\n",
            "[[3.75]\n",
            " [1.  ]\n",
            " [2.25]\n",
            " [2.75]\n",
            " [3.75]]\n"
          ]
        }
      ]
    },
    {
      "cell_type": "markdown",
      "source": [
        "予測の平均二乗誤差を確認"
      ],
      "metadata": {
        "id": "hkNMHLy40sy6"
      }
    },
    {
      "cell_type": "code",
      "source": [
        "mean_squared_error(y, y_pred)"
      ],
      "metadata": {
        "colab": {
          "base_uri": "https://localhost:8080/"
        },
        "id": "4jhkcDib0ooR",
        "outputId": "5311ef8e-4253-4683-86ac-fb10863c8a00"
      },
      "execution_count": null,
      "outputs": [
        {
          "output_type": "execute_result",
          "data": {
            "text/plain": [
              "0.62279326"
            ]
          },
          "metadata": {},
          "execution_count": 24
        }
      ]
    },
    {
      "cell_type": "markdown",
      "source": [
        "## 問題\n",
        "メーカー：日清、タイプ：カップ麺、生産国：日本、という製品を作った場合、レーティングは何点と予測されるか？"
      ],
      "metadata": {
        "id": "yaCRsAsd02zF"
      }
    },
    {
      "cell_type": "code",
      "source": [
        "rdf = ramendf[(ramendf['Country_Thailand'] == 1) & (ramendf['Brand_Nissin'] == 1) & (ramendf['Style_Pack'] == 1)]\n",
        "X1 = np.array(rdf, dtype=np.float32) \n",
        "model(torch.from_numpy(X1)).data.numpy()"
      ],
      "metadata": {
        "id": "lBNwwV6X1jWe"
      },
      "execution_count": null,
      "outputs": []
    }
  ]
}