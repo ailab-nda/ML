{
  "nbformat": 4,
  "nbformat_minor": 0,
  "metadata": {
    "colab": {
      "provenance": [],
      "gpuType": "T4",
      "authorship_tag": "ABX9TyN37o+D3NSvXM3eubLt4Y2n",
      "include_colab_link": true
    },
    "kernelspec": {
      "name": "python3",
      "display_name": "Python 3"
    },
    "language_info": {
      "name": "python"
    },
    "accelerator": "GPU"
  },
  "cells": [
    {
      "cell_type": "markdown",
      "metadata": {
        "id": "view-in-github",
        "colab_type": "text"
      },
      "source": [
        "<a href=\"https://colab.research.google.com/github/ailab-nda/ML/blob/main/chapter06.ipynb\" target=\"_parent\"><img src=\"https://colab.research.google.com/assets/colab-badge.svg\" alt=\"Open In Colab\"/></a>"
      ]
    },
    {
      "cell_type": "markdown",
      "source": [
        "# 学習済みモデルによる画像分類\n",
        "\n",
        "https://pystyle.info/pytorch-how-to-use-pretrained-model/"
      ],
      "metadata": {
        "id": "iSLYJlFBdS27"
      }
    },
    {
      "cell_type": "markdown",
      "source": [
        "## 必要なモジュールのインポート"
      ],
      "metadata": {
        "id": "nHOmt6U-dgsa"
      }
    },
    {
      "cell_type": "code",
      "execution_count": 1,
      "metadata": {
        "id": "DzevOIxZdOZa"
      },
      "outputs": [],
      "source": [
        "import json\n",
        "from pathlib import Path\n",
        "\n",
        "import numpy as np\n",
        "import torch\n",
        "import torchvision\n",
        "from PIL import Image\n",
        "from torch.nn import functional as F\n",
        "from torch.utils.data import DataLoader, Dataset\n",
        "from torchvision import transforms\n",
        "from torchvision.datasets.utils import download_url"
      ]
    },
    {
      "cell_type": "markdown",
      "source": [
        "## デバイスの作成"
      ],
      "metadata": {
        "id": "rdfc0DordnxM"
      }
    },
    {
      "cell_type": "code",
      "source": [
        "def get_device(use_gpu):\n",
        "    if use_gpu and torch.cuda.is_available():\n",
        "        # これを有効にしないと、計算した勾配が毎回異なり、再現性が担保できない。\n",
        "        torch.backends.cudnn.deterministic = True\n",
        "        return torch.device(\"cuda\")\n",
        "    else:\n",
        "        return torch.device(\"cpu\")\n",
        "\n",
        "\n",
        "# デバイスを選択する。\n",
        "device = get_device(use_gpu=True)"
      ],
      "metadata": {
        "id": "9LBLPOPAdmBi"
      },
      "execution_count": 2,
      "outputs": []
    },
    {
      "cell_type": "markdown",
      "source": [
        "## モデルの作成"
      ],
      "metadata": {
        "id": "aeexDOiAdyDS"
      }
    },
    {
      "cell_type": "code",
      "source": [
        "model = torchvision.models.resnet50(pretrained=True).to(device)"
      ],
      "metadata": {
        "colab": {
          "base_uri": "https://localhost:8080/"
        },
        "id": "CIdrlX-edrcR",
        "outputId": "fafeae16-577e-4408-f05f-e62b0cd088ab"
      },
      "execution_count": 3,
      "outputs": [
        {
          "output_type": "stream",
          "name": "stderr",
          "text": [
            "/usr/local/lib/python3.10/dist-packages/torchvision/models/_utils.py:208: UserWarning: The parameter 'pretrained' is deprecated since 0.13 and may be removed in the future, please use 'weights' instead.\n",
            "  warnings.warn(\n",
            "/usr/local/lib/python3.10/dist-packages/torchvision/models/_utils.py:223: UserWarning: Arguments other than a weight enum or `None` for 'weights' are deprecated since 0.13 and may be removed in the future. The current behavior is equivalent to passing `weights=ResNet50_Weights.IMAGENET1K_V1`. You can also use `weights=ResNet50_Weights.DEFAULT` to get the most up-to-date weights.\n",
            "  warnings.warn(msg)\n",
            "Downloading: \"https://download.pytorch.org/models/resnet50-0676ba61.pth\" to /root/.cache/torch/hub/checkpoints/resnet50-0676ba61.pth\n",
            "100%|██████████| 97.8M/97.8M [00:02<00:00, 47.7MB/s]\n"
          ]
        }
      ]
    },
    {
      "cell_type": "markdown",
      "source": [
        "## Transforms の作成"
      ],
      "metadata": {
        "id": "Y_z37NGPd_Lk"
      }
    },
    {
      "cell_type": "code",
      "source": [
        "transform = transforms.Compose(\n",
        "    [\n",
        "        transforms.Resize(256),  # (256, 256) で切り抜く。\n",
        "        transforms.CenterCrop(224),  # 画像の中心に合わせて、(224, 224) で切り抜く\n",
        "        transforms.ToTensor(),  # テンソルにする。\n",
        "        transforms.Normalize(\n",
        "            mean=[0.485, 0.456, 0.406], std=[0.229, 0.224, 0.225]\n",
        "        ),  # 標準化する。\n",
        "    ]\n",
        ")"
      ],
      "metadata": {
        "id": "domfJJlKd0xt"
      },
      "execution_count": 4,
      "outputs": []
    },
    {
      "cell_type": "markdown",
      "source": [
        "## 画像の読み込み"
      ],
      "metadata": {
        "id": "U9ShT6D6eHZW"
      }
    },
    {
      "cell_type": "code",
      "source": [
        "img = Image.open(\"sample.jpg\")\n",
        "inputs = transform(img)\n",
        "inputs = inputs.unsqueeze(0).to(device)"
      ],
      "metadata": {
        "id": "P7vRqVq_eF0j"
      },
      "execution_count": 6,
      "outputs": []
    },
    {
      "cell_type": "markdown",
      "source": [
        "## 推論する"
      ],
      "metadata": {
        "id": "WiQwORcaeZ2H"
      }
    },
    {
      "cell_type": "code",
      "source": [
        "model.eval()\n",
        "outputs = model(inputs)"
      ],
      "metadata": {
        "id": "sLN7sZGyeLBl"
      },
      "execution_count": 7,
      "outputs": []
    },
    {
      "cell_type": "markdown",
      "source": [
        "## 推論結果の解釈"
      ],
      "metadata": {
        "id": "fdE0bRSGfD0p"
      }
    },
    {
      "cell_type": "code",
      "source": [
        "batch_probs = F.softmax(outputs, dim=1)\n",
        "batch_probs, batch_indices = batch_probs.sort(dim=1, descending=True)"
      ],
      "metadata": {
        "id": "J4W118mDfAhW"
      },
      "execution_count": 8,
      "outputs": []
    },
    {
      "cell_type": "code",
      "source": [
        "def get_classes():\n",
        "    if not Path(\"data/imagenet_class_index.json\").exists():\n",
        "        # ファイルが存在しない場合はダウンロードする。\n",
        "        download_url(\"https://git.io/JebAs\", \"data\", \"imagenet_class_index.json\")\n",
        "\n",
        "    # クラス一覧を読み込む。\n",
        "    with open(\"data/imagenet_class_index.json\") as f:\n",
        "        data = json.load(f)\n",
        "        class_names = [x[\"ja\"] for x in data]\n",
        "\n",
        "    return class_names\n",
        "\n",
        "\n",
        "# クラス名一覧を取得する。\n",
        "class_names = get_classes()"
      ],
      "metadata": {
        "colab": {
          "base_uri": "https://localhost:8080/"
        },
        "id": "hn3y2mTnfLgb",
        "outputId": "02d4222c-389f-4238-a46b-121885ba4420"
      },
      "execution_count": 9,
      "outputs": [
        {
          "output_type": "stream",
          "name": "stdout",
          "text": [
            "Downloading https://gist.githubusercontent.com/PonDad/4dcb4b242b9358e524b4ddecbee385e9/raw/dda9454f74aa4fafee991ca8b848c9ab6ae0e732/imagenet_class_index.json to data/imagenet_class_index.json\n"
          ]
        },
        {
          "output_type": "stream",
          "name": "stderr",
          "text": [
            "100%|██████████| 100891/100891 [00:00<00:00, 53255414.66it/s]\n"
          ]
        }
      ]
    },
    {
      "cell_type": "markdown",
      "source": [
        "### 確率の高い上位３クラスの表示"
      ],
      "metadata": {
        "id": "N7oMiofCfS62"
      }
    },
    {
      "cell_type": "code",
      "source": [
        "for probs, indices in zip(batch_probs, batch_indices):\n",
        "    for k in range(3):\n",
        "        print(f\"Top-{k + 1} {class_names[indices[k]]} {probs[k]:.2%}\")"
      ],
      "metadata": {
        "colab": {
          "base_uri": "https://localhost:8080/"
        },
        "id": "7cdYvU8dfO7I",
        "outputId": "9e21b5ed-5909-45a9-9080-cec96459adff"
      },
      "execution_count": 10,
      "outputs": [
        {
          "output_type": "stream",
          "name": "stdout",
          "text": [
            "Top-1 エジプトの猫 38.81%\n",
            "Top-2 タビー 38.21%\n",
            "Top-3 虎猫 21.82%\n"
          ]
        }
      ]
    },
    {
      "cell_type": "markdown",
      "source": [
        "# Dataloader を使った推論"
      ],
      "metadata": {
        "id": "YekSCDIifjdS"
      }
    },
    {
      "cell_type": "code",
      "source": [
        "def _get_img_paths(img_dir):\n",
        "    img_dir = Path(img_dir)\n",
        "    img_extensions = [\".jpg\", \".jpeg\", \".png\", \".bmp\"]\n",
        "    img_paths = [str(p) for p in img_dir.iterdir() if p.suffix in img_extensions]\n",
        "    img_paths.sort()\n",
        "\n",
        "    return img_paths\n",
        "\n",
        "\n",
        "class ImageFolder(Dataset):\n",
        "    def __init__(self, img_dir, transform):\n",
        "        # 画像ファイルのパス一覧を取得する。\n",
        "        self.img_paths = _get_img_paths(img_dir)\n",
        "        self.transform = transform\n",
        "\n",
        "    def __getitem__(self, index):\n",
        "        path = self.img_paths[index]\n",
        "        img = Image.open(path)\n",
        "        inputs = self.transform(img)\n",
        "\n",
        "        return {\"image\": inputs, \"path\": path}\n",
        "\n",
        "    def __len__(self):\n",
        "        return len(self.img_paths)\n",
        "\n",
        "\n",
        "# Dataset を作成する。\n",
        "dataset = ImageFolder(\"data\", transform)\n",
        "# DataLoader を作成する。\n",
        "dataloader = DataLoader(dataset, batch_size=8)"
      ],
      "metadata": {
        "id": "5PCJ5Ag8fol-"
      },
      "execution_count": 11,
      "outputs": []
    },
    {
      "cell_type": "code",
      "source": [
        "from IPython import display\n",
        "\n",
        "for batch in dataloader:\n",
        "    inputs = batch[\"image\"].to(device)\n",
        "    outputs = model(inputs)\n",
        "\n",
        "    batch_probs = F.softmax(outputs, dim=1)\n",
        "\n",
        "    batch_probs, batch_indices = batch_probs.sort(dim=1, descending=True)\n",
        "\n",
        "    for probs, indices, path in zip(batch_probs, batch_indices, batch[\"path\"]):\n",
        "        display.display(display.Image(path, width=224))\n",
        "        print(f\"path: {path}\")\n",
        "        for k in range(3):\n",
        "            print(f\"Top-{k + 1} {probs[k]:.2%} {class_names[indices[k]]}\")"
      ],
      "metadata": {
        "id": "4PX_2CjdfwWU"
      },
      "execution_count": 12,
      "outputs": []
    },
    {
      "cell_type": "code",
      "source": [
        "from IPython import display\n",
        "\n",
        "for batch in dataloader:\n",
        "    inputs = batch[\"image\"].to(device)\n",
        "    outputs = model(inputs)\n",
        "\n",
        "    batch_probs = F.softmax(outputs, dim=1)\n",
        "\n",
        "    batch_probs, batch_indices = batch_probs.sort(dim=1, descending=True)\n",
        "\n",
        "    for probs, indices, path in zip(batch_probs, batch_indices, batch[\"path\"]):\n",
        "        display.display(display.Image(path, width=224))\n",
        "        print(f\"path: {path}\")\n",
        "        for k in range(3):\n",
        "            print(f\"Top-{k + 1} {probs[k]:.2%} {class_names[indices[k]]}\")"
      ],
      "metadata": {
        "id": "nSqf9mNOgENB"
      },
      "execution_count": 13,
      "outputs": []
    }
  ]
}