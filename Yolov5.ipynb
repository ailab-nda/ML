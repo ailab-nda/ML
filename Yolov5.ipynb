{
  "nbformat": 4,
  "nbformat_minor": 0,
  "metadata": {
    "colab": {
      "name": "Yolov5.ipynb",
      "provenance": [],
      "collapsed_sections": [],
      "authorship_tag": "ABX9TyP0iriDaqyvYKHqym/ZSfpi",
      "include_colab_link": true
    },
    "kernelspec": {
      "name": "python3",
      "display_name": "Python 3"
    },
    "language_info": {
      "name": "python"
    },
    "accelerator": "GPU"
  },
  "cells": [
    {
      "cell_type": "markdown",
      "metadata": {
        "id": "view-in-github",
        "colab_type": "text"
      },
      "source": [
        "<a href=\"https://colab.research.google.com/github/ailab-nda/NLP/blob/main/Yolov5.ipynb\" target=\"_parent\"><img src=\"https://colab.research.google.com/assets/colab-badge.svg\" alt=\"Open In Colab\"/></a>"
      ]
    },
    {
      "cell_type": "markdown",
      "source": [
        "# Yolo v5 による物体検出"
      ],
      "metadata": {
        "id": "EwiE16GoBrly"
      }
    },
    {
      "cell_type": "markdown",
      "source": [
        "## 準備"
      ],
      "metadata": {
        "id": "LZhVWSLIB168"
      }
    },
    {
      "cell_type": "code",
      "source": [
        "!git clone https://github.com/ultralytics/yolov5\n",
        "% cd yolov5\n",
        "pip install -r requirements.txt"
      ],
      "metadata": {
        "id": "xwqfStv8CbzA"
      },
      "execution_count": null,
      "outputs": []
    },
    {
      "cell_type": "markdown",
      "source": [
        "## /content フォルダに動画を設置する。"
      ],
      "metadata": {
        "id": "2Pa0wqGbB5Fl"
      }
    },
    {
      "cell_type": "markdown",
      "source": [
        "## 動画からパラパラ漫画へ変換"
      ],
      "metadata": {
        "id": "A7_Jj7KzCGr-"
      }
    },
    {
      "cell_type": "code",
      "source": [
        "video_path = '/content/video.mp4'\n",
        "!rm /content/img/*\n",
        "!ffmpeg -i $video_path -vf setpts=PTS-STARTPTS '/content/img/%04d.jpg'"
      ],
      "metadata": {
        "id": "MB6w1rWKrWjE"
      },
      "execution_count": null,
      "outputs": []
    },
    {
      "cell_type": "markdown",
      "source": [
        "## 各画像ごとに検出"
      ],
      "metadata": {
        "id": "l-xJAyNWCKjT"
      }
    },
    {
      "cell_type": "code",
      "source": [
        "!python detect.py --source /content/img/ --weights yolov5s.pt --conf 0.2"
      ],
      "metadata": {
        "id": "QIFsWbpx0nRB"
      },
      "execution_count": null,
      "outputs": []
    },
    {
      "cell_type": "markdown",
      "source": [
        "## 検出された各画像から動画を作成"
      ],
      "metadata": {
        "id": "DS9XWu66COk5"
      }
    },
    {
      "cell_type": "code",
      "source": [
        "! yes|ffmpeg -r 30 -i '/content/yolov5/runs/detect/exp10/%04d.jpg' -vcodec libx264 -pix_fmt yuv420p -r 30 '/content/tracking.mp4'"
      ],
      "metadata": {
        "id": "sp33KpygvRVI"
      },
      "execution_count": null,
      "outputs": []
    },
    {
      "cell_type": "markdown",
      "source": [
        "## 検出結果のビデオをインラインで表示"
      ],
      "metadata": {
        "id": "af4Nf3skBi0g"
      }
    },
    {
      "cell_type": "code",
      "source": [
        "from IPython.display import HTML\n",
        "from base64 import b64encode\n",
        "mp4 = open('/content/tracking.mp4','rb').read()\n",
        "data_url = \"data:video/mp4;base64,\" + b64encode(mp4).decode()\n",
        "HTML(\"\"\"\n",
        "<video width=400 controls>\n",
        "      <source src=\"%s\" type=\"video/mp4\">\n",
        "</video>\n",
        "\"\"\" % data_url)"
      ],
      "metadata": {
        "id": "dRXuf76hANeQ"
      },
      "execution_count": null,
      "outputs": []
    },
    {
      "cell_type": "markdown",
      "source": [
        "## 検出結果の各画像を表示"
      ],
      "metadata": {
        "id": "EIgaRfV7BWYT"
      }
    },
    {
      "cell_type": "code",
      "source": [
        "import matplotlib.pyplot as plt\n",
        "import cv2\n",
        "from glob import glob\n",
        "import matplotlib.pyplot as plt\n",
        "import os"
      ],
      "metadata": {
        "id": "5ne81NtXGqof"
      },
      "execution_count": null,
      "outputs": []
    },
    {
      "cell_type": "code",
      "source": [
        "def show_images_glob(images, figsize=(20,10), columns = 5):\n",
        "  plt.figure(figsize=figsize)\n",
        "  for i, image in enumerate(images):\n",
        "      plt.subplot(len(images) / columns + 1, columns, i + 1)\n",
        "      plt.imshow(cv2.imread(image))"
      ],
      "metadata": {
        "id": "foTEKuRtG0l9"
      },
      "execution_count": null,
      "outputs": []
    },
    {
      "cell_type": "code",
      "source": [
        "SOURCE_IMAGES = \"/content/yolov5/runs/detect/exp2\"\n",
        "FILE_PATTERN = \"*\"\n",
        "images = glob(os.path.join(SOURCE_IMAGES, FILE_PATTERN))\n",
        "show_images_glob(images)"
      ],
      "metadata": {
        "id": "o2hrU9uzHnSd"
      },
      "execution_count": null,
      "outputs": []
    },
    {
      "cell_type": "markdown",
      "source": [
        "### 便利なコマンド"
      ],
      "metadata": {
        "id": "Yb5ppW80CcOB"
      }
    },
    {
      "cell_type": "code",
      "source": [
        "!zip -r detect /content/yolov5/runs/detect"
      ],
      "metadata": {
        "id": "N3oxMzLUC1A-"
      },
      "execution_count": null,
      "outputs": []
    }
  ]
}