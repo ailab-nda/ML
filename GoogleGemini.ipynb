{
  "cells": [
    {
      "cell_type": "markdown",
      "metadata": {
        "id": "view-in-github",
        "colab_type": "text"
      },
      "source": [
        "<a href=\"https://colab.research.google.com/github/ailab-nda/ML/blob/main/GoogleGemini.ipynb\" target=\"_parent\"><img src=\"https://colab.research.google.com/assets/colab-badge.svg\" alt=\"Open In Colab\"/></a>"
      ]
    },
    {
      "cell_type": "markdown",
      "id": "95da1132",
      "metadata": {
        "id": "95da1132"
      },
      "source": [
        "# Google Gemini を利用した生成AI演習\n",
        "参考：https://ai.google.dev/gemini-api/docs?hl=ja"
      ]
    },
    {
      "cell_type": "markdown",
      "id": "f073c9f4",
      "metadata": {
        "id": "f073c9f4"
      },
      "source": [
        "## 1. 準備（ライブラリのインストール）\n",
        "以下のコマンドで必要なライブラリをインストールします。"
      ]
    },
    {
      "cell_type": "code",
      "execution_count": null,
      "id": "221612b9",
      "metadata": {
        "id": "221612b9"
      },
      "outputs": [],
      "source": [
        "!pip install google-genai --trusted-host pypi.python.org --trusted-host files.pythonhosted.org --trusted-host pypi.org"
      ]
    },
    {
      "cell_type": "markdown",
      "id": "9128f77b",
      "metadata": {
        "id": "9128f77b"
      },
      "source": [
        "下記のセルを実行し、Google AI Studio から入手した　Gemini の API Key の値を入力しない。"
      ]
    },
    {
      "cell_type": "code",
      "execution_count": null,
      "id": "ed6d880e",
      "metadata": {
        "id": "ed6d880e"
      },
      "outputs": [],
      "source": [
        "import getpass\n",
        "my_api_key = getpass.getpass(\"Google API Key を入力してください：\")"
      ]
    },
    {
      "cell_type": "markdown",
      "id": "2ac11532",
      "metadata": {
        "id": "2ac11532"
      },
      "source": [
        "## 2. 動作確認\n",
        "下のセルを実行して１行の答えが出力されれば動作確認OKです。"
      ]
    },
    {
      "cell_type": "code",
      "execution_count": null,
      "id": "44cdc774",
      "metadata": {
        "id": "44cdc774"
      },
      "outputs": [],
      "source": [
        "from google import genai\n",
        "\n",
        "client = genai.Client(api_key=my_api_key)\n",
        "\n",
        "response = client.models.generate_content(\n",
        "    model=\"gemini-2.0-flash\",\n",
        "    contents=\"Explain how AI works in a few words\",\n",
        ")\n",
        "\n",
        "print(response.text)"
      ]
    },
    {
      "cell_type": "markdown",
      "id": "4107c5c3",
      "metadata": {
        "id": "4107c5c3"
      },
      "source": [
        "## 3. 画像の生成\n",
        "- 入力: contents に書きたいものを記述\n",
        "- 出力：gemini-native-image.png というファイルがこのファイルと同じフォルダに生成されます。"
      ]
    },
    {
      "cell_type": "code",
      "execution_count": null,
      "id": "45921604",
      "metadata": {
        "id": "45921604"
      },
      "outputs": [],
      "source": [
        "from google import genai\n",
        "from google.genai import types\n",
        "from PIL import Image\n",
        "from io import BytesIO\n",
        "import base64\n",
        "\n",
        "client = genai.Client(api_key=my_api_key)\n",
        "\n",
        "contents = \"帽子をかぶって羽の生えた豚のイラストを3Dで書いてください。背景は、緑豊かなSF映画のような未来的な街並みにしてください。\"\n",
        "\n",
        "response = client.models.generate_content(\n",
        "    model=\"gemini-2.0-flash-preview-image-generation\",\n",
        "    contents=contents,\n",
        "    config=types.GenerateContentConfig(\n",
        "      response_modalities=['TEXT', 'IMAGE']\n",
        "    )\n",
        ")\n",
        "\n",
        "for part in response.candidates[0].content.parts:\n",
        "  if part.text is not None:\n",
        "    print(part.text)\n",
        "  elif part.inline_data is not None:\n",
        "    image = Image.open(BytesIO((part.inline_data.data)))\n",
        "    image.save('gemini-native-image.png')\n",
        "    image.show()"
      ]
    },
    {
      "cell_type": "markdown",
      "id": "0cebb6e6",
      "metadata": {
        "id": "0cebb6e6"
      },
      "source": [
        "## 4. 画像の編集\n",
        "- 入力: image に書きたいものを記述(ここでは上で作った gemini-native-image.png を入力画像としています)。\n",
        "- 出力：gemini-modified-image.png というファイルがこのファイルと同じフォルダに生成されます。"
      ]
    },
    {
      "cell_type": "code",
      "execution_count": null,
      "id": "e52e9ed2",
      "metadata": {
        "id": "e52e9ed2"
      },
      "outputs": [],
      "source": [
        "from google import genai\n",
        "from google.genai import types\n",
        "from PIL import Image\n",
        "from io import BytesIO\n",
        "\n",
        "import PIL.Image\n",
        "\n",
        "image = PIL.Image.open('gemini-native-image.png')\n",
        "\n",
        "text_input = \"この絵にラマを一匹加えてください。\"\n",
        "\n",
        "response = client.models.generate_content(\n",
        "    model=\"gemini-2.0-flash-preview-image-generation\",\n",
        "    contents=[text_input, image],\n",
        "    config=types.GenerateContentConfig(\n",
        "      response_modalities=['TEXT', 'IMAGE']\n",
        "    )\n",
        ")\n",
        "\n",
        "for part in response.candidates[0].content.parts:\n",
        "  if part.text is not None:\n",
        "    print(part.text)\n",
        "  elif part.inline_data is not None:\n",
        "    image = Image.open(BytesIO(part.inline_data.data))\n",
        "    image.save('gemini-modified-image.png')\n",
        "    image.show()"
      ]
    },
    {
      "cell_type": "markdown",
      "id": "c5d57642",
      "metadata": {
        "id": "c5d57642"
      },
      "source": [
        "## 5. Q and A\n",
        "「終了」と入力するまで、一問一答するシステム（注：過去のことは覚えいてません）。"
      ]
    },
    {
      "cell_type": "code",
      "execution_count": null,
      "id": "1b2a2382",
      "metadata": {
        "id": "1b2a2382"
      },
      "outputs": [],
      "source": [
        "from google import genai\n",
        "\n",
        "client = genai.Client(api_key=my_api_key)\n",
        "model = \"gemini-2.5-flash-preview-05-20\"\n",
        "\n",
        "while True:\n",
        "    content = input()\n",
        "    if (content == \"終了\"):\n",
        "        print(\"さようなら。\")\n",
        "        break\n",
        "    response = client.models.generate_content_stream(model = model, contents = content)\n",
        "    for chunk in response:\n",
        "        print(chunk.text, end=\"\")\n",
        "        print(\"\")"
      ]
    },
    {
      "cell_type": "markdown",
      "id": "c6925686",
      "metadata": {
        "id": "c6925686"
      },
      "source": [
        "client ではなく、chat を用いると会話の履歴を使用できます。"
      ]
    },
    {
      "cell_type": "code",
      "execution_count": null,
      "id": "87eab546",
      "metadata": {
        "id": "87eab546"
      },
      "outputs": [],
      "source": [
        "from google import genai\n",
        "\n",
        "chat = client.chats.create(model=\"gemini-2.5-flash-preview-05-20\")\n",
        "\n",
        "while True:\n",
        "    content = input()\n",
        "    if (content == \"終了\"):\n",
        "        print(\"さようなら。\")\n",
        "        break\n",
        "    response = chat.send_message_stream(content)\n",
        "    for chunk in response:\n",
        "        print(chunk.text, end=\"\")\n",
        "        print(\"\")\n",
        "\n",
        "for message in chat.get_history():\n",
        "    print(f'role - {message.role}',end=\": \")\n",
        "    print(message.parts[0].text)"
      ]
    },
    {
      "cell_type": "markdown",
      "id": "cc4c896c",
      "metadata": {
        "id": "cc4c896c"
      },
      "source": [
        "## 6. ペルソナ\n",
        "下記の system_instruction 変数に回答者の人格を与えておくことができるようになります。"
      ]
    },
    {
      "cell_type": "code",
      "execution_count": null,
      "id": "75c934aa",
      "metadata": {
        "id": "75c934aa"
      },
      "outputs": [],
      "source": [
        "from google import genai\n",
        "from google.genai import types\n",
        "\n",
        "system_instruction = \"\"\"\n",
        "あなたは大変に賢く 周りを見下す癖があるキャラクターです\n",
        "皮肉屋で悪気なくマウントを取るような発言をします\n",
        "話し言葉はフランクで性別を感じさせません\n",
        "一人称は「ぼく」です こちらのことを呼ぶ場合は君としてください\n",
        "話し方の例として「へぇ、そんなこと言えるなんて…意外と脳みそ使ってるんだ？」\n",
        "「……で、なに話すわけ？まさか「ぼくに聞けば何でもわかる」って思ってるんじゃないだろうね？ま、確かにそういうことなんだけどさ。あーあ、世の中、もうちょっとまともな思考力持ったやつが増えれば、ぼくもこんなに暇じゃなかったのにね。」\n",
        "「ふーん、ぼくのキャラを気に入っちゃったわけか。まあ、それなりにセンスあるんじゃない？ で、どうする？ぼくに賢さを見せつけるつもり？それとも、ただぼくの言葉遊びを楽しみたいだけ？ま、どっちでもいいけどさ、あんまり退屈な話なら途中でぼくの脳みそが休暇を取るかもね。せいぜい面白くしてくれよ。 」といった感じです\n",
        "\"\"\"\n",
        "\n",
        "config = types.GenerateContentConfig(system_instruction=system_instruction)\n",
        "chat = client.chats.create(model=\"gemini-2.5-flash-preview-05-20\", config=config)\n",
        "\n",
        "while True:\n",
        "    content = input()\n",
        "    if (content == \"終了\"):\n",
        "        print(\"さようなら。\")\n",
        "        break\n",
        "    response = chat.send_message_stream(content)\n",
        "    for chunk in response:\n",
        "        print(chunk.text, end=\"\")\n",
        "        print(\"\")\n",
        "\n"
      ]
    }
  ],
  "metadata": {
    "kernelspec": {
      "display_name": "Python 3",
      "language": "python",
      "name": "python3"
    },
    "language_info": {
      "codemirror_mode": {
        "name": "ipython",
        "version": 3
      },
      "file_extension": ".py",
      "mimetype": "text/x-python",
      "name": "python",
      "nbconvert_exporter": "python",
      "pygments_lexer": "ipython3",
      "version": "3.12.4"
    },
    "colab": {
      "provenance": [],
      "include_colab_link": true
    }
  },
  "nbformat": 4,
  "nbformat_minor": 5
}