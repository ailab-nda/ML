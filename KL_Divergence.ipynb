{
  "metadata": {
    "kernelspec": {
      "display_name": "Python 3",
      "language": "python",
      "name": "python3"
    },
    "language_info": {
      "name": "python",
      "version": "3.6.4",
      "mimetype": "text/x-python",
      "codemirror_mode": {
        "name": "ipython",
        "version": 3
      },
      "pygments_lexer": "ipython3",
      "nbconvert_exporter": "python",
      "file_extension": ".py"
    },
    "colab": {
      "provenance": [],
      "include_colab_link": true
    }
  },
  "nbformat_minor": 0,
  "nbformat": 4,
  "cells": [
    {
      "cell_type": "markdown",
      "metadata": {
        "id": "view-in-github",
        "colab_type": "text"
      },
      "source": [
        "<a href=\"https://colab.research.google.com/github/ailab-nda/ML/blob/main/KL_Divergence.ipynb\" target=\"_parent\"><img src=\"https://colab.research.google.com/assets/colab-badge.svg\" alt=\"Open In Colab\"/></a>"
      ]
    },
    {
      "cell_type": "markdown",
      "source": [
        "# **Understanding KL Divergence**"
      ],
      "metadata": {
        "id": "UD4tCOCLWIL7"
      }
    },
    {
      "cell_type": "markdown",
      "source": [
        "I got curious about KL Divergence after reading the Variational Auto Encoder Paper. So, I decided to investigate it to get a better intuition.\n",
        "\n",
        "KL Divergence is a measure of how one probability distribution ($P$) is different from a second probability distribution ($Q$). If two distributions are identical, their KL div. should be 0. Hence, by minimizing KL div., we can find paramters of the second distribution ($Q$) that approximate $P$.\n",
        "\n",
        "In this post i try to approximate the distribution $P$ (sum of two gaussians) by minimizing its KL divergence with another gaussian distribution $Q$.\n"
      ],
      "metadata": {
        "id": "CVJdupPnWECy"
      }
    },
    {
      "cell_type": "markdown",
      "source": [
        "# Loading Libraries"
      ],
      "metadata": {
        "id": "BgVSLeHnWEC2"
      }
    },
    {
      "cell_type": "code",
      "source": [
        "import pdb\n",
        "import numpy as np\n",
        "import torch\n",
        "from torch.autograd import grad\n",
        "import torch.nn.functional as F\n",
        "import matplotlib.pyplot as plt\n",
        "\n",
        "# for animation\n",
        "%matplotlib inline\n",
        "import matplotlib.animation\n",
        "from IPython.display import Image\n",
        "\n",
        "import warnings\n",
        "warnings.filterwarnings('ignore')\n",
        "\n",
        "from typing import Dict, List, Tuple"
      ],
      "metadata": {
        "trusted": true,
        "id": "5NOG2xYrWEC3"
      },
      "execution_count": null,
      "outputs": []
    },
    {
      "cell_type": "markdown",
      "source": [
        "# Constructing Gaussians"
      ],
      "metadata": {
        "id": "_dwlMrOSWEC4"
      }
    },
    {
      "cell_type": "markdown",
      "source": [
        "Pytorch provides easy way to obtain samples from a particular type of distribution. You can find many types of commonly used distributions in torch.distributions\n",
        "Let us first construct two gaussians with $$\\mu_{1}=-5,\\sigma_{1}=1$$ and $$\\mu_{1}=10, \\sigma_{1}=1$$"
      ],
      "metadata": {
        "id": "4CIGMMGtWEC5"
      }
    },
    {
      "cell_type": "code",
      "source": [
        "mu1,sigma1 = -5,1\n",
        "mu2,sigma2 = 10,1\n",
        "\n",
        "gaussian1 = torch.distributions.Normal(mu1,sigma1)\n",
        "gaussian2 = torch.distributions.Normal(mu2,sigma2)"
      ],
      "metadata": {
        "trusted": true,
        "id": "0ZVAHU-GWEC5"
      },
      "execution_count": null,
      "outputs": []
    },
    {
      "cell_type": "markdown",
      "source": [
        "# Sanity Check\n",
        "Let us sample the distributions at some points to verify if its a gaussian with expected parameters"
      ],
      "metadata": {
        "id": "rXIOYli3WEC5"
      }
    },
    {
      "cell_type": "code",
      "source": [
        "plt.figure(figsize=(14,4))\n",
        "x = torch.linspace(mu1-5*sigma1,mu1+5*sigma1,1000)\n",
        "plt.subplot(1,2,1)\n",
        "plt.plot(x.numpy(),gaussian1.log_prob(x).exp().numpy())\n",
        "plt.title(f'$\\mu={mu1},\\sigma={sigma1}$')\n",
        "\n",
        "x = torch.linspace(mu2-5*sigma2,mu2+5*sigma2,1000)\n",
        "plt.subplot(1,2,2)\n",
        "plt.plot(x.numpy(),gaussian2.log_prob(x).exp().numpy())\n",
        "plt.title(f'$\\mu={mu2},\\sigma={sigma2}$')\n",
        "\n",
        "plt.suptitle('Plotting the distributions')"
      ],
      "metadata": {
        "trusted": true,
        "id": "YcCO0QmSWEC6"
      },
      "execution_count": null,
      "outputs": []
    },
    {
      "cell_type": "markdown",
      "source": [
        "The above figure shows that the distributions have been correctly constructed.\n",
        "\n",
        "Let us add the gaussians and generate a new distribution, $P(x)$.\n",
        "\n",
        "Our aim will be to approximate this new distribution\n",
        "using another gaussian $Q(x)$. We will try to find the parameters $\\mu_{Q},\\sigma_{Q}$ by minimizing the KL divergence between the distributions $P(x)$ and $Q(x)$"
      ],
      "metadata": {
        "id": "MXRbTxyuWEC6"
      }
    },
    {
      "cell_type": "code",
      "source": [
        "plt.figure(figsize=(14,4))\n",
        "x = torch.linspace(-mu1-mu2-5*sigma1-5*sigma2,mu1+mu2+5*sigma1+5*sigma2,1000)\n",
        "px = gaussian1.log_prob(x).exp() + gaussian2.log_prob(x).exp()\n",
        "plt.subplot(1,2,2)\n",
        "plt.plot(x.numpy(),px.numpy())\n",
        "plt.title('$P(X)$')"
      ],
      "metadata": {
        "trusted": true,
        "id": "HspPk9rhWEC6"
      },
      "execution_count": null,
      "outputs": []
    },
    {
      "cell_type": "markdown",
      "source": [
        "## Constructing $Q(X)$\n",
        "\n",
        "We will be using a gaussian distribution to approximate $P(X)$. We don't know the optimal paramters that will best approximate the distribution $P(x)$.\n",
        "\n",
        "So, let us simply take $\\mu=0,\\sigma=1$ as our starting point.\n",
        "\n",
        "We could chosen better values, since we already have prior knowledge about the distribution that we are trying to approximate $(P(x))$. But this is mostly not the case in real scenarios"
      ],
      "metadata": {
        "id": "Z6RajgnOWEC6"
      }
    },
    {
      "cell_type": "code",
      "source": [
        "mu = torch.tensor([0.0])\n",
        "sigma = torch.tensor([1.0])\n",
        "\n",
        "plt.figure(figsize=(14,4))\n",
        "x = torch.linspace(-mu1-mu2-5*sigma1-5*sigma2,mu1+mu2+5*sigma1+5*sigma2,1000)\n",
        "Q = torch.distributions.Normal(mu,sigma) # this should approximate P, eventually :-)\n",
        "qx = Q.log_prob(x).exp()\n",
        "plt.subplot(1,2,2)\n",
        "plt.plot(x.numpy(),qx.detach().numpy())\n",
        "plt.title('$Q(X)$')"
      ],
      "metadata": {
        "trusted": true,
        "id": "f0KPgGA1WEC7"
      },
      "execution_count": null,
      "outputs": []
    },
    {
      "cell_type": "markdown",
      "source": [
        "## KL-Divergence\n",
        "$$D_{KL}(P(x)||Q(X)) = \\sum_{x \\in X} P(x) \\log(P(x) / Q(x))$$\n"
      ],
      "metadata": {
        "id": "g4zc3p9DWEC7"
      }
    },
    {
      "cell_type": "markdown",
      "source": [
        "### Computing in pytorch"
      ],
      "metadata": {
        "id": "Bz97Kbm9WEC7"
      }
    },
    {
      "cell_type": "markdown",
      "source": [
        "Pytorch provides function for computing KL Divergence. You can read more about it [here](https://pytorch.org/docs/stable/nn.html#torch.nn.functional.kl_div).\n",
        "\n",
        "The thing to note is that the input given is expected to contain log-probabilities. The targets are given as probabilities (i.e. without taking the logarithm).\n",
        "\n",
        "So, the first argument to the function will be Q and second argument will be P (the target distribution).\n",
        "\n",
        "Also, we have to be careful about numerical stabilty."
      ],
      "metadata": {
        "id": "qcPFS8hVWEC7"
      }
    },
    {
      "cell_type": "code",
      "source": [
        "px = gaussian1.log_prob(x).exp() + gaussian2.log_prob(x).exp()\n",
        "qx = Q.log_prob(x).exp()\n",
        "F.kl_div(qx.log(),px)"
      ],
      "metadata": {
        "trusted": true,
        "id": "br4bDg51WEC7"
      },
      "execution_count": null,
      "outputs": []
    },
    {
      "cell_type": "markdown",
      "source": [
        "The Divergence is Infinity :-) I think this issue is caused when we exponentiate and then again take log. Using the log values directly seems to be fine."
      ],
      "metadata": {
        "id": "6DfobjjkWEC7"
      }
    },
    {
      "cell_type": "code",
      "source": [
        "px = gaussian1.log_prob(x).exp() + gaussian2.log_prob(x).exp()\n",
        "qx = Q.log_prob(x)\n",
        "F.kl_div(qx,px)"
      ],
      "metadata": {
        "trusted": true,
        "id": "i8YvcgA9WEC8"
      },
      "execution_count": null,
      "outputs": []
    },
    {
      "cell_type": "code",
      "source": [
        "def optimize_loss(px: torch.tensor, loss_fn: str, muq: float = 0.0, sigmaq: float = 1.0,\\\n",
        "                  subsample_factor:int = 3,mode:str = 'min') -> Tuple[float,float,List[int]]:\n",
        "\n",
        "    mu = torch.tensor([muq],requires_grad=True)\n",
        "    sigma = torch.tensor([sigmaq],requires_grad=True)\n",
        "\n",
        "    opt = torch.optim.Adam([mu,sigma])\n",
        "\n",
        "    loss_val = []\n",
        "    epochs = 10000\n",
        "\n",
        "    #required for animation\n",
        "    all_qx,all_mu = [],[]\n",
        "    subsample_factor = 3 #have to subsample to reduce memory usage\n",
        "\n",
        "    torch_loss_fn = getattr(F,loss_fn)\n",
        "    for i in range(epochs):\n",
        "        Q = torch.distributions.Normal(mu,sigma) # this should approximate P\n",
        "        if loss_fn!='kl_div': # we need to exponentiate q(x) for these and few other cases\n",
        "            qx = Q.log_prob(x).exp()\n",
        "            all_qx.append(qx.detach().numpy()[::subsample_factor])\n",
        "        else:\n",
        "            qx = Q.log_prob(x)\n",
        "            all_qx.append(qx.exp().detach().numpy()[::subsample_factor])\n",
        "\n",
        "        if mode=='min':\n",
        "            loss = torch_loss_fn(qx,px)\n",
        "        else:\n",
        "            loss = -torch_loss_fn(qx,px,dim=0)\n",
        "    #   backward pass\n",
        "        opt.zero_grad()\n",
        "        loss.backward()\n",
        "        opt.step()\n",
        "        loss_val.append(loss.detach().numpy())\n",
        "        all_mu.append(mu.data.numpy()[0])\n",
        "\n",
        "\n",
        "        if i%(epochs//10)==0:\n",
        "            print('Epoch:',i,'Loss:',loss.data.numpy(),'mu',mu.data.numpy()[0],'sigma',sigma.data.numpy()[0])\n",
        "\n",
        "\n",
        "    print('Epoch:',i,'Loss:',loss.data.numpy(),'mu',mu.data.numpy()[0],'sigma',sigma.data.numpy()[0])\n",
        "\n",
        "    plt.figure(figsize=(14,6))\n",
        "    plt.subplot(2,2,1)\n",
        "    plt.plot(loss_val)\n",
        "    plt.xlabel('epoch')\n",
        "    plt.ylabel(f'{loss_fn} (Loss)')\n",
        "    plt.title(f'{loss_fn} vs epoch')\n",
        "\n",
        "    plt.subplot(2,2,2)\n",
        "    plt.plot(all_mu)\n",
        "    plt.xlabel('epoch')\n",
        "    plt.ylabel('$\\mu$')\n",
        "    plt.title('$\\mu$ vs epoch')\n",
        "\n",
        "    return mu.data.numpy()[0],sigma.data.numpy()[0],all_qx"
      ],
      "metadata": {
        "trusted": true,
        "id": "G-gE36P1WEC8"
      },
      "execution_count": null,
      "outputs": []
    },
    {
      "cell_type": "code",
      "source": [
        "x = torch.linspace(-mu1-mu2-5*sigma1-5*sigma2,mu1+mu2+5*sigma1+5*sigma2,1000)\n",
        "px = gaussian1.log_prob(x).exp() + gaussian2.log_prob(x).exp()\n",
        "mu,sigma,all_qx = optimize_loss(px, loss_fn='kl_div', muq = 0.0, sigmaq = 1.0)"
      ],
      "metadata": {
        "trusted": true,
        "id": "nWyTubuvWEC8"
      },
      "execution_count": null,
      "outputs": []
    },
    {
      "cell_type": "code",
      "source": [
        "def create_animation(x:torch.tensor,px:torch.tensor,all_qx:List,subsample_factor:int = 3,\\\n",
        "                     fn:str = 'anim_distr.gif') -> None:\n",
        "\n",
        "    # create a figure, axis and plot element\n",
        "    fig = plt.figure()\n",
        "    ax = plt.axes(xlim=(x.min(),x.max()), ylim=(0,0.5))\n",
        "    text = ax.text(3,0.3,0)\n",
        "    line1, = ax.plot([], [], color = \"r\")\n",
        "    line2, = ax.plot([], [], color = \"g\",alpha=0.7)\n",
        "\n",
        "    def animate(i):\n",
        "    #     non uniform sampling, interesting stuff happens fast initially\n",
        "        if i<75:\n",
        "            line1.set_data(x[::subsample_factor].numpy(),all_qx[i*50])\n",
        "            text.set_text(f'epoch={i*50}')\n",
        "            line2.set_data(x[::subsample_factor].numpy(),px.numpy()[::subsample_factor])\n",
        "        else:\n",
        "            line1.set_data(x[::subsample_factor].numpy(),all_qx[i*100])\n",
        "            text.set_text(f'epoch={i*100}')\n",
        "            line2.set_data(x[::subsample_factor].numpy(),px.numpy()[::subsample_factor])\n",
        "\n",
        "        return [line1,line2]\n",
        "\n",
        "    ani = matplotlib.animation.FuncAnimation(fig,animate,frames=100\n",
        "                                   ,interval=200, blit=True)\n",
        "\n",
        "    fig.suptitle(f'Minimizing the {fn[:-3]}')\n",
        "    ax.legend(['Approximation','Actual Distribution'])\n",
        "    # save the animation as gif\n",
        "    ani.save(fn, writer='imagemagick', fps=10)"
      ],
      "metadata": {
        "trusted": true,
        "id": "8JUSuXJuWEC8"
      },
      "execution_count": null,
      "outputs": []
    },
    {
      "cell_type": "code",
      "source": [
        "# %% capture if you dont want to display the final image\n",
        "ani = create_animation(x,px,all_qx,fn='kl_div.gif')\n",
        "Image(\"../working/kl_div.gif\")"
      ],
      "metadata": {
        "trusted": true,
        "id": "6ADt3QXYWEC8"
      },
      "execution_count": null,
      "outputs": []
    },
    {
      "cell_type": "markdown",
      "source": [
        "Let us try to see what we get when we try to solve the Mean Squared Distance between $P$ and $Q$"
      ],
      "metadata": {
        "trusted": true,
        "id": "J5zI_0GyWEC8"
      }
    },
    {
      "cell_type": "code",
      "source": [
        "x = torch.linspace(-mu1-mu2-5*sigma1-5*sigma2,mu1+mu2+5*sigma1+5*sigma2,1000)\n",
        "px = gaussian1.log_prob(x).exp() + gaussian2.log_prob(x).exp()\n",
        "mu,sigma,all_qx = optimize_loss(px, loss_fn='mse_loss', muq = 0.0, sigmaq = 1.0)"
      ],
      "metadata": {
        "trusted": true,
        "id": "cXPaHn_IWEC8"
      },
      "execution_count": null,
      "outputs": []
    },
    {
      "cell_type": "code",
      "source": [
        "fn = 'mse_loss_mean0.gif'\n",
        "ani = create_animation(x,px,all_qx,fn=fn)\n",
        "Image(f\"../working/{fn}\")"
      ],
      "metadata": {
        "trusted": true,
        "id": "plF5zx7UWEC8"
      },
      "execution_count": null,
      "outputs": []
    },
    {
      "cell_type": "markdown",
      "source": [
        "We can see that the result is very different from the KL divergence case. We are converging towards one of the gaussians, no middle ground !\n",
        "\n",
        "Also, you can try expeimenting with different initial values for $\\mu_{Q}$. If you choose a value that is closer to 10 (mean of the second gaussian), it will converge towards it."
      ],
      "metadata": {
        "id": "GjpopE9PWEC9"
      }
    },
    {
      "cell_type": "code",
      "source": [
        "x = torch.linspace(-mu1-mu2-5*sigma1-5*sigma2,mu1+mu2+5*sigma1+5*sigma2,1000)\n",
        "px = gaussian1.log_prob(x).exp() + gaussian2.log_prob(x).exp()\n",
        "mu,sigma,all_qx = optimize_loss(px, loss_fn='mse_loss', muq = 5.0, sigmaq = 1.0)\n",
        "\n",
        "fn = 'mse_loss_mean5.gif'\n",
        "ani = create_animation(x,px,all_qx,fn=fn)\n",
        "Image(f\"../working/{fn}\")"
      ],
      "metadata": {
        "trusted": true,
        "id": "KTpIoAYoWEC9"
      },
      "execution_count": null,
      "outputs": []
    },
    {
      "cell_type": "markdown",
      "source": [
        "You can easily very this to be the case for L1 loss also.\n",
        "\n",
        "Now, let us try to see what we get when we try to maximize the cosine similarity between two distributions.\n"
      ],
      "metadata": {
        "id": "-7r-U_AkWEC9"
      }
    },
    {
      "cell_type": "code",
      "source": [
        "x = torch.linspace(-mu1-mu2-5*sigma1-5*sigma2,mu1+mu2+5*sigma1+5*sigma2,1000)\n",
        "px = gaussian1.log_prob(x).exp() + gaussian2.log_prob(x).exp()\n",
        "mu,sigma,all_qx = optimize_loss(px, loss_fn='cosine_similarity', muq = 5.0, sigmaq = 1.0,mode='max')\n",
        "\n",
        "fn = 'cosine_similarity.gif'\n",
        "ani = create_animation(x,px,all_qx,fn=fn)\n",
        "Image(f\"../working/{fn}\")"
      ],
      "metadata": {
        "trusted": true,
        "id": "Jvfw4bIxWEC9"
      },
      "execution_count": null,
      "outputs": []
    },
    {
      "cell_type": "markdown",
      "source": [
        "## Conclusion\n",
        "As shown above in 1D case, we converge towards the nearest mean values. In a high dimensional space with multiple valleys, minimizing the MSE/L1 Loss can lead to different results.  In deep learning, we are randomly initializing the weights of neural network. So, it makes sense that we converge towards different local minimas in different runs of the same neural network.\n",
        "Techniques like stochastic weight averaging perhaps improve generalizibility because they offer weights to different local minimas. Its possible that different local minimas encode important information about the dataset.\n",
        "\n",
        "In the next post, I will try to explore Wasserstein distance."
      ],
      "metadata": {
        "trusted": true,
        "id": "g_u4sf9CWEC9"
      }
    },
    {
      "cell_type": "code",
      "source": [],
      "metadata": {
        "trusted": true,
        "id": "3PTnANtjWEC9"
      },
      "execution_count": null,
      "outputs": []
    }
  ]
}