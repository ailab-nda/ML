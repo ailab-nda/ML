{
  "cells": [
    {
      "cell_type": "markdown",
      "metadata": {
        "id": "view-in-github",
        "colab_type": "text"
      },
      "source": [
        "<a href=\"https://colab.research.google.com/github/ailab-nda/ML/blob/main/TweetAnalysis.ipynb\" target=\"_parent\"><img src=\"https://colab.research.google.com/assets/colab-badge.svg\" alt=\"Open In Colab\"/></a>"
      ]
    },
    {
      "cell_type": "markdown",
      "id": "3c8e6629-408c-4672-bb5c-63c3f611174b",
      "metadata": {
        "id": "3c8e6629-408c-4672-bb5c-63c3f611174b"
      },
      "source": [
        "# Tweet 解析\n"
      ]
    },
    {
      "cell_type": "markdown",
      "id": "81a68669-906f-4364-a00e-53226a5ebf90",
      "metadata": {
        "id": "81a68669-906f-4364-a00e-53226a5ebf90"
      },
      "source": [
        "出典：https://qiita.com/e10persona/items/7a7643b266c2bdfbf7d0"
      ]
    },
    {
      "cell_type": "markdown",
      "id": "864b15b3",
      "metadata": {
        "id": "864b15b3"
      },
      "source": [
        "ソフトウェアのインストール（Google Colab 用）"
      ]
    },
    {
      "cell_type": "code",
      "execution_count": null,
      "id": "2128b87a",
      "metadata": {
        "id": "2128b87a"
      },
      "outputs": [],
      "source": [
        "!apt install mecab libmecab-dev mecab-ipadic-utf8\n",
        "!ln -s /etc/mecabrc /usr/local/etc/mecabrc"
      ]
    },
    {
      "cell_type": "markdown",
      "id": "d53f7ddb-42c6-4081-b7a2-859d5e02823d",
      "metadata": {
        "id": "d53f7ddb-42c6-4081-b7a2-859d5e02823d"
      },
      "source": [
        "必要なライブラリのインストール"
      ]
    },
    {
      "cell_type": "code",
      "source": [
        "!pip install tweepy==4.12.0\n",
        "!pip install mecab-python3 wordcloud japanize-matplotlib"
      ],
      "metadata": {
        "id": "FUj174X_rqPA"
      },
      "id": "FUj174X_rqPA",
      "execution_count": null,
      "outputs": []
    },
    {
      "cell_type": "markdown",
      "id": "58d13133",
      "metadata": {
        "id": "58d13133"
      },
      "source": [
        "証明書関係エラー防止対策（防大内から）"
      ]
    },
    {
      "cell_type": "code",
      "execution_count": null,
      "id": "69a38a5d",
      "metadata": {
        "id": "69a38a5d"
      },
      "outputs": [],
      "source": [
        "# import os\n",
        "# import warnings\n",
        "# s.environ['CURL_CA_BUNDLE'] = ''\n",
        "# warnings.simplefilter('ignore')"
      ]
    },
    {
      "cell_type": "markdown",
      "id": "fb2ea599-3e8a-454b-8ac3-f3e3d3cf9c2d",
      "metadata": {
        "id": "fb2ea599-3e8a-454b-8ac3-f3e3d3cf9c2d"
      },
      "source": [
        "ライブラリのインポート"
      ]
    },
    {
      "cell_type": "code",
      "execution_count": null,
      "id": "51196983-f9a7-4964-9a9a-1b736f240b3e",
      "metadata": {
        "id": "51196983-f9a7-4964-9a9a-1b736f240b3e"
      },
      "outputs": [],
      "source": [
        "import tweepy\n",
        "import MeCab\n",
        "import csv\n",
        "import json\n",
        "from wordcloud import WordCloud\n",
        "import matplotlib.pyplot as plt\n",
        "import japanize_matplotlib\n",
        "import warnings\n",
        "import numpy as np\n",
        "import pandas as pd\n",
        "import collections"
      ]
    },
    {
      "cell_type": "markdown",
      "id": "5bade572-79dd-464c-89fc-deba2c872af2",
      "metadata": {
        "id": "5bade572-79dd-464c-89fc-deba2c872af2"
      },
      "source": [
        "## MeCab のテスト"
      ]
    },
    {
      "cell_type": "markdown",
      "id": "71c48559-4684-49e7-9113-c6d769840e4b",
      "metadata": {
        "id": "71c48559-4684-49e7-9113-c6d769840e4b"
      },
      "source": [
        "※ MeCab は別途インストールしておくこと"
      ]
    },
    {
      "cell_type": "code",
      "execution_count": null,
      "id": "076e91e3",
      "metadata": {
        "id": "076e91e3"
      },
      "outputs": [],
      "source": [
        "mecab = MeCab.Tagger() \n",
        "malist = mecab.parse(\"すもももももももものうち\")\n",
        "print(malist)"
      ]
    },
    {
      "cell_type": "markdown",
      "id": "9209c15c",
      "metadata": {
        "id": "9209c15c"
      },
      "source": [
        "## Tweet の取得"
      ]
    },
    {
      "cell_type": "markdown",
      "source": [
        "API を使うためのキーを設定（別途申請が必要）"
      ],
      "metadata": {
        "id": "9yfSUN5mCaWn"
      },
      "id": "9yfSUN5mCaWn"
    },
    {
      "cell_type": "code",
      "execution_count": null,
      "id": "45afdd93",
      "metadata": {
        "id": "45afdd93"
      },
      "outputs": [],
      "source": [
        "import config # config.py\n",
        "CK = config.CONSUMER_KEY\n",
        "CS = config.CONSUMER_SECRET\n",
        "AT = config.ACCESS_TOKEN\n",
        "AS = config.ACCESS_TOKEN_SECRET\n",
        "BT = config.BEARER_TOKEN"
      ]
    },
    {
      "cell_type": "code",
      "execution_count": null,
      "id": "169ae03d-9503-42d9-a21c-c252c25829c5",
      "metadata": {
        "id": "169ae03d-9503-42d9-a21c-c252c25829c5"
      },
      "outputs": [],
      "source": [
        "client = tweepy.Client(bearer_token=BT)"
      ]
    },
    {
      "cell_type": "markdown",
      "id": "b92118ff",
      "metadata": {
        "id": "b92118ff"
      },
      "source": [
        "## 特定ユーザーのツイートの取得"
      ]
    },
    {
      "cell_type": "code",
      "execution_count": null,
      "id": "fa21310b",
      "metadata": {
        "id": "fa21310b"
      },
      "outputs": [],
      "source": [
        "#'ndanyusi: 防衛大学校入試広報（公式）\n",
        "user = client.get_user(username='ndanyusi')\n",
        "id = user.data.id\n",
        "\n",
        "tweets = client.get_users_tweets(id=id , tweet_fields=['context_annotations', 'created_at'], max_results=100)\n",
        "for tweet in tweets.data:\n",
        "    print(user.data.name)\n",
        "    print(tweet.created_at)\n",
        "    print(tweet.text)\n",
        "    print(\"=================================\")"
      ]
    },
    {
      "cell_type": "markdown",
      "id": "8feb44d0",
      "metadata": {
        "id": "8feb44d0"
      },
      "source": [
        "### キーワードを含むツイートの取得"
      ]
    },
    {
      "cell_type": "code",
      "execution_count": null,
      "id": "9b53e351",
      "metadata": {
        "id": "9b53e351"
      },
      "outputs": [],
      "source": [
        "# Replace with your own search query\n",
        "query = '防衛大 -is:retweet'\n",
        "\n",
        "results = []\n",
        "# Replace the limit=10 with the maximum number of Tweets you want\n",
        "for tweet in tweepy.Paginator(client.search_recent_tweets, query=query,\n",
        "                              tweet_fields=['context_annotations', 'created_at'], user_fields=['username'],expansions=['author_id'], max_results=100).flatten(limit=100):\n",
        "    username = client.get_user(id=tweet.data['author_id']).data.name\n",
        "    dat = [username, tweet.created_at, tweet.text]\n",
        "    print(dat)\n",
        "    results.append(dat)\n",
        "    print(\"=================================\")"
      ]
    },
    {
      "cell_type": "markdown",
      "id": "ec9932af",
      "metadata": {
        "id": "ec9932af"
      },
      "source": [
        "## 結果の保存"
      ]
    },
    {
      "cell_type": "code",
      "execution_count": null,
      "id": "6240fdec",
      "metadata": {
        "id": "6240fdec"
      },
      "outputs": [],
      "source": [
        "df = pd.DataFrame(results, columns=['ユーザ名', '日時', 'テキスト'])\n",
        "df.to_csv('tweets.csv', index=False, encoding='cp932', errors='ignore')\n",
        "df"
      ]
    },
    {
      "cell_type": "markdown",
      "id": "da2dc6f9",
      "metadata": {
        "id": "da2dc6f9"
      },
      "source": [
        "## 結果の読み込み"
      ]
    },
    {
      "cell_type": "code",
      "execution_count": null,
      "id": "90110c76",
      "metadata": {
        "id": "90110c76"
      },
      "outputs": [],
      "source": [
        "df2 = pd.read_csv('tweets.csv', encoding='cp932')\n",
        "df2"
      ]
    },
    {
      "cell_type": "markdown",
      "id": "dbac63c7",
      "metadata": {
        "id": "dbac63c7"
      },
      "source": [
        "## MeCab で分析"
      ]
    },
    {
      "cell_type": "markdown",
      "id": "64a0e4f6",
      "metadata": {
        "id": "64a0e4f6"
      },
      "source": [
        "### 分かち書き、品詞の抜き出し"
      ]
    },
    {
      "cell_type": "code",
      "execution_count": null,
      "id": "1791d749",
      "metadata": {
        "id": "1791d749"
      },
      "outputs": [],
      "source": [
        "words = []\n",
        "for tweet in df['テキスト']:\n",
        "    node = mecab.parseToNode(tweet)\n",
        "    while node:\n",
        "        word = node.surface\n",
        "        word_type = node.feature.split(\",\")[0]\n",
        " \n",
        "        # \"名詞\", \"動詞\", \"形容詞\", \"副詞\"の中で選択したものを抽出\n",
        "        if word_type in [\"名詞\", \"動詞\", \"形容詞\"]:\n",
        "            words.append(word)\n",
        "        node = node.next\n",
        "    "
      ]
    },
    {
      "cell_type": "markdown",
      "id": "4fdbc26b",
      "metadata": {
        "id": "4fdbc26b"
      },
      "source": [
        "### WordCloud として表示"
      ]
    },
    {
      "cell_type": "markdown",
      "source": [
        "日本語フォントの準備"
      ],
      "metadata": {
        "id": "QLzkTKBRBs5j"
      },
      "id": "QLzkTKBRBs5j"
    },
    {
      "cell_type": "code",
      "source": [
        "!apt-get -y install fonts-ipafont-gothic\n",
        "!ls /usr/share/fonts/opentype/ipafont-gothic"
      ],
      "metadata": {
        "id": "TZ_wvKO08Glx"
      },
      "id": "TZ_wvKO08Glx",
      "execution_count": null,
      "outputs": []
    },
    {
      "cell_type": "code",
      "execution_count": null,
      "id": "25d7b17e",
      "metadata": {
        "id": "25d7b17e"
      },
      "outputs": [],
      "source": [
        "#wordcloudで出力するフォントを指定\n",
        "font_path = '/usr/share/fonts/opentype/ipafont-gothic/ipagp.ttf'\n",
        "txt = \" \".join(words)\n",
        "\n",
        "# ストップワードの設定(意味のない単語が含まれないように設定)\n",
        "stop_words = ['https', 't', 'co',  'RT']\n",
        "\n",
        "#解析した単語、ストップワードを設定、背景の色は白\n",
        "wordcloud = WordCloud(background_color=\"white\", font_path=font_path, stopwords=set(stop_words), width=800,height=600).generate(txt)\n",
        "\n",
        "fig = plt.figure(figsize=(30, 10))\n",
        "plt.imshow(wordcloud)\n",
        "plt.axis(\"off\")\n",
        "plt.show()"
      ]
    },
    {
      "cell_type": "markdown",
      "id": "f98e175c",
      "metadata": {
        "id": "f98e175c"
      },
      "source": [
        "## ポジ・ネガ分析（Transformer 版）"
      ]
    },
    {
      "cell_type": "markdown",
      "source": [
        "ライブラリのインストール"
      ],
      "metadata": {
        "id": "HJgaU9qsDCYk"
      },
      "id": "HJgaU9qsDCYk"
    },
    {
      "cell_type": "code",
      "execution_count": null,
      "id": "aa3cb339",
      "metadata": {
        "id": "aa3cb339"
      },
      "outputs": [],
      "source": [
        "!pip install transformers sentencepiece fugashi ipadic"
      ]
    },
    {
      "cell_type": "markdown",
      "source": [
        "ライブラリのインポート"
      ],
      "metadata": {
        "id": "GRnZ2B8cDEiD"
      },
      "id": "GRnZ2B8cDEiD"
    },
    {
      "cell_type": "code",
      "execution_count": null,
      "id": "d44c78fc",
      "metadata": {
        "id": "d44c78fc"
      },
      "outputs": [],
      "source": [
        "from transformers import pipeline \n",
        "from transformers import AutoModelForSequenceClassification \n",
        "from transformers import BertJapaneseTokenizer "
      ]
    },
    {
      "cell_type": "markdown",
      "source": [],
      "metadata": {
        "id": "N7osTqGrY8x7"
      },
      "id": "N7osTqGrY8x7"
    },
    {
      "cell_type": "markdown",
      "source": [
        "言語モデルのダウンロード"
      ],
      "metadata": {
        "id": "LORcZIcsDHLR"
      },
      "id": "LORcZIcsDHLR"
    },
    {
      "cell_type": "code",
      "execution_count": null,
      "id": "1c27ccfe",
      "metadata": {
        "id": "1c27ccfe"
      },
      "outputs": [],
      "source": [
        "model = AutoModelForSequenceClassification.from_pretrained('daigo/bert-base-japanese-sentiment') \n",
        "tokenizer = BertJapaneseTokenizer.from_pretrained('cl-tohoku/bert-base-japanese-whole-word-masking') \n",
        "nlp = pipeline(\"sentiment-analysis\", model=model, tokenizer=tokenizer) "
      ]
    },
    {
      "cell_type": "markdown",
      "source": [
        "ネガポジ分析（例）"
      ],
      "metadata": {
        "id": "qMjS2HU_DKW1"
      },
      "id": "qMjS2HU_DKW1"
    },
    {
      "cell_type": "code",
      "execution_count": null,
      "id": "bec0b5d0",
      "metadata": {
        "id": "bec0b5d0"
      },
      "outputs": [],
      "source": [
        "print(nlp(\"最後まで希望を捨てちゃいかん。あきらめたら、そこで試合終了だよ。\"))\n",
        "print(nlp(\"認めたくないものだな。自分自身の、若さゆえの過ちというものを。\"))"
      ]
    },
    {
      "cell_type": "markdown",
      "source": [
        "### Tweet のネガポジ分析"
      ],
      "metadata": {
        "id": "0WQeD1ABDRrm"
      },
      "id": "0WQeD1ABDRrm"
    },
    {
      "cell_type": "code",
      "execution_count": null,
      "id": "f8931c9c",
      "metadata": {
        "id": "f8931c9c"
      },
      "outputs": [],
      "source": [
        "sentiments = []\n",
        "for tweet in df['テキスト']:\n",
        "    print(tweet)\n",
        "    senti = nlp(tweet)\n",
        "    print(senti)\n",
        "    sentiments.append(senti[0]['score'])\n",
        "print(sentiments)\n",
        "print(np.mean(sentiments))"
      ]
    },
    {
      "cell_type": "code",
      "execution_count": null,
      "id": "b2c6a4f9",
      "metadata": {
        "id": "b2c6a4f9"
      },
      "outputs": [],
      "source": [
        "hist, bins = np.histogram(sentiments, bins=4)\n",
        "plt.figure(figsize=(8, 8))\n",
        "plt.rcParams[\"font.size\"] = 18\n",
        "plt.pie(hist, labels=['ネガ', 'ややネガ', 'ややポジ', 'ポジ'], counterclock=False, autopct='%0.1f%%', startangle=90)"
      ]
    },
    {
      "cell_type": "markdown",
      "id": "53517b1d",
      "metadata": {
        "id": "53517b1d"
      },
      "source": [
        "## 課題\n",
        "各自のテーマで Tweet を分析せよ。"
      ]
    },
    {
      "cell_type": "markdown",
      "id": "6069d67a",
      "metadata": {
        "id": "6069d67a"
      },
      "source": []
    }
  ],
  "metadata": {
    "interpreter": {
      "hash": "c6b05b93daf3f9d51f6f9bad260edf5badcb96fbb82eb040035f228177e317a6"
    },
    "kernelspec": {
      "display_name": "Python 3 (ipykernel)",
      "language": "python",
      "name": "python3"
    },
    "language_info": {
      "codemirror_mode": {
        "name": "ipython",
        "version": 3
      },
      "file_extension": ".py",
      "mimetype": "text/x-python",
      "name": "python",
      "nbconvert_exporter": "python",
      "pygments_lexer": "ipython3",
      "version": "3.9.9"
    },
    "colab": {
      "name": "TweetAnalysis.ipynb",
      "provenance": [],
      "include_colab_link": true
    }
  },
  "nbformat": 4,
  "nbformat_minor": 5
}