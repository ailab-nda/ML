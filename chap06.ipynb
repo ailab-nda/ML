{
  "cells": [
    {
      "cell_type": "markdown",
      "metadata": {
        "id": "view-in-github",
        "colab_type": "text"
      },
      "source": [
        "<a href=\"https://colab.research.google.com/github/ailab-nda/ML/blob/main/chap06.ipynb\" target=\"_parent\"><img src=\"https://colab.research.google.com/assets/colab-badge.svg\" alt=\"Open In Colab\"/></a>"
      ]
    },
    {
      "cell_type": "markdown",
      "metadata": {
        "id": "_hxC85FLeq3l"
      },
      "source": [
        "# 第6章\n",
        "\n",
        "教科書で取り上げた boston データは差別的な属性が含まれており、倫理的な問題があるとして scikit-learn ver1.2で削除されました。\n",
        "\n",
        "回帰用の toy data としては、代わりに [California housing dataset](https://scikit-learn.org/stable/modules/generated/sklearn.datasets.fetch_california_housing.html) を使うことが推奨されています。\n",
        "\n",
        "California housing データはブロックグループ内の収入の中央値、平均部屋数、平均世帯人数、緯度、経度などと不動産価格の関係を示したものです。このデータを用いて線形回帰と正則化、回帰木について学びます。\n"
      ]
    },
    {
      "cell_type": "code",
      "execution_count": null,
      "metadata": {
        "id": "DYxnQNsySP_J"
      },
      "outputs": [],
      "source": [
        "#!pip install scikit-learn --trusted-host pypi.python.org --trusted-host files.pythonhosted.org --trusted-host pypi.org"
      ]
    },
    {
      "cell_type": "code",
      "execution_count": null,
      "metadata": {
        "id": "5CirImGzLx1i"
      },
      "outputs": [],
      "source": [
        "#出力を小数点以下3桁に制限。DataFrame内では設定は無効\n",
        "%precision 3"
      ]
    },
    {
      "cell_type": "markdown",
      "metadata": {
        "id": "t861-6VPeq3n"
      },
      "source": [
        "## 線形回帰\n",
        "\n",
        "必要なライブラリを読み込みます。"
      ]
    },
    {
      "cell_type": "code",
      "execution_count": null,
      "metadata": {
        "id": "GHRwfw-eeq3p"
      },
      "outputs": [],
      "source": [
        "import numpy as np\n",
        "import pandas as pd\n",
        "import matplotlib.pyplot as plt\n",
        "from sklearn.preprocessing import StandardScaler\n",
        "from sklearn.linear_model import LinearRegression, Ridge, Lasso\n",
        "from sklearn.tree import DecisionTreeRegressor, plot_tree\n",
        "from sklearn.model_selection import ShuffleSplit\n",
        "from sklearn.model_selection import LeaveOneOut\n",
        "from sklearn.model_selection import cross_val_score"
      ]
    },
    {
      "cell_type": "markdown",
      "metadata": {
        "id": "MIWalNF1eq3v"
      },
      "source": [
        "### データの読み込み\n",
        "\n",
        "dataをX、targetをyに格納した後、DESCR属性を表示します。"
      ]
    },
    {
      "cell_type": "code",
      "execution_count": null,
      "metadata": {
        "id": "JfrbdgcN_0FM"
      },
      "outputs": [],
      "source": [
        "from sklearn.datasets import fetch_california_housing\n",
        "housing = fetch_california_housing()\n",
        "X = housing.data\n",
        "y = housing.target\n",
        "print(housing.DESCR)"
      ]
    },
    {
      "cell_type": "markdown",
      "metadata": {
        "id": "XWfTMIADeq34"
      },
      "source": [
        "np.set_printoptions(suppress=True)  として、ndarrayのデータを表示させたときに指数表示を行わないようにしてから、学習データXの冒頭5件ほどの内容を確認します。"
      ]
    },
    {
      "cell_type": "code",
      "execution_count": null,
      "metadata": {
        "id": "iC5Wl4Qieq36"
      },
      "outputs": [],
      "source": [
        "np.set_printoptions(suppress=True)\n",
        "X[0:5]"
      ]
    },
    {
      "cell_type": "code",
      "execution_count": null,
      "metadata": {
        "id": "j5uPFd1Qeq4A"
      },
      "outputs": [],
      "source": [
        "y[0:5]"
      ]
    },
    {
      "cell_type": "markdown",
      "metadata": {
        "id": "C1eG2PbbHDmI"
      },
      "source": [
        "特徴のスケールがかなり異なるので、標準化しておきます。"
      ]
    },
    {
      "cell_type": "code",
      "execution_count": null,
      "metadata": {
        "id": "jrIiDtJjHCQA"
      },
      "outputs": [],
      "source": [
        "ss = StandardScaler()\n",
        "X = ss.fit_transform(X)"
      ]
    },
    {
      "cell_type": "markdown",
      "metadata": {
        "id": "-IsVla70eq4G"
      },
      "source": [
        "組み込みデータセットの特徴名はfeature_names属性の値として文字列配列の形式で得られます。回帰式の解釈に必要になるので確認しておきます。"
      ]
    },
    {
      "cell_type": "code",
      "execution_count": null,
      "metadata": {
        "id": "QQnXCPEReq4H"
      },
      "outputs": [],
      "source": [
        "housing.feature_names"
      ]
    },
    {
      "cell_type": "markdown",
      "metadata": {
        "id": "rNxTzujEeq4M"
      },
      "source": [
        "[LinearRegression](http://scikit-learn.org/stable/modules/generated/sklearn.linear_model.LinearRegression.html)で線形回帰関数の学習を行います。"
      ]
    },
    {
      "cell_type": "code",
      "execution_count": null,
      "metadata": {
        "id": "HfqZruLoeq4N"
      },
      "outputs": [],
      "source": [
        "lr = LinearRegression()\n",
        "lr.fit(X, y)"
      ]
    },
    {
      "cell_type": "markdown",
      "metadata": {
        "id": "_9fql2S7eq4T"
      },
      "source": [
        "係数と係数の二乗和を表示します。"
      ]
    },
    {
      "cell_type": "code",
      "execution_count": null,
      "metadata": {
        "id": "ym4UEgiVeq4V"
      },
      "outputs": [],
      "source": [
        "for f, w in zip(housing.feature_names, lr.coef_) :\n",
        "    print(f\"{f:7s}: {w:6.2f}\")"
      ]
    },
    {
      "cell_type": "code",
      "execution_count": null,
      "metadata": {
        "id": "XC31dx1Heq4b"
      },
      "outputs": [],
      "source": [
        "sum(lr.coef_**2) #係数の二乗和"
      ]
    },
    {
      "cell_type": "markdown",
      "metadata": {
        "collapsed": true,
        "id": "SZDdaXqJeq4h"
      },
      "source": [
        "### 評価\n",
        "\n",
        "交差確認による[決定係数](http://mathtrain.jp/ketteikeisu)を用いた評価を行います。評価法はcross_val_scoreメソッドのscoring引数で決定係数を指定します。scoring引数の可能な値は[こちら](http://scikit-learn.org/stable/modules/model_evaluation.html)。また、交差確認における分割をランダムにするため、[ShuffleSplit](http://scikit-learn.org/stable/modules/generated/sklearn.model_selection.ShuffleSplit.html)を使います。\n"
      ]
    },
    {
      "cell_type": "code",
      "execution_count": null,
      "metadata": {
        "id": "1vUeXOSIeq4j"
      },
      "outputs": [],
      "source": [
        "cv = ShuffleSplit(n_splits=10)\n",
        "scores = cross_val_score(lr, X, y, cv=cv, scoring='r2')\n",
        "print(f\"{scores.mean():.2f} (+/- {scores.std():.2f})\")"
      ]
    },
    {
      "cell_type": "markdown",
      "metadata": {
        "id": "QOurMb3eeq4v"
      },
      "source": [
        "## 正則化\n",
        "\n",
        "[Ridge回帰(L2)](http://scikit-learn.org/stable/modules/generated/sklearn.linear_model.Ridge.html)\n",
        "のパラメータalphaの値でL2正則化項の重みを調整することで、汎化性能が上がる可能性があります。"
      ]
    },
    {
      "cell_type": "code",
      "execution_count": null,
      "metadata": {
        "id": "hRU6Y3WLeq4w"
      },
      "outputs": [],
      "source": [
        "lr2 = Ridge(alpha=10.0)\n",
        "lr2.fit(X, y)"
      ]
    },
    {
      "cell_type": "markdown",
      "metadata": {
        "id": "9Ib7g6cxeq44"
      },
      "source": [
        "係数と係数の二乗和を表示します。"
      ]
    },
    {
      "cell_type": "code",
      "execution_count": null,
      "metadata": {
        "id": "LHu3rCvNeq45"
      },
      "outputs": [],
      "source": [
        "for f, w in zip(housing.feature_names, lr2.coef_) :\n",
        "    print(f\"{f:7s}: {w:6.2f}\")"
      ]
    },
    {
      "cell_type": "code",
      "execution_count": null,
      "metadata": {
        "id": "ExM7PVFjeq5B"
      },
      "outputs": [],
      "source": [
        "sum(lr2.coef_**2)"
      ]
    },
    {
      "cell_type": "markdown",
      "metadata": {
        "id": "zTsBZNgSeq5K"
      },
      "source": [
        "交差確認による決定係数を用いた評価"
      ]
    },
    {
      "cell_type": "code",
      "execution_count": null,
      "metadata": {
        "id": "BtNVaxl2eq5L"
      },
      "outputs": [],
      "source": [
        "scores = cross_val_score(lr2, X, y, cv=cv, scoring='r2')\n",
        "print(f\"{scores.mean():.2f} (+/- {scores.std():.2f})\")"
      ]
    },
    {
      "cell_type": "markdown",
      "metadata": {
        "id": "cDxItkIweq5a"
      },
      "source": [
        "[Lasso回帰(L1)](http://scikit-learn.org/stable/modules/generated/sklearn.linear_model.Lasso.html)\n",
        "のパラメータalphaの値を大きくすれば、L1正則化項の重みが大きくなり、重みが0となる次元が増えます。"
      ]
    },
    {
      "cell_type": "code",
      "execution_count": null,
      "metadata": {
        "id": "yWEBV_k6eq5b"
      },
      "outputs": [],
      "source": [
        "lr3 = Lasso(alpha=0.05)\n",
        "lr3.fit(X, y)"
      ]
    },
    {
      "cell_type": "markdown",
      "metadata": {
        "id": "19o-0b4zeq5g"
      },
      "source": [
        "係数と係数の二乗和を表示します。"
      ]
    },
    {
      "cell_type": "code",
      "execution_count": null,
      "metadata": {
        "id": "8H725rsBeq5h"
      },
      "outputs": [],
      "source": [
        "for f, w in zip(housing.feature_names, lr3.coef_) :\n",
        "    print(f\"{f:7s}: {w:6.2f}\")"
      ]
    },
    {
      "cell_type": "code",
      "execution_count": null,
      "metadata": {
        "id": "P0xUMMSweq5o"
      },
      "outputs": [],
      "source": [
        "sum(lr3.coef_**2)"
      ]
    },
    {
      "cell_type": "markdown",
      "metadata": {
        "id": "nRB1SNPYeq5t"
      },
      "source": [
        "結果に影響の大きい特徴をリストアップ"
      ]
    },
    {
      "cell_type": "code",
      "execution_count": null,
      "metadata": {
        "id": "7-y4IhRsDe6p"
      },
      "outputs": [],
      "source": [
        "np.array(housing.feature_names)[abs(lr3.coef_) > 0.1]"
      ]
    },
    {
      "cell_type": "markdown",
      "metadata": {
        "id": "Mtwackhteq5z"
      },
      "source": [
        "交差確認による決定係数を用いた評価"
      ]
    },
    {
      "cell_type": "code",
      "execution_count": null,
      "metadata": {
        "id": "u91eg465eq50"
      },
      "outputs": [],
      "source": [
        "scores = cross_val_score(lr3, X, y, cv=cv, scoring='r2')\n",
        "print(f\"{scores.mean():.2f} (+/- {scores.std():.2f})\")"
      ]
    },
    {
      "cell_type": "markdown",
      "metadata": {
        "id": "hl4CCRqoGjLA"
      },
      "source": [
        "## 回帰木"
      ]
    },
    {
      "cell_type": "markdown",
      "metadata": {
        "id": "66aV4U_KGjLA"
      },
      "source": [
        "回帰木の作成。深さは3にしておきます。"
      ]
    },
    {
      "cell_type": "code",
      "execution_count": null,
      "metadata": {
        "id": "cKSbKUAvGjLB"
      },
      "outputs": [],
      "source": [
        "rt = DecisionTreeRegressor(max_depth = 3)\n",
        "rt.fit(X, y)"
      ]
    },
    {
      "cell_type": "markdown",
      "metadata": {
        "id": "2i3LykT-GjLB"
      },
      "source": [
        "木の表示を行います。ノードの色の濃さはそのノードに割り当てられた出力値の平均を反映しています。"
      ]
    },
    {
      "cell_type": "code",
      "execution_count": null,
      "metadata": {
        "id": "UL7OQGb0GjLB"
      },
      "outputs": [],
      "source": [
        "plt.figure(figsize=(15,12))\n",
        "plot_tree(rt, filled=True, feature_names=housing.feature_names, fontsize=10)\n",
        "plt.show()"
      ]
    },
    {
      "cell_type": "markdown",
      "metadata": {
        "id": "ONRD4Fj0GjLB"
      },
      "source": [
        "### 評価\n",
        "\n",
        "交差確認による決定係数を用いた評価"
      ]
    },
    {
      "cell_type": "code",
      "execution_count": null,
      "metadata": {
        "id": "iLPw530pGjLB"
      },
      "outputs": [],
      "source": [
        "scores = cross_val_score(rt, X, y, cv=cv, scoring='r2')\n",
        "print(f\"{scores.mean():.2f} (+/- {scores.std():.2f})\")"
      ]
    },
    {
      "cell_type": "markdown",
      "metadata": {
        "id": "UnSJDeqrGjLB"
      },
      "source": [
        "### ハイパーパラメータの変更\n",
        "\n",
        "木を浅くしてみます。"
      ]
    },
    {
      "cell_type": "code",
      "execution_count": null,
      "metadata": {
        "id": "eosSbAybGjLB"
      },
      "outputs": [],
      "source": [
        "rt2 = DecisionTreeRegressor(max_depth = 2)\n",
        "rt2.fit(X,y)"
      ]
    },
    {
      "cell_type": "markdown",
      "metadata": {
        "id": "XZpK9NQ7GjLC"
      },
      "source": [
        "木の表示"
      ]
    },
    {
      "cell_type": "code",
      "execution_count": null,
      "metadata": {
        "id": "rMJE3_noGjLC"
      },
      "outputs": [],
      "source": [
        "plt.figure(figsize=(15,12))\n",
        "plot_tree(rt2, filled=True, feature_names=housing.feature_names, fontsize=10)\n",
        "plt.show()"
      ]
    },
    {
      "cell_type": "markdown",
      "metadata": {
        "id": "HDxRIBsIGjLC"
      },
      "source": [
        "交差確認による決定係数を用いた評価"
      ]
    },
    {
      "cell_type": "code",
      "execution_count": null,
      "metadata": {
        "id": "w1ZD7U3pGjLC"
      },
      "outputs": [],
      "source": [
        "scores = cross_val_score(rt2, X, y, cv=cv, scoring='r2')\n",
        "print(f\"{scores.mean():.2f} (+/- {scores.std():.2f})\")"
      ]
    },
    {
      "cell_type": "markdown",
      "metadata": {
        "id": "bmnXetsAGjLC"
      },
      "source": [
        "木を深くしてみます。"
      ]
    },
    {
      "cell_type": "code",
      "execution_count": null,
      "metadata": {
        "id": "8Offm02xGjLC"
      },
      "outputs": [],
      "source": [
        "rt3 = DecisionTreeRegressor(max_depth = 6)\n",
        "rt3.fit(X,y)"
      ]
    },
    {
      "cell_type": "markdown",
      "metadata": {
        "id": "5BZbHkMUGjLC"
      },
      "source": [
        "木の表示"
      ]
    },
    {
      "cell_type": "code",
      "execution_count": null,
      "metadata": {
        "id": "iHNrd7DgGjLC"
      },
      "outputs": [],
      "source": [
        "plt.figure(figsize=(15,12))\n",
        "plot_tree(rt3, filled=True, feature_names=housing.feature_names, fontsize=10)\n",
        "plt.show()"
      ]
    },
    {
      "cell_type": "markdown",
      "metadata": {
        "id": "eApOOMeIGjLC"
      },
      "source": [
        "交差確認による決定係数を用いた評価"
      ]
    },
    {
      "cell_type": "code",
      "execution_count": null,
      "metadata": {
        "id": "YQptmNEhGjLC"
      },
      "outputs": [],
      "source": [
        "scores = cross_val_score(rt3, X, y, cv=cv, scoring='r2')\n",
        "print(f\"{scores.mean():.2f} (+/- {scores.std():.2f})\")"
      ]
    },
    {
      "cell_type": "markdown",
      "metadata": {
        "id": "WyR_AXgHQR5A"
      },
      "source": [
        "二乗誤差の値を見ると、深い木の方が性能が高くなっています。これはこのデータのみに言えることで、一般化はできません。"
      ]
    },
    {
      "cell_type": "markdown",
      "metadata": {
        "id": "-G5ILx2XGjLD"
      },
      "source": [
        "# 演習問題\n",
        "\n",
        "scikit-learn付属のdiabetesデータに対して、線形回帰を行ってください。また、正則化（L1,L2)の効果を測定してください。"
      ]
    },
    {
      "cell_type": "markdown",
      "metadata": {
        "id": "_LBiAraW9xNW"
      },
      "source": [
        "### ライブラリの読み込み"
      ]
    },
    {
      "cell_type": "code",
      "execution_count": null,
      "metadata": {
        "id": "Nhf-Jhux9xNW"
      },
      "outputs": [],
      "source": [
        "import numpy as np\n",
        "import matplotlib.pyplot as plt\n",
        "from sklearn.datasets import load_diabetes\n",
        "from sklearn.linear_model import LinearRegression, Ridge, Lasso\n",
        "from sklearn.tree import DecisionTreeRegressor, plot_tree\n",
        "from sklearn.model_selection import ShuffleSplit\n",
        "from sklearn.model_selection import LeaveOneOut\n",
        "from sklearn.model_selection import cross_val_score"
      ]
    },
    {
      "cell_type": "markdown",
      "metadata": {
        "id": "04vq_Ofc9xNW"
      },
      "source": [
        "### データの読み込み"
      ]
    },
    {
      "cell_type": "code",
      "execution_count": null,
      "metadata": {
        "id": "yNGKqqCb9xNW"
      },
      "outputs": [],
      "source": [
        "diabetes = load_diabetes(as_frame=True)\n",
        "print(diabetes.DESCR)\n",
        "X = diabetes.data\n",
        "y = diabetes.target"
      ]
    },
    {
      "cell_type": "code",
      "execution_count": null,
      "metadata": {
        "id": "wCaMDK7tJKvS"
      },
      "outputs": [],
      "source": [
        "X"
      ]
    },
    {
      "cell_type": "markdown",
      "metadata": {
        "id": "woDKqors9xNX"
      },
      "source": [
        "組み込みデータセットの特徴名はfeature_names属性の値として文字列配列の形式で得られます。回帰式の解釈に必要になるので確認しておきます。"
      ]
    },
    {
      "cell_type": "code",
      "execution_count": null,
      "metadata": {
        "id": "x1CstFt69xNX"
      },
      "outputs": [],
      "source": [
        "diabetes.feature_names"
      ]
    },
    {
      "cell_type": "markdown",
      "metadata": {
        "collapsed": true,
        "id": "cpADS8JH9xNX"
      },
      "source": [
        "### 評価"
      ]
    },
    {
      "cell_type": "code",
      "execution_count": null,
      "metadata": {
        "id": "QMSm3EGW9xNX"
      },
      "outputs": [],
      "source": []
    },
    {
      "cell_type": "markdown",
      "metadata": {
        "id": "-UoqLcSe9xNX"
      },
      "source": [
        "## 正則化"
      ]
    },
    {
      "cell_type": "code",
      "execution_count": null,
      "metadata": {
        "id": "12avohRB9xNY"
      },
      "outputs": [],
      "source": []
    }
  ],
  "metadata": {
    "colab": {
      "provenance": [],
      "include_colab_link": true
    },
    "kernelspec": {
      "display_name": "Python 3",
      "name": "python3"
    },
    "language_info": {
      "name": "python",
      "version": "3.12.4"
    }
  },
  "nbformat": 4,
  "nbformat_minor": 0
}