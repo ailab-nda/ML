{
  "nbformat": 4,
  "nbformat_minor": 0,
  "metadata": {
    "colab": {
      "name": "SpeechRecognition.ipynb",
      "provenance": [],
      "toc_visible": true,
      "authorship_tag": "ABX9TyPoWxVJTtno6bmTpUHw4nij",
      "include_colab_link": true
    },
    "kernelspec": {
      "name": "python3",
      "display_name": "Python 3"
    },
    "language_info": {
      "name": "python"
    },
    "accelerator": "GPU"
  },
  "cells": [
    {
      "cell_type": "markdown",
      "metadata": {
        "id": "view-in-github",
        "colab_type": "text"
      },
      "source": [
        "<a href=\"https://colab.research.google.com/github/ailab-nda/NLP/blob/main/SpeechRecognition.ipynb\" target=\"_parent\"><img src=\"https://colab.research.google.com/assets/colab-badge.svg\" alt=\"Open In Colab\"/></a>"
      ]
    },
    {
      "cell_type": "markdown",
      "metadata": {
        "id": "0bqKj_Hd2Jhl"
      },
      "source": [
        "# Speech_Recognition ライブラリによる音声認識の例"
      ]
    },
    {
      "cell_type": "markdown",
      "metadata": {
        "id": "vrouMUnN2RZC"
      },
      "source": [
        "## 1. 準備"
      ]
    },
    {
      "cell_type": "markdown",
      "metadata": {
        "id": "xL4d9zsg37Ko"
      },
      "source": [
        "### (1) ソフトのインストール"
      ]
    },
    {
      "cell_type": "code",
      "metadata": {
        "id": "BRy2Owb7x0-w"
      },
      "source": [
        "!apt install libasound2-dev portaudio19-dev libportaudio2 libportaudiocpp0 ffmpeg"
      ],
      "execution_count": null,
      "outputs": []
    },
    {
      "cell_type": "markdown",
      "metadata": {
        "id": "wyrjsL992XZw"
      },
      "source": [
        "### (2) ライブラリのインストール"
      ]
    },
    {
      "cell_type": "code",
      "metadata": {
        "id": "GUn5jwRmxZrO"
      },
      "source": [
        "# SpeechRecognitionのinstall\n",
        "!pip install speechrecognition\n",
        "# pyaudioのinstall\n",
        "!pip install Pyaudio"
      ],
      "execution_count": null,
      "outputs": []
    },
    {
      "cell_type": "markdown",
      "metadata": {
        "id": "AVQxDUEgx0Fh"
      },
      "source": [
        "### (3) ブラウザからマイクを使う設定\n"
      ]
    },
    {
      "cell_type": "code",
      "metadata": {
        "id": "4EDZo0zizHrl"
      },
      "source": [
        "# all imports\n",
        "from IPython.display import Javascript\n",
        "from google.colab import output\n",
        "from base64 import b64decode\n",
        "from io import BytesIO\n",
        "!pip -q install pydub\n",
        "from pydub import AudioSegment\n",
        "\n",
        "RECORD = \"\"\"\n",
        "const sleep  = time => new Promise(resolve => setTimeout(resolve, time))\n",
        "const b2text = blob => new Promise(resolve => {\n",
        "  const reader = new FileReader()\n",
        "  reader.onloadend = e => resolve(e.srcElement.result)\n",
        "  reader.readAsDataURL(blob)\n",
        "})\n",
        "var record = time => new Promise(async resolve => {\n",
        "  stream = await navigator.mediaDevices.getUserMedia({ audio: true })\n",
        "  recorder = new MediaRecorder(stream)\n",
        "  chunks = []\n",
        "  recorder.ondataavailable = e => chunks.push(e.data)\n",
        "  recorder.start()\n",
        "  await sleep(time)\n",
        "  recorder.onstop = async ()=>{\n",
        "    blob = new Blob(chunks)\n",
        "    text = await b2text(blob)\n",
        "    resolve(text)\n",
        "  }\n",
        "  recorder.stop()\n",
        "})\n",
        "\"\"\"\n",
        "\n",
        "def record(sec=3):\n",
        "  display(Javascript(RECORD))\n",
        "  s = output.eval_js('record(%d)' % (sec*1000))\n",
        "  b = b64decode(s.split(',')[1])\n",
        "  audio = AudioSegment.from_file(BytesIO(b))\n",
        "  return audio\n",
        "\n",
        "def record_s(sec=3):\n",
        "  display(Javascript(RECORD))\n",
        "  s = output.eval_js('record(%d)' % (sec*1000))\n",
        "  return s\n",
        "\n",
        "def record_save(sec=3):\n",
        "  display(Javascript(RECORD))\n",
        "  s = output.eval_js('record(%d)' % (sec*1000))\n",
        "  b = b64decode(s.split(',')[1])\n",
        "  audio = AudioSegment.from_file(BytesIO(b))\n",
        "  audio.export(\"audio.wav\",format=\"wav\" )"
      ],
      "execution_count": 3,
      "outputs": []
    },
    {
      "cell_type": "markdown",
      "metadata": {
        "id": "alkXUfjX2iWl"
      },
      "source": [
        "## 2. 音声認識"
      ]
    },
    {
      "cell_type": "code",
      "metadata": {
        "id": "evf4xubJ4EK0"
      },
      "source": [
        "import speech_recognition as sr\n",
        "import subprocess\n",
        "import tempfile\n",
        " \n",
        "r = sr.Recognizer()"
      ],
      "execution_count": null,
      "outputs": []
    },
    {
      "cell_type": "code",
      "metadata": {
        "id": "58KUgK7hxcCi"
      },
      "source": [
        "# 音声入力->認識\n",
        "while True:\n",
        "\n",
        "    print(\"何かお話しして下さい。\")\n",
        "    record_save(5) # 録音時間\n",
        "    with sr.AudioFile(\"audio.wav\") as source: \n",
        "        audio = r.listen(source)\n",
        "    try:\n",
        "        # Google Web Speech APIで音声認識\n",
        "        text = r.recognize_google(audio, language=\"ja-JP\") # 言語設定変更可能\n",
        "    except sr.UnknownValueError:\n",
        "        print(\"　　Google Web Speech APIは音声を認識できませんでした。\")\n",
        "    except sr.RequestError as e:\n",
        "        print(\"　　GoogleWeb Speech APIに音声認識を要求できませんでした;\"\n",
        "              \" {0}\".format(e))\n",
        "    else:\n",
        "        print(\"　　認識結果：\" + text)\n",
        "    if text == \"終わりです\":\n",
        "        break\n",
        "print(\"終了\")"
      ],
      "execution_count": null,
      "outputs": []
    },
    {
      "cell_type": "markdown",
      "metadata": {
        "id": "YuA0mjUD4wBN"
      },
      "source": [
        "## 3. 応用"
      ]
    },
    {
      "cell_type": "code",
      "metadata": {
        "id": "ljalVNhQ4cB5"
      },
      "source": [
        "#Chromiumとseleniumをインストール\n",
        "print(\"前処理を開始\")\n",
        "!apt-get update\n",
        "!apt install chromium-chromedriver\n",
        "!cp /usr/lib/chromium-browser/chromedriver /usr/bin\n",
        "!pip install selenium\n",
        "\n",
        "#ライブラリをインポート\n",
        "from selenium import webdriver\n",
        "import time\n",
        "\n",
        "#---------------------------------------------------------------------------------------\n",
        "# 処理開始\n",
        "#---------------------------------------------------------------------------------------\n",
        "# ブラウザをheadlessモード実行\n",
        "print(\"\\nブラウザを設定\")\n",
        "options = webdriver.ChromeOptions()\n",
        "options.add_argument('--headless')\n",
        "options.add_argument('--no-sandbox')\n",
        "options.add_argument('--disable-dev-shm-usage')\n",
        "driver = webdriver.Chrome('chromedriver',options=options)\n",
        "driver.implicitly_wait(10)"
      ],
      "execution_count": null,
      "outputs": []
    },
    {
      "cell_type": "code",
      "metadata": {
        "id": "ULowSoxW5kqX"
      },
      "source": [
        "# サイトにアクセス\n",
        "print(\"サイトにアクセス開始\")\n",
        "driver.get(\"https://www.mod.go.jp/nda/\")\n",
        "time.sleep(3)\n",
        "\n",
        "# driver.find_elements_by_css_selector(\"xxx\") 的な処理を自由に\n",
        "print(\"サイトのタイトル：\", driver.title)\n",
        "\n",
        "print(\"\\nお疲れさまです。\\n処理が完了しました。\")"
      ],
      "execution_count": null,
      "outputs": []
    },
    {
      "cell_type": "code",
      "metadata": {
        "id": "7sJOxIsE52Pn"
      },
      "source": [
        ""
      ],
      "execution_count": null,
      "outputs": []
    }
  ]
}