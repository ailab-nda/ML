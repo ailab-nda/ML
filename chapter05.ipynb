{
  "nbformat": 4,
  "nbformat_minor": 0,
  "metadata": {
    "colab": {
      "provenance": [],
      "authorship_tag": "ABX9TyO0Wp6tIqeghmobx2tErHoC",
      "include_colab_link": true
    },
    "kernelspec": {
      "name": "python3",
      "display_name": "Python 3"
    },
    "language_info": {
      "name": "python"
    }
  },
  "cells": [
    {
      "cell_type": "markdown",
      "metadata": {
        "id": "view-in-github",
        "colab_type": "text"
      },
      "source": [
        "<a href=\"https://colab.research.google.com/github/ailab-nda/ML/blob/main/chapter05.ipynb\" target=\"_parent\"><img src=\"https://colab.research.google.com/assets/colab-badge.svg\" alt=\"Open In Colab\"/></a>"
      ]
    },
    {
      "cell_type": "markdown",
      "source": [
        "# 第５章の例"
      ],
      "metadata": {
        "id": "E9HdDMIi2jn9"
      }
    },
    {
      "cell_type": "code",
      "source": [
        "import matplotlib.pyplot as plt\n",
        "plt.rcParams['font.family'] = 'serif'\n",
        "plt.rcParams['font.serif'] = ['Times New Roman'] + plt.rcParams['font.serif']"
      ],
      "metadata": {
        "id": "Y6o-vi3j7bVE"
      },
      "execution_count": null,
      "outputs": []
    },
    {
      "cell_type": "markdown",
      "source": [
        "## K-means\n"
      ],
      "metadata": {
        "id": "yx7QKr6V5PaZ"
      }
    },
    {
      "cell_type": "markdown",
      "source": [
        "### モジュールのインポート"
      ],
      "metadata": {
        "id": "1PijinkW5gDI"
      }
    },
    {
      "cell_type": "code",
      "source": [
        "import pandas as pd\n",
        "import numpy as np\n",
        "from sklearn.cluster import KMeans\n",
        "import matplotlib.pyplot as plt"
      ],
      "metadata": {
        "id": "iMcwLubJ5Zi3"
      },
      "execution_count": null,
      "outputs": []
    },
    {
      "cell_type": "markdown",
      "source": [
        "### サンプルデータの読み込み"
      ],
      "metadata": {
        "id": "2_9S2b5I5jdv"
      }
    },
    {
      "cell_type": "code",
      "source": [
        "url = \"https://github.com/rinsaka/sample-data-sets/blob/master/clustering-sample.csv?raw=true\"\n",
        "# url = \"clustering-sample.csv\"  # カレントディレクトリから読み込む場合\n",
        "df =pd.read_csv(url)\n",
        "df"
      ],
      "metadata": {
        "id": "rukLl-Wb5eWN"
      },
      "execution_count": null,
      "outputs": []
    },
    {
      "cell_type": "markdown",
      "source": [
        "### 散布図の作成"
      ],
      "metadata": {
        "id": "1lTY1xrJ5txX"
      }
    },
    {
      "cell_type": "code",
      "source": [
        "fig, ax = plt.subplots(1, 1, figsize=(6, 6))\n",
        "ax.scatter(df['x'], df['y'], alpha=0.5)\n",
        "ax.set_title(\"Sample data\")\n",
        "ax.set_xlabel('x')\n",
        "ax.set_ylabel('y')\n",
        "ax.set_xlim(-1, 11)\n",
        "ax.set_ylim(-1, 11)\n",
        "# plt.savefig('cluster_sample.png', dpi=300, facecolor='white')\n",
        "plt.show()"
      ],
      "metadata": {
        "id": "Rx2-wmdT5qRJ"
      },
      "execution_count": null,
      "outputs": []
    },
    {
      "cell_type": "markdown",
      "source": [
        "### 学習"
      ],
      "metadata": {
        "id": "T0TpylGR57Ne"
      }
    },
    {
      "cell_type": "code",
      "source": [
        "xy = df.loc[:, ['x', 'y']].values\n",
        "\n",
        "k = 3\n",
        "clf = KMeans(n_clusters=k) # モデルの設定\n",
        "# clf = KMeans(n_clusters=k, random_state=1) # 再現性を持たせたい場合\n",
        "clf.fit(xy) # クラスタリングの計算\n",
        "pred = clf.predict(xy) # 計算結果からサンプルデータがどのクラスタに属するかを予測する\n",
        "df['cluster_id'] = pred\n",
        "\n",
        "fig, ax = plt.subplots(1, 1, figsize=(6, 6))\n",
        "colors = ['Red', 'Blue', 'Green']\n",
        "\n",
        "for cls in range(k):\n",
        "    x = df.loc[df['cluster_id'] == cls, 'x']\n",
        "    y = df.loc[df['cluster_id'] == cls, 'y']\n",
        "    ax.scatter(x, y, alpha=0.5, label=f\"cluseter {cls}\", color=colors[cls])\n",
        "\n",
        "ax.set_title(\"Clustering results\")\n",
        "ax.set_xlabel('x')\n",
        "ax.set_ylabel('y')\n",
        "ax.set_xlim(-1, 11)\n",
        "ax.set_ylim(-1, 11)\n",
        "ax.legend(loc='upper left')\n",
        "# plt.savefig('cluster_scatter.png', dpi=300, facecolor='white')\n",
        "plt.show()"
      ],
      "metadata": {
        "id": "0x76ZxW557wI"
      },
      "execution_count": null,
      "outputs": []
    },
    {
      "cell_type": "markdown",
      "source": [
        "## 決定木\n",
        "https://smart-hint.com/ml/tree/"
      ],
      "metadata": {
        "id": "awXMZEsq3F2D"
      }
    },
    {
      "cell_type": "markdown",
      "source": [
        "### 事前準備"
      ],
      "metadata": {
        "id": "iXnwCVFp6rjH"
      }
    },
    {
      "cell_type": "code",
      "source": [
        "import seaborn as sns\n",
        "import pandas as pd\n",
        "from sklearn.model_selection import train_test_split\n",
        "from sklearn import tree\n",
        "from sklearn.tree import plot_tree"
      ],
      "metadata": {
        "id": "_AIELXhT6t55"
      },
      "execution_count": null,
      "outputs": []
    },
    {
      "cell_type": "markdown",
      "source": [
        "### データの読み取りと前処理"
      ],
      "metadata": {
        "id": "_vM2v96w6vl6"
      }
    },
    {
      "cell_type": "code",
      "source": [
        "# タイタニック号のデータ読み取り\n",
        "df = sns.load_dataset('titanic')\n",
        "\n",
        "# 目的変数と説明変数の分割\n",
        "df_x = df[['sex','pclass','fare']]\n",
        "df_y = df['survived']\n",
        "\n",
        "# 目的変数のダミー変数化\n",
        "df_x = pd.get_dummies(df_x, drop_first=True)"
      ],
      "metadata": {
        "id": "fwWBtI-M6yOG"
      },
      "execution_count": null,
      "outputs": []
    },
    {
      "cell_type": "markdown",
      "source": [
        "### 学習"
      ],
      "metadata": {
        "id": "azLhPr0s62xn"
      }
    },
    {
      "cell_type": "code",
      "source": [
        "# 学習用-テスト用のデータに分割\n",
        "train_x, test_x, train_y, test_y = train_test_split(df_x,df_y,random_state=1)\n",
        "\n",
        "# 決定木モデルの作成\n",
        "model = tree.DecisionTreeClassifier(max_depth=2, random_state=1)\n",
        "model.fit(train_x, train_y)\n",
        "\n",
        "# 決定木モデルの可視化\n",
        "plot_tree(model, feature_names=train_x.columns, class_names=True, filled=True)\n",
        "\n",
        "# 決定木モデルのスコア\n",
        "print(\"score: \", model.score(test_x,test_y))"
      ],
      "metadata": {
        "id": "X7jALfof64O5"
      },
      "execution_count": null,
      "outputs": []
    }
  ]
}