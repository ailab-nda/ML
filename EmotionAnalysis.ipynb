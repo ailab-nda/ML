{
  "nbformat": 4,
  "nbformat_minor": 0,
  "metadata": {
    "colab": {
      "name": "Colaboratory へようこそ",
      "provenance": [],
      "collapsed_sections": [],
      "include_colab_link": true
    },
    "kernelspec": {
      "display_name": "Python 3",
      "name": "python3"
    }
  },
  "cells": [
    {
      "cell_type": "markdown",
      "metadata": {
        "id": "view-in-github",
        "colab_type": "text"
      },
      "source": [
        "<a href=\"https://colab.research.google.com/github/ailab-nda/NLP/blob/main/EmotionAnalysis.ipynb\" target=\"_parent\"><img src=\"https://colab.research.google.com/assets/colab-badge.svg\" alt=\"Open In Colab\"/></a>"
      ]
    },
    {
      "cell_type": "markdown",
      "source": [
        "# 演習III 第３回 文章から感情を分析する"
      ],
      "metadata": {
        "id": "Y2WdR3v4CjST"
      }
    },
    {
      "cell_type": "markdown",
      "source": [
        "出典：https://qiita.com/e10persona/items/7a7643b266c2bdfbf7d0"
      ],
      "metadata": {
        "id": "lG6AhLFEC8Gb"
      }
    },
    {
      "cell_type": "code",
      "source": [
        "!pip install japanize-matplotlib"
      ],
      "metadata": {
        "id": "rj_33FKsEwwX",
        "outputId": "04b40c97-36b8-4538-dafa-361eabaf93c4",
        "colab": {
          "base_uri": "https://localhost:8080/"
        }
      },
      "execution_count": 2,
      "outputs": [
        {
          "output_type": "stream",
          "name": "stdout",
          "text": [
            "Collecting japanize-matplotlib\n",
            "  Downloading japanize-matplotlib-1.1.3.tar.gz (4.1 MB)\n",
            "\u001b[K     |████████████████████████████████| 4.1 MB 13.0 MB/s \n",
            "\u001b[?25hRequirement already satisfied: matplotlib in /usr/local/lib/python3.7/dist-packages (from japanize-matplotlib) (3.2.2)\n",
            "Requirement already satisfied: kiwisolver>=1.0.1 in /usr/local/lib/python3.7/dist-packages (from matplotlib->japanize-matplotlib) (1.3.2)\n",
            "Requirement already satisfied: python-dateutil>=2.1 in /usr/local/lib/python3.7/dist-packages (from matplotlib->japanize-matplotlib) (2.8.2)\n",
            "Requirement already satisfied: pyparsing!=2.0.4,!=2.1.2,!=2.1.6,>=2.0.1 in /usr/local/lib/python3.7/dist-packages (from matplotlib->japanize-matplotlib) (3.0.7)\n",
            "Requirement already satisfied: numpy>=1.11 in /usr/local/lib/python3.7/dist-packages (from matplotlib->japanize-matplotlib) (1.19.5)\n",
            "Requirement already satisfied: cycler>=0.10 in /usr/local/lib/python3.7/dist-packages (from matplotlib->japanize-matplotlib) (0.11.0)\n",
            "Requirement already satisfied: six>=1.5 in /usr/local/lib/python3.7/dist-packages (from python-dateutil>=2.1->matplotlib->japanize-matplotlib) (1.15.0)\n",
            "Building wheels for collected packages: japanize-matplotlib\n",
            "  Building wheel for japanize-matplotlib (setup.py) ... \u001b[?25l\u001b[?25hdone\n",
            "  Created wheel for japanize-matplotlib: filename=japanize_matplotlib-1.1.3-py3-none-any.whl size=4120275 sha256=ee83413942609a4574d94b29d9efd022b1edd9d60cc4e7767a5ebb2750074fed\n",
            "  Stored in directory: /root/.cache/pip/wheels/83/97/6b/e9e0cde099cc40f972b8dd23367308f7705ae06cd6d4714658\n",
            "Successfully built japanize-matplotlib\n",
            "Installing collected packages: japanize-matplotlib\n",
            "Successfully installed japanize-matplotlib-1.1.3\n"
          ]
        }
      ]
    },
    {
      "cell_type": "markdown",
      "source": [
        "ライブラリのインポートを行います。"
      ],
      "metadata": {
        "id": "3YF5or_2Conw"
      }
    },
    {
      "cell_type": "code",
      "source": [
        "import urllib\n",
        "from bs4 import BeautifulSoup\n",
        "import requests\n",
        "import re\n",
        "import numpy as np\n",
        "import matplotlib.pyplot as plt\n",
        "import japanize_matplotlib"
      ],
      "metadata": {
        "id": "S9JeyIc9Cg4a"
      },
      "execution_count": 3,
      "outputs": []
    },
    {
      "cell_type": "markdown",
      "source": [
        "## 感情辞書のダウンロード"
      ],
      "metadata": {
        "id": "51HhRrixDKxz"
      }
    },
    {
      "cell_type": "code",
      "source": [
        "!wget http://arakilab.media.eng.hokudai.ac.jp/~ptaszynski/ccount/click.php?id=3 -O emotions.zip\n",
        "!unzip emotions.zip"
      ],
      "metadata": {
        "id": "vntkCDEjCzfj",
        "outputId": "92315cb5-7fae-42be-b5bb-e5624d60365a",
        "colab": {
          "base_uri": "https://localhost:8080/"
        }
      },
      "execution_count": 5,
      "outputs": [
        {
          "output_type": "stream",
          "name": "stdout",
          "text": [
            "--2022-02-03 05:43:17--  http://arakilab.media.eng.hokudai.ac.jp/~ptaszynski/ccount/click.php?id=3\n",
            "Resolving arakilab.media.eng.hokudai.ac.jp (arakilab.media.eng.hokudai.ac.jp)... 133.87.189.142\n",
            "Connecting to arakilab.media.eng.hokudai.ac.jp (arakilab.media.eng.hokudai.ac.jp)|133.87.189.142|:80... connected.\n",
            "HTTP request sent, awaiting response... 302 Found\n",
            "Location: http://arakilab.media.eng.hokudai.ac.jp/~ptaszynski/repository/files/emotions.zip [following]\n",
            "--2022-02-03 05:43:17--  http://arakilab.media.eng.hokudai.ac.jp/~ptaszynski/repository/files/emotions.zip\n",
            "Connecting to arakilab.media.eng.hokudai.ac.jp (arakilab.media.eng.hokudai.ac.jp)|133.87.189.142|:80... connected.\n",
            "HTTP request sent, awaiting response... 200 OK\n",
            "Length: 12520 (12K) [application/zip]\n",
            "Saving to: ‘emotions.zip’\n",
            "\n",
            "emotions.zip        100%[===================>]  12.23K  76.6KB/s    in 0.2s    \n",
            "\n",
            "2022-02-03 05:43:18 (76.6 KB/s) - ‘emotions.zip’ saved [12520/12520]\n",
            "\n",
            "Archive:  emotions.zip\n",
            "   creating: emotions/\n",
            "  inflating: emotions/aware_uncoded.txt  \n",
            "  inflating: emotions/haji_uncoded.txt  \n",
            "  inflating: emotions/ikari_uncoded.txt  \n",
            "  inflating: emotions/iya_uncoded.txt  \n",
            "  inflating: emotions/kowa_uncoded.txt  \n",
            "  inflating: emotions/odoroki_uncoded.txt  \n",
            "  inflating: emotions/suki_uncoded.txt  \n",
            "  inflating: emotions/takaburi_uncoded.txt  \n",
            "  inflating: emotions/yasu_uncoded.txt  \n",
            "  inflating: emotions/yorokobi_uncoded.txt  \n"
          ]
        }
      ]
    },
    {
      "cell_type": "markdown",
      "source": [
        "## 感情辞書の読み込み"
      ],
      "metadata": {
        "id": "a1Jpu5KwCrYT"
      }
    },
    {
      "cell_type": "code",
      "source": [
        "emotions = [\"aware\", \"haji\", \"ikari\", \"iya\", \"kowa\", \"odoroki\", \"suki\", \"takaburi\", \"yasu\", \"yorokobi\"]\n",
        "emotional_words = {}\n",
        "for emotion in emotions:\n",
        "    emotional_words[emotion] = []\n",
        "    with open(\"emotions/\" + emotion + \"_uncoded.txt\", \"r\", encoding=\"utf-8\") as f:\n",
        "        for line in f:\n",
        "            line = line.replace('\\n','')\n",
        "            emotional_words[emotion].append(line)"
      ],
      "metadata": {
        "id": "vdXLOZ1uCb2U"
      },
      "execution_count": 6,
      "outputs": []
    },
    {
      "cell_type": "markdown",
      "source": [
        "## 小説のスクレイピング"
      ],
      "metadata": {
        "id": "NY-CC4DJDRgr"
      }
    },
    {
      "cell_type": "code",
      "source": [
        "# 青空文庫の作品URL\n",
        "url = \"https://www.aozora.gr.jp/cards/000035/files/301_14912.html\"\n",
        "html = requests.get(url, verify=False)\n",
        "html.encoding = html.apparent_encoding\n",
        "soup = BeautifulSoup(html.text, \"html.parser\")\n",
        "\n",
        "# タイトルを取得する → <title>～本文～</title>\n",
        "title = soup.title.string\n",
        "# 本文を取得する → <div class=\"main_text\">～本文～</div>\n",
        "sentences = soup.find(\"div\",\"main_text\")\n",
        "# 文字部分のみを抽出する\n",
        "sentences = sentences.get_text().replace(\"\\r\", \"\").replace(\"\\n\", \"\").replace(\"\\u3000\", \"\")\n",
        "# 全角の括弧に囲われた文字と括弧を除去（ルビが括弧文字として存在するため）\n",
        "sentences = re.sub(\"（.*?）\", \"\", sentences) "
      ],
      "metadata": {
        "id": "OlHLIv2YDUMK",
        "outputId": "aff49e4b-a306-4afa-8ccd-fa6f09c8e6ee",
        "colab": {
          "base_uri": "https://localhost:8080/"
        }
      },
      "execution_count": 7,
      "outputs": [
        {
          "output_type": "stream",
          "name": "stderr",
          "text": [
            "/usr/local/lib/python3.7/dist-packages/urllib3/connectionpool.py:847: InsecureRequestWarning: Unverified HTTPS request is being made. Adding certificate verification is strongly advised. See: https://urllib3.readthedocs.io/en/latest/advanced-usage.html#ssl-warnings\n",
            "  InsecureRequestWarning)\n"
          ]
        }
      ]
    },
    {
      "cell_type": "markdown",
      "source": [
        "## 文章内での感情単語の計測"
      ],
      "metadata": {
        "id": "ausvpEIoDavK"
      }
    },
    {
      "cell_type": "code",
      "source": [
        "count_emotions = [0] * len(emotional_words.keys())\n",
        "for idx, emotion in enumerate(emotional_words.keys()):\n",
        "    for word in emotional_words[emotion]:\n",
        "        count_emotions[idx] += sentences.count(word)\n",
        "\n",
        "for i in range(len(emotions)):\n",
        "    print(emotions[i], \":\", count_emotions[i])"
      ],
      "metadata": {
        "id": "o5Zl8Lh-Dc_T",
        "outputId": "f94ac172-b801-4b93-c8fd-cd39a1a4697d",
        "colab": {
          "base_uri": "https://localhost:8080/"
        }
      },
      "execution_count": 8,
      "outputs": [
        {
          "output_type": "stream",
          "name": "stdout",
          "text": [
            "aware : 57\n",
            "haji : 30\n",
            "ikari : 22\n",
            "iya : 232\n",
            "kowa : 89\n",
            "odoroki : 30\n",
            "suki : 53\n",
            "takaburi : 33\n",
            "yasu : 53\n",
            "yorokobi : 141\n"
          ]
        }
      ]
    },
    {
      "cell_type": "markdown",
      "source": [
        "## 結果のプロット"
      ],
      "metadata": {
        "id": "iyPZTbU6Df8a"
      }
    },
    {
      "cell_type": "code",
      "source": [
        "def plot_polar(labels, values, title):\n",
        "    angles = np.linspace(0, 2 * np.pi, len(labels) + 1, endpoint=True)\n",
        "    values = np.concatenate((values, [values[0]]))  # 閉じた多角形にする\n",
        "    fig = plt.figure()\n",
        "    ax = fig.add_subplot(111, polar=True)\n",
        "    ax.plot(angles, values, 'o-')  # 外枠\n",
        "    ax.fill(angles, values, alpha=0.25)  # 塗りつぶし\n",
        "    ax.set_thetagrids(angles[:-1] * 180 / np.pi, labels, fontsize=15)  # 軸ラベル\n",
        "    ax.set_rlim(0 ,max(values))\n",
        "    ax.set_title(\"「\" + title + \"」\", fontsize=15)"
      ],
      "metadata": {
        "id": "_YN3vGqYDsM6"
      },
      "execution_count": 9,
      "outputs": []
    },
    {
      "cell_type": "code",
      "source": [
        "labels = [\"哀\", \"恥\", \"怒\", \"嫌\", \"怖\", \"驚\", \"好\", \"昂\", \"安\", \"喜\"]\n",
        "plot_polar(labels, count_emotions, title)"
      ],
      "metadata": {
        "id": "NmvxuladDuk6",
        "outputId": "2a86543c-d6e0-49fe-dbda-fc4554524bfc",
        "colab": {
          "base_uri": "https://localhost:8080/",
          "height": 291
        }
      },
      "execution_count": 10,
      "outputs": [
        {
          "output_type": "display_data",
          "data": {
            "image/png": "[encoded data removed]",
            "text/plain": [
              "<Figure size 432x288 with 1 Axes>"
            ]
          },
          "metadata": {
            "needs_background": "light"
          }
        }
      ]
    },
    {
      "cell_type": "markdown",
      "source": [
        "## 課題\n",
        "好きな文章を使って感情分析をせよ。"
      ],
      "metadata": {
        "id": "ExT0QEY0Dxqy"
      }
    },
    {
      "cell_type": "code",
      "source": [
        ""
      ],
      "metadata": {
        "id": "kQjBBHw6HL8p"
      },
      "execution_count": null,
      "outputs": []
    }
  ]
}