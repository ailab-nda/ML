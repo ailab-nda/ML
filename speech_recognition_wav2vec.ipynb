{
  "nbformat": 4,
  "nbformat_minor": 0,
  "metadata": {
    "colab": {
      "name": "speech_recognition_wav2vec.ipynb",
      "provenance": [],
      "collapsed_sections": [],
      "authorship_tag": "ABX9TyOe0DItqHZuuowaQj9Injh2",
      "include_colab_link": true
    },
    "kernelspec": {
      "name": "python3",
      "display_name": "Python 3"
    },
    "language_info": {
      "name": "python"
    },
    "accelerator": "GPU"
  },
  "cells": [
    {
      "cell_type": "markdown",
      "metadata": {
        "id": "view-in-github",
        "colab_type": "text"
      },
      "source": [
        "<a href=\"https://colab.research.google.com/github/ailab-nda/NLP/blob/main/speech_recognition_wav2vec.ipynb\" target=\"_parent\"><img src=\"https://colab.research.google.com/assets/colab-badge.svg\" alt=\"Open In Colab\"/></a>"
      ]
    },
    {
      "cell_type": "markdown",
      "metadata": {
        "id": "RnTHZjObgTHm"
      },
      "source": [
        "Author: Moto Hira\n",
        "\n",
        "This tutorial shows how to perform speech recognition using using pre-trained models from wav2vec 2.0 [paper].\n",
        "\n",
        "# Overview\n",
        "\n",
        "The process of speech recognition looks like the following.\n",
        "\n",
        "\n",
        "1.   Extract the acoustic features from audio waveform\n",
        "2.   Estimate the class of the acoustic features frame-by-frame\n",
        "3.   Generate hypothesis from the sequence of the class probabilities\n",
        "\n",
        "Torchaudio provides easy access to the pre-trained weights and associated information, such as the expected sample rate and class labels. They are bundled together and available under torchaudio.pipelines module."
      ]
    },
    {
      "cell_type": "markdown",
      "source": [
        "# Preparation\n",
        "\n",
        "First we import the necessary packages, and fetch data that we work on."
      ],
      "metadata": {
        "id": "wHWtcCQ-k8ph"
      }
    },
    {
      "cell_type": "code",
      "source": [
        "# %matplotlib inline\n",
        "\n",
        "import os\n",
        "\n",
        "import torch\n",
        "import torchaudio\n",
        "import requests\n",
        "import matplotlib\n",
        "import matplotlib.pyplot as plt\n",
        "import IPython\n",
        "\n",
        "matplotlib.rcParams['figure.figsize'] = [16.0, 4.8]\n",
        "\n",
        "torch.random.manual_seed(0)\n",
        "device = torch.device('cuda' if torch.cuda.is_available() else 'cpu')\n",
        "\n",
        "print(torch.__version__)\n",
        "print(torchaudio.__version__)\n",
        "print(device)\n",
        "\n",
        "SPEECH_URL = \"https://pytorch-tutorial-assets.s3.amazonaws.com/VOiCES_devkit/source-16k/train/sp0307/Lab41-SRI-VOiCES-src-sp0307-ch127535-sg0042.wav\"\n",
        "SPEECH_FILE = \"_assets/speech.wav\"\n",
        "\n",
        "if not os.path.exists(SPEECH_FILE):\n",
        "  os.makedirs('_assets', exist_ok=True)\n",
        "  with open(SPEECH_FILE, 'wb') as file:\n",
        "    file.write(requests.get(SPEECH_URL).content)"
      ],
      "metadata": {
        "id": "uB4f-UlwlIE3"
      },
      "execution_count": null,
      "outputs": []
    },
    {
      "cell_type": "markdown",
      "metadata": {
        "id": "BvWEz92zggGq"
      },
      "source": [
        "# Creating a pipeline\n",
        "\n",
        "First, we will create a Wav2Vec2 model that performs the feature extraction and the classification.\n",
        "\n",
        "There are two types of Wav2Vec2 pre-trained weights available in torchaudio. The ones fine-tuned for ASR task, and the ones not fine-tuned.\n",
        "\n",
        "Wav2Vec2 (and HuBERT) models are trained in self-supervised manner. They are firstly trained with audio only for representation learning, then fine-tuned for a specific task with additional labels.\n",
        "\n",
        "The pre-trained weights without fine-tuning can be fine-tuned for other downstream tasks as well, but this tutorial does not cover that.\n",
        "\n",
        "We will use torchaudio.pipelines.WAV2VEC2_ASR_BASE_960H() here.\n",
        "\n",
        "There are multiple models available as torchaudio.pipelines. Please check the documentation for the detail of how they are trained.\n",
        "\n",
        "The bundle object provides the interface to instantiate model and other information. Sampling rate and the class labels are found as follow."
      ]
    },
    {
      "cell_type": "code",
      "metadata": {
        "id": "kvRcynJhgPu3"
      },
      "source": [
        "bundle = torchaudio.pipelines.WAV2VEC2_ASR_BASE_960H\n",
        "\n",
        "print(\"Sample Rate:\", bundle.sample_rate)\n",
        "\n",
        "print(\"Labels:\", bundle.get_labels())"
      ],
      "execution_count": null,
      "outputs": []
    },
    {
      "cell_type": "markdown",
      "metadata": {
        "id": "EH0N-MaDgeah"
      },
      "source": [
        "Model can be constructed as following. This process will automatically fetch the pre-trained weights and load it into the model."
      ]
    },
    {
      "cell_type": "code",
      "metadata": {
        "id": "_X8DaZp5gcsc"
      },
      "source": [
        "model = bundle.get_model().to(device)\n",
        "\n",
        "print(model.__class__)"
      ],
      "execution_count": null,
      "outputs": []
    },
    {
      "cell_type": "markdown",
      "metadata": {
        "id": "0gHt23x-gtm2"
      },
      "source": [
        "# Loading data\n",
        "\n",
        "We will use the speech data from VOiCES dataset, which is licensed under Creative Commos BY 4.0.\n",
        "\n"
      ]
    },
    {
      "cell_type": "code",
      "metadata": {
        "id": "v8US9FUagnFB"
      },
      "source": [
        "IPython.display.Audio(SPEECH_FILE)"
      ],
      "execution_count": null,
      "outputs": []
    },
    {
      "cell_type": "markdown",
      "metadata": {
        "id": "i8ot_1ZrgxEj"
      },
      "source": [
        "To load data, we use torchaudio.load().\n",
        "\n",
        "If the sampling rate is different from what the pipeline expects, then we can use torchaudio.functional.resample() for resampling."
      ]
    },
    {
      "cell_type": "markdown",
      "source": [
        "## NOTE\n",
        "*   torchaudio.functional.resample() works on CUDA tensors as well.\n",
        "*   When performing resampling multiple times on the same set of sample rates, using torchaudio.transforms.Resample() might improve the performace.\n",
        "\n"
      ],
      "metadata": {
        "id": "ROLJrc2Ul2tU"
      }
    },
    {
      "cell_type": "code",
      "metadata": {
        "id": "Lz29vHUkgsgI"
      },
      "source": [
        "waveform, sample_rate = torchaudio.load(SPEECH_FILE)\n",
        "waveform = waveform.to(device)\n",
        "\n",
        "if sample_rate != bundle.sample_rate:\n",
        "  waveform = torchaudio.functional.resample(waveform, sample_rate, bundle.sample_rate)"
      ],
      "execution_count": null,
      "outputs": []
    },
    {
      "cell_type": "markdown",
      "metadata": {
        "id": "3fWIYdBog1zx"
      },
      "source": [
        "Extracting acoustic features\n",
        "\n",
        "The next step is to extract acoustic features from the audio."
      ]
    },
    {
      "cell_type": "markdown",
      "source": [
        "## NOTE\n",
        "\n",
        "Wav2Vec2 models fine-tuned for ASR task can perform feature extraction and classification with one step, but for the sake of the tutorial, we also show how to perform feature extraction here."
      ],
      "metadata": {
        "id": "_XU6k_8MmNXn"
      }
    },
    {
      "cell_type": "code",
      "metadata": {
        "id": "fXkgbNRtTXjF"
      },
      "source": [
        "with torch.inference_mode():\n",
        "  features, _ = model.extract_features(waveform)"
      ],
      "execution_count": null,
      "outputs": []
    },
    {
      "cell_type": "markdown",
      "source": [
        "The returned features is a list of tensors. Each tensor is the output of a transformer layer.\n"
      ],
      "metadata": {
        "id": "dE0zio3-mKKq"
      }
    },
    {
      "cell_type": "code",
      "metadata": {
        "id": "XQFkY_gkgzMz"
      },
      "source": [
        "fig, ax = plt.subplots(len(features), 1, figsize=(16, 4.3 * len(features)))\n",
        "for i, feats in enumerate(features):\n",
        "  ax[i].imshow(feats[0].cpu())\n",
        "  ax[i].set_title(f\"Feature from transformer layer {i+1}\")\n",
        "  ax[i].set_xlabel(\"Feature dimension\")\n",
        "  ax[i].set_ylabel(\"Frame (time-axis)\")\n",
        "plt.tight_layout()\n",
        "plt.show()"
      ],
      "execution_count": null,
      "outputs": []
    },
    {
      "cell_type": "markdown",
      "metadata": {
        "id": "zTKeJfURg93y"
      },
      "source": [
        "# Feature classification\n",
        "\n",
        "Once the acoustic features are extracted, the next step is to classify them into a set of categories.\n",
        "\n",
        "Wav2Vec2 model provides method to perform the feature extraction and classification in one step"
      ]
    },
    {
      "cell_type": "code",
      "metadata": {
        "id": "pkw-lt0Kg3RJ"
      },
      "source": [
        "with torch.inference_mode():\n",
        "  emission, _ = model(waveform)"
      ],
      "execution_count": null,
      "outputs": []
    },
    {
      "cell_type": "markdown",
      "source": [
        "The output is in the form of logits. It is not in the form of probability.\n",
        "\n",
        "Let’s visualize this."
      ],
      "metadata": {
        "id": "UUasy4UompAc"
      }
    },
    {
      "cell_type": "code",
      "source": [
        "plt.imshow(emission[0].cpu().T)\n",
        "plt.title(\"Classification result\")\n",
        "plt.xlabel(\"Frame (time-axis)\")\n",
        "plt.ylabel(\"Class\")\n",
        "plt.show()\n",
        "print(\"Class labels:\", bundle.get_labels())"
      ],
      "metadata": {
        "id": "9eCOiByimlw0"
      },
      "execution_count": null,
      "outputs": []
    },
    {
      "cell_type": "markdown",
      "source": [
        "We can see that there are strong indications to certain labels across the time line.\n",
        "\n",
        "Note that the class 1 to 3, (\\<pad>, \\</s> and \\<unk>) have mostly huge negative values, this is an artifact from the original fairseq implementation where these labels are added by default but not used during the training."
      ],
      "metadata": {
        "id": "wgsaBJiBmzNl"
      }
    },
    {
      "cell_type": "markdown",
      "source": [
        "# Generating transcripts\n",
        "\n",
        "From the sequence of label probabilities, now we want to generate transcripts. The process to generate hypotheses is often called “decoding”.\n",
        "\n",
        "Decoding is more elaborate than simple classification because decoding at certain time step can be affected by surrounding observations.\n",
        "\n",
        "For example, take a word like night and knight. Even if their prior probability distribution are differnt (in typical conversations, night would occur way more often than knight), to accurately generate transcripts with knight, such as a knight with a sword, the decoding process has to postpone the final decision until it sees enough context.\n",
        "\n",
        "There are many decoding techniques proposed, and they require external resources, such as word dictionary and language models.\n",
        "\n",
        "In this tutorial, for the sake of simplicity, we will perform greedy decoding which does not depend on such external components, and simply pick up the best hypothesis at each time step. Therefore, the context information are not used, and only one transcript can be generated.\n",
        "\n",
        "We start by defining greedy decoding algorithm."
      ],
      "metadata": {
        "id": "affurMyLnAdP"
      }
    },
    {
      "cell_type": "code",
      "source": [
        "class GreedyCTCDecoder(torch.nn.Module):\n",
        "  def __init__(self, labels, ignore):\n",
        "    super().__init__()\n",
        "    self.labels = labels\n",
        "    self.ignore = ignore\n",
        "\n",
        "  def forward(self, emission: torch.Tensor) -> str:\n",
        "    \"\"\"Given a sequence emission over labels, get the best path string\n",
        "    Args:\n",
        "      emission (Tensor): Logit tensors. Shape `[num_seq, num_label]`.\n",
        "\n",
        "    Returns:\n",
        "      str: The resulting transcript\n",
        "    \"\"\"\n",
        "    indices = torch.argmax(emission, dim=-1)  # [num_seq,]\n",
        "    indices = torch.unique_consecutive(indices, dim=-1)\n",
        "    indices = [i for i in indices if i not in self.ignore]\n",
        "    return ''.join([self.labels[i] for i in indices])"
      ],
      "metadata": {
        "id": "-e8e7ZKrmrfU"
      },
      "execution_count": null,
      "outputs": []
    },
    {
      "cell_type": "markdown",
      "source": [
        "Now create the decoder object and decode the transcript."
      ],
      "metadata": {
        "id": "7lvPklSdnIOf"
      }
    },
    {
      "cell_type": "code",
      "source": [
        "decoder = GreedyCTCDecoder(\n",
        "    labels=bundle.get_labels(),\n",
        "    ignore=(0, 1, 2, 3),\n",
        ")\n",
        "transcript = decoder(emission[0])"
      ],
      "metadata": {
        "id": "VXM5OXoZnFQ4"
      },
      "execution_count": null,
      "outputs": []
    },
    {
      "cell_type": "markdown",
      "source": [
        "Let’s check the result and listen again to the audio."
      ],
      "metadata": {
        "id": "AN5LtiJRnNFL"
      }
    },
    {
      "cell_type": "code",
      "source": [
        "print(transcript)\n",
        "IPython.display.Audio(SPEECH_FILE)"
      ],
      "metadata": {
        "id": "XWwL-6lPnK-Y"
      },
      "execution_count": null,
      "outputs": []
    },
    {
      "cell_type": "markdown",
      "source": [
        "The ASR model is fine-tuned using a loss function called Connectionist Temporal Classification (CTC). The detail of CTC loss is explained here. In CTC a blank token (ϵ) is a special token which represents a repetition of the previous symbol. In decoding, these are simply ignored.\n",
        "\n",
        "Secondly, as is explained in the feature extraction section, the Wav2Vec2 model originated from fairseq has labels that are not used. These also have to be ignored."
      ],
      "metadata": {
        "id": "2mkoBHS0nXHH"
      }
    },
    {
      "cell_type": "markdown",
      "source": [
        "# Conclusion\n",
        "\n",
        "In this tutorial, we looked at how to use torchaudio.pipelines to perform acoustic feature extraction and speech recognition. Constructing a model and getting the emission is as short as two lines."
      ],
      "metadata": {
        "id": "CjTB07JAnca2"
      }
    },
    {
      "cell_type": "code",
      "source": [
        "model = torchaudio.pipelines.WAV2VEC2_ASR_BASE_960H.get_model()\n",
        "emission = model(waveforms, ...)"
      ],
      "metadata": {
        "id": "FAUFfeTZnR0_"
      },
      "execution_count": null,
      "outputs": []
    },
    {
      "cell_type": "code",
      "source": [
        ""
      ],
      "metadata": {
        "id": "uT1nTLkkngLM"
      },
      "execution_count": null,
      "outputs": []
    }
  ]
}