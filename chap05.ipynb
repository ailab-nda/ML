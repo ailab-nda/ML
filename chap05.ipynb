{
  "cells": [
    {
      "cell_type": "markdown",
      "metadata": {
        "id": "view-in-github",
        "colab_type": "text"
      },
      "source": [
        "<a href=\"https://colab.research.google.com/github/ailab-nda/ML/blob/main/chap05.ipynb\" target=\"_parent\"><img src=\"https://colab.research.google.com/assets/colab-badge.svg\" alt=\"Open In Colab\"/></a>"
      ]
    },
    {
      "cell_type": "markdown",
      "metadata": {
        "id": "dkCLlrz6MA53"
      },
      "source": [
        "# 第5章\n",
        "\n",
        "Scikit learn の [GaussianNB](https://scikit-learn.org/stable/modules/generated/sklearn.naive_bayes.GaussianNB.html)（生成モデル）と [LogisticRegression](https://scikit-learn.org/stable/modules/generated/sklearn.linear_model.LogisticRegression.html)（識別モデル） で [iris](https://scikit-learn.org/stable/modules/generated/sklearn.datasets.load_iris.html) データを識別します。\n",
        "\n"
      ]
    },
    {
      "cell_type": "code",
      "execution_count": null,
      "metadata": {
        "id": "NmQSRfK_ucT7"
      },
      "outputs": [],
      "source": [
        "#出力を小数点以下3桁に制限。DataFrame内では設定は無効\n",
        "%precision 3"
      ]
    },
    {
      "cell_type": "markdown",
      "metadata": {
        "id": "Y8ptEQGpMA56"
      },
      "source": [
        "## 準備\n",
        "\n",
        "必要なライブラリ等を読み込みます。"
      ]
    },
    {
      "cell_type": "code",
      "execution_count": null,
      "metadata": {
        "id": "HRSgOwmmRrrE"
      },
      "outputs": [],
      "source": [
        "# このセルは、電算機教場のみで必要なの部分なので、コメントアウトしてあります。\n",
        "#!pip install scikit-learn --trusted-host pypi.python.org --trusted-host files.pythonhosted.org --trusted-host pypi.org"
      ]
    },
    {
      "cell_type": "code",
      "execution_count": null,
      "metadata": {
        "id": "1nMUxxp9MA58"
      },
      "outputs": [],
      "source": [
        "import numpy as np\n",
        "import matplotlib.pyplot as plt\n",
        "from sklearn.datasets import load_iris\n",
        "from sklearn.manifold import TSNE\n",
        "from sklearn.naive_bayes import GaussianNB\n",
        "from sklearn.linear_model import LogisticRegression\n",
        "from sklearn.model_selection import cross_val_score"
      ]
    },
    {
      "cell_type": "markdown",
      "metadata": {
        "id": "mjel4a_dMA6D"
      },
      "source": [
        "## データの読み込み\n",
        "\n",
        "irisデータを読み込みます。引数as_FrameをTrueにすると、戻り値のdata属性（特徴ベクトル）がpandasのDataFrame形式、target属性（正解情報）がSeries形式になります。"
      ]
    },
    {
      "cell_type": "code",
      "execution_count": null,
      "metadata": {
        "id": "OOHFrbmjCxAy"
      },
      "outputs": [],
      "source": [
        "iris = load_iris(as_frame=True)"
      ]
    },
    {
      "cell_type": "markdown",
      "metadata": {
        "id": "hi0syyOhGn4U"
      },
      "source": [
        "データ分析のため、特徴ベクトルと正解情報を結合したDataFrameを作成します。"
      ]
    },
    {
      "cell_type": "code",
      "execution_count": null,
      "metadata": {
        "id": "p-A-KySPGoA-"
      },
      "outputs": [],
      "source": [
        "df = iris.data.copy()\n",
        "df['class']= iris.target\n",
        "df"
      ]
    },
    {
      "cell_type": "markdown",
      "metadata": {
        "id": "IrsRgWkfy2LG"
      },
      "source": [
        "クラス毎の統計値を表示します。"
      ]
    },
    {
      "cell_type": "code",
      "execution_count": null,
      "metadata": {
        "id": "jAB-1aqyy2WU"
      },
      "outputs": [],
      "source": [
        "grouped = df.groupby('class')\n",
        "grouped.describe()"
      ]
    },
    {
      "cell_type": "code",
      "execution_count": null,
      "metadata": {
        "id": "rYMGlNkoIxbT"
      },
      "outputs": [],
      "source": [
        "grouped.hist(figsize=(15,10), layout=(3,5))\n",
        "plt.show()"
      ]
    },
    {
      "cell_type": "markdown",
      "metadata": {
        "id": "2eOqZ774vJKT"
      },
      "source": [
        "パターン行列をX, 正解ラベルベクトルをyとします。XはDataFrame、yはSeriesですが、scikit-learnの新しいバージョンでは、ndarrayに変換せずにこのまま学習に用いることができます。"
      ]
    },
    {
      "cell_type": "code",
      "execution_count": null,
      "metadata": {
        "id": "SUBrrTPxvI_p"
      },
      "outputs": [],
      "source": [
        "X = iris.data\n",
        "y = iris.target\n",
        "print(iris.feature_names)\n",
        "print(iris.target_names)"
      ]
    },
    {
      "cell_type": "markdown",
      "metadata": {
        "id": "diEBd-OKMA6K"
      },
      "source": [
        "## データの可視化\n",
        "\n",
        "t-SNEを使って2次元データに変換し、散布図で表示します。"
      ]
    },
    {
      "cell_type": "code",
      "execution_count": null,
      "metadata": {
        "id": "7yHp9igMMA6M"
      },
      "outputs": [],
      "source": [
        "tsne = TSNE(perplexity=5)\n",
        "X2 = tsne.fit_transform(X)\n",
        "plt.plot(X2[y==0,0], X2[y==0,1],\"ro\", label = iris.target_names[0])\n",
        "plt.plot(X2[y==1,0], X2[y==1,1],\"g.\", label = iris.target_names[1])\n",
        "plt.plot(X2[y==2,0], X2[y==2,1],\"bx\", label = iris.target_names[2])\n",
        "plt.legend()"
      ]
    },
    {
      "cell_type": "markdown",
      "metadata": {
        "id": "PI5MR4iPMA6W"
      },
      "source": [
        "## ナイーブベイズ\n",
        "\n",
        "識別器のインスタンスを作成し、fitメソッドで動作を確認します。次に、交差確認法で性能を評価します。"
      ]
    },
    {
      "cell_type": "code",
      "execution_count": null,
      "metadata": {
        "id": "gIcb7_Q6MA6Y"
      },
      "outputs": [],
      "source": [
        "clf1 = GaussianNB()\n",
        "clf1.fit(X, y)"
      ]
    },
    {
      "cell_type": "code",
      "execution_count": null,
      "metadata": {
        "id": "4VaCBck-BkcX"
      },
      "outputs": [],
      "source": [
        "scores = cross_val_score(clf1, X, y, cv=10)\n",
        "print(f\"Accuracy: {scores.mean():.2f} (+/- {scores.std()*2:.2f})\")"
      ]
    },
    {
      "cell_type": "markdown",
      "metadata": {
        "id": "garIucg_MA6n"
      },
      "source": [
        "### 学習結果の表示\n",
        "\n",
        "各クラスの正規分布の平均(theta)と分散(var)を表示します。"
      ]
    },
    {
      "cell_type": "code",
      "execution_count": null,
      "metadata": {
        "id": "GcCB7fZdMA6p"
      },
      "outputs": [],
      "source": [
        "clf1.theta_"
      ]
    },
    {
      "cell_type": "code",
      "execution_count": null,
      "metadata": {
        "id": "4e2I2t16MA6w"
      },
      "outputs": [],
      "source": [
        "clf1.var_"
      ]
    },
    {
      "cell_type": "markdown",
      "metadata": {
        "id": "PWl6DCCmuQSt"
      },
      "source": [
        "この結果は、たとえばクラス0(setosa; 先頭の50個)の特徴 sepal lengthを表す正規分布は平均5.006、分散0.122と最尤推定されたことを示しています。他の特徴、他のクラスについても読み込んだDataFrameを参照して、妥当な値になっていることを確認してください。"
      ]
    },
    {
      "cell_type": "markdown",
      "metadata": {
        "id": "tk21AI1zMA63"
      },
      "source": [
        "## ロジスティック回帰\n",
        "\n",
        "識別器のインスタンスを作成し、fitメソッドで動作を確認します。次に、交差確認法で性能を評価します。"
      ]
    },
    {
      "cell_type": "code",
      "execution_count": null,
      "metadata": {
        "id": "PvKDFZJpMA64"
      },
      "outputs": [],
      "source": [
        "clf2 = LogisticRegression(solver='lbfgs', max_iter=1000)\n",
        "clf2.fit(X, y)"
      ]
    },
    {
      "cell_type": "code",
      "execution_count": null,
      "metadata": {
        "id": "HN2QOM47MA7A"
      },
      "outputs": [],
      "source": [
        "scores = cross_val_score(clf2, X, y, cv=10)\n",
        "print(f\"Accuracy: {scores.mean():.2f} (+/- {scores.std()*2:.2f})\")"
      ]
    },
    {
      "cell_type": "markdown",
      "metadata": {
        "id": "ykz0yGJBMA7G"
      },
      "source": [
        "### 学習結果の表示\n",
        "\n",
        "各クラスの識別関数の重み(coef)と切片(intercept)を表示します。"
      ]
    },
    {
      "cell_type": "code",
      "execution_count": null,
      "metadata": {
        "id": "0XZjeAstMA7I"
      },
      "outputs": [],
      "source": [
        "clf2.coef_"
      ]
    },
    {
      "cell_type": "code",
      "execution_count": null,
      "metadata": {
        "id": "bRr2X7O5MA7O"
      },
      "outputs": [],
      "source": [
        "clf2.intercept_"
      ]
    },
    {
      "cell_type": "markdown",
      "metadata": {
        "id": "9nGtv1sY0my4"
      },
      "source": [
        "この結果は、たとえばクラス0 (setosa)について、識別関数が $g_0(\\mathbf{x}) = -0.423 x_1 + 0.967 x_2 - 2.517 x_3 -1.081 x_4 +9.849$ という式になったことを表します。絶対値が大きい係数ほどそのクラスの判定に大きく寄与していると解釈できます。"
      ]
    },
    {
      "cell_type": "markdown",
      "metadata": {
        "id": "bS2Tvn6HBkcZ"
      },
      "source": [
        "# 演習問題\n",
        "\n",
        "scikit-learn付属のwineデータデータに対して生成モデル・識別モデルそれぞれで識別を行い、問題の難しさと適したモデルとの関係を考察してください。ただし、元のデータを使うと正解率が高く、モデルの違いがわかりにくいので、主成分分析(PCA)もしくはt-snaで2次元に変換したデータを対象に識別を行ってください。"
      ]
    },
    {
      "cell_type": "markdown",
      "metadata": {
        "id": "1qQiHGUWE_ec"
      },
      "source": [
        "## 解答欄"
      ]
    },
    {
      "cell_type": "code",
      "execution_count": null,
      "metadata": {
        "id": "AvZKlKcKEnSh"
      },
      "outputs": [],
      "source": [
        "import numpy as np\n",
        "import matplotlib.pyplot as plt\n",
        "from sklearn.datasets import load_wine, load_breast_cancer\n",
        "from sklearn.decomposition import PCA\n",
        "from sklearn.naive_bayes import GaussianNB\n",
        "from sklearn.linear_model import LogisticRegression\n",
        "from sklearn.model_selection import cross_val_score\n",
        "\n",
        "wine = load_wine(as_frame=True)\n"
      ]
    },
    {
      "cell_type": "code",
      "source": [],
      "metadata": {
        "id": "BQEFi6PWSTj9"
      },
      "execution_count": null,
      "outputs": []
    }
  ],
  "metadata": {
    "colab": {
      "provenance": [],
      "include_colab_link": true
    },
    "kernelspec": {
      "display_name": "Python 3",
      "name": "python3"
    },
    "language_info": {
      "codemirror_mode": {
        "name": "ipython",
        "version": 3
      },
      "file_extension": ".py",
      "mimetype": "text/x-python",
      "name": "python",
      "nbconvert_exporter": "python",
      "pygments_lexer": "ipython3",
      "version": "3.12.4"
    }
  },
  "nbformat": 4,
  "nbformat_minor": 0
}