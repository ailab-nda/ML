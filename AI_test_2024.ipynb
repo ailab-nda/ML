{
  "cells": [
    {
      "cell_type": "markdown",
      "metadata": {
        "id": "view-in-github",
        "colab_type": "text"
      },
      "source": [
        "<a href=\"https://colab.research.google.com/github/ailab-nda/ML/blob/main/AI_test_2024.ipynb\" target=\"_parent\"><img src=\"https://colab.research.google.com/assets/colab-badge.svg\" alt=\"Open In Colab\"/></a>"
      ]
    },
    {
      "cell_type": "markdown",
      "id": "f551b57d",
      "metadata": {
        "id": "f551b57d"
      },
      "source": [
        "# 人工知能試験問題 2024"
      ]
    },
    {
      "cell_type": "markdown",
      "id": "aa6e5eeb",
      "metadata": {
        "id": "aa6e5eeb"
      },
      "source": [
        "解答は本ノートに直接記述の上、出来上がったファイルをダウンロードして提出すること。\n",
        "（解答欄はクリックすると書き込めます）"
      ]
    },
    {
      "cell_type": "markdown",
      "id": "95389136",
      "metadata": {
        "id": "95389136"
      },
      "source": [
        "### 使用するライブラリのインストール"
      ]
    },
    {
      "cell_type": "code",
      "execution_count": null,
      "id": "5a4260f6",
      "metadata": {
        "id": "5a4260f6"
      },
      "outputs": [],
      "source": [
        "import os\n",
        "os.environ['https_proxy']='http://cmproxy.nda.ac.jp:8080'\n",
        "!pip install scikit-learn\n",
        "!pip install mlxtend\n",
        "import warnings\n",
        "warnings.filterwarnings('ignore')"
      ]
    },
    {
      "cell_type": "markdown",
      "id": "b195d2a7",
      "metadata": {
        "id": "b195d2a7"
      },
      "source": [
        "## 1. Python 基礎知識"
      ]
    },
    {
      "cell_type": "markdown",
      "id": "a68a4d05",
      "metadata": {
        "id": "a68a4d05"
      },
      "source": [
        "(1) Python における「リスト」とはどんなデータ構造か？"
      ]
    },
    {
      "cell_type": "markdown",
      "source": [
        "解答欄（ダブルクリックすると書き込めます）"
      ],
      "metadata": {
        "id": "oxqAHBvnW7nA"
      },
      "id": "oxqAHBvnW7nA"
    },
    {
      "cell_type": "markdown",
      "source": [
        "(2) Python における「タプル」、「辞書」、「集合」について、それぞれがどのようなものかを、リストとの違いを中心に説明しなさい。"
      ],
      "metadata": {
        "id": "UN4vgdvEWty1"
      },
      "id": "UN4vgdvEWty1"
    },
    {
      "cell_type": "markdown",
      "source": [
        "解答欄（ダブルクリックすると書き込めます）"
      ],
      "metadata": {
        "id": "qqP3DEaVXCUx"
      },
      "id": "qqP3DEaVXCUx"
    },
    {
      "cell_type": "markdown",
      "source": [
        "(3) ２つの文章について、共通する単語の数を、どちらかに入っている単語の数で割ることで、どの程度似ているかを計算することができる。この手続きを関数として表現せよ。ただし、単語の重複は考慮しない（何回出てきても１回とみなす）とする。"
      ],
      "metadata": {
        "id": "XZIWAK-xXHMs"
      },
      "id": "XZIWAK-xXHMs"
    },
    {
      "cell_type": "code",
      "execution_count": 6,
      "id": "e3b3e4f9",
      "metadata": {
        "id": "e3b3e4f9",
        "outputId": "2f49030e-8bc5-40ad-d5da-393d48d998ab",
        "colab": {
          "base_uri": "https://localhost:8080/"
        }
      },
      "outputs": [
        {
          "output_type": "stream",
          "name": "stdout",
          "text": [
            "0.3333333333333333\n",
            "0.0\n"
          ]
        }
      ],
      "source": [
        "# 解答欄\n",
        "def function(x, y):\n",
        "    # 以下に処理を書く。\n",
        "    xx = x.split()\n",
        "    yy = y.split()\n",
        "    a = set(xx)\n",
        "    b = set(yy)\n",
        "    result = len(set.intersection(a,b))/len(set.union(a,b))\n",
        "    return result\n",
        "\n",
        "print(similarity(\"This is a pen\", \"That is a girl\"))\n",
        "print(similarity(\"This is a pen\", \"How are you doing\"))\n"
      ]
    },
    {
      "cell_type": "markdown",
      "id": "ac79a54f",
      "metadata": {
        "id": "ac79a54f"
      },
      "source": [
        "## 2. 機械学習の理論"
      ]
    },
    {
      "cell_type": "markdown",
      "id": "ac0ee8c9",
      "metadata": {
        "id": "ac0ee8c9"
      },
      "source": [
        "防大生の 0.1\\% がコロナウイルスに感染している状況を考える。抗原検査を行うと、感染者の99\\%が陽性反応を示すが、健康な者でも 3\\% が陽性反応を示してしまう。事象 A を「コロナに感染している」、事象 B を「抗原検査の結果が陽性」としたとき、以下の問いに答えよ。\n",
        "\n",
        "数式の書き方はこちら→ https://qiita.com/namoshika/items/63db972bfd1030f8264a"
      ]
    },
    {
      "cell_type": "markdown",
      "id": "cdf6229a",
      "metadata": {
        "id": "cdf6229a"
      },
      "source": [
        "(1) $P(A)$, $P(\\bar{A})$, $P(B|A)$, $P(B|\\bar{A})$ の具体的な値を求めよ。（注：以下、数式は \\$\\$ ~ \\$\\$ の中に書くこと）"
      ]
    },
    {
      "cell_type": "markdown",
      "id": "4090a60c",
      "metadata": {
        "id": "4090a60c"
      },
      "source": [
        "解答欄：\n",
        "$$\n",
        "P(A) = \\\\\n",
        "P(\\bar{A}) = \\\\\n",
        "P(B|A) = \\\\\n",
        "P(B|\\bar{A})=\n",
        "$$"
      ]
    },
    {
      "cell_type": "markdown",
      "id": "d61fed67",
      "metadata": {
        "id": "d61fed67"
      },
      "source": [
        "(2) 上記で求めた値を使って、$P(B)$ を計算により求めよ。"
      ]
    },
    {
      "cell_type": "markdown",
      "id": "f34da61a",
      "metadata": {
        "id": "f34da61a"
      },
      "source": [
        "解答欄：\n",
        "$$\n",
        "P(B) =\n",
        "$$"
      ]
    },
    {
      "cell_type": "markdown",
      "id": "1dbaa049",
      "metadata": {
        "id": "1dbaa049"
      },
      "source": [
        "(3) 太郎くんが抗原検査を受けたところ陽性反応が出てしまった。太郎くんが実際に感染している確率 $P(A|B)$ を求めよ。"
      ]
    },
    {
      "cell_type": "markdown",
      "id": "4a10f70e",
      "metadata": {
        "id": "4a10f70e"
      },
      "source": [
        "解答欄：\n",
        "$$\n",
        "P(A|B) =\n",
        "$$"
      ]
    },
    {
      "cell_type": "markdown",
      "id": "49c164da",
      "metadata": {
        "id": "49c164da"
      },
      "source": [
        "# 3. 機械学習実践\n",
        "### アソシエーション分析（chap12.pdf 参照）"
      ]
    },
    {
      "cell_type": "code",
      "execution_count": 4,
      "id": "f0c83733",
      "metadata": {
        "id": "f0c83733",
        "outputId": "d4ad8b0c-0d1e-4d80-b836-b0f40d42b9ec",
        "colab": {
          "base_uri": "https://localhost:8080/"
        }
      },
      "outputs": [
        {
          "output_type": "stream",
          "name": "stdout",
          "text": [
            "Collecting pgmpy\n",
            "  Downloading pgmpy-0.1.26-py3-none-any.whl.metadata (9.1 kB)\n",
            "Requirement already satisfied: networkx in /usr/local/lib/python3.10/dist-packages (from pgmpy) (3.3)\n",
            "Requirement already satisfied: numpy in /usr/local/lib/python3.10/dist-packages (from pgmpy) (1.26.4)\n",
            "Requirement already satisfied: scipy in /usr/local/lib/python3.10/dist-packages (from pgmpy) (1.13.1)\n",
            "Requirement already satisfied: scikit-learn in /usr/local/lib/python3.10/dist-packages (from pgmpy) (1.5.2)\n",
            "Requirement already satisfied: pandas in /usr/local/lib/python3.10/dist-packages (from pgmpy) (2.1.4)\n",
            "Requirement already satisfied: pyparsing in /usr/local/lib/python3.10/dist-packages (from pgmpy) (3.1.4)\n",
            "Requirement already satisfied: torch in /usr/local/lib/python3.10/dist-packages (from pgmpy) (2.4.1+cu121)\n",
            "Requirement already satisfied: statsmodels in /usr/local/lib/python3.10/dist-packages (from pgmpy) (0.14.3)\n",
            "Requirement already satisfied: tqdm in /usr/local/lib/python3.10/dist-packages (from pgmpy) (4.66.5)\n",
            "Requirement already satisfied: joblib in /usr/local/lib/python3.10/dist-packages (from pgmpy) (1.4.2)\n",
            "Requirement already satisfied: opt-einsum in /usr/local/lib/python3.10/dist-packages (from pgmpy) (3.3.0)\n",
            "Requirement already satisfied: xgboost in /usr/local/lib/python3.10/dist-packages (from pgmpy) (2.1.1)\n",
            "Requirement already satisfied: google-generativeai in /usr/local/lib/python3.10/dist-packages (from pgmpy) (0.7.2)\n",
            "Requirement already satisfied: google-ai-generativelanguage==0.6.6 in /usr/local/lib/python3.10/dist-packages (from google-generativeai->pgmpy) (0.6.6)\n",
            "Requirement already satisfied: google-api-core in /usr/local/lib/python3.10/dist-packages (from google-generativeai->pgmpy) (2.19.2)\n",
            "Requirement already satisfied: google-api-python-client in /usr/local/lib/python3.10/dist-packages (from google-generativeai->pgmpy) (2.137.0)\n",
            "Requirement already satisfied: google-auth>=2.15.0 in /usr/local/lib/python3.10/dist-packages (from google-generativeai->pgmpy) (2.27.0)\n",
            "Requirement already satisfied: protobuf in /usr/local/lib/python3.10/dist-packages (from google-generativeai->pgmpy) (3.20.3)\n",
            "Requirement already satisfied: pydantic in /usr/local/lib/python3.10/dist-packages (from google-generativeai->pgmpy) (2.9.2)\n",
            "Requirement already satisfied: typing-extensions in /usr/local/lib/python3.10/dist-packages (from google-generativeai->pgmpy) (4.12.2)\n",
            "Requirement already satisfied: proto-plus<2.0.0dev,>=1.22.3 in /usr/local/lib/python3.10/dist-packages (from google-ai-generativelanguage==0.6.6->google-generativeai->pgmpy) (1.24.0)\n",
            "Requirement already satisfied: python-dateutil>=2.8.2 in /usr/local/lib/python3.10/dist-packages (from pandas->pgmpy) (2.8.2)\n",
            "Requirement already satisfied: pytz>=2020.1 in /usr/local/lib/python3.10/dist-packages (from pandas->pgmpy) (2024.2)\n",
            "Requirement already satisfied: tzdata>=2022.1 in /usr/local/lib/python3.10/dist-packages (from pandas->pgmpy) (2024.1)\n",
            "Requirement already satisfied: threadpoolctl>=3.1.0 in /usr/local/lib/python3.10/dist-packages (from scikit-learn->pgmpy) (3.5.0)\n",
            "Requirement already satisfied: patsy>=0.5.6 in /usr/local/lib/python3.10/dist-packages (from statsmodels->pgmpy) (0.5.6)\n",
            "Requirement already satisfied: packaging>=21.3 in /usr/local/lib/python3.10/dist-packages (from statsmodels->pgmpy) (24.1)\n",
            "Requirement already satisfied: filelock in /usr/local/lib/python3.10/dist-packages (from torch->pgmpy) (3.16.1)\n",
            "Requirement already satisfied: sympy in /usr/local/lib/python3.10/dist-packages (from torch->pgmpy) (1.13.3)\n",
            "Requirement already satisfied: jinja2 in /usr/local/lib/python3.10/dist-packages (from torch->pgmpy) (3.1.4)\n",
            "Requirement already satisfied: fsspec in /usr/local/lib/python3.10/dist-packages (from torch->pgmpy) (2024.6.1)\n",
            "Requirement already satisfied: nvidia-nccl-cu12 in /usr/local/lib/python3.10/dist-packages (from xgboost->pgmpy) (2.23.4)\n",
            "Requirement already satisfied: googleapis-common-protos<2.0.dev0,>=1.56.2 in /usr/local/lib/python3.10/dist-packages (from google-api-core->google-generativeai->pgmpy) (1.65.0)\n",
            "Requirement already satisfied: requests<3.0.0.dev0,>=2.18.0 in /usr/local/lib/python3.10/dist-packages (from google-api-core->google-generativeai->pgmpy) (2.32.3)\n",
            "Requirement already satisfied: cachetools<6.0,>=2.0.0 in /usr/local/lib/python3.10/dist-packages (from google-auth>=2.15.0->google-generativeai->pgmpy) (5.5.0)\n",
            "Requirement already satisfied: pyasn1-modules>=0.2.1 in /usr/local/lib/python3.10/dist-packages (from google-auth>=2.15.0->google-generativeai->pgmpy) (0.4.1)\n",
            "Requirement already satisfied: rsa<5,>=3.1.4 in /usr/local/lib/python3.10/dist-packages (from google-auth>=2.15.0->google-generativeai->pgmpy) (4.9)\n",
            "Requirement already satisfied: six in /usr/local/lib/python3.10/dist-packages (from patsy>=0.5.6->statsmodels->pgmpy) (1.16.0)\n",
            "Requirement already satisfied: httplib2<1.dev0,>=0.19.0 in /usr/local/lib/python3.10/dist-packages (from google-api-python-client->google-generativeai->pgmpy) (0.22.0)\n",
            "Requirement already satisfied: google-auth-httplib2<1.0.0,>=0.2.0 in /usr/local/lib/python3.10/dist-packages (from google-api-python-client->google-generativeai->pgmpy) (0.2.0)\n",
            "Requirement already satisfied: uritemplate<5,>=3.0.1 in /usr/local/lib/python3.10/dist-packages (from google-api-python-client->google-generativeai->pgmpy) (4.1.1)\n",
            "Requirement already satisfied: MarkupSafe>=2.0 in /usr/local/lib/python3.10/dist-packages (from jinja2->torch->pgmpy) (2.1.5)\n",
            "Requirement already satisfied: annotated-types>=0.6.0 in /usr/local/lib/python3.10/dist-packages (from pydantic->google-generativeai->pgmpy) (0.7.0)\n",
            "Requirement already satisfied: pydantic-core==2.23.4 in /usr/local/lib/python3.10/dist-packages (from pydantic->google-generativeai->pgmpy) (2.23.4)\n",
            "Requirement already satisfied: mpmath<1.4,>=1.1.0 in /usr/local/lib/python3.10/dist-packages (from sympy->torch->pgmpy) (1.3.0)\n",
            "Requirement already satisfied: grpcio<2.0dev,>=1.33.2 in /usr/local/lib/python3.10/dist-packages (from google-api-core[grpc]!=2.0.*,!=2.1.*,!=2.10.*,!=2.2.*,!=2.3.*,!=2.4.*,!=2.5.*,!=2.6.*,!=2.7.*,!=2.8.*,!=2.9.*,<3.0.0dev,>=1.34.1->google-ai-generativelanguage==0.6.6->google-generativeai->pgmpy) (1.64.1)\n",
            "Requirement already satisfied: grpcio-status<2.0.dev0,>=1.33.2 in /usr/local/lib/python3.10/dist-packages (from google-api-core[grpc]!=2.0.*,!=2.1.*,!=2.10.*,!=2.2.*,!=2.3.*,!=2.4.*,!=2.5.*,!=2.6.*,!=2.7.*,!=2.8.*,!=2.9.*,<3.0.0dev,>=1.34.1->google-ai-generativelanguage==0.6.6->google-generativeai->pgmpy) (1.48.2)\n",
            "Requirement already satisfied: pyasn1<0.7.0,>=0.4.6 in /usr/local/lib/python3.10/dist-packages (from pyasn1-modules>=0.2.1->google-auth>=2.15.0->google-generativeai->pgmpy) (0.6.1)\n",
            "Requirement already satisfied: charset-normalizer<4,>=2 in /usr/local/lib/python3.10/dist-packages (from requests<3.0.0.dev0,>=2.18.0->google-api-core->google-generativeai->pgmpy) (3.3.2)\n",
            "Requirement already satisfied: idna<4,>=2.5 in /usr/local/lib/python3.10/dist-packages (from requests<3.0.0.dev0,>=2.18.0->google-api-core->google-generativeai->pgmpy) (3.10)\n",
            "Requirement already satisfied: urllib3<3,>=1.21.1 in /usr/local/lib/python3.10/dist-packages (from requests<3.0.0.dev0,>=2.18.0->google-api-core->google-generativeai->pgmpy) (2.2.3)\n",
            "Requirement already satisfied: certifi>=2017.4.17 in /usr/local/lib/python3.10/dist-packages (from requests<3.0.0.dev0,>=2.18.0->google-api-core->google-generativeai->pgmpy) (2024.8.30)\n",
            "Downloading pgmpy-0.1.26-py3-none-any.whl (2.0 MB)\n",
            "\u001b[2K   \u001b[90m━━━━━━━━━━━━━━━━━━━━━━━━━━━━━━━━━━━━━━━━\u001b[0m \u001b[32m2.0/2.0 MB\u001b[0m \u001b[31m25.8 MB/s\u001b[0m eta \u001b[36m0:00:00\u001b[0m\n",
            "\u001b[?25hInstalling collected packages: pgmpy\n",
            "Successfully installed pgmpy-0.1.26\n"
          ]
        }
      ],
      "source": [
        "!pip install -U pgmpy"
      ]
    },
    {
      "cell_type": "markdown",
      "id": "eeeb5de5",
      "metadata": {
        "id": "eeeb5de5"
      },
      "source": [
        "ライブラリのインポート"
      ]
    },
    {
      "cell_type": "code",
      "source": [
        "from pgmpy.models import BayesianNetwork\n",
        "from pgmpy.factors.discrete import TabularCPD\n",
        "from pgmpy.inference import VariableElimination\n",
        "from pgmpy.estimators import HillClimbSearch, BayesianEstimator"
      ],
      "metadata": {
        "id": "pYtWSx_Tb_HZ"
      },
      "id": "pYtWSx_Tb_HZ",
      "execution_count": 5,
      "outputs": []
    },
    {
      "cell_type": "markdown",
      "id": "51e95a51",
      "metadata": {
        "id": "51e95a51"
      },
      "source": [
        "以下のような購買データ（9人分）があるとする。"
      ]
    },
    {
      "cell_type": "code",
      "execution_count": null,
      "id": "9c475c05",
      "metadata": {
        "id": "9c475c05"
      },
      "outputs": [],
      "source": [
        "dataset = [\n",
        "    ['玉ねぎ', 'ニンジン','ジャガイモ', '牛肉', '卵', 'ヨーグルト', 'カレー粉'],#1人目\n",
        "    ['たまねぎ', 'ニンジン', '豚肉', 'シチュー粉', '卵'],#2人目\n",
        "    ['牛乳', 'リンゴ', 'ピーナッツ', '卵'],#3人目\n",
        "    ['牛乳','ピーナッツ','ヨーグルト'], #4人目\n",
        "    ['玉ねぎ', 'ニンジン', '卵', 'アイスクリーム'], #5人目\n",
        "    ['豚肉', '玉ねぎ', '醤油', 'ウーロン茶'], #6人目\n",
        "    ['牛肉', '玉ねぎ', 'ウーロン茶'], #7人目\n",
        "    ['鳥肉', 'ヨーグルト', 'リンゴ', 'ウーロン茶'], #8人目\n",
        "    ['豚肉', 'ヨーグルト', 'ジャガイモ', 'カレー粉'], #9人目\n",
        "]\n",
        "dataset"
      ]
    },
    {
      "cell_type": "markdown",
      "id": "d5e528cc",
      "metadata": {
        "id": "d5e528cc"
      },
      "source": [
        "データをテーブル形式に加工する。"
      ]
    },
    {
      "cell_type": "code",
      "execution_count": null,
      "id": "8aefa851",
      "metadata": {
        "id": "8aefa851"
      },
      "outputs": [],
      "source": [
        "te = TransactionEncoder()\n",
        "te_array = te.fit(dataset).transform(dataset)\n",
        "df = pd.DataFrame(te_array, columns=te.columns_)\n",
        "df"
      ]
    },
    {
      "cell_type": "markdown",
      "id": "8abaed9e",
      "metadata": {
        "id": "8abaed9e"
      },
      "source": [
        "### apriori アルゴリズム（chap12.pdf 参照）"
      ]
    },
    {
      "cell_type": "markdown",
      "id": "3cada5a9",
      "metadata": {
        "id": "3cada5a9"
      },
      "source": [
        "上記の様な形式のデータに対し、apriori 関数が使用できる。"
      ]
    },
    {
      "cell_type": "code",
      "execution_count": null,
      "id": "85f8b2a7",
      "metadata": {
        "id": "85f8b2a7"
      },
      "outputs": [],
      "source": [
        "freq_items = apriori(df, # データフレーム\n",
        "min_support  = 0.01,     # 支持度(support)の最小値\n",
        "use_colnames = True,    # 出力値のカラムに購入商品名を表示\n",
        "max_len      = None,    # 生成されるitemsetsの個数\n",
        "#verbose = 0,           # low_memory=Trueの場合のイテレーション数\n",
        "#low_memory = False,    # メモリ制限あり＆大規模なデータセット利用時に有効\n",
        ")"
      ]
    },
    {
      "cell_type": "markdown",
      "id": "d1f62e54",
      "metadata": {
        "id": "d1f62e54"
      },
      "source": [
        "(1) apriori アルゴリズムについて、以下の用語の意味を答えよ：支持度 (support)、確信度 (confidence)、リフト値 (lift)"
      ]
    },
    {
      "cell_type": "markdown",
      "id": "28cbc8b2",
      "metadata": {
        "id": "28cbc8b2"
      },
      "source": [
        "解答欄：\n",
        "\n",
        "支持度：\n",
        "\n",
        "確信度：\n",
        "\n",
        "リフト値："
      ]
    },
    {
      "cell_type": "markdown",
      "id": "bf873101",
      "metadata": {
        "id": "bf873101"
      },
      "source": [
        "よく売れる商品（ = support の高いもの）は、以下のように抽出できる。"
      ]
    },
    {
      "cell_type": "code",
      "execution_count": null,
      "id": "32fbdfaa",
      "metadata": {
        "id": "32fbdfaa"
      },
      "outputs": [],
      "source": [
        "freq_items = freq_items.sort_values(\"support\", ascending = False).reset_index(drop=True)\n",
        "freq_items.head(10)"
      ]
    },
    {
      "cell_type": "markdown",
      "id": "2bc37e20",
      "metadata": {
        "id": "2bc37e20"
      },
      "source": [
        "よく売れる組み合わせ（アソシエーション・ルール）は以下のように抽出できる。"
      ]
    },
    {
      "cell_type": "code",
      "execution_count": null,
      "id": "887af942",
      "metadata": {
        "id": "887af942"
      },
      "outputs": [],
      "source": [
        "df_rules = association_rules(\n",
        "    freq_items,             # supportとitemsetsを持つデータフレーム\n",
        "    metric = \"confidence\",  # アソシエーション・ルールの評価指標\n",
        "    min_threshold = 0.1,    # metricsの閾値\n",
        ")\n",
        "\n",
        "df_rules.head(10)"
      ]
    },
    {
      "cell_type": "markdown",
      "id": "4eb70e1e",
      "metadata": {
        "id": "4eb70e1e"
      },
      "source": [
        "リフト値で結果を絞る。"
      ]
    },
    {
      "cell_type": "code",
      "execution_count": null,
      "id": "b331fe00",
      "metadata": {
        "id": "b331fe00"
      },
      "outputs": [],
      "source": [
        "df_rules2 = df_rules[df_rules[\"lift\"]>=2.0]\n",
        "df_rules2.head(10)"
      ]
    },
    {
      "cell_type": "markdown",
      "id": "66acd3dc",
      "metadata": {
        "id": "66acd3dc"
      },
      "source": [
        "(3) これを踏まえて何を買った人に何を薦めればいいか？"
      ]
    },
    {
      "cell_type": "markdown",
      "id": "e9a7db68",
      "metadata": {
        "id": "e9a7db68"
      },
      "source": [
        "解答欄："
      ]
    },
    {
      "cell_type": "markdown",
      "id": "62efff8b",
      "metadata": {
        "id": "62efff8b"
      },
      "source": [
        "(4) 与えられたデータ（purchase.csv：課題に添付）に対し、バスケット分析を行え。よく売れるものは何か？また、よく売れる組み合わせは何か？"
      ]
    },
    {
      "cell_type": "markdown",
      "id": "8482ca7e",
      "metadata": {
        "id": "8482ca7e"
      },
      "source": [
        "注：データの読み込みからテーブルデータへの変換はこちらで用意しました。"
      ]
    },
    {
      "cell_type": "code",
      "execution_count": null,
      "id": "26fb13a7",
      "metadata": {
        "id": "26fb13a7"
      },
      "outputs": [],
      "source": [
        "# データの読み込み（と確認）\n",
        "data = pd.read_csv('purchase.csv')\n",
        "df"
      ]
    },
    {
      "cell_type": "code",
      "execution_count": null,
      "id": "43476df9",
      "metadata": {
        "id": "43476df9"
      },
      "outputs": [],
      "source": [
        "# レコード数\n",
        "record_len = len(data)\n",
        "# カラム数\n",
        "column_len = len(data.columns)\n",
        "\n",
        "# トランザクション形式に加工\n",
        "transactions = []\n",
        "for i in range(record_len):\n",
        "    # データをリスト型に変更\n",
        "    values = [str(data.values[i,j]) for j in range(column_len)]\n",
        "    values_notnull = []\n",
        "    for check in values:\n",
        "        if check != 'nan':\n",
        "            values_notnull.append(check)\n",
        "    transactions.append(values_notnull)\n",
        "\n",
        "print(transactions) # 変換結果の確認"
      ]
    },
    {
      "cell_type": "code",
      "execution_count": null,
      "id": "39372520",
      "metadata": {
        "id": "39372520"
      },
      "outputs": [],
      "source": [
        "# 以下のプログラムはこちらへ"
      ]
    },
    {
      "cell_type": "markdown",
      "id": "5fc6abd0",
      "metadata": {
        "id": "5fc6abd0"
      },
      "source": [
        "解答欄"
      ]
    },
    {
      "cell_type": "markdown",
      "id": "2e54fb75",
      "metadata": {
        "id": "2e54fb75"
      },
      "source": [
        "## 4. 本講義に関するコメント\n",
        "感想、苦情、なぜこの科目の単位が必要なのか、等"
      ]
    },
    {
      "cell_type": "markdown",
      "id": "a59f0a38",
      "metadata": {
        "id": "a59f0a38"
      },
      "source": [
        "解答欄："
      ]
    }
  ],
  "metadata": {
    "kernelspec": {
      "display_name": "Python 3",
      "language": "python",
      "name": "python3"
    },
    "language_info": {
      "codemirror_mode": {
        "name": "ipython",
        "version": 3
      },
      "file_extension": ".py",
      "mimetype": "text/x-python",
      "name": "python",
      "nbconvert_exporter": "python",
      "pygments_lexer": "ipython3",
      "version": "3.11.5"
    },
    "colab": {
      "provenance": [],
      "include_colab_link": true
    }
  },
  "nbformat": 4,
  "nbformat_minor": 5
}