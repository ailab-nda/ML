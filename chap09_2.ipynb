{
  "cells": [
    {
      "cell_type": "markdown",
      "metadata": {
        "id": "view-in-github",
        "colab_type": "text"
      },
      "source": [
        "<a href=\"https://colab.research.google.com/github/ailab-nda/ML/blob/main/chap09_2.ipynb\" target=\"_parent\"><img src=\"https://colab.research.google.com/assets/colab-badge.svg\" alt=\"Open In Colab\"/></a>"
      ]
    },
    {
      "cell_type": "markdown",
      "metadata": {
        "id": "HWtzeOYmcIgC"
      },
      "source": [
        "## 例題9.2"
      ]
    },
    {
      "cell_type": "markdown",
      "metadata": {
        "id": "QCjae1IKcIgL"
      },
      "source": [
        "警告を非表示に"
      ]
    },
    {
      "cell_type": "code",
      "execution_count": null,
      "metadata": {
        "id": "fl6NFKexcIgL"
      },
      "outputs": [],
      "source": [
        "import warnings\n",
        "warnings.filterwarnings('ignore')"
      ]
    },
    {
      "cell_type": "markdown",
      "metadata": {
        "id": "3q7JZgeecIgN"
      },
      "source": [
        "パッケージの読み込み"
      ]
    },
    {
      "cell_type": "code",
      "execution_count": null,
      "metadata": {
        "id": "Xeou5Id1cIgN"
      },
      "outputs": [],
      "source": [
        "from keras.datasets import mnist\n",
        "from keras.models import Sequential\n",
        "from keras.layers import Dense, Dropout, Activation\n",
        "from keras.optimizers import SGD, RMSprop\n",
        "from keras.utils import np_utils"
      ]
    },
    {
      "cell_type": "markdown",
      "metadata": {
        "id": "qk0aJ9Z8cIgO"
      },
      "source": [
        "MNISTデータのロード"
      ]
    },
    {
      "cell_type": "code",
      "execution_count": null,
      "metadata": {
        "id": "nHEBQt2zcIgP"
      },
      "outputs": [],
      "source": [
        "(X_train, y_train), (X_test, y_test) = mnist.load_data()"
      ]
    },
    {
      "cell_type": "markdown",
      "metadata": {
        "id": "i3ZmLyMMcIgP"
      },
      "source": [
        "入力をフラットな配列に変換し、学習データは10,000個、テストデータは1000個だけ利用します。また、元データでは濃淡が0から255までで表現されており、最大値が大きすぎるので、特徴の値の最大値を1としておきます。"
      ]
    },
    {
      "cell_type": "code",
      "execution_count": null,
      "metadata": {
        "id": "GSJll8xUcIgP"
      },
      "outputs": [],
      "source": [
        "# input image dimensions\n",
        "img_rows, img_cols = 28, 28\n",
        "\n",
        "X_train = X_train.reshape(X_train.shape[0], img_rows * img_cols)[0:10000]\n",
        "X_test = X_test.reshape(X_test.shape[0], img_rows * img_cols)[0:1000]\n",
        "\n",
        "X_train = X_train.astype('float32')\n",
        "X_test = X_test.astype('float32')\n",
        "X_train /= 255\n",
        "X_test /= 255"
      ]
    },
    {
      "cell_type": "markdown",
      "metadata": {
        "id": "KwfZmFU-cIgQ"
      },
      "source": [
        "出力をone-hotに変換します。"
      ]
    },
    {
      "cell_type": "code",
      "execution_count": null,
      "metadata": {
        "id": "8jYncsmkcIgQ"
      },
      "outputs": [],
      "source": [
        "tc = np_utils.to_categorical\n",
        "Y_train = tc(y_train)[0:10000]\n",
        "Y_test = tc(y_test)[0:1000]"
      ]
    },
    {
      "cell_type": "markdown",
      "metadata": {
        "collapsed": true,
        "id": "C_kA4mx6cIgQ"
      },
      "source": [
        "## 多層パーセプトロン (MLP)"
      ]
    },
    {
      "cell_type": "markdown",
      "metadata": {
        "id": "8BIy14TEcIgR"
      },
      "source": [
        "まず、中間層1層のモデルを設定します。ユニット数は入力の次元数を考えて、適切に設定してください。活性化関数は、パラメータ[activation](https://keras.io/ja/activations/)で指定します。"
      ]
    },
    {
      "cell_type": "code",
      "execution_count": null,
      "metadata": {
        "id": "0pvR4SbLcIgR"
      },
      "outputs": [],
      "source": [
        "input_shape = X_train[0].shape\n",
        "n_hidden = 200\n",
        "n_out = len(Y_train[0])  # 10\n",
        "\n",
        "model = Sequential()\n",
        "model.add(Dense(n_hidden, input_shape=input_shape, activation='sigmoid'))\n",
        "model.add(Dense(n_out, activation='softmax'))\n",
        "model.summary()"
      ]
    },
    {
      "cell_type": "markdown",
      "metadata": {
        "id": "QRMCmxtmcIgS"
      },
      "source": [
        "損失関数 ([loss](https://keras.io/ja/losses/))、最適化アルゴリズム([optimizer](https://keras.io/ja/optimizers/))、評価基準([metrics](https://keras.io/ja/metrics/))を指定して、モデルをcompileします。"
      ]
    },
    {
      "cell_type": "code",
      "execution_count": null,
      "metadata": {
        "id": "WTNUxaFycIgS"
      },
      "outputs": [],
      "source": [
        "model.compile(loss = 'categorical_crossentropy',\n",
        "              optimizer = RMSprop(),\n",
        "              metrics = ['accuracy'])"
      ]
    },
    {
      "cell_type": "markdown",
      "metadata": {
        "id": "f7vXEauTcIgS"
      },
      "source": [
        "[fit](https://keras.io/ja/models/sequential/#fit)メソッドで学習します。繰り返し回数はパラメータepocksで、バッチサイズはパラメータbatch\\_sizeで指定します。"
      ]
    },
    {
      "cell_type": "code",
      "execution_count": null,
      "metadata": {
        "id": "XSapb1CxcIgT"
      },
      "outputs": [],
      "source": [
        "model.fit(X_train, Y_train, epochs=10, batch_size=200)"
      ]
    },
    {
      "cell_type": "markdown",
      "metadata": {
        "id": "pzgb0agbcIgT"
      },
      "source": [
        "[evaluate](https://keras.io/ja/models/sequential/#evaluate)メソッドで評価します。"
      ]
    },
    {
      "cell_type": "code",
      "execution_count": null,
      "metadata": {
        "id": "K-SLpOfvcIgT"
      },
      "outputs": [],
      "source": [
        "score = model.evaluate(X_test, Y_test, verbose=0)\n",
        "print('Test loss:', score[0])\n",
        "print('Test accuracy:', score[1])"
      ]
    },
    {
      "cell_type": "markdown",
      "metadata": {
        "id": "swGyeCJqcIgU"
      },
      "source": [
        "### 中間層の層数を増やす\n",
        "\n",
        "中間層の層数を増やしてみます。その際、活性化関数sigmoid, tanh, reluのそれぞれの違いを確認します。"
      ]
    },
    {
      "cell_type": "code",
      "execution_count": null,
      "metadata": {
        "id": "5Qn9S5sNcIgU"
      },
      "outputs": [],
      "source": [
        "model = Sequential()\n",
        "af = 'sigmoid'\n",
        "model.add(Dense(n_hidden, input_shape=input_shape, activation=af))\n",
        "model.add(Dense(n_hidden, activation=af))\n",
        "model.add(Dense(n_hidden, activation=af))\n",
        "model.add(Dense(n_hidden, activation=af))\n",
        "model.add(Dense(n_hidden, activation=af))\n",
        "model.add(Dense(n_out, activation='softmax'))\n",
        "model.summary()"
      ]
    },
    {
      "cell_type": "code",
      "execution_count": null,
      "metadata": {
        "id": "1-M_GaarcIgV"
      },
      "outputs": [],
      "source": [
        "model.compile(loss = 'categorical_crossentropy',\n",
        "              optimizer = SGD(lr=0.1),\n",
        "              metrics = ['accuracy'])\n",
        "model.fit(X_train, Y_train, epochs=10, batch_size=200)\n",
        "score = model.evaluate(X_test, Y_test, verbose=0)\n",
        "print('Test loss:', score[0])\n",
        "print('Test accuracy:', score[1])"
      ]
    },
    {
      "cell_type": "code",
      "execution_count": null,
      "metadata": {
        "id": "80W5oIelcIgV"
      },
      "outputs": [],
      "source": [
        "model = Sequential()\n",
        "af = 'tanh'\n",
        "model.add(Dense(n_hidden, input_shape=input_shape, activation=af))\n",
        "model.add(Dense(n_hidden, activation=af))\n",
        "model.add(Dense(n_hidden, activation=af))\n",
        "model.add(Dense(n_hidden, activation=af))\n",
        "model.add(Dense(n_hidden, activation=af))\n",
        "model.add(Dense(n_out, activation='softmax'))"
      ]
    },
    {
      "cell_type": "code",
      "execution_count": null,
      "metadata": {
        "id": "NrIDlzpAcIgV"
      },
      "outputs": [],
      "source": [
        "model.compile(loss = 'categorical_crossentropy',\n",
        "              optimizer = RMSprop(),\n",
        "              metrics = ['accuracy'])\n",
        "model.fit(X_train, Y_train, epochs=10, batch_size=200)\n",
        "score = model.evaluate(X_test, Y_test, verbose=0)\n",
        "print('Test loss:', score[0])\n",
        "print('Test accuracy:', score[1])"
      ]
    },
    {
      "cell_type": "code",
      "execution_count": null,
      "metadata": {
        "id": "I3lHEMagcIgW"
      },
      "outputs": [],
      "source": [
        "model = Sequential()\n",
        "af = 'relu'\n",
        "model.add(Dense(n_hidden, input_shape=input_shape, activation=af))\n",
        "model.add(Dense(n_hidden, activation=af))\n",
        "model.add(Dense(n_hidden, activation=af))\n",
        "model.add(Dense(n_hidden, activation=af))\n",
        "model.add(Dense(n_hidden, activation=af))\n",
        "model.add(Dense(n_out, activation='softmax'))"
      ]
    },
    {
      "cell_type": "code",
      "execution_count": null,
      "metadata": {
        "id": "UDW8tjcqcIgW"
      },
      "outputs": [],
      "source": [
        "model.compile(loss = 'categorical_crossentropy',\n",
        "              optimizer = RMSprop(),\n",
        "              metrics = ['accuracy'])\n",
        "model.fit(X_train, Y_train, epochs=10, batch_size=200)\n",
        "score = model.evaluate(X_test, Y_test, verbose=0)\n",
        "print('Test loss:', score[0])\n",
        "print('Test accuracy:', score[1])"
      ]
    },
    {
      "cell_type": "markdown",
      "metadata": {
        "id": "vYiBXrRwcIgX"
      },
      "source": [
        "dropoutを入れてみます。学習データとテストデータの正解率の差に注目してください。"
      ]
    },
    {
      "cell_type": "code",
      "execution_count": null,
      "metadata": {
        "id": "QsqZY8OtcIgX"
      },
      "outputs": [],
      "source": [
        "model = Sequential()\n",
        "af = 'relu'\n",
        "model.add(Dense(n_hidden, input_shape=input_shape, activation=af))\n",
        "model.add(Dropout(0.5))\n",
        "model.add(Dense(n_hidden, activation=af))\n",
        "model.add(Dropout(0.5))\n",
        "model.add(Dense(n_hidden, activation=af))\n",
        "model.add(Dropout(0.5))\n",
        "model.add(Dense(n_hidden, activation=af))\n",
        "model.add(Dropout(0.5))\n",
        "model.add(Dense(n_hidden, activation=af))\n",
        "model.add(Dropout(0.5))\n",
        "model.add(Dense(n_out, activation='softmax'))\n",
        "model.summary()"
      ]
    },
    {
      "cell_type": "code",
      "execution_count": null,
      "metadata": {
        "id": "LST3ERUgcIgX"
      },
      "outputs": [],
      "source": [
        "model.compile(loss = 'categorical_crossentropy',\n",
        "              optimizer = SGD(lr=0.1),\n",
        "              metrics = ['accuracy'])\n",
        "model.fit(X_train, Y_train, epochs=20, batch_size=200)\n",
        "score = model.evaluate(X_test, Y_test, verbose=0)\n",
        "print('Test loss:', score[0])\n",
        "print('Test accuracy:', score[1])"
      ]
    },
    {
      "cell_type": "code",
      "source": [],
      "metadata": {
        "id": "8VmbEuiVce1o"
      },
      "execution_count": null,
      "outputs": []
    }
  ],
  "metadata": {
    "kernelspec": {
      "display_name": "Python 3",
      "language": "python",
      "name": "python3"
    },
    "language_info": {
      "codemirror_mode": {
        "name": "ipython",
        "version": 3
      },
      "file_extension": ".py",
      "mimetype": "text/x-python",
      "name": "python",
      "nbconvert_exporter": "python",
      "pygments_lexer": "ipython3",
      "version": "3.6.4"
    },
    "colab": {
      "provenance": [],
      "include_colab_link": true
    },
    "accelerator": "GPU"
  },
  "nbformat": 4,
  "nbformat_minor": 0
}