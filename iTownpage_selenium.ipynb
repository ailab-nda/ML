{
  "cells": [
    {
      "cell_type": "markdown",
      "metadata": {
        "id": "view-in-github",
        "colab_type": "text"
      },
      "source": [
        "<a href=\"https://colab.research.google.com/github/ailab-nda/ML/blob/main/iTownpage_selenium.ipynb\" target=\"_parent\"><img src=\"https://colab.research.google.com/assets/colab-badge.svg\" alt=\"Open In Colab\"/></a>"
      ]
    },
    {
      "cell_type": "markdown",
      "metadata": {
        "id": "EyGhwxO0O-Ss"
      },
      "source": [
        "# iタウンページからの緯度経度情報の抽出"
      ]
    },
    {
      "cell_type": "markdown",
      "metadata": {
        "id": "6YlKu5XSO-Su"
      },
      "source": [
        "### (1) 必要なライブラリの取得とインポート"
      ]
    },
    {
      "cell_type": "code",
      "execution_count": null,
      "metadata": {
        "id": "5A9luuFgO-Su"
      },
      "outputs": [],
      "source": [
        "import os\n",
        "os.environ[\"https_proxy\"] = \"http://cmproxy.nda.ac.jp:8080\"\n",
        "!pip install selenium --trusted-host pypi.python.org --trusted-host files.pythonhosted.org --trusted-host pypi.org"
      ]
    },
    {
      "cell_type": "code",
      "execution_count": null,
      "metadata": {
        "id": "rMo_eEewO-Sv"
      },
      "outputs": [],
      "source": [
        "from selenium import webdriver\n",
        "from selenium.webdriver.common.by import By\n",
        "from selenium.webdriver.chrome.options import Options\n",
        "from selenium.webdriver.support.ui import WebDriverWait\n",
        "from selenium.webdriver.support import expected_conditions as EC\n",
        "\n",
        "import re\n",
        "import pandas as pd\n",
        "from datetime import datetime, timedelta\n",
        "import urllib.parse\n",
        "\n",
        "import json\n",
        "import time\n",
        "import random"
      ]
    },
    {
      "cell_type": "markdown",
      "metadata": {
        "id": "i6S0kriFO-Sv"
      },
      "source": [
        "### (2) iタウンページへのアクセス\n",
        "下記ボックス内の search_words, search_area に検索したい言葉と場所を設定してください。search_words にはスペース区切りで複数の単語を並べることが可能です。"
      ]
    },
    {
      "cell_type": "code",
      "execution_count": null,
      "metadata": {
        "id": "Xatx5hofO-Sv"
      },
      "outputs": [],
      "source": [
        "iTownPage = \"https://itp.ne.jp\"\n",
        "headers = headers={'User-Agent': 'Mozilla/5.0 (Windows NT 10.0; Win64; x64) AppleWebKit/537.36 (KHTML, like Gecko) Chrome/71.0.3578.98 Safari/537.36'}\n",
        "\n",
        "search_words = 'ラーメン'\n",
        "search_area = '横須賀市'\n",
        "\n",
        "url = iTownPage + '/keyword/?keyword=' + search_words + '&areaword=' + search_area + '&sort=01&sbmap=false'\n",
        "url"
      ]
    },
    {
      "cell_type": "code",
      "execution_count": null,
      "metadata": {
        "id": "FdOw4GvkO-Sv"
      },
      "outputs": [],
      "source": [
        "# ブラウザを実行\n",
        "options = webdriver.ChromeOptions()\n",
        "#ヘッドレスモード（バックグラウンドで起動）で実行。コラボの場合、必須。\n",
        "#options.add_argument('--headless')\n",
        "#サンドボックスモードの解除。これも必須。\n",
        "options.add_argument('--no-sandbox')\n",
        "#これも設定した方がよい。\n",
        "options.add_argument('--disable-dev-shm-usage')"
      ]
    },
    {
      "cell_type": "code",
      "execution_count": null,
      "metadata": {
        "id": "Vj3hm9neO-Sv"
      },
      "outputs": [],
      "source": [
        "#インスタンス化\n",
        "driver = webdriver.Chrome(options=options)\n",
        "#指定したドライバーが見つかるまで待機\n",
        "driver.implicitly_wait(10)\n",
        "# ページの取得\n",
        "driver.get(url)"
      ]
    },
    {
      "cell_type": "code",
      "execution_count": null,
      "metadata": {
        "scrolled": true,
        "id": "zE1RO9wmO-Sv"
      },
      "outputs": [],
      "source": [
        "res = driver.find_element(By.ID, \"comp-lgurnb931\")\n",
        "hits = int(res.text[:-1])\n",
        "print(\"「\", search_area, \"」に\", hits, \"件の「\", search_words, \"」が見つかりました\", sep=\"\")"
      ]
    },
    {
      "cell_type": "markdown",
      "metadata": {
        "id": "UTS1B2ItO-Sw"
      },
      "source": [
        "### (3) 必要な情報の抽出"
      ]
    },
    {
      "cell_type": "code",
      "execution_count": null,
      "metadata": {
        "id": "5-xBUahvO-Sw"
      },
      "outputs": [],
      "source": [
        "cols = ['name', 'tel', 'address', 'lon', 'lat', 'lon_Tokyo', 'lat_Tokyo']\n",
        "df = pd.DataFrame(columns=cols)\n",
        "\n",
        "for i in range(0, hits, 20):\n",
        "    url2 = 'https://itp.ne.jp/keyword/?area=&areaword=' + search_area + '&keyword=' + search_words + '&sbmap=false&sort=01&from=' + str(i)\n",
        "    print(url2)\n",
        "    driver.get(url2)\n",
        "    for j in range(200):\n",
        "        driver.execute_script('window.scrollBy(0, 20);')\n",
        "        time.sleep(0.1)\n",
        "    response = driver.find_element(By.ID, \"wix-warmup-data\")\n",
        "    json_text = response.get_attribute('innerHTML')\n",
        "    json_data = json.loads(json_text)\n",
        "    di = json_data['appsWarmupData']['675bbcef-18d8-41f5-800e-131ec9e08762']\n",
        "    dj = di[list(di.keys())[1]]['body']['hits']['hits']\n",
        "    for j in dj:\n",
        "        k = j['_source']['ki']\n",
        "        l = [k['name'], k['tel1'], k['jusyo']+k['jyusyo_banti'], k['location_w'][0], k['location_w'][1], k['location'][0], k['location'][1]]\n",
        "        #print(l)\n",
        "        df2 = pd.DataFrame(l).T\n",
        "        df2.columns = cols\n",
        "        df = pd.concat([df, df2])"
      ]
    },
    {
      "cell_type": "markdown",
      "metadata": {
        "id": "wTjJZtj5O-Sw"
      },
      "source": [
        "### (4) 抽出結果の確認"
      ]
    },
    {
      "cell_type": "code",
      "execution_count": null,
      "metadata": {
        "id": "lxRWRiVcO-Sw"
      },
      "outputs": [],
      "source": [
        "df"
      ]
    },
    {
      "cell_type": "markdown",
      "metadata": {
        "id": "3ystJDP_O-Sw"
      },
      "source": [
        "### (5) 結果をファイルへ出力\n",
        "このファイルと同じ場所に「検索語_検索場所.csv」というファイルができる。"
      ]
    },
    {
      "cell_type": "code",
      "execution_count": null,
      "metadata": {
        "id": "D7rDsNYWO-Sw"
      },
      "outputs": [],
      "source": [
        "df.to_csv('_'.join(search_words.split()) + '_' + search_area + '.csv', index=False, encoding=\"cp932\")"
      ]
    },
    {
      "cell_type": "code",
      "execution_count": null,
      "metadata": {
        "id": "7XiehHEUO-Sw"
      },
      "outputs": [],
      "source": []
    }
  ],
  "metadata": {
    "kernelspec": {
      "display_name": "Python 3",
      "language": "python",
      "name": "python3"
    },
    "language_info": {
      "codemirror_mode": {
        "name": "ipython",
        "version": 3
      },
      "file_extension": ".py",
      "mimetype": "text/x-python",
      "name": "python",
      "nbconvert_exporter": "python",
      "pygments_lexer": "ipython3",
      "version": "3.9.11"
    },
    "vscode": {
      "interpreter": {
        "hash": "dcf9e2717909001467cf879b1089e6e80dddbfb5060f305c8aadf7a9adff89a8"
      }
    },
    "colab": {
      "provenance": [],
      "include_colab_link": true
    }
  },
  "nbformat": 4,
  "nbformat_minor": 0
}