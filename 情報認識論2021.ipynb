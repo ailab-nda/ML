{
  "nbformat": 4,
  "nbformat_minor": 0,
  "metadata": {
    "colab": {
      "name": "情報認識論2021.ipynb",
      "provenance": [],
      "authorship_tag": "ABX9TyNHyGj2+wOF8T3XqwI7ThdO",
      "include_colab_link": true
    },
    "kernelspec": {
      "name": "python3",
      "display_name": "Python 3"
    },
    "language_info": {
      "name": "python"
    },
    "accelerator": "GPU"
  },
  "cells": [
    {
      "cell_type": "markdown",
      "metadata": {
        "id": "view-in-github",
        "colab_type": "text"
      },
      "source": [
        "<a href=\"https://colab.research.google.com/github/ailab-nda/NLP/blob/main/%E6%83%85%E5%A0%B1%E8%AA%8D%E8%AD%98%E8%AB%962021.ipynb\" target=\"_parent\"><img src=\"https://colab.research.google.com/assets/colab-badge.svg\" alt=\"Open In Colab\"/></a>"
      ]
    },
    {
      "cell_type": "markdown",
      "source": [
        "# 情報認識論試験問題\n",
        "\n",
        "以下の問題について解答し、結果を提出してください。なお、解答については文章はテキストセルに、プログラムに関してはコードセルに記入すること。また、結果の提出については、この画面の左上の「ファイル」メニュー内にある「ダウンロード」->「.ipynbをダウンロード」で自分のマシンにダウンロードできるので、それを各自の学内メールに添付してください。"
      ],
      "metadata": {
        "id": "6cmZnSwSLFS3"
      }
    },
    {
      "cell_type": "markdown",
      "source": [
        "#1. ニューラルネット"
      ],
      "metadata": {
        "id": "ODyLb4xYbntN"
      }
    },
    {
      "cell_type": "markdown",
      "source": [
        "(1) ニューラルネットを学習させる際に用いられる「誤差逆伝播法」について説明せよ。"
      ],
      "metadata": {
        "id": "YLIIJrSYnOqk"
      }
    },
    {
      "cell_type": "markdown",
      "source": [
        "【解答欄】"
      ],
      "metadata": {
        "id": "KZjkG9Kjgah7"
      }
    },
    {
      "cell_type": "markdown",
      "source": [
        "(2) 誤差逆伝播法では、微分操作が必要となる。以下のネットワークを考える。\n",
        "\n",
        "- 入力層：$x = (x_1, x_2, ..., x_i, ..., x_n)$\n",
        "- 第１層：$y = x + 2$\n",
        "- 第２層：$z = y \\odot y \\times 3$ (注：$\\odot$ はアダマール積（成分ごとの積）)\n",
        "- 出力層：$out = mean(z)$ （$z_i$の平均値）\n",
        "\n",
        "このとき、出力値に対する入力値の微分\n",
        "$\\frac{\\partial}{\\partial x_{i}}out$ を計算せよ。"
      ],
      "metadata": {
        "id": "77dp7gAXnRBb"
      }
    },
    {
      "cell_type": "markdown",
      "source": [
        "【解答欄】\n",
        "$$ \\frac{\\partial}{\\partial x_{i}}out = ここに数式を書く $$"
      ],
      "metadata": {
        "id": "OjLlN_fTqz8b"
      }
    },
    {
      "cell_type": "markdown",
      "source": [
        "(3) $x = (1, 2, 3, 4)$ となった時の、$\\frac{\\partial}{\\partial x}out$ を求めよ。\n",
        "\n",
        "\n",
        "\n"
      ],
      "metadata": {
        "id": "phtg8M7krqms"
      }
    },
    {
      "cell_type": "markdown",
      "source": [
        "【解答欄】\n",
        "$$\n",
        "(\\frac{\\partial}{\\partial x_1}out, \\frac{\\partial}{\\partial x_2}out, \\frac{\\partial}{\\partial x_3}out, \\frac{\\partial}{\\partial x_4}out) = ここに数値を書く\n",
        "$$"
      ],
      "metadata": {
        "id": "GsNAWVVjs2Qa"
      }
    },
    {
      "cell_type": "markdown",
      "source": [
        "# 2. Pytorch"
      ],
      "metadata": {
        "id": "qL0toXT4gh5p"
      }
    },
    {
      "cell_type": "markdown",
      "source": [
        "(1) 本講義では、ニューラルネットの実装に Pytorch を用いたが、そこで用いられる基本的なデータ構造に「テンソル」がある。テンソルとはどのようなもので、ニューラルネットにおいてはどのように使われるかを説明せよ。"
      ],
      "metadata": {
        "id": "sO9UUc6-jlIN"
      }
    },
    {
      "cell_type": "markdown",
      "source": [
        "【解答欄】\n",
        "ここに記述"
      ],
      "metadata": {
        "id": "OqNO6JVXhJxX"
      }
    },
    {
      "cell_type": "markdown",
      "source": [
        "(2) 2 x 2 のリスト [[1, 2], [3, 4]] からテンソルを作り、x という変数に代入せよ。\n",
        "\n",
        "（ヒント：テンソルの作成には、torch.Tensor() を用いる）"
      ],
      "metadata": {
        "id": "KGJ5jPPDjoKB"
      }
    },
    {
      "cell_type": "code",
      "source": [
        "import torch\n",
        "\n",
        "l =  # ここにリストを書く\n",
        "print(\"list: \", l)\n",
        "\n",
        "x =  # ここでテンソルに変換するコードを書く\n",
        "print(\"x: \", x)"
      ],
      "metadata": {
        "id": "ngbYUPAhkJfR"
      },
      "execution_count": null,
      "outputs": []
    },
    {
      "cell_type": "markdown",
      "source": [
        "Pytorch には微分を自動で行なってくれるため、上記の誤差逆伝播法が簡単に実行できる。そのためには、テンソルの requires_grad 属性を True にしておく必要がある。\n"
      ],
      "metadata": {
        "id": "akQe4m2rMfV6"
      }
    },
    {
      "cell_type": "code",
      "execution_count": null,
      "metadata": {
        "id": "i14tjo3KK94e"
      },
      "outputs": [],
      "source": [
        "x.requires_grad = True # これはそのまま実行してください。"
      ]
    },
    {
      "cell_type": "markdown",
      "source": [
        "(3) 問１でのネットワークをテンソル x を用いて構築せよ。"
      ],
      "metadata": {
        "id": "lTNZhb36t56a"
      }
    },
    {
      "cell_type": "code",
      "source": [
        "y = # ここを自分で埋める\n",
        "z = # ここも自分で埋める埋める\n",
        "out = z.mean() # ここはここは (z1+z2+z3+z4)/4 でもいいですが、平均なので専用関数があります。"
      ],
      "metadata": {
        "id": "GjqF9v1dQyKk"
      },
      "execution_count": null,
      "outputs": []
    },
    {
      "cell_type": "markdown",
      "source": [
        "(4) backword()関数を用いて、out に対する x の微分値を求めよ。"
      ],
      "metadata": {
        "id": "e2-lznBqutNZ"
      }
    },
    {
      "cell_type": "code",
      "source": [
        "out.backward() # これで逆伝播を行う\n",
        "x.grad # x の grad 属性に微分値が格納される"
      ],
      "metadata": {
        "id": "TnJlrRglQ6qj"
      },
      "execution_count": null,
      "outputs": []
    },
    {
      "cell_type": "markdown",
      "source": [
        "# 3. Pytorch を用いた実例\n",
        "\n",
        "ラーメンは今や世界各国で食べられています。ここでは、メーカー（Brand）, 形態＝袋麺/カップ麺（Style）, 生産国（Country）から星の数＝美味しさ（Stars）を予測します。\n",
        "\n",
        "注：前置きが長いです。問題は一番下にあります。"
      ],
      "metadata": {
        "id": "WD5ozuKQwTbg"
      }
    },
    {
      "cell_type": "code",
      "source": [
        "# ライブラリのインポート\n",
        "import numpy as np\n",
        "import pandas as pd \n",
        "import matplotlib.pyplot as plt\n",
        "import seaborn as sns \n",
        " \n",
        "# PyTorchのインポート\n",
        "import torch \n",
        "import torch.nn as nn\n",
        " \n",
        "# 評価指標（Scikit-learn）\n",
        "from sklearn.metrics import mean_squared_error"
      ],
      "metadata": {
        "id": "HPa0DaEnQ71K"
      },
      "execution_count": null,
      "outputs": []
    },
    {
      "cell_type": "markdown",
      "source": [
        "### データの取得\n",
        "\n",
        "元ネタ：https://www.kaggle.com/residentmario/ramen-ratings"
      ],
      "metadata": {
        "id": "Z0PAMqwhyPo1"
      }
    },
    {
      "cell_type": "code",
      "source": [
        "!curl https://raw.githubusercontent.com/ailab-nda/NLP/main/ramen-ratings.csv > ramen-ratings.csv"
      ],
      "metadata": {
        "id": "ZMXT_xbsx6Ea"
      },
      "execution_count": null,
      "outputs": []
    },
    {
      "cell_type": "markdown",
      "source": [
        "ダウンロードしたデータの読み込み"
      ],
      "metadata": {
        "id": "_2cTxvXLysFE"
      }
    },
    {
      "cell_type": "code",
      "source": [
        "ramen = pd.read_csv('ramen-ratings.csv')"
      ],
      "metadata": {
        "id": "aTNjjDLgRySG"
      },
      "execution_count": null,
      "outputs": []
    },
    {
      "cell_type": "markdown",
      "source": [
        "###データの確認\n",
        "（最初の5行を表示）"
      ],
      "metadata": {
        "id": "kG3qOIKKyzic"
      }
    },
    {
      "cell_type": "code",
      "source": [
        "ramen.head()"
      ],
      "metadata": {
        "id": "8tpWlNAnyUfr"
      },
      "execution_count": null,
      "outputs": []
    },
    {
      "cell_type": "markdown",
      "source": [
        "データのサイズ確認"
      ],
      "metadata": {
        "id": "UKmy25Sqy57g"
      }
    },
    {
      "cell_type": "code",
      "source": [
        "ramen.shape"
      ],
      "metadata": {
        "id": "B4KWnlCVyYuz"
      },
      "execution_count": null,
      "outputs": []
    },
    {
      "cell_type": "markdown",
      "source": [
        "ラーメンの国別登録数の確認"
      ],
      "metadata": {
        "id": "P8q7tYg9y8U3"
      }
    },
    {
      "cell_type": "code",
      "source": [
        "ramen['Country'].value_counts()[0:10]"
      ],
      "metadata": {
        "id": "5RVnm9bCydQz"
      },
      "execution_count": null,
      "outputs": []
    },
    {
      "cell_type": "markdown",
      "source": [
        "未評価（Unrated）のラーメンを除外"
      ],
      "metadata": {
        "id": "l53BO5tdzE-p"
      }
    },
    {
      "cell_type": "code",
      "source": [
        "mask = ramen.index[ramen['Stars'] == 'Unrated']\n",
        "ramen = ramen.drop(index = mask)\n",
        "ramen.shape"
      ],
      "metadata": {
        "id": "fBSz-_0iyhp8"
      },
      "execution_count": null,
      "outputs": []
    },
    {
      "cell_type": "markdown",
      "source": [
        "Stars の欄が文字になっていので、数値に変換します。"
      ],
      "metadata": {
        "id": "UdaOYRMjzR-8"
      }
    },
    {
      "cell_type": "code",
      "source": [
        "# Starsのデータ型を確認\n",
        "print(ramen['Stars'].dtype)\n",
        " \n",
        "# float型へ変換\n",
        "ramen['Stars'] = ramen['Stars'].astype(float)\n",
        " \n",
        "# 改めてデータ型を確認\n",
        "print(ramen['Stars'].dtype)"
      ],
      "metadata": {
        "id": "PExsHni3zJPU"
      },
      "execution_count": null,
      "outputs": []
    },
    {
      "cell_type": "markdown",
      "source": [
        "不要な列（レビュー番号、商品名、トップ１０、は使いません）の削除"
      ],
      "metadata": {
        "id": "XTBPJNwhzeue"
      }
    },
    {
      "cell_type": "code",
      "source": [
        "ramen = ramen.drop(columns=['Review #', 'Top Ten', 'Variety'])\n",
        "ramen.head()"
      ],
      "metadata": {
        "id": "XiyD7I1Szbcy"
      },
      "execution_count": null,
      "outputs": []
    },
    {
      "cell_type": "markdown",
      "source": [
        "特徴量のダミー変数化（カテゴリ変数を０、１で表現します。具体的には下の実行例を見てください）。"
      ],
      "metadata": {
        "id": "mwqaVJwwzrvs"
      }
    },
    {
      "cell_type": "code",
      "source": [
        "Country = pd.get_dummies(ramen['Country'], prefix='Country', drop_first=True)\n",
        "Brand = pd.get_dummies(ramen['Brand'], prefix='Brand',drop_first=True)\n",
        "Style = pd.get_dummies(ramen['Style'], prefix='Style',drop_first=True)\n",
        " \n",
        "# ダミー変数化した特徴量を結合\n",
        "ramendf = pd.concat([Country, Brand,Style], axis=1)\n",
        " \n",
        "# 確認\n",
        "ramendf.head()"
      ],
      "metadata": {
        "id": "smomAjFdzoC0"
      },
      "execution_count": null,
      "outputs": []
    },
    {
      "cell_type": "markdown",
      "source": [
        "データを特徴量（X:ベクトル）と目的変数(y: スカラー）へ分割"
      ],
      "metadata": {
        "id": "7joKHk2uzw0l"
      }
    },
    {
      "cell_type": "code",
      "source": [
        "X = np.array(ramendf, dtype=np.float32) \n",
        "y = np.array(ramen[['Stars']], dtype=np.float32)"
      ],
      "metadata": {
        "id": "8V73ul3GzxyA"
      },
      "execution_count": null,
      "outputs": []
    },
    {
      "cell_type": "markdown",
      "source": [
        "## モデルの作成"
      ],
      "metadata": {
        "id": "9720We27z8b-"
      }
    },
    {
      "cell_type": "code",
      "source": [
        "# モデル\n",
        "model = nn.Linear(397, 1)\n",
        "\n",
        "# 損失関数\n",
        "loss = nn.MSELoss()\n",
        " \n",
        "# 最適化関数\n",
        "optimizer = torch.optim.SGD(model.parameters(), lr=0.6)"
      ],
      "metadata": {
        "id": "DIoww3zQz-eK"
      },
      "execution_count": null,
      "outputs": []
    },
    {
      "cell_type": "markdown",
      "source": [
        "モデルの学習"
      ],
      "metadata": {
        "id": "QW3f3fzG0I9c"
      }
    },
    {
      "cell_type": "code",
      "source": [
        "for epoch in range(1000):\n",
        "    # ステージ1 Numpy配列からテンソルへ変換\n",
        "    inputs = torch.from_numpy(X)\n",
        "    targets = torch.from_numpy(y)\n",
        "\n",
        "    # ステージ2 推測値を出力して誤差（コスト）を算出\n",
        "    outputs = model(inputs)\n",
        "    cost = loss(outputs, targets)\n",
        "    # ステージ3 誤差逆伝播（バックプロパゲーション）\n",
        "    optimizer.zero_grad()\n",
        "    cost.backward()\n",
        "    optimizer.step()\n",
        "    # ステージ4 50回毎にコストを表示\n",
        "    if (epoch+1) % 100 == 0:\n",
        "        print('Epoch [{}/{}], Loss: {:.4f}'.format(epoch+1, 1000, cost.item()))"
      ],
      "metadata": {
        "id": "xJXvf7_i0KnL"
      },
      "execution_count": null,
      "outputs": []
    },
    {
      "cell_type": "markdown",
      "source": [
        "予測値の出力"
      ],
      "metadata": {
        "id": "7NKcDfts0dKM"
      }
    },
    {
      "cell_type": "code",
      "source": [
        "y_pred = model(torch.from_numpy(X)).data.numpy()\n",
        "\n",
        "#最初の５つを確認\n",
        "print(y_pred[0:5]) #予測値\n",
        "print(y[0:5]) #本当の値"
      ],
      "metadata": {
        "id": "9yapkGXo0WE3"
      },
      "execution_count": null,
      "outputs": []
    },
    {
      "cell_type": "markdown",
      "source": [
        "予測の平均二乗誤差を確認"
      ],
      "metadata": {
        "id": "hkNMHLy40sy6"
      }
    },
    {
      "cell_type": "code",
      "source": [
        "mean_squared_error(y, y_pred)"
      ],
      "metadata": {
        "id": "4jhkcDib0ooR"
      },
      "execution_count": null,
      "outputs": []
    },
    {
      "cell_type": "markdown",
      "source": [
        "### 問題\n",
        "「日清が、タイで販売する、袋麺」の星の数はどれくらいと予想されるか？"
      ],
      "metadata": {
        "id": "yaCRsAsd02zF"
      }
    },
    {
      "cell_type": "code",
      "source": [
        "## ここで解答プログラムを実行"
      ],
      "metadata": {
        "id": "lBNwwV6X1jWe"
      },
      "execution_count": null,
      "outputs": []
    }
  ]
}