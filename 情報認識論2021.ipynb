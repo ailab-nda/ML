{
  "nbformat": 4,
  "nbformat_minor": 0,
  "metadata": {
    "colab": {
      "name": "情報認識論2021.ipynb",
      "provenance": [],
      "authorship_tag": "ABX9TyOfRrXD/p1yYM2bc1eM6GgL",
      "include_colab_link": true
    },
    "kernelspec": {
      "name": "python3",
      "display_name": "Python 3"
    },
    "language_info": {
      "name": "python"
    },
    "accelerator": "GPU"
  },
  "cells": [
    {
      "cell_type": "markdown",
      "metadata": {
        "id": "view-in-github",
        "colab_type": "text"
      },
      "source": [
        "<a href=\"https://colab.research.google.com/github/ailab-nda/NLP/blob/main/%E6%83%85%E5%A0%B1%E8%AA%8D%E8%AD%98%E8%AB%962021.ipynb\" target=\"_parent\"><img src=\"https://colab.research.google.com/assets/colab-badge.svg\" alt=\"Open In Colab\"/></a>"
      ]
    },
    {
      "cell_type": "markdown",
      "source": [
        "# 情報認識論試験問題\n",
        "\n",
        "以下の問題について解答し、結果を提出してください。なお、解答については文章はテキストセルに、プログラムに関してはコードセルに記入すること。また、結果の提出については、この画面の左上の「ファイル」メニュー内にある「ダウンロード」->「.ipynbをダウンロード」で自分のマシンにダウンロードできるので、それを各自の学内メールに添付してください。"
      ],
      "metadata": {
        "id": "6cmZnSwSLFS3"
      }
    },
    {
      "cell_type": "markdown",
      "source": [
        "#1. ニューラルネット"
      ],
      "metadata": {
        "id": "ODyLb4xYbntN"
      }
    },
    {
      "cell_type": "markdown",
      "source": [
        "(1) ニューラルネットを学習させる際に用いられる「誤差逆伝播法」について説明せよ。"
      ],
      "metadata": {
        "id": "YLIIJrSYnOqk"
      }
    },
    {
      "cell_type": "markdown",
      "source": [
        "【解答欄】"
      ],
      "metadata": {
        "id": "KZjkG9Kjgah7"
      }
    },
    {
      "cell_type": "markdown",
      "source": [
        "(2) 誤差逆伝播法では、微分操作が必要となる。以下のネットワークを考える。\n",
        "\n",
        "- 入力層：$x = (x_1, x_2, ..., x_i, ..., x_n)$\n",
        "- 第１層：$y = x + 2$\n",
        "- 第２層：$z = y \\odot y \\times 3$ (注：$\\odot$ はアダマール積（成分ごとの積）)\n",
        "- 出力層：$out = mean(z)$ （$z_i$の平均値）\n",
        "\n",
        "このとき、出力値に対する入力値の微分\n",
        "$\\frac{\\partial}{\\partial x_{i}}out$ を計算せよ。"
      ],
      "metadata": {
        "id": "77dp7gAXnRBb"
      }
    },
    {
      "cell_type": "markdown",
      "source": [
        "【解答欄】\n",
        "$$ \\frac{\\partial}{\\partial x_{i}}out = ここに数式を書く $$"
      ],
      "metadata": {
        "id": "OjLlN_fTqz8b"
      }
    },
    {
      "cell_type": "markdown",
      "source": [
        "(3) $x = (1, 2, 3, 4)$ となった時の、$\\frac{\\partial}{\\partial x}out$ を求めよ。\n",
        "\n",
        "\n",
        "\n"
      ],
      "metadata": {
        "id": "phtg8M7krqms"
      }
    },
    {
      "cell_type": "markdown",
      "source": [
        "【解答欄】\n",
        "$$\n",
        "(\\frac{\\partial}{\\partial x_1}out, \\frac{\\partial}{\\partial x_2}out, \\frac{\\partial}{\\partial x_3}out, \\frac{\\partial}{\\partial x_4}out) = ここに数値を書く\n",
        "$$"
      ],
      "metadata": {
        "id": "GsNAWVVjs2Qa"
      }
    },
    {
      "cell_type": "markdown",
      "source": [
        "# 2. Pytorch"
      ],
      "metadata": {
        "id": "qL0toXT4gh5p"
      }
    },
    {
      "cell_type": "markdown",
      "source": [
        "(1) 本講義では、ニューラルネットの実装に Pytorch を用いたが、そこで用いられる基本的なデータ構造に「テンソル」がある。テンソルとはどのようなもので、ニューラルネットにおいてはどのように使われるかを説明せよ。"
      ],
      "metadata": {
        "id": "sO9UUc6-jlIN"
      }
    },
    {
      "cell_type": "markdown",
      "source": [
        "【解答欄】"
      ],
      "metadata": {
        "id": "OqNO6JVXhJxX"
      }
    },
    {
      "cell_type": "markdown",
      "source": [
        "(2) 2 x 2 のリスト [[1, 2], [3, 4]] からテンソルを作り、x という変数に代入せよ。\n",
        "\n",
        "（ヒント：テンソルの作成には、torch.Tensor() を用いる）"
      ],
      "metadata": {
        "id": "KGJ5jPPDjoKB"
      }
    },
    {
      "cell_type": "code",
      "source": [
        "import torch\n",
        "\n",
        "l = [[1, 2], [3, 4]]         # ここにリストを書く\n",
        "print(\"list: \", l)\n",
        "\n",
        "x = torch.Tensor(list)         # ここでテンソルに変換\n",
        "print(\"x: \", x)"
      ],
      "metadata": {
        "colab": {
          "base_uri": "https://localhost:8080/"
        },
        "id": "ngbYUPAhkJfR",
        "outputId": "da15ae2f-b337-4de4-b1f2-62d569f1441e"
      },
      "execution_count": 38,
      "outputs": [
        {
          "output_type": "stream",
          "name": "stdout",
          "text": [
            "list:  [[1, 2], [3, 4]]\n",
            "x:  tensor([[1., 2.],\n",
            "        [3., 4.]])\n"
          ]
        }
      ]
    },
    {
      "cell_type": "markdown",
      "source": [
        "Pytorch には微分を自動で行なってくれるため、上記の誤差逆伝播法が簡単に実行できる。そのためには、テンソルの requires_grad 属性を True にしておく必要がある。\n"
      ],
      "metadata": {
        "id": "akQe4m2rMfV6"
      }
    },
    {
      "cell_type": "code",
      "execution_count": 39,
      "metadata": {
        "id": "i14tjo3KK94e"
      },
      "outputs": [],
      "source": [
        "x.requires_grad = True # これはそのまま実行してください。"
      ]
    },
    {
      "cell_type": "markdown",
      "source": [
        "(3) 問１でのネットワークをテンソル x を用いて構築せよ。"
      ],
      "metadata": {
        "id": "lTNZhb36t56a"
      }
    },
    {
      "cell_type": "code",
      "source": [
        "y = x + 2# ここを自分で埋める\n",
        "z = y * y * 3# ここも自分で埋める埋める\n",
        "out = z.mean() # ここも自分で埋める"
      ],
      "metadata": {
        "id": "GjqF9v1dQyKk"
      },
      "execution_count": 40,
      "outputs": []
    },
    {
      "cell_type": "markdown",
      "source": [
        "(4) backword()関数を用いて、out に対する x の微分値を求めよ。"
      ],
      "metadata": {
        "id": "e2-lznBqutNZ"
      }
    },
    {
      "cell_type": "code",
      "source": [
        "out.backward() # これで逆伝播を行う\n",
        "x.grad # x の grad 属性に微分値が格納される"
      ],
      "metadata": {
        "colab": {
          "base_uri": "https://localhost:8080/"
        },
        "id": "TnJlrRglQ6qj",
        "outputId": "9d85c71b-5410-487a-d02f-ff56e0642114"
      },
      "execution_count": 41,
      "outputs": [
        {
          "output_type": "execute_result",
          "data": {
            "text/plain": [
              "tensor([[4.5000, 6.0000],\n",
              "        [7.5000, 9.0000]])"
            ]
          },
          "metadata": {},
          "execution_count": 41
        }
      ]
    },
    {
      "cell_type": "code",
      "source": [
        "if torch.cuda.is_available():\n",
        "    device = torch.device(\"cuda\")          # a CUDA device object\n",
        "    y = torch.ones_like(x, device=device)  # directly create a tensor on GPU\n",
        "    x = x.to(device)                       # or just use strings ``.to(\"cuda\")``\n",
        "    z = x + y\n",
        "    print(z)\n",
        "    print(z.to(\"cpu\", torch.double))    "
      ],
      "metadata": {
        "colab": {
          "base_uri": "https://localhost:8080/"
        },
        "id": "HPa0DaEnQ71K",
        "outputId": "5e106c9f-b97f-4c1b-d162-b7ea0ef903fb"
      },
      "execution_count": 6,
      "outputs": [
        {
          "output_type": "stream",
          "name": "stdout",
          "text": [
            "tensor([[1.1802e+26, 1.0000e+00, 1.0000e+00],\n",
            "        [1.0000e+00, 1.0000e+00, 1.0000e+00],\n",
            "        [1.0000e+00, 1.0000e+00, 1.0000e+00],\n",
            "        [1.0000e+00, 1.0000e+00, 1.0000e+00],\n",
            "        [1.0000e+00, 1.0000e+00, 1.0000e+00]], device='cuda:0')\n",
            "tensor([[1.1802e+26, 1.0000e+00, 1.0000e+00],\n",
            "        [1.0000e+00, 1.0000e+00, 1.0000e+00],\n",
            "        [1.0000e+00, 1.0000e+00, 1.0000e+00],\n",
            "        [1.0000e+00, 1.0000e+00, 1.0000e+00],\n",
            "        [1.0000e+00, 1.0000e+00, 1.0000e+00]], dtype=torch.float64)\n"
          ]
        }
      ]
    },
    {
      "cell_type": "code",
      "source": [
        ""
      ],
      "metadata": {
        "id": "aTNjjDLgRySG"
      },
      "execution_count": null,
      "outputs": []
    }
  ]
}