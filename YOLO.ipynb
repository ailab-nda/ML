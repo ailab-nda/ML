{
  "nbformat": 4,
  "nbformat_minor": 0,
  "metadata": {
    "colab": {
      "name": "YOLO.ipynb",
      "provenance": [],
      "authorship_tag": "ABX9TyMInysi4WfihQK6dxY9bCAl",
      "include_colab_link": true
    },
    "kernelspec": {
      "name": "python3",
      "display_name": "Python 3"
    },
    "language_info": {
      "name": "python"
    },
    "accelerator": "GPU"
  },
  "cells": [
    {
      "cell_type": "markdown",
      "metadata": {
        "id": "view-in-github",
        "colab_type": "text"
      },
      "source": [
        "<a href=\"https://colab.research.google.com/github/ailab-nda/NLP/blob/main/YOLO.ipynb\" target=\"_parent\"><img src=\"https://colab.research.google.com/assets/colab-badge.svg\" alt=\"Open In Colab\"/></a>"
      ]
    },
    {
      "cell_type": "markdown",
      "metadata": {
        "id": "oxuvoDfgz2_H"
      },
      "source": [
        "# YOLO による物体認識"
      ]
    },
    {
      "cell_type": "markdown",
      "metadata": {
        "id": "qQxQwYI8wLLE"
      },
      "source": [
        "## 準備"
      ]
    },
    {
      "cell_type": "markdown",
      "metadata": {
        "id": "zemAkBZM5ah2"
      },
      "source": [
        "### (1) ニューラルネット (Darknet) のインストール"
      ]
    },
    {
      "cell_type": "code",
      "metadata": {
        "id": "yeqlt_ciwE7Y"
      },
      "source": [
        "%%bash\n",
        "git clone https://github.com/pjreddie/darknet\n"
      ],
      "execution_count": null,
      "outputs": []
    },
    {
      "cell_type": "code",
      "metadata": {
        "id": "h0TVDcOO-Z_a"
      },
      "source": [
        "%%bash\n",
        "cd darknet\n",
        "make"
      ],
      "execution_count": null,
      "outputs": []
    },
    {
      "cell_type": "markdown",
      "metadata": {
        "id": "_ARyqhkMwYHl"
      },
      "source": [
        "### (2) YoLov3 の重みをダウンロード"
      ]
    },
    {
      "cell_type": "code",
      "metadata": {
        "id": "ex20qjIywKuI"
      },
      "source": [
        "%%bash\n",
        "cd ./darknet\n",
        "wget https://pjreddie.com/media/files/yolov3.weights"
      ],
      "execution_count": null,
      "outputs": []
    },
    {
      "cell_type": "markdown",
      "metadata": {
        "id": "mhp8mgubwh7F"
      },
      "source": [
        "## 物体認識"
      ]
    },
    {
      "cell_type": "markdown",
      "metadata": {
        "id": "gUVO14di390K"
      },
      "source": [
        "### (1) サンプルデータからの物体認識"
      ]
    },
    {
      "cell_type": "markdown",
      "metadata": {
        "id": "WzY7PlOu4nmx"
      },
      "source": [
        "物体認識と結果の表示"
      ]
    },
    {
      "cell_type": "code",
      "metadata": {
        "id": "GniJCuE2wXWK"
      },
      "source": [
        "%%bash\n",
        "cd ./darknet/\n",
        "./darknet detect cfg/yolov3.cfg yolov3.weights data/giraffe.jpg"
      ],
      "execution_count": null,
      "outputs": []
    },
    {
      "cell_type": "markdown",
      "metadata": {
        "id": "qs0XhwOL4BdG"
      },
      "source": [
        "認識結果の可視化"
      ]
    },
    {
      "cell_type": "code",
      "metadata": {
        "id": "9-vieu1OwhSC"
      },
      "source": [
        "from IPython.display import Image,display_jpeg\n",
        "display_jpeg(Image('darknet/predictions.jpg'))"
      ],
      "execution_count": null,
      "outputs": []
    },
    {
      "cell_type": "markdown",
      "metadata": {
        "id": "Td8BMaCd3i2l"
      },
      "source": [
        "### (2) 自分のデータで認識"
      ]
    },
    {
      "cell_type": "markdown",
      "metadata": {
        "id": "GC5aZinD4NuJ"
      },
      "source": [
        "写真を用意して左のファイルペインにドラッグアンドドロップ"
      ]
    },
    {
      "cell_type": "markdown",
      "metadata": {
        "id": "ApK94m8M4d-m"
      },
      "source": [
        "物体認識と結果の表示"
      ]
    },
    {
      "cell_type": "code",
      "metadata": {
        "id": "EqaVMsrh3qLN"
      },
      "source": [
        "%%bash\n",
        "cd ./darknet/\n",
        "./darknet detect cfg/yolov3.cfg yolov3.weights <自分のアップロードしたデータ>"
      ],
      "execution_count": null,
      "outputs": []
    },
    {
      "cell_type": "markdown",
      "metadata": {
        "id": "OoxNbokq4h6P"
      },
      "source": [
        "認識結果の可視化"
      ]
    },
    {
      "cell_type": "code",
      "metadata": {
        "id": "j_wAL88o36c0"
      },
      "source": [
        "display_jpeg(Image('darknet/predictions.jpg'))"
      ],
      "execution_count": null,
      "outputs": []
    }
  ]
}