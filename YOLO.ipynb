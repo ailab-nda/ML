{
  "nbformat": 4,
  "nbformat_minor": 0,
  "metadata": {
    "colab": {
      "name": "YOLO.ipynb",
      "provenance": [],
      "authorship_tag": "ABX9TyNC93KN/GnMcTgKP056q/YU",
      "include_colab_link": true
    },
    "kernelspec": {
      "name": "python3",
      "display_name": "Python 3"
    },
    "language_info": {
      "name": "python"
    },
    "accelerator": "GPU"
  },
  "cells": [
    {
      "cell_type": "markdown",
      "metadata": {
        "id": "view-in-github",
        "colab_type": "text"
      },
      "source": [
        "<a href=\"https://colab.research.google.com/github/ailab-nda/NLP/blob/main/YOLO.ipynb\" target=\"_parent\"><img src=\"https://colab.research.google.com/assets/colab-badge.svg\" alt=\"Open In Colab\"/></a>"
      ]
    },
    {
      "cell_type": "markdown",
      "metadata": {
        "id": "oxuvoDfgz2_H"
      },
      "source": [
        "# YOLO による物体認識"
      ]
    },
    {
      "cell_type": "markdown",
      "metadata": {
        "id": "qQxQwYI8wLLE"
      },
      "source": [
        "## (1) Darkent のインストール"
      ]
    },
    {
      "cell_type": "code",
      "metadata": {
        "id": "yeqlt_ciwE7Y"
      },
      "source": [
        "%%bash\n",
        "git clone https://github.com/pjreddie/darknet\n",
        "cd darknet\n",
        "make"
      ],
      "execution_count": null,
      "outputs": []
    },
    {
      "cell_type": "markdown",
      "metadata": {
        "id": "_ARyqhkMwYHl"
      },
      "source": [
        "## (2) YoLov3 のダウンロード"
      ]
    },
    {
      "cell_type": "code",
      "metadata": {
        "id": "ex20qjIywKuI"
      },
      "source": [
        "%%bash\n",
        "cd ./darknet\n",
        "wget https://pjreddie.com/media/files/yolov3.weights"
      ],
      "execution_count": null,
      "outputs": []
    },
    {
      "cell_type": "markdown",
      "metadata": {
        "id": "mhp8mgubwh7F"
      },
      "source": [
        "## (3) 物体認識"
      ]
    },
    {
      "cell_type": "code",
      "metadata": {
        "id": "GniJCuE2wXWK"
      },
      "source": [
        "%%bash\n",
        "cd ./darknet/\n",
        "./darknet detect cfg/yolov3.cfg yolov3.weights data/giraffe.jpg"
      ],
      "execution_count": null,
      "outputs": []
    },
    {
      "cell_type": "code",
      "metadata": {
        "id": "9-vieu1OwhSC"
      },
      "source": [
        "from IPython.display import Image,display_jpeg\n",
        "display_jpeg(Image('darknet/predictions.jpg'))"
      ],
      "execution_count": null,
      "outputs": []
    }
  ]
}